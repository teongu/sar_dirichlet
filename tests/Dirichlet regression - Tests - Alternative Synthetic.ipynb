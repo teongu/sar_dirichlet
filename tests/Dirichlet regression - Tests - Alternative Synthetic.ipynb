{
 "cells": [
  {
   "cell_type": "markdown",
   "metadata": {},
   "source": [
    "# Importing the packages and data"
   ]
  },
  {
   "cell_type": "code",
   "execution_count": 1,
   "metadata": {},
   "outputs": [],
   "source": [
    "%load_ext autoreload\n",
    "%autoreload 2"
   ]
  },
  {
   "cell_type": "code",
   "execution_count": 73,
   "metadata": {},
   "outputs": [],
   "source": [
    "import numpy as np\n",
    "import pandas as pd\n",
    "import matplotlib.pyplot as plt\n",
    "from mpl_toolkits import mplot3d\n",
    "import scipy\n",
    "from sklearn.metrics import r2_score\n",
    "from sklearn.metrics import mean_squared_error\n",
    "from scipy.special import gamma, digamma, polygamma\n",
    "import math\n",
    "\n",
    "from sklearn.neighbors import NearestNeighbors\n",
    "from sklearn.model_selection import train_test_split\n",
    "from sklearn.model_selection import KFold\n",
    "import random\n",
    "\n",
    "import scipy.optimize\n",
    "from scipy.optimize import Bounds\n",
    "from scipy import sparse\n",
    "\n",
    "from scipy.stats import ttest_ind"
   ]
  },
  {
   "cell_type": "code",
   "execution_count": 3,
   "metadata": {},
   "outputs": [],
   "source": [
    "from prettytable import PrettyTable"
   ]
  },
  {
   "cell_type": "code",
   "execution_count": 4,
   "metadata": {},
   "outputs": [],
   "source": [
    "plt.rcParams.update({\n",
    "    \"text.usetex\": True\n",
    "})"
   ]
  },
  {
   "cell_type": "code",
   "execution_count": 5,
   "metadata": {},
   "outputs": [],
   "source": [
    "import dirichlet_regression"
   ]
  },
  {
   "cell_type": "code",
   "execution_count": 48,
   "metadata": {},
   "outputs": [],
   "source": [
    "from scipy.optimize import fmin, newton, minimize, minimize_scalar, brute"
   ]
  },
  {
   "cell_type": "code",
   "execution_count": 7,
   "metadata": {},
   "outputs": [],
   "source": [
    "def f_spatial(x, X, Y, Z, W, epsilon=0):\n",
    "    K = X.shape[-1]\n",
    "    J = Y.shape[-1]\n",
    "    n = X.shape[0]\n",
    "    beta = x[:K*J].reshape((K,J))\n",
    "    beta[:,0] = 0\n",
    "    gamma_var = x[K*J:-1]\n",
    "    rho = x[-1]\n",
    "    Minv = np.linalg.inv(np.identity(n) - rho*W)\n",
    "    mu = dirichlet_regression.compute_mu_spatial_2(X, beta, rho=rho, W=W, Minv=Minv)\n",
    "    phi = np.exp(np.matmul(Z,gamma_var))\n",
    "    return -dirichlet_regression.dirichlet_loglikelihood(mu,phi,Y,epsilon=epsilon)"
   ]
  },
  {
   "cell_type": "code",
   "execution_count": 8,
   "metadata": {},
   "outputs": [],
   "source": [
    "def fprime_spatial(x, X, Y, Z, W, epsilon=0):\n",
    "    K = X.shape[-1]\n",
    "    J = Y.shape[-1]\n",
    "    n = X.shape[0]\n",
    "    beta = x[:K*J].reshape((K,J))\n",
    "    beta[:,0] = 0\n",
    "    gamma_var = x[K*J:-1]\n",
    "    rho = x[-1]\n",
    "    Minv = np.linalg.inv(np.identity(n) - rho*W)\n",
    "    MinvX = np.matmul(Minv,X)\n",
    "    mu = dirichlet_regression.compute_mu_spatial_2(X, beta, rho=rho, W=W, MinvX=MinvX)\n",
    "    phi = np.exp(np.matmul(Z,gamma_var))\n",
    "\n",
    "    beta_grad = dirichlet_regression.dirichlet_gradient_wrt_beta(mu, phi, MinvX, Y, epsilon=epsilon)\n",
    "    beta_grad[:,0] = 0\n",
    "    gamma_grad = dirichlet_regression.dirichlet_derivative_wrt_gamma(mu, phi, beta, MinvX, Y, Z, epsilon=epsilon)\n",
    "    rho_derivative = dirichlet_regression.dirichlet_derivative_wrt_rho(mu, phi, Minv, beta, W, X, Y, Z, MinvX, epsilon=epsilon)\n",
    "    return(-np.concatenate([beta_grad.flatten(),gamma_grad,[rho_derivative]]))"
   ]
  },
  {
   "cell_type": "code",
   "execution_count": 77,
   "metadata": {},
   "outputs": [],
   "source": [
    "def f_rho(rho, X, Y, Z, W, beta_gamma, epsilon=0):\n",
    "    K = X.shape[-1]\n",
    "    J = Y.shape[-1]\n",
    "    n = X.shape[0]\n",
    "    beta = beta_gamma[:K*J].reshape((K,J))\n",
    "    beta[:,0] = 0\n",
    "    gamma_var = beta_gamma[K*J:]\n",
    "    Minv = np.linalg.inv(np.identity(n) - rho*W)\n",
    "    #Minv = sparse.linalg.inv(sparse.csc_matrix(np.identity(n) - rho*W)).toarray()\n",
    "    #Minv = sparse.linalg.inv(sparse.csc_matrix(np.identity(n) - rho*W)).toarray()\n",
    "    mu = dirichlet_regression.compute_mu_spatial_2(X, beta, rho=rho, W=W, Minv=Minv)\n",
    "    phi = np.exp(np.matmul(Z,gamma_var))\n",
    "    return -dirichlet_regression.dirichlet_loglikelihood(mu,phi,Y,epsilon=epsilon)\n",
    "\n",
    "def fprime_rho(rho, X, Y, Z, W, beta_gamma, epsilon=0):\n",
    "    K = X.shape[-1]\n",
    "    J = Y.shape[-1]\n",
    "    n = X.shape[0]\n",
    "    beta = beta_gamma[:K*J].reshape((K,J))\n",
    "    beta[:,0] = 0\n",
    "    gamma_var = beta_gamma[K*J:]\n",
    "    Minv = np.linalg.inv(np.identity(n) - rho*W)\n",
    "    MinvX = np.matmul(Minv,X)\n",
    "    mu = dirichlet_regression.compute_mu_spatial_2(X, beta, rho=rho, W=W, MinvX=MinvX)\n",
    "    phi = np.exp(np.matmul(Z,gamma_var))\n",
    "\n",
    "    rho_derivative = dirichlet_regression.dirichlet_derivative_wrt_rho(mu, phi, Minv, beta, W, X, Y, Z, MinvX, epsilon=epsilon)\n",
    "    return(rho_derivative)"
   ]
  },
  {
   "cell_type": "code",
   "execution_count": 78,
   "metadata": {},
   "outputs": [
    {
     "name": "stdout",
     "output_type": "stream",
     "text": [
      "Wall time: 661 ms\n"
     ]
    },
    {
     "data": {
      "text/plain": [
       "     fun: -2830.6136560882915\n",
       " message: 'Solution found.'\n",
       "    nfev: 11\n",
       "  status: 0\n",
       " success: True\n",
       "       x: 0.21235592892617036"
      ]
     },
     "execution_count": 78,
     "metadata": {},
     "output_type": "execute_result"
    }
   ],
   "source": [
    "%%time\n",
    "solution_rho = minimize_scalar(f_rho, method='bounded', bounds=(-1,1), args=(X, Y, Z, W, solution_beta_gamma.x))\n",
    "solution_rho"
   ]
  },
  {
   "cell_type": "code",
   "execution_count": 10,
   "metadata": {},
   "outputs": [],
   "source": [
    "def f_beta_gamma(beta_gamma, X, Y, Z, W, rho, Minv, epsilon=0):\n",
    "    K = X.shape[-1]\n",
    "    J = Y.shape[-1]\n",
    "    n = X.shape[0]\n",
    "    beta = beta_gamma[:K*J].reshape((K,J))\n",
    "    beta[:,0] = 0\n",
    "    gamma_var = beta_gamma[K*J:]\n",
    "    mu = dirichlet_regression.compute_mu_spatial_2(X, beta, rho=rho, W=W, Minv=Minv)\n",
    "    phi = np.exp(np.matmul(Z,gamma_var))\n",
    "    return -dirichlet_regression.dirichlet_loglikelihood(mu,phi,Y,epsilon=epsilon)\n",
    "\n",
    "def fprime_beta_gamma(beta_gamma, X, Y, Z, W, rho, Minv, epsilon=0):\n",
    "    K = X.shape[-1]\n",
    "    J = Y.shape[-1]\n",
    "    n = X.shape[0]\n",
    "    beta = beta_gamma[:K*J].reshape((K,J))\n",
    "    beta[:,0] = 0\n",
    "    gamma_var = beta_gamma[K*J:]\n",
    "    \n",
    "    MinvX = np.matmul(Minv,X)\n",
    "    \n",
    "    mu = dirichlet_regression.compute_mu_spatial_2(X, beta, rho=rho, W=W, MinvX=MinvX)\n",
    "    phi = np.exp(np.matmul(Z,gamma_var))\n",
    "\n",
    "    beta_grad = dirichlet_regression.dirichlet_gradient_wrt_beta(mu, phi, MinvX, Y, epsilon=epsilon)\n",
    "    beta_grad[:,0] = 0\n",
    "    gamma_grad = dirichlet_regression.dirichlet_derivative_wrt_gamma(mu, phi, beta, MinvX, Y, Z, epsilon=epsilon)\n",
    "    return(-np.concatenate([beta_grad.flatten(),gamma_grad,]))"
   ]
  },
  {
   "cell_type": "code",
   "execution_count": 11,
   "metadata": {},
   "outputs": [],
   "source": [
    "def f_no_spatial(x, X, Y, Z, epsilon=0):\n",
    "    K = X.shape[-1]\n",
    "    J = Y.shape[-1]\n",
    "    beta = x[:K*J].reshape((K,J))\n",
    "    beta[:,0] = 0\n",
    "    gamma_var = x[K*J:]\n",
    "    mu = dirichlet_regression.compute_mu_3(X, beta)\n",
    "    phi = np.exp(np.matmul(Z,gamma_var))\n",
    "    return -dirichlet_regression.dirichlet_loglikelihood(mu,phi,Y,epsilon=epsilon)"
   ]
  },
  {
   "cell_type": "code",
   "execution_count": 12,
   "metadata": {},
   "outputs": [],
   "source": [
    "def fprime_no_spatial(x, X, Y, Z, epsilon=0):\n",
    "    K = X.shape[-1]\n",
    "    J = Y.shape[-1]\n",
    "    beta = x[:K*J].reshape((K,J))\n",
    "    beta[:,0] = 0\n",
    "    gamma_var = x[K*J:]\n",
    "    mu = dirichlet_regression.compute_mu_3(X, beta)\n",
    "    phi = np.exp(np.matmul(Z,gamma_var))\n",
    "    beta_grad = dirichlet_regression.dirichlet_gradient_wrt_beta(mu, phi, X, Y, epsilon=epsilon)\n",
    "    beta_grad[:,0] = 0\n",
    "    gamma_grad = dirichlet_regression.dirichlet_derivative_wrt_gamma(mu, phi, beta, X, Y, Z, epsilon=epsilon)\n",
    "    return(-np.concatenate([beta_grad.flatten(),gamma_grad]))"
   ]
  },
  {
   "cell_type": "code",
   "execution_count": 13,
   "metadata": {},
   "outputs": [],
   "source": [
    "def create_features_matrices(n_samples,n_features,choice_W='X_dependent',threshold_neighbors=0.3,nneighbors=5):\n",
    "    X = np.random.uniform(size=(n_samples,n_features))\n",
    "    X = (X-X.min())/(X.max()-X.min())\n",
    "    X = np.array([np.concatenate(([1],x)) for x in X])\n",
    "    Z = np.random.uniform(size=(n_samples,n_features))\n",
    "    \n",
    "    if choice_W == 'random':\n",
    "        neighbors = NearestNeighbors(n_neighbors=nneighbors).fit(np.arange(n_samples).reshape(-1,1))\n",
    "        W = neighbors.kneighbors_graph(np.arange(n_samples).reshape(-1,1)).toarray()\n",
    "    else:\n",
    "        distance_matrix = scipy.spatial.distance_matrix(X,X)\n",
    "        W = np.zeros(np.shape(distance_matrix))\n",
    "        W[distance_matrix < threshold_neighbors] = 1\n",
    "    # replace the 1 on the diagonal by 0\n",
    "    np.fill_diagonal(W,0)\n",
    "    # scaling the matrix, so that the sum of each row is 1\n",
    "    W = W/W.sum(axis=1)[:,None]\n",
    "    return(X,Z,W)"
   ]
  },
  {
   "cell_type": "markdown",
   "metadata": {},
   "source": [
    "# With two features"
   ]
  },
  {
   "cell_type": "code",
   "execution_count": 14,
   "metadata": {},
   "outputs": [],
   "source": [
    "n_features = 2\n",
    "n_classes = 3"
   ]
  },
  {
   "cell_type": "code",
   "execution_count": 15,
   "metadata": {},
   "outputs": [],
   "source": [
    "np.random.seed(21)\n",
    "\n",
    "beta = np.array([[0.  , -1.6 , 1.],\n",
    "                 [0.  , 1.8, -1.4],\n",
    "                 [0.  , 1.4, -1.1 ]])\n",
    "\n",
    "gamma_var = np.round(np.random.normal(size=(n_features)),2)"
   ]
  },
  {
   "cell_type": "code",
   "execution_count": 16,
   "metadata": {},
   "outputs": [],
   "source": [
    "beta0 = np.zeros((n_features+1,n_classes))\n",
    "gamma0 = [0.,0.]\n",
    "rho0 = [0.]\n",
    "params0_spatial = np.concatenate([beta0.flatten(),gamma0, rho0])\n",
    "params0_beta_gamma = np.concatenate([beta0.flatten(),gamma0])\n",
    "params0_no_spatial = np.concatenate([beta0.flatten(),gamma0])"
   ]
  },
  {
   "cell_type": "code",
   "execution_count": 17,
   "metadata": {},
   "outputs": [
    {
     "data": {
      "text/plain": [
       "10.72"
      ]
     },
     "execution_count": 17,
     "metadata": {},
     "output_type": "execute_result"
    }
   ],
   "source": [
    "X,Z,W = create_features_matrices(50,n_features,threshold_neighbors=0.3)\n",
    "non_zeros_W = np.array([len(W[i][W[i]>0]) for i in range(len(W))])\n",
    "np.mean(non_zeros_W)"
   ]
  },
  {
   "cell_type": "code",
   "execution_count": 18,
   "metadata": {},
   "outputs": [
    {
     "data": {
      "text/plain": [
       "9.95"
      ]
     },
     "execution_count": 18,
     "metadata": {},
     "output_type": "execute_result"
    }
   ],
   "source": [
    "X,Z,W = create_features_matrices(200,n_features,threshold_neighbors=0.14)\n",
    "non_zeros_W = np.array([len(W[i][W[i]>0]) for i in range(len(W))])\n",
    "np.mean(non_zeros_W)"
   ]
  },
  {
   "cell_type": "code",
   "execution_count": 19,
   "metadata": {},
   "outputs": [
    {
     "data": {
      "text/plain": [
       "11.796"
      ]
     },
     "execution_count": 19,
     "metadata": {},
     "output_type": "execute_result"
    }
   ],
   "source": [
    "X,Z,W = create_features_matrices(500,n_features,threshold_neighbors=0.09)\n",
    "non_zeros_W = np.array([len(W[i][W[i]>0]) for i in range(len(W))])\n",
    "np.mean(non_zeros_W)"
   ]
  },
  {
   "cell_type": "code",
   "execution_count": 20,
   "metadata": {},
   "outputs": [
    {
     "data": {
      "text/plain": [
       "10.816"
      ]
     },
     "execution_count": 20,
     "metadata": {},
     "output_type": "execute_result"
    }
   ],
   "source": [
    "X,Z,W = create_features_matrices(1000,n_features,threshold_neighbors=0.06)\n",
    "non_zeros_W = np.array([len(W[i][W[i]>0]) for i in range(len(W))])\n",
    "np.mean(non_zeros_W)"
   ]
  },
  {
   "cell_type": "code",
   "execution_count": 21,
   "metadata": {},
   "outputs": [],
   "source": [
    "n_samples = 1000"
   ]
  },
  {
   "cell_type": "code",
   "execution_count": 22,
   "metadata": {},
   "outputs": [],
   "source": [
    "X,Z,W = create_features_matrices(1000,n_features,choice_W='random',nneighbors=6)"
   ]
  },
  {
   "cell_type": "markdown",
   "metadata": {},
   "source": [
    "## rho=0.5"
   ]
  },
  {
   "cell_type": "code",
   "execution_count": 23,
   "metadata": {},
   "outputs": [],
   "source": [
    "rho = 0.5"
   ]
  },
  {
   "cell_type": "code",
   "execution_count": 24,
   "metadata": {},
   "outputs": [],
   "source": [
    "mu = dirichlet_regression.compute_mu_spatial_2(X, beta, rho, W)\n",
    "phi = np.exp(np.matmul(Z,gamma_var))\n",
    "alpha = mu*phi[:,None]\n",
    "\n",
    "Y = np.array([np.random.dirichlet(alpha_i) for alpha_i in alpha])\n",
    "Y = (Y*(n_samples-1)+1/n_classes)/n_samples"
   ]
  },
  {
   "cell_type": "code",
   "execution_count": 69,
   "metadata": {},
   "outputs": [
    {
     "name": "stdout",
     "output_type": "stream",
     "text": [
      "Wall time: 1.19 s\n"
     ]
    }
   ],
   "source": [
    "%%time\n",
    "solution_beta_gamma = minimize(f_beta_gamma, params0_beta_gamma, args=(X, Y, Z, W, 0, np.identity(n_samples)), jac=fprime_beta_gamma)"
   ]
  },
  {
   "cell_type": "code",
   "execution_count": 70,
   "metadata": {},
   "outputs": [
    {
     "data": {
      "text/plain": [
       "array([ 0.        , -1.16734244,  0.28968016,  0.        ,  1.32133291,\n",
       "       -0.83133867,  0.        ,  1.19714476, -0.34104312,  0.14639614,\n",
       "        0.04472951])"
      ]
     },
     "execution_count": 70,
     "metadata": {},
     "output_type": "execute_result"
    }
   ],
   "source": [
    "solution_beta_gamma.x"
   ]
  },
  {
   "cell_type": "code",
   "execution_count": 27,
   "metadata": {},
   "outputs": [],
   "source": [
    "solution_no_spatial = minimize(f_no_spatial, params0_no_spatial, args=(X, Y, Z), jac=fprime_no_spatial)"
   ]
  },
  {
   "cell_type": "code",
   "execution_count": 28,
   "metadata": {},
   "outputs": [
    {
     "data": {
      "text/plain": [
       "array([ 0.        , -1.16734244,  0.28968016,  0.        ,  1.32133291,\n",
       "       -0.83133867,  0.        ,  1.19714476, -0.34104312,  0.14639614,\n",
       "        0.04472951])"
      ]
     },
     "execution_count": 28,
     "metadata": {},
     "output_type": "execute_result"
    }
   ],
   "source": [
    "solution_no_spatial.x"
   ]
  },
  {
   "cell_type": "code",
   "execution_count": 31,
   "metadata": {},
   "outputs": [
    {
     "name": "stdout",
     "output_type": "stream",
     "text": [
      "Wall time: 15.3 s\n"
     ]
    }
   ],
   "source": [
    "%%time\n",
    "solution_rho = minimize(f_rho, 0., args=(X, Y, Z, W, solution_beta_gamma.x), jac=fprime_rho)"
   ]
  },
  {
   "cell_type": "code",
   "execution_count": 32,
   "metadata": {},
   "outputs": [
    {
     "data": {
      "text/plain": [
       "      fun: -2823.7089220979146\n",
       " hess_inv: array([[1]])\n",
       "      jac: 53.53374719178826\n",
       "  message: 'Desired error not necessarily achieved due to precision loss.'\n",
       "     nfev: 105\n",
       "      nit: 0\n",
       "     njev: 93\n",
       "   status: 2\n",
       "  success: False\n",
       "        x: array([0.])"
      ]
     },
     "execution_count": 32,
     "metadata": {},
     "output_type": "execute_result"
    }
   ],
   "source": [
    "solution_rho"
   ]
  },
  {
   "cell_type": "code",
   "execution_count": 74,
   "metadata": {},
   "outputs": [
    {
     "name": "stdout",
     "output_type": "stream",
     "text": [
      "Wall time: 2.73 s\n"
     ]
    },
    {
     "data": {
      "text/plain": [
       "     fun: -2830.613656088296\n",
       " message: 'Solution found.'\n",
       "    nfev: 11\n",
       "  status: 0\n",
       " success: True\n",
       "       x: 0.2123559289255125"
      ]
     },
     "execution_count": 74,
     "metadata": {},
     "output_type": "execute_result"
    }
   ],
   "source": [
    "%%time\n",
    "solution_rho = minimize_scalar(f_rho, method='bounded', bounds=(-1,1), args=(X, Y, Z, W, solution_beta_gamma.x))\n",
    "solution_rho"
   ]
  },
  {
   "cell_type": "code",
   "execution_count": 63,
   "metadata": {},
   "outputs": [
    {
     "data": {
      "text/plain": [
       "slice(-1, 1, 0.5)"
      ]
     },
     "execution_count": 63,
     "metadata": {},
     "output_type": "execute_result"
    }
   ],
   "source": [
    "slice(-1,1,0.5)"
   ]
  },
  {
   "cell_type": "code",
   "execution_count": 67,
   "metadata": {},
   "outputs": [
    {
     "name": "stdout",
     "output_type": "stream",
     "text": [
      "Wall time: 1.44 s\n"
     ]
    },
    {
     "data": {
      "text/plain": [
       "array([0.52529297])"
      ]
     },
     "execution_count": 67,
     "metadata": {},
     "output_type": "execute_result"
    }
   ],
   "source": [
    "%%time\n",
    "solution_rho = brute(f_rho, ranges=(slice(0.45,0.55,0.1),), args=(X, Y, Z, W, solution_beta_gamma.x))\n",
    "solution_rho"
   ]
  },
  {
   "cell_type": "code",
   "execution_count": 34,
   "metadata": {},
   "outputs": [
    {
     "data": {
      "text/plain": [
       "0.21235609927292057"
      ]
     },
     "execution_count": 34,
     "metadata": {},
     "output_type": "execute_result"
    }
   ],
   "source": [
    "rho_sol = newton(fprime_rho, 0., args=(X, Y, Z, W, solution_beta_gamma.x))\n",
    "rho_sol"
   ]
  },
  {
   "cell_type": "code",
   "execution_count": 82,
   "metadata": {},
   "outputs": [
    {
     "name": "stdout",
     "output_type": "stream",
     "text": [
      "Wall time: 279 ms\n"
     ]
    }
   ],
   "source": [
    "%%time\n",
    "old_beta_gamma = np.copy(solution_beta_gamma.x)\n",
    "Minv_sol = np.linalg.inv(np.identity(n_samples)-rho_sol*W)\n",
    "solution_beta_gamma = minimize(f_beta_gamma, old_beta_gamma, args=(X, Y, Z, W, rho_sol, Minv_sol), jac=fprime_beta_gamma)"
   ]
  },
  {
   "cell_type": "code",
   "execution_count": 83,
   "metadata": {},
   "outputs": [
    {
     "data": {
      "text/plain": [
       "array([ 0.        , -1.21220098,  1.17319607,  0.        ,  1.68385711,\n",
       "       -1.50337374,  0.        ,  1.31060664, -0.93667912,  0.23808544,\n",
       "        0.35449693])"
      ]
     },
     "execution_count": 83,
     "metadata": {},
     "output_type": "execute_result"
    }
   ],
   "source": [
    "old_beta_gamma"
   ]
  },
  {
   "cell_type": "code",
   "execution_count": 84,
   "metadata": {},
   "outputs": [
    {
     "data": {
      "text/plain": [
       "array([ 0.        , -1.2060892 ,  1.16744735,  0.        ,  1.67523745,\n",
       "       -1.49599179,  0.        ,  1.30404769, -0.93208171,  0.23814742,\n",
       "        0.35448731])"
      ]
     },
     "execution_count": 84,
     "metadata": {},
     "output_type": "execute_result"
    }
   ],
   "source": [
    "solution_beta_gamma.x"
   ]
  },
  {
   "cell_type": "code",
   "execution_count": 85,
   "metadata": {},
   "outputs": [
    {
     "name": "stdout",
     "output_type": "stream",
     "text": [
      "0.04290346060807629\n",
      "0.04784386274371686\n",
      "Wall time: 362 ms\n"
     ]
    }
   ],
   "source": [
    "%%time\n",
    "old_rho = rho_sol\n",
    "rho_sol = newton(fprime_rho, old_rho, args=(X, Y, Z, W, solution_beta_gamma.x))\n",
    "print(old_rho)\n",
    "print(rho_sol)"
   ]
  },
  {
   "cell_type": "code",
   "execution_count": 38,
   "metadata": {},
   "outputs": [],
   "source": [
    "min_bounds_1 = -np.inf*np.ones(len(params0_spatial)) \n",
    "max_bounds_1 = np.inf*np.ones(len(params0_spatial))\n",
    "min_bounds_1[-1] = -1\n",
    "max_bounds_1[-1] = 1\n",
    "bounds_1 = Bounds(min_bounds_1, max_bounds_1)"
   ]
  },
  {
   "cell_type": "code",
   "execution_count": 39,
   "metadata": {},
   "outputs": [
    {
     "name": "stdout",
     "output_type": "stream",
     "text": [
      "Wall time: 7.45 s\n"
     ]
    }
   ],
   "source": [
    "%%time\n",
    "solution_spatial = minimize(f_spatial, params0_spatial, args=(X, Y, Z, W), bounds=bounds_1, jac=fprime_spatial)"
   ]
  },
  {
   "cell_type": "code",
   "execution_count": 43,
   "metadata": {},
   "outputs": [
    {
     "data": {
      "text/plain": [
       "      fun: -2846.371205044604\n",
       " hess_inv: <12x12 LbfgsInvHessProduct with dtype=float64>\n",
       "      jac: array([-0.00000000e+00,  1.29106181e-02, -1.60514057e-02, -0.00000000e+00,\n",
       "        8.62148683e-03, -1.46739590e-02, -0.00000000e+00,  7.18630871e-03,\n",
       "       -9.00508848e-03,  7.22919838e-05, -9.23923474e-03,  1.82124845e-02])\n",
       "  message: b'CONVERGENCE: REL_REDUCTION_OF_F_<=_FACTR*EPSMCH'\n",
       "     nfev: 39\n",
       "      nit: 33\n",
       "   status: 0\n",
       "  success: True\n",
       "        x: array([ 0.        , -1.14553015,  0.46076823,  0.        ,  1.27058944,\n",
       "       -0.78968772,  0.        ,  1.09026092, -0.39105372,  0.16138138,\n",
       "        0.06964081,  0.53278041])"
      ]
     },
     "execution_count": 43,
     "metadata": {},
     "output_type": "execute_result"
    }
   ],
   "source": [
    "solution_spatial"
   ]
  },
  {
   "cell_type": "code",
   "execution_count": 47,
   "metadata": {},
   "outputs": [
    {
     "name": "stdout",
     "output_type": "stream",
     "text": [
      "Wall time: 22.9 s\n"
     ]
    }
   ],
   "source": [
    "%%time\n",
    "nitermax = 50\n",
    "tol = 0.005\n",
    "i=0\n",
    "eps = 1\n",
    "\n",
    "old_rho = 0.2\n",
    "rho_sol = 0.2\n",
    "old_beta_gamma = np.copy(params0_beta_gamma)\n",
    "beta_gamma_sol = np.copy(params0_beta_gamma)\n",
    "\n",
    "while ((i<nitermax) & (eps>tol)):\n",
    "    # update beta and gamma\n",
    "    Minv_sol = np.linalg.inv(np.identity(n_samples)-rho_sol*W)\n",
    "    solution_beta_gamma = minimize(f_beta_gamma, old_beta_gamma, args=(X, Y, Z, W, rho_sol, Minv_sol), jac=fprime_beta_gamma)\n",
    "    \n",
    "    # update rho\n",
    "    rho_sol = minimize_scalar(f_rho, method='bounded', bounds=(-1,1), args=(X, Y, Z, W, solution_beta_gamma.x)).x\n",
    "    #rho_sol = newton(fprime_rho, old_rho, args=(X, Y, Z, W, solution_beta_gamma.x))\n",
    "    \n",
    "    i+=1\n",
    "    eps = abs(rho_sol - old_rho)\n",
    "    \n",
    "    old_beta_gamma = np.copy(solution_beta_gamma.x)\n",
    "    old_rho = rho_sol"
   ]
  },
  {
   "cell_type": "code",
   "execution_count": 41,
   "metadata": {},
   "outputs": [
    {
     "data": {
      "text/plain": [
       "7"
      ]
     },
     "execution_count": 41,
     "metadata": {},
     "output_type": "execute_result"
    }
   ],
   "source": [
    "i"
   ]
  },
  {
   "cell_type": "code",
   "execution_count": 42,
   "metadata": {},
   "outputs": [
    {
     "data": {
      "text/plain": [
       "0.5210308665626138"
      ]
     },
     "execution_count": 42,
     "metadata": {},
     "output_type": "execute_result"
    }
   ],
   "source": [
    "rho_sol"
   ]
  },
  {
   "cell_type": "code",
   "execution_count": 291,
   "metadata": {},
   "outputs": [
    {
     "data": {
      "text/plain": [
       "array([ 0.        , -1.14683367,  0.46068279,  0.        ,  1.27210611,\n",
       "       -0.79057201,  0.        ,  1.09179088, -0.39118423,  0.16136555,\n",
       "        0.06965193])"
      ]
     },
     "execution_count": 291,
     "metadata": {},
     "output_type": "execute_result"
    }
   ],
   "source": [
    "solution_beta_gamma.x"
   ]
  },
  {
   "cell_type": "code",
   "execution_count": 292,
   "metadata": {},
   "outputs": [
    {
     "data": {
      "text/plain": [
       "array([ 0.        , -1.16734244,  0.28968016,  0.        ,  1.32133291,\n",
       "       -0.83133867,  0.        ,  1.19714476, -0.34104312,  0.14639614,\n",
       "        0.04472951])"
      ]
     },
     "execution_count": 292,
     "metadata": {},
     "output_type": "execute_result"
    }
   ],
   "source": [
    "solution_no_spatial.x"
   ]
  },
  {
   "cell_type": "code",
   "execution_count": 296,
   "metadata": {},
   "outputs": [
    {
     "data": {
      "text/plain": [
       "array([ 0.  , -1.6 ,  1.  ,  0.  ,  1.8 , -1.4 ,  0.  ,  1.4 , -1.1 ,\n",
       "       -0.05, -0.11])"
      ]
     },
     "execution_count": 296,
     "metadata": {},
     "output_type": "execute_result"
    }
   ],
   "source": [
    "np.concatenate([beta.flatten(),gamma_var])"
   ]
  },
  {
   "cell_type": "code",
   "execution_count": 144,
   "metadata": {},
   "outputs": [],
   "source": [
    "mu_sol_s = dirichlet_regression.compute_mu_spatial_2(X, solution_beta_gamma.x[:9].reshape((3,3)), rho_sol, W)"
   ]
  },
  {
   "cell_type": "code",
   "execution_count": 145,
   "metadata": {},
   "outputs": [],
   "source": [
    "phi_sol_s = np.exp(np.matmul(Z,solution_beta_gamma.x[9:]))"
   ]
  },
  {
   "cell_type": "code",
   "execution_count": 146,
   "metadata": {},
   "outputs": [
    {
     "data": {
      "text/plain": [
       "589.5147442521392"
      ]
     },
     "execution_count": 146,
     "metadata": {},
     "output_type": "execute_result"
    }
   ],
   "source": [
    "dirichlet_regression.dirichlet_loglikelihood(mu_sol_s,phi_sol_s,Y,epsilon=0)"
   ]
  },
  {
   "cell_type": "code",
   "execution_count": 111,
   "metadata": {},
   "outputs": [
    {
     "data": {
      "text/plain": [
       "array([ 0.        , -1.25820258,  1.21639916,  0.        ,  1.74875456,\n",
       "       -1.55884955,  0.        ,  1.35996057, -0.97124012,  0.23760875,\n",
       "        0.35456677])"
      ]
     },
     "execution_count": 111,
     "metadata": {},
     "output_type": "execute_result"
    }
   ],
   "source": [
    "sol_ns = minimize(f_no_spatial, params0_no_spatial, args=(X, Y, Z), jac=fprime_no_spatial).x\n",
    "sol_ns"
   ]
  },
  {
   "cell_type": "code",
   "execution_count": 122,
   "metadata": {},
   "outputs": [],
   "source": [
    "mu_sol_ns = dirichlet_regression.compute_mu_2(X, sol_ns[:9].reshape((3,3)))\n",
    "phi_sol_ns = np.exp(np.matmul(Z,sol_ns[9:]))"
   ]
  },
  {
   "cell_type": "code",
   "execution_count": 123,
   "metadata": {},
   "outputs": [
    {
     "data": {
      "text/plain": [
       "589.2055343009955"
      ]
     },
     "execution_count": 123,
     "metadata": {},
     "output_type": "execute_result"
    }
   ],
   "source": [
    "dirichlet_regression.dirichlet_loglikelihood(mu_sol_ns,phi_sol_ns,Y,epsilon=0)"
   ]
  },
  {
   "cell_type": "code",
   "execution_count": 124,
   "metadata": {},
   "outputs": [],
   "source": [
    "mu = dirichlet_regression.compute_mu_spatial_2(X, beta, rho, W)\n",
    "phi = np.exp(np.matmul(Z,gamma_var))"
   ]
  },
  {
   "cell_type": "code",
   "execution_count": 125,
   "metadata": {
    "scrolled": true
   },
   "outputs": [
    {
     "data": {
      "text/plain": [
       "463.1111727948445"
      ]
     },
     "execution_count": 125,
     "metadata": {},
     "output_type": "execute_result"
    }
   ],
   "source": [
    "dirichlet_regression.dirichlet_loglikelihood(mu,phi,Y,epsilon=0)"
   ]
  },
  {
   "cell_type": "code",
   "execution_count": null,
   "metadata": {},
   "outputs": [],
   "source": []
  },
  {
   "cell_type": "code",
   "execution_count": null,
   "metadata": {},
   "outputs": [],
   "source": []
  },
  {
   "cell_type": "code",
   "execution_count": 257,
   "metadata": {},
   "outputs": [],
   "source": [
    "list_ll = []\n",
    "list_rhos = np.arange(-1,1,0.1)\n",
    "for r in list_rhos :\n",
    "    list_ll.append(-f_rho(r, X, Y, Z, W, np.concatenate([beta.flatten(),gamma_var]), epsilon=0))"
   ]
  },
  {
   "cell_type": "code",
   "execution_count": 258,
   "metadata": {},
   "outputs": [
    {
     "data": {
      "image/png": "[encoded data removed]",
      "text/plain": [
       "<Figure size 1080x432 with 1 Axes>"
      ]
     },
     "metadata": {
      "needs_background": "light"
     },
     "output_type": "display_data"
    }
   ],
   "source": [
    "plt.figure(figsize=(15,6))\n",
    "plt.plot(list_rhos[5:-2],list_ll[5:-2])\n",
    "plt.xlabel('rho')\n",
    "plt.ylabel('LogLikelihood')\n",
    "plt.show()"
   ]
  },
  {
   "cell_type": "code",
   "execution_count": 259,
   "metadata": {},
   "outputs": [
    {
     "data": {
      "text/plain": [
       "     fun: -964.2043248032605\n",
       " message: 'Solution found.'\n",
       "    nfev: 13\n",
       "  status: 0\n",
       " success: True\n",
       "       x: 0.45320858914508994"
      ]
     },
     "execution_count": 259,
     "metadata": {},
     "output_type": "execute_result"
    }
   ],
   "source": [
    "minimize_scalar(f_rho, method='bounded', bounds=(-1,1), args=(X, Y, Z, W, np.concatenate([beta.flatten(),gamma_var])))"
   ]
  },
  {
   "cell_type": "code",
   "execution_count": 286,
   "metadata": {},
   "outputs": [
    {
     "data": {
      "text/plain": [
       "     fun: -2830.6136560882915\n",
       " message: 'Solution found.'\n",
       "    nfev: 11\n",
       "  status: 0\n",
       " success: True\n",
       "       x: 0.21235592892617036"
      ]
     },
     "execution_count": 286,
     "metadata": {},
     "output_type": "execute_result"
    }
   ],
   "source": [
    "rho_sol = minimize_scalar(f_rho, method='bounded', bounds=(-1,1), args=(X, Y, Z, W, solution_no_spatial.x))\n",
    "rho_sol"
   ]
  },
  {
   "cell_type": "code",
   "execution_count": null,
   "metadata": {},
   "outputs": [],
   "source": []
  },
  {
   "cell_type": "code",
   "execution_count": 281,
   "metadata": {},
   "outputs": [],
   "source": [
    "solution_beta_gamma = minimize(f_beta_gamma, params0_beta_gamma, args=(X, Y, Z, W, rho_sol.x, np.linalg.inv(np.identity(n_samples)-rho_sol.x*W)), jac=fprime_beta_gamma)"
   ]
  },
  {
   "cell_type": "code",
   "execution_count": 283,
   "metadata": {},
   "outputs": [
    {
     "data": {
      "text/plain": [
       "array([ 0.        , -1.21022269,  0.38182337,  0.        ,  1.35613438,\n",
       "       -0.84874532,  0.        ,  1.20428414, -0.37234588,  0.15466093,\n",
       "        0.05624792])"
      ]
     },
     "execution_count": 283,
     "metadata": {},
     "output_type": "execute_result"
    }
   ],
   "source": [
    "solution_beta_gamma.x"
   ]
  },
  {
   "cell_type": "code",
   "execution_count": 287,
   "metadata": {},
   "outputs": [
    {
     "data": {
      "text/plain": [
       "     fun: -2838.9244258637855\n",
       " message: 'Solution found.'\n",
       "    nfev: 14\n",
       "  status: 0\n",
       " success: True\n",
       "       x: 0.341003165047312"
      ]
     },
     "execution_count": 287,
     "metadata": {},
     "output_type": "execute_result"
    }
   ],
   "source": [
    "rho_sol = minimize_scalar(f_rho, method='bounded', bounds=(-1,1), args=(X, Y, Z, W, solution_beta_gamma.x))\n",
    "rho_sol"
   ]
  },
  {
   "cell_type": "markdown",
   "metadata": {},
   "source": [
    "# Less features and classes to try to understand"
   ]
  },
  {
   "cell_type": "code",
   "execution_count": 246,
   "metadata": {},
   "outputs": [],
   "source": [
    "n_features = 1\n",
    "n_classes = 2\n",
    "\n",
    "np.random.seed(1)\n",
    "\n",
    "beta = np.array([[0.  , -1.6],\n",
    "                 [0.  , 1.8]])\n",
    "\n",
    "gamma_var = np.round(np.random.normal(size=(n_features)),2)\n",
    "\n",
    "beta0 = np.zeros((n_features+1,n_classes))\n",
    "gamma0 = [0.,0.]\n",
    "rho0 = [0.]\n",
    "params0_beta_gamma = np.concatenate([beta0.flatten(),gamma0])\n",
    "params0_no_spatial = np.concatenate([beta0.flatten(),gamma0])\n",
    "\n",
    "n_samples = 200"
   ]
  },
  {
   "cell_type": "code",
   "execution_count": 247,
   "metadata": {},
   "outputs": [
    {
     "data": {
      "text/plain": [
       "5.0"
      ]
     },
     "execution_count": 247,
     "metadata": {},
     "output_type": "execute_result"
    }
   ],
   "source": [
    "X,Z,W = create_features_matrices(200,n_features,threshold_neighbors=0.14,choice_W='random',nneighbors=6)\n",
    "non_zeros_W = np.array([len(W[i][W[i]>0]) for i in range(len(W))])\n",
    "np.mean(non_zeros_W)"
   ]
  },
  {
   "cell_type": "code",
   "execution_count": 248,
   "metadata": {},
   "outputs": [],
   "source": [
    "rho = 0.5\n",
    "\n",
    "mu = dirichlet_regression.compute_mu_spatial_2(X, beta, rho, W)\n",
    "phi = np.exp(np.matmul(Z,gamma_var))\n",
    "alpha = mu*phi[:,None]\n",
    "\n",
    "Y = np.array([np.random.dirichlet(alpha_i) for alpha_i in alpha])\n",
    "Y = (Y*(n_samples-1)+1/n_classes)/n_samples"
   ]
  },
  {
   "cell_type": "code",
   "execution_count": 250,
   "metadata": {},
   "outputs": [
    {
     "data": {
      "image/png": "[encoded data removed]",
      "text/plain": [
       "<Figure size 432x288 with 1 Axes>"
      ]
     },
     "metadata": {
      "needs_background": "light"
     },
     "output_type": "display_data"
    }
   ],
   "source": [
    "plt.scatter(np.arange(200),X[:,1],c=Y[:,0])\n",
    "plt.show()"
   ]
  },
  {
   "cell_type": "code",
   "execution_count": 251,
   "metadata": {},
   "outputs": [],
   "source": [
    "list_ll = []\n",
    "list_rhos = np.arange(-1,1,0.1)\n",
    "for r in list_rhos :\n",
    "    list_ll.append(-f_rho(r, X, Y, Z, W, np.concatenate([beta.flatten(),gamma_var]), epsilon=0))"
   ]
  },
  {
   "cell_type": "code",
   "execution_count": 252,
   "metadata": {},
   "outputs": [
    {
     "data": {
      "image/png": "[encoded data removed]",
      "text/plain": [
       "<Figure size 1080x432 with 1 Axes>"
      ]
     },
     "metadata": {
      "needs_background": "light"
     },
     "output_type": "display_data"
    }
   ],
   "source": [
    "plt.figure(figsize=(15,6))\n",
    "plt.plot(list_rhos[5:-2],list_ll[5:-2])\n",
    "plt.xlabel('rho')\n",
    "plt.ylabel('LogLikelihood')\n",
    "plt.show()"
   ]
  },
  {
   "cell_type": "code",
   "execution_count": null,
   "metadata": {},
   "outputs": [],
   "source": []
  },
  {
   "cell_type": "code",
   "execution_count": null,
   "metadata": {},
   "outputs": [],
   "source": [
    "%%tim"
   ]
  },
  {
   "cell_type": "markdown",
   "metadata": {},
   "source": [
    "-----\n",
    "# rho = 0.5"
   ]
  },
  {
   "cell_type": "code",
   "execution_count": 100,
   "metadata": {},
   "outputs": [
    {
     "name": "stderr",
     "output_type": "stream",
     "text": [
      "C:\\Users\\tnguyen001\\Documents\\GitHub\\maupiti\\dirichlet_regression.py:76: RuntimeWarning: overflow encountered in exp\n",
      "  exp_MXbeta = np.exp(MXbeta)\n",
      "C:\\Users\\tnguyen001\\Documents\\GitHub\\maupiti\\dirichlet_regression.py:78: RuntimeWarning: invalid value encountered in true_divide\n",
      "  mu = exp_MXbeta/sum_exp_MXbeta[:,None]\n",
      "C:\\Users\\tnguyen001\\Documents\\GitHub\\maupiti\\dirichlet_regression.py:122: RuntimeWarning: invalid value encountered in multiply\n",
      "  sum_mu_digamma_phi_mu = np.sum(mu[i] * digamma_phi_mu)\n",
      "C:\\Users\\tnguyen001\\Documents\\GitHub\\maupiti\\dirichlet_regression.py:136: RuntimeWarning: invalid value encountered in multiply\n",
      "  derivative_gamma += Z[i,:]*phi[i]*( digamma(phi[i])+np.sum( mu[i]*(np.log(Y[i]+epsilon)-digamma(phi[i]*mu[i])) ) )\n",
      "C:\\Users\\tnguyen001\\Documents\\GitHub\\maupiti\\dirichlet_regression.py:285: RuntimeWarning: invalid value encountered in multiply\n",
      "  sum_i += phi[i]*np.sum( mu[i]*( np.log(Y[i]+epsilon)*(U[i]-sum_omega) - U[i]*(digamma_alpha-np.sum(mu[i]*digamma_alpha)) ) )\n",
      "<ipython-input-20-f0c0c0a7e579>:17: RuntimeWarning: invalid value encountered in true_divide\n",
      "  W = W/W.sum(axis=1)[:,None]\n"
     ]
    },
    {
     "name": "stdout",
     "output_type": "stream",
     "text": [
      "Factor is exactly singular\n",
      "Factor is exactly singular\n",
      "Factor is exactly singular\n",
      "Factor is exactly singular\n",
      "Factor is exactly singular\n",
      "Factor is exactly singular\n"
     ]
    },
    {
     "name": "stderr",
     "output_type": "stream",
     "text": [
      "C:\\Users\\tnguyen001\\Documents\\GitHub\\maupiti\\dirichlet_regression.py:76: RuntimeWarning: overflow encountered in exp\n",
      "  exp_MXbeta = np.exp(MXbeta)\n",
      "C:\\Users\\tnguyen001\\Documents\\GitHub\\maupiti\\dirichlet_regression.py:78: RuntimeWarning: invalid value encountered in true_divide\n",
      "  mu = exp_MXbeta/sum_exp_MXbeta[:,None]\n",
      "C:\\Users\\tnguyen001\\Documents\\GitHub\\maupiti\\dirichlet_regression.py:122: RuntimeWarning: invalid value encountered in multiply\n",
      "  sum_mu_digamma_phi_mu = np.sum(mu[i] * digamma_phi_mu)\n",
      "C:\\Users\\tnguyen001\\Documents\\GitHub\\maupiti\\dirichlet_regression.py:136: RuntimeWarning: invalid value encountered in multiply\n",
      "  derivative_gamma += Z[i,:]*phi[i]*( digamma(phi[i])+np.sum( mu[i]*(np.log(Y[i]+epsilon)-digamma(phi[i]*mu[i])) ) )\n",
      "C:\\Users\\tnguyen001\\Documents\\GitHub\\maupiti\\dirichlet_regression.py:285: RuntimeWarning: invalid value encountered in multiply\n",
      "  sum_i += phi[i]*np.sum( mu[i]*( np.log(Y[i]+epsilon)*(U[i]-sum_omega) - U[i]*(digamma_alpha-np.sum(mu[i]*digamma_alpha)) ) )\n",
      "<ipython-input-20-f0c0c0a7e579>:17: RuntimeWarning: invalid value encountered in true_divide\n",
      "  W = W/W.sum(axis=1)[:,None]\n"
     ]
    },
    {
     "name": "stdout",
     "output_type": "stream",
     "text": [
      "Factor is exactly singular\n",
      "Factor is exactly singular\n",
      "Factor is exactly singular\n"
     ]
    },
    {
     "name": "stderr",
     "output_type": "stream",
     "text": [
      "<ipython-input-20-f0c0c0a7e579>:17: RuntimeWarning: invalid value encountered in true_divide\n",
      "  W = W/W.sum(axis=1)[:,None]\n"
     ]
    },
    {
     "name": "stdout",
     "output_type": "stream",
     "text": [
      "Factor is exactly singular\n"
     ]
    },
    {
     "name": "stderr",
     "output_type": "stream",
     "text": [
      "C:\\Users\\tnguyen001\\Documents\\GitHub\\maupiti\\dirichlet_regression.py:122: RuntimeWarning: invalid value encountered in multiply\n",
      "  sum_mu_digamma_phi_mu = np.sum(mu[i] * digamma_phi_mu)\n",
      "C:\\Users\\tnguyen001\\Documents\\GitHub\\maupiti\\dirichlet_regression.py:136: RuntimeWarning: invalid value encountered in multiply\n",
      "  derivative_gamma += Z[i,:]*phi[i]*( digamma(phi[i])+np.sum( mu[i]*(np.log(Y[i]+epsilon)-digamma(phi[i]*mu[i])) ) )\n",
      "C:\\Users\\tnguyen001\\Documents\\GitHub\\maupiti\\dirichlet_regression.py:285: RuntimeWarning: invalid value encountered in multiply\n",
      "  sum_i += phi[i]*np.sum( mu[i]*( np.log(Y[i]+epsilon)*(U[i]-sum_omega) - U[i]*(digamma_alpha-np.sum(mu[i]*digamma_alpha)) ) )\n",
      "C:\\Users\\tnguyen001\\Documents\\GitHub\\maupiti\\dirichlet_regression.py:76: RuntimeWarning: overflow encountered in exp\n",
      "  exp_MXbeta = np.exp(MXbeta)\n",
      "C:\\Users\\tnguyen001\\Documents\\GitHub\\maupiti\\dirichlet_regression.py:78: RuntimeWarning: invalid value encountered in true_divide\n",
      "  mu = exp_MXbeta/sum_exp_MXbeta[:,None]\n",
      "<ipython-input-20-f0c0c0a7e579>:17: RuntimeWarning: invalid value encountered in true_divide\n",
      "  W = W/W.sum(axis=1)[:,None]\n"
     ]
    },
    {
     "name": "stdout",
     "output_type": "stream",
     "text": [
      "Factor is exactly singular\n"
     ]
    },
    {
     "name": "stderr",
     "output_type": "stream",
     "text": [
      "C:\\Users\\tnguyen001\\Documents\\GitHub\\maupiti\\dirichlet_regression.py:122: RuntimeWarning: invalid value encountered in multiply\n",
      "  sum_mu_digamma_phi_mu = np.sum(mu[i] * digamma_phi_mu)\n",
      "C:\\Users\\tnguyen001\\Documents\\GitHub\\maupiti\\dirichlet_regression.py:136: RuntimeWarning: invalid value encountered in multiply\n",
      "  derivative_gamma += Z[i,:]*phi[i]*( digamma(phi[i])+np.sum( mu[i]*(np.log(Y[i]+epsilon)-digamma(phi[i]*mu[i])) ) )\n",
      "C:\\Users\\tnguyen001\\Documents\\GitHub\\maupiti\\dirichlet_regression.py:285: RuntimeWarning: invalid value encountered in multiply\n",
      "  sum_i += phi[i]*np.sum( mu[i]*( np.log(Y[i]+epsilon)*(U[i]-sum_omega) - U[i]*(digamma_alpha-np.sum(mu[i]*digamma_alpha)) ) )\n",
      "C:\\Users\\tnguyen001\\Documents\\GitHub\\maupiti\\dirichlet_regression.py:76: RuntimeWarning: overflow encountered in exp\n",
      "  exp_MXbeta = np.exp(MXbeta)\n",
      "C:\\Users\\tnguyen001\\Documents\\GitHub\\maupiti\\dirichlet_regression.py:78: RuntimeWarning: invalid value encountered in true_divide\n",
      "  mu = exp_MXbeta/sum_exp_MXbeta[:,None]\n",
      "C:\\Users\\tnguyen001\\Documents\\GitHub\\maupiti\\dirichlet_regression.py:76: RuntimeWarning: overflow encountered in exp\n",
      "  exp_MXbeta = np.exp(MXbeta)\n",
      "C:\\Users\\tnguyen001\\Documents\\GitHub\\maupiti\\dirichlet_regression.py:78: RuntimeWarning: invalid value encountered in true_divide\n",
      "  mu = exp_MXbeta/sum_exp_MXbeta[:,None]\n",
      "C:\\Users\\tnguyen001\\Documents\\GitHub\\maupiti\\dirichlet_regression.py:122: RuntimeWarning: invalid value encountered in multiply\n",
      "  sum_mu_digamma_phi_mu = np.sum(mu[i] * digamma_phi_mu)\n",
      "C:\\Users\\tnguyen001\\Documents\\GitHub\\maupiti\\dirichlet_regression.py:136: RuntimeWarning: invalid value encountered in multiply\n",
      "  derivative_gamma += Z[i,:]*phi[i]*( digamma(phi[i])+np.sum( mu[i]*(np.log(Y[i]+epsilon)-digamma(phi[i]*mu[i])) ) )\n",
      "C:\\Users\\tnguyen001\\Documents\\GitHub\\maupiti\\dirichlet_regression.py:285: RuntimeWarning: invalid value encountered in multiply\n",
      "  sum_i += phi[i]*np.sum( mu[i]*( np.log(Y[i]+epsilon)*(U[i]-sum_omega) - U[i]*(digamma_alpha-np.sum(mu[i]*digamma_alpha)) ) )\n",
      "C:\\Users\\tnguyen001\\Documents\\GitHub\\maupiti\\dirichlet_regression.py:76: RuntimeWarning: overflow encountered in exp\n",
      "  exp_MXbeta = np.exp(MXbeta)\n",
      "C:\\Users\\tnguyen001\\Documents\\GitHub\\maupiti\\dirichlet_regression.py:78: RuntimeWarning: invalid value encountered in true_divide\n",
      "  mu = exp_MXbeta/sum_exp_MXbeta[:,None]\n",
      "C:\\Users\\tnguyen001\\Documents\\GitHub\\maupiti\\dirichlet_regression.py:122: RuntimeWarning: invalid value encountered in multiply\n",
      "  sum_mu_digamma_phi_mu = np.sum(mu[i] * digamma_phi_mu)\n",
      "C:\\Users\\tnguyen001\\Documents\\GitHub\\maupiti\\dirichlet_regression.py:136: RuntimeWarning: invalid value encountered in multiply\n",
      "  derivative_gamma += Z[i,:]*phi[i]*( digamma(phi[i])+np.sum( mu[i]*(np.log(Y[i]+epsilon)-digamma(phi[i]*mu[i])) ) )\n",
      "C:\\Users\\tnguyen001\\Documents\\GitHub\\maupiti\\dirichlet_regression.py:285: RuntimeWarning: invalid value encountered in multiply\n",
      "  sum_i += phi[i]*np.sum( mu[i]*( np.log(Y[i]+epsilon)*(U[i]-sum_omega) - U[i]*(digamma_alpha-np.sum(mu[i]*digamma_alpha)) ) )\n",
      "<ipython-input-20-f0c0c0a7e579>:17: RuntimeWarning: invalid value encountered in true_divide\n",
      "  W = W/W.sum(axis=1)[:,None]\n"
     ]
    },
    {
     "name": "stdout",
     "output_type": "stream",
     "text": [
      "Factor is exactly singular\n",
      "Singular matrix\n"
     ]
    },
    {
     "name": "stderr",
     "output_type": "stream",
     "text": [
      "C:\\Users\\tnguyen001\\Documents\\GitHub\\maupiti\\dirichlet_regression.py:76: RuntimeWarning: overflow encountered in exp\n",
      "  exp_MXbeta = np.exp(MXbeta)\n",
      "C:\\Users\\tnguyen001\\Documents\\GitHub\\maupiti\\dirichlet_regression.py:78: RuntimeWarning: invalid value encountered in true_divide\n",
      "  mu = exp_MXbeta/sum_exp_MXbeta[:,None]\n",
      "C:\\Users\\tnguyen001\\Documents\\GitHub\\maupiti\\dirichlet_regression.py:122: RuntimeWarning: invalid value encountered in multiply\n",
      "  sum_mu_digamma_phi_mu = np.sum(mu[i] * digamma_phi_mu)\n",
      "C:\\Users\\tnguyen001\\Documents\\GitHub\\maupiti\\dirichlet_regression.py:136: RuntimeWarning: invalid value encountered in multiply\n",
      "  derivative_gamma += Z[i,:]*phi[i]*( digamma(phi[i])+np.sum( mu[i]*(np.log(Y[i]+epsilon)-digamma(phi[i]*mu[i])) ) )\n",
      "C:\\Users\\tnguyen001\\Documents\\GitHub\\maupiti\\dirichlet_regression.py:285: RuntimeWarning: invalid value encountered in multiply\n",
      "  sum_i += phi[i]*np.sum( mu[i]*( np.log(Y[i]+epsilon)*(U[i]-sum_omega) - U[i]*(digamma_alpha-np.sum(mu[i]*digamma_alpha)) ) )\n",
      "C:\\Users\\tnguyen001\\Documents\\GitHub\\maupiti\\dirichlet_regression.py:76: RuntimeWarning: overflow encountered in exp\n",
      "  exp_MXbeta = np.exp(MXbeta)\n",
      "C:\\Users\\tnguyen001\\Documents\\GitHub\\maupiti\\dirichlet_regression.py:78: RuntimeWarning: invalid value encountered in true_divide\n",
      "  mu = exp_MXbeta/sum_exp_MXbeta[:,None]\n",
      "C:\\Users\\tnguyen001\\Documents\\GitHub\\maupiti\\dirichlet_regression.py:122: RuntimeWarning: invalid value encountered in multiply\n",
      "  sum_mu_digamma_phi_mu = np.sum(mu[i] * digamma_phi_mu)\n",
      "C:\\Users\\tnguyen001\\Documents\\GitHub\\maupiti\\dirichlet_regression.py:136: RuntimeWarning: invalid value encountered in multiply\n",
      "  derivative_gamma += Z[i,:]*phi[i]*( digamma(phi[i])+np.sum( mu[i]*(np.log(Y[i]+epsilon)-digamma(phi[i]*mu[i])) ) )\n",
      "C:\\Users\\tnguyen001\\Documents\\GitHub\\maupiti\\dirichlet_regression.py:285: RuntimeWarning: invalid value encountered in multiply\n",
      "  sum_i += phi[i]*np.sum( mu[i]*( np.log(Y[i]+epsilon)*(U[i]-sum_omega) - U[i]*(digamma_alpha-np.sum(mu[i]*digamma_alpha)) ) )\n"
     ]
    },
    {
     "name": "stdout",
     "output_type": "stream",
     "text": [
      "Singular matrix\n"
     ]
    },
    {
     "name": "stderr",
     "output_type": "stream",
     "text": [
      "C:\\Users\\tnguyen001\\Documents\\GitHub\\maupiti\\dirichlet_regression.py:76: RuntimeWarning: overflow encountered in exp\n",
      "  exp_MXbeta = np.exp(MXbeta)\n",
      "C:\\Users\\tnguyen001\\Documents\\GitHub\\maupiti\\dirichlet_regression.py:78: RuntimeWarning: invalid value encountered in true_divide\n",
      "  mu = exp_MXbeta/sum_exp_MXbeta[:,None]\n",
      "C:\\Users\\tnguyen001\\Documents\\GitHub\\maupiti\\dirichlet_regression.py:122: RuntimeWarning: invalid value encountered in multiply\n",
      "  sum_mu_digamma_phi_mu = np.sum(mu[i] * digamma_phi_mu)\n",
      "C:\\Users\\tnguyen001\\Documents\\GitHub\\maupiti\\dirichlet_regression.py:136: RuntimeWarning: invalid value encountered in multiply\n",
      "  derivative_gamma += Z[i,:]*phi[i]*( digamma(phi[i])+np.sum( mu[i]*(np.log(Y[i]+epsilon)-digamma(phi[i]*mu[i])) ) )\n",
      "C:\\Users\\tnguyen001\\Documents\\GitHub\\maupiti\\dirichlet_regression.py:285: RuntimeWarning: invalid value encountered in multiply\n",
      "  sum_i += phi[i]*np.sum( mu[i]*( np.log(Y[i]+epsilon)*(U[i]-sum_omega) - U[i]*(digamma_alpha-np.sum(mu[i]*digamma_alpha)) ) )\n"
     ]
    },
    {
     "name": "stdout",
     "output_type": "stream",
     "text": [
      "Singular matrix\n"
     ]
    },
    {
     "name": "stderr",
     "output_type": "stream",
     "text": [
      "C:\\Users\\tnguyen001\\Documents\\GitHub\\maupiti\\dirichlet_regression.py:76: RuntimeWarning: overflow encountered in exp\n",
      "  exp_MXbeta = np.exp(MXbeta)\n",
      "C:\\Users\\tnguyen001\\Documents\\GitHub\\maupiti\\dirichlet_regression.py:78: RuntimeWarning: invalid value encountered in true_divide\n",
      "  mu = exp_MXbeta/sum_exp_MXbeta[:,None]\n",
      "C:\\Users\\tnguyen001\\Documents\\GitHub\\maupiti\\dirichlet_regression.py:122: RuntimeWarning: invalid value encountered in multiply\n",
      "  sum_mu_digamma_phi_mu = np.sum(mu[i] * digamma_phi_mu)\n",
      "C:\\Users\\tnguyen001\\Documents\\GitHub\\maupiti\\dirichlet_regression.py:136: RuntimeWarning: invalid value encountered in multiply\n",
      "  derivative_gamma += Z[i,:]*phi[i]*( digamma(phi[i])+np.sum( mu[i]*(np.log(Y[i]+epsilon)-digamma(phi[i]*mu[i])) ) )\n",
      "C:\\Users\\tnguyen001\\Documents\\GitHub\\maupiti\\dirichlet_regression.py:285: RuntimeWarning: invalid value encountered in multiply\n",
      "  sum_i += phi[i]*np.sum( mu[i]*( np.log(Y[i]+epsilon)*(U[i]-sum_omega) - U[i]*(digamma_alpha-np.sum(mu[i]*digamma_alpha)) ) )\n"
     ]
    },
    {
     "name": "stdout",
     "output_type": "stream",
     "text": [
      "Singular matrix\n",
      "Factor is exactly singular\n"
     ]
    },
    {
     "name": "stderr",
     "output_type": "stream",
     "text": [
      "<ipython-input-20-f0c0c0a7e579>:17: RuntimeWarning: invalid value encountered in true_divide\n",
      "  W = W/W.sum(axis=1)[:,None]\n",
      "C:\\Users\\tnguyen001\\Documents\\GitHub\\maupiti\\dirichlet_regression.py:76: RuntimeWarning: overflow encountered in exp\n",
      "  exp_MXbeta = np.exp(MXbeta)\n",
      "C:\\Users\\tnguyen001\\Documents\\GitHub\\maupiti\\dirichlet_regression.py:78: RuntimeWarning: invalid value encountered in true_divide\n",
      "  mu = exp_MXbeta/sum_exp_MXbeta[:,None]\n",
      "C:\\Users\\tnguyen001\\Documents\\GitHub\\maupiti\\dirichlet_regression.py:122: RuntimeWarning: invalid value encountered in multiply\n",
      "  sum_mu_digamma_phi_mu = np.sum(mu[i] * digamma_phi_mu)\n",
      "C:\\Users\\tnguyen001\\Documents\\GitHub\\maupiti\\dirichlet_regression.py:136: RuntimeWarning: invalid value encountered in multiply\n",
      "  derivative_gamma += Z[i,:]*phi[i]*( digamma(phi[i])+np.sum( mu[i]*(np.log(Y[i]+epsilon)-digamma(phi[i]*mu[i])) ) )\n",
      "C:\\Users\\tnguyen001\\Documents\\GitHub\\maupiti\\dirichlet_regression.py:285: RuntimeWarning: invalid value encountered in multiply\n",
      "  sum_i += phi[i]*np.sum( mu[i]*( np.log(Y[i]+epsilon)*(U[i]-sum_omega) - U[i]*(digamma_alpha-np.sum(mu[i]*digamma_alpha)) ) )\n",
      "C:\\Users\\tnguyen001\\Documents\\GitHub\\maupiti\\dirichlet_regression.py:76: RuntimeWarning: overflow encountered in exp\n",
      "  exp_MXbeta = np.exp(MXbeta)\n",
      "C:\\Users\\tnguyen001\\Documents\\GitHub\\maupiti\\dirichlet_regression.py:78: RuntimeWarning: invalid value encountered in true_divide\n",
      "  mu = exp_MXbeta/sum_exp_MXbeta[:,None]\n",
      "C:\\Users\\tnguyen001\\Documents\\GitHub\\maupiti\\dirichlet_regression.py:122: RuntimeWarning: invalid value encountered in multiply\n",
      "  sum_mu_digamma_phi_mu = np.sum(mu[i] * digamma_phi_mu)\n",
      "C:\\Users\\tnguyen001\\Documents\\GitHub\\maupiti\\dirichlet_regression.py:136: RuntimeWarning: invalid value encountered in multiply\n",
      "  derivative_gamma += Z[i,:]*phi[i]*( digamma(phi[i])+np.sum( mu[i]*(np.log(Y[i]+epsilon)-digamma(phi[i]*mu[i])) ) )\n",
      "C:\\Users\\tnguyen001\\Documents\\GitHub\\maupiti\\dirichlet_regression.py:285: RuntimeWarning: invalid value encountered in multiply\n",
      "  sum_i += phi[i]*np.sum( mu[i]*( np.log(Y[i]+epsilon)*(U[i]-sum_omega) - U[i]*(digamma_alpha-np.sum(mu[i]*digamma_alpha)) ) )\n",
      "<ipython-input-20-f0c0c0a7e579>:17: RuntimeWarning: invalid value encountered in true_divide\n",
      "  W = W/W.sum(axis=1)[:,None]\n"
     ]
    },
    {
     "name": "stdout",
     "output_type": "stream",
     "text": [
      "Factor is exactly singular\n",
      "Factor is exactly singular\n"
     ]
    },
    {
     "name": "stderr",
     "output_type": "stream",
     "text": [
      "C:\\Users\\tnguyen001\\Documents\\GitHub\\maupiti\\dirichlet_regression.py:76: RuntimeWarning: overflow encountered in exp\n",
      "  exp_MXbeta = np.exp(MXbeta)\n",
      "C:\\Users\\tnguyen001\\Documents\\GitHub\\maupiti\\dirichlet_regression.py:78: RuntimeWarning: invalid value encountered in true_divide\n",
      "  mu = exp_MXbeta/sum_exp_MXbeta[:,None]\n",
      "C:\\Users\\tnguyen001\\Documents\\GitHub\\maupiti\\dirichlet_regression.py:122: RuntimeWarning: invalid value encountered in multiply\n",
      "  sum_mu_digamma_phi_mu = np.sum(mu[i] * digamma_phi_mu)\n",
      "C:\\Users\\tnguyen001\\Documents\\GitHub\\maupiti\\dirichlet_regression.py:136: RuntimeWarning: invalid value encountered in multiply\n",
      "  derivative_gamma += Z[i,:]*phi[i]*( digamma(phi[i])+np.sum( mu[i]*(np.log(Y[i]+epsilon)-digamma(phi[i]*mu[i])) ) )\n",
      "C:\\Users\\tnguyen001\\Documents\\GitHub\\maupiti\\dirichlet_regression.py:285: RuntimeWarning: invalid value encountered in multiply\n",
      "  sum_i += phi[i]*np.sum( mu[i]*( np.log(Y[i]+epsilon)*(U[i]-sum_omega) - U[i]*(digamma_alpha-np.sum(mu[i]*digamma_alpha)) ) )\n"
     ]
    },
    {
     "name": "stdout",
     "output_type": "stream",
     "text": [
      "Wall time: 37min 18s\n"
     ]
    }
   ],
   "source": [
    "%%time\n",
    "n_repeat = 100\n",
    "\n",
    "list_solutions_spatial = []\n",
    "list_solutions_no_spatial = []\n",
    "\n",
    "list_n_samples = [200,1000]\n",
    "list_threshold_neighb = [0.14,0.06]\n",
    "\n",
    "seed=0\n",
    "\n",
    "for i in range(2):\n",
    "    n_samples = list_n_samples[i]\n",
    "    threshold_neighb = list_threshold_neighb[i]\n",
    "    true_params = np.concatenate([beta.flatten(),gamma_var, [rho]])\n",
    "    \n",
    "    solutions_spatial_temp = []\n",
    "    solutions_no_spatial_temp = []\n",
    "    for _ in range(n_repeat):\n",
    "        np.random.seed(seed)\n",
    "        \n",
    "        X,Z,W = create_features_matrices(n_samples,n_features,threshold_neighbors=threshold_neighb)\n",
    "        try:\n",
    "            mu = dirichlet_regression.compute_mu_spatial(X, beta, rho, W)\n",
    "            phi = np.exp(np.matmul(Z,gamma_var))\n",
    "            alpha = mu*phi[:,None]\n",
    "\n",
    "            Y = np.array([np.random.dirichlet(alpha_i) for alpha_i in alpha])\n",
    "            Y = (Y*(n_samples-1)+1/n_classes)/n_samples\n",
    "\n",
    "            solution_spatial = minimize(f_spatial, params0_spatial, args=(X, Y, Z, W), bounds=bounds_1, jac=fprime_spatial)\n",
    "            solutions_spatial_temp.append(solution_spatial.x)\n",
    "\n",
    "            solution_no_spatial = minimize(f_no_spatial, params0_no_spatial, args=(X, Y, Z), jac=fprime_no_spatial)\n",
    "            solutions_no_spatial_temp.append(solution_no_spatial.x)\n",
    "        except RuntimeError:\n",
    "            print(\"Factor is exactly singular\")\n",
    "        except np.linalg.LinAlgError:\n",
    "            print(\"Singular matrix\")\n",
    "        \n",
    "        seed+=1\n",
    "    list_solutions_spatial.append(solutions_spatial_temp)\n",
    "    list_solutions_no_spatial.append(solutions_no_spatial_temp)\n",
    "    "
   ]
  },
  {
   "cell_type": "code",
   "execution_count": 101,
   "metadata": {},
   "outputs": [],
   "source": [
    "temp_spatial_200 = np.array(list_solutions_spatial[0])\n",
    "temp_spatial_1000 = np.array(list_solutions_spatial[1])\n",
    "\n",
    "temp_no_spatial_200 = np.array(list_solutions_no_spatial[0])\n",
    "temp_no_spatial_1000 = np.array(list_solutions_no_spatial[1])"
   ]
  },
  {
   "cell_type": "code",
   "execution_count": 105,
   "metadata": {},
   "outputs": [],
   "source": [
    "list_solutions_spatial[1] = temp_spatial_200\n",
    "list_solutions_spatial[2] = temp_spatial_1000\n",
    "\n",
    "list_solutions_no_spatial[1] = temp_no_spatial_200\n",
    "list_solutions_no_spatial[2] = temp_no_spatial_1000"
   ]
  },
  {
   "cell_type": "code",
   "execution_count": 102,
   "metadata": {},
   "outputs": [
    {
     "data": {
      "text/plain": [
       "0.5410796428674394"
      ]
     },
     "execution_count": 102,
     "metadata": {},
     "output_type": "execute_result"
    }
   ],
   "source": [
    "np.mean(np.array(list_solutions_spatial[0])[:,-1])"
   ]
  },
  {
   "cell_type": "code",
   "execution_count": 103,
   "metadata": {},
   "outputs": [
    {
     "data": {
      "text/plain": [
       "0.6146562712605864"
      ]
     },
     "execution_count": 103,
     "metadata": {},
     "output_type": "execute_result"
    }
   ],
   "source": [
    "np.mean(np.array(list_solutions_spatial[1])[:,-1])"
   ]
  },
  {
   "cell_type": "code",
   "execution_count": 106,
   "metadata": {},
   "outputs": [],
   "source": [
    "np.save('Data Dirichlet/spatial_rho05.npy',list_solutions_spatial)"
   ]
  },
  {
   "cell_type": "code",
   "execution_count": 107,
   "metadata": {},
   "outputs": [],
   "source": [
    "np.save('Data Dirichlet/no_spatial_rho05.npy',list_solutions_no_spatial)"
   ]
  },
  {
   "cell_type": "code",
   "execution_count": 104,
   "metadata": {},
   "outputs": [],
   "source": [
    "list_solutions_spatial = np.load('Data Dirichlet/spatial_rho05.npy',allow_pickle=True)\n",
    "list_solutions_no_spatial = np.load('Data Dirichlet/no_spatial_rho05.npy',allow_pickle=True)"
   ]
  },
  {
   "cell_type": "code",
   "execution_count": 108,
   "metadata": {},
   "outputs": [
    {
     "name": "stdout",
     "output_type": "stream",
     "text": [
      "Wall time: 4min 57s\n"
     ]
    }
   ],
   "source": [
    "%%time\n",
    "n_repeat = 100\n",
    "\n",
    "size_test = 1000\n",
    "\n",
    "list_n_samples = [50,200,1000]\n",
    "\n",
    "list_r2_s = []\n",
    "list_rmse_s = []\n",
    "list_ll_s = []\n",
    "list_crossentropy_s = []\n",
    "list_r2_ns = []\n",
    "list_rmse_ns = []\n",
    "list_ll_ns = []\n",
    "list_crossentropy_ns = []\n",
    "\n",
    "seed=0\n",
    "\n",
    "true_params = np.concatenate([beta.flatten(),gamma_var, [rho]])\n",
    "\n",
    "for n_samples_index in range(3):\n",
    "    list_r2_s_temp = []\n",
    "    list_rmse_s_temp = []\n",
    "    list_ll_s_temp = []\n",
    "    list_crossentropy_s_temp = []\n",
    "    list_r2_ns_temp = []\n",
    "    list_rmse_ns_temp = []\n",
    "    list_ll_ns_temp = []\n",
    "    list_crossentropy_ns_temp = []\n",
    "    for i in range(len(list_solutions_spatial[n_samples_index])):\n",
    "        np.random.seed(seed+1000)\n",
    "        \n",
    "        X,Z,W = create_features_matrices(size_test,n_features)\n",
    "        try:\n",
    "            mu = dirichlet_regression.compute_mu_spatial(X, beta, rho, W)\n",
    "            phi = np.exp(np.matmul(Z,gamma_var))\n",
    "            alpha = mu*phi[:,None]\n",
    "\n",
    "            Y = np.array([np.random.dirichlet(alpha_i) for alpha_i in alpha])\n",
    "            Y = (Y*(size_test-1)+1/n_classes)/size_test\n",
    "\n",
    "            solution_spatial = list_solutions_spatial[n_samples_index][i]\n",
    "            beta_sol_s = solution_spatial[:(n_features+1)*n_classes].reshape((n_features+1),n_classes)\n",
    "            gamma_sol_s = solution_spatial[(n_features+1)*n_classes:-1]\n",
    "            rho_sol_s = solution_spatial[-1]\n",
    "            mu_sol_s = dirichlet_regression.compute_mu_spatial_2(X, beta_sol_s, rho_sol_s, W)\n",
    "            phi_s = np.exp(np.matmul(Z,gamma_sol_s))\n",
    "            \n",
    "            list_r2_s_temp.append(r2_score(Y,mu_sol_s))\n",
    "            list_rmse_s_temp.append(mean_squared_error(Y,mu_sol_s,squared=False))\n",
    "            list_ll_s_temp.append(dirichlet_regression.dirichlet_loglikelihood(mu_sol_s,phi_s,Y))\n",
    "            list_crossentropy_s_temp.append(-(1/size_test)*np.sum(Y*np.log(mu_sol_s)))\n",
    "            \n",
    "            solution_no_spatial = list_solutions_no_spatial[n_samples_index][i]\n",
    "            beta_sol_ns = solution_no_spatial[:(n_features+1)*n_classes].reshape((n_features+1),n_classes)\n",
    "            gamma_sol_ns = solution_no_spatial[(n_features+1)*n_classes:]\n",
    "            mu_sol_ns = dirichlet_regression.compute_mu_3(X, beta_sol_ns)\n",
    "            phi_ns = np.exp(np.matmul(Z,gamma_sol_ns))\n",
    "            \n",
    "            list_r2_ns_temp.append(r2_score(Y,mu_sol_ns))\n",
    "            list_rmse_ns_temp.append(mean_squared_error(Y,mu_sol_ns,squared=False))\n",
    "            list_ll_ns_temp.append(dirichlet_regression.dirichlet_loglikelihood(mu_sol_ns,phi_ns,Y))\n",
    "            list_crossentropy_ns_temp.append(-(1/size_test)*np.sum(Y*np.log(mu_sol_ns)))\n",
    "            \n",
    "            \n",
    "        except RuntimeError:\n",
    "            print(\"Factor is exactly singular\")\n",
    "        except np.linalg.LinAlgError:\n",
    "            print(\"Singular matrix\")\n",
    "        \n",
    "        seed+=1\n",
    "    list_r2_s.append(list_r2_s_temp)\n",
    "    list_rmse_s.append(list_rmse_s_temp)\n",
    "    list_ll_s.append(list_ll_s_temp)\n",
    "    list_crossentropy_s.append(list_crossentropy_s_temp)\n",
    "    list_r2_ns.append(list_r2_ns_temp)\n",
    "    list_rmse_ns.append(list_rmse_ns_temp)\n",
    "    list_ll_ns.append(list_ll_ns_temp)\n",
    "    list_crossentropy_ns.append(list_crossentropy_ns_temp)"
   ]
  },
  {
   "cell_type": "code",
   "execution_count": 116,
   "metadata": {},
   "outputs": [
    {
     "name": "stderr",
     "output_type": "stream",
     "text": [
      "C:\\Users\\tnguyen001\\AppData\\Roaming\\Python\\Python38\\site-packages\\numpy\\core\\_asarray.py:136: VisibleDeprecationWarning: Creating an ndarray from ragged nested sequences (which is a list-or-tuple of lists-or-tuples-or ndarrays with different lengths or shapes) is deprecated. If you meant to do this, you must specify 'dtype=object' when creating the ndarray\n",
      "  return array(a, dtype, copy=False, order=order, subok=True)\n"
     ]
    }
   ],
   "source": [
    "np.save('Data Dirichlet/list_r2_s_rho05.npy', list_r2_s)\n",
    "np.save('Data Dirichlet/list_rmse_s_rho05.npy', list_rmse_s)\n",
    "np.save('Data Dirichlet/list_ll_s_rho05.npy', list_ll_s)\n",
    "np.save('Data Dirichlet/list_crossentropy_s_rho05.npy', list_crossentropy_s)\n",
    "np.save('Data Dirichlet/list_r2_ns_rho05.npy', list_r2_ns)\n",
    "np.save('Data Dirichlet/list_rmse_ns_rho05.npy', list_rmse_ns)\n",
    "np.save('Data Dirichlet/list_ll_ns_rho05.npy', list_ll_ns)\n",
    "np.save('Data Dirichlet/list_crossentropy_ns_rho05.npy', list_crossentropy_ns)"
   ]
  },
  {
   "cell_type": "code",
   "execution_count": 110,
   "metadata": {},
   "outputs": [],
   "source": [
    "list_r2_s_rho05 = list_r2_s\n",
    "list_rmse_s_rho05 = list_rmse_s\n",
    "list_ll_s_rho05 = list_ll_s\n",
    "list_crossentropy_s_rho05 = list_crossentropy_s\n",
    "list_r2_ns_rho05 = list_r2_ns\n",
    "list_rmse_ns_rho05 = list_rmse_ns\n",
    "list_ll_ns_rho05 = list_ll_ns\n",
    "list_crossentropy_ns_rho05 = list_crossentropy_ns"
   ]
  },
  {
   "cell_type": "markdown",
   "metadata": {},
   "source": [
    "## rho = 0.9"
   ]
  },
  {
   "cell_type": "markdown",
   "metadata": {},
   "source": [
    "Pour n_samples > 50, changer le threshold pour la matrice W."
   ]
  },
  {
   "cell_type": "code",
   "execution_count": 117,
   "metadata": {},
   "outputs": [],
   "source": [
    "rho = 0.9"
   ]
  },
  {
   "cell_type": "code",
   "execution_count": 118,
   "metadata": {},
   "outputs": [
    {
     "name": "stderr",
     "output_type": "stream",
     "text": [
      "C:\\Users\\tnguyen001\\Documents\\GitHub\\maupiti\\dirichlet_regression.py:76: RuntimeWarning: overflow encountered in exp\n",
      "  exp_MXbeta = np.exp(MXbeta)\n",
      "C:\\Users\\tnguyen001\\Documents\\GitHub\\maupiti\\dirichlet_regression.py:78: RuntimeWarning: invalid value encountered in true_divide\n",
      "  mu = exp_MXbeta/sum_exp_MXbeta[:,None]\n",
      "C:\\Users\\tnguyen001\\Documents\\GitHub\\maupiti\\dirichlet_regression.py:122: RuntimeWarning: invalid value encountered in multiply\n",
      "  sum_mu_digamma_phi_mu = np.sum(mu[i] * digamma_phi_mu)\n",
      "C:\\Users\\tnguyen001\\Documents\\GitHub\\maupiti\\dirichlet_regression.py:136: RuntimeWarning: invalid value encountered in multiply\n",
      "  derivative_gamma += Z[i,:]*phi[i]*( digamma(phi[i])+np.sum( mu[i]*(np.log(Y[i]+epsilon)-digamma(phi[i]*mu[i])) ) )\n",
      "C:\\Users\\tnguyen001\\Documents\\GitHub\\maupiti\\dirichlet_regression.py:285: RuntimeWarning: invalid value encountered in multiply\n",
      "  sum_i += phi[i]*np.sum( mu[i]*( np.log(Y[i]+epsilon)*(U[i]-sum_omega) - U[i]*(digamma_alpha-np.sum(mu[i]*digamma_alpha)) ) )\n",
      "<ipython-input-20-f0c0c0a7e579>:17: RuntimeWarning: invalid value encountered in true_divide\n",
      "  W = W/W.sum(axis=1)[:,None]\n"
     ]
    },
    {
     "name": "stdout",
     "output_type": "stream",
     "text": [
      "Factor is exactly singular\n",
      "Factor is exactly singular\n",
      "Singular matrix\n",
      "Singular matrix\n",
      "Factor is exactly singular\n",
      "Factor is exactly singular\n",
      "Factor is exactly singular\n",
      "Factor is exactly singular\n",
      "Singular matrix\n",
      "Factor is exactly singular\n"
     ]
    },
    {
     "name": "stderr",
     "output_type": "stream",
     "text": [
      "C:\\Users\\tnguyen001\\Documents\\GitHub\\maupiti\\dirichlet_regression.py:122: RuntimeWarning: invalid value encountered in multiply\n",
      "  sum_mu_digamma_phi_mu = np.sum(mu[i] * digamma_phi_mu)\n",
      "C:\\Users\\tnguyen001\\Documents\\GitHub\\maupiti\\dirichlet_regression.py:136: RuntimeWarning: invalid value encountered in multiply\n",
      "  derivative_gamma += Z[i,:]*phi[i]*( digamma(phi[i])+np.sum( mu[i]*(np.log(Y[i]+epsilon)-digamma(phi[i]*mu[i])) ) )\n",
      "C:\\Users\\tnguyen001\\Documents\\GitHub\\maupiti\\dirichlet_regression.py:285: RuntimeWarning: invalid value encountered in multiply\n",
      "  sum_i += phi[i]*np.sum( mu[i]*( np.log(Y[i]+epsilon)*(U[i]-sum_omega) - U[i]*(digamma_alpha-np.sum(mu[i]*digamma_alpha)) ) )\n",
      "C:\\Users\\tnguyen001\\Documents\\GitHub\\maupiti\\dirichlet_regression.py:76: RuntimeWarning: overflow encountered in exp\n",
      "  exp_MXbeta = np.exp(MXbeta)\n",
      "C:\\Users\\tnguyen001\\Documents\\GitHub\\maupiti\\dirichlet_regression.py:78: RuntimeWarning: invalid value encountered in true_divide\n",
      "  mu = exp_MXbeta/sum_exp_MXbeta[:,None]\n",
      "C:\\Users\\tnguyen001\\Documents\\GitHub\\maupiti\\dirichlet_regression.py:122: RuntimeWarning: invalid value encountered in multiply\n",
      "  sum_mu_digamma_phi_mu = np.sum(mu[i] * digamma_phi_mu)\n",
      "C:\\Users\\tnguyen001\\Documents\\GitHub\\maupiti\\dirichlet_regression.py:136: RuntimeWarning: invalid value encountered in multiply\n",
      "  derivative_gamma += Z[i,:]*phi[i]*( digamma(phi[i])+np.sum( mu[i]*(np.log(Y[i]+epsilon)-digamma(phi[i]*mu[i])) ) )\n",
      "C:\\Users\\tnguyen001\\Documents\\GitHub\\maupiti\\dirichlet_regression.py:285: RuntimeWarning: invalid value encountered in multiply\n",
      "  sum_i += phi[i]*np.sum( mu[i]*( np.log(Y[i]+epsilon)*(U[i]-sum_omega) - U[i]*(digamma_alpha-np.sum(mu[i]*digamma_alpha)) ) )\n",
      "C:\\Users\\tnguyen001\\Documents\\GitHub\\maupiti\\dirichlet_regression.py:122: RuntimeWarning: invalid value encountered in multiply\n",
      "  sum_mu_digamma_phi_mu = np.sum(mu[i] * digamma_phi_mu)\n",
      "C:\\Users\\tnguyen001\\Documents\\GitHub\\maupiti\\dirichlet_regression.py:136: RuntimeWarning: invalid value encountered in multiply\n",
      "  derivative_gamma += Z[i,:]*phi[i]*( digamma(phi[i])+np.sum( mu[i]*(np.log(Y[i]+epsilon)-digamma(phi[i]*mu[i])) ) )\n",
      "C:\\Users\\tnguyen001\\Documents\\GitHub\\maupiti\\dirichlet_regression.py:285: RuntimeWarning: invalid value encountered in multiply\n",
      "  sum_i += phi[i]*np.sum( mu[i]*( np.log(Y[i]+epsilon)*(U[i]-sum_omega) - U[i]*(digamma_alpha-np.sum(mu[i]*digamma_alpha)) ) )\n",
      "C:\\Users\\tnguyen001\\Documents\\GitHub\\maupiti\\dirichlet_regression.py:76: RuntimeWarning: overflow encountered in exp\n",
      "  exp_MXbeta = np.exp(MXbeta)\n",
      "C:\\Users\\tnguyen001\\Documents\\GitHub\\maupiti\\dirichlet_regression.py:78: RuntimeWarning: invalid value encountered in true_divide\n",
      "  mu = exp_MXbeta/sum_exp_MXbeta[:,None]\n",
      "C:\\Users\\tnguyen001\\Documents\\GitHub\\maupiti\\dirichlet_regression.py:122: RuntimeWarning: invalid value encountered in multiply\n",
      "  sum_mu_digamma_phi_mu = np.sum(mu[i] * digamma_phi_mu)\n",
      "C:\\Users\\tnguyen001\\Documents\\GitHub\\maupiti\\dirichlet_regression.py:136: RuntimeWarning: invalid value encountered in multiply\n",
      "  derivative_gamma += Z[i,:]*phi[i]*( digamma(phi[i])+np.sum( mu[i]*(np.log(Y[i]+epsilon)-digamma(phi[i]*mu[i])) ) )\n",
      "C:\\Users\\tnguyen001\\Documents\\GitHub\\maupiti\\dirichlet_regression.py:285: RuntimeWarning: invalid value encountered in multiply\n",
      "  sum_i += phi[i]*np.sum( mu[i]*( np.log(Y[i]+epsilon)*(U[i]-sum_omega) - U[i]*(digamma_alpha-np.sum(mu[i]*digamma_alpha)) ) )\n",
      "C:\\Users\\tnguyen001\\Documents\\GitHub\\maupiti\\dirichlet_regression.py:122: RuntimeWarning: invalid value encountered in multiply\n",
      "  sum_mu_digamma_phi_mu = np.sum(mu[i] * digamma_phi_mu)\n",
      "C:\\Users\\tnguyen001\\Documents\\GitHub\\maupiti\\dirichlet_regression.py:136: RuntimeWarning: invalid value encountered in multiply\n",
      "  derivative_gamma += Z[i,:]*phi[i]*( digamma(phi[i])+np.sum( mu[i]*(np.log(Y[i]+epsilon)-digamma(phi[i]*mu[i])) ) )\n",
      "C:\\Users\\tnguyen001\\Documents\\GitHub\\maupiti\\dirichlet_regression.py:285: RuntimeWarning: invalid value encountered in multiply\n",
      "  sum_i += phi[i]*np.sum( mu[i]*( np.log(Y[i]+epsilon)*(U[i]-sum_omega) - U[i]*(digamma_alpha-np.sum(mu[i]*digamma_alpha)) ) )\n",
      "<ipython-input-20-f0c0c0a7e579>:17: RuntimeWarning: invalid value encountered in true_divide\n",
      "  W = W/W.sum(axis=1)[:,None]\n"
     ]
    },
    {
     "name": "stdout",
     "output_type": "stream",
     "text": [
      "Factor is exactly singular\n",
      "Singular matrix\n"
     ]
    },
    {
     "name": "stderr",
     "output_type": "stream",
     "text": [
      "<ipython-input-20-f0c0c0a7e579>:17: RuntimeWarning: invalid value encountered in true_divide\n",
      "  W = W/W.sum(axis=1)[:,None]\n"
     ]
    },
    {
     "name": "stdout",
     "output_type": "stream",
     "text": [
      "Factor is exactly singular\n"
     ]
    },
    {
     "name": "stderr",
     "output_type": "stream",
     "text": [
      "C:\\Users\\tnguyen001\\Documents\\GitHub\\maupiti\\dirichlet_regression.py:122: RuntimeWarning: invalid value encountered in multiply\n",
      "  sum_mu_digamma_phi_mu = np.sum(mu[i] * digamma_phi_mu)\n",
      "C:\\Users\\tnguyen001\\Documents\\GitHub\\maupiti\\dirichlet_regression.py:136: RuntimeWarning: invalid value encountered in multiply\n",
      "  derivative_gamma += Z[i,:]*phi[i]*( digamma(phi[i])+np.sum( mu[i]*(np.log(Y[i]+epsilon)-digamma(phi[i]*mu[i])) ) )\n",
      "C:\\Users\\tnguyen001\\Documents\\GitHub\\maupiti\\dirichlet_regression.py:285: RuntimeWarning: invalid value encountered in multiply\n",
      "  sum_i += phi[i]*np.sum( mu[i]*( np.log(Y[i]+epsilon)*(U[i]-sum_omega) - U[i]*(digamma_alpha-np.sum(mu[i]*digamma_alpha)) ) )\n",
      "C:\\Users\\tnguyen001\\Documents\\GitHub\\maupiti\\dirichlet_regression.py:122: RuntimeWarning: invalid value encountered in multiply\n",
      "  sum_mu_digamma_phi_mu = np.sum(mu[i] * digamma_phi_mu)\n",
      "C:\\Users\\tnguyen001\\Documents\\GitHub\\maupiti\\dirichlet_regression.py:136: RuntimeWarning: invalid value encountered in multiply\n",
      "  derivative_gamma += Z[i,:]*phi[i]*( digamma(phi[i])+np.sum( mu[i]*(np.log(Y[i]+epsilon)-digamma(phi[i]*mu[i])) ) )\n",
      "C:\\Users\\tnguyen001\\Documents\\GitHub\\maupiti\\dirichlet_regression.py:285: RuntimeWarning: invalid value encountered in multiply\n",
      "  sum_i += phi[i]*np.sum( mu[i]*( np.log(Y[i]+epsilon)*(U[i]-sum_omega) - U[i]*(digamma_alpha-np.sum(mu[i]*digamma_alpha)) ) )\n",
      "<ipython-input-20-f0c0c0a7e579>:17: RuntimeWarning: invalid value encountered in true_divide\n",
      "  W = W/W.sum(axis=1)[:,None]\n"
     ]
    },
    {
     "name": "stdout",
     "output_type": "stream",
     "text": [
      "Factor is exactly singular\n"
     ]
    },
    {
     "name": "stderr",
     "output_type": "stream",
     "text": [
      "C:\\Users\\tnguyen001\\Documents\\GitHub\\maupiti\\dirichlet_regression.py:76: RuntimeWarning: overflow encountered in exp\n",
      "  exp_MXbeta = np.exp(MXbeta)\n",
      "C:\\Users\\tnguyen001\\Documents\\GitHub\\maupiti\\dirichlet_regression.py:78: RuntimeWarning: invalid value encountered in true_divide\n",
      "  mu = exp_MXbeta/sum_exp_MXbeta[:,None]\n",
      "C:\\Users\\tnguyen001\\Documents\\GitHub\\maupiti\\dirichlet_regression.py:122: RuntimeWarning: invalid value encountered in multiply\n",
      "  sum_mu_digamma_phi_mu = np.sum(mu[i] * digamma_phi_mu)\n",
      "C:\\Users\\tnguyen001\\Documents\\GitHub\\maupiti\\dirichlet_regression.py:136: RuntimeWarning: invalid value encountered in multiply\n",
      "  derivative_gamma += Z[i,:]*phi[i]*( digamma(phi[i])+np.sum( mu[i]*(np.log(Y[i]+epsilon)-digamma(phi[i]*mu[i])) ) )\n",
      "C:\\Users\\tnguyen001\\Documents\\GitHub\\maupiti\\dirichlet_regression.py:285: RuntimeWarning: invalid value encountered in multiply\n",
      "  sum_i += phi[i]*np.sum( mu[i]*( np.log(Y[i]+epsilon)*(U[i]-sum_omega) - U[i]*(digamma_alpha-np.sum(mu[i]*digamma_alpha)) ) )\n",
      "<ipython-input-20-f0c0c0a7e579>:17: RuntimeWarning: invalid value encountered in true_divide\n",
      "  W = W/W.sum(axis=1)[:,None]\n"
     ]
    },
    {
     "name": "stdout",
     "output_type": "stream",
     "text": [
      "Factor is exactly singular\n",
      "Factor is exactly singular\n",
      "Singular matrix\n",
      "Factor is exactly singular\n"
     ]
    },
    {
     "name": "stderr",
     "output_type": "stream",
     "text": [
      "<ipython-input-20-f0c0c0a7e579>:17: RuntimeWarning: invalid value encountered in true_divide\n",
      "  W = W/W.sum(axis=1)[:,None]\n",
      "C:\\Users\\tnguyen001\\Documents\\GitHub\\maupiti\\dirichlet_regression.py:76: RuntimeWarning: overflow encountered in exp\n",
      "  exp_MXbeta = np.exp(MXbeta)\n",
      "C:\\Users\\tnguyen001\\Documents\\GitHub\\maupiti\\dirichlet_regression.py:78: RuntimeWarning: invalid value encountered in true_divide\n",
      "  mu = exp_MXbeta/sum_exp_MXbeta[:,None]\n",
      "C:\\Users\\tnguyen001\\Documents\\GitHub\\maupiti\\dirichlet_regression.py:122: RuntimeWarning: invalid value encountered in multiply\n",
      "  sum_mu_digamma_phi_mu = np.sum(mu[i] * digamma_phi_mu)\n",
      "C:\\Users\\tnguyen001\\Documents\\GitHub\\maupiti\\dirichlet_regression.py:136: RuntimeWarning: invalid value encountered in multiply\n",
      "  derivative_gamma += Z[i,:]*phi[i]*( digamma(phi[i])+np.sum( mu[i]*(np.log(Y[i]+epsilon)-digamma(phi[i]*mu[i])) ) )\n",
      "C:\\Users\\tnguyen001\\Documents\\GitHub\\maupiti\\dirichlet_regression.py:285: RuntimeWarning: invalid value encountered in multiply\n",
      "  sum_i += phi[i]*np.sum( mu[i]*( np.log(Y[i]+epsilon)*(U[i]-sum_omega) - U[i]*(digamma_alpha-np.sum(mu[i]*digamma_alpha)) ) )\n",
      "<ipython-input-20-f0c0c0a7e579>:17: RuntimeWarning: invalid value encountered in true_divide\n",
      "  W = W/W.sum(axis=1)[:,None]\n"
     ]
    },
    {
     "name": "stdout",
     "output_type": "stream",
     "text": [
      "Factor is exactly singular\n"
     ]
    },
    {
     "name": "stderr",
     "output_type": "stream",
     "text": [
      "C:\\Users\\tnguyen001\\Documents\\GitHub\\maupiti\\dirichlet_regression.py:76: RuntimeWarning: overflow encountered in exp\n",
      "  exp_MXbeta = np.exp(MXbeta)\n",
      "C:\\Users\\tnguyen001\\Documents\\GitHub\\maupiti\\dirichlet_regression.py:78: RuntimeWarning: invalid value encountered in true_divide\n",
      "  mu = exp_MXbeta/sum_exp_MXbeta[:,None]\n",
      "C:\\Users\\tnguyen001\\Documents\\GitHub\\maupiti\\dirichlet_regression.py:122: RuntimeWarning: invalid value encountered in multiply\n",
      "  sum_mu_digamma_phi_mu = np.sum(mu[i] * digamma_phi_mu)\n",
      "C:\\Users\\tnguyen001\\Documents\\GitHub\\maupiti\\dirichlet_regression.py:136: RuntimeWarning: invalid value encountered in multiply\n",
      "  derivative_gamma += Z[i,:]*phi[i]*( digamma(phi[i])+np.sum( mu[i]*(np.log(Y[i]+epsilon)-digamma(phi[i]*mu[i])) ) )\n",
      "C:\\Users\\tnguyen001\\Documents\\GitHub\\maupiti\\dirichlet_regression.py:285: RuntimeWarning: invalid value encountered in multiply\n",
      "  sum_i += phi[i]*np.sum( mu[i]*( np.log(Y[i]+epsilon)*(U[i]-sum_omega) - U[i]*(digamma_alpha-np.sum(mu[i]*digamma_alpha)) ) )\n",
      "C:\\Users\\tnguyen001\\Documents\\GitHub\\maupiti\\dirichlet_regression.py:76: RuntimeWarning: overflow encountered in exp\n",
      "  exp_MXbeta = np.exp(MXbeta)\n",
      "C:\\Users\\tnguyen001\\Documents\\GitHub\\maupiti\\dirichlet_regression.py:78: RuntimeWarning: invalid value encountered in true_divide\n",
      "  mu = exp_MXbeta/sum_exp_MXbeta[:,None]\n",
      "C:\\Users\\tnguyen001\\Documents\\GitHub\\maupiti\\dirichlet_regression.py:122: RuntimeWarning: invalid value encountered in multiply\n",
      "  sum_mu_digamma_phi_mu = np.sum(mu[i] * digamma_phi_mu)\n",
      "C:\\Users\\tnguyen001\\Documents\\GitHub\\maupiti\\dirichlet_regression.py:136: RuntimeWarning: invalid value encountered in multiply\n",
      "  derivative_gamma += Z[i,:]*phi[i]*( digamma(phi[i])+np.sum( mu[i]*(np.log(Y[i]+epsilon)-digamma(phi[i]*mu[i])) ) )\n",
      "C:\\Users\\tnguyen001\\Documents\\GitHub\\maupiti\\dirichlet_regression.py:285: RuntimeWarning: invalid value encountered in multiply\n",
      "  sum_i += phi[i]*np.sum( mu[i]*( np.log(Y[i]+epsilon)*(U[i]-sum_omega) - U[i]*(digamma_alpha-np.sum(mu[i]*digamma_alpha)) ) )\n",
      "C:\\Users\\tnguyen001\\Documents\\GitHub\\maupiti\\dirichlet_regression.py:122: RuntimeWarning: invalid value encountered in multiply\n",
      "  sum_mu_digamma_phi_mu = np.sum(mu[i] * digamma_phi_mu)\n",
      "C:\\Users\\tnguyen001\\Documents\\GitHub\\maupiti\\dirichlet_regression.py:136: RuntimeWarning: invalid value encountered in multiply\n",
      "  derivative_gamma += Z[i,:]*phi[i]*( digamma(phi[i])+np.sum( mu[i]*(np.log(Y[i]+epsilon)-digamma(phi[i]*mu[i])) ) )\n",
      "C:\\Users\\tnguyen001\\Documents\\GitHub\\maupiti\\dirichlet_regression.py:285: RuntimeWarning: invalid value encountered in multiply\n",
      "  sum_i += phi[i]*np.sum( mu[i]*( np.log(Y[i]+epsilon)*(U[i]-sum_omega) - U[i]*(digamma_alpha-np.sum(mu[i]*digamma_alpha)) ) )\n",
      "C:\\Users\\tnguyen001\\Documents\\GitHub\\maupiti\\dirichlet_regression.py:76: RuntimeWarning: overflow encountered in exp\n",
      "  exp_MXbeta = np.exp(MXbeta)\n",
      "C:\\Users\\tnguyen001\\Documents\\GitHub\\maupiti\\dirichlet_regression.py:78: RuntimeWarning: invalid value encountered in true_divide\n",
      "  mu = exp_MXbeta/sum_exp_MXbeta[:,None]\n",
      "C:\\Users\\tnguyen001\\Documents\\GitHub\\maupiti\\dirichlet_regression.py:122: RuntimeWarning: invalid value encountered in multiply\n",
      "  sum_mu_digamma_phi_mu = np.sum(mu[i] * digamma_phi_mu)\n",
      "C:\\Users\\tnguyen001\\Documents\\GitHub\\maupiti\\dirichlet_regression.py:136: RuntimeWarning: invalid value encountered in multiply\n",
      "  derivative_gamma += Z[i,:]*phi[i]*( digamma(phi[i])+np.sum( mu[i]*(np.log(Y[i]+epsilon)-digamma(phi[i]*mu[i])) ) )\n",
      "C:\\Users\\tnguyen001\\Documents\\GitHub\\maupiti\\dirichlet_regression.py:285: RuntimeWarning: invalid value encountered in multiply\n",
      "  sum_i += phi[i]*np.sum( mu[i]*( np.log(Y[i]+epsilon)*(U[i]-sum_omega) - U[i]*(digamma_alpha-np.sum(mu[i]*digamma_alpha)) ) )\n",
      "C:\\Users\\tnguyen001\\Documents\\GitHub\\maupiti\\dirichlet_regression.py:76: RuntimeWarning: overflow encountered in exp\n",
      "  exp_MXbeta = np.exp(MXbeta)\n",
      "C:\\Users\\tnguyen001\\Documents\\GitHub\\maupiti\\dirichlet_regression.py:78: RuntimeWarning: invalid value encountered in true_divide\n",
      "  mu = exp_MXbeta/sum_exp_MXbeta[:,None]\n",
      "C:\\Users\\tnguyen001\\Documents\\GitHub\\maupiti\\dirichlet_regression.py:122: RuntimeWarning: invalid value encountered in multiply\n",
      "  sum_mu_digamma_phi_mu = np.sum(mu[i] * digamma_phi_mu)\n",
      "C:\\Users\\tnguyen001\\Documents\\GitHub\\maupiti\\dirichlet_regression.py:136: RuntimeWarning: invalid value encountered in multiply\n",
      "  derivative_gamma += Z[i,:]*phi[i]*( digamma(phi[i])+np.sum( mu[i]*(np.log(Y[i]+epsilon)-digamma(phi[i]*mu[i])) ) )\n",
      "C:\\Users\\tnguyen001\\Documents\\GitHub\\maupiti\\dirichlet_regression.py:285: RuntimeWarning: invalid value encountered in multiply\n",
      "  sum_i += phi[i]*np.sum( mu[i]*( np.log(Y[i]+epsilon)*(U[i]-sum_omega) - U[i]*(digamma_alpha-np.sum(mu[i]*digamma_alpha)) ) )\n",
      "<ipython-input-20-f0c0c0a7e579>:17: RuntimeWarning: invalid value encountered in true_divide\n",
      "  W = W/W.sum(axis=1)[:,None]\n"
     ]
    },
    {
     "name": "stdout",
     "output_type": "stream",
     "text": [
      "Factor is exactly singular\n"
     ]
    },
    {
     "name": "stderr",
     "output_type": "stream",
     "text": [
      "C:\\Users\\tnguyen001\\Documents\\GitHub\\maupiti\\dirichlet_regression.py:76: RuntimeWarning: overflow encountered in exp\n",
      "  exp_MXbeta = np.exp(MXbeta)\n",
      "C:\\Users\\tnguyen001\\Documents\\GitHub\\maupiti\\dirichlet_regression.py:78: RuntimeWarning: invalid value encountered in true_divide\n",
      "  mu = exp_MXbeta/sum_exp_MXbeta[:,None]\n",
      "C:\\Users\\tnguyen001\\Documents\\GitHub\\maupiti\\dirichlet_regression.py:122: RuntimeWarning: invalid value encountered in multiply\n",
      "  sum_mu_digamma_phi_mu = np.sum(mu[i] * digamma_phi_mu)\n",
      "C:\\Users\\tnguyen001\\Documents\\GitHub\\maupiti\\dirichlet_regression.py:136: RuntimeWarning: invalid value encountered in multiply\n",
      "  derivative_gamma += Z[i,:]*phi[i]*( digamma(phi[i])+np.sum( mu[i]*(np.log(Y[i]+epsilon)-digamma(phi[i]*mu[i])) ) )\n",
      "C:\\Users\\tnguyen001\\Documents\\GitHub\\maupiti\\dirichlet_regression.py:285: RuntimeWarning: invalid value encountered in multiply\n",
      "  sum_i += phi[i]*np.sum( mu[i]*( np.log(Y[i]+epsilon)*(U[i]-sum_omega) - U[i]*(digamma_alpha-np.sum(mu[i]*digamma_alpha)) ) )\n"
     ]
    },
    {
     "name": "stdout",
     "output_type": "stream",
     "text": [
      "Factor is exactly singular\n"
     ]
    },
    {
     "name": "stderr",
     "output_type": "stream",
     "text": [
      "C:\\Users\\tnguyen001\\Documents\\GitHub\\maupiti\\dirichlet_regression.py:76: RuntimeWarning: overflow encountered in exp\n",
      "  exp_MXbeta = np.exp(MXbeta)\n",
      "C:\\Users\\tnguyen001\\Documents\\GitHub\\maupiti\\dirichlet_regression.py:78: RuntimeWarning: invalid value encountered in true_divide\n",
      "  mu = exp_MXbeta/sum_exp_MXbeta[:,None]\n",
      "C:\\Users\\tnguyen001\\Documents\\GitHub\\maupiti\\dirichlet_regression.py:122: RuntimeWarning: invalid value encountered in multiply\n",
      "  sum_mu_digamma_phi_mu = np.sum(mu[i] * digamma_phi_mu)\n",
      "C:\\Users\\tnguyen001\\Documents\\GitHub\\maupiti\\dirichlet_regression.py:136: RuntimeWarning: invalid value encountered in multiply\n",
      "  derivative_gamma += Z[i,:]*phi[i]*( digamma(phi[i])+np.sum( mu[i]*(np.log(Y[i]+epsilon)-digamma(phi[i]*mu[i])) ) )\n",
      "C:\\Users\\tnguyen001\\Documents\\GitHub\\maupiti\\dirichlet_regression.py:285: RuntimeWarning: invalid value encountered in multiply\n",
      "  sum_i += phi[i]*np.sum( mu[i]*( np.log(Y[i]+epsilon)*(U[i]-sum_omega) - U[i]*(digamma_alpha-np.sum(mu[i]*digamma_alpha)) ) )\n",
      "C:\\Users\\tnguyen001\\Documents\\GitHub\\maupiti\\dirichlet_regression.py:76: RuntimeWarning: overflow encountered in exp\n",
      "  exp_MXbeta = np.exp(MXbeta)\n",
      "C:\\Users\\tnguyen001\\Documents\\GitHub\\maupiti\\dirichlet_regression.py:78: RuntimeWarning: invalid value encountered in true_divide\n",
      "  mu = exp_MXbeta/sum_exp_MXbeta[:,None]\n",
      "C:\\Users\\tnguyen001\\Documents\\GitHub\\maupiti\\dirichlet_regression.py:122: RuntimeWarning: invalid value encountered in multiply\n",
      "  sum_mu_digamma_phi_mu = np.sum(mu[i] * digamma_phi_mu)\n",
      "C:\\Users\\tnguyen001\\Documents\\GitHub\\maupiti\\dirichlet_regression.py:136: RuntimeWarning: invalid value encountered in multiply\n",
      "  derivative_gamma += Z[i,:]*phi[i]*( digamma(phi[i])+np.sum( mu[i]*(np.log(Y[i]+epsilon)-digamma(phi[i]*mu[i])) ) )\n",
      "C:\\Users\\tnguyen001\\Documents\\GitHub\\maupiti\\dirichlet_regression.py:285: RuntimeWarning: invalid value encountered in multiply\n",
      "  sum_i += phi[i]*np.sum( mu[i]*( np.log(Y[i]+epsilon)*(U[i]-sum_omega) - U[i]*(digamma_alpha-np.sum(mu[i]*digamma_alpha)) ) )\n"
     ]
    },
    {
     "name": "stdout",
     "output_type": "stream",
     "text": [
      "Singular matrix\n"
     ]
    },
    {
     "name": "stderr",
     "output_type": "stream",
     "text": [
      "<ipython-input-20-f0c0c0a7e579>:17: RuntimeWarning: invalid value encountered in true_divide\n",
      "  W = W/W.sum(axis=1)[:,None]\n"
     ]
    },
    {
     "name": "stdout",
     "output_type": "stream",
     "text": [
      "Factor is exactly singular\n"
     ]
    },
    {
     "name": "stderr",
     "output_type": "stream",
     "text": [
      "<ipython-input-20-f0c0c0a7e579>:17: RuntimeWarning: invalid value encountered in true_divide\n",
      "  W = W/W.sum(axis=1)[:,None]\n"
     ]
    },
    {
     "name": "stdout",
     "output_type": "stream",
     "text": [
      "Factor is exactly singular\n"
     ]
    },
    {
     "name": "stderr",
     "output_type": "stream",
     "text": [
      "C:\\Users\\tnguyen001\\Documents\\GitHub\\maupiti\\dirichlet_regression.py:122: RuntimeWarning: invalid value encountered in multiply\n",
      "  sum_mu_digamma_phi_mu = np.sum(mu[i] * digamma_phi_mu)\n",
      "C:\\Users\\tnguyen001\\Documents\\GitHub\\maupiti\\dirichlet_regression.py:136: RuntimeWarning: invalid value encountered in multiply\n",
      "  derivative_gamma += Z[i,:]*phi[i]*( digamma(phi[i])+np.sum( mu[i]*(np.log(Y[i]+epsilon)-digamma(phi[i]*mu[i])) ) )\n",
      "C:\\Users\\tnguyen001\\Documents\\GitHub\\maupiti\\dirichlet_regression.py:285: RuntimeWarning: invalid value encountered in multiply\n",
      "  sum_i += phi[i]*np.sum( mu[i]*( np.log(Y[i]+epsilon)*(U[i]-sum_omega) - U[i]*(digamma_alpha-np.sum(mu[i]*digamma_alpha)) ) )\n",
      "C:\\Users\\tnguyen001\\Documents\\GitHub\\maupiti\\dirichlet_regression.py:76: RuntimeWarning: overflow encountered in exp\n",
      "  exp_MXbeta = np.exp(MXbeta)\n",
      "C:\\Users\\tnguyen001\\Documents\\GitHub\\maupiti\\dirichlet_regression.py:78: RuntimeWarning: invalid value encountered in true_divide\n",
      "  mu = exp_MXbeta/sum_exp_MXbeta[:,None]\n"
     ]
    },
    {
     "name": "stdout",
     "output_type": "stream",
     "text": [
      "Factor is exactly singular\n",
      "Wall time: 25min 33s\n"
     ]
    }
   ],
   "source": [
    "%%time\n",
    "n_repeat = 100\n",
    "\n",
    "list_solutions_spatial = []\n",
    "list_solutions_no_spatial = []\n",
    "\n",
    "list_n_samples = [50,200,1000]\n",
    "list_threshold_neighb = [0.3,0.14,0.06]\n",
    "\n",
    "seed=0\n",
    "\n",
    "for i in range(3):\n",
    "    n_samples = list_n_samples[i]\n",
    "    threshold_neighb = list_threshold_neighb[i]\n",
    "    \n",
    "    true_params = np.concatenate([beta.flatten(),gamma_var, [rho]])\n",
    "    \n",
    "    solutions_spatial_temp = []\n",
    "    solutions_no_spatial_temp = []\n",
    "    for _ in range(n_repeat):\n",
    "        np.random.seed(seed)\n",
    "        \n",
    "        X,Z,W = create_features_matrices(n_samples,n_features,threshold_neighbors=threshold_neighb)\n",
    "        try:\n",
    "            mu = dirichlet_regression.compute_mu_spatial(X, beta, rho, W)\n",
    "            phi = np.exp(np.matmul(Z,gamma_var))\n",
    "            alpha = mu*phi[:,None]\n",
    "\n",
    "            Y = np.array([np.random.dirichlet(alpha_i) for alpha_i in alpha])\n",
    "            Y = (Y*(n_samples-1)+1/n_classes)/n_samples\n",
    "\n",
    "            solution_spatial = minimize(f_spatial, params0_spatial, args=(X, Y, Z, W), bounds=bounds_1, jac=fprime_spatial)\n",
    "            solutions_spatial_temp.append(solution_spatial.x)\n",
    "\n",
    "            solution_no_spatial = minimize(f_no_spatial, params0_no_spatial, args=(X, Y, Z), jac=fprime_no_spatial)\n",
    "            solutions_no_spatial_temp.append(solution_no_spatial.x)\n",
    "        except RuntimeError:\n",
    "            print(\"Factor is exactly singular\")\n",
    "        except np.linalg.LinAlgError:\n",
    "            print(\"Singular matrix\")\n",
    "        \n",
    "        seed+=1\n",
    "    list_solutions_spatial.append(solutions_spatial_temp)\n",
    "    list_solutions_no_spatial.append(solutions_no_spatial_temp)\n",
    "    "
   ]
  },
  {
   "cell_type": "code",
   "execution_count": 120,
   "metadata": {},
   "outputs": [
    {
     "name": "stderr",
     "output_type": "stream",
     "text": [
      "C:\\Users\\tnguyen001\\AppData\\Roaming\\Python\\Python38\\site-packages\\numpy\\core\\_asarray.py:136: VisibleDeprecationWarning: Creating an ndarray from ragged nested sequences (which is a list-or-tuple of lists-or-tuples-or ndarrays with different lengths or shapes) is deprecated. If you meant to do this, you must specify 'dtype=object' when creating the ndarray\n",
      "  return array(a, dtype, copy=False, order=order, subok=True)\n"
     ]
    }
   ],
   "source": [
    "np.save('Data Dirichlet/spatial_rho09.npy',list_solutions_spatial)\n",
    "np.save('Data Dirichlet/no_spatial_rho09.npy',list_solutions_no_spatial)"
   ]
  },
  {
   "cell_type": "code",
   "execution_count": 16,
   "metadata": {},
   "outputs": [],
   "source": [
    "list_solutions_spatial = np.load('Data Dirichlet/spatial_rho09.npy',allow_pickle=True)\n",
    "list_solutions_no_spatial = np.load('Data Dirichlet/no_spatial_rho09.npy',allow_pickle=True)"
   ]
  },
  {
   "cell_type": "code",
   "execution_count": 121,
   "metadata": {},
   "outputs": [
    {
     "name": "stdout",
     "output_type": "stream",
     "text": [
      "Wall time: 5min\n"
     ]
    }
   ],
   "source": [
    "%%time\n",
    "n_repeat = 100\n",
    "\n",
    "size_test = 1000\n",
    "\n",
    "list_n_samples = [50,200,1000]\n",
    "\n",
    "list_r2_s = []\n",
    "list_rmse_s = []\n",
    "list_ll_s = []\n",
    "list_crossentropy_s = []\n",
    "list_r2_ns = []\n",
    "list_rmse_ns = []\n",
    "list_ll_ns = []\n",
    "list_crossentropy_ns = []\n",
    "\n",
    "seed=0\n",
    "\n",
    "true_params = np.concatenate([beta.flatten(),gamma_var, [rho]])\n",
    "\n",
    "for n_samples_index in range(3):\n",
    "    list_r2_s_temp = []\n",
    "    list_rmse_s_temp = []\n",
    "    list_ll_s_temp = []\n",
    "    list_crossentropy_s_temp = []\n",
    "    list_r2_ns_temp = []\n",
    "    list_rmse_ns_temp = []\n",
    "    list_ll_ns_temp = []\n",
    "    list_crossentropy_ns_temp = []\n",
    "    for i in range(len(list_solutions_spatial[n_samples_index])):\n",
    "        np.random.seed(seed+1000)\n",
    "        \n",
    "        X,Z,W = create_features_matrices(size_test,n_features)\n",
    "        try:\n",
    "            mu = dirichlet_regression.compute_mu_spatial(X, beta, rho, W)\n",
    "            phi = np.exp(np.matmul(Z,gamma_var))\n",
    "            alpha = mu*phi[:,None]\n",
    "\n",
    "            Y = np.array([np.random.dirichlet(alpha_i) for alpha_i in alpha])\n",
    "            Y = (Y*(size_test-1)+1/n_classes)/size_test\n",
    "\n",
    "            solution_spatial = list_solutions_spatial[n_samples_index][i]\n",
    "            beta_sol_s = solution_spatial[:(n_features+1)*n_classes].reshape((n_features+1),n_classes)\n",
    "            gamma_sol_s = solution_spatial[(n_features+1)*n_classes:-1]\n",
    "            rho_sol_s = solution_spatial[-1]\n",
    "            mu_sol_s = dirichlet_regression.compute_mu_spatial_2(X, beta_sol_s, rho_sol_s, W)\n",
    "            phi_s = np.exp(np.matmul(Z,gamma_sol_s))\n",
    "            \n",
    "            list_r2_s_temp.append(r2_score(Y,mu_sol_s))\n",
    "            list_rmse_s_temp.append(mean_squared_error(Y,mu_sol_s,squared=False))\n",
    "            list_ll_s_temp.append(dirichlet_regression.dirichlet_loglikelihood(mu_sol_s,phi_s,Y))\n",
    "            list_crossentropy_s_temp.append(-(1/size_test)*np.sum(Y*np.log(mu_sol_s)))\n",
    "            \n",
    "            solution_no_spatial = list_solutions_no_spatial[n_samples_index][i]\n",
    "            beta_sol_ns = solution_no_spatial[:(n_features+1)*n_classes].reshape((n_features+1),n_classes)\n",
    "            gamma_sol_ns = solution_no_spatial[(n_features+1)*n_classes:]\n",
    "            mu_sol_ns = dirichlet_regression.compute_mu_3(X, beta_sol_ns)\n",
    "            phi_ns = np.exp(np.matmul(Z,gamma_sol_ns))\n",
    "            \n",
    "            list_r2_ns_temp.append(r2_score(Y,mu_sol_ns))\n",
    "            list_rmse_ns_temp.append(mean_squared_error(Y,mu_sol_ns,squared=False))\n",
    "            list_ll_ns_temp.append(dirichlet_regression.dirichlet_loglikelihood(mu_sol_ns,phi_ns,Y))\n",
    "            list_crossentropy_ns_temp.append(-(1/size_test)*np.sum(Y*np.log(mu_sol_ns)))\n",
    "            \n",
    "            \n",
    "        except RuntimeError:\n",
    "            print(\"Factor is exactly singular\")\n",
    "        except np.linalg.LinAlgError:\n",
    "            print(\"Singular matrix\")\n",
    "        \n",
    "        seed+=1\n",
    "    list_r2_s.append(list_r2_s_temp)\n",
    "    list_rmse_s.append(list_rmse_s_temp)\n",
    "    list_ll_s.append(list_ll_s_temp)\n",
    "    list_crossentropy_s.append(list_crossentropy_s_temp)\n",
    "    list_r2_ns.append(list_r2_ns_temp)\n",
    "    list_rmse_ns.append(list_rmse_ns_temp)\n",
    "    list_ll_ns.append(list_ll_ns_temp)\n",
    "    list_crossentropy_ns.append(list_crossentropy_ns_temp)"
   ]
  },
  {
   "cell_type": "code",
   "execution_count": 122,
   "metadata": {},
   "outputs": [
    {
     "name": "stderr",
     "output_type": "stream",
     "text": [
      "C:\\Users\\tnguyen001\\AppData\\Roaming\\Python\\Python38\\site-packages\\numpy\\core\\_asarray.py:136: VisibleDeprecationWarning: Creating an ndarray from ragged nested sequences (which is a list-or-tuple of lists-or-tuples-or ndarrays with different lengths or shapes) is deprecated. If you meant to do this, you must specify 'dtype=object' when creating the ndarray\n",
      "  return array(a, dtype, copy=False, order=order, subok=True)\n"
     ]
    }
   ],
   "source": [
    "np.save('Data Dirichlet/list_r2_s_rho09.npy', list_r2_s)\n",
    "np.save('Data Dirichlet/list_rmse_s_rho09.npy', list_rmse_s)\n",
    "np.save('Data Dirichlet/list_ll_s_rho09.npy', list_ll_s)\n",
    "np.save('Data Dirichlet/list_crossentropy_s_rho09.npy', list_crossentropy_s)\n",
    "np.save('Data Dirichlet/list_r2_ns_rho09.npy', list_r2_ns)\n",
    "np.save('Data Dirichlet/list_rmse_ns_rho09.npy', list_rmse_ns)\n",
    "np.save('Data Dirichlet/list_ll_ns_rho09.npy', list_ll_ns)\n",
    "np.save('Data Dirichlet/list_crossentropy_ns_rho09.npy', list_crossentropy_ns)"
   ]
  },
  {
   "cell_type": "code",
   "execution_count": 133,
   "metadata": {},
   "outputs": [
    {
     "data": {
      "text/plain": [
       "0.195225564307434"
      ]
     },
     "execution_count": 133,
     "metadata": {},
     "output_type": "execute_result"
    }
   ],
   "source": [
    "np.mean(list_r2_s[1])"
   ]
  },
  {
   "cell_type": "code",
   "execution_count": 134,
   "metadata": {},
   "outputs": [
    {
     "data": {
      "text/plain": [
       "0.3226829871790529"
      ]
     },
     "execution_count": 134,
     "metadata": {},
     "output_type": "execute_result"
    }
   ],
   "source": [
    "np.mean(list_r2_ns[1])"
   ]
  },
  {
   "cell_type": "markdown",
   "metadata": {},
   "source": [
    "## rho = 0.1"
   ]
  },
  {
   "cell_type": "code",
   "execution_count": 136,
   "metadata": {},
   "outputs": [],
   "source": [
    "rho = 0.1"
   ]
  },
  {
   "cell_type": "code",
   "execution_count": 137,
   "metadata": {},
   "outputs": [
    {
     "name": "stderr",
     "output_type": "stream",
     "text": [
      "<ipython-input-20-f0c0c0a7e579>:17: RuntimeWarning: invalid value encountered in true_divide\n",
      "  W = W/W.sum(axis=1)[:,None]\n"
     ]
    },
    {
     "name": "stdout",
     "output_type": "stream",
     "text": [
      "Factor is exactly singular\n",
      "Singular matrix\n"
     ]
    },
    {
     "name": "stderr",
     "output_type": "stream",
     "text": [
      "C:\\Users\\tnguyen001\\Documents\\GitHub\\maupiti\\dirichlet_regression.py:76: RuntimeWarning: overflow encountered in exp\n",
      "  exp_MXbeta = np.exp(MXbeta)\n",
      "C:\\Users\\tnguyen001\\Documents\\GitHub\\maupiti\\dirichlet_regression.py:78: RuntimeWarning: invalid value encountered in true_divide\n",
      "  mu = exp_MXbeta/sum_exp_MXbeta[:,None]\n",
      "C:\\Users\\tnguyen001\\Documents\\GitHub\\maupiti\\dirichlet_regression.py:122: RuntimeWarning: invalid value encountered in multiply\n",
      "  sum_mu_digamma_phi_mu = np.sum(mu[i] * digamma_phi_mu)\n",
      "C:\\Users\\tnguyen001\\Documents\\GitHub\\maupiti\\dirichlet_regression.py:136: RuntimeWarning: invalid value encountered in multiply\n",
      "  derivative_gamma += Z[i,:]*phi[i]*( digamma(phi[i])+np.sum( mu[i]*(np.log(Y[i]+epsilon)-digamma(phi[i]*mu[i])) ) )\n",
      "C:\\Users\\tnguyen001\\Documents\\GitHub\\maupiti\\dirichlet_regression.py:285: RuntimeWarning: invalid value encountered in multiply\n",
      "  sum_i += phi[i]*np.sum( mu[i]*( np.log(Y[i]+epsilon)*(U[i]-sum_omega) - U[i]*(digamma_alpha-np.sum(mu[i]*digamma_alpha)) ) )\n"
     ]
    },
    {
     "name": "stdout",
     "output_type": "stream",
     "text": [
      "Factor is exactly singular\n",
      "Singular matrix\n",
      "Singular matrix\n",
      "Factor is exactly singular\n",
      "Factor is exactly singular\n",
      "Factor is exactly singular\n",
      "Factor is exactly singular\n",
      "Factor is exactly singular\n"
     ]
    },
    {
     "name": "stderr",
     "output_type": "stream",
     "text": [
      "C:\\Users\\tnguyen001\\Documents\\GitHub\\maupiti\\dirichlet_regression.py:76: RuntimeWarning: overflow encountered in exp\n",
      "  exp_MXbeta = np.exp(MXbeta)\n",
      "C:\\Users\\tnguyen001\\Documents\\GitHub\\maupiti\\dirichlet_regression.py:78: RuntimeWarning: invalid value encountered in true_divide\n",
      "  mu = exp_MXbeta/sum_exp_MXbeta[:,None]\n",
      "C:\\Users\\tnguyen001\\Documents\\GitHub\\maupiti\\dirichlet_regression.py:122: RuntimeWarning: invalid value encountered in multiply\n",
      "  sum_mu_digamma_phi_mu = np.sum(mu[i] * digamma_phi_mu)\n",
      "C:\\Users\\tnguyen001\\Documents\\GitHub\\maupiti\\dirichlet_regression.py:136: RuntimeWarning: invalid value encountered in multiply\n",
      "  derivative_gamma += Z[i,:]*phi[i]*( digamma(phi[i])+np.sum( mu[i]*(np.log(Y[i]+epsilon)-digamma(phi[i]*mu[i])) ) )\n",
      "C:\\Users\\tnguyen001\\Documents\\GitHub\\maupiti\\dirichlet_regression.py:285: RuntimeWarning: invalid value encountered in multiply\n",
      "  sum_i += phi[i]*np.sum( mu[i]*( np.log(Y[i]+epsilon)*(U[i]-sum_omega) - U[i]*(digamma_alpha-np.sum(mu[i]*digamma_alpha)) ) )\n",
      "C:\\Users\\tnguyen001\\Documents\\GitHub\\maupiti\\dirichlet_regression.py:76: RuntimeWarning: overflow encountered in exp\n",
      "  exp_MXbeta = np.exp(MXbeta)\n",
      "C:\\Users\\tnguyen001\\Documents\\GitHub\\maupiti\\dirichlet_regression.py:78: RuntimeWarning: invalid value encountered in true_divide\n",
      "  mu = exp_MXbeta/sum_exp_MXbeta[:,None]\n",
      "C:\\Users\\tnguyen001\\Documents\\GitHub\\maupiti\\dirichlet_regression.py:122: RuntimeWarning: invalid value encountered in multiply\n",
      "  sum_mu_digamma_phi_mu = np.sum(mu[i] * digamma_phi_mu)\n",
      "C:\\Users\\tnguyen001\\Documents\\GitHub\\maupiti\\dirichlet_regression.py:136: RuntimeWarning: invalid value encountered in multiply\n",
      "  derivative_gamma += Z[i,:]*phi[i]*( digamma(phi[i])+np.sum( mu[i]*(np.log(Y[i]+epsilon)-digamma(phi[i]*mu[i])) ) )\n",
      "C:\\Users\\tnguyen001\\Documents\\GitHub\\maupiti\\dirichlet_regression.py:285: RuntimeWarning: invalid value encountered in multiply\n",
      "  sum_i += phi[i]*np.sum( mu[i]*( np.log(Y[i]+epsilon)*(U[i]-sum_omega) - U[i]*(digamma_alpha-np.sum(mu[i]*digamma_alpha)) ) )\n",
      "<ipython-input-20-f0c0c0a7e579>:17: RuntimeWarning: invalid value encountered in true_divide\n",
      "  W = W/W.sum(axis=1)[:,None]\n"
     ]
    },
    {
     "name": "stdout",
     "output_type": "stream",
     "text": [
      "Factor is exactly singular\n",
      "Factor is exactly singular\n",
      "Factor is exactly singular\n",
      "Factor is exactly singular\n"
     ]
    },
    {
     "name": "stderr",
     "output_type": "stream",
     "text": [
      "C:\\Users\\tnguyen001\\Documents\\GitHub\\maupiti\\dirichlet_regression.py:76: RuntimeWarning: overflow encountered in exp\n",
      "  exp_MXbeta = np.exp(MXbeta)\n",
      "C:\\Users\\tnguyen001\\Documents\\GitHub\\maupiti\\dirichlet_regression.py:78: RuntimeWarning: invalid value encountered in true_divide\n",
      "  mu = exp_MXbeta/sum_exp_MXbeta[:,None]\n",
      "C:\\Users\\tnguyen001\\Documents\\GitHub\\maupiti\\dirichlet_regression.py:122: RuntimeWarning: invalid value encountered in multiply\n",
      "  sum_mu_digamma_phi_mu = np.sum(mu[i] * digamma_phi_mu)\n",
      "C:\\Users\\tnguyen001\\Documents\\GitHub\\maupiti\\dirichlet_regression.py:136: RuntimeWarning: invalid value encountered in multiply\n",
      "  derivative_gamma += Z[i,:]*phi[i]*( digamma(phi[i])+np.sum( mu[i]*(np.log(Y[i]+epsilon)-digamma(phi[i]*mu[i])) ) )\n",
      "C:\\Users\\tnguyen001\\Documents\\GitHub\\maupiti\\dirichlet_regression.py:285: RuntimeWarning: invalid value encountered in multiply\n",
      "  sum_i += phi[i]*np.sum( mu[i]*( np.log(Y[i]+epsilon)*(U[i]-sum_omega) - U[i]*(digamma_alpha-np.sum(mu[i]*digamma_alpha)) ) )\n",
      "<ipython-input-20-f0c0c0a7e579>:17: RuntimeWarning: invalid value encountered in true_divide\n",
      "  W = W/W.sum(axis=1)[:,None]\n"
     ]
    },
    {
     "name": "stdout",
     "output_type": "stream",
     "text": [
      "Factor is exactly singular\n",
      "Factor is exactly singular\n"
     ]
    },
    {
     "name": "stderr",
     "output_type": "stream",
     "text": [
      "C:\\Users\\tnguyen001\\Documents\\GitHub\\maupiti\\dirichlet_regression.py:76: RuntimeWarning: overflow encountered in exp\n",
      "  exp_MXbeta = np.exp(MXbeta)\n",
      "C:\\Users\\tnguyen001\\Documents\\GitHub\\maupiti\\dirichlet_regression.py:78: RuntimeWarning: invalid value encountered in true_divide\n",
      "  mu = exp_MXbeta/sum_exp_MXbeta[:,None]\n",
      "C:\\Users\\tnguyen001\\Documents\\GitHub\\maupiti\\dirichlet_regression.py:122: RuntimeWarning: invalid value encountered in multiply\n",
      "  sum_mu_digamma_phi_mu = np.sum(mu[i] * digamma_phi_mu)\n",
      "C:\\Users\\tnguyen001\\Documents\\GitHub\\maupiti\\dirichlet_regression.py:136: RuntimeWarning: invalid value encountered in multiply\n",
      "  derivative_gamma += Z[i,:]*phi[i]*( digamma(phi[i])+np.sum( mu[i]*(np.log(Y[i]+epsilon)-digamma(phi[i]*mu[i])) ) )\n",
      "C:\\Users\\tnguyen001\\Documents\\GitHub\\maupiti\\dirichlet_regression.py:285: RuntimeWarning: invalid value encountered in multiply\n",
      "  sum_i += phi[i]*np.sum( mu[i]*( np.log(Y[i]+epsilon)*(U[i]-sum_omega) - U[i]*(digamma_alpha-np.sum(mu[i]*digamma_alpha)) ) )\n",
      "<ipython-input-20-f0c0c0a7e579>:17: RuntimeWarning: invalid value encountered in true_divide\n",
      "  W = W/W.sum(axis=1)[:,None]\n"
     ]
    },
    {
     "name": "stdout",
     "output_type": "stream",
     "text": [
      "Factor is exactly singular\n"
     ]
    },
    {
     "name": "stderr",
     "output_type": "stream",
     "text": [
      "C:\\Users\\tnguyen001\\Documents\\GitHub\\maupiti\\dirichlet_regression.py:76: RuntimeWarning: overflow encountered in exp\n",
      "  exp_MXbeta = np.exp(MXbeta)\n",
      "C:\\Users\\tnguyen001\\Documents\\GitHub\\maupiti\\dirichlet_regression.py:78: RuntimeWarning: invalid value encountered in true_divide\n",
      "  mu = exp_MXbeta/sum_exp_MXbeta[:,None]\n",
      "C:\\Users\\tnguyen001\\Documents\\GitHub\\maupiti\\dirichlet_regression.py:122: RuntimeWarning: invalid value encountered in multiply\n",
      "  sum_mu_digamma_phi_mu = np.sum(mu[i] * digamma_phi_mu)\n",
      "C:\\Users\\tnguyen001\\Documents\\GitHub\\maupiti\\dirichlet_regression.py:136: RuntimeWarning: invalid value encountered in multiply\n",
      "  derivative_gamma += Z[i,:]*phi[i]*( digamma(phi[i])+np.sum( mu[i]*(np.log(Y[i]+epsilon)-digamma(phi[i]*mu[i])) ) )\n",
      "C:\\Users\\tnguyen001\\Documents\\GitHub\\maupiti\\dirichlet_regression.py:285: RuntimeWarning: invalid value encountered in multiply\n",
      "  sum_i += phi[i]*np.sum( mu[i]*( np.log(Y[i]+epsilon)*(U[i]-sum_omega) - U[i]*(digamma_alpha-np.sum(mu[i]*digamma_alpha)) ) )\n",
      "C:\\Users\\tnguyen001\\Documents\\GitHub\\maupiti\\dirichlet_regression.py:76: RuntimeWarning: overflow encountered in exp\n",
      "  exp_MXbeta = np.exp(MXbeta)\n",
      "C:\\Users\\tnguyen001\\Documents\\GitHub\\maupiti\\dirichlet_regression.py:78: RuntimeWarning: invalid value encountered in true_divide\n",
      "  mu = exp_MXbeta/sum_exp_MXbeta[:,None]\n",
      "C:\\Users\\tnguyen001\\Documents\\GitHub\\maupiti\\dirichlet_regression.py:122: RuntimeWarning: invalid value encountered in multiply\n",
      "  sum_mu_digamma_phi_mu = np.sum(mu[i] * digamma_phi_mu)\n",
      "C:\\Users\\tnguyen001\\Documents\\GitHub\\maupiti\\dirichlet_regression.py:136: RuntimeWarning: invalid value encountered in multiply\n",
      "  derivative_gamma += Z[i,:]*phi[i]*( digamma(phi[i])+np.sum( mu[i]*(np.log(Y[i]+epsilon)-digamma(phi[i]*mu[i])) ) )\n",
      "C:\\Users\\tnguyen001\\Documents\\GitHub\\maupiti\\dirichlet_regression.py:285: RuntimeWarning: invalid value encountered in multiply\n",
      "  sum_i += phi[i]*np.sum( mu[i]*( np.log(Y[i]+epsilon)*(U[i]-sum_omega) - U[i]*(digamma_alpha-np.sum(mu[i]*digamma_alpha)) ) )\n",
      "<ipython-input-20-f0c0c0a7e579>:17: RuntimeWarning: invalid value encountered in true_divide\n",
      "  W = W/W.sum(axis=1)[:,None]\n"
     ]
    },
    {
     "name": "stdout",
     "output_type": "stream",
     "text": [
      "Factor is exactly singular\n",
      "Factor is exactly singular\n"
     ]
    },
    {
     "name": "stderr",
     "output_type": "stream",
     "text": [
      "C:\\Users\\tnguyen001\\Documents\\GitHub\\maupiti\\dirichlet_regression.py:76: RuntimeWarning: overflow encountered in exp\n",
      "  exp_MXbeta = np.exp(MXbeta)\n",
      "C:\\Users\\tnguyen001\\Documents\\GitHub\\maupiti\\dirichlet_regression.py:78: RuntimeWarning: invalid value encountered in true_divide\n",
      "  mu = exp_MXbeta/sum_exp_MXbeta[:,None]\n",
      "C:\\Users\\tnguyen001\\Documents\\GitHub\\maupiti\\dirichlet_regression.py:122: RuntimeWarning: invalid value encountered in multiply\n",
      "  sum_mu_digamma_phi_mu = np.sum(mu[i] * digamma_phi_mu)\n",
      "C:\\Users\\tnguyen001\\Documents\\GitHub\\maupiti\\dirichlet_regression.py:136: RuntimeWarning: invalid value encountered in multiply\n",
      "  derivative_gamma += Z[i,:]*phi[i]*( digamma(phi[i])+np.sum( mu[i]*(np.log(Y[i]+epsilon)-digamma(phi[i]*mu[i])) ) )\n",
      "C:\\Users\\tnguyen001\\Documents\\GitHub\\maupiti\\dirichlet_regression.py:285: RuntimeWarning: invalid value encountered in multiply\n",
      "  sum_i += phi[i]*np.sum( mu[i]*( np.log(Y[i]+epsilon)*(U[i]-sum_omega) - U[i]*(digamma_alpha-np.sum(mu[i]*digamma_alpha)) ) )\n",
      "C:\\Users\\tnguyen001\\Documents\\GitHub\\maupiti\\dirichlet_regression.py:76: RuntimeWarning: overflow encountered in exp\n",
      "  exp_MXbeta = np.exp(MXbeta)\n",
      "C:\\Users\\tnguyen001\\Documents\\GitHub\\maupiti\\dirichlet_regression.py:78: RuntimeWarning: invalid value encountered in true_divide\n",
      "  mu = exp_MXbeta/sum_exp_MXbeta[:,None]\n",
      "C:\\Users\\tnguyen001\\Documents\\GitHub\\maupiti\\dirichlet_regression.py:122: RuntimeWarning: invalid value encountered in multiply\n",
      "  sum_mu_digamma_phi_mu = np.sum(mu[i] * digamma_phi_mu)\n",
      "C:\\Users\\tnguyen001\\Documents\\GitHub\\maupiti\\dirichlet_regression.py:136: RuntimeWarning: invalid value encountered in multiply\n",
      "  derivative_gamma += Z[i,:]*phi[i]*( digamma(phi[i])+np.sum( mu[i]*(np.log(Y[i]+epsilon)-digamma(phi[i]*mu[i])) ) )\n",
      "C:\\Users\\tnguyen001\\Documents\\GitHub\\maupiti\\dirichlet_regression.py:285: RuntimeWarning: invalid value encountered in multiply\n",
      "  sum_i += phi[i]*np.sum( mu[i]*( np.log(Y[i]+epsilon)*(U[i]-sum_omega) - U[i]*(digamma_alpha-np.sum(mu[i]*digamma_alpha)) ) )\n",
      "<ipython-input-20-f0c0c0a7e579>:17: RuntimeWarning: invalid value encountered in true_divide\n",
      "  W = W/W.sum(axis=1)[:,None]\n"
     ]
    },
    {
     "name": "stdout",
     "output_type": "stream",
     "text": [
      "Factor is exactly singular\n"
     ]
    },
    {
     "name": "stderr",
     "output_type": "stream",
     "text": [
      "C:\\Users\\tnguyen001\\Documents\\GitHub\\maupiti\\dirichlet_regression.py:76: RuntimeWarning: overflow encountered in exp\n",
      "  exp_MXbeta = np.exp(MXbeta)\n",
      "C:\\Users\\tnguyen001\\Documents\\GitHub\\maupiti\\dirichlet_regression.py:78: RuntimeWarning: invalid value encountered in true_divide\n",
      "  mu = exp_MXbeta/sum_exp_MXbeta[:,None]\n",
      "C:\\Users\\tnguyen001\\Documents\\GitHub\\maupiti\\dirichlet_regression.py:122: RuntimeWarning: invalid value encountered in multiply\n",
      "  sum_mu_digamma_phi_mu = np.sum(mu[i] * digamma_phi_mu)\n",
      "C:\\Users\\tnguyen001\\Documents\\GitHub\\maupiti\\dirichlet_regression.py:136: RuntimeWarning: invalid value encountered in multiply\n",
      "  derivative_gamma += Z[i,:]*phi[i]*( digamma(phi[i])+np.sum( mu[i]*(np.log(Y[i]+epsilon)-digamma(phi[i]*mu[i])) ) )\n",
      "C:\\Users\\tnguyen001\\Documents\\GitHub\\maupiti\\dirichlet_regression.py:285: RuntimeWarning: invalid value encountered in multiply\n",
      "  sum_i += phi[i]*np.sum( mu[i]*( np.log(Y[i]+epsilon)*(U[i]-sum_omega) - U[i]*(digamma_alpha-np.sum(mu[i]*digamma_alpha)) ) )\n",
      "<ipython-input-20-f0c0c0a7e579>:17: RuntimeWarning: invalid value encountered in true_divide\n",
      "  W = W/W.sum(axis=1)[:,None]\n"
     ]
    },
    {
     "name": "stdout",
     "output_type": "stream",
     "text": [
      "Factor is exactly singular\n"
     ]
    },
    {
     "name": "stderr",
     "output_type": "stream",
     "text": [
      "C:\\Users\\tnguyen001\\Documents\\GitHub\\maupiti\\dirichlet_regression.py:76: RuntimeWarning: overflow encountered in exp\n",
      "  exp_MXbeta = np.exp(MXbeta)\n",
      "C:\\Users\\tnguyen001\\Documents\\GitHub\\maupiti\\dirichlet_regression.py:78: RuntimeWarning: invalid value encountered in true_divide\n",
      "  mu = exp_MXbeta/sum_exp_MXbeta[:,None]\n",
      "C:\\Users\\tnguyen001\\Documents\\GitHub\\maupiti\\dirichlet_regression.py:122: RuntimeWarning: invalid value encountered in multiply\n",
      "  sum_mu_digamma_phi_mu = np.sum(mu[i] * digamma_phi_mu)\n",
      "C:\\Users\\tnguyen001\\Documents\\GitHub\\maupiti\\dirichlet_regression.py:136: RuntimeWarning: invalid value encountered in multiply\n",
      "  derivative_gamma += Z[i,:]*phi[i]*( digamma(phi[i])+np.sum( mu[i]*(np.log(Y[i]+epsilon)-digamma(phi[i]*mu[i])) ) )\n",
      "C:\\Users\\tnguyen001\\Documents\\GitHub\\maupiti\\dirichlet_regression.py:285: RuntimeWarning: invalid value encountered in multiply\n",
      "  sum_i += phi[i]*np.sum( mu[i]*( np.log(Y[i]+epsilon)*(U[i]-sum_omega) - U[i]*(digamma_alpha-np.sum(mu[i]*digamma_alpha)) ) )\n"
     ]
    },
    {
     "name": "stdout",
     "output_type": "stream",
     "text": [
      "Factor is exactly singular\n"
     ]
    },
    {
     "name": "stderr",
     "output_type": "stream",
     "text": [
      "C:\\Users\\tnguyen001\\Documents\\GitHub\\maupiti\\dirichlet_regression.py:76: RuntimeWarning: overflow encountered in exp\n",
      "  exp_MXbeta = np.exp(MXbeta)\n",
      "C:\\Users\\tnguyen001\\Documents\\GitHub\\maupiti\\dirichlet_regression.py:78: RuntimeWarning: invalid value encountered in true_divide\n",
      "  mu = exp_MXbeta/sum_exp_MXbeta[:,None]\n",
      "C:\\Users\\tnguyen001\\Documents\\GitHub\\maupiti\\dirichlet_regression.py:122: RuntimeWarning: invalid value encountered in multiply\n",
      "  sum_mu_digamma_phi_mu = np.sum(mu[i] * digamma_phi_mu)\n",
      "C:\\Users\\tnguyen001\\Documents\\GitHub\\maupiti\\dirichlet_regression.py:136: RuntimeWarning: invalid value encountered in multiply\n",
      "  derivative_gamma += Z[i,:]*phi[i]*( digamma(phi[i])+np.sum( mu[i]*(np.log(Y[i]+epsilon)-digamma(phi[i]*mu[i])) ) )\n",
      "C:\\Users\\tnguyen001\\Documents\\GitHub\\maupiti\\dirichlet_regression.py:285: RuntimeWarning: invalid value encountered in multiply\n",
      "  sum_i += phi[i]*np.sum( mu[i]*( np.log(Y[i]+epsilon)*(U[i]-sum_omega) - U[i]*(digamma_alpha-np.sum(mu[i]*digamma_alpha)) ) )\n"
     ]
    },
    {
     "name": "stdout",
     "output_type": "stream",
     "text": [
      "Wall time: 28min 22s\n"
     ]
    }
   ],
   "source": [
    "%%time\n",
    "n_repeat = 100\n",
    "\n",
    "list_solutions_spatial = []\n",
    "list_solutions_no_spatial = []\n",
    "\n",
    "list_n_samples = [50,200,1000]\n",
    "list_threshold_neighb = [0.3,0.14,0.06]\n",
    "\n",
    "seed=0\n",
    "\n",
    "for i in range(3):\n",
    "    n_samples = list_n_samples[i]\n",
    "    threshold_neighb = list_threshold_neighb[i]\n",
    "    \n",
    "    true_params = np.concatenate([beta.flatten(),gamma_var, [rho]])\n",
    "    \n",
    "    solutions_spatial_temp = []\n",
    "    solutions_no_spatial_temp = []\n",
    "    for _ in range(n_repeat):\n",
    "        np.random.seed(seed)\n",
    "        \n",
    "        X,Z,W = create_features_matrices(n_samples,n_features,threshold_neighbors=threshold_neighb)\n",
    "        try:\n",
    "            mu = dirichlet_regression.compute_mu_spatial(X, beta, rho, W)\n",
    "            phi = np.exp(np.matmul(Z,gamma_var))\n",
    "            alpha = mu*phi[:,None]\n",
    "\n",
    "            Y = np.array([np.random.dirichlet(alpha_i) for alpha_i in alpha])\n",
    "            Y = (Y*(n_samples-1)+1/n_classes)/n_samples\n",
    "\n",
    "            solution_spatial = minimize(f_spatial, params0_spatial, args=(X, Y, Z, W), bounds=bounds_1, jac=fprime_spatial)\n",
    "            solutions_spatial_temp.append(solution_spatial.x)\n",
    "\n",
    "            solution_no_spatial = minimize(f_no_spatial, params0_no_spatial, args=(X, Y, Z), jac=fprime_no_spatial)\n",
    "            solutions_no_spatial_temp.append(solution_no_spatial.x)\n",
    "        except RuntimeError:\n",
    "            print(\"Factor is exactly singular\")\n",
    "        except np.linalg.LinAlgError:\n",
    "            print(\"Singular matrix\")\n",
    "        \n",
    "        seed+=1\n",
    "    list_solutions_spatial.append(solutions_spatial_temp)\n",
    "    list_solutions_no_spatial.append(solutions_no_spatial_temp)\n",
    "    "
   ]
  },
  {
   "cell_type": "code",
   "execution_count": 147,
   "metadata": {},
   "outputs": [
    {
     "data": {
      "text/plain": [
       "0.12334254778812988"
      ]
     },
     "execution_count": 147,
     "metadata": {},
     "output_type": "execute_result"
    }
   ],
   "source": [
    "np.mean(np.array(list_solutions_spatial[2])[:,-1])"
   ]
  },
  {
   "cell_type": "code",
   "execution_count": 138,
   "metadata": {},
   "outputs": [
    {
     "name": "stderr",
     "output_type": "stream",
     "text": [
      "C:\\Users\\tnguyen001\\AppData\\Roaming\\Python\\Python38\\site-packages\\numpy\\core\\_asarray.py:136: VisibleDeprecationWarning: Creating an ndarray from ragged nested sequences (which is a list-or-tuple of lists-or-tuples-or ndarrays with different lengths or shapes) is deprecated. If you meant to do this, you must specify 'dtype=object' when creating the ndarray\n",
      "  return array(a, dtype, copy=False, order=order, subok=True)\n"
     ]
    }
   ],
   "source": [
    "np.save('Data Dirichlet/spatial_rho01.npy',list_solutions_spatial)\n",
    "np.save('Data Dirichlet/no_spatial_rho01.npy',list_solutions_no_spatial)"
   ]
  },
  {
   "cell_type": "code",
   "execution_count": 16,
   "metadata": {},
   "outputs": [],
   "source": [
    "list_solutions_spatial = np.load('Data Dirichlet/spatial_rho01.npy',allow_pickle=True)\n",
    "list_solutions_no_spatial = np.load('Data Dirichlet/no_spatial_rho01.npy',allow_pickle=True)"
   ]
  },
  {
   "cell_type": "code",
   "execution_count": 148,
   "metadata": {},
   "outputs": [
    {
     "name": "stdout",
     "output_type": "stream",
     "text": [
      "Wall time: 5min 19s\n"
     ]
    }
   ],
   "source": [
    "%%time\n",
    "n_repeat = 100\n",
    "\n",
    "size_test = 1000\n",
    "\n",
    "list_n_samples = [50,200,1000]\n",
    "\n",
    "list_r2_s = []\n",
    "list_rmse_s = []\n",
    "list_ll_s = []\n",
    "list_crossentropy_s = []\n",
    "list_r2_ns = []\n",
    "list_rmse_ns = []\n",
    "list_ll_ns = []\n",
    "list_crossentropy_ns = []\n",
    "\n",
    "seed=0\n",
    "\n",
    "true_params = np.concatenate([beta.flatten(),gamma_var, [rho]])\n",
    "\n",
    "for n_samples_index in range(3):\n",
    "    list_r2_s_temp = []\n",
    "    list_rmse_s_temp = []\n",
    "    list_ll_s_temp = []\n",
    "    list_crossentropy_s_temp = []\n",
    "    list_r2_ns_temp = []\n",
    "    list_rmse_ns_temp = []\n",
    "    list_ll_ns_temp = []\n",
    "    list_crossentropy_ns_temp = []\n",
    "    for i in range(len(list_solutions_spatial[n_samples_index])):\n",
    "        np.random.seed(seed+1000)\n",
    "        \n",
    "        X,Z,W = create_features_matrices(size_test,n_features)\n",
    "        try:\n",
    "            mu = dirichlet_regression.compute_mu_spatial(X, beta, rho, W)\n",
    "            phi = np.exp(np.matmul(Z,gamma_var))\n",
    "            alpha = mu*phi[:,None]\n",
    "\n",
    "            Y = np.array([np.random.dirichlet(alpha_i) for alpha_i in alpha])\n",
    "            Y = (Y*(size_test-1)+1/n_classes)/size_test\n",
    "\n",
    "            solution_spatial = list_solutions_spatial[n_samples_index][i]\n",
    "            beta_sol_s = solution_spatial[:(n_features+1)*n_classes].reshape((n_features+1),n_classes)\n",
    "            gamma_sol_s = solution_spatial[(n_features+1)*n_classes:-1]\n",
    "            rho_sol_s = solution_spatial[-1]\n",
    "            mu_sol_s = dirichlet_regression.compute_mu_spatial_2(X, beta_sol_s, rho_sol_s, W)\n",
    "            phi_s = np.exp(np.matmul(Z,gamma_sol_s))\n",
    "            \n",
    "            list_r2_s_temp.append(r2_score(Y,mu_sol_s))\n",
    "            list_rmse_s_temp.append(mean_squared_error(Y,mu_sol_s,squared=False))\n",
    "            list_ll_s_temp.append(dirichlet_regression.dirichlet_loglikelihood(mu_sol_s,phi_s,Y))\n",
    "            list_crossentropy_s_temp.append(-(1/size_test)*np.sum(Y*np.log(mu_sol_s)))\n",
    "            \n",
    "            solution_no_spatial = list_solutions_no_spatial[n_samples_index][i]\n",
    "            beta_sol_ns = solution_no_spatial[:(n_features+1)*n_classes].reshape((n_features+1),n_classes)\n",
    "            gamma_sol_ns = solution_no_spatial[(n_features+1)*n_classes:]\n",
    "            mu_sol_ns = dirichlet_regression.compute_mu_3(X, beta_sol_ns)\n",
    "            phi_ns = np.exp(np.matmul(Z,gamma_sol_ns))\n",
    "            \n",
    "            list_r2_ns_temp.append(r2_score(Y,mu_sol_ns))\n",
    "            list_rmse_ns_temp.append(mean_squared_error(Y,mu_sol_ns,squared=False))\n",
    "            list_ll_ns_temp.append(dirichlet_regression.dirichlet_loglikelihood(mu_sol_ns,phi_ns,Y))\n",
    "            list_crossentropy_ns_temp.append(-(1/size_test)*np.sum(Y*np.log(mu_sol_ns)))\n",
    "            \n",
    "            \n",
    "        except RuntimeError:\n",
    "            print(\"Factor is exactly singular\")\n",
    "        except np.linalg.LinAlgError:\n",
    "            print(\"Singular matrix\")\n",
    "        \n",
    "        seed+=1\n",
    "    list_r2_s.append(list_r2_s_temp)\n",
    "    list_rmse_s.append(list_rmse_s_temp)\n",
    "    list_ll_s.append(list_ll_s_temp)\n",
    "    list_crossentropy_s.append(list_crossentropy_s_temp)\n",
    "    list_r2_ns.append(list_r2_ns_temp)\n",
    "    list_rmse_ns.append(list_rmse_ns_temp)\n",
    "    list_ll_ns.append(list_ll_ns_temp)\n",
    "    list_crossentropy_ns.append(list_crossentropy_ns_temp)"
   ]
  },
  {
   "cell_type": "code",
   "execution_count": 149,
   "metadata": {},
   "outputs": [
    {
     "name": "stderr",
     "output_type": "stream",
     "text": [
      "C:\\Users\\tnguyen001\\AppData\\Roaming\\Python\\Python38\\site-packages\\numpy\\core\\_asarray.py:136: VisibleDeprecationWarning: Creating an ndarray from ragged nested sequences (which is a list-or-tuple of lists-or-tuples-or ndarrays with different lengths or shapes) is deprecated. If you meant to do this, you must specify 'dtype=object' when creating the ndarray\n",
      "  return array(a, dtype, copy=False, order=order, subok=True)\n"
     ]
    }
   ],
   "source": [
    "np.save('Data Dirichlet/list_r2_s_rho01.npy', list_r2_s)\n",
    "np.save('Data Dirichlet/list_rmse_s_rho01.npy', list_rmse_s)\n",
    "np.save('Data Dirichlet/list_ll_s_rho01.npy', list_ll_s)\n",
    "np.save('Data Dirichlet/list_crossentropy_s_rho01.npy', list_crossentropy_s)\n",
    "np.save('Data Dirichlet/list_r2_ns_rho01.npy', list_r2_ns)\n",
    "np.save('Data Dirichlet/list_rmse_ns_rho01.npy', list_rmse_ns)\n",
    "np.save('Data Dirichlet/list_ll_ns_rho01.npy', list_ll_ns)\n",
    "np.save('Data Dirichlet/list_crossentropy_ns_rho01.npy', list_crossentropy_ns)"
   ]
  },
  {
   "cell_type": "code",
   "execution_count": 152,
   "metadata": {},
   "outputs": [
    {
     "data": {
      "text/plain": [
       "0.1452828021079087"
      ]
     },
     "execution_count": 152,
     "metadata": {},
     "output_type": "execute_result"
    }
   ],
   "source": [
    "np.mean(list_r2_s[2])"
   ]
  },
  {
   "cell_type": "code",
   "execution_count": 153,
   "metadata": {},
   "outputs": [
    {
     "data": {
      "text/plain": [
       "0.15845481844720488"
      ]
     },
     "execution_count": 153,
     "metadata": {},
     "output_type": "execute_result"
    }
   ],
   "source": [
    "np.mean(list_r2_ns[2])"
   ]
  },
  {
   "cell_type": "code",
   "execution_count": null,
   "metadata": {},
   "outputs": [],
   "source": []
  },
  {
   "cell_type": "markdown",
   "metadata": {},
   "source": [
    "# RESULTS"
   ]
  },
  {
   "cell_type": "code",
   "execution_count": 15,
   "metadata": {},
   "outputs": [],
   "source": [
    "list_solutions_spatial_rho01 = np.load('Data Dirichlet/spatial_rho01.npy',allow_pickle=True)\n",
    "list_solutions_no_spatial_rho01 = np.load('Data Dirichlet/no_spatial_rho01.npy',allow_pickle=True)\n",
    "\n",
    "list_solutions_spatial_rho05 = np.load('Data Dirichlet/spatial_rho05.npy',allow_pickle=True)\n",
    "list_solutions_no_spatial_rho05 = np.load('Data Dirichlet/no_spatial_rho05.npy',allow_pickle=True)\n",
    "\n",
    "list_solutions_spatial_rho09 = np.load('Data Dirichlet/spatial_rho09.npy',allow_pickle=True)\n",
    "list_solutions_no_spatial_rho09 = np.load('Data Dirichlet/no_spatial_rho09.npy',allow_pickle=True)"
   ]
  },
  {
   "cell_type": "code",
   "execution_count": 16,
   "metadata": {},
   "outputs": [],
   "source": [
    "list_r2_s_rho01 = np.load('Data Dirichlet/list_r2_s_rho01.npy', allow_pickle=True)\n",
    "list_rmse_s_rho01 = np.load('Data Dirichlet/list_rmse_s_rho01.npy', allow_pickle=True)\n",
    "list_ll_s_rho01 = np.load('Data Dirichlet/list_ll_s_rho01.npy', allow_pickle=True)\n",
    "list_crossentropy_s_rho01 = np.load('Data Dirichlet/list_crossentropy_s_rho01.npy', allow_pickle=True)\n",
    "list_r2_ns_rho01 = np.load('Data Dirichlet/list_r2_ns_rho01.npy', allow_pickle=True)\n",
    "list_rmse_ns_rho01 = np.load('Data Dirichlet/list_rmse_ns_rho01.npy', allow_pickle=True)\n",
    "list_ll_ns_rho01 = np.load('Data Dirichlet/list_ll_ns_rho01.npy', allow_pickle=True)\n",
    "list_crossentropy_ns_rho01 = np.load('Data Dirichlet/list_crossentropy_ns_rho01.npy', allow_pickle=True)"
   ]
  },
  {
   "cell_type": "code",
   "execution_count": 17,
   "metadata": {},
   "outputs": [],
   "source": [
    "list_r2_s_rho05 = np.load('Data Dirichlet/list_r2_s_rho05.npy', allow_pickle=True)\n",
    "list_rmse_s_rho05 = np.load('Data Dirichlet/list_rmse_s_rho05.npy', allow_pickle=True)\n",
    "list_ll_s_rho05 = np.load('Data Dirichlet/list_ll_s_rho05.npy', allow_pickle=True)\n",
    "list_crossentropy_s_rho05 = np.load('Data Dirichlet/list_crossentropy_s_rho05.npy', allow_pickle=True)\n",
    "list_r2_ns_rho05 = np.load('Data Dirichlet/list_r2_ns_rho05.npy', allow_pickle=True)\n",
    "list_rmse_ns_rho05 = np.load('Data Dirichlet/list_rmse_ns_rho05.npy', allow_pickle=True)\n",
    "list_ll_ns_rho05 = np.load('Data Dirichlet/list_ll_ns_rho05.npy', allow_pickle=True)\n",
    "list_crossentropy_ns_rho05 = np.load('Data Dirichlet/list_crossentropy_ns_rho05.npy', allow_pickle=True)"
   ]
  },
  {
   "cell_type": "code",
   "execution_count": 18,
   "metadata": {},
   "outputs": [],
   "source": [
    "list_r2_s_rho09 = np.load('Data Dirichlet/list_r2_s_rho09.npy', allow_pickle=True)\n",
    "list_rmse_s_rho09 = np.load('Data Dirichlet/list_rmse_s_rho09.npy', allow_pickle=True)\n",
    "list_ll_s_rho09 = np.load('Data Dirichlet/list_ll_s_rho09.npy', allow_pickle=True)\n",
    "list_crossentropy_s_rho09 = np.load('Data Dirichlet/list_crossentropy_s_rho09.npy', allow_pickle=True)\n",
    "list_r2_ns_rho09 = np.load('Data Dirichlet/list_r2_ns_rho09.npy', allow_pickle=True)\n",
    "list_rmse_ns_rho09 = np.load('Data Dirichlet/list_rmse_ns_rho09.npy', allow_pickle=True)\n",
    "list_ll_ns_rho09 = np.load('Data Dirichlet/list_ll_ns_rho09.npy', allow_pickle=True)\n",
    "list_crossentropy_ns_rho09 = np.load('Data Dirichlet/list_crossentropy_ns_rho09.npy', allow_pickle=True)"
   ]
  },
  {
   "cell_type": "code",
   "execution_count": 19,
   "metadata": {},
   "outputs": [],
   "source": [
    "true_params = np.concatenate([beta.flatten(),gamma_var, [0.1]])\n",
    "list_results_bias_s, list_results_var_s, list_results_rmse_s = [], [], []\n",
    "list_results_bias_ns, list_results_var_ns, list_results_rmse_ns = [], [], []\n",
    "\n",
    "for i in range(3):\n",
    "    list_results_bias_s.append(np.mean(list_solutions_spatial_rho01[i],axis=0) - true_params)\n",
    "    list_results_var_s.append(np.var(list_solutions_spatial_rho01[i],axis=0))\n",
    "    \n",
    "    list_results_bias_ns.append(np.mean(list_solutions_no_spatial_rho01[i],axis=0) - true_params[:-1])\n",
    "    list_results_var_ns.append(np.var(list_solutions_no_spatial_rho01[i],axis=0))"
   ]
  },
  {
   "cell_type": "code",
   "execution_count": 20,
   "metadata": {},
   "outputs": [
    {
     "name": "stdout",
     "output_type": "stream",
     "text": [
      "+---------------------------------------------------------------------------------------------------------------------------------------------+\n",
      "|                                              PARAMETERS WITH SPATIAL (rho=0.1, 100 repetitions)                                             |\n",
      "+------------+-------------+--------------+---------------+------------+-------------+--------------+------------+-------------+--------------+\n",
      "| Parameters | Bias (n=50) | Bias (n=200) | Bias (n=1000) | Var (n=50) | Var (n=200) | Var (n=1000) | MSE (n=50) | MSE (n=200) | MSE (n=1000) |\n",
      "+------------+-------------+--------------+---------------+------------+-------------+--------------+------------+-------------+--------------+\n",
      "|   beta01   |     0.57    |    0.627     |     0.542     |   0.484    |    0.531    |    0.563     |   0.809    |    0.925    |    0.857     |\n",
      "|   beta02   |    -0.322   |    -0.394    |     -0.358    |    0.43    |    0.246    |    0.213     |   0.533    |    0.401    |    0.341     |\n",
      "|   beta11   |    -0.557   |    -0.619    |     -0.524    |   0.762    |    0.822    |    0.816     |   1.073    |    1.206    |    1.091     |\n",
      "|   beta12   |    0.503    |    0.618     |     0.551     |   0.696    |    0.369    |    0.385     |   0.949    |     0.75    |    0.688     |\n",
      "|   beta21   |    -0.382   |    -0.498    |     -0.423    |   0.702    |    0.497    |    0.489     |   0.848    |    0.746    |    0.668     |\n",
      "|   beta22   |    0.474    |    0.501     |     0.456     |   0.454    |    0.287    |    0.218     |   0.679    |    0.539    |    0.426     |\n",
      "|   gamma0   |    0.469    |    0.274     |     0.177     |   0.063    |    0.009    |    0.002     |   0.283    |    0.084    |    0.033     |\n",
      "|   gamma1   |    0.508    |    0.295     |     0.178     |   0.049    |    0.011    |    0.002     |   0.306    |    0.098    |    0.034     |\n",
      "|    rho     |    -0.136   |     0.02     |     0.023     |   0.502    |    0.451    |    0.392     |    0.52    |    0.452    |    0.393     |\n",
      "+------------+-------------+--------------+---------------+------------+-------------+--------------+------------+-------------+--------------+\n"
     ]
    }
   ],
   "source": [
    "pt = PrettyTable()\n",
    "pt.title = 'PARAMETERS WITH SPATIAL (rho=0.1, 100 repetitions)'\n",
    "columns_names = ['Parameters','Bias (n=50)', 'Bias (n=200)', 'Bias (n=1000)',\n",
    "                 'Var (n=50)', 'Var (n=200)', 'Var (n=1000)',  \n",
    "                 'MSE (n=50)', 'MSE (n=200)', 'MSE (n=1000)']\n",
    "rows_names = ['beta00','beta01','beta02','beta10','beta11','beta12','beta20','beta21','beta22','gamma0','gamma1','rho']\n",
    "pt.add_column(columns_names[0],rows_names)\n",
    "for i in range(len(list_results_bias_s)):\n",
    "    pt.add_column(columns_names[i+1],np.round(list_results_bias_s[i],3))\n",
    "for i in range(len(list_results_var_s)):\n",
    "    pt.add_column(columns_names[i+4],np.round(list_results_var_s[i],3))\n",
    "for i in range(len(list_results_bias_s)):\n",
    "    pt.add_column(columns_names[i+7],np.round(list_results_var_s[i]+list_results_bias_s[i]**2,3))\n",
    "    \n",
    "pt.del_row(0)\n",
    "pt.del_row(2)\n",
    "pt.del_row(4)\n",
    "print(pt)"
   ]
  },
  {
   "cell_type": "code",
   "execution_count": 21,
   "metadata": {},
   "outputs": [
    {
     "name": "stdout",
     "output_type": "stream",
     "text": [
      "+---------------------------------------------------------------------------------------------------------------------------------------------+\n",
      "|                                            PARAMETERS WITHOUT SPATIAL (rho=0.1, 100 repetitions)                                            |\n",
      "+------------+-------------+--------------+---------------+------------+-------------+--------------+------------+-------------+--------------+\n",
      "| Parameters | Bias (n=50) | Bias (n=200) | Bias (n=1000) | Var (n=50) | Var (n=200) | Var (n=1000) | MSE (n=50) | MSE (n=200) | MSE (n=1000) |\n",
      "+------------+-------------+--------------+---------------+------------+-------------+--------------+------------+-------------+--------------+\n",
      "|   beta01   |    0.538    |    0.489     |     0.393     |   0.166    |    0.033    |    0.008     |   0.456    |    0.272    |    0.163     |\n",
      "|   beta02   |    -0.355   |    -0.305    |     -0.265    |   0.151    |    0.057    |    0.009     |   0.277    |     0.15    |    0.079     |\n",
      "|   beta11   |    -0.519   |    -0.467    |     -0.345    |   0.285    |    0.063    |    0.017     |   0.554    |    0.281    |    0.136     |\n",
      "|   beta12   |    0.541    |    0.497     |     0.436     |   0.265    |    0.061    |    0.014     |   0.558    |    0.308    |    0.204     |\n",
      "|   beta21   |    -0.376   |    -0.357    |     -0.287    |   0.256    |    0.054    |    0.017     |   0.397    |    0.181    |    0.099     |\n",
      "|   beta22   |    0.499    |    0.421     |     0.359     |   0.166    |    0.083    |    0.016     |   0.415    |     0.26    |    0.144     |\n",
      "|   gamma0   |    0.461    |    0.272     |     0.177     |   0.061    |    0.009    |    0.002     |   0.274    |    0.083    |    0.033     |\n",
      "|   gamma1   |    0.505    |    0.295     |     0.178     |   0.048    |    0.011    |    0.002     |   0.303    |    0.097    |    0.034     |\n",
      "+------------+-------------+--------------+---------------+------------+-------------+--------------+------------+-------------+--------------+\n"
     ]
    }
   ],
   "source": [
    "pt = PrettyTable()\n",
    "pt.title = 'PARAMETERS WITHOUT SPATIAL (rho=0.1, 100 repetitions)'\n",
    "columns_names = ['Parameters','Bias (n=50)', 'Bias (n=200)', 'Bias (n=1000)',\n",
    "                 'Var (n=50)', 'Var (n=200)', 'Var (n=1000)',  \n",
    "                 'MSE (n=50)', 'MSE (n=200)', 'MSE (n=1000)']\n",
    "rows_names = ['beta00','beta01','beta02','beta10','beta11','beta12','beta20','beta21','beta22','gamma0','gamma1']\n",
    "pt.add_column(columns_names[0],rows_names)\n",
    "for i in range(len(list_results_bias_ns)):\n",
    "    pt.add_column(columns_names[i+1],np.round(list_results_bias_ns[i],3))\n",
    "for i in range(len(list_results_var_ns)):\n",
    "    pt.add_column(columns_names[i+4],np.round(list_results_var_ns[i],3))\n",
    "for i in range(len(list_results_bias_ns)):\n",
    "    pt.add_column(columns_names[i+7],np.round(list_results_var_ns[i]+list_results_bias_ns[i]**2,3))\n",
    "    \n",
    "pt.del_row(0)\n",
    "pt.del_row(2)\n",
    "pt.del_row(4)\n",
    "print(pt)"
   ]
  },
  {
   "cell_type": "code",
   "execution_count": 22,
   "metadata": {},
   "outputs": [],
   "source": [
    "true_params = np.concatenate([beta.flatten(),gamma_var, [0.5]])\n",
    "list_results_bias_s, list_results_var_s, list_results_rmse_s = [], [], []\n",
    "list_results_bias_ns, list_results_var_ns, list_results_rmse_ns = [], [], []\n",
    "\n",
    "for i in range(3):\n",
    "    list_results_bias_s.append(np.mean(list_solutions_spatial_rho05[i],axis=0) - true_params)\n",
    "    list_results_var_s.append(np.var(list_solutions_spatial_rho05[i],axis=0))\n",
    "    \n",
    "    list_results_bias_ns.append(np.mean(list_solutions_no_spatial_rho05[i],axis=0) - true_params[:-1])\n",
    "    list_results_var_ns.append(np.var(list_solutions_no_spatial_rho05[i],axis=0))"
   ]
  },
  {
   "cell_type": "code",
   "execution_count": 23,
   "metadata": {},
   "outputs": [
    {
     "name": "stdout",
     "output_type": "stream",
     "text": [
      "+---------------------------------------------------------------------------------------------------------------------------------------------+\n",
      "|                                              PARAMETERS WITH SPATIAL (rho=0.5, 100 repetitions)                                             |\n",
      "+------------+-------------+--------------+---------------+------------+-------------+--------------+------------+-------------+--------------+\n",
      "| Parameters | Bias (n=50) | Bias (n=200) | Bias (n=1000) | Var (n=50) | Var (n=200) | Var (n=1000) | MSE (n=50) | MSE (n=200) | MSE (n=1000) |\n",
      "+------------+-------------+--------------+---------------+------------+-------------+--------------+------------+-------------+--------------+\n",
      "|   beta01   |     0.72    |     0.89     |     0.961     |   0.451    |    0.284    |    0.337     |   0.969    |    1.076    |     1.26     |\n",
      "|   beta02   |    -0.409   |    -0.552    |     -0.578    |   0.294    |     0.11    |    0.155     |   0.461    |    0.414    |    0.489     |\n",
      "|   beta11   |    -0.694   |    -0.903    |     -0.985    |   0.755    |    0.451    |    0.559     |   1.236    |    1.266    |     1.53     |\n",
      "|   beta12   |     0.64    |    0.832     |     0.888     |   0.438    |    0.178    |    0.225     |   0.848    |    0.871    |    1.014     |\n",
      "|   beta21   |    -0.574   |    -0.742    |     -0.805    |   0.509    |    0.251    |    0.289     |   0.839    |    0.801    |    0.937     |\n",
      "|   beta22   |    0.564    |     0.68     |     0.698     |   0.495    |    0.101    |    0.147     |   0.813    |    0.563    |    0.634     |\n",
      "|   gamma0   |    0.512    |    0.283     |     0.178     |   0.065    |    0.009    |    0.002     |   0.326    |    0.089    |    0.034     |\n",
      "|   gamma1   |    0.528    |    0.337     |     0.197     |   0.055    |     0.01    |    0.002     |   0.334    |    0.124    |    0.041     |\n",
      "|    rho     |    -0.11    |    0.041     |     0.115     |   0.274    |    0.132    |    0.128     |   0.286    |    0.134    |    0.141     |\n",
      "+------------+-------------+--------------+---------------+------------+-------------+--------------+------------+-------------+--------------+\n"
     ]
    }
   ],
   "source": [
    "pt = PrettyTable()\n",
    "pt.title = 'PARAMETERS WITH SPATIAL (rho=0.5, 100 repetitions)'\n",
    "columns_names = ['Parameters','Bias (n=50)', 'Bias (n=200)', 'Bias (n=1000)',\n",
    "                 'Var (n=50)', 'Var (n=200)', 'Var (n=1000)',  \n",
    "                 'MSE (n=50)', 'MSE (n=200)', 'MSE (n=1000)']\n",
    "rows_names = ['beta00','beta01','beta02','beta10','beta11','beta12','beta20','beta21','beta22','gamma0','gamma1','rho']\n",
    "pt.add_column(columns_names[0],rows_names)\n",
    "for i in range(len(list_results_bias_s)):\n",
    "    pt.add_column(columns_names[i+1],np.round(list_results_bias_s[i],3))\n",
    "for i in range(len(list_results_var_s)):\n",
    "    pt.add_column(columns_names[i+4],np.round(list_results_var_s[i],3))\n",
    "for i in range(len(list_results_bias_s)):\n",
    "    pt.add_column(columns_names[i+7],np.round(list_results_var_s[i]+list_results_bias_s[i]**2,3))\n",
    "    \n",
    "pt.del_row(0)\n",
    "pt.del_row(2)\n",
    "pt.del_row(4)\n",
    "print(pt)"
   ]
  },
  {
   "cell_type": "code",
   "execution_count": 24,
   "metadata": {},
   "outputs": [
    {
     "name": "stdout",
     "output_type": "stream",
     "text": [
      "+---------------------------------------------------------------------------------------------------------------------------------------------+\n",
      "|                                            PARAMETERS WITHOUT SPATIAL (rho=0.5, 100 repetitions)                                            |\n",
      "+------------+-------------+--------------+---------------+------------+-------------+--------------+------------+-------------+--------------+\n",
      "| Parameters | Bias (n=50) | Bias (n=200) | Bias (n=1000) | Var (n=50) | Var (n=200) | Var (n=1000) | MSE (n=50) | MSE (n=200) | MSE (n=1000) |\n",
      "+------------+-------------+--------------+---------------+------------+-------------+--------------+------------+-------------+--------------+\n",
      "|   beta01   |    0.238    |    0.089     |     -0.049    |    0.15    |    0.035    |    0.007     |   0.206    |    0.043    |     0.01     |\n",
      "|   beta02   |    -0.098   |    -0.013    |     0.083     |   0.199    |    0.047    |    0.008     |   0.209    |    0.047    |    0.014     |\n",
      "|   beta11   |    -0.095   |    0.126     |     0.303     |   0.213    |    0.055    |    0.012     |   0.222    |    0.071    |    0.103     |\n",
      "|   beta12   |    0.212    |    0.171     |     0.087     |   0.275    |    0.066    |    0.014     |    0.32    |    0.096    |    0.021     |\n",
      "|   beta21   |    -0.046   |    0.017     |     0.133     |   0.279    |    0.056    |    0.013     |   0.281    |    0.056    |     0.03     |\n",
      "|   beta22   |    0.342    |    0.184     |     0.061     |   0.332    |    0.055    |    0.014     |   0.448    |    0.089    |    0.018     |\n",
      "|   gamma0   |    0.507    |    0.281     |     0.178     |    0.06    |    0.008    |    0.002     |   0.317    |    0.087    |    0.034     |\n",
      "|   gamma1   |    0.522    |    0.338     |     0.195     |    0.05    |    0.011    |    0.002     |   0.322    |    0.125    |     0.04     |\n",
      "+------------+-------------+--------------+---------------+------------+-------------+--------------+------------+-------------+--------------+\n"
     ]
    }
   ],
   "source": [
    "pt = PrettyTable()\n",
    "pt.title = 'PARAMETERS WITHOUT SPATIAL (rho=0.5, 100 repetitions)'\n",
    "columns_names = ['Parameters','Bias (n=50)', 'Bias (n=200)', 'Bias (n=1000)',\n",
    "                 'Var (n=50)', 'Var (n=200)', 'Var (n=1000)',  \n",
    "                 'MSE (n=50)', 'MSE (n=200)', 'MSE (n=1000)']\n",
    "rows_names = ['beta00','beta01','beta02','beta10','beta11','beta12','beta20','beta21','beta22','gamma0','gamma1']\n",
    "pt.add_column(columns_names[0],rows_names)\n",
    "for i in range(len(list_results_bias_ns)):\n",
    "    pt.add_column(columns_names[i+1],np.round(list_results_bias_ns[i],3))\n",
    "for i in range(len(list_results_var_ns)):\n",
    "    pt.add_column(columns_names[i+4],np.round(list_results_var_ns[i],3))\n",
    "for i in range(len(list_results_bias_ns)):\n",
    "    pt.add_column(columns_names[i+7],np.round(list_results_var_ns[i]+list_results_bias_ns[i]**2,3))\n",
    "    \n",
    "pt.del_row(0)\n",
    "pt.del_row(2)\n",
    "pt.del_row(4)\n",
    "print(pt)"
   ]
  },
  {
   "cell_type": "code",
   "execution_count": 25,
   "metadata": {},
   "outputs": [],
   "source": [
    "true_params = np.concatenate([beta.flatten(),gamma_var, [0.9]])\n",
    "list_results_bias_s, list_results_var_s, list_results_rmse_s = [], [], []\n",
    "list_results_bias_ns, list_results_var_ns, list_results_rmse_ns = [], [], []\n",
    "\n",
    "for i in range(3):\n",
    "    list_results_bias_s.append(np.mean(list_solutions_spatial_rho09[i],axis=0) - true_params)\n",
    "    list_results_var_s.append(np.var(list_solutions_spatial_rho09[i],axis=0))\n",
    "    \n",
    "    list_results_bias_ns.append(np.mean(list_solutions_no_spatial_rho09[i],axis=0) - true_params[:-1])\n",
    "    list_results_var_ns.append(np.var(list_solutions_no_spatial_rho09[i],axis=0))"
   ]
  },
  {
   "cell_type": "code",
   "execution_count": 26,
   "metadata": {},
   "outputs": [
    {
     "name": "stdout",
     "output_type": "stream",
     "text": [
      "+---------------------------------------------------------------------------------------------------------------------------------------------+\n",
      "|                                              PARAMETERS WITH SPATIAL (rho=0.9, 100 repetitions)                                             |\n",
      "+------------+-------------+--------------+---------------+------------+-------------+--------------+------------+-------------+--------------+\n",
      "| Parameters | Bias (n=50) | Bias (n=200) | Bias (n=1000) | Var (n=50) | Var (n=200) | Var (n=1000) | MSE (n=50) | MSE (n=200) | MSE (n=1000) |\n",
      "+------------+-------------+--------------+---------------+------------+-------------+--------------+------------+-------------+--------------+\n",
      "|   beta01   |    0.883    |    1.216     |     1.211     |   0.353    |    0.058    |    0.023     |   1.134    |    1.536    |    1.489     |\n",
      "|   beta02   |    -0.749   |    -0.507    |     -0.482    |   0.163    |    0.059    |    0.054     |   0.724    |    0.316    |    0.286     |\n",
      "|   beta11   |    -0.796   |    -1.055    |     -1.111    |   0.761    |    0.171    |    0.089     |   1.395    |    1.285    |    1.324     |\n",
      "|   beta12   |    1.085    |    0.968     |      0.93     |   0.185    |    0.052    |    0.034     |   1.362    |    0.988    |    0.899     |\n",
      "|   beta21   |    -0.791   |    -0.998    |     -0.996    |   0.344    |    0.058    |     0.03     |    0.97    |    1.054    |    1.022     |\n",
      "|   beta22   |    0.771    |    0.766     |     0.725     |   0.149    |    0.053    |    0.023     |   0.743    |    0.639    |    0.549     |\n",
      "|   gamma0   |     0.53    |    0.085     |     -0.097    |   0.079    |    0.014    |    0.013     |   0.361    |    0.022    |    0.023     |\n",
      "|   gamma1   |    0.549    |    0.147     |     -0.04     |   0.062    |    0.019    |    0.013     |   0.363    |    0.041    |    0.014     |\n",
      "|    rho     |    -0.194   |    -0.358    |     -0.208    |   0.094    |    0.099    |    0.038     |   0.131    |    0.227    |    0.082     |\n",
      "+------------+-------------+--------------+---------------+------------+-------------+--------------+------------+-------------+--------------+\n"
     ]
    }
   ],
   "source": [
    "pt = PrettyTable()\n",
    "pt.title = 'PARAMETERS WITH SPATIAL (rho=0.9, 100 repetitions)'\n",
    "columns_names = ['Parameters','Bias (n=50)', 'Bias (n=200)', 'Bias (n=1000)',\n",
    "                 'Var (n=50)', 'Var (n=200)', 'Var (n=1000)',  \n",
    "                 'MSE (n=50)', 'MSE (n=200)', 'MSE (n=1000)']\n",
    "rows_names = ['beta00','beta01','beta02','beta10','beta11','beta12','beta20','beta21','beta22','gamma0','gamma1','rho']\n",
    "pt.add_column(columns_names[0],rows_names)\n",
    "for i in range(len(list_results_bias_s)):\n",
    "    pt.add_column(columns_names[i+1],np.round(list_results_bias_s[i],3))\n",
    "for i in range(len(list_results_var_s)):\n",
    "    pt.add_column(columns_names[i+4],np.round(list_results_var_s[i],3))\n",
    "for i in range(len(list_results_bias_s)):\n",
    "    pt.add_column(columns_names[i+7],np.round(list_results_var_s[i]+list_results_bias_s[i]**2,3))\n",
    "    \n",
    "pt.del_row(0)\n",
    "pt.del_row(2)\n",
    "pt.del_row(4)\n",
    "print(pt)"
   ]
  },
  {
   "cell_type": "code",
   "execution_count": 27,
   "metadata": {},
   "outputs": [
    {
     "name": "stdout",
     "output_type": "stream",
     "text": [
      "+---------------------------------------------------------------------------------------------------------------------------------------------+\n",
      "|                                            PARAMETERS WITHOUT SPATIAL (rho=0.9, 100 repetitions)                                            |\n",
      "+------------+-------------+--------------+---------------+------------+-------------+--------------+------------+-------------+--------------+\n",
      "| Parameters | Bias (n=50) | Bias (n=200) | Bias (n=1000) | Var (n=50) | Var (n=200) | Var (n=1000) | MSE (n=50) | MSE (n=200) | MSE (n=1000) |\n",
      "+------------+-------------+--------------+---------------+------------+-------------+--------------+------------+-------------+--------------+\n",
      "|   beta01   |    -0.12    |    0.119     |     0.078     |   0.322    |    0.037    |    0.005     |   0.336    |    0.051    |    0.012     |\n",
      "|   beta02   |     -0.2    |    0.587     |      0.85     |   0.676    |    0.039    |    0.005     |   0.716    |    0.383    |    0.727     |\n",
      "|   beta11   |    0.773    |    0.671     |     0.744     |   0.538    |    0.094    |    0.011     |   1.135    |    0.544    |    0.564     |\n",
      "|   beta12   |    0.397    |    -0.167    |     -0.397    |   0.678    |    0.101    |    0.014     |   0.836    |    0.129    |    0.171     |\n",
      "|   beta21   |    0.097    |    -0.018    |     0.104     |   0.789    |    0.149    |    0.013     |   0.799    |     0.15    |    0.024     |\n",
      "|   beta22   |    0.136    |    -0.319    |     -0.463    |    0.78    |    0.099    |    0.015     |   0.798    |    0.201    |    0.229     |\n",
      "|   gamma0   |    0.477    |    0.136     |     -0.056    |   0.057    |    0.007    |    0.001     |   0.284    |    0.026    |    0.004     |\n",
      "|   gamma1   |    0.499    |    0.183     |     -0.013    |   0.047    |    0.006    |    0.001     |   0.296    |     0.04    |    0.001     |\n",
      "+------------+-------------+--------------+---------------+------------+-------------+--------------+------------+-------------+--------------+\n"
     ]
    }
   ],
   "source": [
    "pt = PrettyTable()\n",
    "pt.title = 'PARAMETERS WITHOUT SPATIAL (rho=0.9, 100 repetitions)'\n",
    "columns_names = ['Parameters','Bias (n=50)', 'Bias (n=200)', 'Bias (n=1000)',\n",
    "                 'Var (n=50)', 'Var (n=200)', 'Var (n=1000)',  \n",
    "                 'MSE (n=50)', 'MSE (n=200)', 'MSE (n=1000)']\n",
    "rows_names = ['beta00','beta01','beta02','beta10','beta11','beta12','beta20','beta21','beta22','gamma0','gamma1']\n",
    "pt.add_column(columns_names[0],rows_names)\n",
    "for i in range(len(list_results_bias_ns)):\n",
    "    pt.add_column(columns_names[i+1],np.round(list_results_bias_ns[i],3))\n",
    "for i in range(len(list_results_var_ns)):\n",
    "    pt.add_column(columns_names[i+4],np.round(list_results_var_ns[i],3))\n",
    "for i in range(len(list_results_bias_ns)):\n",
    "    pt.add_column(columns_names[i+7],np.round(list_results_var_ns[i]+list_results_bias_ns[i]**2,3))\n",
    "    \n",
    "pt.del_row(0)\n",
    "pt.del_row(2)\n",
    "pt.del_row(4)\n",
    "print(pt)"
   ]
  },
  {
   "cell_type": "markdown",
   "metadata": {},
   "source": [
    "# Table of the metrics"
   ]
  },
  {
   "cell_type": "code",
   "execution_count": 73,
   "metadata": {},
   "outputs": [],
   "source": [
    "list_rhos = [0.1, 0.5, 0.9]\n",
    "list_n = [50, 200, 1000]"
   ]
  },
  {
   "cell_type": "markdown",
   "metadata": {},
   "source": [
    "## rho=0.1"
   ]
  },
  {
   "cell_type": "code",
   "execution_count": 60,
   "metadata": {},
   "outputs": [
    {
     "name": "stdout",
     "output_type": "stream",
     "text": [
      "+-----------------------------------------------------------------------------------------+\n",
      "|                                         (rho=0.1)                                       |\n",
      "+---------------------+---------------+-------------------+---------------+---------------+\n",
      "|        Model        | Cross-entropy |        AIC        |      RMSE     |       R2      |\n",
      "+---------------------+---------------+-------------------+---------------+---------------+\n",
      "|    Spatial (n=50)   |  1.03 (0.106) | -5107.2 (406.996) | 0.332 (0.018) | 0.113 (0.106) |\n",
      "|   Spatial (n=200)   | 1.011 (0.015) |  -5523.0 (78.438) | 0.327 (0.005) | 0.137 (0.024) |\n",
      "|   Spatial (n=1000)  | 1.006 (0.017) |  -5621.0 (79.811) | 0.326 (0.006) | 0.145 (0.027) |\n",
      "|  No spatial (n=50)  | 1.013 (0.012) | -5257.4 (103.222) | 0.328 (0.005) | 0.133 (0.021) |\n",
      "|  No spatial (n=200) | 1.005 (0.009) |  -5561.4 (70.057) | 0.325 (0.003) | 0.148 (0.013) |\n",
      "| No spatial (n=1000) | 0.998 (0.008) |  -5655.2 (73.364) | 0.323 (0.003) | 0.158 (0.011) |\n",
      "+---------------------+---------------+-------------------+---------------+---------------+\n"
     ]
    }
   ],
   "source": [
    "columns_names = ['Model','Cross-entropy','AIC','RMSE','R2']\n",
    "pt = PrettyTable(columns_names)\n",
    "pt.title = ' (rho=0.1)'\n",
    "\n",
    "names_models_spatial = ['Spatial (n=50)','Spatial (n=200)','Spatial (n=1000)']\n",
    "for i in range(3):\n",
    "    pt.add_row([names_models_spatial[i], \n",
    "                str(np.round(np.mean(list_crossentropy_s_rho01[i]),3))+' ('+ str(np.round(np.std(list_crossentropy_s_rho01[i]),3)) +')',\n",
    "               str(2*8-2*np.round(np.mean(list_ll_s_rho01[i]),1))+' ('+ str(np.round(np.std(list_ll_s_rho01[i]),3)) +')',\n",
    "               str(np.round(np.mean(list_rmse_s_rho01[i]),3))+' ('+ str(np.round(np.std(list_rmse_s_rho01[i]),3)) +')',\n",
    "               str(np.round(np.mean(list_r2_s_rho01[i]),3))+' ('+ str(np.round(np.std(list_r2_s_rho01[i]),3)) +')'])\n",
    "\n",
    "names_models_no_spatial = ['No spatial (n=50)','No spatial (n=200)','No spatial (n=1000)']\n",
    "for i in range(3):\n",
    "    pt.add_row([names_models_no_spatial[i], \n",
    "                str(np.round(np.mean(list_crossentropy_ns_rho01[i]),3))+' ('+ str(np.round(np.std(list_crossentropy_ns_rho01[i]),3)) +')',\n",
    "               str(2*7-2*np.round(np.mean(list_ll_ns_rho01[i]),1))+' ('+ str(np.round(np.std(list_ll_ns_rho01[i]),3)) +')',\n",
    "               str(np.round(np.mean(list_rmse_ns_rho01[i]),3))+' ('+ str(np.round(np.std(list_rmse_ns_rho01[i]),3)) +')',\n",
    "               str(np.round(np.mean(list_r2_ns_rho01[i]),3))+' ('+ str(np.round(np.std(list_r2_ns_rho01[i]),3)) +')'])\n",
    "\n",
    "print(pt)"
   ]
  },
  {
   "cell_type": "markdown",
   "metadata": {},
   "source": [
    "### Are the differences significant ?"
   ]
  },
  {
   "cell_type": "code",
   "execution_count": 74,
   "metadata": {},
   "outputs": [
    {
     "name": "stdout",
     "output_type": "stream",
     "text": [
      "Crossentropy:\n",
      "n = 50 : Ttest_indResult(statistic=1.5966832058600458, pvalue=0.11201585735826985)\n",
      "n = 200 : Ttest_indResult(statistic=3.8474789874190107, pvalue=0.00016284825191729128)\n",
      "n = 1000 : Ttest_indResult(statistic=4.023444396470198, pvalue=8.578120214893112e-05)\n",
      "AIC:\n",
      "n = 50 : Ttest_indResult(statistic=1.7356697101654592, pvalue=0.08426074860553005)\n",
      "n = 200 : Ttest_indResult(statistic=1.7740172513408625, pvalue=0.07766190631752876)\n",
      "n = 1000 : Ttest_indResult(statistic=1.4597508653575728, pvalue=0.14618257343056096)\n",
      "RMSE:\n",
      "n = 50 : Ttest_indResult(statistic=1.7972249980654909, pvalue=0.07390488955160163)\n",
      "n = 200 : Ttest_indResult(statistic=3.433480392753679, pvalue=0.0007314380165384939)\n",
      "n = 1000 : Ttest_indResult(statistic=3.654826854726912, pvalue=0.0003415908304340376)\n",
      "R2:\n",
      "n = 50 : Ttest_indResult(statistic=-1.8144198208159859, pvalue=0.07120719232183449)\n",
      "n = 200 : Ttest_indResult(statistic=-3.9604543771023493, pvalue=0.00010570475107898151)\n",
      "n = 1000 : Ttest_indResult(statistic=-4.126283041085054, pvalue=5.7340155579434755e-05)\n"
     ]
    }
   ],
   "source": [
    "print(\"Crossentropy:\")\n",
    "for i in range(3):\n",
    "    print('n =',list_n[i],':',ttest_ind(list_crossentropy_s_rho01[i],list_crossentropy_ns_rho01[i]))\n",
    "print(\"AIC:\")\n",
    "for i in range(3):\n",
    "    print('n =',list_n[i],':',ttest_ind(2*8-2*np.array(list_ll_s_rho01[i]),2*7-2*np.array(list_ll_ns_rho01[i])))\n",
    "print(\"RMSE:\")\n",
    "for i in range(3):\n",
    "    print('n =',list_n[i],':',ttest_ind(list_rmse_s_rho01[i],list_rmse_ns_rho01[i]))\n",
    "print(\"R2:\")\n",
    "for i in range(3):\n",
    "    print('n =',list_n[i],':',ttest_ind(list_r2_s_rho01[i],list_r2_ns_rho01[i]))"
   ]
  },
  {
   "cell_type": "markdown",
   "metadata": {},
   "source": [
    "## rho=0.5"
   ]
  },
  {
   "cell_type": "code",
   "execution_count": 81,
   "metadata": {},
   "outputs": [
    {
     "name": "stdout",
     "output_type": "stream",
     "text": [
      "+------------------------------------------------------------------------------------------+\n",
      "|                                         (rho=0.5)                                        |\n",
      "+---------------------+---------------+--------------------+---------------+---------------+\n",
      "|        Model        | Cross-entropy |        AIC         |      RMSE     |       R2      |\n",
      "+---------------------+---------------+--------------------+---------------+---------------+\n",
      "|    Spatial (n=50)   | 0.938 (0.021) | -6801.6 (131.497)  | 0.319 (0.007) | 0.222 (0.034) |\n",
      "|   Spatial (n=200)   | 0.981 (0.383) | -6890.2 (1129.235) | 0.322 (0.029) | 0.202 (0.203) |\n",
      "|   Spatial (n=1000)  | 0.942 (0.033) | -7231.4 (119.867)  |  0.32 (0.011) |  0.22 (0.048) |\n",
      "|  No spatial (n=50)  | 0.933 (0.014) | -6859.8 (123.052)  | 0.317 (0.005) |  0.23 (0.023) |\n",
      "|  No spatial (n=200) | 0.916 (0.012) |  -7259.2 (98.223)  | 0.311 (0.004) | 0.259 (0.014) |\n",
      "| No spatial (n=1000) | 0.906 (0.011) |  -7342.6 (89.265)  | 0.309 (0.004) | 0.271 (0.013) |\n",
      "+---------------------+---------------+--------------------+---------------+---------------+\n"
     ]
    }
   ],
   "source": [
    "columns_names = ['Model','Cross-entropy','AIC','RMSE','R2']\n",
    "pt = PrettyTable(columns_names)\n",
    "pt.title = ' (rho=0.5)'\n",
    "\n",
    "names_models_spatial = ['Spatial (n=50)','Spatial (n=200)','Spatial (n=1000)']\n",
    "for i in range(3):\n",
    "    pt.add_row([names_models_spatial[i], \n",
    "                str(np.round(np.mean(list_crossentropy_s_rho05[i]),3))+' ('+ str(np.round(np.std(list_crossentropy_s_rho05[i]),3)) +')',\n",
    "               str(2*8-2*np.round(np.mean(list_ll_s_rho05[i]),1))+' ('+ str(np.round(np.std(list_ll_s_rho05[i]),3)) +')',\n",
    "               str(np.round(np.mean(list_rmse_s_rho05[i]),3))+' ('+ str(np.round(np.std(list_rmse_s_rho05[i]),3)) +')',\n",
    "               str(np.round(np.mean(list_r2_s_rho05[i]),3))+' ('+ str(np.round(np.std(list_r2_s_rho05[i]),3)) +')'])\n",
    "\n",
    "names_models_no_spatial = ['No spatial (n=50)','No spatial (n=200)','No spatial (n=1000)']\n",
    "for i in range(3):\n",
    "    pt.add_row([names_models_no_spatial[i], \n",
    "                str(np.round(np.mean(list_crossentropy_ns_rho05[i]),3))+' ('+ str(np.round(np.std(list_crossentropy_ns_rho05[i]),3)) +')',\n",
    "               str(2*7-2*np.round(np.mean(list_ll_ns_rho05[i]),1))+' ('+ str(np.round(np.std(list_ll_ns_rho05[i]),3)) +')',\n",
    "               str(np.round(np.mean(list_rmse_ns_rho05[i]),3))+' ('+ str(np.round(np.std(list_rmse_ns_rho05[i]),3)) +')',\n",
    "               str(np.round(np.mean(list_r2_ns_rho05[i]),3))+' ('+ str(np.round(np.std(list_r2_ns_rho05[i]),3)) +')'])\n",
    "\n",
    "print(pt)"
   ]
  },
  {
   "cell_type": "markdown",
   "metadata": {},
   "source": [
    "### Are the differences significant ?"
   ]
  },
  {
   "cell_type": "code",
   "execution_count": 76,
   "metadata": {},
   "outputs": [
    {
     "name": "stdout",
     "output_type": "stream",
     "text": [
      "Crossentropy:\n",
      "n = 50 : Ttest_indResult(statistic=1.9949628946678348, pvalue=0.047461219847241116)\n",
      "n = 200 : Ttest_indResult(statistic=1.6339229587649136, pvalue=0.10396649403731979)\n",
      "n = 1000 : Ttest_indResult(statistic=9.525447524690174, pvalue=1.5375600559820565e-17)\n",
      "AIC:\n",
      "n = 50 : Ttest_indResult(statistic=1.585151029564151, pvalue=0.11457766164534434)\n",
      "n = 200 : Ttest_indResult(statistic=1.5702064973384642, pvalue=0.11806666252647041)\n",
      "n = 1000 : Ttest_indResult(statistic=3.445539012449353, pvalue=0.0007161627353361512)\n",
      "RMSE:\n",
      "n = 50 : Ttest_indResult(statistic=1.8399377043139304, pvalue=0.0673212222720747)\n",
      "n = 200 : Ttest_indResult(statistic=3.542915816553939, pvalue=0.0005003351133082463)\n",
      "n = 1000 : Ttest_indResult(statistic=9.493524187097227, pvalue=1.8800410049971998e-17)\n",
      "R2:\n",
      "n = 50 : Ttest_indResult(statistic=-1.7537043835575714, pvalue=0.08107681832266006)\n",
      "n = 200 : Ttest_indResult(statistic=-2.675354180637494, pvalue=0.008130762590297267)\n",
      "n = 1000 : Ttest_indResult(statistic=-9.508242280817178, pvalue=1.7136117050872874e-17)\n"
     ]
    }
   ],
   "source": [
    "print(\"Crossentropy:\")\n",
    "for i in range(3):\n",
    "    print('n =',list_n[i],':',ttest_ind(list_crossentropy_s_rho05[i],list_crossentropy_ns_rho05[i]))\n",
    "print(\"AIC:\")\n",
    "for i in range(3):\n",
    "    print('n =',list_n[i],':',ttest_ind(2*8-2*np.array(list_ll_s_rho05[i]),2*7-2*np.array(list_ll_ns_rho05[i])))\n",
    "print(\"RMSE:\")\n",
    "for i in range(3):\n",
    "    print('n =',list_n[i],':',ttest_ind(list_rmse_s_rho05[i],list_rmse_ns_rho05[i]))\n",
    "print(\"R2:\")\n",
    "for i in range(3):\n",
    "    print('n =',list_n[i],':',ttest_ind(list_r2_s_rho05[i],list_r2_ns_rho05[i]))"
   ]
  },
  {
   "cell_type": "markdown",
   "metadata": {},
   "source": [
    "## rho=0.9"
   ]
  },
  {
   "cell_type": "code",
   "execution_count": 80,
   "metadata": {},
   "outputs": [
    {
     "name": "stdout",
     "output_type": "stream",
     "text": [
      "+------------------------------------------------------------------------------------------+\n",
      "|                                         (rho=0.9)                                        |\n",
      "+---------------------+---------------+--------------------+---------------+---------------+\n",
      "|        Model        | Cross-entropy |        AIC         |      RMSE     |       R2      |\n",
      "+---------------------+---------------+--------------------+---------------+---------------+\n",
      "|    Spatial (n=50)   |  1.33 (2.883) | -6891.4 (9153.223) | 0.337 (0.064) | 0.187 (0.387) |\n",
      "|   Spatial (n=200)   | 0.897 (0.069) | -10973.4 (232.507) | 0.342 (0.023) | 0.195 (0.097) |\n",
      "|   Spatial (n=1000)  | 0.859 (0.047) | -11337.8 (149.607) | 0.331 (0.016) | 0.247 (0.076) |\n",
      "|  No spatial (n=50)  |  0.798 (0.03) | -10785.8 (236.556) |  0.314 (0.01) |  0.317 (0.04) |\n",
      "|  No spatial (n=200) | 0.798 (0.024) | -11349.2 (166.437) | 0.311 (0.006) | 0.323 (0.033) |\n",
      "| No spatial (n=1000) |  0.789 (0.02) | -11397.2 (130.428) | 0.309 (0.005) | 0.328 (0.032) |\n",
      "+---------------------+---------------+--------------------+---------------+---------------+\n"
     ]
    }
   ],
   "source": [
    "columns_names = ['Model','Cross-entropy','AIC','RMSE','R2']\n",
    "pt = PrettyTable(columns_names)\n",
    "pt.title = ' (rho=0.9)'\n",
    "\n",
    "names_models_spatial = ['Spatial (n=50)','Spatial (n=200)','Spatial (n=1000)']\n",
    "for i in range(3):\n",
    "    pt.add_row([names_models_spatial[i], \n",
    "                str(np.round(np.mean(list_crossentropy_s_rho09[i]),3))+' ('+ str(np.round(np.std(list_crossentropy_s_rho09[i]),3)) +')',\n",
    "               str(2*8-2*np.round(np.mean(list_ll_s_rho09[i]),1))+' ('+ str(np.round(np.std(list_ll_s_rho09[i]),3)) +')',\n",
    "               str(np.round(np.mean(list_rmse_s_rho09[i]),3))+' ('+ str(np.round(np.std(list_rmse_s_rho09[i]),3)) +')',\n",
    "               str(np.round(np.mean(list_r2_s_rho09[i]),3))+' ('+ str(np.round(np.std(list_r2_s_rho09[i]),3)) +')'])\n",
    "\n",
    "names_models_no_spatial = ['No spatial (n=50)','No spatial (n=200)','No spatial (n=1000)']\n",
    "for i in range(3):\n",
    "    pt.add_row([names_models_no_spatial[i], \n",
    "                str(np.round(np.mean(list_crossentropy_ns_rho09[i]),3))+' ('+ str(np.round(np.std(list_crossentropy_ns_rho09[i]),3)) +')',\n",
    "               str(2*7-2*np.round(np.mean(list_ll_ns_rho09[i]),1))+' ('+ str(np.round(np.std(list_ll_ns_rho09[i]),3)) +')',\n",
    "               str(np.round(np.mean(list_rmse_ns_rho09[i]),3))+' ('+ str(np.round(np.std(list_rmse_ns_rho09[i]),3)) +')',\n",
    "               str(np.round(np.mean(list_r2_ns_rho09[i]),3))+' ('+ str(np.round(np.std(list_r2_ns_rho09[i]),3)) +')'])\n",
    "\n",
    "print(pt)"
   ]
  },
  {
   "cell_type": "markdown",
   "metadata": {},
   "source": [
    "### Are the differences significant ?"
   ]
  },
  {
   "cell_type": "code",
   "execution_count": 78,
   "metadata": {},
   "outputs": [
    {
     "name": "stdout",
     "output_type": "stream",
     "text": [
      "Crossentropy:\n",
      "n = 50 : Ttest_indResult(statistic=1.7973578946907518, pvalue=0.07386682012749358)\n",
      "n = 200 : Ttest_indResult(statistic=13.16444310803694, pvalue=1.7878496156216504e-28)\n",
      "n = 1000 : Ttest_indResult(statistic=12.396499534017103, pvalue=2.117828425945094e-25)\n",
      "AIC:\n",
      "n = 50 : Ttest_indResult(statistic=2.072815235497252, pvalue=0.039539003561855364)\n",
      "n = 200 : Ttest_indResult(statistic=6.371753965817999, pvalue=1.4039665141682583e-09)\n",
      "n = 1000 : Ttest_indResult(statistic=1.3655048611820433, pvalue=0.17394190589713002)\n",
      "RMSE:\n",
      "n = 50 : Ttest_indResult(statistic=3.5238580918484654, pvalue=0.0005328033685755596)\n",
      "n = 200 : Ttest_indResult(statistic=12.940514191846919, pvalue=8.357176244355951e-28)\n",
      "n = 1000 : Ttest_indResult(statistic=11.669426346015918, pvalue=2.3370477195495366e-23)\n",
      "R2:\n",
      "n = 50 : Ttest_indResult(statistic=-3.2573493297347342, pvalue=0.001332004362761349)\n",
      "n = 200 : Ttest_indResult(statistic=-11.991386466442355, pvalue=5.65177643399942e-25)\n",
      "n = 1000 : Ttest_indResult(statistic=-8.92507795511661, pvalue=7.983677140864765e-16)\n"
     ]
    }
   ],
   "source": [
    "print(\"Crossentropy:\")\n",
    "for i in range(3):\n",
    "    print('n =',list_n[i],':',ttest_ind(list_crossentropy_s_rho09[i],list_crossentropy_ns_rho09[i]))\n",
    "print(\"AIC:\")\n",
    "for i in range(3):\n",
    "    print('n =',list_n[i],':',ttest_ind(2*8-2*np.array(list_ll_s_rho09[i]),2*7-2*np.array(list_ll_ns_rho09[i])))\n",
    "print(\"RMSE:\")\n",
    "for i in range(3):\n",
    "    print('n =',list_n[i],':',ttest_ind(list_rmse_s_rho09[i],list_rmse_ns_rho09[i]))\n",
    "print(\"R2:\")\n",
    "for i in range(3):\n",
    "    print('n =',list_n[i],':',ttest_ind(list_r2_s_rho09[i],list_r2_ns_rho09[i]))"
   ]
  },
  {
   "cell_type": "code",
   "execution_count": null,
   "metadata": {},
   "outputs": [],
   "source": []
  }
 ],
 "metadata": {
  "kernelspec": {
   "display_name": "Python 3",
   "language": "python",
   "name": "python3"
  },
  "language_info": {
   "codemirror_mode": {
    "name": "ipython",
    "version": 3
   },
   "file_extension": ".py",
   "mimetype": "text/x-python",
   "name": "python",
   "nbconvert_exporter": "python",
   "pygments_lexer": "ipython3",
   "version": "3.8.5"
  }
 },
 "nbformat": 4,
 "nbformat_minor": 4
}
