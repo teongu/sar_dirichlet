{
 "cells": [
  {
   "cell_type": "markdown",
   "metadata": {},
   "source": [
    "# Importing the packages and data"
   ]
  },
  {
   "cell_type": "code",
   "execution_count": 1,
   "metadata": {},
   "outputs": [],
   "source": [
    "%load_ext autoreload\n",
    "%autoreload 2"
   ]
  },
  {
   "cell_type": "code",
   "execution_count": 2,
   "metadata": {},
   "outputs": [],
   "source": [
    "import numpy as np\n",
    "import pandas as pd\n",
    "import matplotlib.pyplot as plt\n",
    "from mpl_toolkits import mplot3d\n",
    "import scipy\n",
    "from sklearn.metrics import r2_score\n",
    "from sklearn.metrics import mean_squared_error\n",
    "from scipy.special import gamma, digamma, polygamma\n",
    "import math\n",
    "from sklearn.preprocessing import StandardScaler\n",
    "\n",
    "from sklearn.neighbors import NearestNeighbors\n",
    "from sklearn.model_selection import train_test_split\n",
    "from sklearn.model_selection import KFold\n",
    "import random\n",
    "\n",
    "import scipy.optimize\n",
    "from scipy.stats import ttest_ind\n",
    "from scipy.optimize import Bounds\n",
    "\n",
    "from prettytable import PrettyTable"
   ]
  },
  {
   "cell_type": "code",
   "execution_count": 3,
   "metadata": {},
   "outputs": [],
   "source": [
    "from multiprocessing import Pool\n",
    "from functools import partial"
   ]
  },
  {
   "cell_type": "code",
   "execution_count": 4,
   "metadata": {},
   "outputs": [],
   "source": [
    "import sys\n",
    "sys.path.append(\"../smote_cd/\")\n",
    "import smote_cd"
   ]
  },
  {
   "cell_type": "code",
   "execution_count": 6,
   "metadata": {},
   "outputs": [],
   "source": [
    "import sys\n",
    "sys.path.append(\"../../coral_mapping/\")\n",
    "import segments_regressor\n",
    "import coral_map_tests"
   ]
  },
  {
   "cell_type": "code",
   "execution_count": 7,
   "metadata": {},
   "outputs": [],
   "source": [
    "import dirichlet_regression"
   ]
  },
  {
   "cell_type": "code",
   "execution_count": 15,
   "metadata": {},
   "outputs": [
    {
     "data": {
      "text/plain": [
       "'1.9.1'"
      ]
     },
     "execution_count": 15,
     "metadata": {},
     "output_type": "execute_result"
    }
   ],
   "source": [
    "# sur ordi MQ:\n",
    "scipy.__version__"
   ]
  },
  {
   "cell_type": "code",
   "execution_count": 77,
   "metadata": {},
   "outputs": [
    {
     "data": {
      "text/plain": [
       "'1.4.1'"
      ]
     },
     "execution_count": 77,
     "metadata": {},
     "output_type": "execute_result"
    }
   ],
   "source": [
    "# sur mon ordi perso:\n",
    "scipy.__version__"
   ]
  },
  {
   "cell_type": "code",
   "execution_count": 51,
   "metadata": {},
   "outputs": [],
   "source": [
    "def cos_similarity(x1,x2):\n",
    "    return(np.mean([np.dot(x1[i],x2[i])/(np.linalg.norm(x1[i])*np.linalg.norm(x2[i])) for i in range(len(x1))]))"
   ]
  },
  {
   "cell_type": "markdown",
   "metadata": {},
   "source": [
    "# Loading Maupiti data"
   ]
  },
  {
   "cell_type": "code",
   "execution_count": 10,
   "metadata": {},
   "outputs": [],
   "source": [
    "img_B02 = np.load('../../maupiti/Satellite Images/sentinel_B2_new.npy')\n",
    "img_B03 = np.load('../../maupiti/Satellite Images/sentinel_B3_new.npy')\n",
    "img_B04 = np.load('../../maupiti/Satellite Images/sentinel_B4_new.npy')\n",
    "img_B08 = np.load('../../maupiti/Satellite Images/sentinel_B8_new.npy')"
   ]
  },
  {
   "cell_type": "code",
   "execution_count": 11,
   "metadata": {},
   "outputs": [],
   "source": [
    "img_B02 = np.load('../../maupiti/Satellite Images/sentinel_B2_20220828.npy')\n",
    "img_B03 = np.load('../../maupiti/Satellite Images/sentinel_B3_20220828.npy')\n",
    "img_B04 = np.load('../../maupiti/Satellite Images/sentinel_B4_20220828.npy')\n",
    "img_B08 = np.load('../../maupiti/Satellite Images/sentinel_B8_20220828.npy')"
   ]
  },
  {
   "cell_type": "code",
   "execution_count": 13,
   "metadata": {},
   "outputs": [],
   "source": [
    "maupiti_zones = np.load('../../maupiti/Satellite Images/sentinel_rugo_new.npy')\n",
    "#maupiti_zones = np.load('../maupiti/Satellite Images/sentinel_rugo_new_grouped_8.npy')"
   ]
  },
  {
   "cell_type": "code",
   "execution_count": 14,
   "metadata": {},
   "outputs": [],
   "source": [
    "map_test=coral_map_tests.coral_map([img_B02,img_B03,img_B04,img_B08], map_img=maupiti_zones)"
   ]
  },
  {
   "cell_type": "code",
   "execution_count": 15,
   "metadata": {},
   "outputs": [
    {
     "data": {
      "text/plain": [
       "2322"
      ]
     },
     "execution_count": 15,
     "metadata": {},
     "output_type": "execute_result"
    }
   ],
   "source": [
    "map_test.segmentation(method='fz',scale=0.9, min_size=40)\n",
    "np.max(map_test.segments)"
   ]
  },
  {
   "cell_type": "code",
   "execution_count": 16,
   "metadata": {},
   "outputs": [],
   "source": [
    "boundaries = coral_map_tests.find_boundaries(map_test.segments)\n",
    "adjacent_segments,_ = segments_regressor.find_adjacent_segments(map_test.segments, boundaries)"
   ]
  },
  {
   "cell_type": "code",
   "execution_count": 17,
   "metadata": {},
   "outputs": [],
   "source": [
    "X_maupiti = segments_regressor.create_features(map_test.segments, map_test.blue_band, map_test.green_band, map_test.red_band, map_test.nir_band)\n",
    "Y_maupiti = coral_map_tests.create_labels_dataset(map_test.segments,map_test.map_img)"
   ]
  },
  {
   "cell_type": "code",
   "execution_count": 18,
   "metadata": {},
   "outputs": [
    {
     "data": {
      "image/png": "[encoded data removed]",
      "text/plain": [
       "<Figure size 480x480 with 1 Axes>"
      ]
     },
     "metadata": {},
     "output_type": "display_data"
    }
   ],
   "source": [
    "plt.matshow(X_maupiti.corr())\n",
    "plt.show()"
   ]
  },
  {
   "cell_type": "code",
   "execution_count": 19,
   "metadata": {},
   "outputs": [],
   "source": [
    "# Create correlation matrix\n",
    "corr_matrix = X_maupiti.corr().abs()\n",
    "\n",
    "# Select upper triangle of correlation matrix\n",
    "upper = corr_matrix.where(np.triu(np.ones(corr_matrix.shape), k=1).astype(bool))\n",
    "\n",
    "# Find features with correlation greater than 0.95\n",
    "to_drop = [column for column in upper.columns if any(upper[column] > 0.4)]\n",
    "\n",
    "# Drop features \n",
    "X_maupiti_less_features = X_maupiti.drop(to_drop, axis=1)"
   ]
  },
  {
   "cell_type": "code",
   "execution_count": 20,
   "metadata": {},
   "outputs": [
    {
     "data": {
      "text/html": [
       "<div>\n",
       "<style scoped>\n",
       "    .dataframe tbody tr th:only-of-type {\n",
       "        vertical-align: middle;\n",
       "    }\n",
       "\n",
       "    .dataframe tbody tr th {\n",
       "        vertical-align: top;\n",
       "    }\n",
       "\n",
       "    .dataframe thead th {\n",
       "        text-align: right;\n",
       "    }\n",
       "</style>\n",
       "<table border=\"1\" class=\"dataframe\">\n",
       "  <thead>\n",
       "    <tr style=\"text-align: right;\">\n",
       "      <th></th>\n",
       "      <th>mean_blue</th>\n",
       "      <th>var_blue</th>\n",
       "      <th>mean_nir</th>\n",
       "      <th>skew_nir</th>\n",
       "      <th>kurt_nir</th>\n",
       "    </tr>\n",
       "  </thead>\n",
       "  <tbody>\n",
       "    <tr>\n",
       "      <th>mean_blue</th>\n",
       "      <td>1.000000</td>\n",
       "      <td>0.338209</td>\n",
       "      <td>-0.259352</td>\n",
       "      <td>0.052624</td>\n",
       "      <td>0.004406</td>\n",
       "    </tr>\n",
       "    <tr>\n",
       "      <th>var_blue</th>\n",
       "      <td>0.338209</td>\n",
       "      <td>1.000000</td>\n",
       "      <td>0.213142</td>\n",
       "      <td>0.030445</td>\n",
       "      <td>-0.005806</td>\n",
       "    </tr>\n",
       "    <tr>\n",
       "      <th>mean_nir</th>\n",
       "      <td>-0.259352</td>\n",
       "      <td>0.213142</td>\n",
       "      <td>1.000000</td>\n",
       "      <td>-0.222240</td>\n",
       "      <td>-0.080753</td>\n",
       "    </tr>\n",
       "    <tr>\n",
       "      <th>skew_nir</th>\n",
       "      <td>0.052624</td>\n",
       "      <td>0.030445</td>\n",
       "      <td>-0.222240</td>\n",
       "      <td>1.000000</td>\n",
       "      <td>0.009483</td>\n",
       "    </tr>\n",
       "    <tr>\n",
       "      <th>kurt_nir</th>\n",
       "      <td>0.004406</td>\n",
       "      <td>-0.005806</td>\n",
       "      <td>-0.080753</td>\n",
       "      <td>0.009483</td>\n",
       "      <td>1.000000</td>\n",
       "    </tr>\n",
       "  </tbody>\n",
       "</table>\n",
       "</div>"
      ],
      "text/plain": [
       "           mean_blue  var_blue  mean_nir  skew_nir  kurt_nir\n",
       "mean_blue   1.000000  0.338209 -0.259352  0.052624  0.004406\n",
       "var_blue    0.338209  1.000000  0.213142  0.030445 -0.005806\n",
       "mean_nir   -0.259352  0.213142  1.000000 -0.222240 -0.080753\n",
       "skew_nir    0.052624  0.030445 -0.222240  1.000000  0.009483\n",
       "kurt_nir    0.004406 -0.005806 -0.080753  0.009483  1.000000"
      ]
     },
     "execution_count": 20,
     "metadata": {},
     "output_type": "execute_result"
    }
   ],
   "source": [
    "X_maupiti_less_features.corr()"
   ]
  },
  {
   "cell_type": "code",
   "execution_count": null,
   "metadata": {},
   "outputs": [],
   "source": []
  },
  {
   "cell_type": "code",
   "execution_count": 21,
   "metadata": {},
   "outputs": [],
   "source": [
    "#n_features = 5\n",
    "n_classes = 15\n",
    "n_samples = X_maupiti.shape[0]"
   ]
  },
  {
   "cell_type": "code",
   "execution_count": 22,
   "metadata": {},
   "outputs": [],
   "source": [
    "Y_star_maupiti = (Y_maupiti*(n_samples-1)+1/n_classes)/n_samples"
   ]
  },
  {
   "cell_type": "code",
   "execution_count": 26,
   "metadata": {},
   "outputs": [],
   "source": [
    "Z_maupiti = np.ones((n_samples,n_features))"
   ]
  },
  {
   "cell_type": "code",
   "execution_count": 23,
   "metadata": {},
   "outputs": [],
   "source": [
    "Z_maupiti = np.ones(n_samples).reshape(-1,1)\n",
    "#Z_maupiti = np.ones((n_samples,2))\n",
    "#Z_maupiti[:,1] = np.array(X_maupiti)[:,0]/np.max(np.array(X_maupiti)[:,0])"
   ]
  },
  {
   "cell_type": "code",
   "execution_count": 24,
   "metadata": {},
   "outputs": [],
   "source": [
    "W_maupiti = np.zeros((n_samples,n_samples))\n",
    "for i in range(n_samples):\n",
    "    W_maupiti[i,adjacent_segments[i]]=1\n",
    "\n",
    "W_maupiti = W_maupiti/W_maupiti.sum(axis=1)[:,None]"
   ]
  },
  {
   "cell_type": "code",
   "execution_count": 25,
   "metadata": {},
   "outputs": [],
   "source": [
    "X = StandardScaler().fit(X_maupiti_less_features).transform(X_maupiti_less_features)"
   ]
  },
  {
   "cell_type": "code",
   "execution_count": 71,
   "metadata": {},
   "outputs": [],
   "source": [
    "n_features = 16\n",
    "X = StandardScaler().fit(X_maupiti).transform(X_maupiti)"
   ]
  },
  {
   "cell_type": "code",
   "execution_count": 72,
   "metadata": {},
   "outputs": [],
   "source": [
    "train_ind, test_ind = train_test_split(np.arange(len(X)),test_size=0.2)\n",
    "\n",
    "X_train, X_test = X[train_ind], X[test_ind]\n",
    "Y_train, Y_test = Y_star_maupiti[train_ind], Y_star_maupiti[test_ind]\n",
    "Z_train, Z_test = Z_maupiti[train_ind], Z_maupiti[test_ind]\n",
    "W_train, W_test = W_maupiti[train_ind][:,train_ind], W_maupiti[test_ind][:,test_ind]"
   ]
  },
  {
   "cell_type": "markdown",
   "metadata": {},
   "source": [
    "# Regressor"
   ]
  },
  {
   "cell_type": "markdown",
   "metadata": {},
   "source": [
    "## With 16 features"
   ]
  },
  {
   "cell_type": "markdown",
   "metadata": {},
   "source": [
    "### With Loglikelihood"
   ]
  },
  {
   "cell_type": "code",
   "execution_count": 73,
   "metadata": {},
   "outputs": [
    {
     "name": "stdout",
     "output_type": "stream",
     "text": [
      "Optimization terminated successfully.\n",
      "Wall time: 3.7 s\n"
     ]
    }
   ],
   "source": [
    "%%time\n",
    "reg = dirichlet_regression.dirichletRegressor()\n",
    "reg.fit(X_train, Y_train, parametrization='alternative', gamma_0=gamma_0, Z=Z_train)"
   ]
  },
  {
   "cell_type": "code",
   "execution_count": 74,
   "metadata": {},
   "outputs": [
    {
     "data": {
      "text/plain": [
       "-0.3364438444037062"
      ]
     },
     "execution_count": 74,
     "metadata": {},
     "output_type": "execute_result"
    }
   ],
   "source": [
    "r2_score(Y_train,reg.mu)"
   ]
  },
  {
   "cell_type": "code",
   "execution_count": 75,
   "metadata": {},
   "outputs": [],
   "source": [
    "mu_pred = reg.pred(X_test)"
   ]
  },
  {
   "cell_type": "code",
   "execution_count": 76,
   "metadata": {},
   "outputs": [
    {
     "data": {
      "text/plain": [
       "-2.3821006387234576"
      ]
     },
     "execution_count": 76,
     "metadata": {},
     "output_type": "execute_result"
    }
   ],
   "source": [
    "r2_score(Y_test,mu_pred)"
   ]
  },
  {
   "cell_type": "markdown",
   "metadata": {},
   "source": [
    "### With crossentropy, no spatial"
   ]
  },
  {
   "cell_type": "code",
   "execution_count": 97,
   "metadata": {},
   "outputs": [
    {
     "name": "stdout",
     "output_type": "stream",
     "text": [
      "Optimization terminated successfully.\n",
      "Wall time: 22 s\n"
     ]
    }
   ],
   "source": [
    "%%time\n",
    "reg = dirichlet_regression.dirichletRegressor()\n",
    "reg.fit(X_train, Y_train, loss='crossentropy')"
   ]
  },
  {
   "cell_type": "code",
   "execution_count": 98,
   "metadata": {},
   "outputs": [
    {
     "data": {
      "text/plain": [
       "0.4838197257623873"
      ]
     },
     "execution_count": 98,
     "metadata": {},
     "output_type": "execute_result"
    }
   ],
   "source": [
    "r2_score(Y_train,reg.mu)"
   ]
  },
  {
   "cell_type": "code",
   "execution_count": 99,
   "metadata": {},
   "outputs": [],
   "source": [
    "mu_pred = reg.pred(X_test)"
   ]
  },
  {
   "cell_type": "code",
   "execution_count": 100,
   "metadata": {},
   "outputs": [
    {
     "data": {
      "text/plain": [
       "0.28540962755415233"
      ]
     },
     "execution_count": 100,
     "metadata": {},
     "output_type": "execute_result"
    }
   ],
   "source": [
    "r2_score(Y_test,mu_pred)"
   ]
  },
  {
   "cell_type": "markdown",
   "metadata": {},
   "source": [
    "### With crossentropy, spatial"
   ]
  },
  {
   "cell_type": "code",
   "execution_count": 160,
   "metadata": {},
   "outputs": [
    {
     "name": "stdout",
     "output_type": "stream",
     "text": [
      "CONVERGENCE: REL_REDUCTION_OF_F_<=_FACTR*EPSMCH\n",
      "Wall time: 17min 25s\n"
     ]
    }
   ],
   "source": [
    "%%time\n",
    "reg = dirichlet_regression.dirichletRegressor(spatial=True)\n",
    "reg.fit(X_train, Y_train, W=W_train, loss='crossentropy')"
   ]
  },
  {
   "cell_type": "code",
   "execution_count": 161,
   "metadata": {},
   "outputs": [
    {
     "data": {
      "text/plain": [
       "0.6105318463476359"
      ]
     },
     "execution_count": 161,
     "metadata": {},
     "output_type": "execute_result"
    }
   ],
   "source": [
    "r2_score(Y_train,reg.mu)"
   ]
  },
  {
   "cell_type": "code",
   "execution_count": 162,
   "metadata": {},
   "outputs": [],
   "source": [
    "mu_pred = reg.pred(X_test, W_test)"
   ]
  },
  {
   "cell_type": "code",
   "execution_count": 163,
   "metadata": {},
   "outputs": [
    {
     "data": {
      "text/plain": [
       "-3.1075760837067934"
      ]
     },
     "execution_count": 163,
     "metadata": {},
     "output_type": "execute_result"
    }
   ],
   "source": [
    "r2_score(Y_test,mu_pred)"
   ]
  },
  {
   "cell_type": "code",
   "execution_count": 164,
   "metadata": {},
   "outputs": [
    {
     "data": {
      "text/plain": [
       "0.6327776844930929"
      ]
     },
     "execution_count": 164,
     "metadata": {},
     "output_type": "execute_result"
    }
   ],
   "source": [
    "cos_similarity(Y_test,mu_pred)"
   ]
  },
  {
   "cell_type": "markdown",
   "metadata": {},
   "source": [
    "## Generating new data"
   ]
  },
  {
   "cell_type": "code",
   "execution_count": 130,
   "metadata": {},
   "outputs": [],
   "source": [
    "mu_pred = reg.pred(X)\n",
    "phi = np.ones(n_samples)\n",
    "alpha = np.copy(mu_pred)"
   ]
  },
  {
   "cell_type": "code",
   "execution_count": 148,
   "metadata": {},
   "outputs": [],
   "source": [
    "Y_gen_1 = np.array([np.random.dirichlet(alpha_i) for alpha_i in alpha])\n",
    "Y_gen_2 = np.array([np.random.dirichlet(alpha_i) for alpha_i in alpha])\n",
    "#Y_gen = (Y_gen*(n_samples-1)+1/n_classes)/n_samples"
   ]
  },
  {
   "cell_type": "code",
   "execution_count": 149,
   "metadata": {},
   "outputs": [
    {
     "data": {
      "text/plain": [
       "0.7078637893750632"
      ]
     },
     "execution_count": 149,
     "metadata": {},
     "output_type": "execute_result"
    }
   ],
   "source": [
    "cos_similarity(Y_gen_1, Y_gen_2)"
   ]
  },
  {
   "cell_type": "code",
   "execution_count": 151,
   "metadata": {},
   "outputs": [
    {
     "data": {
      "text/plain": [
       "0.688130212638314"
      ]
     },
     "execution_count": 151,
     "metadata": {},
     "output_type": "execute_result"
    }
   ],
   "source": [
    "cos_similarity(Y_maupiti, Y_gen_1)"
   ]
  },
  {
   "cell_type": "code",
   "execution_count": 152,
   "metadata": {},
   "outputs": [
    {
     "data": {
      "text/plain": [
       "0.6947053171539339"
      ]
     },
     "execution_count": 152,
     "metadata": {},
     "output_type": "execute_result"
    }
   ],
   "source": [
    "cos_similarity(Y_maupiti, Y_gen_2)"
   ]
  },
  {
   "cell_type": "code",
   "execution_count": 146,
   "metadata": {},
   "outputs": [
    {
     "data": {
      "text/plain": [
       "0.6142918639690056"
      ]
     },
     "execution_count": 146,
     "metadata": {},
     "output_type": "execute_result"
    }
   ],
   "source": [
    "np.sum(np.argmax(Y_gen_2, axis=1)==np.argmax(Y_gen_1, axis=1))/len(Y_gen_1)"
   ]
  },
  {
   "cell_type": "code",
   "execution_count": 157,
   "metadata": {},
   "outputs": [
    {
     "name": "stdout",
     "output_type": "stream",
     "text": [
      "Optimization terminated successfully.\n",
      "Wall time: 4.48 s\n"
     ]
    }
   ],
   "source": [
    "%%time\n",
    "reg_new = dirichlet_regression.dirichletRegressor()\n",
    "reg_new.fit(X, Y_gen, parametrization='common')"
   ]
  },
  {
   "cell_type": "code",
   "execution_count": 158,
   "metadata": {},
   "outputs": [
    {
     "data": {
      "text/plain": [
       "-0.4727465361501843"
      ]
     },
     "execution_count": 158,
     "metadata": {},
     "output_type": "execute_result"
    }
   ],
   "source": [
    "r2_score(Y_gen,reg_new.mu)"
   ]
  },
  {
   "cell_type": "code",
   "execution_count": 159,
   "metadata": {},
   "outputs": [
    {
     "data": {
      "text/plain": [
       "0.4458196232694107"
      ]
     },
     "execution_count": 159,
     "metadata": {},
     "output_type": "execute_result"
    }
   ],
   "source": [
    "cos_similarity(Y_gen,reg_new.mu)"
   ]
  },
  {
   "cell_type": "code",
   "execution_count": 127,
   "metadata": {},
   "outputs": [
    {
     "data": {
      "text/plain": [
       "array([ -3.97770679, -14.07922739,  -4.24259467,  -2.0415123 ,\n",
       "       -19.8365689 ,  -2.6400011 ,  -6.27914489,  -2.98380746,\n",
       "       -37.37833584,  -3.04713605,  -3.46575933,  -2.3179701 ,\n",
       "        -5.6161542 ,  -1.26375839])"
      ]
     },
     "execution_count": 127,
     "metadata": {},
     "output_type": "execute_result"
    }
   ],
   "source": [
    "reg.beta[0]"
   ]
  },
  {
   "cell_type": "code",
   "execution_count": 128,
   "metadata": {},
   "outputs": [
    {
     "data": {
      "text/plain": [
       "array([-0.38185857, -0.39070573, -0.35687258, -0.31027235, -0.29822204,\n",
       "       -0.32563863, -0.3565974 , -0.359803  , -0.38783607, -0.21677661,\n",
       "       -0.2006109 , -0.31267373, -0.31646407, -0.23415727])"
      ]
     },
     "execution_count": 128,
     "metadata": {},
     "output_type": "execute_result"
    }
   ],
   "source": [
    "reg_new.beta[0]"
   ]
  },
  {
   "cell_type": "code",
   "execution_count": 153,
   "metadata": {},
   "outputs": [
    {
     "name": "stdout",
     "output_type": "stream",
     "text": [
      "Optimization terminated successfully.\n",
      "Wall time: 4.76 s\n"
     ]
    }
   ],
   "source": [
    "%%time\n",
    "reg_new = dirichlet_regression.dirichletRegressor()\n",
    "reg_new.fit(X, Y_gen, parametrization='alternative', Z=np.ones((n_samples,1)))"
   ]
  },
  {
   "cell_type": "code",
   "execution_count": 155,
   "metadata": {},
   "outputs": [
    {
     "data": {
      "text/plain": [
       "0.6554543557287389"
      ]
     },
     "execution_count": 155,
     "metadata": {},
     "output_type": "execute_result"
    }
   ],
   "source": [
    "cos_similarity(Y_gen,reg_new.mu)"
   ]
  },
  {
   "cell_type": "code",
   "execution_count": 156,
   "metadata": {},
   "outputs": [
    {
     "data": {
      "text/plain": [
       "array([-0.96490239, -0.97897766, -0.9065782 , -0.80883927, -0.77551239,\n",
       "       -0.83848864, -0.90430579, -0.91528413, -0.97238489, -0.55892051,\n",
       "       -0.51220447, -0.81487893, -0.81176393, -0.60630327])"
      ]
     },
     "execution_count": 156,
     "metadata": {},
     "output_type": "execute_result"
    }
   ],
   "source": [
    "reg_new.beta[0]"
   ]
  },
  {
   "cell_type": "markdown",
   "metadata": {},
   "source": [
    "## With 5 features"
   ]
  },
  {
   "cell_type": "code",
   "execution_count": 27,
   "metadata": {},
   "outputs": [],
   "source": [
    "gamma_0 = [0.]"
   ]
  },
  {
   "cell_type": "code",
   "execution_count": 63,
   "metadata": {},
   "outputs": [
    {
     "name": "stdout",
     "output_type": "stream",
     "text": [
      "Optimization terminated successfully.\n",
      "Wall time: 782 ms\n"
     ]
    }
   ],
   "source": [
    "%%time\n",
    "reg = dirichlet_regression.dirichletRegressor()\n",
    "reg.fit(X_train, Y_train, parametrization='alternative', gamma_0=gamma_0, Z=Z_train)"
   ]
  },
  {
   "cell_type": "code",
   "execution_count": 64,
   "metadata": {},
   "outputs": [],
   "source": [
    "mu_pred = reg.pred(X_test)"
   ]
  },
  {
   "cell_type": "code",
   "execution_count": 66,
   "metadata": {},
   "outputs": [
    {
     "data": {
      "text/plain": [
       "-0.3074978247701289"
      ]
     },
     "execution_count": 66,
     "metadata": {},
     "output_type": "execute_result"
    }
   ],
   "source": [
    "r2_score(Y_train,reg.mu)"
   ]
  },
  {
   "cell_type": "code",
   "execution_count": 67,
   "metadata": {
    "scrolled": true
   },
   "outputs": [
    {
     "data": {
      "text/plain": [
       "0.4913747870507699"
      ]
     },
     "execution_count": 67,
     "metadata": {},
     "output_type": "execute_result"
    }
   ],
   "source": [
    "cos_similarity(Y_train,reg.mu)"
   ]
  },
  {
   "cell_type": "code",
   "execution_count": 65,
   "metadata": {
    "scrolled": false
   },
   "outputs": [
    {
     "data": {
      "text/plain": [
       "-0.14830795844616956"
      ]
     },
     "execution_count": 65,
     "metadata": {},
     "output_type": "execute_result"
    }
   ],
   "source": [
    "r2_score(Y_test,mu_pred)"
   ]
  },
  {
   "cell_type": "code",
   "execution_count": 68,
   "metadata": {},
   "outputs": [],
   "source": [
    "l_lambda_reg = np.arange(0, 1.5, 0.1)"
   ]
  },
  {
   "cell_type": "code",
   "execution_count": 69,
   "metadata": {},
   "outputs": [
    {
     "name": "stdout",
     "output_type": "stream",
     "text": [
      "Optimization terminated successfully.\n",
      "Optimization terminated successfully.\n",
      "Optimization terminated successfully.\n",
      "Optimization terminated successfully.\n",
      "Optimization terminated successfully.\n",
      "Optimization terminated successfully.\n",
      "Optimization terminated successfully.\n",
      "Optimization terminated successfully.\n",
      "Optimization terminated successfully.\n",
      "Optimization terminated successfully.\n",
      "Optimization terminated successfully.\n",
      "Optimization terminated successfully.\n",
      "Optimization terminated successfully.\n",
      "Optimization terminated successfully.\n",
      "Optimization terminated successfully.\n",
      "Wall time: 5.33 s\n"
     ]
    }
   ],
   "source": [
    "%%time\n",
    "l_r2_train = []\n",
    "l_similarity_train = []\n",
    "l_r2_test = []\n",
    "l_similarity_test = []\n",
    "for lambda_reg in l_lambda_reg:\n",
    "    reg = dirichlet_regression.dirichletRegressor()\n",
    "    reg.fit(X_train, Y_train, parametrization='alternative', gamma_0=gamma_0, Z=Z_train, regularization=lambda_reg)\n",
    "    l_r2_train.append(r2_score(Y_train,reg.mu))\n",
    "    l_similarity_train.append(cos_similarity(Y_train,reg.mu))\n",
    "    mu_pred = reg.pred(X_test)\n",
    "    l_r2_test.append(r2_score(Y_test,mu_pred))\n",
    "    l_similarity_test.append(cos_similarity(Y_test,mu_pred))"
   ]
  },
  {
   "cell_type": "code",
   "execution_count": 70,
   "metadata": {},
   "outputs": [
    {
     "data": {
      "image/png": "[encoded data removed]",
      "text/plain": [
       "<Figure size 1000x400 with 2 Axes>"
      ]
     },
     "metadata": {},
     "output_type": "display_data"
    }
   ],
   "source": [
    "fig, ax = plt.subplots(1,2,figsize=(10,4))\n",
    "\n",
    "ax[0].plot(l_lambda_reg, l_r2_train, label='train')\n",
    "ax[0].plot(l_lambda_reg, l_r2_test, label='test')\n",
    "ax[0].set_xlabel(\"lambda\")\n",
    "ax[0].set_ylabel(\"R2\")\n",
    "ax[0].legend()\n",
    "\n",
    "ax[1].plot(l_lambda_reg, l_similarity_train, label='train')\n",
    "ax[1].plot(l_lambda_reg, l_similarity_test, label='test')\n",
    "ax[1].set_xlabel(\"lambda\")\n",
    "ax[1].set_ylabel(\"Cosine similarity\")\n",
    "ax[1].legend()\n",
    "\n",
    "plt.show()"
   ]
  },
  {
   "cell_type": "code",
   "execution_count": 34,
   "metadata": {},
   "outputs": [
    {
     "name": "stdout",
     "output_type": "stream",
     "text": [
      "STOP: TOTAL NO. of f AND g EVALUATIONS EXCEEDS LIMIT\n",
      "Wall time: 1min 46s\n"
     ]
    }
   ],
   "source": [
    "%%time\n",
    "reg = dirichlet_regression.dirichletRegressor(spatial=True)\n",
    "reg.fit(X_train, Y_train, W=W_train, parametrization='alternative', gamma_0=gamma_0, Z=Z_train)"
   ]
  },
  {
   "cell_type": "code",
   "execution_count": 35,
   "metadata": {},
   "outputs": [
    {
     "data": {
      "text/plain": [
       "-0.36315396767676866"
      ]
     },
     "execution_count": 35,
     "metadata": {},
     "output_type": "execute_result"
    }
   ],
   "source": [
    "r2_score(Y_train,reg.mu)"
   ]
  },
  {
   "cell_type": "code",
   "execution_count": null,
   "metadata": {},
   "outputs": [],
   "source": []
  }
 ],
 "metadata": {
  "kernelspec": {
   "display_name": "Python 3 (ipykernel)",
   "language": "python",
   "name": "python3"
  },
  "language_info": {
   "codemirror_mode": {
    "name": "ipython",
    "version": 3
   },
   "file_extension": ".py",
   "mimetype": "text/x-python",
   "name": "python",
   "nbconvert_exporter": "python",
   "pygments_lexer": "ipython3",
   "version": "3.9.13"
  }
 },
 "nbformat": 4,
 "nbformat_minor": 4
}
