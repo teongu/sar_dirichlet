{
 "cells": [
  {
   "cell_type": "markdown",
   "metadata": {},
   "source": [
    "# Importing the packages and data"
   ]
  },
  {
   "cell_type": "code",
   "execution_count": 1,
   "metadata": {},
   "outputs": [],
   "source": [
    "%load_ext autoreload\n",
    "%autoreload 2"
   ]
  },
  {
   "cell_type": "code",
   "execution_count": 2,
   "metadata": {},
   "outputs": [
    {
     "name": "stderr",
     "output_type": "stream",
     "text": [
      "C:\\Users\\tnguyen001\\AppData\\Roaming\\Python\\Python38\\site-packages\\pandas\\core\\computation\\expressions.py:20: UserWarning: Pandas requires version '2.7.3' or newer of 'numexpr' (version '2.7.1' currently installed).\n",
      "  from pandas.core.computation.check import NUMEXPR_INSTALLED\n"
     ]
    }
   ],
   "source": [
    "import numpy as np\n",
    "import pandas as pd\n",
    "import matplotlib.pyplot as plt\n",
    "import scipy\n",
    "from sklearn.metrics import r2_score, mean_squared_error\n",
    "\n",
    "from sklearn.neighbors import NearestNeighbors\n",
    "from sklearn.model_selection import train_test_split\n",
    "from sklearn.model_selection import KFold"
   ]
  },
  {
   "cell_type": "code",
   "execution_count": 3,
   "metadata": {},
   "outputs": [],
   "source": [
    "import sys\n",
    "sys.path.insert(1, '../sar_dirichlet')\n",
    "import dirichlet_regression\n",
    "import dirichlet_regression_opti"
   ]
  },
  {
   "cell_type": "code",
   "execution_count": 4,
   "metadata": {},
   "outputs": [],
   "source": [
    "from func_test import cos_similarity, create_features_matrices"
   ]
  },
  {
   "cell_type": "code",
   "execution_count": 5,
   "metadata": {},
   "outputs": [],
   "source": [
    "from statsmodels.stats.correlation_tools import cov_nearest"
   ]
  },
  {
   "cell_type": "markdown",
   "metadata": {},
   "source": [
    "# With two features"
   ]
  },
  {
   "cell_type": "code",
   "execution_count": 6,
   "metadata": {},
   "outputs": [],
   "source": [
    "n_features = 2\n",
    "n_classes = 3"
   ]
  },
  {
   "cell_type": "code",
   "execution_count": 7,
   "metadata": {},
   "outputs": [],
   "source": [
    "np.random.seed(21)\n",
    "\n",
    "beta = np.array([[0.  , 0. , .1],\n",
    "                 [0.  , 1., -2.],\n",
    "                 [0.  , -1., -2. ]])\n",
    "\n",
    "gamma_var = np.array([2.,3.])"
   ]
  },
  {
   "cell_type": "code",
   "execution_count": 8,
   "metadata": {},
   "outputs": [],
   "source": [
    "n_repeat = 100\n",
    "list_n_samples = [50,200,1000]"
   ]
  },
  {
   "cell_type": "code",
   "execution_count": 9,
   "metadata": {},
   "outputs": [],
   "source": [
    "cov_matrix = np.array([[1., 0.2], [0.2, 1.]])"
   ]
  },
  {
   "cell_type": "markdown",
   "metadata": {},
   "source": [
    "# Estimation of the parameters"
   ]
  },
  {
   "cell_type": "code",
   "execution_count": 10,
   "metadata": {},
   "outputs": [],
   "source": [
    "def diagonalize(M):\n",
    "    eigenvalues, P = np.linalg.eig(M)\n",
    "    D = np.diag(eigenvalues)\n",
    "    return(P, D)"
   ]
  },
  {
   "cell_type": "code",
   "execution_count": 262,
   "metadata": {},
   "outputs": [],
   "source": [
    "n_samples=1000\n",
    "I = np.identity(n_samples)"
   ]
  },
  {
   "cell_type": "markdown",
   "metadata": {},
   "source": [
    "If $W$ is diagonalizable, then $W = PDP^{-1}$ with $D$ a diagonal matrix.\n",
    "\n",
    "\\begin{align*}\n",
    "    (I - \\rho W)^{-1} &= (I - \\rho PDP^{-1})^{-1}\\\\\n",
    "    &= P P^{-1} (I - \\rho PDP^{-1})^{-1} P P^{-1}\\\\\n",
    "    &= P \\left( P^{-1} (I - \\rho PDP^{-1}) P \\right)^{-1} P^{-1}\\\\\n",
    "    &= P (I - \\rho D)^{-1} P^{-1}\n",
    "\\end{align*}\n",
    "\n",
    "We just need to compute the inverse of $(I - \\rho D)$, which is straightforward because it is a diagonal matrix."
   ]
  },
  {
   "cell_type": "code",
   "execution_count": 263,
   "metadata": {},
   "outputs": [],
   "source": [
    "rho=0.9\n",
    "\n",
    "X,Z,W = create_features_matrices(n_samples,n_features,choice_W='random_distance',nneighbors=10,cov_mat=cov_matrix)\n",
    "#X,Z,W = create_features_matrices(n_samples,n_features,choice_W='X_dependant',nneighbors=10,cov_mat=cov_matrix)\n",
    "Z[:,0] = 1\n",
    "M = np.identity(n_samples) - rho*W\n",
    "\n",
    "mu = dirichlet_regression.compute_mu_spatial(X, beta, M)\n",
    "#phi = np.exp(np.matmul(Z,gamma_var))\n",
    "phi = 15*np.ones(n_samples)\n",
    "alpha = mu*phi[:,None]\n",
    "\n",
    "Y = np.array([np.random.dirichlet(alpha_i) for alpha_i in alpha])\n",
    "Y = (Y*(n_samples-1)+1/n_classes)/n_samples"
   ]
  },
  {
   "cell_type": "code",
   "execution_count": 149,
   "metadata": {},
   "outputs": [
    {
     "name": "stdout",
     "output_type": "stream",
     "text": [
      "Wall time: 17.5 ms\n"
     ]
    }
   ],
   "source": [
    "%%time\n",
    "P, D = diagonalize(W)"
   ]
  },
  {
   "cell_type": "code",
   "execution_count": 150,
   "metadata": {},
   "outputs": [
    {
     "data": {
      "text/plain": [
       "0"
      ]
     },
     "execution_count": 150,
     "metadata": {},
     "output_type": "execute_result"
    }
   ],
   "source": [
    "np.count_nonzero(D - np.diag(np.diagonal(D)))"
   ]
  },
  {
   "cell_type": "code",
   "execution_count": 250,
   "metadata": {},
   "outputs": [],
   "source": [
    "X,Z,W = create_features_matrices(100,n_features,choice_W='random_distance',nneighbors=10,cov_mat=cov_matrix)\n",
    "P, D = diagonalize(W)"
   ]
  },
  {
   "cell_type": "code",
   "execution_count": 251,
   "metadata": {},
   "outputs": [
    {
     "name": "stdout",
     "output_type": "stream",
     "text": [
      "Wall time: 7.58 ms\n"
     ]
    }
   ],
   "source": [
    "%%time\n",
    "for _ in range(10):\n",
    "    _ = np.linalg.solve(W,X)"
   ]
  },
  {
   "cell_type": "code",
   "execution_count": 252,
   "metadata": {},
   "outputs": [
    {
     "name": "stdout",
     "output_type": "stream",
     "text": [
      "Wall time: 5.95 ms\n"
     ]
    }
   ],
   "source": [
    "%%time\n",
    "for _ in range(10):\n",
    "    _ = scipy.sparse.linalg.spsolve(scipy.sparse.csc_matrix(W),X)"
   ]
  },
  {
   "cell_type": "code",
   "execution_count": 247,
   "metadata": {},
   "outputs": [
    {
     "data": {
      "text/plain": [
       "array([[ 1.00000000e+00,  1.69085362e-01,  1.83208429e+01],\n",
       "       [ 1.00000000e+00,  4.16044940e+02,  1.62099400e+02],\n",
       "       [ 1.00000000e+00,  2.34437882e+01, -2.08899893e+02],\n",
       "       ...,\n",
       "       [ 1.00000000e+00,  4.37445091e+02,  2.70346265e+02],\n",
       "       [ 1.00000000e+00,  2.96413876e+00, -4.52302075e+01],\n",
       "       [ 1.00000000e+00, -1.67055035e+02, -6.45088825e+01]])"
      ]
     },
     "execution_count": 247,
     "metadata": {},
     "output_type": "execute_result"
    }
   ],
   "source": [
    "scipy.sparse.linalg.spsolve(W,X)"
   ]
  },
  {
   "cell_type": "code",
   "execution_count": 228,
   "metadata": {},
   "outputs": [
    {
     "name": "stdout",
     "output_type": "stream",
     "text": [
      "Wall time: 3.31 s\n"
     ]
    }
   ],
   "source": [
    "%%time\n",
    "for _ in range(100):\n",
    "    _ = np.linalg.solve(D,X)"
   ]
  },
  {
   "cell_type": "code",
   "execution_count": 229,
   "metadata": {},
   "outputs": [],
   "source": [
    "real_D = np.real(D)"
   ]
  },
  {
   "cell_type": "code",
   "execution_count": 230,
   "metadata": {},
   "outputs": [
    {
     "name": "stdout",
     "output_type": "stream",
     "text": [
      "Wall time: 1.39 s\n"
     ]
    }
   ],
   "source": [
    "%%time\n",
    "for _ in range(100):\n",
    "    _ = np.linalg.solve(real_D,X)"
   ]
  },
  {
   "cell_type": "code",
   "execution_count": 157,
   "metadata": {},
   "outputs": [
    {
     "data": {
      "text/plain": [
       "array([0])"
      ]
     },
     "execution_count": 157,
     "metadata": {},
     "output_type": "execute_result"
    }
   ],
   "source": [
    "np.unique(list_diag)"
   ]
  },
  {
   "cell_type": "code",
   "execution_count": 74,
   "metadata": {},
   "outputs": [
    {
     "name": "stdout",
     "output_type": "stream",
     "text": [
      "Wall time: 6.74 ms\n"
     ]
    }
   ],
   "source": [
    "%%time\n",
    "P_inv = np.linalg.inv(P)"
   ]
  },
  {
   "cell_type": "code",
   "execution_count": 44,
   "metadata": {},
   "outputs": [
    {
     "data": {
      "text/plain": [
       "array([[2.59849232, 0.11146171, 0.01440941, ..., 0.02620055, 0.33420755,\n",
       "        0.09144548],\n",
       "       [0.31872717, 1.34901474, 0.03606924, ..., 0.02446734, 0.25647855,\n",
       "        0.40477143],\n",
       "       [0.08237921, 0.0925271 , 1.16257419, ..., 0.07508788, 0.22105144,\n",
       "        0.27340195],\n",
       "       ...,\n",
       "       [0.02390978, 0.0103739 , 0.01099595, ..., 3.12372319, 0.07750869,\n",
       "        0.01965522],\n",
       "       [0.20136214, 0.08485114, 0.03056866, ..., 0.05898922, 1.54950461,\n",
       "        0.11880582],\n",
       "       [0.17490744, 0.29893785, 0.07426248, ..., 0.03225786, 0.24858217,\n",
       "        1.40496413]])"
      ]
     },
     "execution_count": 44,
     "metadata": {},
     "output_type": "execute_result"
    }
   ],
   "source": [
    "np.linalg.inv(I - rho*W)"
   ]
  },
  {
   "cell_type": "code",
   "execution_count": 45,
   "metadata": {},
   "outputs": [
    {
     "data": {
      "text/plain": [
       "array([[2.59849232, 0.11146171, 0.01440941, ..., 0.02620055, 0.33420755,\n",
       "        0.09144548],\n",
       "       [0.31872717, 1.34901474, 0.03606924, ..., 0.02446734, 0.25647855,\n",
       "        0.40477143],\n",
       "       [0.08237921, 0.0925271 , 1.16257419, ..., 0.07508788, 0.22105144,\n",
       "        0.27340195],\n",
       "       ...,\n",
       "       [0.02390978, 0.0103739 , 0.01099595, ..., 3.12372319, 0.07750869,\n",
       "        0.01965522],\n",
       "       [0.20136214, 0.08485114, 0.03056866, ..., 0.05898922, 1.54950461,\n",
       "        0.11880582],\n",
       "       [0.17490744, 0.29893785, 0.07426248, ..., 0.03225786, 0.24858217,\n",
       "        1.40496413]])"
      ]
     },
     "execution_count": 45,
     "metadata": {},
     "output_type": "execute_result"
    }
   ],
   "source": [
    "np.real(np.matmul(P, np.matmul(np.linalg.inv(I-rho*D), P_inv)))"
   ]
  },
  {
   "cell_type": "code",
   "execution_count": 23,
   "metadata": {},
   "outputs": [
    {
     "name": "stdout",
     "output_type": "stream",
     "text": [
      "Wall time: 0 ns\n"
     ]
    }
   ],
   "source": [
    "%%time\n",
    "D_inv = np.zeros(I.shape)\n",
    "np.fill_diagonal(D_inv, 1/np.real(I-rho*D).diagonal())"
   ]
  },
  {
   "cell_type": "code",
   "execution_count": 25,
   "metadata": {},
   "outputs": [
    {
     "data": {
      "text/plain": [
       "array([[ 1.39074331e+00,  4.19670823e-03,  1.21706347e-03, ...,\n",
       "         1.15409611e-03,  1.53409768e-04,  5.99685601e-04],\n",
       "       [ 2.46488888e-02,  1.37202962e+00,  1.30032154e-03, ...,\n",
       "         2.61596271e-03,  1.84238182e-04,  9.40255350e-03],\n",
       "       [-1.18978253e-03,  7.86939625e-03,  1.17415109e+00, ...,\n",
       "         4.19075976e-01,  4.92451210e-02,  3.96931298e-02],\n",
       "       ...,\n",
       "       [-1.32839153e-03,  3.07444496e-03,  2.35786110e-01, ...,\n",
       "         1.39529542e+00,  8.22684646e-02,  4.21870380e-02],\n",
       "       [ 2.80791209e-04,  4.55745818e-05,  1.18203729e-02, ...,\n",
       "         3.59092397e-02,  1.78380281e+00,  2.54673308e-02],\n",
       "       [ 5.25149647e-05,  1.55550874e-03,  4.93138944e-03, ...,\n",
       "         1.20492303e-02,  9.94326421e-03,  3.99793702e+00]])"
      ]
     },
     "execution_count": 25,
     "metadata": {},
     "output_type": "execute_result"
    }
   ],
   "source": [
    "np.real(np.matmul(P, np.matmul(D_inv, P_inv)))"
   ]
  },
  {
   "cell_type": "code",
   "execution_count": 24,
   "metadata": {},
   "outputs": [
    {
     "name": "stdout",
     "output_type": "stream",
     "text": [
      "Wall time: 464 ms\n"
     ]
    }
   ],
   "source": [
    "%%time\n",
    "for _ in range(100):\n",
    "    _ = np.linalg.solve(D,P)"
   ]
  },
  {
   "cell_type": "code",
   "execution_count": 31,
   "metadata": {},
   "outputs": [
    {
     "name": "stdout",
     "output_type": "stream",
     "text": [
      "Wall time: 7.01 ms\n"
     ]
    },
    {
     "name": "stderr",
     "output_type": "stream",
     "text": [
      "C:\\Users\\tnguyen001\\AppData\\Roaming\\Python\\Python38\\site-packages\\numpy\\lib\\index_tricks.py:917: ComplexWarning: Casting complex values to real discards the imaginary part\n",
      "  a.flat[:end:step] = val\n"
     ]
    }
   ],
   "source": [
    "%%time\n",
    "D_inv = np.zeros(D.shape)\n",
    "np.fill_diagonal(D_inv, 1/D.diagonal())"
   ]
  },
  {
   "cell_type": "code",
   "execution_count": 31,
   "metadata": {},
   "outputs": [
    {
     "name": "stdout",
     "output_type": "stream",
     "text": [
      "Wall time: 486 ms\n"
     ]
    }
   ],
   "source": [
    "%%time\n",
    "for _ in range(100):\n",
    "    MX1 = np.linalg.solve(M,X)"
   ]
  },
  {
   "cell_type": "code",
   "execution_count": null,
   "metadata": {},
   "outputs": [],
   "source": []
  },
  {
   "cell_type": "code",
   "execution_count": 45,
   "metadata": {},
   "outputs": [],
   "source": [
    "P_inv_X = np.matmul(P_inv, X)"
   ]
  },
  {
   "cell_type": "code",
   "execution_count": 52,
   "metadata": {},
   "outputs": [
    {
     "name": "stdout",
     "output_type": "stream",
     "text": [
      "Wall time: 126 ms\n"
     ]
    }
   ],
   "source": [
    "%%time\n",
    "for _ in range(100):\n",
    "    D_inv = np.zeros(I.shape)\n",
    "    np.fill_diagonal(D_inv, 1/np.real(I-rho*D).diagonal())\n",
    "    #MX2 = np.matmul( np.real(np.matmul(P, np.matmul(D_inv, P_inv))), X)\n",
    "    MX2 = np.real(np.matmul(np.matmul(P, D_inv), P_inv_X))"
   ]
  },
  {
   "cell_type": "code",
   "execution_count": 77,
   "metadata": {},
   "outputs": [
    {
     "data": {
      "text/plain": [
       "array([38.38067552, 76.35362904, 85.26569544])"
      ]
     },
     "execution_count": 77,
     "metadata": {},
     "output_type": "execute_result"
    }
   ],
   "source": [
    "np.sum(Y,axis=0)"
   ]
  },
  {
   "cell_type": "markdown",
   "metadata": {},
   "source": [
    "### Tests with a non-symmetric matrix"
   ]
  },
  {
   "cell_type": "code",
   "execution_count": 136,
   "metadata": {},
   "outputs": [],
   "source": [
    "W = pd.read_csv('Data Dirichlet/maupiti_W.csv', header=None)"
   ]
  },
  {
   "cell_type": "code",
   "execution_count": 137,
   "metadata": {
    "scrolled": true
   },
   "outputs": [
    {
     "name": "stdout",
     "output_type": "stream",
     "text": [
      "Wall time: 14.2 s\n"
     ]
    }
   ],
   "source": [
    "%%time\n",
    "P, D = diagonalize(W)"
   ]
  },
  {
   "cell_type": "code",
   "execution_count": 138,
   "metadata": {},
   "outputs": [
    {
     "data": {
      "text/plain": [
       "0"
      ]
     },
     "execution_count": 138,
     "metadata": {},
     "output_type": "execute_result"
    }
   ],
   "source": [
    "np.count_nonzero(D - np.diag(np.diagonal(D)))"
   ]
  },
  {
   "cell_type": "code",
   "execution_count": 117,
   "metadata": {},
   "outputs": [
    {
     "data": {
      "text/plain": [
       "array([[-2.08166817e-16-2.18358318e-16j, -1.97758476e-16+1.34441069e-16j,\n",
       "         1.00000000e-01-2.84060969e-17j, ...,\n",
       "        -2.01525629e-08-2.04256825e-08j, -3.38271078e-16-3.24393290e-16j,\n",
       "        -7.25114413e-16-1.83880688e-16j],\n",
       "       [-1.06338549e-15-2.78368908e-16j,  1.38777878e-17+3.93294338e-16j,\n",
       "         1.00000000e-01+1.24683250e-18j, ...,\n",
       "        -1.30168076e-08+6.99113073e-09j,  1.94289029e-16-2.55004351e-16j,\n",
       "        -5.26922256e-16-5.46492105e-16j],\n",
       "       [-3.10515502e-16+6.25178078e-17j,  1.00000000e-01+1.40126355e-16j,\n",
       "         6.38378239e-16-9.26450756e-17j, ...,\n",
       "        -3.62242622e-09+1.28210816e-08j, -7.77156117e-16-2.93195372e-16j,\n",
       "        -5.57713598e-16+1.44883292e-16j],\n",
       "       ...,\n",
       "       [-1.70002901e-16+2.03830008e-16j, -1.52113565e-16+6.41847686e-17j,\n",
       "         4.47558657e-16-1.14708590e-16j, ...,\n",
       "         2.78208640e-08-7.96901886e-09j,  8.15320034e-16+6.86299975e-16j,\n",
       "         1.00000000e-01+4.92661467e-16j],\n",
       "       [-1.77375475e-16+2.86446214e-16j, -3.79037080e-16+3.86626495e-16j,\n",
       "         5.87203897e-16-3.88578059e-16j, ...,\n",
       "         1.72208365e-08-1.77728345e-08j, -7.70217223e-16+2.72568426e-16j,\n",
       "         4.42354486e-16+9.74480913e-16j],\n",
       "       [-8.34429097e-17+4.18041253e-16j, -6.03683770e-16+1.53401055e-16j,\n",
       "         2.87096735e-16-1.77592316e-16j, ...,\n",
       "         4.33983815e-08-3.89734269e-09j, -1.87350135e-16+2.62187190e-16j,\n",
       "         3.28730099e-16+4.54104527e-16j]])"
      ]
     },
     "execution_count": 117,
     "metadata": {},
     "output_type": "execute_result"
    }
   ],
   "source": [
    "np.matmul(P,np.matmul(D,np.linalg.inv(P)))"
   ]
  },
  {
   "cell_type": "markdown",
   "metadata": {},
   "source": [
    "# Tests time for n=50"
   ]
  },
  {
   "cell_type": "code",
   "execution_count": 255,
   "metadata": {},
   "outputs": [
    {
     "name": "stdout",
     "output_type": "stream",
     "text": [
      "Wall time: 1.66 s\n"
     ]
    }
   ],
   "source": [
    "%%time\n",
    "for _ in range(10):\n",
    "    reg_spatial_opti = dirichlet_regression_opti.dirichletRegressor(spatial=True, maxfun=5000)\n",
    "    reg_spatial_opti.fit(X, Y, parametrization='alternative', Z=Z, W=W, fit_intercept=False, verbose=0)"
   ]
  },
  {
   "cell_type": "code",
   "execution_count": 254,
   "metadata": {
    "scrolled": true
   },
   "outputs": [
    {
     "name": "stdout",
     "output_type": "stream",
     "text": [
      "Wall time: 3.62 s\n"
     ]
    }
   ],
   "source": [
    "%%time\n",
    "for _ in range(10):\n",
    "    reg_spatial = dirichlet_regression.dirichletRegressor(spatial=True, maxfun=5000)\n",
    "    reg_spatial.fit(X, Y, parametrization='alternative', Z=Z, W=W, fit_intercept=False, verbose=0)"
   ]
  },
  {
   "cell_type": "markdown",
   "metadata": {},
   "source": [
    "# Tests time for n=200"
   ]
  },
  {
   "cell_type": "code",
   "execution_count": 259,
   "metadata": {},
   "outputs": [
    {
     "name": "stdout",
     "output_type": "stream",
     "text": [
      "Wall time: 9.78 s\n"
     ]
    }
   ],
   "source": [
    "%%time\n",
    "for _ in range(10):\n",
    "    reg_spatial_opti = dirichlet_regression_opti.dirichletRegressor(spatial=True, maxfun=5000)\n",
    "    reg_spatial_opti.fit(X, Y, parametrization='alternative', Z=Z, W=W, fit_intercept=False, verbose=0)"
   ]
  },
  {
   "cell_type": "code",
   "execution_count": 260,
   "metadata": {
    "scrolled": true
   },
   "outputs": [
    {
     "name": "stdout",
     "output_type": "stream",
     "text": [
      "Wall time: 14.2 s\n"
     ]
    }
   ],
   "source": [
    "%%time\n",
    "#without sparse\n",
    "for _ in range(10):\n",
    "    reg_spatial = dirichlet_regression.dirichletRegressor(spatial=True, maxfun=5000)\n",
    "    reg_spatial.fit(X, Y, parametrization='alternative', Z=Z, W=W, fit_intercept=False, verbose=0)"
   ]
  },
  {
   "cell_type": "code",
   "execution_count": 261,
   "metadata": {},
   "outputs": [
    {
     "name": "stdout",
     "output_type": "stream",
     "text": [
      "Wall time: 9.77 s\n"
     ]
    }
   ],
   "source": [
    "%%time\n",
    "#with sparse\n",
    "for _ in range(10):\n",
    "    reg_spatial = dirichlet_regression.dirichletRegressor(spatial=True, maxfun=5000)\n",
    "    reg_spatial.fit(X, Y, parametrization='alternative', Z=Z, W=W, fit_intercept=False, verbose=0)"
   ]
  },
  {
   "cell_type": "markdown",
   "metadata": {},
   "source": [
    "# Tests time for n=1000"
   ]
  },
  {
   "cell_type": "code",
   "execution_count": 264,
   "metadata": {},
   "outputs": [
    {
     "name": "stdout",
     "output_type": "stream",
     "text": [
      "CONVERGENCE: REL_REDUCTION_OF_F_<=_FACTR*EPSMCH\n",
      "Wall time: 1min 22s\n"
     ]
    }
   ],
   "source": [
    "%%time\n",
    "reg_spatial_opti = dirichlet_regression_opti.dirichletRegressor(spatial=True, maxfun=5000)\n",
    "reg_spatial_opti.fit(X, Y, parametrization='alternative', Z=Z, W=W, fit_intercept=False, verbose=1)"
   ]
  },
  {
   "cell_type": "code",
   "execution_count": 266,
   "metadata": {},
   "outputs": [
    {
     "name": "stdout",
     "output_type": "stream",
     "text": [
      "CONVERGENCE: REL_REDUCTION_OF_F_<=_FACTR*EPSMCH\n",
      "Wall time: 21 s\n"
     ]
    }
   ],
   "source": [
    "%%time\n",
    "#without sparse\n",
    "reg_spatial = dirichlet_regression.dirichletRegressor(spatial=True, maxfun=5000)\n",
    "reg_spatial.fit(X, Y, parametrization='alternative', Z=Z, W=W, fit_intercept=False, verbose=1)\n"
   ]
  },
  {
   "cell_type": "code",
   "execution_count": 265,
   "metadata": {},
   "outputs": [
    {
     "name": "stdout",
     "output_type": "stream",
     "text": [
      "CONVERGENCE: REL_REDUCTION_OF_F_<=_FACTR*EPSMCH\n",
      "Wall time: 14.4 s\n"
     ]
    }
   ],
   "source": [
    "%%time\n",
    "#with sparse\n",
    "reg_spatial = dirichlet_regression.dirichletRegressor(spatial=True, maxfun=5000)\n",
    "reg_spatial.fit(X, Y, parametrization='alternative', Z=Z, W=W, fit_intercept=False, verbose=1)\n"
   ]
  },
  {
   "cell_type": "markdown",
   "metadata": {},
   "source": [
    "# Elections"
   ]
  },
  {
   "cell_type": "code",
   "execution_count": 13,
   "metadata": {},
   "outputs": [],
   "source": [
    "from sklearn.preprocessing import StandardScaler"
   ]
  },
  {
   "cell_type": "code",
   "execution_count": 6,
   "metadata": {
    "scrolled": true
   },
   "outputs": [],
   "source": [
    "Y_occitanie = pd.read_csv('Data Dirichlet/occitanie/Y_occitanie.csv', sep=';')"
   ]
  },
  {
   "cell_type": "code",
   "execution_count": 7,
   "metadata": {},
   "outputs": [],
   "source": [
    "X_occitanie = pd.read_csv('Data Dirichlet/occitanie/X_occitanie.csv', sep=';')"
   ]
  },
  {
   "cell_type": "code",
   "execution_count": 8,
   "metadata": {},
   "outputs": [],
   "source": [
    "X_occitanie = X_occitanie.iloc[:,1:]\n",
    "X_occitanie = X_occitanie.iloc[:,:-1]"
   ]
  },
  {
   "cell_type": "code",
   "execution_count": 9,
   "metadata": {},
   "outputs": [],
   "source": [
    "coordinates = pd.read_csv('Data Dirichlet/occitanie/coordinates_cendroids.csv', sep=';')\n",
    "distance_matrix = scipy.spatial.distance_matrix(coordinates,coordinates)"
   ]
  },
  {
   "cell_type": "code",
   "execution_count": 10,
   "metadata": {},
   "outputs": [],
   "source": [
    "X = np.array(X_occitanie)\n",
    "Y = np.array(Y_occitanie)"
   ]
  },
  {
   "cell_type": "code",
   "execution_count": 11,
   "metadata": {},
   "outputs": [],
   "source": [
    "Z = np.ones((207,1))\n",
    "gamma_0 = [0.]"
   ]
  },
  {
   "cell_type": "code",
   "execution_count": 14,
   "metadata": {},
   "outputs": [],
   "source": [
    "X = StandardScaler().fit(X).transform(X)"
   ]
  },
  {
   "cell_type": "code",
   "execution_count": 15,
   "metadata": {},
   "outputs": [],
   "source": [
    "n,K = X.shape\n",
    "J = Y.shape[1]"
   ]
  },
  {
   "cell_type": "code",
   "execution_count": 16,
   "metadata": {},
   "outputs": [],
   "source": [
    "W = np.copy(distance_matrix)\n",
    "W[W > 35000] = 0"
   ]
  },
  {
   "cell_type": "code",
   "execution_count": 17,
   "metadata": {},
   "outputs": [],
   "source": [
    "# inverse distance\n",
    "W[W>0] = 1/W[W>0]\n",
    "\n",
    "# row-normalize\n",
    "W = W/W.sum(axis=1)[:,None]"
   ]
  },
  {
   "cell_type": "code",
   "execution_count": 21,
   "metadata": {},
   "outputs": [
    {
     "data": {
      "text/plain": [
       "(207, 25)"
      ]
     },
     "execution_count": 21,
     "metadata": {},
     "output_type": "execute_result"
    }
   ],
   "source": [
    "X.shape"
   ]
  },
  {
   "cell_type": "code",
   "execution_count": null,
   "metadata": {},
   "outputs": [],
   "source": [
    "%%time\n",
    "dirichRegressor_s1 = dirichlet_regression.dirichletRegressor(spatial=True, maxiter=5000, maxfun=500000)\n",
    "dirichRegressor_s1.fit(X, Y, W=W, parametrization='alternative', gamma_0=gamma_0, Z=Z)"
   ]
  },
  {
   "cell_type": "code",
   "execution_count": 25,
   "metadata": {},
   "outputs": [
    {
     "name": "stdout",
     "output_type": "stream",
     "text": [
      "CONVERGENCE: REL_REDUCTION_OF_F_<=_FACTR*EPSMCH\n",
      "Wall time: 1h 3min 30s\n"
     ]
    }
   ],
   "source": [
    "%%time\n",
    "dirichRegressor_s1 = dirichlet_regression_opti.dirichletRegressor(spatial=True, maxiter=5000, maxfun=500000)\n",
    "dirichRegressor_s1.fit(X, Y, W=W, parametrization='alternative', gamma_0=gamma_0, Z=Z)"
   ]
  },
  {
   "cell_type": "code",
   "execution_count": null,
   "metadata": {},
   "outputs": [],
   "source": []
  }
 ],
 "metadata": {
  "kernelspec": {
   "display_name": "Python 3",
   "language": "python",
   "name": "python3"
  },
  "language_info": {
   "codemirror_mode": {
    "name": "ipython",
    "version": 3
   },
   "file_extension": ".py",
   "mimetype": "text/x-python",
   "name": "python",
   "nbconvert_exporter": "python",
   "pygments_lexer": "ipython3",
   "version": "3.8.5"
  }
 },
 "nbformat": 4,
 "nbformat_minor": 4
}
