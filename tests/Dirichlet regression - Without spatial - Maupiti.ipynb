{
 "cells": [
  {
   "cell_type": "markdown",
   "metadata": {},
   "source": [
    "# Importing the packages and data"
   ]
  },
  {
   "cell_type": "code",
   "execution_count": 1,
   "metadata": {},
   "outputs": [],
   "source": [
    "%load_ext autoreload\n",
    "%autoreload 2"
   ]
  },
  {
   "cell_type": "code",
   "execution_count": 2,
   "metadata": {},
   "outputs": [],
   "source": [
    "import numpy as np\n",
    "import pandas as pd\n",
    "import matplotlib.pyplot as plt\n",
    "from mpl_toolkits import mplot3d\n",
    "import scipy\n",
    "from sklearn.metrics import r2_score\n",
    "from sklearn.metrics import mean_squared_error\n",
    "from scipy.special import gamma, digamma, polygamma\n",
    "import math\n",
    "\n",
    "from sklearn.neighbors import NearestNeighbors\n",
    "from sklearn.model_selection import train_test_split\n",
    "from sklearn.model_selection import KFold\n",
    "import random\n",
    "\n",
    "import scipy.optimize"
   ]
  },
  {
   "cell_type": "code",
   "execution_count": 3,
   "metadata": {},
   "outputs": [],
   "source": [
    "import sys\n",
    "sys.path.append(\"../smote_cd/\")\n",
    "from smote_cd.dataset_generation import softmax"
   ]
  },
  {
   "cell_type": "code",
   "execution_count": 4,
   "metadata": {},
   "outputs": [],
   "source": [
    "import dirichlet_regression"
   ]
  },
  {
   "cell_type": "code",
   "execution_count": 5,
   "metadata": {},
   "outputs": [],
   "source": [
    "from scipy.optimize import fmin, newton, minimize"
   ]
  },
  {
   "cell_type": "markdown",
   "metadata": {},
   "source": [
    "# With Maupiti"
   ]
  },
  {
   "cell_type": "code",
   "execution_count": 6,
   "metadata": {},
   "outputs": [],
   "source": [
    "def f_maupiti(x, X, Y, Z, epsilon=0):\n",
    "    K = X.shape[-1]\n",
    "    J = Y.shape[-1]\n",
    "    beta = x[:K*J].reshape((K,J))\n",
    "    beta[:,0] = 0\n",
    "    gamma_var = x[K*J:]\n",
    "    mu = dirichlet_regression.compute_mu_3(X, beta)\n",
    "    phi = np.exp(np.matmul(Z,gamma_var))\n",
    "    return -dirichlet_regression.dirichlet_loglikelihood(mu,phi,Y,epsilon=epsilon)"
   ]
  },
  {
   "cell_type": "code",
   "execution_count": 7,
   "metadata": {},
   "outputs": [],
   "source": [
    "def fprime_maupiti(x, X, Y, Z, epsilon=0):\n",
    "    K = X.shape[-1]\n",
    "    J = Y.shape[-1]\n",
    "    beta = x[:K*J].reshape((K,J))\n",
    "    beta[:,0] = 0\n",
    "    gamma_var = x[K*J:]\n",
    "    mu = dirichlet_regression.compute_mu_3(X, beta)\n",
    "    phi = np.exp(np.matmul(Z,gamma_var))\n",
    "    beta_grad = dirichlet_regression.dirichlet_gradient_wrt_beta(mu, phi, X, Y, epsilon=epsilon)\n",
    "    beta_grad[:,0] = 0\n",
    "    gamma_grad = dirichlet_regression.dirichlet_derivative_wrt_gamma(mu, phi, beta, X, Y, Z, epsilon=epsilon)\n",
    "    return(-np.concatenate([beta_grad.flatten(),gamma_grad]))"
   ]
  },
  {
   "cell_type": "code",
   "execution_count": 8,
   "metadata": {},
   "outputs": [],
   "source": [
    "X_maupiti = pd.read_csv('../../Maupiti/maupiti_X_13244.csv', index_col=0)\n",
    "Y_maupiti = pd.read_csv('../../Maupiti/maupiti_Y_13244.csv',index_col=0)"
   ]
  },
  {
   "cell_type": "code",
   "execution_count": 9,
   "metadata": {},
   "outputs": [],
   "source": [
    "n_features = X_maupiti.shape[1]\n",
    "n_classes = Y_maupiti.shape[1]\n",
    "n_samples = X_maupiti.shape[0]"
   ]
  },
  {
   "cell_type": "code",
   "execution_count": 10,
   "metadata": {},
   "outputs": [],
   "source": [
    "X_maupiti = np.array(X_maupiti)\n",
    "Y_maupiti = np.array(Y_maupiti)"
   ]
  },
  {
   "cell_type": "code",
   "execution_count": 11,
   "metadata": {},
   "outputs": [],
   "source": [
    "X_maupiti = (X_maupiti-np.min(X_maupiti))/(np.max(X_maupiti)-np.min(X_maupiti))"
   ]
  },
  {
   "cell_type": "code",
   "execution_count": 12,
   "metadata": {},
   "outputs": [],
   "source": [
    "Z_maupiti = np.ones((n_samples,n_features))"
   ]
  },
  {
   "cell_type": "code",
   "execution_count": 13,
   "metadata": {},
   "outputs": [],
   "source": [
    "#X_maupiti_2 = np.ones((n_samples,1+n_features*2))\n",
    "#X_maupiti_2[:,1:1+n_features] = X_maupiti\n",
    "#X_maupiti_2[:,1+n_features:] = X_maupiti**2\n",
    "\n",
    "X_maupiti_1 = np.ones((n_samples,1+n_features))\n",
    "X_maupiti_1[:,1:] = X_maupiti"
   ]
  },
  {
   "cell_type": "code",
   "execution_count": 14,
   "metadata": {},
   "outputs": [],
   "source": [
    "Y_star_maupiti = (Y_maupiti*(n_samples-1)+1/n_classes)/n_samples"
   ]
  },
  {
   "cell_type": "code",
   "execution_count": 15,
   "metadata": {},
   "outputs": [],
   "source": [
    "beta_maupiti = np.zeros((1+n_features)*n_classes+(1+n_features))[:(1+n_features)*n_classes].reshape(((1+n_features),n_classes))\n",
    "beta_maupiti[:,0] = 0"
   ]
  },
  {
   "cell_type": "code",
   "execution_count": 16,
   "metadata": {},
   "outputs": [],
   "source": [
    "gamma_maupiti = np.zeros(Z_maupiti.shape[-1])"
   ]
  },
  {
   "cell_type": "code",
   "execution_count": 17,
   "metadata": {},
   "outputs": [],
   "source": [
    "params0_maupiti = np.concatenate([beta_maupiti.flatten(),gamma_maupiti])"
   ]
  },
  {
   "cell_type": "code",
   "execution_count": 29,
   "metadata": {},
   "outputs": [],
   "source": [
    "X_maupiti_train = X_maupiti_1[6000:8000,:]\n",
    "Y_star_maupiti_train = Y_star_maupiti[6000:8000,:]\n",
    "Z_maupiti_train = Z_maupiti[6000:8000]"
   ]
  },
  {
   "cell_type": "code",
   "execution_count": 30,
   "metadata": {},
   "outputs": [
    {
     "name": "stdout",
     "output_type": "stream",
     "text": [
      "Wall time: 2min 23s\n"
     ]
    }
   ],
   "source": [
    "%%time\n",
    "solution_maupiti = minimize(f_maupiti, params0_maupiti, args=(X_maupiti_train, \n",
    "                                                             Y_star_maupiti_train, \n",
    "                                                             Z_maupiti_train), jac=fprime_maupiti)"
   ]
  },
  {
   "cell_type": "code",
   "execution_count": 31,
   "metadata": {},
   "outputs": [
    {
     "data": {
      "text/plain": [
       "array([ 0.00000000e+00, -1.50071639e+00, -1.93712174e+00, -1.64056724e+00,\n",
       "       -1.63147806e+00, -1.87374731e+00, -2.12777477e+00, -1.70398897e+00,\n",
       "       -1.61656110e+00, -1.24978144e+00,  0.00000000e+00, -2.45268258e+04,\n",
       "       -1.12312481e+04, -1.47394363e+04, -1.38336589e+04, -1.20359450e+04,\n",
       "       -1.30204049e+04, -1.10170633e+04, -9.96942210e+03, -1.73756589e+04,\n",
       "        0.00000000e+00,  1.30685251e+00,  1.78612316e+01,  1.70513206e+00,\n",
       "        6.88562682e-01, -6.60996957e-01, -3.38272416e+01, -2.76113686e+00,\n",
       "       -5.47957335e+00,  1.66365495e+00,  0.00000000e+00, -5.14962868e+05,\n",
       "        1.43167246e+05,  1.38866383e+05,  4.72827775e+04,  3.37346040e+05,\n",
       "       -2.91873909e+05, -1.45263493e+04, -1.16020168e+05, -6.69045994e+04,\n",
       "        0.00000000e+00,  5.28009550e+04,  2.52707921e+05,  1.67015694e+05,\n",
       "        8.12737408e+04,  9.95404848e+04, -1.09282914e+05,  1.37552116e+05,\n",
       "       -7.23031105e+04,  1.05818504e+05,  0.00000000e+00,  2.74792302e+04,\n",
       "        1.73504639e+04,  2.02135699e+04,  2.01765030e+04,  2.09541220e+04,\n",
       "        2.25296010e+04,  1.79351057e+04,  1.78340437e+04,  2.18264950e+04,\n",
       "        0.00000000e+00, -6.94968474e-02, -1.40083193e+01,  1.25336303e-01,\n",
       "        4.53585416e-01, -7.00011999e+00,  3.06494203e+01,  1.59375432e+00,\n",
       "        4.29004155e+00,  2.38439496e+00,  0.00000000e+00,  4.95135390e+05,\n",
       "        2.68260198e+04,  5.92489593e+04,  6.20125924e+04,  3.13464010e+05,\n",
       "        1.28012931e+05,  6.79589262e+04,  1.65080417e+05,  3.07585265e+05,\n",
       "        0.00000000e+00,  6.01106403e+05,  2.51122925e+03,  1.62578859e+05,\n",
       "        2.34098877e+05,  1.01540191e+05,  3.58025385e+05,  1.51333708e+05,\n",
       "        2.56110928e+05,  1.72182673e+05,  0.00000000e+00, -7.30938742e+03,\n",
       "       -7.43011880e+03, -7.40030436e+03, -8.46819487e+03, -1.00471029e+04,\n",
       "       -9.26826687e+03, -8.77742749e+03, -1.01296323e+04, -6.75129273e+03,\n",
       "        0.00000000e+00, -3.87883072e-01, -4.56755260e-01, -5.59747162e-01,\n",
       "        5.25828143e-01,  7.54215079e+00, -1.85474373e+00,  1.72258420e+00,\n",
       "        3.08895914e+00, -3.13358951e+00,  0.00000000e+00,  3.71835562e+05,\n",
       "        1.85971354e+05,  1.59271011e+05,  1.75116776e+05,  8.13913041e+04,\n",
       "        6.80330926e+05,  1.04238268e+05,  8.33475447e+04, -1.51136614e+05,\n",
       "        0.00000000e+00,  5.86997085e+03,  4.04612783e+05,  3.30289238e+05,\n",
       "        2.51359843e+05,  2.52817964e+05,  7.62339879e+05,  3.36956766e+05,\n",
       "        4.72033536e+05,  5.18738018e+05,  0.00000000e+00,  4.67383865e+03,\n",
       "        1.90436329e+03,  1.54261117e+03,  1.69129558e+03,  1.85669628e+03,\n",
       "        1.17215955e+03,  2.01786773e+03,  2.00642831e+03,  1.04251325e+03,\n",
       "        0.00000000e+00,  1.84479217e-01,  4.07122335e-01,  3.88364754e-01,\n",
       "        5.93567110e-01,  4.73916101e-01,  1.05250049e+00,  5.49600737e-01,\n",
       "        6.07095494e-01,  1.76937127e+00,  0.00000000e+00,  7.37682460e+05,\n",
       "        2.93474605e+05,  1.24891676e+05,  1.57691573e+05, -4.28097221e+05,\n",
       "        2.85354038e+05, -2.00279449e+03,  1.00884737e+05,  3.43987469e+04,\n",
       "        0.00000000e+00,  1.86154749e+05,  3.78285976e+05,  4.25755212e+05,\n",
       "        4.17946123e+05,  4.45004610e+05,  1.76075780e+05,  3.24449445e+05,\n",
       "        2.69617891e+05,  3.23769859e+05,  1.19858207e-02,  1.20126308e-02,\n",
       "        1.17025276e-02,  1.18579161e-02,  1.22724341e-02,  1.19476820e-02,\n",
       "        1.19932302e-02,  1.20236748e-02,  1.18817154e-02,  1.19170185e-02,\n",
       "        1.20532817e-02,  1.18831642e-02,  1.19258399e-02,  1.17635497e-02,\n",
       "        1.18008086e-02,  1.17163457e-02])"
      ]
     },
     "execution_count": 31,
     "metadata": {},
     "output_type": "execute_result"
    }
   ],
   "source": [
    "solution_maupiti.x"
   ]
  },
  {
   "cell_type": "code",
   "execution_count": 32,
   "metadata": {},
   "outputs": [],
   "source": [
    "beta_solution = solution_maupiti.x[:n_classes*(n_features+1)].reshape((1+n_features,n_classes))"
   ]
  },
  {
   "cell_type": "code",
   "execution_count": 33,
   "metadata": {},
   "outputs": [],
   "source": [
    "mu_maupiti = dirichlet_regression.compute_mu(X_maupiti_train, beta_solution)"
   ]
  },
  {
   "cell_type": "code",
   "execution_count": 34,
   "metadata": {},
   "outputs": [
    {
     "data": {
      "text/plain": [
       "-0.12264695212148884"
      ]
     },
     "execution_count": 34,
     "metadata": {},
     "output_type": "execute_result"
    }
   ],
   "source": [
    "r2_score(Y_star_maupiti_train, mu_maupiti)"
   ]
  },
  {
   "cell_type": "code",
   "execution_count": 35,
   "metadata": {},
   "outputs": [
    {
     "data": {
      "text/plain": [
       "-0.0011870787313253638"
      ]
     },
     "execution_count": 35,
     "metadata": {},
     "output_type": "execute_result"
    }
   ],
   "source": [
    "mu_maupiti_pred = dirichlet_regression.compute_mu(X_maupiti_1, beta_solution)\n",
    "r2_score(Y_star_maupiti, mu_maupiti_pred)"
   ]
  },
  {
   "cell_type": "code",
   "execution_count": 19,
   "metadata": {},
   "outputs": [],
   "source": [
    "Y_maupiti_bis = np.array([j for j in Y_maupiti if np.all(j != 1)])\n",
    "X_maupiti_bis = np.array([X_maupiti[j] for j in range(n_samples) if np.all(Y_maupiti[j] != 1)])\n",
    "Z_maupiti_bis = np.array([Z_maupiti[j] for j in range(n_samples) if np.all(Y_maupiti[j] != 1)])"
   ]
  },
  {
   "cell_type": "code",
   "execution_count": 20,
   "metadata": {},
   "outputs": [],
   "source": [
    "X_maupiti_1_bis = np.ones((len(X_maupiti_bis),1+n_features))\n",
    "X_maupiti_1_bis[:,1:] = X_maupiti_bis"
   ]
  },
  {
   "cell_type": "code",
   "execution_count": 21,
   "metadata": {},
   "outputs": [],
   "source": [
    "Y_star_maupiti_bis = (Y_maupiti_bis*(n_samples-1)+1/n_classes)/n_samples"
   ]
  },
  {
   "cell_type": "code",
   "execution_count": 22,
   "metadata": {},
   "outputs": [
    {
     "name": "stdout",
     "output_type": "stream",
     "text": [
      "Wall time: 39.4 s\n"
     ]
    }
   ],
   "source": [
    "%%time\n",
    "solution_maupiti = minimize(f_maupiti, params0_maupiti, args=(X_maupiti_1_bis[:500], \n",
    "                                                             Y_star_maupiti_bis[:500], \n",
    "                                                             Z_maupiti_bis[:500]), jac=fprime_maupiti)"
   ]
  },
  {
   "cell_type": "code",
   "execution_count": 24,
   "metadata": {},
   "outputs": [],
   "source": [
    "beta_solution_bis = solution_maupiti.x[:n_classes*(n_features+1)].reshape((1+n_features,n_classes))\n",
    "mu_maupiti_bis = dirichlet_regression.compute_mu(X_maupiti_1_bis, beta_solution_bis)"
   ]
  },
  {
   "cell_type": "code",
   "execution_count": 27,
   "metadata": {},
   "outputs": [
    {
     "name": "stdout",
     "output_type": "stream",
     "text": [
      "R2 : 0.09565638333505186\n",
      "RMSE : 0.2152327014704051\n"
     ]
    }
   ],
   "source": [
    "print('R2 :',r2_score(Y_star_maupiti_bis, mu_maupiti_bis))\n",
    "print('RMSE :',mean_squared_error(Y_star_maupiti_bis, mu_maupiti_bis, squared=False))"
   ]
  },
  {
   "cell_type": "markdown",
   "metadata": {},
   "source": [
    "### With an intercept"
   ]
  },
  {
   "cell_type": "code",
   "execution_count": 20,
   "metadata": {},
   "outputs": [],
   "source": [
    "X_arctic_1 = np.ones((39,2))\n",
    "X_arctic_1[:,1] = X_arctic[:,0]"
   ]
  },
  {
   "cell_type": "code",
   "execution_count": 21,
   "metadata": {},
   "outputs": [],
   "source": [
    "beta0 = np.array([[0., -0.3, -1.1],[ 0., 0.05, 0.06]])\n",
    "gamma0 = [0]\n",
    "params0 = np.concatenate([beta0.flatten(),gamma0])"
   ]
  },
  {
   "cell_type": "code",
   "execution_count": 22,
   "metadata": {
    "scrolled": true
   },
   "outputs": [
    {
     "name": "stdout",
     "output_type": "stream",
     "text": [
      "Wall time: 1.05 s\n"
     ]
    }
   ],
   "source": [
    "%%time\n",
    "solution_arctic_bis=minimize(f_arctic, params0, args=(X_arctic_1, Y_arctic, Z_arctic))"
   ]
  },
  {
   "cell_type": "code",
   "execution_count": 23,
   "metadata": {},
   "outputs": [
    {
     "data": {
      "text/plain": [
       "      fun: -77.72809940034881\n",
       " hess_inv: array([[ 1.00000000e+00,  0.00000000e+00,  0.00000000e+00,\n",
       "         0.00000000e+00,  0.00000000e+00,  0.00000000e+00,\n",
       "         0.00000000e+00],\n",
       "       [ 0.00000000e+00,  3.98231064e-02, -1.59404468e-02,\n",
       "         0.00000000e+00, -8.34169677e-04, -9.75243008e-05,\n",
       "         8.26420183e-03],\n",
       "       [ 0.00000000e+00, -1.59404468e-02,  7.86797721e-02,\n",
       "         0.00000000e+00,  5.01970702e-04, -7.19055184e-04,\n",
       "         2.09865555e-02],\n",
       "       [ 0.00000000e+00,  0.00000000e+00,  0.00000000e+00,\n",
       "         1.00000000e+00,  0.00000000e+00,  0.00000000e+00,\n",
       "         0.00000000e+00],\n",
       "       [ 0.00000000e+00, -8.34169677e-04,  5.01970702e-04,\n",
       "         0.00000000e+00,  2.52374950e-05,  6.75566155e-06,\n",
       "        -1.21204465e-04],\n",
       "       [ 0.00000000e+00, -9.75243008e-05, -7.19055184e-04,\n",
       "         0.00000000e+00,  6.75566155e-06,  1.65090097e-05,\n",
       "        -2.79859698e-04],\n",
       "       [ 0.00000000e+00,  8.26420183e-03,  2.09865555e-02,\n",
       "         0.00000000e+00, -1.21204465e-04, -2.79859698e-04,\n",
       "         9.88787023e-03]])\n",
       "      jac: array([ 0.00000000e+00, -2.86102295e-06,  5.72204590e-06,  0.00000000e+00,\n",
       "       -4.10079956e-05,  1.45912170e-04,  0.00000000e+00])\n",
       "  message: 'Desired error not necessarily achieved due to precision loss.'\n",
       "     nfev: 343\n",
       "      nit: 18\n",
       "     njev: 38\n",
       "   status: 2\n",
       "  success: False\n",
       "        x: array([ 0.        , -0.84165819, -2.27550728,  0.        ,  0.03926737,\n",
       "        0.05623114,  2.62655846])"
      ]
     },
     "execution_count": 23,
     "metadata": {},
     "output_type": "execute_result"
    }
   ],
   "source": [
    "solution_arctic_bis"
   ]
  },
  {
   "cell_type": "code",
   "execution_count": 24,
   "metadata": {},
   "outputs": [],
   "source": [
    "beta_arctic_1 = solution_arctic_bis.x[:(n_features+1)*n_classes].reshape((n_features+1,n_classes))"
   ]
  },
  {
   "cell_type": "code",
   "execution_count": 25,
   "metadata": {},
   "outputs": [],
   "source": [
    "X_new_1 = np.arange(10.4,103.7,0.5)\n",
    "X_new_1 = np.array([[1., j] for j in X_new_1])"
   ]
  },
  {
   "cell_type": "code",
   "execution_count": 26,
   "metadata": {},
   "outputs": [],
   "source": [
    "mu_arctic_1 = dirichlet_regression.compute_mu(X_new_1, beta_arctic_1)\n",
    "\n",
    "gamma_var_arctic_1 = solution_arctic_bis.x[(n_features+1)*n_classes:]\n",
    "phi_arctic_1 = np.exp(np.matmul(Z_arctic,gamma_var_arctic_1))"
   ]
  },
  {
   "cell_type": "code",
   "execution_count": 27,
   "metadata": {},
   "outputs": [
    {
     "data": {
      "image/png": "[encoded data removed]",
      "text/plain": [
       "<Figure size 432x288 with 1 Axes>"
      ]
     },
     "metadata": {
      "needs_background": "light"
     },
     "output_type": "display_data"
    }
   ],
   "source": [
    "plt.scatter(X_arctic,Y_arctic[:,0],label='Sand')\n",
    "plt.scatter(X_arctic,Y_arctic[:,1],label='Silt')\n",
    "plt.scatter(X_arctic,Y_arctic[:,2],label='Clay')\n",
    "plt.plot(X_new, mu_arctic_1)\n",
    "plt.legend()\n",
    "plt.show()"
   ]
  },
  {
   "cell_type": "markdown",
   "metadata": {},
   "source": [
    "## With X^2"
   ]
  },
  {
   "cell_type": "code",
   "execution_count": 28,
   "metadata": {},
   "outputs": [],
   "source": [
    "X_arctic_2 = np.ones((39,3))\n",
    "X_arctic_2[:,1] = X_arctic[:,0]\n",
    "X_arctic_2[:,2] = X_arctic[:,0]**2"
   ]
  },
  {
   "cell_type": "code",
   "execution_count": 29,
   "metadata": {},
   "outputs": [],
   "source": [
    "beta0 = np.array([[ 0., -1.5, -4.], [0, 0.05, 0.1], [0., 0.01, 0.01]])\n",
    "gamma0 = [2.]\n",
    "params0 = np.concatenate([beta0.flatten(),gamma0])"
   ]
  },
  {
   "cell_type": "code",
   "execution_count": 30,
   "metadata": {},
   "outputs": [
    {
     "name": "stderr",
     "output_type": "stream",
     "text": [
      "C:\\Users\\tnguyen001\\Documents\\GitHub\\maupiti\\dirichlet_regression.py:29: RuntimeWarning: overflow encountered in exp\n",
      "  mu[i,j] = 1/np.sum(np.exp(Xbeta[i]-Xbeta[i,j]))\n",
      "C:\\Users\\tnguyen001\\AppData\\Roaming\\Python\\Python38\\site-packages\\scipy\\optimize\\optimize.py:697: RuntimeWarning: invalid value encountered in double_scalars\n",
      "  df = (f(*((xk + d,) + args)) - f0) / d[k]\n",
      "C:\\Users\\tnguyen001\\Documents\\GitHub\\maupiti\\dirichlet_regression.py:29: RuntimeWarning: overflow encountered in exp\n",
      "  mu[i,j] = 1/np.sum(np.exp(Xbeta[i]-Xbeta[i,j]))\n"
     ]
    },
    {
     "name": "stdout",
     "output_type": "stream",
     "text": [
      "Wall time: 5.08 s\n"
     ]
    }
   ],
   "source": [
    "%%time\n",
    "solution_arctic_bis=minimize(f_arctic, params0, args=(X_arctic_2, Y_arctic, Z_arctic))"
   ]
  },
  {
   "cell_type": "code",
   "execution_count": 31,
   "metadata": {},
   "outputs": [
    {
     "data": {
      "text/plain": [
       "'Desired error not necessarily achieved due to precision loss.'"
      ]
     },
     "execution_count": 31,
     "metadata": {},
     "output_type": "execute_result"
    }
   ],
   "source": [
    "solution_arctic_bis.message"
   ]
  },
  {
   "cell_type": "code",
   "execution_count": 32,
   "metadata": {},
   "outputs": [],
   "source": [
    "beta_arctic_2 = solution_arctic_bis.x[:(n_features+2)*n_classes].reshape((n_features+2,n_classes))"
   ]
  },
  {
   "cell_type": "code",
   "execution_count": 33,
   "metadata": {
    "scrolled": true
   },
   "outputs": [
    {
     "data": {
      "text/plain": [
       "array([[ 0.00000000e+00, -1.74783202e+00, -4.15660264e+00],\n",
       "       [ 0.00000000e+00,  9.50075706e-02,  1.55216418e-01],\n",
       "       [ 0.00000000e+00, -5.86263525e-04, -9.61258622e-04]])"
      ]
     },
     "execution_count": 33,
     "metadata": {},
     "output_type": "execute_result"
    }
   ],
   "source": [
    "beta_arctic_2"
   ]
  },
  {
   "cell_type": "code",
   "execution_count": 34,
   "metadata": {},
   "outputs": [],
   "source": [
    "X_new_2 = np.arange(10.4,103.7,0.5)\n",
    "X_new_2 = np.array([[1., j, j**2] for j in X_new_2])"
   ]
  },
  {
   "cell_type": "code",
   "execution_count": 35,
   "metadata": {},
   "outputs": [],
   "source": [
    "mu_arctic_2 = dirichlet_regression.compute_mu(X_new_2, beta_arctic_2)\n",
    "\n",
    "#gamma_var_arctic_2 = solution_arctic_bis[(n_features+2)*n_classes:]\n",
    "#phi_arctic_2 = np.exp(np.matmul(Z_arctic,gamma_var_arctic_2))"
   ]
  },
  {
   "cell_type": "code",
   "execution_count": 36,
   "metadata": {},
   "outputs": [
    {
     "data": {
      "image/png": "[encoded data removed]",
      "text/plain": [
       "<Figure size 432x288 with 1 Axes>"
      ]
     },
     "metadata": {
      "needs_background": "light"
     },
     "output_type": "display_data"
    }
   ],
   "source": [
    "plt.scatter(X_arctic,Y_arctic[:,0],label='Sand')\n",
    "plt.scatter(X_arctic,Y_arctic[:,1],label='Silt')\n",
    "plt.scatter(X_arctic,Y_arctic[:,2],label='Clay')\n",
    "plt.plot(X_new, mu_arctic_2)\n",
    "plt.legend()\n",
    "plt.show()"
   ]
  },
  {
   "cell_type": "markdown",
   "metadata": {},
   "source": [
    "# Using the derivatives"
   ]
  },
  {
   "cell_type": "code",
   "execution_count": 101,
   "metadata": {},
   "outputs": [],
   "source": [
    "X_arctic_2_bis = np.ones((39,3))\n",
    "X_arctic_2_bis[:,1] = X_arctic[:,0]/np.max(X_arctic)\n",
    "X_arctic_2_bis[:,2] = X_arctic_2_bis[:,1]**2"
   ]
  },
  {
   "cell_type": "code",
   "execution_count": 88,
   "metadata": {},
   "outputs": [],
   "source": [
    "def fprime_arctic(x, X, Y, Z, epsilon=0):\n",
    "    K = X.shape[-1]\n",
    "    J = Y.shape[-1]\n",
    "    beta = x[:K*J].reshape((K,J))\n",
    "    beta[:,0] = 0\n",
    "    gamma_var = x[K*J:]\n",
    "    #mu = dirichlet_regression.compute_mu(X, beta)\n",
    "    mu = dirichlet_regression.compute_mu_3(X, beta)\n",
    "    phi = np.exp(np.matmul(Z,gamma_var))\n",
    "    #beta_grad = dirichlet_regression.dirichlet_gradient(mu, X, Y, epsilon=epsilon)\n",
    "    beta_grad = dirichlet_regression.dirichlet_gradient_wrt_beta(mu, phi, X, Y, epsilon=epsilon)\n",
    "    beta_grad[:,0] = 0\n",
    "    gamma_grad = dirichlet_regression.dirichlet_derivative_wrt_gamma(mu, phi, beta, X, Y, Z, epsilon=epsilon)\n",
    "    return(-np.concatenate([beta_grad.flatten(),gamma_grad]))"
   ]
  },
  {
   "cell_type": "code",
   "execution_count": 89,
   "metadata": {},
   "outputs": [
    {
     "data": {
      "text/plain": [
       "271402.53057746124"
      ]
     },
     "execution_count": 89,
     "metadata": {},
     "output_type": "execute_result"
    }
   ],
   "source": [
    "h=0.000001\n",
    "params0_h = np.copy(params0)\n",
    "params0_h[-2] += h \n",
    "(f_arctic(params0_h, X_arctic_2, Y_arctic, Z_arctic)-f_arctic(params0, X_arctic_2, Y_arctic, Z_arctic))/h"
   ]
  },
  {
   "cell_type": "code",
   "execution_count": 90,
   "metadata": {},
   "outputs": [
    {
     "data": {
      "text/plain": [
       "array([-0.00000000e+00,  2.44803858e+00,  4.54959527e+01, -0.00000000e+00,\n",
       "       -1.40671295e+03,  3.41001611e+03, -0.00000000e+00, -1.49382795e+05,\n",
       "        2.71310732e+05,  4.12946026e+01])"
      ]
     },
     "execution_count": 90,
     "metadata": {},
     "output_type": "execute_result"
    }
   ],
   "source": [
    "fprime_arctic(params0, X_arctic_2, Y_arctic, Z_arctic)"
   ]
  },
  {
   "cell_type": "code",
   "execution_count": 91,
   "metadata": {
    "scrolled": true
   },
   "outputs": [
    {
     "name": "stderr",
     "output_type": "stream",
     "text": [
      "C:\\Users\\46660461\\Documents\\GitHub\\maupiti\\dirichlet_regression.py:29: RuntimeWarning: overflow encountered in exp\n",
      "  mu[i,j] = 1/np.sum(np.exp(Xbeta[i]-Xbeta[i,j]))\n",
      "C:\\Users\\46660461\\Documents\\GitHub\\maupiti\\dirichlet_regression.py:38: RuntimeWarning: overflow encountered in exp\n",
      "  exp_Xbeta = np.exp(Xbeta)\n",
      "C:\\Users\\46660461\\Documents\\GitHub\\maupiti\\dirichlet_regression.py:29: RuntimeWarning: overflow encountered in exp\n",
      "  mu[i,j] = 1/np.sum(np.exp(Xbeta[i]-Xbeta[i,j]))\n"
     ]
    },
    {
     "name": "stdout",
     "output_type": "stream",
     "text": [
      "Wall time: 437 ms\n"
     ]
    }
   ],
   "source": [
    "%%time\n",
    "solution_arctic = minimize(f_arctic, params0, args=(X_arctic_2, Y_arctic, Z_arctic), jac=fprime_arctic)"
   ]
  },
  {
   "cell_type": "code",
   "execution_count": 92,
   "metadata": {},
   "outputs": [
    {
     "data": {
      "text/plain": [
       "'Desired error not necessarily achieved due to precision loss.'"
      ]
     },
     "execution_count": 92,
     "metadata": {},
     "output_type": "execute_result"
    }
   ],
   "source": [
    "solution_arctic.message"
   ]
  },
  {
   "cell_type": "code",
   "execution_count": 93,
   "metadata": {},
   "outputs": [],
   "source": [
    "beta_arctic_2 = solution_arctic.x[:(n_features+2)*n_classes].reshape((n_features+2,n_classes))"
   ]
  },
  {
   "cell_type": "code",
   "execution_count": 94,
   "metadata": {},
   "outputs": [],
   "source": [
    "mu_arctic_2 = dirichlet_regression.compute_mu(X_new_2, beta_arctic_2)"
   ]
  },
  {
   "cell_type": "code",
   "execution_count": 97,
   "metadata": {},
   "outputs": [
    {
     "data": {
      "image/png": "[encoded data removed]",
      "text/plain": [
       "<Figure size 640x480 with 1 Axes>"
      ]
     },
     "metadata": {},
     "output_type": "display_data"
    }
   ],
   "source": [
    "plt.scatter(X_arctic,Y_arctic[:,0],label='Sand')\n",
    "plt.scatter(X_arctic,Y_arctic[:,1],label='Silt')\n",
    "plt.scatter(X_arctic,Y_arctic[:,2],label='Clay')\n",
    "plt.plot(X_new, mu_arctic_2)\n",
    "plt.legend()\n",
    "plt.show()"
   ]
  },
  {
   "cell_type": "code",
   "execution_count": 465,
   "metadata": {},
   "outputs": [],
   "source": [
    "def fhessian(x, X, Y, Z):\n",
    "    K = X.shape[-1]\n",
    "    J = Y.shape[-1]\n",
    "    beta = x[:K*J].reshape((K,J))\n",
    "    beta[:,0] = 0\n",
    "    gamma_var = x[K*J:]\n",
    "    #mu = dirichlet_regression.compute_mu(X, beta)\n",
    "    mu = dirichlet_regression.compute_mu_2(X, beta)\n",
    "    phi = np.exp(np.matmul(Z,gamma_var))\n",
    "    if len(phi.shape)==1:\n",
    "        K_phi=1\n",
    "    else:\n",
    "        K_phi = phi.shape[-1]\n",
    "    hessian = np.zeros((K*J+1,K*J+1))\n",
    "    #beta_hess = dirichlet_regression.dirichlet_hessian_wrt_beta(mu, phi, X, Y).reshape((K*J,K*J))\n",
    "    beta_hess = dirichlet_hessian_wrt_beta_2(mu, phi, X, Y).reshape((K*J,K*J))\n",
    "    #gamma_hess = dirichlet_regression.dirichlet_hessian_wrt_gamma(mu, phi, beta, X, Y, Z)\n",
    "    gamma_hess = dirichlet_regression.dirichlet_hessian_wrt_gamma_2(mu, phi, beta, X, Y, Z)\n",
    "    #beta_gamma_derivative = dirichlet_regression.dirichlet_second_derivative_beta_gamma(mu, phi, beta, X, Y, Z).reshape((K_phi,K*J))\n",
    "    beta_gamma_derivative = dirichlet_regression.dirichlet_second_derivative_beta_gamma_2(mu, phi, beta, X, Y, Z).reshape((K_phi,K*J))\n",
    "    \n",
    "    # we set to 0 the first columns of the betas\n",
    "    for k in range(0,K*J,J):\n",
    "        beta_hess[k,:] = 0\n",
    "        beta_hess[:,k] = 0.\n",
    "        beta_gamma_derivative[:,k] = 0.\n",
    "    hessian[:K*J,:K*J] = beta_hess\n",
    "    hessian[K*J:,K*J:] = gamma_hess\n",
    "    hessian[:K*J,K*J:] = beta_gamma_derivative.transpose()\n",
    "    hessian[K*J:,:K*J] = beta_gamma_derivative\n",
    "    return(-hessian)"
   ]
  },
  {
   "cell_type": "code",
   "execution_count": 113,
   "metadata": {},
   "outputs": [],
   "source": [
    "def trigamma_func(z):\n",
    "    S=0\n",
    "    for n in range(10000):\n",
    "        S+=1/(z+n)**2\n",
    "    return S\n",
    "\n",
    "def z_times_trigamma_func(z):\n",
    "    S=0\n",
    "    for n in range(10000):\n",
    "        S+=1/( z + 2*n + (n**2)/z )\n",
    "    return S\n",
    "\n",
    "def a_times_trigamma_func(a,z):\n",
    "    S=0\n",
    "    try:\n",
    "        for n in range(10000):\n",
    "            S+=1/( z*(z/a) + (2*z*n)/a + (n**2)/a )\n",
    "    except ZeroDivisionError:\n",
    "        S=1e305\n",
    "    return S"
   ]
  },
  {
   "cell_type": "code",
   "execution_count": 236,
   "metadata": {},
   "outputs": [],
   "source": [
    "def dirichlet_hessian_wrt_beta_2(mu, phi, X, Y, alpha=None, epsilon=0):\n",
    "    K = np.shape(X)[1] #nb of features\n",
    "    J = np.shape(Y)[1] #nb of classes\n",
    "    n = np.shape(Y)[0] \n",
    "    hessian = np.zeros((K,J,K,J))\n",
    "    if alpha is None:\n",
    "        alpha = np.copy(mu)\n",
    "        for j in range(J):\n",
    "            alpha[:,j] = phi*mu[:,j]\n",
    "    for i in range(n):\n",
    "        digamma_alpha = digamma(alpha[i])\n",
    "        digamma_alpha[np.isinf(digamma_alpha)] = -1e305\n",
    "\n",
    "        trigamma_alpha = polygamma(1,alpha[i])\n",
    "        trigamma_alpha[np.isinf(trigamma_alpha)] = 1e305\n",
    "        \n",
    "        #mu_2_trigamma = a_times_trigamma_func(mu[i]**2,alpha[i])\n",
    "        #if math.isinf(trigamma_alpha):\n",
    "        #    mu_2_trigamma = a_times_trigamma_func(mu[i]**2,alpha[i])\n",
    "        #else:\n",
    "        mu_2_trigamma = mu[i]**2*trigamma_alpha\n",
    "        mu_2_trigamma[mu[i]**2==0] = 0\n",
    "        phi_sum_mu_2_trigamma = phi[i]*np.sum(mu_2_trigamma)\n",
    "        \n",
    "        logY = np.log(Y[i]+epsilon)\n",
    "        sum_mu_log = 2*np.sum(mu[i]*logY)\n",
    "        \n",
    "        mu_digamma_alpha = mu[i]*digamma_alpha\n",
    "        mu_digamma_alpha[mu[i]==0] = 0\n",
    "        sum_mu_digamma = 2*np.sum(mu_digamma_alpha)\n",
    "        \n",
    "        mu_digamma_log = mu[i]*(digamma_alpha-logY)\n",
    "        #mu_digamma_log[mu[i]==0] = 0\n",
    "        sum_mu_digamma_log = np.sum(mu_digamma_log)\n",
    "        for p in range(K):\n",
    "            phi_Xip = phi[i]*X[i,p]\n",
    "            for d in range(J):\n",
    "                phi_Xip_muid = phi_Xip*mu[i,d]\n",
    "                if alpha[i,d]==0:\n",
    "                    alpha_times_trigamma_alpha = np.zeros(np.shape(trigamma_alpha[d]))\n",
    "                else:\n",
    "                    if math.isinf(trigamma_alpha[d]):\n",
    "                        alpha_times_trigamma_alpha = np.array(a_times_trigamma_func(alpha[i,d],alpha[i,d]))\n",
    "                    else:\n",
    "                        alpha_times_trigamma_alpha = alpha[i,d]*trigamma_alpha[d]\n",
    "                for q in range(K):\n",
    "                    phi_Xip_muid_Xiq = phi_Xip_muid*X[i,q]\n",
    "                    for c in range(J):\n",
    "                        if c!=d:\n",
    "                            if alpha[i,c]==0:\n",
    "                                alpha_c_trigamma_alpha_c = 0\n",
    "                            elif math.isinf(trigamma_alpha[c]):\n",
    "                                alpha_c_trigamma_alpha_c = a_times_trigamma_func(alpha[i,c],alpha[i,c])\n",
    "                            else:\n",
    "                                alpha_c_trigamma_alpha_c = alpha[i,c]*trigamma_alpha[c]\n",
    "                            hessian[p,d,q,c] += phi_Xip_muid_Xiq*mu[i,c] * ( digamma_alpha[c] + digamma_alpha[d]\n",
    "                                                                           - logY[c] - logY[d]\n",
    "                                                                           + alpha_c_trigamma_alpha_c + alpha_times_trigamma_alpha\n",
    "                                                                           - phi_sum_mu_2_trigamma \n",
    "                                                                           + sum_mu_log\n",
    "                                                                           - sum_mu_digamma )\n",
    "                        else:\n",
    "                            \n",
    "                            if math.isinf(trigamma_alpha[c]):\n",
    "                                #phi_trigamma_alpha_c = np.array(a_times_trigamma_func(phi[i],alpha[i,c]))\n",
    "                                phi_trigamma_alpha_c = phi[i]*1e305\n",
    "                            else:\n",
    "                                phi_trigamma_alpha_c = phi[i]*trigamma_alpha[c]\n",
    "                            hessian[p,d,q,c] += phi_Xip_muid_Xiq*mu[i,c] * ( 2*digamma_alpha[c] - 2*logY[c] \n",
    "                                                                           + 2*alpha_times_trigamma_alpha\n",
    "                                                                           - phi_sum_mu_2_trigamma\n",
    "                                                                           + sum_mu_log\n",
    "                                                                           - sum_mu_digamma\n",
    "                                                                           - phi_trigamma_alpha_c)\n",
    "                            hessian[p,d,q,c] += phi_Xip_muid_Xiq * (sum_mu_digamma_log - digamma_alpha[c] + logY[c] )\n",
    "    # fill the symmetric values we didn't compute\n",
    "    #for p in range(K):\n",
    "    #    for d in range(J):\n",
    "    #        for q in range(p):\n",
    "    #            for c in range(J):\n",
    "    #                hessian[p,d,q,c] = hessian[q,c,p,d]\n",
    "    return hessian"
   ]
  },
  {
   "cell_type": "code",
   "execution_count": null,
   "metadata": {},
   "outputs": [],
   "source": []
  }
 ],
 "metadata": {
  "kernelspec": {
   "display_name": "Python 3",
   "language": "python",
   "name": "python3"
  },
  "language_info": {
   "codemirror_mode": {
    "name": "ipython",
    "version": 3
   },
   "file_extension": ".py",
   "mimetype": "text/x-python",
   "name": "python",
   "nbconvert_exporter": "python",
   "pygments_lexer": "ipython3",
   "version": "3.8.5"
  }
 },
 "nbformat": 4,
 "nbformat_minor": 4
}
