{
 "cells": [
  {
   "cell_type": "markdown",
   "metadata": {},
   "source": [
    "# Importing the packages and data"
   ]
  },
  {
   "cell_type": "code",
   "execution_count": 1,
   "metadata": {},
   "outputs": [],
   "source": [
    "%load_ext autoreload\n",
    "%autoreload 2"
   ]
  },
  {
   "cell_type": "code",
   "execution_count": 2,
   "metadata": {},
   "outputs": [
    {
     "name": "stderr",
     "output_type": "stream",
     "text": [
      "C:\\Users\\tnguyen001\\AppData\\Roaming\\Python\\Python38\\site-packages\\pandas\\core\\computation\\expressions.py:20: UserWarning: Pandas requires version '2.7.3' or newer of 'numexpr' (version '2.7.1' currently installed).\n",
      "  from pandas.core.computation.check import NUMEXPR_INSTALLED\n"
     ]
    }
   ],
   "source": [
    "import numpy as np\n",
    "import pandas as pd\n",
    "import matplotlib.pyplot as plt\n",
    "import scipy\n",
    "from sklearn.metrics import r2_score, mean_squared_error\n",
    "\n",
    "from sklearn.neighbors import NearestNeighbors\n",
    "from sklearn.model_selection import train_test_split\n",
    "from sklearn.model_selection import KFold\n",
    "from sklearn.preprocessing import StandardScaler\n",
    "\n",
    "from texttable import Texttable\n",
    "import latextable"
   ]
  },
  {
   "cell_type": "code",
   "execution_count": 3,
   "metadata": {},
   "outputs": [],
   "source": [
    "import sys\n",
    "sys.path.insert(1, '../sar_dirichlet')\n",
    "import dirichlet_regression"
   ]
  },
  {
   "cell_type": "code",
   "execution_count": 4,
   "metadata": {},
   "outputs": [],
   "source": [
    "from func_test import cos_similarity"
   ]
  },
  {
   "cell_type": "code",
   "execution_count": 5,
   "metadata": {},
   "outputs": [
    {
     "data": {
      "text/plain": [
       "'1.10.1'"
      ]
     },
     "execution_count": 5,
     "metadata": {},
     "output_type": "execute_result"
    }
   ],
   "source": [
    "scipy.__version__"
   ]
  },
  {
   "cell_type": "markdown",
   "metadata": {},
   "source": [
    "# Loading Dataset"
   ]
  },
  {
   "cell_type": "code",
   "execution_count": 6,
   "metadata": {},
   "outputs": [],
   "source": [
    "arctic = pd.read_csv('Data Dirichlet/ArcticLake.csv')"
   ]
  },
  {
   "cell_type": "code",
   "execution_count": 7,
   "metadata": {},
   "outputs": [],
   "source": [
    "Y_arctic = arctic.iloc[:,:3]\n",
    "X_arctic = arctic.iloc[:,3]"
   ]
  },
  {
   "cell_type": "code",
   "execution_count": 8,
   "metadata": {},
   "outputs": [],
   "source": [
    "Y_arctic = np.array(Y_arctic)"
   ]
  },
  {
   "cell_type": "code",
   "execution_count": 9,
   "metadata": {},
   "outputs": [],
   "source": [
    "X_arctic = np.array([[j] for j in X_arctic])"
   ]
  },
  {
   "cell_type": "code",
   "execution_count": 10,
   "metadata": {},
   "outputs": [],
   "source": [
    "Z_arctic = np.ones(len(X_arctic)).reshape((39,1))"
   ]
  },
  {
   "cell_type": "code",
   "execution_count": 11,
   "metadata": {},
   "outputs": [],
   "source": [
    "n_features = 1\n",
    "n_classes = 3"
   ]
  },
  {
   "cell_type": "code",
   "execution_count": 12,
   "metadata": {
    "scrolled": true
   },
   "outputs": [],
   "source": [
    "X = np.array(X_arctic)\n",
    "Y = np.array(Y_arctic)\n",
    "\n",
    "X = StandardScaler().fit(X).transform(X)"
   ]
  },
  {
   "cell_type": "code",
   "execution_count": 13,
   "metadata": {},
   "outputs": [],
   "source": [
    "Z = Z_arctic\n",
    "gamma_0 = [0.]"
   ]
  },
  {
   "cell_type": "code",
   "execution_count": 14,
   "metadata": {},
   "outputs": [],
   "source": [
    "n,K = X.shape\n",
    "J = Y.shape[1]"
   ]
  },
  {
   "cell_type": "markdown",
   "metadata": {},
   "source": [
    "# Order 1"
   ]
  },
  {
   "cell_type": "code",
   "execution_count": 15,
   "metadata": {},
   "outputs": [],
   "source": [
    "distance_matrix = scipy.spatial.distance_matrix(X_arctic,X_arctic)\n",
    "W_arctic_cont = np.zeros(np.shape(distance_matrix))\n",
    "W_arctic_cont[distance_matrix < 28] = 1\n",
    "# replace the 1 on the diagonal by 0\n",
    "np.fill_diagonal(W_arctic_cont,0)\n",
    "# scaling the matrix, so that the sum of each row is 1\n",
    "W_arctic_cont = W_arctic_cont/W_arctic_cont.sum(axis=1)[:,None]"
   ]
  },
  {
   "cell_type": "code",
   "execution_count": 16,
   "metadata": {},
   "outputs": [],
   "source": [
    "pd.DataFrame(W_arctic_cont).to_csv(\"Data Dirichlet/W_arctic_cont.csv\", index=False)"
   ]
  },
  {
   "cell_type": "code",
   "execution_count": 17,
   "metadata": {},
   "outputs": [],
   "source": [
    "Minv09 = np.linalg.inv(np.identity(39) - 0.9*W_arctic_cont)\n",
    "Minv08 = np.linalg.inv(np.identity(39) - 0.8*W_arctic_cont)\n",
    "Minv075 = np.linalg.inv(np.identity(39) - 0.75*W_arctic_cont)\n",
    "Minv07 = np.linalg.inv(np.identity(39) - 0.7*W_arctic_cont)\n",
    "Minv06 = np.linalg.inv(np.identity(39) - 0.6*W_arctic_cont)"
   ]
  },
  {
   "cell_type": "code",
   "execution_count": 18,
   "metadata": {},
   "outputs": [
    {
     "data": {
      "image/png": "[encoded data removed]",
      "text/plain": [
       "<Figure size 432x288 with 1 Axes>"
      ]
     },
     "metadata": {
      "needs_background": "light"
     },
     "output_type": "display_data"
    }
   ],
   "source": [
    "plt.plot([Minv06[0,0] , Minv07[0,0], Minv075[0,0], Minv08[0,0], Minv09[0,0]])\n",
    "plt.show()"
   ]
  },
  {
   "cell_type": "code",
   "execution_count": 19,
   "metadata": {},
   "outputs": [
    {
     "data": {
      "image/png": "[encoded data removed]",
      "text/plain": [
       "<Figure size 432x288 with 1 Axes>"
      ]
     },
     "metadata": {
      "needs_background": "light"
     },
     "output_type": "display_data"
    }
   ],
   "source": [
    "plt.plot([Minv06[0,1] , Minv07[0,1], Minv075[0,1], Minv08[0,1], Minv09[0,1]])\n",
    "plt.show()"
   ]
  },
  {
   "cell_type": "code",
   "execution_count": 22,
   "metadata": {},
   "outputs": [],
   "source": [
    "neighbors = NearestNeighbors(n_neighbors=29).fit(X)\n",
    "W_arctic_dist = neighbors.kneighbors_graph(X,mode='distance').toarray()\n",
    "W_arctic_dist[W_arctic_dist>0] = 1/W_arctic_dist[W_arctic_dist>0]\n",
    "W_arctic_dist = W_arctic_dist/W_arctic_dist.sum(axis=1)[:,None]"
   ]
  },
  {
   "cell_type": "code",
   "execution_count": 23,
   "metadata": {},
   "outputs": [],
   "source": [
    "pd.DataFrame(W_arctic_dist).to_csv(\"Data Dirichlet/W_arctic_dist.csv\", index=False)"
   ]
  },
  {
   "cell_type": "markdown",
   "metadata": {},
   "source": [
    "## Dirichlet model"
   ]
  },
  {
   "cell_type": "code",
   "execution_count": 18,
   "metadata": {
    "scrolled": true
   },
   "outputs": [
    {
     "name": "stdout",
     "output_type": "stream",
     "text": [
      "Optimization terminated successfully.\n",
      "CONVERGENCE: NORM_OF_PROJECTED_GRADIENT_<=_PGTOL\n",
      "CONVERGENCE: REL_REDUCTION_OF_F_<=_FACTR*EPSMCH\n",
      "Optimization terminated successfully.\n",
      "CONVERGENCE: NORM_OF_PROJECTED_GRADIENT_<=_PGTOL\n",
      "CONVERGENCE: NORM_OF_PROJECTED_GRADIENT_<=_PGTOL\n",
      "Optimization terminated successfully.\n",
      "CONVERGENCE: NORM_OF_PROJECTED_GRADIENT_<=_PGTOL\n",
      "CONVERGENCE: NORM_OF_PROJECTED_GRADIENT_<=_PGTOL\n",
      "Optimization terminated successfully.\n",
      "CONVERGENCE: REL_REDUCTION_OF_F_<=_FACTR*EPSMCH\n",
      "CONVERGENCE: REL_REDUCTION_OF_F_<=_FACTR*EPSMCH\n",
      "Optimization terminated successfully.\n",
      "CONVERGENCE: NORM_OF_PROJECTED_GRADIENT_<=_PGTOL\n",
      "CONVERGENCE: NORM_OF_PROJECTED_GRADIENT_<=_PGTOL\n",
      "Optimization terminated successfully.\n",
      "CONVERGENCE: NORM_OF_PROJECTED_GRADIENT_<=_PGTOL\n",
      "CONVERGENCE: NORM_OF_PROJECTED_GRADIENT_<=_PGTOL\n",
      "Optimization terminated successfully.\n",
      "CONVERGENCE: NORM_OF_PROJECTED_GRADIENT_<=_PGTOL\n",
      "CONVERGENCE: NORM_OF_PROJECTED_GRADIENT_<=_PGTOL\n",
      "Optimization terminated successfully.\n",
      "CONVERGENCE: NORM_OF_PROJECTED_GRADIENT_<=_PGTOL\n",
      "CONVERGENCE: NORM_OF_PROJECTED_GRADIENT_<=_PGTOL\n",
      "Optimization terminated successfully.\n",
      "CONVERGENCE: NORM_OF_PROJECTED_GRADIENT_<=_PGTOL\n",
      "CONVERGENCE: REL_REDUCTION_OF_F_<=_FACTR*EPSMCH\n",
      "Optimization terminated successfully.\n",
      "CONVERGENCE: NORM_OF_PROJECTED_GRADIENT_<=_PGTOL\n",
      "CONVERGENCE: REL_REDUCTION_OF_F_<=_FACTR*EPSMCH\n",
      "Optimization terminated successfully.\n",
      "CONVERGENCE: NORM_OF_PROJECTED_GRADIENT_<=_PGTOL\n",
      "CONVERGENCE: NORM_OF_PROJECTED_GRADIENT_<=_PGTOL\n",
      "Optimization terminated successfully.\n",
      "CONVERGENCE: NORM_OF_PROJECTED_GRADIENT_<=_PGTOL\n",
      "CONVERGENCE: NORM_OF_PROJECTED_GRADIENT_<=_PGTOL\n",
      "Optimization terminated successfully.\n",
      "CONVERGENCE: NORM_OF_PROJECTED_GRADIENT_<=_PGTOL\n",
      "CONVERGENCE: NORM_OF_PROJECTED_GRADIENT_<=_PGTOL\n",
      "Optimization terminated successfully.\n",
      "CONVERGENCE: NORM_OF_PROJECTED_GRADIENT_<=_PGTOL\n",
      "CONVERGENCE: REL_REDUCTION_OF_F_<=_FACTR*EPSMCH\n",
      "Optimization terminated successfully.\n",
      "CONVERGENCE: NORM_OF_PROJECTED_GRADIENT_<=_PGTOL\n",
      "CONVERGENCE: REL_REDUCTION_OF_F_<=_FACTR*EPSMCH\n",
      "Optimization terminated successfully.\n",
      "CONVERGENCE: NORM_OF_PROJECTED_GRADIENT_<=_PGTOL\n",
      "CONVERGENCE: REL_REDUCTION_OF_F_<=_FACTR*EPSMCH\n",
      "Optimization terminated successfully.\n",
      "CONVERGENCE: NORM_OF_PROJECTED_GRADIENT_<=_PGTOL\n",
      "CONVERGENCE: REL_REDUCTION_OF_F_<=_FACTR*EPSMCH\n",
      "Optimization terminated successfully.\n",
      "CONVERGENCE: NORM_OF_PROJECTED_GRADIENT_<=_PGTOL\n",
      "CONVERGENCE: REL_REDUCTION_OF_F_<=_FACTR*EPSMCH\n",
      "Optimization terminated successfully.\n",
      "CONVERGENCE: NORM_OF_PROJECTED_GRADIENT_<=_PGTOL\n",
      "CONVERGENCE: REL_REDUCTION_OF_F_<=_FACTR*EPSMCH\n",
      "Optimization terminated successfully.\n",
      "CONVERGENCE: NORM_OF_PROJECTED_GRADIENT_<=_PGTOL\n",
      "CONVERGENCE: NORM_OF_PROJECTED_GRADIENT_<=_PGTOL\n",
      "Optimization terminated successfully.\n",
      "CONVERGENCE: NORM_OF_PROJECTED_GRADIENT_<=_PGTOL\n",
      "CONVERGENCE: REL_REDUCTION_OF_F_<=_FACTR*EPSMCH\n",
      "Optimization terminated successfully.\n",
      "CONVERGENCE: REL_REDUCTION_OF_F_<=_FACTR*EPSMCH\n",
      "CONVERGENCE: NORM_OF_PROJECTED_GRADIENT_<=_PGTOL\n",
      "Optimization terminated successfully.\n",
      "CONVERGENCE: NORM_OF_PROJECTED_GRADIENT_<=_PGTOL\n",
      "CONVERGENCE: NORM_OF_PROJECTED_GRADIENT_<=_PGTOL\n",
      "Optimization terminated successfully.\n",
      "CONVERGENCE: NORM_OF_PROJECTED_GRADIENT_<=_PGTOL\n",
      "CONVERGENCE: REL_REDUCTION_OF_F_<=_FACTR*EPSMCH\n",
      "Optimization terminated successfully.\n",
      "CONVERGENCE: NORM_OF_PROJECTED_GRADIENT_<=_PGTOL\n",
      "CONVERGENCE: NORM_OF_PROJECTED_GRADIENT_<=_PGTOL\n",
      "Optimization terminated successfully.\n",
      "CONVERGENCE: NORM_OF_PROJECTED_GRADIENT_<=_PGTOL\n",
      "CONVERGENCE: REL_REDUCTION_OF_F_<=_FACTR*EPSMCH\n",
      "Optimization terminated successfully.\n",
      "CONVERGENCE: NORM_OF_PROJECTED_GRADIENT_<=_PGTOL\n",
      "CONVERGENCE: NORM_OF_PROJECTED_GRADIENT_<=_PGTOL\n",
      "Optimization terminated successfully.\n",
      "CONVERGENCE: NORM_OF_PROJECTED_GRADIENT_<=_PGTOL\n",
      "CONVERGENCE: REL_REDUCTION_OF_F_<=_FACTR*EPSMCH\n",
      "Optimization terminated successfully.\n",
      "CONVERGENCE: NORM_OF_PROJECTED_GRADIENT_<=_PGTOL\n",
      "CONVERGENCE: REL_REDUCTION_OF_F_<=_FACTR*EPSMCH\n",
      "Optimization terminated successfully.\n",
      "CONVERGENCE: NORM_OF_PROJECTED_GRADIENT_<=_PGTOL\n",
      "CONVERGENCE: NORM_OF_PROJECTED_GRADIENT_<=_PGTOL\n",
      "Optimization terminated successfully.\n",
      "CONVERGENCE: NORM_OF_PROJECTED_GRADIENT_<=_PGTOL\n",
      "CONVERGENCE: NORM_OF_PROJECTED_GRADIENT_<=_PGTOL\n",
      "Optimization terminated successfully.\n",
      "CONVERGENCE: REL_REDUCTION_OF_F_<=_FACTR*EPSMCH\n",
      "CONVERGENCE: REL_REDUCTION_OF_F_<=_FACTR*EPSMCH\n",
      "Optimization terminated successfully.\n",
      "CONVERGENCE: NORM_OF_PROJECTED_GRADIENT_<=_PGTOL\n",
      "CONVERGENCE: NORM_OF_PROJECTED_GRADIENT_<=_PGTOL\n",
      "Optimization terminated successfully.\n",
      "CONVERGENCE: NORM_OF_PROJECTED_GRADIENT_<=_PGTOL\n",
      "CONVERGENCE: REL_REDUCTION_OF_F_<=_FACTR*EPSMCH\n",
      "Optimization terminated successfully.\n",
      "CONVERGENCE: NORM_OF_PROJECTED_GRADIENT_<=_PGTOL\n",
      "CONVERGENCE: REL_REDUCTION_OF_F_<=_FACTR*EPSMCH\n",
      "Optimization terminated successfully.\n",
      "CONVERGENCE: NORM_OF_PROJECTED_GRADIENT_<=_PGTOL\n",
      "CONVERGENCE: REL_REDUCTION_OF_F_<=_FACTR*EPSMCH\n",
      "Optimization terminated successfully.\n",
      "CONVERGENCE: NORM_OF_PROJECTED_GRADIENT_<=_PGTOL\n",
      "CONVERGENCE: REL_REDUCTION_OF_F_<=_FACTR*EPSMCH\n",
      "Optimization terminated successfully.\n",
      "CONVERGENCE: NORM_OF_PROJECTED_GRADIENT_<=_PGTOL\n",
      "CONVERGENCE: REL_REDUCTION_OF_F_<=_FACTR*EPSMCH\n",
      "Optimization terminated successfully.\n",
      "CONVERGENCE: NORM_OF_PROJECTED_GRADIENT_<=_PGTOL\n",
      "CONVERGENCE: NORM_OF_PROJECTED_GRADIENT_<=_PGTOL\n",
      "Wall time: 4.74 s\n"
     ]
    }
   ],
   "source": [
    "%%time\n",
    "list_r2_ns_1, list_rmse_ns_1, list_aic_ns_1, list_crossentropy_ns_1, list_similarity_ns_1 = [], [], [], [], []\n",
    "list_r2_cont_1, list_rmse_cont_1, list_aic_cont_1, list_crossentropy_cont_1, list_similarity_cont_1 = [], [], [], [], []\n",
    "list_r2_dist_1, list_rmse_dist_1, list_aic_dist_1, list_crossentropy_dist_1, list_similarity_dist_1 = [], [], [], [], []\n",
    "\n",
    "for i in range(39):  \n",
    "    X_temp = np.delete(X,i,axis=0)\n",
    "    Y_temp = np.delete(Y_arctic,i,axis=0)\n",
    "    Z_temp = np.delete(Z_arctic,i,axis=0)\n",
    "    \n",
    "    Wss_cont = np.delete(W_arctic_cont,i,axis=0)\n",
    "    Wss_cont = np.delete(Wss_cont,i,axis=1)\n",
    "    Wss_cont = Wss_cont/Wss_cont.sum(axis=1)[:,None]\n",
    "    \n",
    "    Wss_dist = np.delete(W_arctic_dist,i,axis=0)\n",
    "    Wss_dist = np.delete(Wss_dist,i,axis=1)\n",
    "    Wss_dist = Wss_dist/Wss_dist.sum(axis=1)[:,None]\n",
    "    \n",
    "    dirichRegressor = dirichlet_regression.dirichletRegressor(spatial=False)\n",
    "    dirichRegressor.fit(X_temp, Y_temp, parametrization='alternative', gamma_0=gamma_0, Z=Z_temp)\n",
    "    list_r2_ns_1.append(r2_score(Y_temp,dirichRegressor.mu))\n",
    "    list_rmse_ns_1.append(mean_squared_error(Y_temp,dirichRegressor.mu,squared=False))\n",
    "    list_crossentropy_ns_1.append(-1/n*np.sum(Y_temp*np.log(dirichRegressor.mu)))\n",
    "    list_aic_ns_1.append(-2*dirichlet_regression.dirichlet_loglikelihood(dirichRegressor.mu,dirichRegressor.phi,Y_temp)+2*5)\n",
    "    list_similarity_ns_1.append(cos_similarity(Y_temp,dirichRegressor.mu))\n",
    "\n",
    "    dirichRegressor = dirichlet_regression.dirichletRegressor(spatial=True)\n",
    "    dirichRegressor.fit(X_temp, Y_temp, parametrization='alternative', gamma_0=gamma_0, Z=Z_temp, W=Wss_cont)\n",
    "    list_r2_cont_1.append(r2_score(Y_temp,dirichRegressor.mu))\n",
    "    list_rmse_cont_1.append(mean_squared_error(Y_temp,dirichRegressor.mu,squared=False))\n",
    "    list_crossentropy_cont_1.append(-1/n*np.sum(Y_temp*np.log(dirichRegressor.mu)))\n",
    "    list_aic_cont_1.append(-2*dirichlet_regression.dirichlet_loglikelihood(dirichRegressor.mu,dirichRegressor.phi,Y_temp)+2*6)\n",
    "    list_similarity_cont_1.append(cos_similarity(Y_temp,dirichRegressor.mu))\n",
    "    \n",
    "    dirichRegressor = dirichlet_regression.dirichletRegressor(spatial=True)\n",
    "    dirichRegressor.fit(X_temp, Y_temp, parametrization='alternative', gamma_0=gamma_0, Z=Z_temp, W=Wss_dist)\n",
    "    list_r2_dist_1.append(r2_score(Y_temp,dirichRegressor.mu))\n",
    "    list_rmse_dist_1.append(mean_squared_error(Y_temp,dirichRegressor.mu,squared=False))\n",
    "    list_crossentropy_dist_1.append(-1/n*np.sum(Y_temp*np.log(dirichRegressor.mu)))\n",
    "    list_aic_dist_1.append(-2*dirichlet_regression.dirichlet_loglikelihood(dirichRegressor.mu,dirichRegressor.phi,Y_temp)+2*6)\n",
    "    list_similarity_dist_1.append(cos_similarity(Y_temp,dirichRegressor.mu))"
   ]
  },
  {
   "cell_type": "code",
   "execution_count": 20,
   "metadata": {},
   "outputs": [
    {
     "name": "stdout",
     "output_type": "stream",
     "text": [
      "+-------------+------------+------------+------------+------------+------------+\n",
      "| Model       | $R^2$      | RMSE       | Cross-     | Cos        | AIC        |\n",
      "|             |            |            | entropy    | similarity |            |\n",
      "+-------------+------------+------------+------------+------------+------------+\n",
      "| Not spatial | 0.5887     | 0.1015     | 0.9134     | 0.9665     | -141.6354  |\n",
      "|             | (0.015)    | (0.0018)   | (0.0027)   | (0.0012)   | (2.2535)   |\n",
      "+-------------+------------+------------+------------+------------+------------+\n",
      "| Contiguity  | 0.6323     | 0.0951     | 0.9064     | 0.9706     | -149.5112  |\n",
      "|             | (0.0147)   | (0.0017)   | (0.0029)   | (0.0011)   | (2.3333)   |\n",
      "+-------------+------------+------------+------------+------------+------------+\n",
      "| Distance    | 0.5893     | 0.1014     | 0.9134     | 0.9665     | -139.732   |\n",
      "|             | (0.0148)   | (0.0018)   | (0.0027)   | (0.0012)   | (2.2448)   |\n",
      "+-------------+------------+------------+------------+------------+------------+\n"
     ]
    }
   ],
   "source": [
    "table = Texttable()\n",
    "table.add_row([\"Model\", \"$R^2$\", \"RMSE\", \"Cross-entropy\", \"Cos similarity\", \"AIC\"])\n",
    "text_r2 = str(np.round(np.mean(list_r2_ns_1),4))+\" (\"+str(np.round(np.std(list_r2_ns_1),4))+\")\"\n",
    "text_rmse = str(np.round(np.mean(list_rmse_ns_1),4))+\" (\"+str(np.round(np.std(list_rmse_ns_1),4))+\")\"\n",
    "text_crossentropy = str(np.round(np.mean(list_crossentropy_ns_1),4))+\" (\"+str(np.round(np.std(list_crossentropy_ns_1),4))+\")\"\n",
    "text_similarity = str(np.round(np.mean(list_similarity_ns_1),4))+\" (\"+str(np.round(np.std(list_similarity_ns_1),4))+\")\"\n",
    "text_aic = str(np.round(np.mean(list_aic_ns_1),4))+\" (\"+str(np.round(np.std(list_aic_ns_1),4))+\")\"\n",
    "table.add_row([\"Not spatial\", text_r2, text_rmse, text_crossentropy, text_similarity, text_aic])\n",
    "\n",
    "text_r2 = str(np.round(np.mean(list_r2_cont_1),4))+\" (\"+str(np.round(np.std(list_r2_cont_1),4))+\")\"\n",
    "text_rmse = str(np.round(np.mean(list_rmse_cont_1),4))+\" (\"+str(np.round(np.std(list_rmse_cont_1),4))+\")\"\n",
    "text_crossentropy = str(np.round(np.mean(list_crossentropy_cont_1),4))+\" (\"+str(np.round(np.std(list_crossentropy_cont_1),4))+\")\"\n",
    "text_similarity = str(np.round(np.mean(list_similarity_cont_1),4))+\" (\"+str(np.round(np.std(list_similarity_cont_1),4))+\")\"\n",
    "text_aic = str(np.round(np.mean(list_aic_cont_1),4))+\" (\"+str(np.round(np.std(list_aic_cont_1),4))+\")\"\n",
    "table.add_row([\"Contiguity\", text_r2, text_rmse, text_crossentropy, text_similarity, text_aic])\n",
    "\n",
    "text_r2 = str(np.round(np.mean(list_r2_dist_1),4))+\" (\"+str(np.round(np.std(list_r2_dist_1),4))+\")\"\n",
    "text_rmse = str(np.round(np.mean(list_rmse_dist_1),4))+\" (\"+str(np.round(np.std(list_rmse_dist_1),4))+\")\"\n",
    "text_crossentropy = str(np.round(np.mean(list_crossentropy_dist_1),4))+\" (\"+str(np.round(np.std(list_crossentropy_dist_1),4))+\")\"\n",
    "text_similarity = str(np.round(np.mean(list_similarity_dist_1),4))+\" (\"+str(np.round(np.std(list_similarity_dist_1),4))+\")\"\n",
    "text_aic = str(np.round(np.mean(list_aic_dist_1),4))+\" (\"+str(np.round(np.std(list_aic_dist_1),4))+\")\"\n",
    "table.add_row([\"Distance\", text_r2, text_rmse, text_crossentropy, text_similarity, text_aic])\n",
    "\n",
    "print(table.draw())"
   ]
  },
  {
   "cell_type": "markdown",
   "metadata": {},
   "source": [
    "## Cross-entropy"
   ]
  },
  {
   "cell_type": "code",
   "execution_count": 22,
   "metadata": {
    "scrolled": true
   },
   "outputs": [
    {
     "name": "stdout",
     "output_type": "stream",
     "text": [
      "Optimization terminated successfully.\n",
      "Optimization terminated successfully.\n",
      "Optimization terminated successfully.\n",
      "Optimization terminated successfully.\n",
      "Optimization terminated successfully.\n",
      "Optimization terminated successfully.\n",
      "Optimization terminated successfully.\n",
      "Optimization terminated successfully.\n",
      "Optimization terminated successfully.\n",
      "Optimization terminated successfully.\n",
      "Optimization terminated successfully.\n",
      "Optimization terminated successfully.\n",
      "Optimization terminated successfully.\n",
      "Optimization terminated successfully.\n",
      "Optimization terminated successfully.\n",
      "Optimization terminated successfully.\n",
      "Optimization terminated successfully.\n",
      "Optimization terminated successfully.\n",
      "Optimization terminated successfully.\n",
      "Optimization terminated successfully.\n",
      "Optimization terminated successfully.\n",
      "Optimization terminated successfully.\n",
      "Optimization terminated successfully.\n",
      "Optimization terminated successfully.\n",
      "Optimization terminated successfully.\n",
      "Optimization terminated successfully.\n",
      "Optimization terminated successfully.\n",
      "Optimization terminated successfully.\n",
      "Optimization terminated successfully.\n",
      "Optimization terminated successfully.\n",
      "Optimization terminated successfully.\n",
      "Optimization terminated successfully.\n",
      "Optimization terminated successfully.\n",
      "Optimization terminated successfully.\n",
      "Optimization terminated successfully.\n",
      "Optimization terminated successfully.\n",
      "Optimization terminated successfully.\n",
      "Optimization terminated successfully.\n",
      "Optimization terminated successfully.\n",
      "Optimization terminated successfully.\n",
      "Optimization terminated successfully.\n",
      "Optimization terminated successfully.\n",
      "Optimization terminated successfully.\n",
      "Optimization terminated successfully.\n",
      "Optimization terminated successfully.\n",
      "Optimization terminated successfully.\n",
      "Optimization terminated successfully.\n",
      "Optimization terminated successfully.\n",
      "Optimization terminated successfully.\n",
      "Optimization terminated successfully.\n",
      "Optimization terminated successfully.\n",
      "Optimization terminated successfully.\n",
      "Optimization terminated successfully.\n",
      "Optimization terminated successfully.\n",
      "Optimization terminated successfully.\n",
      "Optimization terminated successfully.\n",
      "Optimization terminated successfully.\n",
      "Optimization terminated successfully.\n",
      "Optimization terminated successfully.\n",
      "Optimization terminated successfully.\n",
      "Optimization terminated successfully.\n",
      "Optimization terminated successfully.\n",
      "Optimization terminated successfully.\n",
      "Optimization terminated successfully.\n",
      "Optimization terminated successfully.\n",
      "Optimization terminated successfully.\n",
      "Optimization terminated successfully.\n",
      "Optimization terminated successfully.\n",
      "Optimization terminated successfully.\n",
      "Optimization terminated successfully.\n",
      "Optimization terminated successfully.\n",
      "Optimization terminated successfully.\n",
      "Optimization terminated successfully.\n",
      "Optimization terminated successfully.\n",
      "Optimization terminated successfully.\n",
      "Optimization terminated successfully.\n",
      "Optimization terminated successfully.\n",
      "Optimization terminated successfully.\n",
      "Optimization terminated successfully.\n",
      "Optimization terminated successfully.\n",
      "Optimization terminated successfully.\n",
      "Optimization terminated successfully.\n",
      "Optimization terminated successfully.\n",
      "Optimization terminated successfully.\n",
      "Optimization terminated successfully.\n",
      "Optimization terminated successfully.\n",
      "Optimization terminated successfully.\n",
      "Optimization terminated successfully.\n",
      "Optimization terminated successfully.\n",
      "Optimization terminated successfully.\n",
      "Optimization terminated successfully.\n",
      "Optimization terminated successfully.\n",
      "Optimization terminated successfully.\n",
      "Optimization terminated successfully.\n",
      "Optimization terminated successfully.\n",
      "Optimization terminated successfully.\n",
      "Optimization terminated successfully.\n",
      "Optimization terminated successfully.\n",
      "Optimization terminated successfully.\n",
      "Optimization terminated successfully.\n",
      "Optimization terminated successfully.\n",
      "Optimization terminated successfully.\n",
      "Optimization terminated successfully.\n",
      "Optimization terminated successfully.\n",
      "Optimization terminated successfully.\n",
      "Optimization terminated successfully.\n",
      "Optimization terminated successfully.\n",
      "Optimization terminated successfully.\n",
      "Optimization terminated successfully.\n",
      "Optimization terminated successfully.\n",
      "Optimization terminated successfully.\n",
      "Optimization terminated successfully.\n",
      "Optimization terminated successfully.\n",
      "Optimization terminated successfully.\n",
      "Optimization terminated successfully.\n",
      "Optimization terminated successfully.\n",
      "Optimization terminated successfully.\n",
      "Wall time: 3.51 s\n"
     ]
    }
   ],
   "source": [
    "%%time\n",
    "list_r2_ns_1_ce, list_rmse_ns_1_ce, list_crossentropy_ns_1_ce, list_similarity_ns_1_ce = [], [], [], []\n",
    "list_r2_cont_1_ce, list_rmse_cont_1_ce, list_crossentropy_cont_1_ce, list_similarity_cont_1_ce = [], [], [], []\n",
    "list_r2_dist_1_ce, list_rmse_dist_1_ce, list_crossentropy_dist_1_ce, list_similarity_dist_1_ce = [], [], [], []\n",
    "\n",
    "for i in range(39):  \n",
    "    X_temp = np.delete(X_arctic,i,axis=0)\n",
    "    Y_temp = np.delete(Y_arctic,i,axis=0)\n",
    "    Z_temp = np.delete(Z_arctic,i,axis=0)\n",
    "    \n",
    "    Wss_cont = np.delete(W_arctic_cont,i,axis=0)\n",
    "    Wss_cont = np.delete(Wss_cont,i,axis=1)\n",
    "    Wss_cont = Wss_cont/Wss_cont.sum(axis=1)[:,None]\n",
    "    \n",
    "    Wss_dist = np.delete(W_arctic_dist,i,axis=0)\n",
    "    Wss_dist = np.delete(Wss_dist,i,axis=1)\n",
    "    Wss_dist = Wss_dist/Wss_dist.sum(axis=1)[:,None]\n",
    "    \n",
    "    dirichRegressor = dirichlet_regression.dirichletRegressor(spatial=False)\n",
    "    dirichRegressor.fit(X_temp, Y_temp, parametrization='alternative', gamma_0=gamma_0, Z=Z_temp, loss='crossentropy')\n",
    "    list_r2_ns_1_ce.append(r2_score(Y_temp,dirichRegressor.mu))\n",
    "    list_rmse_ns_1_ce.append(mean_squared_error(Y_temp,dirichRegressor.mu,squared=False))\n",
    "    list_crossentropy_ns_1_ce.append(-1/n*np.sum(Y_temp*np.log(dirichRegressor.mu)))\n",
    "    list_similarity_ns_1_ce.append(cos_similarity(Y_temp,dirichRegressor.mu))\n",
    "\n",
    "    dirichRegressor = dirichlet_regression.dirichletRegressor(spatial=True)\n",
    "    dirichRegressor.fit(X_temp, Y_temp, parametrization='alternative', gamma_0=gamma_0, Z=Z_temp, W=Wss_cont, loss='crossentropy')\n",
    "    list_r2_cont_1_ce.append(r2_score(Y_temp,dirichRegressor.mu))\n",
    "    list_rmse_cont_1_ce.append(mean_squared_error(Y_temp,dirichRegressor.mu,squared=False))\n",
    "    list_crossentropy_cont_1_ce.append(-1/n*np.sum(Y_temp*np.log(dirichRegressor.mu)))\n",
    "    list_similarity_cont_1_ce.append(cos_similarity(Y_temp,dirichRegressor.mu))\n",
    "    \n",
    "    dirichRegressor = dirichlet_regression.dirichletRegressor(spatial=True)\n",
    "    dirichRegressor.fit(X_temp, Y_temp, parametrization='alternative', gamma_0=gamma_0, Z=Z_temp, W=Wss_dist, loss='crossentropy')\n",
    "    list_r2_dist_1_ce.append(r2_score(Y_temp,dirichRegressor.mu))\n",
    "    list_rmse_dist_1_ce.append(mean_squared_error(Y_temp,dirichRegressor.mu,squared=False))\n",
    "    list_crossentropy_dist_1_ce.append(-1/n*np.sum(Y_temp*np.log(dirichRegressor.mu)))\n",
    "    list_similarity_dist_1_ce.append(cos_similarity(Y_temp,dirichRegressor.mu))\n"
   ]
  },
  {
   "cell_type": "code",
   "execution_count": 50,
   "metadata": {},
   "outputs": [
    {
     "name": "stdout",
     "output_type": "stream",
     "text": [
      "+-------------+----------------+---------------+---------------+---------------+\n",
      "| Model       | $R^2$          | RMSE          | Cross-entropy | Cos           |\n",
      "|             |                |               |               | similarity    |\n",
      "+-------------+----------------+---------------+---------------+---------------+\n",
      "| Not spatial | 0.6275         | 0.0961        | 0.9106        | 0.97 (0.001)  |\n",
      "|             | (0.0132)       | (0.0016)      | (0.0027)      |               |\n",
      "+-------------+----------------+---------------+---------------+---------------+\n",
      "| Contiguity  | 0.667 (0.0135) | 0.0899        | 0.9025        | 0.9735        |\n",
      "|             |                | (0.0018)      | (0.003)       | (0.0011)      |\n",
      "+-------------+----------------+---------------+---------------+---------------+\n",
      "| Distance    | 0.6325         | 0.0946        | 0.9087        | 0.971         |\n",
      "|             | (0.0132)       | (0.0018)      | (0.0026)      | (0.0012)      |\n",
      "+-------------+----------------+---------------+---------------+---------------+\n"
     ]
    }
   ],
   "source": [
    "table = Texttable()\n",
    "table.add_row([\"Model\", \"$R^2$\", \"RMSE\", \"Cross-entropy\", \"Cos similarity\"])\n",
    "text_r2 = str(np.round(np.mean(list_r2_ns_1_ce),4))+\" (\"+str(np.round(np.std(list_r2_ns_1_ce),4))+\")\"\n",
    "text_rmse = str(np.round(np.mean(list_rmse_ns_1_ce),4))+\" (\"+str(np.round(np.std(list_rmse_ns_1_ce),4))+\")\"\n",
    "text_crossentropy = str(np.round(np.mean(list_crossentropy_ns_1_ce),4))+\" (\"+str(np.round(np.std(list_crossentropy_ns_1_ce),4))+\")\"\n",
    "text_similarity = str(np.round(np.mean(list_similarity_ns_1_ce),4))+\" (\"+str(np.round(np.std(list_similarity_ns_1_ce),4))+\")\"\n",
    "table.add_row([\"Not spatial\", text_r2, text_rmse, text_crossentropy, text_similarity])\n",
    "\n",
    "text_r2 = str(np.round(np.mean(list_r2_cont_1_ce),4))+\" (\"+str(np.round(np.std(list_r2_cont_1_ce),4))+\")\"\n",
    "text_rmse = str(np.round(np.mean(list_rmse_cont_1_ce),4))+\" (\"+str(np.round(np.std(list_rmse_cont_1_ce),4))+\")\"\n",
    "text_crossentropy = str(np.round(np.mean(list_crossentropy_cont_1_ce),4))+\" (\"+str(np.round(np.std(list_crossentropy_cont_1_ce),4))+\")\"\n",
    "text_similarity = str(np.round(np.mean(list_similarity_cont_1_ce),4))+\" (\"+str(np.round(np.std(list_similarity_cont_1_ce),4))+\")\"\n",
    "table.add_row([\"Contiguity\", text_r2, text_rmse, text_crossentropy, text_similarity])\n",
    "\n",
    "text_r2 = str(np.round(np.mean(list_r2_dist_1_ce),4))+\" (\"+str(np.round(np.std(list_r2_dist_1_ce),4))+\")\"\n",
    "text_rmse = str(np.round(np.mean(list_rmse_dist_1_ce),4))+\" (\"+str(np.round(np.std(list_rmse_dist_1_ce),4))+\")\"\n",
    "text_crossentropy = str(np.round(np.mean(list_crossentropy_dist_1_ce),4))+\" (\"+str(np.round(np.std(list_crossentropy_dist_1_ce),4))+\")\"\n",
    "text_similarity = str(np.round(np.mean(list_similarity_dist_1_ce),4))+\" (\"+str(np.round(np.std(list_similarity_dist_1_ce),4))+\")\"\n",
    "table.add_row([\"Distance\", text_r2, text_rmse, text_crossentropy, text_similarity])\n",
    "\n",
    "print(table.draw())"
   ]
  },
  {
   "cell_type": "markdown",
   "metadata": {},
   "source": [
    "# Order 2"
   ]
  },
  {
   "cell_type": "code",
   "execution_count": 20,
   "metadata": {},
   "outputs": [],
   "source": [
    "X_2 = np.ones((39,3))\n",
    "X_2[:,1] = X[:,0]\n",
    "X_2[:,2] = X[:,0]**2"
   ]
  },
  {
   "cell_type": "markdown",
   "metadata": {},
   "source": [
    "## Dirichlet model"
   ]
  },
  {
   "cell_type": "code",
   "execution_count": 25,
   "metadata": {
    "scrolled": true
   },
   "outputs": [
    {
     "name": "stdout",
     "output_type": "stream",
     "text": [
      "Optimization terminated successfully.\n",
      "CONVERGENCE: NORM_OF_PROJECTED_GRADIENT_<=_PGTOL\n",
      "CONVERGENCE: NORM_OF_PROJECTED_GRADIENT_<=_PGTOL\n",
      "Optimization terminated successfully.\n",
      "CONVERGENCE: REL_REDUCTION_OF_F_<=_FACTR*EPSMCH\n",
      "CONVERGENCE: REL_REDUCTION_OF_F_<=_FACTR*EPSMCH\n",
      "Optimization terminated successfully.\n",
      "CONVERGENCE: NORM_OF_PROJECTED_GRADIENT_<=_PGTOL\n",
      "CONVERGENCE: REL_REDUCTION_OF_F_<=_FACTR*EPSMCH\n",
      "Optimization terminated successfully.\n",
      "CONVERGENCE: NORM_OF_PROJECTED_GRADIENT_<=_PGTOL\n",
      "CONVERGENCE: REL_REDUCTION_OF_F_<=_FACTR*EPSMCH\n",
      "Optimization terminated successfully.\n",
      "CONVERGENCE: NORM_OF_PROJECTED_GRADIENT_<=_PGTOL\n",
      "CONVERGENCE: REL_REDUCTION_OF_F_<=_FACTR*EPSMCH\n",
      "Optimization terminated successfully.\n",
      "CONVERGENCE: REL_REDUCTION_OF_F_<=_FACTR*EPSMCH\n",
      "CONVERGENCE: REL_REDUCTION_OF_F_<=_FACTR*EPSMCH\n",
      "Optimization terminated successfully.\n",
      "CONVERGENCE: NORM_OF_PROJECTED_GRADIENT_<=_PGTOL\n",
      "CONVERGENCE: REL_REDUCTION_OF_F_<=_FACTR*EPSMCH\n",
      "Optimization terminated successfully.\n",
      "CONVERGENCE: NORM_OF_PROJECTED_GRADIENT_<=_PGTOL\n",
      "CONVERGENCE: REL_REDUCTION_OF_F_<=_FACTR*EPSMCH\n",
      "Optimization terminated successfully.\n",
      "CONVERGENCE: REL_REDUCTION_OF_F_<=_FACTR*EPSMCH\n",
      "CONVERGENCE: REL_REDUCTION_OF_F_<=_FACTR*EPSMCH\n",
      "Optimization terminated successfully.\n",
      "CONVERGENCE: NORM_OF_PROJECTED_GRADIENT_<=_PGTOL\n",
      "CONVERGENCE: NORM_OF_PROJECTED_GRADIENT_<=_PGTOL\n",
      "Optimization terminated successfully.\n",
      "CONVERGENCE: REL_REDUCTION_OF_F_<=_FACTR*EPSMCH\n",
      "CONVERGENCE: REL_REDUCTION_OF_F_<=_FACTR*EPSMCH\n",
      "Optimization terminated successfully.\n",
      "CONVERGENCE: NORM_OF_PROJECTED_GRADIENT_<=_PGTOL\n",
      "CONVERGENCE: REL_REDUCTION_OF_F_<=_FACTR*EPSMCH\n",
      "Optimization terminated successfully.\n",
      "CONVERGENCE: REL_REDUCTION_OF_F_<=_FACTR*EPSMCH\n",
      "CONVERGENCE: REL_REDUCTION_OF_F_<=_FACTR*EPSMCH\n",
      "Optimization terminated successfully.\n",
      "CONVERGENCE: NORM_OF_PROJECTED_GRADIENT_<=_PGTOL\n",
      "CONVERGENCE: REL_REDUCTION_OF_F_<=_FACTR*EPSMCH\n",
      "Optimization terminated successfully.\n",
      "CONVERGENCE: REL_REDUCTION_OF_F_<=_FACTR*EPSMCH\n",
      "CONVERGENCE: REL_REDUCTION_OF_F_<=_FACTR*EPSMCH\n",
      "Optimization terminated successfully.\n",
      "CONVERGENCE: NORM_OF_PROJECTED_GRADIENT_<=_PGTOL\n",
      "CONVERGENCE: REL_REDUCTION_OF_F_<=_FACTR*EPSMCH\n",
      "Optimization terminated successfully.\n",
      "CONVERGENCE: NORM_OF_PROJECTED_GRADIENT_<=_PGTOL\n",
      "CONVERGENCE: NORM_OF_PROJECTED_GRADIENT_<=_PGTOL\n",
      "Optimization terminated successfully.\n",
      "CONVERGENCE: REL_REDUCTION_OF_F_<=_FACTR*EPSMCH\n",
      "CONVERGENCE: REL_REDUCTION_OF_F_<=_FACTR*EPSMCH\n",
      "Optimization terminated successfully.\n",
      "CONVERGENCE: REL_REDUCTION_OF_F_<=_FACTR*EPSMCH\n",
      "CONVERGENCE: NORM_OF_PROJECTED_GRADIENT_<=_PGTOL\n",
      "Optimization terminated successfully.\n",
      "CONVERGENCE: REL_REDUCTION_OF_F_<=_FACTR*EPSMCH\n",
      "CONVERGENCE: REL_REDUCTION_OF_F_<=_FACTR*EPSMCH\n",
      "Optimization terminated successfully.\n",
      "CONVERGENCE: NORM_OF_PROJECTED_GRADIENT_<=_PGTOL\n",
      "CONVERGENCE: REL_REDUCTION_OF_F_<=_FACTR*EPSMCH\n",
      "Optimization terminated successfully.\n",
      "CONVERGENCE: REL_REDUCTION_OF_F_<=_FACTR*EPSMCH\n",
      "CONVERGENCE: REL_REDUCTION_OF_F_<=_FACTR*EPSMCH\n",
      "Optimization terminated successfully.\n",
      "CONVERGENCE: REL_REDUCTION_OF_F_<=_FACTR*EPSMCH\n",
      "CONVERGENCE: REL_REDUCTION_OF_F_<=_FACTR*EPSMCH\n",
      "Optimization terminated successfully.\n",
      "CONVERGENCE: NORM_OF_PROJECTED_GRADIENT_<=_PGTOL\n",
      "CONVERGENCE: REL_REDUCTION_OF_F_<=_FACTR*EPSMCH\n",
      "Optimization terminated successfully.\n",
      "CONVERGENCE: NORM_OF_PROJECTED_GRADIENT_<=_PGTOL\n",
      "CONVERGENCE: REL_REDUCTION_OF_F_<=_FACTR*EPSMCH\n",
      "Optimization terminated successfully.\n",
      "CONVERGENCE: NORM_OF_PROJECTED_GRADIENT_<=_PGTOL\n",
      "CONVERGENCE: REL_REDUCTION_OF_F_<=_FACTR*EPSMCH\n",
      "Optimization terminated successfully.\n",
      "CONVERGENCE: REL_REDUCTION_OF_F_<=_FACTR*EPSMCH\n",
      "CONVERGENCE: REL_REDUCTION_OF_F_<=_FACTR*EPSMCH\n",
      "Optimization terminated successfully.\n",
      "CONVERGENCE: NORM_OF_PROJECTED_GRADIENT_<=_PGTOL\n",
      "CONVERGENCE: REL_REDUCTION_OF_F_<=_FACTR*EPSMCH\n",
      "Optimization terminated successfully.\n",
      "CONVERGENCE: NORM_OF_PROJECTED_GRADIENT_<=_PGTOL\n",
      "CONVERGENCE: REL_REDUCTION_OF_F_<=_FACTR*EPSMCH\n",
      "Optimization terminated successfully.\n",
      "CONVERGENCE: NORM_OF_PROJECTED_GRADIENT_<=_PGTOL\n",
      "CONVERGENCE: REL_REDUCTION_OF_F_<=_FACTR*EPSMCH\n",
      "Optimization terminated successfully.\n",
      "CONVERGENCE: NORM_OF_PROJECTED_GRADIENT_<=_PGTOL\n",
      "CONVERGENCE: REL_REDUCTION_OF_F_<=_FACTR*EPSMCH\n",
      "Optimization terminated successfully.\n",
      "CONVERGENCE: REL_REDUCTION_OF_F_<=_FACTR*EPSMCH\n",
      "CONVERGENCE: REL_REDUCTION_OF_F_<=_FACTR*EPSMCH\n",
      "Optimization terminated successfully.\n",
      "CONVERGENCE: NORM_OF_PROJECTED_GRADIENT_<=_PGTOL\n",
      "CONVERGENCE: REL_REDUCTION_OF_F_<=_FACTR*EPSMCH\n",
      "Optimization terminated successfully.\n",
      "CONVERGENCE: NORM_OF_PROJECTED_GRADIENT_<=_PGTOL\n",
      "CONVERGENCE: REL_REDUCTION_OF_F_<=_FACTR*EPSMCH\n",
      "Optimization terminated successfully.\n",
      "CONVERGENCE: REL_REDUCTION_OF_F_<=_FACTR*EPSMCH\n",
      "CONVERGENCE: REL_REDUCTION_OF_F_<=_FACTR*EPSMCH\n",
      "Optimization terminated successfully.\n",
      "CONVERGENCE: REL_REDUCTION_OF_F_<=_FACTR*EPSMCH\n",
      "CONVERGENCE: REL_REDUCTION_OF_F_<=_FACTR*EPSMCH\n",
      "Optimization terminated successfully.\n",
      "CONVERGENCE: REL_REDUCTION_OF_F_<=_FACTR*EPSMCH\n",
      "CONVERGENCE: REL_REDUCTION_OF_F_<=_FACTR*EPSMCH\n",
      "Optimization terminated successfully.\n",
      "CONVERGENCE: REL_REDUCTION_OF_F_<=_FACTR*EPSMCH\n",
      "CONVERGENCE: REL_REDUCTION_OF_F_<=_FACTR*EPSMCH\n",
      "Optimization terminated successfully.\n",
      "CONVERGENCE: NORM_OF_PROJECTED_GRADIENT_<=_PGTOL\n",
      "CONVERGENCE: NORM_OF_PROJECTED_GRADIENT_<=_PGTOL\n",
      "Wall time: 9.63 s\n"
     ]
    }
   ],
   "source": [
    "%%time\n",
    "list_r2_ns_2, list_rmse_ns_2, list_aic_ns_2, list_crossentropy_ns_2, list_similarity_ns_2 = [], [], [], [], []\n",
    "list_r2_cont_2, list_rmse_cont_2, list_aic_cont_2, list_crossentropy_cont_2, list_similarity_cont_2 = [], [], [], [], []\n",
    "list_r2_dist_2, list_rmse_dist_2, list_aic_dist_2, list_crossentropy_dist_2, list_similarity_dist_2 = [], [], [], [], []\n",
    "\n",
    "for i in range(39):  \n",
    "    X_temp = np.delete(X_2,i,axis=0)\n",
    "    Y_temp = np.delete(Y_arctic,i,axis=0)\n",
    "    Z_temp = np.delete(Z_arctic,i,axis=0)\n",
    "    \n",
    "    Wss_cont = np.delete(W_arctic_cont,i,axis=0)\n",
    "    Wss_cont = np.delete(Wss_cont,i,axis=1)\n",
    "    Wss_cont = Wss_cont/Wss_cont.sum(axis=1)[:,None]\n",
    "    \n",
    "    Wss_dist = np.delete(W_arctic_dist,i,axis=0)\n",
    "    Wss_dist = np.delete(Wss_dist,i,axis=1)\n",
    "    Wss_dist = Wss_dist/Wss_dist.sum(axis=1)[:,None]\n",
    "    \n",
    "    dirichRegressor = dirichlet_regression.dirichletRegressor(spatial=False)\n",
    "    dirichRegressor.fit(X_temp, Y_temp, parametrization='alternative', gamma_0=gamma_0, Z=Z_temp)\n",
    "    list_r2_ns_2.append(r2_score(Y_temp,dirichRegressor.mu))\n",
    "    list_rmse_ns_2.append(mean_squared_error(Y_temp,dirichRegressor.mu,squared=False))\n",
    "    list_crossentropy_ns_2.append(-1/n*np.sum(Y_temp*np.log(dirichRegressor.mu)))\n",
    "    list_aic_ns_2.append(-2*dirichlet_regression.dirichlet_loglikelihood(dirichRegressor.mu,dirichRegressor.phi,Y_temp)+2*5)\n",
    "    list_similarity_ns_2.append(cos_similarity(Y_temp,dirichRegressor.mu))\n",
    "\n",
    "    dirichRegressor = dirichlet_regression.dirichletRegressor(spatial=True)\n",
    "    dirichRegressor.fit(X_temp, Y_temp, parametrization='alternative', gamma_0=gamma_0, Z=Z_temp, W=Wss_cont)\n",
    "    list_r2_cont_2.append(r2_score(Y_temp,dirichRegressor.mu))\n",
    "    list_rmse_cont_2.append(mean_squared_error(Y_temp,dirichRegressor.mu,squared=False))\n",
    "    list_crossentropy_cont_2.append(-1/n*np.sum(Y_temp*np.log(dirichRegressor.mu)))\n",
    "    list_aic_cont_2.append(-2*dirichlet_regression.dirichlet_loglikelihood(dirichRegressor.mu,dirichRegressor.phi,Y_temp)+2*6)\n",
    "    list_similarity_cont_2.append(cos_similarity(Y_temp,dirichRegressor.mu))\n",
    "    \n",
    "    dirichRegressor = dirichlet_regression.dirichletRegressor(spatial=True)\n",
    "    dirichRegressor.fit(X_temp, Y_temp, parametrization='alternative', gamma_0=gamma_0, Z=Z_temp, W=Wss_dist)\n",
    "    list_r2_dist_2.append(r2_score(Y_temp,dirichRegressor.mu))\n",
    "    list_rmse_dist_2.append(mean_squared_error(Y_temp,dirichRegressor.mu,squared=False))\n",
    "    list_crossentropy_dist_2.append(-1/n*np.sum(Y_temp*np.log(dirichRegressor.mu)))\n",
    "    list_aic_dist_2.append(-2*dirichlet_regression.dirichlet_loglikelihood(dirichRegressor.mu,dirichRegressor.phi,Y_temp)+2*6)\n",
    "    list_similarity_dist_2.append(cos_similarity(Y_temp,dirichRegressor.mu))"
   ]
  },
  {
   "cell_type": "code",
   "execution_count": 26,
   "metadata": {},
   "outputs": [
    {
     "name": "stdout",
     "output_type": "stream",
     "text": [
      "+-------------+------------+------------+------------+------------+------------+\n",
      "| Model       | $R^2$      | RMSE       | Cross-     | Cos        | AIC        |\n",
      "|             |            |            | entropy    | similarity |            |\n",
      "+-------------+------------+------------+------------+------------+------------+\n",
      "| Not spatial | 0.6784     | 0.0881     | 0.8993     | 0.9743     | -168.1221  |\n",
      "|             | (0.0144)   | (0.0019)   | (0.0032)   | (0.0011)   | (3.3212)   |\n",
      "+-------------+------------+------------+------------+------------+------------+\n",
      "| Contiguity  | 0.6943     | 0.0858     | 0.8974     | 0.9755     | -170.6099  |\n",
      "|             | (0.0144)   | (0.0019)   | (0.0033)   | (0.0011)   | (3.6367)   |\n",
      "+-------------+------------+------------+------------+------------+------------+\n",
      "| Distance    | 0.6861     | 0.0871     | 0.8982     | 0.9747     | -167.138   |\n",
      "|             | (0.0148)   | (0.002)    | (0.0032)   | (0.0012)   | (3.491)    |\n",
      "+-------------+------------+------------+------------+------------+------------+\n"
     ]
    }
   ],
   "source": [
    "table = Texttable()\n",
    "table.add_row([\"Model\", \"$R^2$\", \"RMSE\", \"Cross-entropy\", \"Cos similarity\", \"AIC\"])\n",
    "text_r2 = str(np.round(np.mean(list_r2_ns_2),4))+\" (\"+str(np.round(np.std(list_r2_ns_2),4))+\")\"\n",
    "text_rmse = str(np.round(np.mean(list_rmse_ns_2),4))+\" (\"+str(np.round(np.std(list_rmse_ns_2),4))+\")\"\n",
    "text_crossentropy = str(np.round(np.mean(list_crossentropy_ns_2),4))+\" (\"+str(np.round(np.std(list_crossentropy_ns_2),4))+\")\"\n",
    "text_similarity = str(np.round(np.mean(list_similarity_ns_2),4))+\" (\"+str(np.round(np.std(list_similarity_ns_2),4))+\")\"\n",
    "text_aic = str(np.round(np.mean(list_aic_ns_2),4))+\" (\"+str(np.round(np.std(list_aic_ns_2),4))+\")\"\n",
    "table.add_row([\"Not spatial\", text_r2, text_rmse, text_crossentropy, text_similarity, text_aic])\n",
    "\n",
    "text_r2 = str(np.round(np.mean(list_r2_cont_2),4))+\" (\"+str(np.round(np.std(list_r2_cont_2),4))+\")\"\n",
    "text_rmse = str(np.round(np.mean(list_rmse_cont_2),4))+\" (\"+str(np.round(np.std(list_rmse_cont_2),4))+\")\"\n",
    "text_crossentropy = str(np.round(np.mean(list_crossentropy_cont_2),4))+\" (\"+str(np.round(np.std(list_crossentropy_cont_2),4))+\")\"\n",
    "text_similarity = str(np.round(np.mean(list_similarity_cont_2),4))+\" (\"+str(np.round(np.std(list_similarity_cont_2),4))+\")\"\n",
    "text_aic = str(np.round(np.mean(list_aic_cont_2),4))+\" (\"+str(np.round(np.std(list_aic_cont_2),4))+\")\"\n",
    "table.add_row([\"Contiguity\", text_r2, text_rmse, text_crossentropy, text_similarity, text_aic])\n",
    "\n",
    "text_r2 = str(np.round(np.mean(list_r2_dist_2),4))+\" (\"+str(np.round(np.std(list_r2_dist_2),4))+\")\"\n",
    "text_rmse = str(np.round(np.mean(list_rmse_dist_2),4))+\" (\"+str(np.round(np.std(list_rmse_dist_2),4))+\")\"\n",
    "text_crossentropy = str(np.round(np.mean(list_crossentropy_dist_2),4))+\" (\"+str(np.round(np.std(list_crossentropy_dist_2),4))+\")\"\n",
    "text_similarity = str(np.round(np.mean(list_similarity_dist_2),4))+\" (\"+str(np.round(np.std(list_similarity_dist_2),4))+\")\"\n",
    "text_aic = str(np.round(np.mean(list_aic_dist_2),4))+\" (\"+str(np.round(np.std(list_aic_dist_2),4))+\")\"\n",
    "table.add_row([\"Distance\", text_r2, text_rmse, text_crossentropy, text_similarity, text_aic])\n",
    "\n",
    "print(table.draw())"
   ]
  },
  {
   "cell_type": "markdown",
   "metadata": {},
   "source": [
    "## Cross-entropy"
   ]
  },
  {
   "cell_type": "code",
   "execution_count": 21,
   "metadata": {
    "scrolled": true
   },
   "outputs": [
    {
     "name": "stdout",
     "output_type": "stream",
     "text": [
      "Optimization terminated successfully.\n",
      "Optimization terminated successfully.\n",
      "Optimization terminated successfully.\n",
      "Optimization terminated successfully.\n",
      "Optimization terminated successfully.\n",
      "Optimization terminated successfully.\n",
      "Optimization terminated successfully.\n",
      "Optimization terminated successfully.\n",
      "Optimization terminated successfully.\n",
      "Optimization terminated successfully.\n",
      "Optimization terminated successfully.\n",
      "Optimization terminated successfully.\n",
      "Optimization terminated successfully.\n",
      "Optimization terminated successfully.\n",
      "Optimization terminated successfully.\n",
      "Optimization terminated successfully.\n",
      "Optimization terminated successfully.\n",
      "Optimization terminated successfully.\n",
      "Optimization terminated successfully.\n",
      "Optimization terminated successfully.\n",
      "Optimization terminated successfully.\n",
      "Optimization terminated successfully.\n",
      "Optimization terminated successfully.\n",
      "Optimization terminated successfully.\n",
      "Optimization terminated successfully.\n",
      "Optimization terminated successfully.\n",
      "Optimization terminated successfully.\n",
      "Optimization terminated successfully.\n",
      "Optimization terminated successfully.\n",
      "Optimization terminated successfully.\n",
      "Optimization terminated successfully.\n",
      "Optimization terminated successfully.\n",
      "Optimization terminated successfully.\n",
      "Optimization terminated successfully.\n",
      "Optimization terminated successfully.\n",
      "Optimization terminated successfully.\n",
      "Optimization terminated successfully.\n",
      "Optimization terminated successfully.\n",
      "Optimization terminated successfully.\n",
      "Optimization terminated successfully.\n",
      "Optimization terminated successfully.\n",
      "Optimization terminated successfully.\n",
      "Optimization terminated successfully.\n",
      "Optimization terminated successfully.\n",
      "Optimization terminated successfully.\n",
      "Optimization terminated successfully.\n",
      "Optimization terminated successfully.\n",
      "Optimization terminated successfully.\n",
      "Optimization terminated successfully.\n",
      "Optimization terminated successfully.\n",
      "Optimization terminated successfully.\n",
      "Optimization terminated successfully.\n",
      "Optimization terminated successfully.\n",
      "Optimization terminated successfully.\n",
      "Optimization terminated successfully.\n",
      "Optimization terminated successfully.\n",
      "Optimization terminated successfully.\n",
      "Optimization terminated successfully.\n",
      "Optimization terminated successfully.\n",
      "Optimization terminated successfully.\n",
      "Optimization terminated successfully.\n",
      "Optimization terminated successfully.\n",
      "Optimization terminated successfully.\n",
      "Optimization terminated successfully.\n",
      "Optimization terminated successfully.\n",
      "Optimization terminated successfully.\n",
      "Optimization terminated successfully.\n",
      "Optimization terminated successfully.\n",
      "Optimization terminated successfully.\n",
      "Optimization terminated successfully.\n",
      "Optimization terminated successfully.\n",
      "Optimization terminated successfully.\n",
      "Optimization terminated successfully.\n",
      "Optimization terminated successfully.\n",
      "Optimization terminated successfully.\n",
      "Optimization terminated successfully.\n",
      "Optimization terminated successfully.\n",
      "Optimization terminated successfully.\n",
      "Optimization terminated successfully.\n",
      "Optimization terminated successfully.\n",
      "Optimization terminated successfully.\n",
      "Optimization terminated successfully.\n",
      "Optimization terminated successfully.\n",
      "Optimization terminated successfully.\n",
      "Optimization terminated successfully.\n",
      "Optimization terminated successfully.\n",
      "Optimization terminated successfully.\n",
      "Optimization terminated successfully.\n",
      "Optimization terminated successfully.\n",
      "Optimization terminated successfully.\n",
      "Optimization terminated successfully.\n",
      "Optimization terminated successfully.\n",
      "Optimization terminated successfully.\n",
      "Optimization terminated successfully.\n",
      "Optimization terminated successfully.\n",
      "Optimization terminated successfully.\n",
      "Optimization terminated successfully.\n",
      "Optimization terminated successfully.\n",
      "Optimization terminated successfully.\n",
      "Optimization terminated successfully.\n",
      "Optimization terminated successfully.\n",
      "Optimization terminated successfully.\n",
      "Optimization terminated successfully.\n",
      "Optimization terminated successfully.\n",
      "Optimization terminated successfully.\n",
      "Optimization terminated successfully.\n",
      "Optimization terminated successfully.\n",
      "Optimization terminated successfully.\n",
      "Optimization terminated successfully.\n",
      "Optimization terminated successfully.\n",
      "Optimization terminated successfully.\n",
      "Optimization terminated successfully.\n",
      "Optimization terminated successfully.\n",
      "Optimization terminated successfully.\n",
      "Optimization terminated successfully.\n",
      "Optimization terminated successfully.\n",
      "Optimization terminated successfully.\n",
      "Wall time: 6.01 s\n"
     ]
    }
   ],
   "source": [
    "%%time\n",
    "list_r2_ns_2_ce, list_rmse_ns_2_ce, list_crossentropy_ns_2_ce, list_similarity_ns_2_ce = [], [], [], []\n",
    "list_r2_cont_2_ce, list_rmse_cont_2_ce, list_crossentropy_cont_2_ce, list_similarity_cont_2_ce = [], [], [], []\n",
    "list_r2_dist_2_ce, list_rmse_dist_2_ce, list_crossentropy_dist_2_ce, list_similarity_dist_2_ce = [], [], [], []\n",
    "\n",
    "for i in range(39):  \n",
    "    X_temp = np.delete(X_2,i,axis=0)\n",
    "    Y_temp = np.delete(Y_arctic,i,axis=0)\n",
    "    Z_temp = np.delete(Z_arctic,i,axis=0)\n",
    "    \n",
    "    Wss_cont = np.delete(W_arctic_cont,i,axis=0)\n",
    "    Wss_cont = np.delete(Wss_cont,i,axis=1)\n",
    "    Wss_cont = Wss_cont/Wss_cont.sum(axis=1)[:,None]\n",
    "    \n",
    "    Wss_dist = np.delete(W_arctic_dist,i,axis=0)\n",
    "    Wss_dist = np.delete(Wss_dist,i,axis=1)\n",
    "    Wss_dist = Wss_dist/Wss_dist.sum(axis=1)[:,None]\n",
    "    \n",
    "    dirichRegressor = dirichlet_regression.dirichletRegressor(spatial=False)\n",
    "    dirichRegressor.fit(X_temp, Y_temp, parametrization='alternative', gamma_0=gamma_0, Z=Z_temp, loss='crossentropy')\n",
    "    list_r2_ns_2_ce.append(r2_score(Y_temp,dirichRegressor.mu))\n",
    "    list_rmse_ns_2_ce.append(mean_squared_error(Y_temp,dirichRegressor.mu,squared=False))\n",
    "    list_crossentropy_ns_2_ce.append(-1/n*np.sum(Y_temp*np.log(dirichRegressor.mu)))\n",
    "    list_similarity_ns_2_ce.append(cos_similarity(Y_temp,dirichRegressor.mu))\n",
    "\n",
    "    dirichRegressor = dirichlet_regression.dirichletRegressor(spatial=True)\n",
    "    dirichRegressor.fit(X_temp, Y_temp, parametrization='alternative', gamma_0=gamma_0, Z=Z_temp, W=Wss_cont, loss='crossentropy')\n",
    "    list_r2_cont_2_ce.append(r2_score(Y_temp,dirichRegressor.mu))\n",
    "    list_rmse_cont_2_ce.append(mean_squared_error(Y_temp,dirichRegressor.mu,squared=False))\n",
    "    list_crossentropy_cont_2_ce.append(-1/n*np.sum(Y_temp*np.log(dirichRegressor.mu)))\n",
    "    list_similarity_cont_2_ce.append(cos_similarity(Y_temp,dirichRegressor.mu))\n",
    "    \n",
    "    dirichRegressor = dirichlet_regression.dirichletRegressor(spatial=True)\n",
    "    dirichRegressor.fit(X_temp, Y_temp, parametrization='alternative', gamma_0=gamma_0, Z=Z_temp, W=Wss_dist, loss='crossentropy')\n",
    "    list_r2_dist_2_ce.append(r2_score(Y_temp,dirichRegressor.mu))\n",
    "    list_rmse_dist_2_ce.append(mean_squared_error(Y_temp,dirichRegressor.mu,squared=False))\n",
    "    list_crossentropy_dist_2_ce.append(-1/n*np.sum(Y_temp*np.log(dirichRegressor.mu)))\n",
    "    list_similarity_dist_2_ce.append(cos_similarity(Y_temp,dirichRegressor.mu))"
   ]
  },
  {
   "cell_type": "code",
   "execution_count": 22,
   "metadata": {},
   "outputs": [
    {
     "name": "stdout",
     "output_type": "stream",
     "text": [
      "+-------------+----------------+---------------+---------------+---------------+\n",
      "| Model       | $R^2$          | RMSE          | Cross-entropy | Cos           |\n",
      "|             |                |               |               | similarity    |\n",
      "+-------------+----------------+---------------+---------------+---------------+\n",
      "| Not spatial | 0.689 (0.0134) | 0.0869        | 0.8983        | 0.9748        |\n",
      "|             |                | (0.0018)      | (0.0031)      | (0.0011)      |\n",
      "+-------------+----------------+---------------+---------------+---------------+\n",
      "| Contiguity  | 0.7047         | 0.0848        | 0.8963        | 0.9759        |\n",
      "|             | (0.0136)       | (0.0019)      | (0.0033)      | (0.0011)      |\n",
      "+-------------+----------------+---------------+---------------+---------------+\n",
      "| Distance    | 0.7051         | 0.0842        | 0.8948        | 0.9763        |\n",
      "|             | (0.0159)       | (0.0026)      | (0.0031)      | (0.0014)      |\n",
      "+-------------+----------------+---------------+---------------+---------------+\n"
     ]
    }
   ],
   "source": [
    "table = Texttable()\n",
    "table.add_row([\"Model\", \"$R^2$\", \"RMSE\", \"Cross-entropy\", \"Cos similarity\"])\n",
    "text_r2 = str(np.round(np.mean(list_r2_ns_2_ce),4))+\" (\"+str(np.round(np.std(list_r2_ns_2_ce),4))+\")\"\n",
    "text_rmse = str(np.round(np.mean(list_rmse_ns_2_ce),4))+\" (\"+str(np.round(np.std(list_rmse_ns_2_ce),4))+\")\"\n",
    "text_crossentropy = str(np.round(np.mean(list_crossentropy_ns_2_ce),4))+\" (\"+str(np.round(np.std(list_crossentropy_ns_2_ce),4))+\")\"\n",
    "text_similarity = str(np.round(np.mean(list_similarity_ns_2_ce),4))+\" (\"+str(np.round(np.std(list_similarity_ns_2_ce),4))+\")\"\n",
    "table.add_row([\"Not spatial\", text_r2, text_rmse, text_crossentropy, text_similarity])\n",
    "\n",
    "text_r2 = str(np.round(np.mean(list_r2_cont_2_ce),4))+\" (\"+str(np.round(np.std(list_r2_cont_2_ce),4))+\")\"\n",
    "text_rmse = str(np.round(np.mean(list_rmse_cont_2_ce),4))+\" (\"+str(np.round(np.std(list_rmse_cont_2_ce),4))+\")\"\n",
    "text_crossentropy = str(np.round(np.mean(list_crossentropy_cont_2_ce),4))+\" (\"+str(np.round(np.std(list_crossentropy_cont_2_ce),4))+\")\"\n",
    "text_similarity = str(np.round(np.mean(list_similarity_cont_2_ce),4))+\" (\"+str(np.round(np.std(list_similarity_cont_2_ce),4))+\")\"\n",
    "table.add_row([\"Contiguity\", text_r2, text_rmse, text_crossentropy, text_similarity])\n",
    "\n",
    "text_r2 = str(np.round(np.mean(list_r2_dist_2_ce),4))+\" (\"+str(np.round(np.std(list_r2_dist_2_ce),4))+\")\"\n",
    "text_rmse = str(np.round(np.mean(list_rmse_dist_2_ce),4))+\" (\"+str(np.round(np.std(list_rmse_dist_2_ce),4))+\")\"\n",
    "text_crossentropy = str(np.round(np.mean(list_crossentropy_dist_2_ce),4))+\" (\"+str(np.round(np.std(list_crossentropy_dist_2_ce),4))+\")\"\n",
    "text_similarity = str(np.round(np.mean(list_similarity_dist_2_ce),4))+\" (\"+str(np.round(np.std(list_similarity_dist_2_ce),4))+\")\"\n",
    "table.add_row([\"Distance\", text_r2, text_rmse, text_crossentropy, text_similarity])\n",
    "\n",
    "print(table.draw())"
   ]
  },
  {
   "cell_type": "code",
   "execution_count": null,
   "metadata": {},
   "outputs": [],
   "source": []
  }
 ],
 "metadata": {
  "kernelspec": {
   "display_name": "Python 3",
   "language": "python",
   "name": "python3"
  },
  "language_info": {
   "codemirror_mode": {
    "name": "ipython",
    "version": 3
   },
   "file_extension": ".py",
   "mimetype": "text/x-python",
   "name": "python",
   "nbconvert_exporter": "python",
   "pygments_lexer": "ipython3",
   "version": "3.8.5"
  }
 },
 "nbformat": 4,
 "nbformat_minor": 4
}
