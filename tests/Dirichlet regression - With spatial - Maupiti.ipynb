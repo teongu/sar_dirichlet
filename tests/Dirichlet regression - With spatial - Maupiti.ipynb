{
 "cells": [
  {
   "cell_type": "code",
   "execution_count": 1,
   "metadata": {},
   "outputs": [],
   "source": [
    "#TODO : REFAIRE FONCTION COMPUTE_MU_SPATIAL POUR ACCELERER"
   ]
  },
  {
   "cell_type": "markdown",
   "metadata": {},
   "source": [
    "# Importing the packages and data"
   ]
  },
  {
   "cell_type": "code",
   "execution_count": 2,
   "metadata": {},
   "outputs": [],
   "source": [
    "%load_ext autoreload\n",
    "%autoreload 2"
   ]
  },
  {
   "cell_type": "code",
   "execution_count": 49,
   "metadata": {},
   "outputs": [],
   "source": [
    "import numpy as np\n",
    "import pandas as pd\n",
    "import matplotlib.pyplot as plt\n",
    "from mpl_toolkits import mplot3d\n",
    "import scipy\n",
    "from sklearn.metrics import r2_score\n",
    "from sklearn.metrics import mean_squared_error\n",
    "from scipy.special import gamma, digamma, polygamma\n",
    "import math\n",
    "\n",
    "from sklearn.neighbors import NearestNeighbors\n",
    "from sklearn.model_selection import train_test_split\n",
    "from sklearn.model_selection import KFold\n",
    "import random\n",
    "\n",
    "import scipy.optimize\n",
    "from scipy.optimize import Bounds"
   ]
  },
  {
   "cell_type": "code",
   "execution_count": 4,
   "metadata": {},
   "outputs": [],
   "source": [
    "import sys\n",
    "sys.path.append(\"../coral_mapping/\")\n",
    "import segments_regressor\n",
    "import coral_map_tests\n",
    "import maupiti_func"
   ]
  },
  {
   "cell_type": "code",
   "execution_count": 5,
   "metadata": {},
   "outputs": [],
   "source": [
    "import dirichlet_regression"
   ]
  },
  {
   "cell_type": "code",
   "execution_count": 6,
   "metadata": {},
   "outputs": [],
   "source": [
    "from scipy.optimize import fmin, newton, minimize"
   ]
  },
  {
   "cell_type": "code",
   "execution_count": 7,
   "metadata": {},
   "outputs": [],
   "source": [
    "img_B02_raw = np.load('../maupiti/Satellite Images/20200922_img_B02.npy')\n",
    "img_B03_raw = np.load('../maupiti/Satellite Images/20200922_img_B03.npy')\n",
    "img_B04_raw = np.load('../maupiti/Satellite Images/20200922_img_B04.npy')\n",
    "img_B08_raw = np.load('../maupiti/Satellite Images/20200922_img_B08.npy')"
   ]
  },
  {
   "cell_type": "code",
   "execution_count": 8,
   "metadata": {},
   "outputs": [],
   "source": [
    "path_maupiti_zones=\"../../Maupiti/img_maupiti_zones\"\n",
    "file = open(path_maupiti_zones, \"rb\")\n",
    "maupiti_zones = np.load(file)\n",
    "file.close\n",
    "maupiti_zones_normalized=maupiti_func.create_zones_normalized(np.array(maupiti_zones, dtype='int'))"
   ]
  },
  {
   "cell_type": "code",
   "execution_count": 9,
   "metadata": {},
   "outputs": [],
   "source": [
    "map_test=coral_map_tests.coral_map([img_B02_raw,img_B03_raw,img_B04_raw,img_B08_raw], map_img=maupiti_zones_normalized)"
   ]
  },
  {
   "cell_type": "code",
   "execution_count": 10,
   "metadata": {},
   "outputs": [
    {
     "data": {
      "text/plain": [
       "4425"
      ]
     },
     "execution_count": 10,
     "metadata": {},
     "output_type": "execute_result"
    }
   ],
   "source": [
    "map_test.segmentation(method='fz',scale=0.5, min_size=40)\n",
    "np.max(map_test.segments)"
   ]
  },
  {
   "cell_type": "code",
   "execution_count": 11,
   "metadata": {},
   "outputs": [],
   "source": [
    "boundaries = coral_map_tests.find_boundaries(map_test.segments)\n",
    "adjacent_segments,_ = segments_regressor.find_adjacent_segments(map_test.segments, boundaries)"
   ]
  },
  {
   "cell_type": "code",
   "execution_count": 12,
   "metadata": {},
   "outputs": [],
   "source": [
    "X_maupiti = segments_regressor.create_features(map_test.segments, map_test.blue_band, map_test.green_band, map_test.red_band, map_test.nir_band)"
   ]
  },
  {
   "cell_type": "code",
   "execution_count": 13,
   "metadata": {},
   "outputs": [],
   "source": [
    "Y_maupiti = coral_map_tests.create_labels_dataset(map_test.segments,map_test.map_img)"
   ]
  },
  {
   "cell_type": "markdown",
   "metadata": {},
   "source": [
    "# With Maupiti"
   ]
  },
  {
   "cell_type": "code",
   "execution_count": 91,
   "metadata": {
    "scrolled": true
   },
   "outputs": [
    {
     "name": "stdout",
     "output_type": "stream",
     "text": [
      "Wall time: 2.15 s\n"
     ]
    }
   ],
   "source": [
    "%%time\n",
    "test_1 = np.linalg.inv(np.identity(n_samples) - rho_maupiti*W_maupiti)"
   ]
  },
  {
   "cell_type": "code",
   "execution_count": 101,
   "metadata": {},
   "outputs": [
    {
     "name": "stdout",
     "output_type": "stream",
     "text": [
      "Wall time: 1.26 s\n"
     ]
    }
   ],
   "source": [
    "%%time\n",
    "test_2 = scipy.sparse.linalg.inv(scipy.sparse.csc_matrix(np.identity(n_samples) - rho_maupiti*W_maupiti))\n",
    "test_2 = test_2.toarray()"
   ]
  },
  {
   "cell_type": "code",
   "execution_count": 102,
   "metadata": {},
   "outputs": [
    {
     "name": "stdout",
     "output_type": "stream",
     "text": [
      "Wall time: 672 ms\n"
     ]
    }
   ],
   "source": [
    "%%time\n",
    "test_3 = scipy.sparse.linalg.splu(scipy.sparse.csc_matrix(np.identity(n_samples) - rho_maupiti*W_maupiti)).solve(np.eye(n_samples))\n",
    "test_3 = np.transpose(test_3)"
   ]
  },
  {
   "cell_type": "code",
   "execution_count": 107,
   "metadata": {},
   "outputs": [],
   "source": [
    "def f_spatial(x, X, Y, Z, W, epsilon=0):\n",
    "    K = X.shape[-1]\n",
    "    J = Y.shape[-1]\n",
    "    n = X.shape[0]\n",
    "    beta = x[:K*J].reshape((K,J))\n",
    "    beta[:,0] = 0\n",
    "    gamma_var = x[K*J:-1]\n",
    "    rho = x[-1]\n",
    "    #Minv = np.linalg.inv(np.identity(n) - rho*W)\n",
    "    Minv = scipy.sparse.linalg.splu(scipy.sparse.csc_matrix(np.identity(n) - rho*W)).solve(np.eye(n))\n",
    "    Minv = np.transpose(Minv)\n",
    "    mu = dirichlet_regression.compute_mu_spatial(X, beta, rho=rho, W=W, Minv=Minv)\n",
    "    phi = np.exp(np.matmul(Z,gamma_var))\n",
    "    return -dirichlet_regression.dirichlet_loglikelihood(mu,phi,Y,epsilon=epsilon)"
   ]
  },
  {
   "cell_type": "code",
   "execution_count": 108,
   "metadata": {},
   "outputs": [],
   "source": [
    "def fprime_spatial(x, X, Y, Z, W, epsilon=0):\n",
    "    K = X.shape[-1]\n",
    "    J = Y.shape[-1]\n",
    "    n = X.shape[0]\n",
    "    beta = x[:K*J].reshape((K,J))\n",
    "    beta[:,0] = 0\n",
    "    gamma_var = x[K*J:-1]\n",
    "    rho = x[-1]\n",
    "    #Minv = np.linalg.inv(np.identity(n) - rho*W)\n",
    "    Minv = scipy.sparse.linalg.splu(scipy.sparse.csc_matrix(np.identity(n) - rho*W)).solve(np.eye(n))\n",
    "    Minv = np.transpose(Minv)\n",
    "    MinvX = np.matmul(Minv,X)\n",
    "    mu = dirichlet_regression.compute_mu_spatial(X, beta, rho=rho, W=W, MinvX=MinvX)\n",
    "    phi = np.exp(np.matmul(Z,gamma_var))\n",
    "\n",
    "    beta_grad = dirichlet_regression.dirichlet_gradient_wrt_beta(mu, phi, MinvX, Y, epsilon=epsilon)\n",
    "    beta_grad[:,0] = 0\n",
    "    gamma_grad = dirichlet_regression.dirichlet_derivative_wrt_gamma(mu, phi, beta, MinvX, Y, Z, epsilon=epsilon)\n",
    "    rho_derivative = dirichlet_regression.dirichlet_derivative_wrt_rho(mu, phi, Minv, beta, W, X, Y, Z, MinvX, epsilon=epsilon)\n",
    "    return(-np.concatenate([beta_grad.flatten(),gamma_grad,[rho_derivative]]))"
   ]
  },
  {
   "cell_type": "code",
   "execution_count": 8,
   "metadata": {},
   "outputs": [],
   "source": [
    "#X_maupiti = pd.read_csv('../../Maupiti/maupiti_X_13244.csv', index_col=0)\n",
    "#Y_maupiti = pd.read_csv('../../Maupiti/maupiti_Y_13244.csv',index_col=0)"
   ]
  },
  {
   "cell_type": "code",
   "execution_count": 16,
   "metadata": {},
   "outputs": [],
   "source": [
    "n_features = X_maupiti.shape[1]\n",
    "n_classes = Y_maupiti.shape[1]\n",
    "n_samples = X_maupiti.shape[0]"
   ]
  },
  {
   "cell_type": "code",
   "execution_count": 17,
   "metadata": {},
   "outputs": [],
   "source": [
    "X_maupiti = np.array(X_maupiti)\n",
    "Y_maupiti = np.array(Y_maupiti)"
   ]
  },
  {
   "cell_type": "code",
   "execution_count": 18,
   "metadata": {},
   "outputs": [],
   "source": [
    "X_maupiti = (X_maupiti-np.min(X_maupiti))/(np.max(X_maupiti)-np.min(X_maupiti))"
   ]
  },
  {
   "cell_type": "code",
   "execution_count": 19,
   "metadata": {},
   "outputs": [],
   "source": [
    "Z_maupiti = np.ones((n_samples,n_features))"
   ]
  },
  {
   "cell_type": "code",
   "execution_count": 20,
   "metadata": {},
   "outputs": [],
   "source": [
    "W_maupiti = np.zeros((n_samples,n_samples))\n"
   ]
  },
  {
   "cell_type": "code",
   "execution_count": 21,
   "metadata": {},
   "outputs": [],
   "source": [
    "W_maupiti = np.zeros((n_samples,n_samples))\n",
    "for i in range(n_samples):\n",
    "    W_maupiti[i,adjacent_segments[i]]=1"
   ]
  },
  {
   "cell_type": "code",
   "execution_count": 22,
   "metadata": {},
   "outputs": [],
   "source": [
    "W_maupiti = W_maupiti/W_maupiti.sum(axis=1)[:,None]"
   ]
  },
  {
   "cell_type": "code",
   "execution_count": 23,
   "metadata": {},
   "outputs": [],
   "source": [
    "#X_maupiti_2 = np.ones((n_samples,1+n_features*2))\n",
    "#X_maupiti_2[:,1:1+n_features] = X_maupiti\n",
    "#X_maupiti_2[:,1+n_features:] = X_maupiti**2\n",
    "\n",
    "X_maupiti_1 = np.ones((n_samples,1+n_features))\n",
    "X_maupiti_1[:,1:] = X_maupiti"
   ]
  },
  {
   "cell_type": "code",
   "execution_count": 24,
   "metadata": {},
   "outputs": [],
   "source": [
    "Y_star_maupiti = (Y_maupiti*(n_samples-1)+1/n_classes)/n_samples"
   ]
  },
  {
   "cell_type": "code",
   "execution_count": 25,
   "metadata": {},
   "outputs": [],
   "source": [
    "beta_maupiti = np.zeros((1+n_features)*n_classes+(1+n_features))[:(1+n_features)*n_classes].reshape(((1+n_features),n_classes))\n",
    "beta_maupiti[:,0] = 0"
   ]
  },
  {
   "cell_type": "code",
   "execution_count": 26,
   "metadata": {},
   "outputs": [],
   "source": [
    "gamma_maupiti = np.zeros(Z_maupiti.shape[-1])\n",
    "rho_maupiti = [0.]"
   ]
  },
  {
   "cell_type": "code",
   "execution_count": 27,
   "metadata": {},
   "outputs": [],
   "source": [
    "params0_maupiti = np.concatenate([beta_maupiti.flatten(),gamma_maupiti,rho_maupiti])"
   ]
  },
  {
   "cell_type": "code",
   "execution_count": 50,
   "metadata": {},
   "outputs": [],
   "source": [
    "min_bounds = -np.inf*np.ones(len(params0_maupiti)) \n",
    "max_bounds = np.inf*np.ones(len(params0_maupiti))\n",
    "min_bounds[-1] = -1\n",
    "max_bounds[-1] = 1\n",
    "bounds = Bounds(min_bounds, max_bounds)"
   ]
  },
  {
   "cell_type": "code",
   "execution_count": 99,
   "metadata": {},
   "outputs": [],
   "source": [
    "X_maupiti_train = X_maupiti_1[1000:1500,:]\n",
    "Y_star_maupiti_train = Y_star_maupiti[1000:1500,:]\n",
    "Z_maupiti_train = Z_maupiti[1000:1500]\n",
    "W_maupiti_train = W_maupiti[1000:1500,1000:1500]"
   ]
  },
  {
   "cell_type": "code",
   "execution_count": 109,
   "metadata": {},
   "outputs": [
    {
     "name": "stdout",
     "output_type": "stream",
     "text": [
      "Wall time: 4.71 s\n"
     ]
    }
   ],
   "source": [
    "%%time\n",
    "solution_maupiti = minimize(f_spatial, params0_maupiti, args=(X_maupiti_train, \n",
    "                                                             Y_star_maupiti_train, \n",
    "                                                             Z_maupiti_train, W_maupiti_train),\n",
    "                            jac=fprime_spatial, bounds=bounds)"
   ]
  },
  {
   "cell_type": "code",
   "execution_count": 110,
   "metadata": {},
   "outputs": [
    {
     "data": {
      "text/plain": [
       "array([ 0.00000000e+00, -1.15892463e-01, -1.86093568e-01, -1.74398104e-01,\n",
       "       -1.75067441e-01, -1.74398104e-01,  8.40833285e-03,  7.69632506e-02,\n",
       "       -1.71796593e-01, -1.61087239e-01,  0.00000000e+00, -2.99999232e-03,\n",
       "       -5.75462589e-05, -4.70997713e-04, -4.32577842e-04, -4.70997713e-04,\n",
       "        7.89220564e-03,  4.88999652e-03, -3.42719855e-04, -5.21630993e-04,\n",
       "        0.00000000e+00,  4.03341826e-01,  5.41092222e-01, -1.34828736e-01,\n",
       "       -9.17238845e-02, -1.34828736e-01,  5.75872925e-01, -7.39470955e-01,\n",
       "       -1.45802268e-01, -1.65397158e-01,  0.00000000e+00,  2.52370911e-06,\n",
       "        6.19833402e-07,  4.15285716e-08,  6.59586534e-08,  4.15285716e-08,\n",
       "       -2.26830237e-06, -1.75606779e-06, -1.63945391e-08, -1.48231826e-07,\n",
       "        0.00000000e+00,  8.32706451e-06,  6.20823911e-07, -5.01676442e-07,\n",
       "       -5.04785148e-07, -5.01676442e-07,  5.87148610e-07, -1.20094799e-06,\n",
       "       -5.93255283e-07,  6.29925284e-07,  0.00000000e+00, -1.03378528e-03,\n",
       "       -1.91488182e-05, -5.00269845e-04, -4.49357732e-04, -5.00269845e-04,\n",
       "        8.83077592e-03,  4.30192573e-03, -4.12598165e-04, -3.86837435e-04,\n",
       "        0.00000000e+00,  4.79055614e-01,  4.58848690e-01, -1.27083231e-01,\n",
       "       -9.47573698e-02, -1.27083231e-01,  6.07561543e-01, -6.67683760e-01,\n",
       "       -1.28036300e-01, -1.55685656e-01,  0.00000000e+00,  7.60977880e-07,\n",
       "        2.47258555e-07, -1.18590015e-07, -1.08409656e-07, -1.18590015e-07,\n",
       "       -9.22073555e-08,  5.41167713e-07,  1.32036341e-08,  1.58163534e-07,\n",
       "        0.00000000e+00,  5.63765896e-06, -2.66008417e-07, -7.11487964e-07,\n",
       "       -7.39964058e-07, -7.11487964e-07,  7.17878335e-06, -3.78381661e-07,\n",
       "       -5.41674246e-07,  4.79472924e-07,  0.00000000e+00,  1.13949282e-03,\n",
       "        2.75430694e-04, -3.49716645e-04, -2.89721118e-04, -3.49716645e-04,\n",
       "        5.24632877e-03, -1.26459865e-03, -3.36790359e-04, -1.46664886e-05,\n",
       "        0.00000000e+00,  8.95025024e-01,  4.87143804e-01, -1.59295621e-01,\n",
       "       -1.26401281e-01, -1.59295621e-01,  9.04849226e-01, -1.10117890e+00,\n",
       "       -1.37824509e-01, -1.94426222e-01,  0.00000000e+00,  1.71294308e-06,\n",
       "        3.65692011e-07, -1.81654794e-07, -1.69066871e-07, -1.81654794e-07,\n",
       "       -7.69056491e-07,  2.29795668e-07,  4.81700684e-08,  5.19643235e-07,\n",
       "        0.00000000e+00,  4.76749409e-06,  7.18061850e-07, -8.76971402e-07,\n",
       "       -9.03361425e-07, -8.76971402e-07,  3.69421681e-06, -5.51444427e-07,\n",
       "       -3.15538197e-07,  1.56971447e-06,  0.00000000e+00,  1.54537554e-02,\n",
       "        2.81543293e-04,  1.43701120e-04,  1.69734809e-04,  1.43701120e-04,\n",
       "       -2.46337503e-03, -7.10731524e-03,  3.82279225e-05,  1.96042938e-04,\n",
       "        0.00000000e+00,  2.76197624e+00,  4.67558985e-01, -2.71896895e-01,\n",
       "       -2.42427387e-01, -2.71896895e-01,  6.10161154e-01, -2.20457521e+00,\n",
       "       -1.39785580e-01,  6.66703135e-01,  0.00000000e+00,  3.35775604e-07,\n",
       "        3.89659552e-07, -2.13407564e-07, -1.98915997e-07, -2.13407564e-07,\n",
       "        1.24388871e-07, -1.90503004e-06, -9.79754949e-08,  5.12709305e-07,\n",
       "        0.00000000e+00,  3.39434104e-06,  7.77209815e-07, -8.41286434e-07,\n",
       "       -8.55014784e-07, -8.41286434e-07,  4.22069506e-06, -4.68519971e-06,\n",
       "        7.94960036e-09,  9.39558605e-07,  6.57916606e-03,  6.57916606e-03,\n",
       "        6.57916606e-03,  6.57916606e-03,  6.57916606e-03,  6.57916606e-03,\n",
       "        6.57916606e-03,  6.57916606e-03,  6.57916606e-03,  6.57916606e-03,\n",
       "        6.57916606e-03,  6.57916606e-03,  6.57916606e-03,  6.57916606e-03,\n",
       "        6.57916606e-03,  6.57916606e-03,  5.06994464e-01])"
      ]
     },
     "execution_count": 110,
     "metadata": {},
     "output_type": "execute_result"
    }
   ],
   "source": [
    "solution_maupiti.x"
   ]
  },
  {
   "cell_type": "code",
   "execution_count": 111,
   "metadata": {},
   "outputs": [],
   "source": [
    "beta_solution = solution_maupiti.x[:n_classes*(n_features+1)].reshape((1+n_features,n_classes))"
   ]
  },
  {
   "cell_type": "code",
   "execution_count": 112,
   "metadata": {},
   "outputs": [],
   "source": [
    "rho_solution = solution_maupiti.x[-1]"
   ]
  },
  {
   "cell_type": "code",
   "execution_count": 113,
   "metadata": {},
   "outputs": [],
   "source": [
    "mu_maupiti = dirichlet_regression.compute_mu_spatial_2(X_maupiti_train, beta_solution, rho_solution, W_maupiti_train)"
   ]
  },
  {
   "cell_type": "code",
   "execution_count": 114,
   "metadata": {},
   "outputs": [
    {
     "data": {
      "text/plain": [
       "-5.970576435203907e+34"
      ]
     },
     "execution_count": 114,
     "metadata": {},
     "output_type": "execute_result"
    }
   ],
   "source": [
    "r2_score(Y_star_maupiti_train, mu_maupiti)"
   ]
  },
  {
   "cell_type": "code",
   "execution_count": 130,
   "metadata": {},
   "outputs": [
    {
     "data": {
      "text/plain": [
       "-0.24609029796843368"
      ]
     },
     "execution_count": 130,
     "metadata": {},
     "output_type": "execute_result"
    }
   ],
   "source": [
    "mu_maupiti_pred = dirichlet_regression.compute_mu_spatial(X_maupiti_1, beta_solution, rho_solution, W_maupiti)\n",
    "r2_score(Y_star_maupiti, mu_maupiti_pred)"
   ]
  },
  {
   "cell_type": "code",
   "execution_count": 116,
   "metadata": {},
   "outputs": [
    {
     "data": {
      "text/plain": [
       "0.2446366085729225"
      ]
     },
     "execution_count": 116,
     "metadata": {},
     "output_type": "execute_result"
    }
   ],
   "source": [
    "mean_squared_error(Y_star_maupiti, mu_maupiti_pred, squared=False)"
   ]
  },
  {
   "cell_type": "markdown",
   "metadata": {},
   "source": [
    "### With whole dataset"
   ]
  },
  {
   "cell_type": "code",
   "execution_count": 151,
   "metadata": {},
   "outputs": [],
   "source": [
    "#params0_bis = np.copy(solution_maupiti.x)"
   ]
  },
  {
   "cell_type": "code",
   "execution_count": 162,
   "metadata": {},
   "outputs": [
    {
     "name": "stderr",
     "output_type": "stream",
     "text": [
      "C:\\Users\\tnguyen001\\Documents\\GitHub\\maupiti\\dirichlet_regression.py:59: RuntimeWarning: overflow encountered in exp\n",
      "  mu = np.zeros((n,J))\n",
      "C:\\Users\\tnguyen001\\Documents\\GitHub\\maupiti\\dirichlet_regression.py:61: RuntimeWarning: invalid value encountered in true_divide\n",
      "  sum_exp_MXbeta = np.sum(exp_MXbeta,axis=1)\n",
      "C:\\Users\\tnguyen001\\Documents\\GitHub\\maupiti\\dirichlet_regression.py:105: RuntimeWarning: invalid value encountered in multiply\n",
      "  digamma_phi_mu = digamma(phi[i]*mu[i])\n",
      "C:\\Users\\tnguyen001\\Documents\\GitHub\\maupiti\\dirichlet_regression.py:119: RuntimeWarning: invalid value encountered in multiply\n",
      "  for i in range(n):\n",
      "C:\\Users\\tnguyen001\\Documents\\GitHub\\maupiti\\dirichlet_regression.py:268: RuntimeWarning: invalid value encountered in multiply\n",
      "  digamma_alpha = digamma(alpha[i])\n",
      "<ipython-input-107-5714c1b972bd>:13: RuntimeWarning: overflow encountered in exp\n",
      "  phi = np.exp(np.matmul(Z,gamma_var))\n",
      "C:\\Users\\tnguyen001\\Documents\\GitHub\\maupiti\\dirichlet_regression.py:90: RuntimeWarning: invalid value encountered in multiply\n",
      "  for i in range(n):\n",
      "<ipython-input-108-dbfdc692418c>:14: RuntimeWarning: overflow encountered in exp\n",
      "  phi = np.exp(np.matmul(Z,gamma_var))\n",
      "C:\\Users\\tnguyen001\\Documents\\GitHub\\maupiti\\dirichlet_regression.py:104: RuntimeWarning: invalid value encountered in multiply\n",
      "  digamma_sum_mu_ij = digamma(sum_mu_ij)\n",
      "C:\\Users\\tnguyen001\\Documents\\GitHub\\maupiti\\dirichlet_regression.py:108: RuntimeWarning: invalid value encountered in multiply\n",
      "  sum_mu_logY = np.sum(mu[i]*logY)\n",
      "C:\\Users\\tnguyen001\\Documents\\GitHub\\maupiti\\dirichlet_regression.py:264: RuntimeWarning: invalid value encountered in multiply\n",
      "  if alpha is None:\n"
     ]
    },
    {
     "name": "stdout",
     "output_type": "stream",
     "text": [
      "Wall time: 7min 57s\n"
     ]
    }
   ],
   "source": [
    "%%time\n",
    "solution_maupiti_bis = minimize(f_spatial, params0_maupiti, args=(X_maupiti_1, \n",
    "                                                             Y_star_maupiti, \n",
    "                                                             Z_maupiti, W_maupiti), \n",
    "                                jac=fprime_spatial, bounds=bounds)"
   ]
  },
  {
   "cell_type": "code",
   "execution_count": 163,
   "metadata": {},
   "outputs": [],
   "source": [
    "beta_solution_bis = solution_maupiti.x[:n_classes*(n_features+1)].reshape((1+n_features,n_classes))\n",
    "rho_solution_bis = solution_maupiti.x[-1]\n",
    "mu_maupiti_bis = dirichlet_regression.compute_mu_spatial(X_maupiti_1, beta_solution_bis, rho_solution_bis, W_maupiti)"
   ]
  },
  {
   "cell_type": "code",
   "execution_count": 164,
   "metadata": {},
   "outputs": [
    {
     "name": "stdout",
     "output_type": "stream",
     "text": [
      "R2 : -0.24609029796843368\n",
      "RMSE : 0.2449686094095783\n"
     ]
    }
   ],
   "source": [
    "print('R2 :',r2_score(Y_star_maupiti, mu_maupiti_bis))\n",
    "print('RMSE :',mean_squared_error(Y_star_maupiti, mu_maupiti_bis, squared=False))"
   ]
  },
  {
   "cell_type": "code",
   "execution_count": 165,
   "metadata": {},
   "outputs": [
    {
     "name": "stdout",
     "output_type": "stream",
     "text": [
      "0.41541644652962506\n"
     ]
    }
   ],
   "source": [
    "print(rho_solution_bis)"
   ]
  },
  {
   "cell_type": "markdown",
   "metadata": {},
   "source": [
    "## With X^2"
   ]
  },
  {
   "cell_type": "code",
   "execution_count": 28,
   "metadata": {},
   "outputs": [],
   "source": [
    "X_arctic_2 = np.ones((39,3))\n",
    "X_arctic_2[:,1] = X_arctic[:,0]\n",
    "X_arctic_2[:,2] = X_arctic[:,0]**2"
   ]
  },
  {
   "cell_type": "markdown",
   "metadata": {},
   "source": [
    "# Using the derivatives"
   ]
  },
  {
   "cell_type": "code",
   "execution_count": 465,
   "metadata": {},
   "outputs": [],
   "source": [
    "def fhessian(x, X, Y, Z):\n",
    "    K = X.shape[-1]\n",
    "    J = Y.shape[-1]\n",
    "    beta = x[:K*J].reshape((K,J))\n",
    "    beta[:,0] = 0\n",
    "    gamma_var = x[K*J:]\n",
    "    #mu = dirichlet_regression.compute_mu(X, beta)\n",
    "    mu = dirichlet_regression.compute_mu_2(X, beta)\n",
    "    phi = np.exp(np.matmul(Z,gamma_var))\n",
    "    if len(phi.shape)==1:\n",
    "        K_phi=1\n",
    "    else:\n",
    "        K_phi = phi.shape[-1]\n",
    "    hessian = np.zeros((K*J+1,K*J+1))\n",
    "    #beta_hess = dirichlet_regression.dirichlet_hessian_wrt_beta(mu, phi, X, Y).reshape((K*J,K*J))\n",
    "    beta_hess = dirichlet_hessian_wrt_beta_2(mu, phi, X, Y).reshape((K*J,K*J))\n",
    "    #gamma_hess = dirichlet_regression.dirichlet_hessian_wrt_gamma(mu, phi, beta, X, Y, Z)\n",
    "    gamma_hess = dirichlet_regression.dirichlet_hessian_wrt_gamma_2(mu, phi, beta, X, Y, Z)\n",
    "    #beta_gamma_derivative = dirichlet_regression.dirichlet_second_derivative_beta_gamma(mu, phi, beta, X, Y, Z).reshape((K_phi,K*J))\n",
    "    beta_gamma_derivative = dirichlet_regression.dirichlet_second_derivative_beta_gamma_2(mu, phi, beta, X, Y, Z).reshape((K_phi,K*J))\n",
    "    \n",
    "    # we set to 0 the first columns of the betas\n",
    "    for k in range(0,K*J,J):\n",
    "        beta_hess[k,:] = 0\n",
    "        beta_hess[:,k] = 0.\n",
    "        beta_gamma_derivative[:,k] = 0.\n",
    "    hessian[:K*J,:K*J] = beta_hess\n",
    "    hessian[K*J:,K*J:] = gamma_hess\n",
    "    hessian[:K*J,K*J:] = beta_gamma_derivative.transpose()\n",
    "    hessian[K*J:,:K*J] = beta_gamma_derivative\n",
    "    return(-hessian)"
   ]
  },
  {
   "cell_type": "code",
   "execution_count": 113,
   "metadata": {},
   "outputs": [],
   "source": [
    "def trigamma_func(z):\n",
    "    S=0\n",
    "    for n in range(10000):\n",
    "        S+=1/(z+n)**2\n",
    "    return S\n",
    "\n",
    "def z_times_trigamma_func(z):\n",
    "    S=0\n",
    "    for n in range(10000):\n",
    "        S+=1/( z + 2*n + (n**2)/z )\n",
    "    return S\n",
    "\n",
    "def a_times_trigamma_func(a,z):\n",
    "    S=0\n",
    "    try:\n",
    "        for n in range(10000):\n",
    "            S+=1/( z*(z/a) + (2*z*n)/a + (n**2)/a )\n",
    "    except ZeroDivisionError:\n",
    "        S=1e305\n",
    "    return S"
   ]
  },
  {
   "cell_type": "code",
   "execution_count": 236,
   "metadata": {},
   "outputs": [],
   "source": [
    "def dirichlet_hessian_wrt_beta_2(mu, phi, X, Y, alpha=None, epsilon=0):\n",
    "    K = np.shape(X)[1] #nb of features\n",
    "    J = np.shape(Y)[1] #nb of classes\n",
    "    n = np.shape(Y)[0] \n",
    "    hessian = np.zeros((K,J,K,J))\n",
    "    if alpha is None:\n",
    "        alpha = np.copy(mu)\n",
    "        for j in range(J):\n",
    "            alpha[:,j] = phi*mu[:,j]\n",
    "    for i in range(n):\n",
    "        digamma_alpha = digamma(alpha[i])\n",
    "        digamma_alpha[np.isinf(digamma_alpha)] = -1e305\n",
    "\n",
    "        trigamma_alpha = polygamma(1,alpha[i])\n",
    "        trigamma_alpha[np.isinf(trigamma_alpha)] = 1e305\n",
    "        \n",
    "        #mu_2_trigamma = a_times_trigamma_func(mu[i]**2,alpha[i])\n",
    "        #if math.isinf(trigamma_alpha):\n",
    "        #    mu_2_trigamma = a_times_trigamma_func(mu[i]**2,alpha[i])\n",
    "        #else:\n",
    "        mu_2_trigamma = mu[i]**2*trigamma_alpha\n",
    "        mu_2_trigamma[mu[i]**2==0] = 0\n",
    "        phi_sum_mu_2_trigamma = phi[i]*np.sum(mu_2_trigamma)\n",
    "        \n",
    "        logY = np.log(Y[i]+epsilon)\n",
    "        sum_mu_log = 2*np.sum(mu[i]*logY)\n",
    "        \n",
    "        mu_digamma_alpha = mu[i]*digamma_alpha\n",
    "        mu_digamma_alpha[mu[i]==0] = 0\n",
    "        sum_mu_digamma = 2*np.sum(mu_digamma_alpha)\n",
    "        \n",
    "        mu_digamma_log = mu[i]*(digamma_alpha-logY)\n",
    "        #mu_digamma_log[mu[i]==0] = 0\n",
    "        sum_mu_digamma_log = np.sum(mu_digamma_log)\n",
    "        for p in range(K):\n",
    "            phi_Xip = phi[i]*X[i,p]\n",
    "            for d in range(J):\n",
    "                phi_Xip_muid = phi_Xip*mu[i,d]\n",
    "                if alpha[i,d]==0:\n",
    "                    alpha_times_trigamma_alpha = np.zeros(np.shape(trigamma_alpha[d]))\n",
    "                else:\n",
    "                    if math.isinf(trigamma_alpha[d]):\n",
    "                        alpha_times_trigamma_alpha = np.array(a_times_trigamma_func(alpha[i,d],alpha[i,d]))\n",
    "                    else:\n",
    "                        alpha_times_trigamma_alpha = alpha[i,d]*trigamma_alpha[d]\n",
    "                for q in range(K):\n",
    "                    phi_Xip_muid_Xiq = phi_Xip_muid*X[i,q]\n",
    "                    for c in range(J):\n",
    "                        if c!=d:\n",
    "                            if alpha[i,c]==0:\n",
    "                                alpha_c_trigamma_alpha_c = 0\n",
    "                            elif math.isinf(trigamma_alpha[c]):\n",
    "                                alpha_c_trigamma_alpha_c = a_times_trigamma_func(alpha[i,c],alpha[i,c])\n",
    "                            else:\n",
    "                                alpha_c_trigamma_alpha_c = alpha[i,c]*trigamma_alpha[c]\n",
    "                            hessian[p,d,q,c] += phi_Xip_muid_Xiq*mu[i,c] * ( digamma_alpha[c] + digamma_alpha[d]\n",
    "                                                                           - logY[c] - logY[d]\n",
    "                                                                           + alpha_c_trigamma_alpha_c + alpha_times_trigamma_alpha\n",
    "                                                                           - phi_sum_mu_2_trigamma \n",
    "                                                                           + sum_mu_log\n",
    "                                                                           - sum_mu_digamma )\n",
    "                        else:\n",
    "                            \n",
    "                            if math.isinf(trigamma_alpha[c]):\n",
    "                                #phi_trigamma_alpha_c = np.array(a_times_trigamma_func(phi[i],alpha[i,c]))\n",
    "                                phi_trigamma_alpha_c = phi[i]*1e305\n",
    "                            else:\n",
    "                                phi_trigamma_alpha_c = phi[i]*trigamma_alpha[c]\n",
    "                            hessian[p,d,q,c] += phi_Xip_muid_Xiq*mu[i,c] * ( 2*digamma_alpha[c] - 2*logY[c] \n",
    "                                                                           + 2*alpha_times_trigamma_alpha\n",
    "                                                                           - phi_sum_mu_2_trigamma\n",
    "                                                                           + sum_mu_log\n",
    "                                                                           - sum_mu_digamma\n",
    "                                                                           - phi_trigamma_alpha_c)\n",
    "                            hessian[p,d,q,c] += phi_Xip_muid_Xiq * (sum_mu_digamma_log - digamma_alpha[c] + logY[c] )\n",
    "    # fill the symmetric values we didn't compute\n",
    "    #for p in range(K):\n",
    "    #    for d in range(J):\n",
    "    #        for q in range(p):\n",
    "    #            for c in range(J):\n",
    "    #                hessian[p,d,q,c] = hessian[q,c,p,d]\n",
    "    return hessian"
   ]
  },
  {
   "cell_type": "code",
   "execution_count": null,
   "metadata": {},
   "outputs": [],
   "source": []
  }
 ],
 "metadata": {
  "kernelspec": {
   "display_name": "Python 3",
   "language": "python",
   "name": "python3"
  },
  "language_info": {
   "codemirror_mode": {
    "name": "ipython",
    "version": 3
   },
   "file_extension": ".py",
   "mimetype": "text/x-python",
   "name": "python",
   "nbconvert_exporter": "python",
   "pygments_lexer": "ipython3",
   "version": "3.8.5"
  }
 },
 "nbformat": 4,
 "nbformat_minor": 4
}
