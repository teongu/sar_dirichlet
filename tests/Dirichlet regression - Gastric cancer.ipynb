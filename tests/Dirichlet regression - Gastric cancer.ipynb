{
 "cells": [
  {
   "cell_type": "markdown",
   "metadata": {},
   "source": [
    "# Importing the packages and data"
   ]
  },
  {
   "cell_type": "markdown",
   "metadata": {},
   "source": [
    "Data for the microbiome : https://www.nature.com/articles/s41522-022-00345-5#data-availability"
   ]
  },
  {
   "cell_type": "code",
   "execution_count": 1,
   "metadata": {},
   "outputs": [],
   "source": [
    "%load_ext autoreload\n",
    "%autoreload 2"
   ]
  },
  {
   "cell_type": "code",
   "execution_count": 2,
   "metadata": {},
   "outputs": [],
   "source": [
    "import numpy as np\n",
    "import pandas as pd\n",
    "import matplotlib.pyplot as plt\n",
    "from mpl_toolkits import mplot3d\n",
    "import scipy\n",
    "from sklearn.metrics import r2_score\n",
    "from sklearn.metrics import mean_squared_error\n",
    "from scipy.special import gamma, digamma, polygamma\n",
    "import math\n",
    "\n",
    "from sklearn.neighbors import NearestNeighbors\n",
    "from sklearn.model_selection import train_test_split\n",
    "from sklearn.model_selection import KFold\n",
    "import random\n",
    "\n",
    "import scipy.optimize\n",
    "from scipy.optimize import Bounds"
   ]
  },
  {
   "cell_type": "code",
   "execution_count": 3,
   "metadata": {},
   "outputs": [],
   "source": [
    "import dirichlet_regression"
   ]
  },
  {
   "cell_type": "code",
   "execution_count": 4,
   "metadata": {},
   "outputs": [],
   "source": [
    "from scipy.optimize import fmin, newton, minimize"
   ]
  },
  {
   "cell_type": "markdown",
   "metadata": {},
   "source": [
    "# With Gastric cancer"
   ]
  },
  {
   "cell_type": "code",
   "execution_count": 68,
   "metadata": {},
   "outputs": [],
   "source": [
    "gastric_X = pd.read_csv('Data Dirichlet/ERAWIJANTARI_GASTRIC_CANCER_2020_metadata.tsv', sep='\\t')"
   ]
  },
  {
   "cell_type": "code",
   "execution_count": 70,
   "metadata": {},
   "outputs": [],
   "source": [
    "gastric_X = gastric_X.drop(gastric_X.columns[[0,1,3,5,8,9,-2]],axis=1)"
   ]
  },
  {
   "cell_type": "code",
   "execution_count": 71,
   "metadata": {},
   "outputs": [],
   "source": [
    "# binary classes\n",
    "gastric_X.iloc[:,12:] = gastric_X.iloc[:,12:].astype('category').apply(lambda x: x.cat.codes)\n",
    "gastric_X[gastric_X.columns[[2,8]]] = gastric_X[gastric_X.columns[[2,8]]].astype('category').apply(lambda x: x.cat.codes)"
   ]
  },
  {
   "cell_type": "code",
   "execution_count": 75,
   "metadata": {},
   "outputs": [],
   "source": [
    "# categorical\n",
    "gastric_X[gastric_X.columns[[4,5,6,7,9]]] = gastric_X[gastric_X.columns[[4,5,6,7,9]]].astype('category').apply(lambda x: x.cat.codes)"
   ]
  },
  {
   "cell_type": "code",
   "execution_count": 76,
   "metadata": {},
   "outputs": [
    {
     "data": {
      "text/html": [
       "<div>\n",
       "<style scoped>\n",
       "    .dataframe tbody tr th:only-of-type {\n",
       "        vertical-align: middle;\n",
       "    }\n",
       "\n",
       "    .dataframe tbody tr th {\n",
       "        vertical-align: top;\n",
       "    }\n",
       "\n",
       "    .dataframe thead th {\n",
       "        text-align: right;\n",
       "    }\n",
       "</style>\n",
       "<table border=\"1\" class=\"dataframe\">\n",
       "  <thead>\n",
       "    <tr style=\"text-align: right;\">\n",
       "      <th></th>\n",
       "      <th>Subject</th>\n",
       "      <th>Age</th>\n",
       "      <th>Gender</th>\n",
       "      <th>BMI</th>\n",
       "      <th>Surgery_Type</th>\n",
       "      <th>Reconstruction</th>\n",
       "      <th>SmokingStatus</th>\n",
       "      <th>Drinking Status</th>\n",
       "      <th>AlcoholConsumption</th>\n",
       "      <th>complication</th>\n",
       "      <th>...</th>\n",
       "      <th>Colorectal polyps</th>\n",
       "      <th>Chronic hepatitis and liver cirrhosis</th>\n",
       "      <th>Gallstone</th>\n",
       "      <th>Ureteral or kidney stones</th>\n",
       "      <th>Gout...46</th>\n",
       "      <th>Hip fracture</th>\n",
       "      <th>Arm or wrist fracture</th>\n",
       "      <th>Femur base fractures</th>\n",
       "      <th>Other diseases</th>\n",
       "      <th>Shared.w.YACHIDA_2019</th>\n",
       "    </tr>\n",
       "  </thead>\n",
       "  <tbody>\n",
       "    <tr>\n",
       "      <th>0</th>\n",
       "      <td>10025.Healthy</td>\n",
       "      <td>40</td>\n",
       "      <td>1</td>\n",
       "      <td>25.000000</td>\n",
       "      <td>0</td>\n",
       "      <td>1</td>\n",
       "      <td>1</td>\n",
       "      <td>0</td>\n",
       "      <td>1</td>\n",
       "      <td>0</td>\n",
       "      <td>...</td>\n",
       "      <td>0</td>\n",
       "      <td>0</td>\n",
       "      <td>0</td>\n",
       "      <td>0</td>\n",
       "      <td>0</td>\n",
       "      <td>0</td>\n",
       "      <td>0</td>\n",
       "      <td>0</td>\n",
       "      <td>0</td>\n",
       "      <td>1</td>\n",
       "    </tr>\n",
       "    <tr>\n",
       "      <th>1</th>\n",
       "      <td>10036.Healthy</td>\n",
       "      <td>64</td>\n",
       "      <td>0</td>\n",
       "      <td>21.155294</td>\n",
       "      <td>0</td>\n",
       "      <td>1</td>\n",
       "      <td>0</td>\n",
       "      <td>1</td>\n",
       "      <td>0</td>\n",
       "      <td>0</td>\n",
       "      <td>...</td>\n",
       "      <td>1</td>\n",
       "      <td>0</td>\n",
       "      <td>0</td>\n",
       "      <td>0</td>\n",
       "      <td>0</td>\n",
       "      <td>0</td>\n",
       "      <td>0</td>\n",
       "      <td>0</td>\n",
       "      <td>1</td>\n",
       "      <td>1</td>\n",
       "    </tr>\n",
       "    <tr>\n",
       "      <th>2</th>\n",
       "      <td>10037.Healthy</td>\n",
       "      <td>66</td>\n",
       "      <td>0</td>\n",
       "      <td>25.410900</td>\n",
       "      <td>0</td>\n",
       "      <td>1</td>\n",
       "      <td>0</td>\n",
       "      <td>0</td>\n",
       "      <td>1</td>\n",
       "      <td>0</td>\n",
       "      <td>...</td>\n",
       "      <td>0</td>\n",
       "      <td>0</td>\n",
       "      <td>0</td>\n",
       "      <td>0</td>\n",
       "      <td>0</td>\n",
       "      <td>0</td>\n",
       "      <td>0</td>\n",
       "      <td>0</td>\n",
       "      <td>0</td>\n",
       "      <td>1</td>\n",
       "    </tr>\n",
       "    <tr>\n",
       "      <th>3</th>\n",
       "      <td>10048.Healthy</td>\n",
       "      <td>77</td>\n",
       "      <td>0</td>\n",
       "      <td>23.634033</td>\n",
       "      <td>0</td>\n",
       "      <td>1</td>\n",
       "      <td>0</td>\n",
       "      <td>0</td>\n",
       "      <td>0</td>\n",
       "      <td>0</td>\n",
       "      <td>...</td>\n",
       "      <td>0</td>\n",
       "      <td>0</td>\n",
       "      <td>0</td>\n",
       "      <td>0</td>\n",
       "      <td>0</td>\n",
       "      <td>0</td>\n",
       "      <td>0</td>\n",
       "      <td>0</td>\n",
       "      <td>1</td>\n",
       "      <td>1</td>\n",
       "    </tr>\n",
       "    <tr>\n",
       "      <th>4</th>\n",
       "      <td>10058.Healthy</td>\n",
       "      <td>59</td>\n",
       "      <td>1</td>\n",
       "      <td>28.841532</td>\n",
       "      <td>0</td>\n",
       "      <td>1</td>\n",
       "      <td>2</td>\n",
       "      <td>0</td>\n",
       "      <td>1</td>\n",
       "      <td>0</td>\n",
       "      <td>...</td>\n",
       "      <td>1</td>\n",
       "      <td>0</td>\n",
       "      <td>0</td>\n",
       "      <td>0</td>\n",
       "      <td>0</td>\n",
       "      <td>0</td>\n",
       "      <td>0</td>\n",
       "      <td>0</td>\n",
       "      <td>0</td>\n",
       "      <td>1</td>\n",
       "    </tr>\n",
       "    <tr>\n",
       "      <th>...</th>\n",
       "      <td>...</td>\n",
       "      <td>...</td>\n",
       "      <td>...</td>\n",
       "      <td>...</td>\n",
       "      <td>...</td>\n",
       "      <td>...</td>\n",
       "      <td>...</td>\n",
       "      <td>...</td>\n",
       "      <td>...</td>\n",
       "      <td>...</td>\n",
       "      <td>...</td>\n",
       "      <td>...</td>\n",
       "      <td>...</td>\n",
       "      <td>...</td>\n",
       "      <td>...</td>\n",
       "      <td>...</td>\n",
       "      <td>...</td>\n",
       "      <td>...</td>\n",
       "      <td>...</td>\n",
       "      <td>...</td>\n",
       "      <td>...</td>\n",
       "    </tr>\n",
       "    <tr>\n",
       "      <th>91</th>\n",
       "      <td>10791.Gastrectomy</td>\n",
       "      <td>51</td>\n",
       "      <td>1</td>\n",
       "      <td>24.280975</td>\n",
       "      <td>1</td>\n",
       "      <td>2</td>\n",
       "      <td>2</td>\n",
       "      <td>2</td>\n",
       "      <td>0</td>\n",
       "      <td>2</td>\n",
       "      <td>...</td>\n",
       "      <td>0</td>\n",
       "      <td>0</td>\n",
       "      <td>0</td>\n",
       "      <td>0</td>\n",
       "      <td>0</td>\n",
       "      <td>0</td>\n",
       "      <td>0</td>\n",
       "      <td>0</td>\n",
       "      <td>0</td>\n",
       "      <td>0</td>\n",
       "    </tr>\n",
       "    <tr>\n",
       "      <th>92</th>\n",
       "      <td>10794.Healthy</td>\n",
       "      <td>54</td>\n",
       "      <td>0</td>\n",
       "      <td>22.189349</td>\n",
       "      <td>0</td>\n",
       "      <td>1</td>\n",
       "      <td>0</td>\n",
       "      <td>0</td>\n",
       "      <td>1</td>\n",
       "      <td>0</td>\n",
       "      <td>...</td>\n",
       "      <td>0</td>\n",
       "      <td>0</td>\n",
       "      <td>0</td>\n",
       "      <td>0</td>\n",
       "      <td>0</td>\n",
       "      <td>0</td>\n",
       "      <td>0</td>\n",
       "      <td>0</td>\n",
       "      <td>0</td>\n",
       "      <td>1</td>\n",
       "    </tr>\n",
       "    <tr>\n",
       "      <th>93</th>\n",
       "      <td>10807.Healthy</td>\n",
       "      <td>74</td>\n",
       "      <td>0</td>\n",
       "      <td>20.829995</td>\n",
       "      <td>0</td>\n",
       "      <td>1</td>\n",
       "      <td>2</td>\n",
       "      <td>1</td>\n",
       "      <td>0</td>\n",
       "      <td>0</td>\n",
       "      <td>...</td>\n",
       "      <td>1</td>\n",
       "      <td>0</td>\n",
       "      <td>1</td>\n",
       "      <td>1</td>\n",
       "      <td>0</td>\n",
       "      <td>0</td>\n",
       "      <td>0</td>\n",
       "      <td>0</td>\n",
       "      <td>0</td>\n",
       "      <td>1</td>\n",
       "    </tr>\n",
       "    <tr>\n",
       "      <th>94</th>\n",
       "      <td>10810.Gastrectomy</td>\n",
       "      <td>47</td>\n",
       "      <td>0</td>\n",
       "      <td>18.827111</td>\n",
       "      <td>2</td>\n",
       "      <td>4</td>\n",
       "      <td>0</td>\n",
       "      <td>0</td>\n",
       "      <td>1</td>\n",
       "      <td>2</td>\n",
       "      <td>...</td>\n",
       "      <td>0</td>\n",
       "      <td>0</td>\n",
       "      <td>0</td>\n",
       "      <td>0</td>\n",
       "      <td>0</td>\n",
       "      <td>0</td>\n",
       "      <td>0</td>\n",
       "      <td>0</td>\n",
       "      <td>0</td>\n",
       "      <td>0</td>\n",
       "    </tr>\n",
       "    <tr>\n",
       "      <th>95</th>\n",
       "      <td>10850.Healthy</td>\n",
       "      <td>51</td>\n",
       "      <td>1</td>\n",
       "      <td>28.384802</td>\n",
       "      <td>0</td>\n",
       "      <td>1</td>\n",
       "      <td>2</td>\n",
       "      <td>0</td>\n",
       "      <td>1</td>\n",
       "      <td>0</td>\n",
       "      <td>...</td>\n",
       "      <td>0</td>\n",
       "      <td>0</td>\n",
       "      <td>0</td>\n",
       "      <td>0</td>\n",
       "      <td>0</td>\n",
       "      <td>0</td>\n",
       "      <td>0</td>\n",
       "      <td>0</td>\n",
       "      <td>1</td>\n",
       "      <td>1</td>\n",
       "    </tr>\n",
       "  </tbody>\n",
       "</table>\n",
       "<p>96 rows × 45 columns</p>\n",
       "</div>"
      ],
      "text/plain": [
       "              Subject  Age  Gender        BMI  Surgery_Type  Reconstruction  \\\n",
       "0       10025.Healthy   40       1  25.000000             0               1   \n",
       "1       10036.Healthy   64       0  21.155294             0               1   \n",
       "2       10037.Healthy   66       0  25.410900             0               1   \n",
       "3       10048.Healthy   77       0  23.634033             0               1   \n",
       "4       10058.Healthy   59       1  28.841532             0               1   \n",
       "..                ...  ...     ...        ...           ...             ...   \n",
       "91  10791.Gastrectomy   51       1  24.280975             1               2   \n",
       "92      10794.Healthy   54       0  22.189349             0               1   \n",
       "93      10807.Healthy   74       0  20.829995             0               1   \n",
       "94  10810.Gastrectomy   47       0  18.827111             2               4   \n",
       "95      10850.Healthy   51       1  28.384802             0               1   \n",
       "\n",
       "    SmokingStatus  Drinking Status  AlcoholConsumption  complication  ...  \\\n",
       "0               1                0                   1             0  ...   \n",
       "1               0                1                   0             0  ...   \n",
       "2               0                0                   1             0  ...   \n",
       "3               0                0                   0             0  ...   \n",
       "4               2                0                   1             0  ...   \n",
       "..            ...              ...                 ...           ...  ...   \n",
       "91              2                2                   0             2  ...   \n",
       "92              0                0                   1             0  ...   \n",
       "93              2                1                   0             0  ...   \n",
       "94              0                0                   1             2  ...   \n",
       "95              2                0                   1             0  ...   \n",
       "\n",
       "    Colorectal polyps  Chronic hepatitis and liver cirrhosis  Gallstone  \\\n",
       "0                   0                                      0          0   \n",
       "1                   1                                      0          0   \n",
       "2                   0                                      0          0   \n",
       "3                   0                                      0          0   \n",
       "4                   1                                      0          0   \n",
       "..                ...                                    ...        ...   \n",
       "91                  0                                      0          0   \n",
       "92                  0                                      0          0   \n",
       "93                  1                                      0          1   \n",
       "94                  0                                      0          0   \n",
       "95                  0                                      0          0   \n",
       "\n",
       "    Ureteral or kidney stones  Gout...46  Hip fracture  Arm or wrist fracture  \\\n",
       "0                           0          0             0                      0   \n",
       "1                           0          0             0                      0   \n",
       "2                           0          0             0                      0   \n",
       "3                           0          0             0                      0   \n",
       "4                           0          0             0                      0   \n",
       "..                        ...        ...           ...                    ...   \n",
       "91                          0          0             0                      0   \n",
       "92                          0          0             0                      0   \n",
       "93                          1          0             0                      0   \n",
       "94                          0          0             0                      0   \n",
       "95                          0          0             0                      0   \n",
       "\n",
       "    Femur base fractures  Other diseases  Shared.w.YACHIDA_2019  \n",
       "0                      0               0                      1  \n",
       "1                      0               1                      1  \n",
       "2                      0               0                      1  \n",
       "3                      0               1                      1  \n",
       "4                      0               0                      1  \n",
       "..                   ...             ...                    ...  \n",
       "91                     0               0                      0  \n",
       "92                     0               0                      1  \n",
       "93                     0               0                      1  \n",
       "94                     0               0                      0  \n",
       "95                     0               1                      1  \n",
       "\n",
       "[96 rows x 45 columns]"
      ]
     },
     "execution_count": 76,
     "metadata": {},
     "output_type": "execute_result"
    }
   ],
   "source": [
    "gastric_X"
   ]
  },
  {
   "cell_type": "code",
   "execution_count": null,
   "metadata": {},
   "outputs": [],
   "source": []
  },
  {
   "cell_type": "code",
   "execution_count": 7,
   "metadata": {},
   "outputs": [],
   "source": [
    "Y_arctic = arctic.iloc[:,:3]\n",
    "X_arctic = arctic.iloc[:,3]"
   ]
  },
  {
   "cell_type": "code",
   "execution_count": 8,
   "metadata": {},
   "outputs": [],
   "source": [
    "Y_arctic = np.array(Y_arctic)"
   ]
  },
  {
   "cell_type": "code",
   "execution_count": 9,
   "metadata": {},
   "outputs": [],
   "source": [
    "X_arctic = np.array([[j] for j in X_arctic])"
   ]
  },
  {
   "cell_type": "code",
   "execution_count": 10,
   "metadata": {},
   "outputs": [],
   "source": [
    "Z_arctic = np.ones(len(X_arctic)).reshape((39,1))"
   ]
  },
  {
   "cell_type": "code",
   "execution_count": 104,
   "metadata": {},
   "outputs": [],
   "source": [
    "neighbors = NearestNeighbors(n_neighbors=3).fit(X_arctic)\n",
    "#W_arctic = neighbors.kneighbors_graph(X_arctic).toarray()\n",
    "# replace the 1 on the diagonal by 0\n",
    "#np.fill_diagonal(W_arctic,0)\n",
    "# scaling the matrix, so that the sum of each row is 1\n",
    "#W_arctic = W_arctic/5\n",
    "\n",
    "# OR THE WEIGHTED GRAPH :\n",
    "W_arctic = neighbors.kneighbors_graph(X_arctic,mode='distance').toarray()\n",
    "W_arctic = W_arctic/W_arctic.sum(axis=1)[:,None]"
   ]
  },
  {
   "cell_type": "code",
   "execution_count": 105,
   "metadata": {},
   "outputs": [],
   "source": [
    "n_features = 1\n",
    "n_classes = 3"
   ]
  },
  {
   "cell_type": "code",
   "execution_count": 106,
   "metadata": {},
   "outputs": [],
   "source": [
    "#beta0 = np.array([[0., 0.05, 0.06]])\n",
    "beta0 = np.array([[0., 0., 0.]])\n",
    "gamma0 = [0]\n",
    "rho0 = [0.1]\n",
    "params0 = np.concatenate([beta0.flatten(),gamma0, rho0])"
   ]
  },
  {
   "cell_type": "code",
   "execution_count": 107,
   "metadata": {},
   "outputs": [],
   "source": [
    "def f_spatial(x, X, Y, Z, W, epsilon=0):\n",
    "    K = X.shape[-1]\n",
    "    J = Y.shape[-1]\n",
    "    n = X.shape[0]\n",
    "    beta = x[:K*J].reshape((K,J))\n",
    "    beta[:,0] = 0\n",
    "    gamma_var = x[K*J:-1]\n",
    "    rho = x[-1]\n",
    "    Minv = np.linalg.inv(np.identity(n) - rho*W)\n",
    "    mu = dirichlet_regression.compute_mu_spatial_2(X, beta, rho=rho, W=W, Minv=Minv)\n",
    "    phi = np.exp(np.matmul(Z,gamma_var))\n",
    "    #alpha = np.copy(mu)\n",
    "    #for i in range(mu.shape[-1]):\n",
    "    #    alpha[:,i] = phi*mu[:,i]\n",
    "    return -dirichlet_regression.dirichlet_loglikelihood(mu,phi,Y,epsilon=epsilon)"
   ]
  },
  {
   "cell_type": "code",
   "execution_count": 108,
   "metadata": {},
   "outputs": [
    {
     "name": "stdout",
     "output_type": "stream",
     "text": [
      "Wall time: 911 ms\n"
     ]
    }
   ],
   "source": [
    "%%time\n",
    "solution_arctic_bis=minimize(f_spatial, params0, args=(X_arctic, Y_arctic, Z_arctic, W_arctic))"
   ]
  },
  {
   "cell_type": "code",
   "execution_count": 109,
   "metadata": {},
   "outputs": [
    {
     "data": {
      "text/plain": [
       "'Desired error not necessarily achieved due to precision loss.'"
      ]
     },
     "execution_count": 109,
     "metadata": {},
     "output_type": "execute_result"
    }
   ],
   "source": [
    "solution_arctic_bis.message"
   ]
  },
  {
   "cell_type": "code",
   "execution_count": 110,
   "metadata": {},
   "outputs": [],
   "source": [
    "beta_arctic = solution_arctic_bis.x[:n_features*n_classes].reshape((n_features,n_classes))\n",
    "rho_arctic = solution_arctic_bis.x[-1]"
   ]
  },
  {
   "cell_type": "code",
   "execution_count": 111,
   "metadata": {},
   "outputs": [],
   "source": [
    "X_new = np.arange(10.4,103.7,0.5)\n",
    "X_new = np.array([[j] for j in X_new])"
   ]
  },
  {
   "cell_type": "code",
   "execution_count": 112,
   "metadata": {},
   "outputs": [],
   "source": [
    "mu_arctic = dirichlet_regression.compute_mu_spatial(X_arctic, beta_arctic, rho_arctic, W_arctic)\n",
    "\n",
    "gamma_var_arctic = solution_arctic_bis.x[n_features*n_classes:-1]\n",
    "phi_arctic = np.exp(np.matmul(Z_arctic,gamma_var_arctic))"
   ]
  },
  {
   "cell_type": "code",
   "execution_count": 113,
   "metadata": {},
   "outputs": [
    {
     "data": {
      "image/png": "[encoded data removed]",
      "text/plain": [
       "<Figure size 640x480 with 1 Axes>"
      ]
     },
     "metadata": {},
     "output_type": "display_data"
    }
   ],
   "source": [
    "plt.scatter(X_arctic,Y_arctic[:,0],label='Sand')\n",
    "plt.scatter(X_arctic,Y_arctic[:,1],label='Silt')\n",
    "plt.scatter(X_arctic,Y_arctic[:,2],label='Clay')\n",
    "plt.plot(X_arctic, mu_arctic)\n",
    "plt.legend()\n",
    "plt.show()"
   ]
  },
  {
   "cell_type": "code",
   "execution_count": 114,
   "metadata": {},
   "outputs": [
    {
     "data": {
      "text/plain": [
       "array([0.        , 0.01476894, 0.01090865, 1.67543086, 0.14038931])"
      ]
     },
     "execution_count": 114,
     "metadata": {},
     "output_type": "execute_result"
    }
   ],
   "source": [
    "solution_arctic_bis.x"
   ]
  },
  {
   "cell_type": "markdown",
   "metadata": {},
   "source": [
    "## With bounds"
   ]
  },
  {
   "cell_type": "code",
   "execution_count": 151,
   "metadata": {},
   "outputs": [],
   "source": [
    "#bounds = Bounds([0, -5, -5, -10, -1], [0, 5, 5, 10, 1])\n",
    "bounds = Bounds([-np.inf, -np.inf, -np.inf, -np.inf, -1], [np.inf,np.inf,np.inf,np.inf, 1])"
   ]
  },
  {
   "cell_type": "code",
   "execution_count": 152,
   "metadata": {},
   "outputs": [],
   "source": [
    "#beta0 = np.array([[0., 0.05, 0.06]])\n",
    "beta0 = np.array([[0., 0., 0.]])\n",
    "gamma0 = [0.]\n",
    "rho0 = [0.]\n",
    "params0 = np.concatenate([beta0.flatten(),gamma0, rho0])"
   ]
  },
  {
   "cell_type": "code",
   "execution_count": 117,
   "metadata": {},
   "outputs": [
    {
     "name": "stdout",
     "output_type": "stream",
     "text": [
      "Wall time: 417 ms\n"
     ]
    }
   ],
   "source": [
    "%%time\n",
    "solution_arctic_bis=minimize(f_spatial, params0, args=(X_arctic, Y_arctic, Z_arctic, W_arctic), bounds=bounds)"
   ]
  },
  {
   "cell_type": "code",
   "execution_count": 118,
   "metadata": {},
   "outputs": [
    {
     "data": {
      "text/plain": [
       "'CONVERGENCE: REL_REDUCTION_OF_F_<=_FACTR*EPSMCH'"
      ]
     },
     "execution_count": 118,
     "metadata": {},
     "output_type": "execute_result"
    }
   ],
   "source": [
    "solution_arctic_bis.message"
   ]
  },
  {
   "cell_type": "code",
   "execution_count": 119,
   "metadata": {},
   "outputs": [],
   "source": [
    "beta_arctic = solution_arctic_bis.x[:n_features*n_classes].reshape((n_features,n_classes))\n",
    "rho_arctic = solution_arctic_bis.x[-1]"
   ]
  },
  {
   "cell_type": "code",
   "execution_count": 120,
   "metadata": {},
   "outputs": [],
   "source": [
    "X_new = np.arange(10.4,103.7,0.5)\n",
    "X_new = np.array([[j] for j in X_new])"
   ]
  },
  {
   "cell_type": "code",
   "execution_count": 121,
   "metadata": {},
   "outputs": [],
   "source": [
    "mu_arctic = dirichlet_regression.compute_mu_spatial(X_arctic, beta_arctic, rho_arctic, W_arctic)\n",
    "\n",
    "gamma_var_arctic = solution_arctic_bis.x[n_features*n_classes:-1]\n",
    "phi_arctic = np.exp(np.matmul(Z_arctic,gamma_var_arctic))"
   ]
  },
  {
   "cell_type": "code",
   "execution_count": 122,
   "metadata": {},
   "outputs": [
    {
     "data": {
      "image/png": "[encoded data removed]",
      "text/plain": [
       "<Figure size 640x480 with 1 Axes>"
      ]
     },
     "metadata": {},
     "output_type": "display_data"
    }
   ],
   "source": [
    "plt.scatter(X_arctic,Y_arctic[:,0],label='Sand')\n",
    "plt.scatter(X_arctic,Y_arctic[:,1],label='Silt')\n",
    "plt.scatter(X_arctic,Y_arctic[:,2],label='Clay')\n",
    "plt.plot(X_arctic, mu_arctic)\n",
    "plt.legend()\n",
    "plt.show()"
   ]
  },
  {
   "cell_type": "code",
   "execution_count": 123,
   "metadata": {},
   "outputs": [
    {
     "data": {
      "text/plain": [
       "array([ 0.        ,  0.01729784,  0.01278831,  1.67542282, -0.00759197])"
      ]
     },
     "execution_count": 123,
     "metadata": {},
     "output_type": "execute_result"
    }
   ],
   "source": [
    "solution_arctic_bis.x"
   ]
  },
  {
   "cell_type": "code",
   "execution_count": 124,
   "metadata": {},
   "outputs": [
    {
     "data": {
      "text/plain": [
       "0.15160959764231197"
      ]
     },
     "execution_count": 124,
     "metadata": {},
     "output_type": "execute_result"
    }
   ],
   "source": [
    "r2_score(Y_arctic,mu_arctic)"
   ]
  },
  {
   "cell_type": "markdown",
   "metadata": {},
   "source": [
    "### Find the best number of neighbors"
   ]
  },
  {
   "cell_type": "code",
   "execution_count": 166,
   "metadata": {},
   "outputs": [
    {
     "ename": "ValueError",
     "evalue": "matmul: Input operand 1 has a mismatch in its core dimension 0, with gufunc signature (n?,k),(k,m?)->(n?,m?) (size 4 is different from 1)",
     "output_type": "error",
     "traceback": [
      "\u001b[1;31m---------------------------------------------------------------------------\u001b[0m",
      "\u001b[1;31mValueError\u001b[0m                                Traceback (most recent call last)",
      "\u001b[1;32m~\\AppData\\Local\\Temp\\ipykernel_4920\\1841739887.py\u001b[0m in \u001b[0;36m<module>\u001b[1;34m\u001b[0m\n\u001b[0;32m      6\u001b[0m     \u001b[0mW_arctic\u001b[0m \u001b[1;33m=\u001b[0m \u001b[0mneighbors\u001b[0m\u001b[1;33m.\u001b[0m\u001b[0mkneighbors_graph\u001b[0m\u001b[1;33m(\u001b[0m\u001b[0mX_arctic\u001b[0m\u001b[1;33m,\u001b[0m\u001b[0mmode\u001b[0m\u001b[1;33m=\u001b[0m\u001b[1;34m'distance'\u001b[0m\u001b[1;33m)\u001b[0m\u001b[1;33m.\u001b[0m\u001b[0mtoarray\u001b[0m\u001b[1;33m(\u001b[0m\u001b[1;33m)\u001b[0m\u001b[1;33m\u001b[0m\u001b[1;33m\u001b[0m\u001b[0m\n\u001b[0;32m      7\u001b[0m     \u001b[0mW_arctic\u001b[0m \u001b[1;33m=\u001b[0m \u001b[0mW_arctic\u001b[0m\u001b[1;33m/\u001b[0m\u001b[0mW_arctic\u001b[0m\u001b[1;33m.\u001b[0m\u001b[0msum\u001b[0m\u001b[1;33m(\u001b[0m\u001b[0maxis\u001b[0m\u001b[1;33m=\u001b[0m\u001b[1;36m1\u001b[0m\u001b[1;33m)\u001b[0m\u001b[1;33m[\u001b[0m\u001b[1;33m:\u001b[0m\u001b[1;33m,\u001b[0m\u001b[1;32mNone\u001b[0m\u001b[1;33m]\u001b[0m\u001b[1;33m\u001b[0m\u001b[1;33m\u001b[0m\u001b[0m\n\u001b[1;32m----> 8\u001b[1;33m     \u001b[0msolution_arctic_bis\u001b[0m\u001b[1;33m=\u001b[0m\u001b[0mminimize\u001b[0m\u001b[1;33m(\u001b[0m\u001b[0mf_spatial\u001b[0m\u001b[1;33m,\u001b[0m \u001b[0mparams0\u001b[0m\u001b[1;33m,\u001b[0m \u001b[0margs\u001b[0m\u001b[1;33m=\u001b[0m\u001b[1;33m(\u001b[0m\u001b[0mX_arctic\u001b[0m\u001b[1;33m,\u001b[0m \u001b[0mY_arctic\u001b[0m\u001b[1;33m,\u001b[0m \u001b[0mZ_arctic\u001b[0m\u001b[1;33m,\u001b[0m \u001b[0mW_arctic\u001b[0m\u001b[1;33m)\u001b[0m\u001b[1;33m,\u001b[0m \u001b[0mbounds\u001b[0m\u001b[1;33m=\u001b[0m\u001b[0mbounds\u001b[0m\u001b[1;33m)\u001b[0m\u001b[1;33m\u001b[0m\u001b[1;33m\u001b[0m\u001b[0m\n\u001b[0m\u001b[0;32m      9\u001b[0m \u001b[1;33m\u001b[0m\u001b[0m\n\u001b[0;32m     10\u001b[0m     \u001b[0mbeta_arctic\u001b[0m \u001b[1;33m=\u001b[0m \u001b[0msolution_arctic_bis\u001b[0m\u001b[1;33m.\u001b[0m\u001b[0mx\u001b[0m\u001b[1;33m[\u001b[0m\u001b[1;33m:\u001b[0m\u001b[0mn_features\u001b[0m\u001b[1;33m*\u001b[0m\u001b[0mn_classes\u001b[0m\u001b[1;33m]\u001b[0m\u001b[1;33m.\u001b[0m\u001b[0mreshape\u001b[0m\u001b[1;33m(\u001b[0m\u001b[1;33m(\u001b[0m\u001b[0mn_features\u001b[0m\u001b[1;33m,\u001b[0m\u001b[0mn_classes\u001b[0m\u001b[1;33m)\u001b[0m\u001b[1;33m)\u001b[0m\u001b[1;33m\u001b[0m\u001b[1;33m\u001b[0m\u001b[0m\n",
      "\u001b[1;32m~\\Anaconda3\\lib\\site-packages\\scipy\\optimize\\_minimize.py\u001b[0m in \u001b[0;36mminimize\u001b[1;34m(fun, x0, args, method, jac, hess, hessp, bounds, constraints, tol, callback, options)\u001b[0m\n\u001b[0;32m    697\u001b[0m                                  **options)\n\u001b[0;32m    698\u001b[0m     \u001b[1;32melif\u001b[0m \u001b[0mmeth\u001b[0m \u001b[1;33m==\u001b[0m \u001b[1;34m'l-bfgs-b'\u001b[0m\u001b[1;33m:\u001b[0m\u001b[1;33m\u001b[0m\u001b[1;33m\u001b[0m\u001b[0m\n\u001b[1;32m--> 699\u001b[1;33m         res = _minimize_lbfgsb(fun, x0, args, jac, bounds,\n\u001b[0m\u001b[0;32m    700\u001b[0m                                callback=callback, **options)\n\u001b[0;32m    701\u001b[0m     \u001b[1;32melif\u001b[0m \u001b[0mmeth\u001b[0m \u001b[1;33m==\u001b[0m \u001b[1;34m'tnc'\u001b[0m\u001b[1;33m:\u001b[0m\u001b[1;33m\u001b[0m\u001b[1;33m\u001b[0m\u001b[0m\n",
      "\u001b[1;32m~\\Anaconda3\\lib\\site-packages\\scipy\\optimize\\_lbfgsb_py.py\u001b[0m in \u001b[0;36m_minimize_lbfgsb\u001b[1;34m(fun, x0, args, jac, bounds, disp, maxcor, ftol, gtol, eps, maxfun, maxiter, iprint, callback, maxls, finite_diff_rel_step, **unknown_options)\u001b[0m\n\u001b[0;32m    306\u001b[0m             \u001b[0miprint\u001b[0m \u001b[1;33m=\u001b[0m \u001b[0mdisp\u001b[0m\u001b[1;33m\u001b[0m\u001b[1;33m\u001b[0m\u001b[0m\n\u001b[0;32m    307\u001b[0m \u001b[1;33m\u001b[0m\u001b[0m\n\u001b[1;32m--> 308\u001b[1;33m     sf = _prepare_scalar_function(fun, x0, jac=jac, args=args, epsilon=eps,\n\u001b[0m\u001b[0;32m    309\u001b[0m                                   \u001b[0mbounds\u001b[0m\u001b[1;33m=\u001b[0m\u001b[0mnew_bounds\u001b[0m\u001b[1;33m,\u001b[0m\u001b[1;33m\u001b[0m\u001b[1;33m\u001b[0m\u001b[0m\n\u001b[0;32m    310\u001b[0m                                   finite_diff_rel_step=finite_diff_rel_step)\n",
      "\u001b[1;32m~\\Anaconda3\\lib\\site-packages\\scipy\\optimize\\_optimize.py\u001b[0m in \u001b[0;36m_prepare_scalar_function\u001b[1;34m(fun, x0, jac, args, bounds, epsilon, finite_diff_rel_step, hess)\u001b[0m\n\u001b[0;32m    261\u001b[0m     \u001b[1;31m# ScalarFunction caches. Reuse of fun(x) during grad\u001b[0m\u001b[1;33m\u001b[0m\u001b[1;33m\u001b[0m\u001b[0m\n\u001b[0;32m    262\u001b[0m     \u001b[1;31m# calculation reduces overall function evaluations.\u001b[0m\u001b[1;33m\u001b[0m\u001b[1;33m\u001b[0m\u001b[0m\n\u001b[1;32m--> 263\u001b[1;33m     sf = ScalarFunction(fun, x0, args, grad, hess,\n\u001b[0m\u001b[0;32m    264\u001b[0m                         finite_diff_rel_step, bounds, epsilon=epsilon)\n\u001b[0;32m    265\u001b[0m \u001b[1;33m\u001b[0m\u001b[0m\n",
      "\u001b[1;32m~\\Anaconda3\\lib\\site-packages\\scipy\\optimize\\_differentiable_functions.py\u001b[0m in \u001b[0;36m__init__\u001b[1;34m(self, fun, x0, args, grad, hess, finite_diff_rel_step, finite_diff_bounds, epsilon)\u001b[0m\n\u001b[0;32m    156\u001b[0m \u001b[1;33m\u001b[0m\u001b[0m\n\u001b[0;32m    157\u001b[0m         \u001b[0mself\u001b[0m\u001b[1;33m.\u001b[0m\u001b[0m_update_fun_impl\u001b[0m \u001b[1;33m=\u001b[0m \u001b[0mupdate_fun\u001b[0m\u001b[1;33m\u001b[0m\u001b[1;33m\u001b[0m\u001b[0m\n\u001b[1;32m--> 158\u001b[1;33m         \u001b[0mself\u001b[0m\u001b[1;33m.\u001b[0m\u001b[0m_update_fun\u001b[0m\u001b[1;33m(\u001b[0m\u001b[1;33m)\u001b[0m\u001b[1;33m\u001b[0m\u001b[1;33m\u001b[0m\u001b[0m\n\u001b[0m\u001b[0;32m    159\u001b[0m \u001b[1;33m\u001b[0m\u001b[0m\n\u001b[0;32m    160\u001b[0m         \u001b[1;31m# Gradient evaluation\u001b[0m\u001b[1;33m\u001b[0m\u001b[1;33m\u001b[0m\u001b[0m\n",
      "\u001b[1;32m~\\Anaconda3\\lib\\site-packages\\scipy\\optimize\\_differentiable_functions.py\u001b[0m in \u001b[0;36m_update_fun\u001b[1;34m(self)\u001b[0m\n\u001b[0;32m    249\u001b[0m     \u001b[1;32mdef\u001b[0m \u001b[0m_update_fun\u001b[0m\u001b[1;33m(\u001b[0m\u001b[0mself\u001b[0m\u001b[1;33m)\u001b[0m\u001b[1;33m:\u001b[0m\u001b[1;33m\u001b[0m\u001b[1;33m\u001b[0m\u001b[0m\n\u001b[0;32m    250\u001b[0m         \u001b[1;32mif\u001b[0m \u001b[1;32mnot\u001b[0m \u001b[0mself\u001b[0m\u001b[1;33m.\u001b[0m\u001b[0mf_updated\u001b[0m\u001b[1;33m:\u001b[0m\u001b[1;33m\u001b[0m\u001b[1;33m\u001b[0m\u001b[0m\n\u001b[1;32m--> 251\u001b[1;33m             \u001b[0mself\u001b[0m\u001b[1;33m.\u001b[0m\u001b[0m_update_fun_impl\u001b[0m\u001b[1;33m(\u001b[0m\u001b[1;33m)\u001b[0m\u001b[1;33m\u001b[0m\u001b[1;33m\u001b[0m\u001b[0m\n\u001b[0m\u001b[0;32m    252\u001b[0m             \u001b[0mself\u001b[0m\u001b[1;33m.\u001b[0m\u001b[0mf_updated\u001b[0m \u001b[1;33m=\u001b[0m \u001b[1;32mTrue\u001b[0m\u001b[1;33m\u001b[0m\u001b[1;33m\u001b[0m\u001b[0m\n\u001b[0;32m    253\u001b[0m \u001b[1;33m\u001b[0m\u001b[0m\n",
      "\u001b[1;32m~\\Anaconda3\\lib\\site-packages\\scipy\\optimize\\_differentiable_functions.py\u001b[0m in \u001b[0;36mupdate_fun\u001b[1;34m()\u001b[0m\n\u001b[0;32m    153\u001b[0m \u001b[1;33m\u001b[0m\u001b[0m\n\u001b[0;32m    154\u001b[0m         \u001b[1;32mdef\u001b[0m \u001b[0mupdate_fun\u001b[0m\u001b[1;33m(\u001b[0m\u001b[1;33m)\u001b[0m\u001b[1;33m:\u001b[0m\u001b[1;33m\u001b[0m\u001b[1;33m\u001b[0m\u001b[0m\n\u001b[1;32m--> 155\u001b[1;33m             \u001b[0mself\u001b[0m\u001b[1;33m.\u001b[0m\u001b[0mf\u001b[0m \u001b[1;33m=\u001b[0m \u001b[0mfun_wrapped\u001b[0m\u001b[1;33m(\u001b[0m\u001b[0mself\u001b[0m\u001b[1;33m.\u001b[0m\u001b[0mx\u001b[0m\u001b[1;33m)\u001b[0m\u001b[1;33m\u001b[0m\u001b[1;33m\u001b[0m\u001b[0m\n\u001b[0m\u001b[0;32m    156\u001b[0m \u001b[1;33m\u001b[0m\u001b[0m\n\u001b[0;32m    157\u001b[0m         \u001b[0mself\u001b[0m\u001b[1;33m.\u001b[0m\u001b[0m_update_fun_impl\u001b[0m \u001b[1;33m=\u001b[0m \u001b[0mupdate_fun\u001b[0m\u001b[1;33m\u001b[0m\u001b[1;33m\u001b[0m\u001b[0m\n",
      "\u001b[1;32m~\\Anaconda3\\lib\\site-packages\\scipy\\optimize\\_differentiable_functions.py\u001b[0m in \u001b[0;36mfun_wrapped\u001b[1;34m(x)\u001b[0m\n\u001b[0;32m    135\u001b[0m             \u001b[1;31m# Overwriting results in undefined behaviour because\u001b[0m\u001b[1;33m\u001b[0m\u001b[1;33m\u001b[0m\u001b[0m\n\u001b[0;32m    136\u001b[0m             \u001b[1;31m# fun(self.x) will change self.x, with the two no longer linked.\u001b[0m\u001b[1;33m\u001b[0m\u001b[1;33m\u001b[0m\u001b[0m\n\u001b[1;32m--> 137\u001b[1;33m             \u001b[0mfx\u001b[0m \u001b[1;33m=\u001b[0m \u001b[0mfun\u001b[0m\u001b[1;33m(\u001b[0m\u001b[0mnp\u001b[0m\u001b[1;33m.\u001b[0m\u001b[0mcopy\u001b[0m\u001b[1;33m(\u001b[0m\u001b[0mx\u001b[0m\u001b[1;33m)\u001b[0m\u001b[1;33m,\u001b[0m \u001b[1;33m*\u001b[0m\u001b[0margs\u001b[0m\u001b[1;33m)\u001b[0m\u001b[1;33m\u001b[0m\u001b[1;33m\u001b[0m\u001b[0m\n\u001b[0m\u001b[0;32m    138\u001b[0m             \u001b[1;31m# Make sure the function returns a true scalar\u001b[0m\u001b[1;33m\u001b[0m\u001b[1;33m\u001b[0m\u001b[0m\n\u001b[0;32m    139\u001b[0m             \u001b[1;32mif\u001b[0m \u001b[1;32mnot\u001b[0m \u001b[0mnp\u001b[0m\u001b[1;33m.\u001b[0m\u001b[0misscalar\u001b[0m\u001b[1;33m(\u001b[0m\u001b[0mfx\u001b[0m\u001b[1;33m)\u001b[0m\u001b[1;33m:\u001b[0m\u001b[1;33m\u001b[0m\u001b[1;33m\u001b[0m\u001b[0m\n",
      "\u001b[1;32m~\\AppData\\Local\\Temp\\ipykernel_4920\\2777488249.py\u001b[0m in \u001b[0;36mf_spatial\u001b[1;34m(x, X, Y, Z, W, epsilon)\u001b[0m\n\u001b[0;32m      9\u001b[0m     \u001b[0mMinv\u001b[0m \u001b[1;33m=\u001b[0m \u001b[0mnp\u001b[0m\u001b[1;33m.\u001b[0m\u001b[0mlinalg\u001b[0m\u001b[1;33m.\u001b[0m\u001b[0minv\u001b[0m\u001b[1;33m(\u001b[0m\u001b[0mnp\u001b[0m\u001b[1;33m.\u001b[0m\u001b[0midentity\u001b[0m\u001b[1;33m(\u001b[0m\u001b[0mn\u001b[0m\u001b[1;33m)\u001b[0m \u001b[1;33m-\u001b[0m \u001b[0mrho\u001b[0m\u001b[1;33m*\u001b[0m\u001b[0mW\u001b[0m\u001b[1;33m)\u001b[0m\u001b[1;33m\u001b[0m\u001b[1;33m\u001b[0m\u001b[0m\n\u001b[0;32m     10\u001b[0m     \u001b[0mmu\u001b[0m \u001b[1;33m=\u001b[0m \u001b[0mdirichlet_regression\u001b[0m\u001b[1;33m.\u001b[0m\u001b[0mcompute_mu_spatial_2\u001b[0m\u001b[1;33m(\u001b[0m\u001b[0mX\u001b[0m\u001b[1;33m,\u001b[0m \u001b[0mbeta\u001b[0m\u001b[1;33m,\u001b[0m \u001b[0mrho\u001b[0m\u001b[1;33m=\u001b[0m\u001b[0mrho\u001b[0m\u001b[1;33m,\u001b[0m \u001b[0mW\u001b[0m\u001b[1;33m=\u001b[0m\u001b[0mW\u001b[0m\u001b[1;33m,\u001b[0m \u001b[0mMinv\u001b[0m\u001b[1;33m=\u001b[0m\u001b[0mMinv\u001b[0m\u001b[1;33m)\u001b[0m\u001b[1;33m\u001b[0m\u001b[1;33m\u001b[0m\u001b[0m\n\u001b[1;32m---> 11\u001b[1;33m     \u001b[0mphi\u001b[0m \u001b[1;33m=\u001b[0m \u001b[0mnp\u001b[0m\u001b[1;33m.\u001b[0m\u001b[0mexp\u001b[0m\u001b[1;33m(\u001b[0m\u001b[0mnp\u001b[0m\u001b[1;33m.\u001b[0m\u001b[0mmatmul\u001b[0m\u001b[1;33m(\u001b[0m\u001b[0mZ\u001b[0m\u001b[1;33m,\u001b[0m\u001b[0mgamma_var\u001b[0m\u001b[1;33m)\u001b[0m\u001b[1;33m)\u001b[0m\u001b[1;33m\u001b[0m\u001b[1;33m\u001b[0m\u001b[0m\n\u001b[0m\u001b[0;32m     12\u001b[0m     \u001b[1;31m#alpha = np.copy(mu)\u001b[0m\u001b[1;33m\u001b[0m\u001b[1;33m\u001b[0m\u001b[0m\n\u001b[0;32m     13\u001b[0m     \u001b[1;31m#for i in range(mu.shape[-1]):\u001b[0m\u001b[1;33m\u001b[0m\u001b[1;33m\u001b[0m\u001b[0m\n",
      "\u001b[1;31mValueError\u001b[0m: matmul: Input operand 1 has a mismatch in its core dimension 0, with gufunc signature (n?,k),(k,m?)->(n?,m?) (size 4 is different from 1)"
     ]
    }
   ],
   "source": [
    "list_r2 = []\n",
    "list_ll = []\n",
    "\n",
    "for nneighbors in range(3,36):\n",
    "    neighbors = NearestNeighbors(n_neighbors=nneighbors).fit(X_arctic)\n",
    "    W_arctic = neighbors.kneighbors_graph(X_arctic,mode='distance').toarray()\n",
    "    W_arctic = W_arctic/W_arctic.sum(axis=1)[:,None]\n",
    "    solution_arctic_bis=minimize(f_spatial, params0, args=(X_arctic, Y_arctic, Z_arctic, W_arctic), bounds=bounds)\n",
    "    \n",
    "    beta_arctic = solution_arctic_bis.x[:n_features*n_classes].reshape((n_features,n_classes))\n",
    "    rho_arctic = solution_arctic_bis.x[-1]\n",
    "    mu_arctic = dirichlet_regression.compute_mu_spatial(X_arctic, beta_arctic, rho_arctic, W_arctic)\n",
    "    gamma_var_arctic = solution_arctic_bis.x[n_features*n_classes:-1]\n",
    "    phi_arctic = np.exp(np.matmul(Z_arctic,gamma_var_arctic))\n",
    "    \n",
    "    list_r2.append(r2_score(Y_arctic,mu_arctic))\n",
    "    list_ll.append(dirichlet_regression.dirichlet_loglikelihood(mu_arctic,phi_arctic,Y_arctic))"
   ]
  },
  {
   "cell_type": "code",
   "execution_count": 159,
   "metadata": {},
   "outputs": [
    {
     "data": {
      "image/png": "[encoded data removed]",
      "text/plain": [
       "<Figure size 640x480 with 1 Axes>"
      ]
     },
     "metadata": {},
     "output_type": "display_data"
    }
   ],
   "source": [
    "plt.plot(np.arange(3,36),list_r2)\n",
    "plt.plot(np.arange(3,36),list_ll/np.max(list_ll))\n",
    "plt.show()"
   ]
  },
  {
   "cell_type": "markdown",
   "metadata": {},
   "source": [
    "## With an intercept"
   ]
  },
  {
   "cell_type": "code",
   "execution_count": 125,
   "metadata": {},
   "outputs": [],
   "source": [
    "X_arctic_1 = np.ones((39,2))\n",
    "X_arctic_1[:,1] = X_arctic[:,0]"
   ]
  },
  {
   "cell_type": "code",
   "execution_count": 126,
   "metadata": {},
   "outputs": [],
   "source": [
    "X_arctic_1_bis = np.ones((39,2))\n",
    "X_arctic_1_bis[:,1] = X_arctic[:,0]/np.max(X_arctic)"
   ]
  },
  {
   "cell_type": "code",
   "execution_count": 160,
   "metadata": {},
   "outputs": [],
   "source": [
    "#beta0 = np.array([[0., -0.3, -1.1],[ 0., 0.05, 0.06]])\n",
    "beta0 = np.array([[0., 0., 0.],[ 0., 0., 0.]])\n",
    "gamma0 = [0]\n",
    "rho0 = [0.]\n",
    "\n",
    "params0 = np.concatenate([beta0.flatten(),gamma0,rho0])"
   ]
  },
  {
   "cell_type": "code",
   "execution_count": 161,
   "metadata": {},
   "outputs": [],
   "source": [
    "min_bounds_1 = -np.inf*np.ones(len(params0)) \n",
    "max_bounds_1 = np.inf*np.ones(len(params0))\n",
    "min_bounds_1[-1] = -1\n",
    "max_bounds_1[-1] = 1\n",
    "bounds = Bounds(min_bounds_1, max_bounds_1)"
   ]
  },
  {
   "cell_type": "code",
   "execution_count": 129,
   "metadata": {
    "scrolled": true
   },
   "outputs": [
    {
     "name": "stdout",
     "output_type": "stream",
     "text": [
      "Wall time: 765 ms\n"
     ]
    }
   ],
   "source": [
    "%%time\n",
    "solution_arctic_bis=minimize(f_spatial, params0, args=(X_arctic_1_bis, Y_arctic, Z_arctic, W_arctic), bounds=bounds)"
   ]
  },
  {
   "cell_type": "code",
   "execution_count": 130,
   "metadata": {},
   "outputs": [
    {
     "data": {
      "text/plain": [
       "'CONVERGENCE: REL_REDUCTION_OF_F_<=_FACTR*EPSMCH'"
      ]
     },
     "execution_count": 130,
     "metadata": {},
     "output_type": "execute_result"
    }
   ],
   "source": [
    "solution_arctic_bis.message"
   ]
  },
  {
   "cell_type": "code",
   "execution_count": 131,
   "metadata": {},
   "outputs": [],
   "source": [
    "beta_arctic_1 = solution_arctic_bis.x[:(n_features+1)*n_classes].reshape((n_features+1,n_classes))\n",
    "rho_arctic_1 = solution_arctic_bis.x[-1]"
   ]
  },
  {
   "cell_type": "code",
   "execution_count": 132,
   "metadata": {},
   "outputs": [],
   "source": [
    "X_new_1 = np.arange(10.4,103.7,0.5)\n",
    "X_new_1 = np.array([[1., j] for j in X_new_1])"
   ]
  },
  {
   "cell_type": "code",
   "execution_count": 133,
   "metadata": {},
   "outputs": [],
   "source": [
    "mu_arctic_1 = dirichlet_regression.compute_mu_spatial(X_arctic_1_bis, beta_arctic_1, rho_arctic_1, W_arctic)\n",
    "\n",
    "gamma_var_arctic_1 = solution_arctic_bis.x[(n_features+1)*n_classes:-1]\n",
    "phi_arctic_1 = np.exp(np.matmul(Z_arctic,gamma_var_arctic_1))"
   ]
  },
  {
   "cell_type": "code",
   "execution_count": 134,
   "metadata": {},
   "outputs": [
    {
     "data": {
      "image/png": "[encoded data removed]",
      "text/plain": [
       "<Figure size 640x480 with 1 Axes>"
      ]
     },
     "metadata": {},
     "output_type": "display_data"
    }
   ],
   "source": [
    "plt.scatter(X_arctic,Y_arctic[:,0],label='Sand')\n",
    "plt.scatter(X_arctic,Y_arctic[:,1],label='Silt')\n",
    "plt.scatter(X_arctic,Y_arctic[:,2],label='Clay')\n",
    "plt.plot(X_arctic, mu_arctic_1)\n",
    "plt.legend()\n",
    "plt.show()"
   ]
  },
  {
   "cell_type": "code",
   "execution_count": 135,
   "metadata": {},
   "outputs": [
    {
     "data": {
      "text/plain": [
       "array([ 0.        , -0.2991497 , -0.81812532,  0.        ,  1.43550448,\n",
       "        2.0790273 ,  2.63656655,  0.64630182])"
      ]
     },
     "execution_count": 135,
     "metadata": {},
     "output_type": "execute_result"
    }
   ],
   "source": [
    "solution_arctic_bis.x"
   ]
  },
  {
   "cell_type": "code",
   "execution_count": 136,
   "metadata": {},
   "outputs": [
    {
     "data": {
      "text/plain": [
       "0.5920259605753753"
      ]
     },
     "execution_count": 136,
     "metadata": {},
     "output_type": "execute_result"
    }
   ],
   "source": [
    "r2_score(Y_arctic,mu_arctic_1)"
   ]
  },
  {
   "cell_type": "markdown",
   "metadata": {},
   "source": [
    "### Find the best number of neighbors"
   ]
  },
  {
   "cell_type": "code",
   "execution_count": 164,
   "metadata": {},
   "outputs": [
    {
     "name": "stderr",
     "output_type": "stream",
     "text": [
      "C:\\Users\\46660461\\Documents\\GitHub\\maupiti\\dirichlet_regression.py:79: RuntimeWarning: overflow encountered in exp\n",
      "  mu[i,j] = 1/np.sum(np.exp(MXbeta[i]-MXbeta[i,j]))\n",
      "C:\\Users\\46660461\\Anaconda3\\lib\\site-packages\\scipy\\optimize\\_numdiff.py:576: RuntimeWarning: invalid value encountered in subtract\n",
      "  df = fun(x) - f0\n",
      "C:\\Users\\46660461\\Documents\\GitHub\\maupiti\\dirichlet_regression.py:79: RuntimeWarning: overflow encountered in exp\n",
      "  mu[i,j] = 1/np.sum(np.exp(MXbeta[i]-MXbeta[i,j]))\n",
      "C:\\Users\\46660461\\Anaconda3\\lib\\site-packages\\scipy\\optimize\\_numdiff.py:576: RuntimeWarning: invalid value encountered in subtract\n",
      "  df = fun(x) - f0\n",
      "C:\\Users\\46660461\\Documents\\GitHub\\maupiti\\dirichlet_regression.py:79: RuntimeWarning: overflow encountered in exp\n",
      "  mu[i,j] = 1/np.sum(np.exp(MXbeta[i]-MXbeta[i,j]))\n",
      "C:\\Users\\46660461\\Anaconda3\\lib\\site-packages\\scipy\\optimize\\_numdiff.py:576: RuntimeWarning: invalid value encountered in subtract\n",
      "  df = fun(x) - f0\n",
      "C:\\Users\\46660461\\Documents\\GitHub\\maupiti\\dirichlet_regression.py:79: RuntimeWarning: overflow encountered in exp\n",
      "  mu[i,j] = 1/np.sum(np.exp(MXbeta[i]-MXbeta[i,j]))\n",
      "C:\\Users\\46660461\\Anaconda3\\lib\\site-packages\\scipy\\optimize\\_numdiff.py:576: RuntimeWarning: invalid value encountered in subtract\n",
      "  df = fun(x) - f0\n",
      "C:\\Users\\46660461\\Documents\\GitHub\\maupiti\\dirichlet_regression.py:79: RuntimeWarning: overflow encountered in exp\n",
      "  mu[i,j] = 1/np.sum(np.exp(MXbeta[i]-MXbeta[i,j]))\n",
      "C:\\Users\\46660461\\Anaconda3\\lib\\site-packages\\scipy\\optimize\\_numdiff.py:576: RuntimeWarning: invalid value encountered in subtract\n",
      "  df = fun(x) - f0\n",
      "C:\\Users\\46660461\\Documents\\GitHub\\maupiti\\dirichlet_regression.py:79: RuntimeWarning: overflow encountered in exp\n",
      "  mu[i,j] = 1/np.sum(np.exp(MXbeta[i]-MXbeta[i,j]))\n",
      "C:\\Users\\46660461\\Anaconda3\\lib\\site-packages\\scipy\\optimize\\_numdiff.py:576: RuntimeWarning: invalid value encountered in subtract\n",
      "  df = fun(x) - f0\n",
      "C:\\Users\\46660461\\Documents\\GitHub\\maupiti\\dirichlet_regression.py:79: RuntimeWarning: overflow encountered in exp\n",
      "  mu[i,j] = 1/np.sum(np.exp(MXbeta[i]-MXbeta[i,j]))\n",
      "C:\\Users\\46660461\\Anaconda3\\lib\\site-packages\\scipy\\optimize\\_numdiff.py:576: RuntimeWarning: invalid value encountered in subtract\n",
      "  df = fun(x) - f0\n"
     ]
    }
   ],
   "source": [
    "list_r2_1 = []\n",
    "list_ll_1 = []\n",
    "\n",
    "for nneighbors in range(3,36):\n",
    "    neighbors = NearestNeighbors(n_neighbors=nneighbors).fit(X_arctic)\n",
    "    W_arctic = neighbors.kneighbors_graph(X_arctic,mode='distance').toarray()\n",
    "    W_arctic = W_arctic/W_arctic.sum(axis=1)[:,None]\n",
    "    solution_arctic_bis=minimize(f_spatial, params0, args=(X_arctic_1_bis, Y_arctic, Z_arctic, W_arctic), bounds=bounds)\n",
    "    \n",
    "    beta_arctic_1 = solution_arctic_bis.x[:(n_features+1)*n_classes].reshape((n_features+1,n_classes))\n",
    "    rho_arctic_1 = solution_arctic_bis.x[-1]\n",
    "    mu_arctic_1 = dirichlet_regression.compute_mu_spatial(X_arctic_1_bis, beta_arctic_1, rho_arctic_1, W_arctic)\n",
    "    gamma_var_arctic_1 = solution_arctic_bis.x[(n_features+1)*n_classes:-1]\n",
    "    phi_arctic_1 = np.exp(np.matmul(Z_arctic,gamma_var_arctic_1))\n",
    "    \n",
    "    list_r2_1.append(r2_score(Y_arctic,mu_arctic_1))\n",
    "    list_ll_1.append(dirichlet_regression.dirichlet_loglikelihood(mu_arctic_1,phi_arctic_1,Y_arctic))"
   ]
  },
  {
   "cell_type": "code",
   "execution_count": 165,
   "metadata": {},
   "outputs": [
    {
     "data": {
      "image/png": "[encoded data removed]",
      "text/plain": [
       "<Figure size 640x480 with 1 Axes>"
      ]
     },
     "metadata": {},
     "output_type": "display_data"
    }
   ],
   "source": [
    "plt.plot(np.arange(3,36),list_r2_1)\n",
    "plt.plot(np.arange(3,36),list_ll_1/np.max(list_ll_1))\n",
    "plt.show()"
   ]
  },
  {
   "cell_type": "code",
   "execution_count": 171,
   "metadata": {},
   "outputs": [
    {
     "data": {
      "text/plain": [
       "0.6252796267725582"
      ]
     },
     "execution_count": 171,
     "metadata": {},
     "output_type": "execute_result"
    }
   ],
   "source": [
    "np.max(list_r2_1)"
   ]
  },
  {
   "cell_type": "markdown",
   "metadata": {},
   "source": [
    "## With X^2"
   ]
  },
  {
   "cell_type": "code",
   "execution_count": 222,
   "metadata": {},
   "outputs": [],
   "source": [
    "X_arctic_2 = np.ones((39,3))\n",
    "X_arctic_2[:,1] = X_arctic[:,0]\n",
    "X_arctic_2[:,2] = X_arctic[:,0]**2"
   ]
  },
  {
   "cell_type": "code",
   "execution_count": 223,
   "metadata": {},
   "outputs": [],
   "source": [
    "X_arctic_2_bis = np.ones((39,3))\n",
    "X_arctic_2_bis[:,1] = X_arctic[:,0]/np.max(X_arctic)\n",
    "X_arctic_2_bis[:,2] = X_arctic_2_bis[:,1]**2"
   ]
  },
  {
   "cell_type": "code",
   "execution_count": 224,
   "metadata": {},
   "outputs": [],
   "source": [
    "#beta0 = np.array([[ 0., -1.5, -3.], [0, 0.05, 0.1], [0., 0.01, 0.01]])\n",
    "#gamma0 = [2.]\n",
    "beta0 = np.array([[ 0., 0., 0.], [0, 0., 0.], [0., 0., 0.]])\n",
    "gamma0 = [0.]\n",
    "rho0 = [0.]\n",
    "params0 = np.concatenate([beta0.flatten(),gamma0,rho0])"
   ]
  },
  {
   "cell_type": "code",
   "execution_count": 225,
   "metadata": {},
   "outputs": [],
   "source": [
    "min_bounds_2 = -np.inf*np.ones(len(params0)) \n",
    "max_bounds_2 = np.inf*np.ones(len(params0))\n",
    "min_bounds_2[-1] = -1\n",
    "max_bounds_2[-1] = 1\n",
    "bounds_2 = Bounds(min_bounds_2, max_bounds_2)"
   ]
  },
  {
   "cell_type": "code",
   "execution_count": 226,
   "metadata": {},
   "outputs": [
    {
     "name": "stdout",
     "output_type": "stream",
     "text": [
      "Wall time: 1.45 s\n"
     ]
    }
   ],
   "source": [
    "%%time\n",
    "solution_arctic_bis=minimize(f_spatial, params0, args=(X_arctic_2_bis, Y_arctic, Z_arctic, W_arctic))"
   ]
  },
  {
   "cell_type": "code",
   "execution_count": 227,
   "metadata": {},
   "outputs": [
    {
     "data": {
      "text/plain": [
       "'Optimization terminated successfully.'"
      ]
     },
     "execution_count": 227,
     "metadata": {},
     "output_type": "execute_result"
    }
   ],
   "source": [
    "solution_arctic_bis.message"
   ]
  },
  {
   "cell_type": "code",
   "execution_count": 228,
   "metadata": {},
   "outputs": [],
   "source": [
    "beta_arctic_2 = solution_arctic_bis.x[:(n_features+2)*n_classes].reshape((n_features+2,n_classes))\n",
    "rho_arctic_2 = solution_arctic_bis.x[-1]"
   ]
  },
  {
   "cell_type": "code",
   "execution_count": 229,
   "metadata": {},
   "outputs": [],
   "source": [
    "X_new_2 = np.arange(10.4,103.7,0.5)\n",
    "X_new_2 = np.array([[1., j, j**2] for j in X_new_2])"
   ]
  },
  {
   "cell_type": "code",
   "execution_count": 230,
   "metadata": {},
   "outputs": [],
   "source": [
    "mu_arctic_2 = dirichlet_regression.compute_mu_spatial(X_arctic_2_bis, beta_arctic_2, rho_arctic_2, W_arctic)\n",
    "\n",
    "gamma_var_arctic_2 = solution_arctic_bis.x[(n_features+2)*n_classes:-1]\n",
    "phi_arctic_2 = np.exp(np.matmul(Z_arctic,gamma_var_arctic_2))"
   ]
  },
  {
   "cell_type": "code",
   "execution_count": 231,
   "metadata": {},
   "outputs": [
    {
     "data": {
      "image/png": "[encoded data removed]",
      "text/plain": [
       "<Figure size 640x480 with 1 Axes>"
      ]
     },
     "metadata": {},
     "output_type": "display_data"
    }
   ],
   "source": [
    "plt.scatter(X_arctic,Y_arctic[:,0],label='Sand')\n",
    "plt.scatter(X_arctic,Y_arctic[:,1],label='Silt')\n",
    "plt.scatter(X_arctic,Y_arctic[:,2],label='Clay')\n",
    "plt.plot(X_arctic, mu_arctic_2)\n",
    "plt.legend()\n",
    "plt.show()"
   ]
  },
  {
   "cell_type": "code",
   "execution_count": 232,
   "metadata": {
    "scrolled": true
   },
   "outputs": [
    {
     "data": {
      "text/plain": [
       "array([  0.        ,  -2.05978796,  -4.48694937,   0.        ,\n",
       "        10.37853896,  17.01717909,   0.        ,  -6.62608264,\n",
       "       -10.92576225,   2.94757955,   0.14484479])"
      ]
     },
     "execution_count": 232,
     "metadata": {},
     "output_type": "execute_result"
    }
   ],
   "source": [
    "solution_arctic_bis.x"
   ]
  },
  {
   "cell_type": "code",
   "execution_count": 233,
   "metadata": {
    "scrolled": true
   },
   "outputs": [
    {
     "data": {
      "text/plain": [
       "91.32056051381062"
      ]
     },
     "execution_count": 233,
     "metadata": {},
     "output_type": "execute_result"
    }
   ],
   "source": [
    "dirichlet_regression.dirichlet_loglikelihood(mu_arctic_2,phi_arctic_2,Y_arctic)"
   ]
  },
  {
   "cell_type": "code",
   "execution_count": 234,
   "metadata": {},
   "outputs": [
    {
     "data": {
      "text/plain": [
       "0.6789171167782445"
      ]
     },
     "execution_count": 234,
     "metadata": {},
     "output_type": "execute_result"
    }
   ],
   "source": [
    "r2_score(Y_arctic,mu_arctic_2)"
   ]
  },
  {
   "cell_type": "markdown",
   "metadata": {},
   "source": [
    "### Find the best number of neighbors"
   ]
  },
  {
   "cell_type": "code",
   "execution_count": 205,
   "metadata": {},
   "outputs": [
    {
     "name": "stderr",
     "output_type": "stream",
     "text": [
      "C:\\Users\\46660461\\Documents\\GitHub\\maupiti\\dirichlet_regression.py:79: RuntimeWarning: overflow encountered in exp\n",
      "  mu[i,j] = 1/np.sum(np.exp(MXbeta[i]-MXbeta[i,j]))\n",
      "C:\\Users\\46660461\\Anaconda3\\lib\\site-packages\\scipy\\optimize\\_numdiff.py:576: RuntimeWarning: invalid value encountered in subtract\n",
      "  df = fun(x) - f0\n",
      "C:\\Users\\46660461\\Documents\\GitHub\\maupiti\\dirichlet_regression.py:79: RuntimeWarning: overflow encountered in exp\n",
      "  mu[i,j] = 1/np.sum(np.exp(MXbeta[i]-MXbeta[i,j]))\n",
      "C:\\Users\\46660461\\Anaconda3\\lib\\site-packages\\scipy\\optimize\\_numdiff.py:576: RuntimeWarning: invalid value encountered in subtract\n",
      "  df = fun(x) - f0\n",
      "C:\\Users\\46660461\\Documents\\GitHub\\maupiti\\dirichlet_regression.py:79: RuntimeWarning: overflow encountered in exp\n",
      "  mu[i,j] = 1/np.sum(np.exp(MXbeta[i]-MXbeta[i,j]))\n",
      "C:\\Users\\46660461\\Anaconda3\\lib\\site-packages\\scipy\\optimize\\_numdiff.py:576: RuntimeWarning: invalid value encountered in subtract\n",
      "  df = fun(x) - f0\n",
      "C:\\Users\\46660461\\Documents\\GitHub\\maupiti\\dirichlet_regression.py:79: RuntimeWarning: overflow encountered in exp\n",
      "  mu[i,j] = 1/np.sum(np.exp(MXbeta[i]-MXbeta[i,j]))\n",
      "C:\\Users\\46660461\\Anaconda3\\lib\\site-packages\\scipy\\optimize\\_numdiff.py:576: RuntimeWarning: invalid value encountered in subtract\n",
      "  df = fun(x) - f0\n",
      "C:\\Users\\46660461\\Documents\\GitHub\\maupiti\\dirichlet_regression.py:79: RuntimeWarning: overflow encountered in exp\n",
      "  mu[i,j] = 1/np.sum(np.exp(MXbeta[i]-MXbeta[i,j]))\n",
      "C:\\Users\\46660461\\Anaconda3\\lib\\site-packages\\scipy\\optimize\\_numdiff.py:576: RuntimeWarning: invalid value encountered in subtract\n",
      "  df = fun(x) - f0\n",
      "C:\\Users\\46660461\\Documents\\GitHub\\maupiti\\dirichlet_regression.py:79: RuntimeWarning: overflow encountered in exp\n",
      "  mu[i,j] = 1/np.sum(np.exp(MXbeta[i]-MXbeta[i,j]))\n",
      "C:\\Users\\46660461\\Anaconda3\\lib\\site-packages\\scipy\\optimize\\_numdiff.py:576: RuntimeWarning: invalid value encountered in subtract\n",
      "  df = fun(x) - f0\n",
      "C:\\Users\\46660461\\Documents\\GitHub\\maupiti\\dirichlet_regression.py:79: RuntimeWarning: overflow encountered in exp\n",
      "  mu[i,j] = 1/np.sum(np.exp(MXbeta[i]-MXbeta[i,j]))\n",
      "C:\\Users\\46660461\\Anaconda3\\lib\\site-packages\\scipy\\optimize\\_numdiff.py:576: RuntimeWarning: invalid value encountered in subtract\n",
      "  df = fun(x) - f0\n",
      "C:\\Users\\46660461\\Documents\\GitHub\\maupiti\\dirichlet_regression.py:79: RuntimeWarning: overflow encountered in exp\n",
      "  mu[i,j] = 1/np.sum(np.exp(MXbeta[i]-MXbeta[i,j]))\n",
      "C:\\Users\\46660461\\Anaconda3\\lib\\site-packages\\scipy\\optimize\\_numdiff.py:576: RuntimeWarning: invalid value encountered in subtract\n",
      "  df = fun(x) - f0\n",
      "C:\\Users\\46660461\\Documents\\GitHub\\maupiti\\dirichlet_regression.py:79: RuntimeWarning: overflow encountered in exp\n",
      "  mu[i,j] = 1/np.sum(np.exp(MXbeta[i]-MXbeta[i,j]))\n",
      "C:\\Users\\46660461\\Anaconda3\\lib\\site-packages\\scipy\\optimize\\_numdiff.py:576: RuntimeWarning: invalid value encountered in subtract\n",
      "  df = fun(x) - f0\n"
     ]
    }
   ],
   "source": [
    "list_r2_2 = []\n",
    "list_ll_2 = []\n",
    "\n",
    "for nneighbors in range(3,36):\n",
    "    neighbors = NearestNeighbors(n_neighbors=nneighbors).fit(X_arctic)\n",
    "    W_arctic = neighbors.kneighbors_graph(X_arctic,mode='distance').toarray()\n",
    "    W_arctic = W_arctic/W_arctic.sum(axis=1)[:,None]\n",
    "    solution_arctic_bis=minimize(f_spatial, params0, args=(X_arctic_2_bis, Y_arctic, Z_arctic, W_arctic), bounds=bounds_2)\n",
    "    \n",
    "    beta_arctic_2 = solution_arctic_bis.x[:(n_features+2)*n_classes].reshape((n_features+2,n_classes))\n",
    "    rho_arctic_2 = solution_arctic_bis.x[-1]\n",
    "    mu_arctic_2 = dirichlet_regression.compute_mu_spatial(X_arctic_2_bis, beta_arctic_2, rho_arctic_2, W_arctic)\n",
    "    gamma_var_arctic_2 = solution_arctic_bis.x[(n_features+2)*n_classes:-1]\n",
    "    phi_arctic_2 = np.exp(np.matmul(Z_arctic,gamma_var_arctic_2))\n",
    "    \n",
    "    list_r2_2.append(r2_score(Y_arctic,mu_arctic_2))\n",
    "    list_ll_2.append(dirichlet_regression.dirichlet_loglikelihood(mu_arctic_2,phi_arctic_2,Y_arctic))"
   ]
  },
  {
   "cell_type": "code",
   "execution_count": 206,
   "metadata": {},
   "outputs": [
    {
     "data": {
      "image/png": "[encoded data removed]",
      "text/plain": [
       "<Figure size 640x480 with 1 Axes>"
      ]
     },
     "metadata": {},
     "output_type": "display_data"
    }
   ],
   "source": [
    "plt.plot(np.arange(3,36),list_r2_2)\n",
    "plt.plot(np.arange(3,36),list_ll_2/np.max(list_ll_2))\n",
    "plt.show()"
   ]
  },
  {
   "cell_type": "code",
   "execution_count": 207,
   "metadata": {},
   "outputs": [
    {
     "data": {
      "text/plain": [
       "0.7068595788328524"
      ]
     },
     "execution_count": 207,
     "metadata": {},
     "output_type": "execute_result"
    }
   ],
   "source": [
    "np.max(list_r2_2)"
   ]
  },
  {
   "cell_type": "code",
   "execution_count": 208,
   "metadata": {},
   "outputs": [
    {
     "data": {
      "text/plain": [
       "95.8231904617739"
      ]
     },
     "execution_count": 208,
     "metadata": {},
     "output_type": "execute_result"
    }
   ],
   "source": [
    "np.max(list_ll_2)"
   ]
  },
  {
   "cell_type": "markdown",
   "metadata": {},
   "source": [
    "# Using the derivatives"
   ]
  },
  {
   "cell_type": "code",
   "execution_count": 303,
   "metadata": {},
   "outputs": [],
   "source": [
    "def fprime_spatial(x, X, Y, Z, W, epsilon=0):\n",
    "    K = X.shape[-1]\n",
    "    J = Y.shape[-1]\n",
    "    n = X.shape[0]\n",
    "    beta = x[:K*J].reshape((K,J))\n",
    "    beta[:,0] = 0\n",
    "    gamma_var = x[K*J:-1]\n",
    "    rho = x[-1]\n",
    "    Minv = np.linalg.inv(np.identity(n) - rho*W)\n",
    "    MinvX = np.matmul(Minv,X)\n",
    "    mu = dirichlet_regression.compute_mu_spatial_2(X, beta, rho=rho, W=W, MinvX=MinvX)\n",
    "    phi = np.exp(np.matmul(Z,gamma_var))\n",
    "\n",
    "    beta_grad = dirichlet_regression.dirichlet_gradient_wrt_beta(mu, phi, MinvX, Y, epsilon=epsilon)\n",
    "    beta_grad[:,0] = 0\n",
    "    gamma_grad = dirichlet_regression.dirichlet_derivative_wrt_gamma(mu, phi, beta, MinvX, Y, Z, epsilon=epsilon)\n",
    "    rho_derivative = dirichlet_regression.dirichlet_derivative_wrt_rho(mu, phi, Minv, beta, W, X, Y, Z, MinvX, epsilon=epsilon)\n",
    "    return(-np.concatenate([beta_grad.flatten(),gamma_grad,rho_derivative]))"
   ]
  },
  {
   "cell_type": "code",
   "execution_count": null,
   "metadata": {},
   "outputs": [],
   "source": [
    "# TODO : CHECK IF IT WORKS"
   ]
  },
  {
   "cell_type": "code",
   "execution_count": null,
   "metadata": {},
   "outputs": [],
   "source": []
  },
  {
   "cell_type": "code",
   "execution_count": 249,
   "metadata": {},
   "outputs": [
    {
     "data": {
      "text/plain": [
       "271402.53057746124"
      ]
     },
     "execution_count": 249,
     "metadata": {},
     "output_type": "execute_result"
    }
   ],
   "source": [
    "h=0.000001\n",
    "params0_h = np.copy(params0)\n",
    "params0_h[-2] += h \n",
    "(f_arctic(params0_h, X_arctic_2, Y_arctic, Z_arctic)-f_arctic(params0, X_arctic_2, Y_arctic, Z_arctic))/h"
   ]
  },
  {
   "cell_type": "code",
   "execution_count": 250,
   "metadata": {},
   "outputs": [
    {
     "data": {
      "text/plain": [
       "array([-0.00000000e+00,  2.44803858e+00,  4.54959527e+01, -0.00000000e+00,\n",
       "       -1.40671295e+03,  3.41001611e+03, -0.00000000e+00, -1.49382795e+05,\n",
       "        2.71310732e+05,  4.12946026e+01])"
      ]
     },
     "execution_count": 250,
     "metadata": {},
     "output_type": "execute_result"
    }
   ],
   "source": [
    "fprime_arctic(params0, X_arctic_2, Y_arctic, Z_arctic)"
   ]
  },
  {
   "cell_type": "code",
   "execution_count": 412,
   "metadata": {
    "scrolled": true
   },
   "outputs": [
    {
     "name": "stderr",
     "output_type": "stream",
     "text": [
      "C:\\Users\\46660461\\Documents\\GitHub\\maupiti\\dirichlet_regression.py:29: RuntimeWarning: overflow encountered in exp\n",
      "  mu[i,j] = 1/np.sum(np.exp(Xbeta[i]-Xbeta[i,j]))\n",
      "C:\\Users\\46660461\\Documents\\GitHub\\maupiti\\dirichlet_regression.py:38: RuntimeWarning: overflow encountered in exp\n",
      "  I_n = np.identity(n)\n",
      "C:\\Users\\46660461\\Documents\\GitHub\\maupiti\\dirichlet_regression.py:29: RuntimeWarning: overflow encountered in exp\n",
      "  mu[i,j] = 1/np.sum(np.exp(Xbeta[i]-Xbeta[i,j]))\n"
     ]
    },
    {
     "name": "stdout",
     "output_type": "stream",
     "text": [
      "Wall time: 426 ms\n"
     ]
    }
   ],
   "source": [
    "%%time\n",
    "solution_arctic = minimize(f_arctic, params0, args=(X_arctic_2, Y_arctic, Z_arctic), jac=fprime_arctic)"
   ]
  },
  {
   "cell_type": "code",
   "execution_count": 413,
   "metadata": {},
   "outputs": [
    {
     "data": {
      "text/plain": [
       "'Desired error not necessarily achieved due to precision loss.'"
      ]
     },
     "execution_count": 413,
     "metadata": {},
     "output_type": "execute_result"
    }
   ],
   "source": [
    "solution_arctic.message"
   ]
  },
  {
   "cell_type": "code",
   "execution_count": 414,
   "metadata": {},
   "outputs": [],
   "source": [
    "beta_arctic_2 = solution_arctic.x[:(n_features+2)*n_classes].reshape((n_features+2,n_classes))"
   ]
  },
  {
   "cell_type": "code",
   "execution_count": 415,
   "metadata": {},
   "outputs": [],
   "source": [
    "mu_arctic_2 = dirichlet_regression.compute_mu(X_new_2, beta_arctic_2)"
   ]
  },
  {
   "cell_type": "code",
   "execution_count": 416,
   "metadata": {},
   "outputs": [
    {
     "data": {
      "image/png": "[encoded data removed]",
      "text/plain": [
       "<Figure size 640x480 with 1 Axes>"
      ]
     },
     "metadata": {},
     "output_type": "display_data"
    }
   ],
   "source": [
    "plt.scatter(X_arctic,Y_arctic[:,0],label='Sand')\n",
    "plt.scatter(X_arctic,Y_arctic[:,1],label='Silt')\n",
    "plt.scatter(X_arctic,Y_arctic[:,2],label='Clay')\n",
    "plt.plot(X_new, mu_arctic_2)\n",
    "plt.legend()\n",
    "plt.show()"
   ]
  },
  {
   "cell_type": "code",
   "execution_count": null,
   "metadata": {},
   "outputs": [],
   "source": []
  },
  {
   "cell_type": "markdown",
   "metadata": {},
   "source": [
    "## My GD"
   ]
  },
  {
   "cell_type": "code",
   "execution_count": 80,
   "metadata": {},
   "outputs": [
    {
     "data": {
      "text/plain": [
       "array([ 0.  , -1.5 , -4.  ,  0.  ,  0.05,  0.1 ,  0.  ,  0.01,  0.01,\n",
       "        2.  ])"
      ]
     },
     "execution_count": 80,
     "metadata": {},
     "output_type": "execute_result"
    }
   ],
   "source": [
    "params0"
   ]
  },
  {
   "cell_type": "code",
   "execution_count": 81,
   "metadata": {},
   "outputs": [],
   "source": [
    "def gradientDescent(X, Y, Z, params_0, learning_rate=0.001, nitermax=1000, tolmax=1e-3,epsilon=0):\n",
    "    K = X.shape[-1]\n",
    "    J = Y.shape[-1]\n",
    "    current_param = params_0\n",
    "    list_likelihoods = []\n",
    "    list_gradients = []\n",
    "    list_params = [current_param]\n",
    "    \n",
    "    niter=0\n",
    "    tol=1\n",
    "    \n",
    "    current_beta = current_param[:K*J].reshape((K,J))\n",
    "    current_beta[:,0] = 0\n",
    "    current_gamma_var = current_param[K*J:]\n",
    "\n",
    "    while (tol > tolmax) & (niter<nitermax):\n",
    "        current_phi = np.exp(np.matmul(Z,current_gamma_var))\n",
    "        current_mu = dirichlet_regression.compute_mu(X, current_beta)\n",
    "        list_likelihoods.append(dirichlet_regression.dirichlet_loglikelihood(current_mu,current_phi,Y))\n",
    "        \n",
    "        grad = fprime_arctic(current_param,X,Y,Z,epsilon=epsilon)\n",
    "        \n",
    "        list_gradients.append(grad)\n",
    "        # we want to maximize the function, so we add the gradient\n",
    "        old_param = np.copy(current_param)\n",
    "        current_param = current_param - learning_rate * grad\n",
    "        current_beta = current_param[:K*J].reshape((K,J))\n",
    "        current_beta[:,0] = 0\n",
    "        current_gamma_var = current_param[K*J:]\n",
    "        current_param = np.concatenate([current_beta.flatten(),current_gamma_var])\n",
    "        list_params.append(current_param)\n",
    "        \n",
    "        niter+=1\n",
    "        tol = np.sum((current_param - old_param)**2)**0.5\n",
    "        \n",
    "    print('Nb of iterations:',niter)\n",
    "    return(list_params, list_likelihoods, list_gradients)"
   ]
  },
  {
   "cell_type": "code",
   "execution_count": 394,
   "metadata": {},
   "outputs": [
    {
     "name": "stdout",
     "output_type": "stream",
     "text": [
      "Nb of iterations: 10000\n",
      "Wall time: 34.2 s\n"
     ]
    }
   ],
   "source": [
    "%%time\n",
    "list_params, list_likelihoods, list_gradients=gradientDescent(X_arctic_2_bis, Y_arctic, Z_arctic, \n",
    "                                                              params0, \n",
    "                                                              nitermax = 10000, learning_rate=2e-2, tolmax=1e-2)"
   ]
  },
  {
   "cell_type": "code",
   "execution_count": 395,
   "metadata": {},
   "outputs": [],
   "source": [
    "solution_arctic = list_params[-1]"
   ]
  },
  {
   "cell_type": "code",
   "execution_count": 396,
   "metadata": {},
   "outputs": [
    {
     "data": {
      "text/plain": [
       "array([[ 0.        , -0.63579566, -5.69503471],\n",
       "       [ 0.        ,  8.03362598, 13.46590533],\n",
       "       [ 0.        , -4.92296251, -9.19415713]])"
      ]
     },
     "execution_count": 396,
     "metadata": {},
     "output_type": "execute_result"
    }
   ],
   "source": [
    "beta_arctic_2 = solution_arctic[:(n_features+2)*n_classes].reshape((n_features+2,n_classes))\n",
    "beta_arctic_2"
   ]
  },
  {
   "cell_type": "code",
   "execution_count": 399,
   "metadata": {},
   "outputs": [
    {
     "data": {
      "image/png": "[encoded data removed]",
      "text/plain": [
       "<Figure size 640x480 with 1 Axes>"
      ]
     },
     "metadata": {},
     "output_type": "display_data"
    }
   ],
   "source": [
    "mu_arctic_2 = dirichlet_regression.compute_mu(X_new_2, beta_arctic_2)\n",
    "\n",
    "#gamma_var_arctic_2 = solution_arctic_bis[(n_features+2)*n_classes:]\n",
    "#phi_arctic_2 = np.exp(np.matmul(Z_arctic,gamma_var_arctic_2))\n",
    "\n",
    "plt.scatter(X_arctic,Y_arctic[:,0],label='Sand')\n",
    "plt.scatter(X_arctic,Y_arctic[:,1],label='Silt')\n",
    "plt.scatter(X_arctic,Y_arctic[:,2],label='Clay')\n",
    "plt.plot(X_new, mu_arctic_2)\n",
    "plt.legend()\n",
    "plt.show()"
   ]
  },
  {
   "cell_type": "code",
   "execution_count": 397,
   "metadata": {},
   "outputs": [],
   "source": [
    "X_new_2_bis = np.arange(10.4,103.7,0.5)\n",
    "X_new_2_bis = np.array([[1., j/np.max(X_arctic), (j/np.max(X_arctic))**2] for j in X_new_2_bis])"
   ]
  },
  {
   "cell_type": "code",
   "execution_count": 398,
   "metadata": {},
   "outputs": [
    {
     "data": {
      "image/png": "[encoded data removed]",
      "text/plain": [
       "<Figure size 640x480 with 1 Axes>"
      ]
     },
     "metadata": {},
     "output_type": "display_data"
    }
   ],
   "source": [
    "mu_arctic_2 = dirichlet_regression.compute_mu(X_new_2_bis, beta_arctic_2)\n",
    "\n",
    "plt.scatter(X_arctic,Y_arctic[:,0],label='Sand')\n",
    "plt.scatter(X_arctic,Y_arctic[:,1],label='Silt')\n",
    "plt.scatter(X_arctic,Y_arctic[:,2],label='Clay')\n",
    "plt.plot(X_new, mu_arctic_2)\n",
    "plt.legend()\n",
    "plt.show()"
   ]
  },
  {
   "cell_type": "markdown",
   "metadata": {},
   "source": [
    "### With hessian"
   ]
  },
  {
   "cell_type": "code",
   "execution_count": 465,
   "metadata": {},
   "outputs": [],
   "source": [
    "def fhessian(x, X, Y, Z):\n",
    "    K = X.shape[-1]\n",
    "    J = Y.shape[-1]\n",
    "    beta = x[:K*J].reshape((K,J))\n",
    "    beta[:,0] = 0\n",
    "    gamma_var = x[K*J:]\n",
    "    #mu = dirichlet_regression.compute_mu(X, beta)\n",
    "    mu = dirichlet_regression.compute_mu_2(X, beta)\n",
    "    phi = np.exp(np.matmul(Z,gamma_var))\n",
    "    if len(phi.shape)==1:\n",
    "        K_phi=1\n",
    "    else:\n",
    "        K_phi = phi.shape[-1]\n",
    "    hessian = np.zeros((K*J+1,K*J+1))\n",
    "    #beta_hess = dirichlet_regression.dirichlet_hessian_wrt_beta(mu, phi, X, Y).reshape((K*J,K*J))\n",
    "    beta_hess = dirichlet_hessian_wrt_beta_2(mu, phi, X, Y).reshape((K*J,K*J))\n",
    "    #gamma_hess = dirichlet_regression.dirichlet_hessian_wrt_gamma(mu, phi, beta, X, Y, Z)\n",
    "    gamma_hess = dirichlet_regression.dirichlet_hessian_wrt_gamma_2(mu, phi, beta, X, Y, Z)\n",
    "    #beta_gamma_derivative = dirichlet_regression.dirichlet_second_derivative_beta_gamma(mu, phi, beta, X, Y, Z).reshape((K_phi,K*J))\n",
    "    beta_gamma_derivative = dirichlet_regression.dirichlet_second_derivative_beta_gamma_2(mu, phi, beta, X, Y, Z).reshape((K_phi,K*J))\n",
    "    \n",
    "    # we set to 0 the first columns of the betas\n",
    "    for k in range(0,K*J,J):\n",
    "        beta_hess[k,:] = 0\n",
    "        beta_hess[:,k] = 0.\n",
    "        beta_gamma_derivative[:,k] = 0.\n",
    "    hessian[:K*J,:K*J] = beta_hess\n",
    "    hessian[K*J:,K*J:] = gamma_hess\n",
    "    hessian[:K*J,K*J:] = beta_gamma_derivative.transpose()\n",
    "    hessian[K*J:,:K*J] = beta_gamma_derivative\n",
    "    return(-hessian)"
   ]
  },
  {
   "cell_type": "code",
   "execution_count": 320,
   "metadata": {},
   "outputs": [
    {
     "data": {
      "text/plain": [
       "array([-0.00000000e+00,  2.44803858e+00,  4.54959527e+01, -0.00000000e+00,\n",
       "       -1.40671295e+03,  3.41001611e+03, -0.00000000e+00, -1.49382795e+05,\n",
       "        2.71310732e+05,  4.12946026e+01])"
      ]
     },
     "execution_count": 320,
     "metadata": {},
     "output_type": "execute_result"
    }
   ],
   "source": [
    "fprime_arctic(params0, X_arctic_2, Y_arctic, Z_arctic)"
   ]
  },
  {
   "cell_type": "code",
   "execution_count": 316,
   "metadata": {},
   "outputs": [
    {
     "data": {
      "text/plain": [
       "array([ 0.00000000e+00, -1.98728330e+03,  1.99227742e+03,  0.00000000e+00,\n",
       "       -8.67261840e+04,  8.67582302e+04,  0.00000000e+00, -4.04627617e+06,\n",
       "        4.04609504e+06,  1.90396482e+03])"
      ]
     },
     "execution_count": 316,
     "metadata": {},
     "output_type": "execute_result"
    }
   ],
   "source": [
    "h=0.000001\n",
    "params0_h = np.copy(params0)\n",
    "params0_h[5] += h \n",
    "(fprime_arctic(params0_h, X_arctic_2, Y_arctic, Z_arctic)-fprime_arctic(params0, X_arctic_2, Y_arctic, Z_arctic))/h"
   ]
  },
  {
   "cell_type": "code",
   "execution_count": 317,
   "metadata": {},
   "outputs": [],
   "source": [
    "test_hess = fhessian(params0, X_arctic_2, Y_arctic, Z_arctic)"
   ]
  },
  {
   "cell_type": "code",
   "execution_count": 466,
   "metadata": {},
   "outputs": [
    {
     "name": "stdout",
     "output_type": "stream",
     "text": [
      "Wall time: 3.72 s\n"
     ]
    }
   ],
   "source": [
    "%%time\n",
    "solution_arctic = minimize(f_arctic, params0, args=(X_arctic_2, Y_arctic, Z_arctic), jac=fprime_arctic, hess=fhessian, method='newton-cg', tol=1e-8)"
   ]
  },
  {
   "cell_type": "code",
   "execution_count": 467,
   "metadata": {},
   "outputs": [
    {
     "data": {
      "text/plain": [
       "'Optimization terminated successfully.'"
      ]
     },
     "execution_count": 467,
     "metadata": {},
     "output_type": "execute_result"
    }
   ],
   "source": [
    "solution_arctic.message"
   ]
  },
  {
   "cell_type": "code",
   "execution_count": 468,
   "metadata": {},
   "outputs": [
    {
     "data": {
      "text/plain": [
       "array([ 0.00000000e+00, -1.58878800e+00, -3.95380850e+00,  0.00000000e+00,\n",
       "        8.73567665e-02,  1.46257966e-01,  0.00000000e+00, -5.22072385e-04,\n",
       "       -8.87909711e-04,  2.88269991e+00])"
      ]
     },
     "execution_count": 468,
     "metadata": {},
     "output_type": "execute_result"
    }
   ],
   "source": [
    "solution_arctic.x"
   ]
  },
  {
   "cell_type": "code",
   "execution_count": 469,
   "metadata": {},
   "outputs": [],
   "source": [
    "beta_arctic_2 = solution_arctic.x[:(n_features+2)*n_classes].reshape((n_features+2,n_classes))\n",
    "\n",
    "mu_arctic_2 = dirichlet_regression.compute_mu(X_new_2, beta_arctic_2)"
   ]
  },
  {
   "cell_type": "code",
   "execution_count": 470,
   "metadata": {},
   "outputs": [
    {
     "data": {
      "image/png": "[encoded data removed]",
      "text/plain": [
       "<Figure size 640x480 with 1 Axes>"
      ]
     },
     "metadata": {},
     "output_type": "display_data"
    }
   ],
   "source": [
    "plt.scatter(X_arctic,Y_arctic[:,0],label='Sand')\n",
    "plt.scatter(X_arctic,Y_arctic[:,1],label='Silt')\n",
    "plt.scatter(X_arctic,Y_arctic[:,2],label='Clay')\n",
    "plt.plot(X_new, mu_arctic_2)\n",
    "plt.legend()\n",
    "plt.show()"
   ]
  },
  {
   "cell_type": "markdown",
   "metadata": {},
   "source": [
    "## My GD with hessian"
   ]
  },
  {
   "cell_type": "code",
   "execution_count": 105,
   "metadata": {},
   "outputs": [],
   "source": [
    "def gradientDescentNewton(X, Y, Z, params_0, nitermax=1000, tolmax=1e-3,epsilon=0):\n",
    "    K = X.shape[-1]\n",
    "    J = Y.shape[-1]\n",
    "    current_param = params_0\n",
    "    list_likelihoods = []\n",
    "    list_gradients = []\n",
    "    list_params = [current_param]\n",
    "    \n",
    "    niter=0\n",
    "    tol=1\n",
    "    \n",
    "    current_beta = current_param[:K*J].reshape((K,J))\n",
    "    current_beta[:,0] = 0\n",
    "    current_gamma_var = current_param[K*J:]\n",
    "\n",
    "    while (tol > tolmax) & (niter<nitermax):\n",
    "        current_phi = np.exp(np.matmul(Z,current_gamma_var))\n",
    "        current_mu = dirichlet_regression.compute_mu(X, current_beta)\n",
    "        list_likelihoods.append(dirichlet_regression.dirichlet_loglikelihood(current_mu,current_phi,Y))\n",
    "        \n",
    "        grad = fprime_arctic(current_param,X,Y,Z,epsilon=epsilon)\n",
    "        \n",
    "        hess = fhessian(current_param, X, Y, Z)\n",
    "        hess_inv = np.linalg.pinv(hess)\n",
    "        \n",
    "        list_gradients.append(grad)\n",
    "        # we want to maximize the function, so we add the gradient\n",
    "        old_param = np.copy(current_param)\n",
    "        print(np.matmul(hess_inv,grad))\n",
    "        current_param = current_param - np.matmul(hess_inv,grad)\n",
    "        current_beta = current_param[:K*J].reshape((K,J))\n",
    "        current_beta[:,0] = 0\n",
    "        current_gamma_var = current_param[K*J:]\n",
    "        current_param = np.concatenate([current_beta.flatten(),current_gamma_var])\n",
    "        print('---')\n",
    "        print(current_param)\n",
    "        list_params.append(current_param)\n",
    "        \n",
    "        niter+=1\n",
    "        tol = np.sum((current_param - old_param)**2)**0.5\n",
    "        \n",
    "    print('Nb of iterations:',niter)\n",
    "    return(list_params, list_likelihoods, list_gradients)"
   ]
  },
  {
   "cell_type": "code",
   "execution_count": 315,
   "metadata": {},
   "outputs": [
    {
     "name": "stdout",
     "output_type": "stream",
     "text": [
      "[ 0.00000000e+00 -2.43508328e+04 -2.46927060e+04 -8.53629308e-08\n",
      "  3.45521684e+03  3.47671845e+03 -5.26314627e-09 -1.12512217e+02\n",
      " -1.12783211e+02 -4.93392233e+01]\n",
      "---\n",
      "[    0.         24349.33279153 24688.7060191      0.\n",
      " -3455.16683808 -3476.61844663     0.           112.52221747\n",
      "   112.79321107    51.33922326]\n"
     ]
    },
    {
     "name": "stderr",
     "output_type": "stream",
     "text": [
      "C:\\Users\\46660461\\Documents\\GitHub\\maupiti\\dirichlet_regression.py:15: RuntimeWarning: overflow encountered in exp\n",
      "  exp_Xbeta = np.exp(Xbeta)\n",
      "C:\\Users\\46660461\\Documents\\GitHub\\maupiti\\dirichlet_regression.py:18: RuntimeWarning: invalid value encountered in true_divide\n",
      "  mu[i,:] = exp_Xbeta[i,:]/sum_exp_Xbeta[i]\n",
      "C:\\Users\\46660461\\Documents\\GitHub\\maupiti\\dirichlet_regression.py:38: RuntimeWarning: overflow encountered in exp\n",
      "  I_n = np.identity(n)\n",
      "C:\\Users\\46660461\\Documents\\GitHub\\maupiti\\dirichlet_regression.py:29: RuntimeWarning: overflow encountered in exp\n",
      "  mu[i,j] = 1/np.sum(np.exp(Xbeta[i]-Xbeta[i,j]))\n",
      "C:\\Users\\46660461\\AppData\\Local\\Temp\\ipykernel_12280\\3350967127.py:68: RuntimeWarning: overflow encountered in double_scalars\n",
      "  phi_trigamma_alpha_c = phi[i]*trigamma_alpha[c]\n",
      "C:\\Users\\46660461\\AppData\\Local\\Temp\\ipykernel_12280\\3350967127.py:69: RuntimeWarning: invalid value encountered in double_scalars\n",
      "  hessian[p,d,q,c] += phi_Xip_muid_Xiq*mu[i,c] * ( 2*digamma_alpha[c] - 2*logY[c]\n",
      "C:\\Users\\46660461\\Documents\\GitHub\\maupiti\\dirichlet_regression.py:131: RuntimeWarning: invalid value encountered in multiply\n",
      "  #mu_digamma_log[mu[i]==0] = 0\n",
      "C:\\Users\\46660461\\Documents\\GitHub\\maupiti\\dirichlet_regression.py:233: RuntimeWarning: invalid value encountered in multiply\n",
      "  \n"
     ]
    },
    {
     "ename": "LinAlgError",
     "evalue": "SVD did not converge",
     "output_type": "error",
     "traceback": [
      "\u001b[1;31m---------------------------------------------------------------------------\u001b[0m",
      "\u001b[1;31mLinAlgError\u001b[0m                               Traceback (most recent call last)",
      "\u001b[1;32m<timed exec>\u001b[0m in \u001b[0;36m<module>\u001b[1;34m\u001b[0m\n",
      "\u001b[1;32m~\\AppData\\Local\\Temp\\ipykernel_12280\\3590158002.py\u001b[0m in \u001b[0;36mgradientDescentNewton\u001b[1;34m(X, Y, Z, params_0, nitermax, tolmax, epsilon)\u001b[0m\n\u001b[0;32m     22\u001b[0m \u001b[1;33m\u001b[0m\u001b[0m\n\u001b[0;32m     23\u001b[0m         \u001b[0mhess\u001b[0m \u001b[1;33m=\u001b[0m \u001b[0mfhessian\u001b[0m\u001b[1;33m(\u001b[0m\u001b[0mcurrent_param\u001b[0m\u001b[1;33m,\u001b[0m \u001b[0mX\u001b[0m\u001b[1;33m,\u001b[0m \u001b[0mY\u001b[0m\u001b[1;33m,\u001b[0m \u001b[0mZ\u001b[0m\u001b[1;33m)\u001b[0m\u001b[1;33m\u001b[0m\u001b[1;33m\u001b[0m\u001b[0m\n\u001b[1;32m---> 24\u001b[1;33m         \u001b[0mhess_inv\u001b[0m \u001b[1;33m=\u001b[0m \u001b[0mnp\u001b[0m\u001b[1;33m.\u001b[0m\u001b[0mlinalg\u001b[0m\u001b[1;33m.\u001b[0m\u001b[0mpinv\u001b[0m\u001b[1;33m(\u001b[0m\u001b[0mhess\u001b[0m\u001b[1;33m)\u001b[0m\u001b[1;33m\u001b[0m\u001b[1;33m\u001b[0m\u001b[0m\n\u001b[0m\u001b[0;32m     25\u001b[0m \u001b[1;33m\u001b[0m\u001b[0m\n\u001b[0;32m     26\u001b[0m         \u001b[0mlist_gradients\u001b[0m\u001b[1;33m.\u001b[0m\u001b[0mappend\u001b[0m\u001b[1;33m(\u001b[0m\u001b[0mgrad\u001b[0m\u001b[1;33m)\u001b[0m\u001b[1;33m\u001b[0m\u001b[1;33m\u001b[0m\u001b[0m\n",
      "\u001b[1;32m<__array_function__ internals>\u001b[0m in \u001b[0;36mpinv\u001b[1;34m(*args, **kwargs)\u001b[0m\n",
      "\u001b[1;32m~\\Anaconda3\\lib\\site-packages\\numpy\\linalg\\linalg.py\u001b[0m in \u001b[0;36mpinv\u001b[1;34m(a, rcond, hermitian)\u001b[0m\n\u001b[0;32m   2000\u001b[0m         \u001b[1;32mreturn\u001b[0m \u001b[0mwrap\u001b[0m\u001b[1;33m(\u001b[0m\u001b[0mres\u001b[0m\u001b[1;33m)\u001b[0m\u001b[1;33m\u001b[0m\u001b[1;33m\u001b[0m\u001b[0m\n\u001b[0;32m   2001\u001b[0m     \u001b[0ma\u001b[0m \u001b[1;33m=\u001b[0m \u001b[0ma\u001b[0m\u001b[1;33m.\u001b[0m\u001b[0mconjugate\u001b[0m\u001b[1;33m(\u001b[0m\u001b[1;33m)\u001b[0m\u001b[1;33m\u001b[0m\u001b[1;33m\u001b[0m\u001b[0m\n\u001b[1;32m-> 2002\u001b[1;33m     \u001b[0mu\u001b[0m\u001b[1;33m,\u001b[0m \u001b[0ms\u001b[0m\u001b[1;33m,\u001b[0m \u001b[0mvt\u001b[0m \u001b[1;33m=\u001b[0m \u001b[0msvd\u001b[0m\u001b[1;33m(\u001b[0m\u001b[0ma\u001b[0m\u001b[1;33m,\u001b[0m \u001b[0mfull_matrices\u001b[0m\u001b[1;33m=\u001b[0m\u001b[1;32mFalse\u001b[0m\u001b[1;33m,\u001b[0m \u001b[0mhermitian\u001b[0m\u001b[1;33m=\u001b[0m\u001b[0mhermitian\u001b[0m\u001b[1;33m)\u001b[0m\u001b[1;33m\u001b[0m\u001b[1;33m\u001b[0m\u001b[0m\n\u001b[0m\u001b[0;32m   2003\u001b[0m \u001b[1;33m\u001b[0m\u001b[0m\n\u001b[0;32m   2004\u001b[0m     \u001b[1;31m# discard small singular values\u001b[0m\u001b[1;33m\u001b[0m\u001b[1;33m\u001b[0m\u001b[0m\n",
      "\u001b[1;32m<__array_function__ internals>\u001b[0m in \u001b[0;36msvd\u001b[1;34m(*args, **kwargs)\u001b[0m\n",
      "\u001b[1;32m~\\Anaconda3\\lib\\site-packages\\numpy\\linalg\\linalg.py\u001b[0m in \u001b[0;36msvd\u001b[1;34m(a, full_matrices, compute_uv, hermitian)\u001b[0m\n\u001b[0;32m   1658\u001b[0m \u001b[1;33m\u001b[0m\u001b[0m\n\u001b[0;32m   1659\u001b[0m         \u001b[0msignature\u001b[0m \u001b[1;33m=\u001b[0m \u001b[1;34m'D->DdD'\u001b[0m \u001b[1;32mif\u001b[0m \u001b[0misComplexType\u001b[0m\u001b[1;33m(\u001b[0m\u001b[0mt\u001b[0m\u001b[1;33m)\u001b[0m \u001b[1;32melse\u001b[0m \u001b[1;34m'd->ddd'\u001b[0m\u001b[1;33m\u001b[0m\u001b[1;33m\u001b[0m\u001b[0m\n\u001b[1;32m-> 1660\u001b[1;33m         \u001b[0mu\u001b[0m\u001b[1;33m,\u001b[0m \u001b[0ms\u001b[0m\u001b[1;33m,\u001b[0m \u001b[0mvh\u001b[0m \u001b[1;33m=\u001b[0m \u001b[0mgufunc\u001b[0m\u001b[1;33m(\u001b[0m\u001b[0ma\u001b[0m\u001b[1;33m,\u001b[0m \u001b[0msignature\u001b[0m\u001b[1;33m=\u001b[0m\u001b[0msignature\u001b[0m\u001b[1;33m,\u001b[0m \u001b[0mextobj\u001b[0m\u001b[1;33m=\u001b[0m\u001b[0mextobj\u001b[0m\u001b[1;33m)\u001b[0m\u001b[1;33m\u001b[0m\u001b[1;33m\u001b[0m\u001b[0m\n\u001b[0m\u001b[0;32m   1661\u001b[0m         \u001b[0mu\u001b[0m \u001b[1;33m=\u001b[0m \u001b[0mu\u001b[0m\u001b[1;33m.\u001b[0m\u001b[0mastype\u001b[0m\u001b[1;33m(\u001b[0m\u001b[0mresult_t\u001b[0m\u001b[1;33m,\u001b[0m \u001b[0mcopy\u001b[0m\u001b[1;33m=\u001b[0m\u001b[1;32mFalse\u001b[0m\u001b[1;33m)\u001b[0m\u001b[1;33m\u001b[0m\u001b[1;33m\u001b[0m\u001b[0m\n\u001b[0;32m   1662\u001b[0m         \u001b[0ms\u001b[0m \u001b[1;33m=\u001b[0m \u001b[0ms\u001b[0m\u001b[1;33m.\u001b[0m\u001b[0mastype\u001b[0m\u001b[1;33m(\u001b[0m\u001b[0m_realType\u001b[0m\u001b[1;33m(\u001b[0m\u001b[0mresult_t\u001b[0m\u001b[1;33m)\u001b[0m\u001b[1;33m,\u001b[0m \u001b[0mcopy\u001b[0m\u001b[1;33m=\u001b[0m\u001b[1;32mFalse\u001b[0m\u001b[1;33m)\u001b[0m\u001b[1;33m\u001b[0m\u001b[1;33m\u001b[0m\u001b[0m\n",
      "\u001b[1;32m~\\Anaconda3\\lib\\site-packages\\numpy\\linalg\\linalg.py\u001b[0m in \u001b[0;36m_raise_linalgerror_svd_nonconvergence\u001b[1;34m(err, flag)\u001b[0m\n\u001b[0;32m     95\u001b[0m \u001b[1;33m\u001b[0m\u001b[0m\n\u001b[0;32m     96\u001b[0m \u001b[1;32mdef\u001b[0m \u001b[0m_raise_linalgerror_svd_nonconvergence\u001b[0m\u001b[1;33m(\u001b[0m\u001b[0merr\u001b[0m\u001b[1;33m,\u001b[0m \u001b[0mflag\u001b[0m\u001b[1;33m)\u001b[0m\u001b[1;33m:\u001b[0m\u001b[1;33m\u001b[0m\u001b[1;33m\u001b[0m\u001b[0m\n\u001b[1;32m---> 97\u001b[1;33m     \u001b[1;32mraise\u001b[0m \u001b[0mLinAlgError\u001b[0m\u001b[1;33m(\u001b[0m\u001b[1;34m\"SVD did not converge\"\u001b[0m\u001b[1;33m)\u001b[0m\u001b[1;33m\u001b[0m\u001b[1;33m\u001b[0m\u001b[0m\n\u001b[0m\u001b[0;32m     98\u001b[0m \u001b[1;33m\u001b[0m\u001b[0m\n\u001b[0;32m     99\u001b[0m \u001b[1;32mdef\u001b[0m \u001b[0m_raise_linalgerror_lstsq\u001b[0m\u001b[1;33m(\u001b[0m\u001b[0merr\u001b[0m\u001b[1;33m,\u001b[0m \u001b[0mflag\u001b[0m\u001b[1;33m)\u001b[0m\u001b[1;33m:\u001b[0m\u001b[1;33m\u001b[0m\u001b[1;33m\u001b[0m\u001b[0m\n",
      "\u001b[1;31mLinAlgError\u001b[0m: SVD did not converge"
     ]
    }
   ],
   "source": [
    "%%time\n",
    "list_params, list_likelihoods, list_gradients=gradientDescentNewton(X_arctic_2, Y_arctic, Z_arctic, \n",
    "                                                              params0, nitermax = 1000, tolmax=1e-4)"
   ]
  },
  {
   "cell_type": "code",
   "execution_count": 110,
   "metadata": {},
   "outputs": [],
   "source": [
    "beta_test = np.array([[0.00000000e+00, -1.68702777e+02,  9.11259508e+02],  \n",
    "                      [0.00000000e+00, 5.37880187e+02, -3.71678045e+03] , \n",
    "                      [0.00000000e+00, -4.06042729e+02, 2.77243089e+03]])"
   ]
  },
  {
   "cell_type": "code",
   "execution_count": 111,
   "metadata": {},
   "outputs": [
    {
     "name": "stderr",
     "output_type": "stream",
     "text": [
      "C:\\Users\\46660461\\Documents\\GitHub\\maupiti\\dirichlet_regression.py:29: RuntimeWarning: overflow encountered in exp\n",
      "  mu[i,j] = 1/np.sum(np.exp(Xbeta[i]-Xbeta[i,j]))\n"
     ]
    }
   ],
   "source": [
    "mu_test = dirichlet_regression.compute_mu_2(X_arctic_2,beta_test)"
   ]
  },
  {
   "cell_type": "code",
   "execution_count": 112,
   "metadata": {},
   "outputs": [],
   "source": [
    "phi_test = np.exp(np.matmul(Z_arctic,[-1.54306869e+00]))"
   ]
  },
  {
   "cell_type": "code",
   "execution_count": 593,
   "metadata": {},
   "outputs": [
    {
     "data": {
      "text/plain": [
       "array([False, False, False])"
      ]
     },
     "execution_count": 593,
     "metadata": {},
     "output_type": "execute_result"
    }
   ],
   "source": [
    "phi_test[8]*mu_test[8]"
   ]
  },
  {
   "cell_type": "code",
   "execution_count": 113,
   "metadata": {},
   "outputs": [],
   "source": [
    "def trigamma_func(z):\n",
    "    S=0\n",
    "    for n in range(10000):\n",
    "        S+=1/(z+n)**2\n",
    "    return S\n",
    "\n",
    "def z_times_trigamma_func(z):\n",
    "    S=0\n",
    "    for n in range(10000):\n",
    "        S+=1/( z + 2*n + (n**2)/z )\n",
    "    return S\n",
    "\n",
    "def a_times_trigamma_func(a,z):\n",
    "    S=0\n",
    "    try:\n",
    "        for n in range(10000):\n",
    "            S+=1/( z*(z/a) + (2*z*n)/a + (n**2)/a )\n",
    "    except ZeroDivisionError:\n",
    "        S=1e305\n",
    "    return S"
   ]
  },
  {
   "cell_type": "code",
   "execution_count": 510,
   "metadata": {},
   "outputs": [
    {
     "data": {
      "text/plain": [
       "1e+305"
      ]
     },
     "execution_count": 510,
     "metadata": {},
     "output_type": "execute_result"
    }
   ],
   "source": [
    "a_times_trigamma_func(0.2, 2e-247)"
   ]
  },
  {
   "cell_type": "code",
   "execution_count": null,
   "metadata": {},
   "outputs": [],
   "source": []
  },
  {
   "cell_type": "code",
   "execution_count": 236,
   "metadata": {},
   "outputs": [],
   "source": [
    "def dirichlet_hessian_wrt_beta_2(mu, phi, X, Y, alpha=None, epsilon=0):\n",
    "    K = np.shape(X)[1] #nb of features\n",
    "    J = np.shape(Y)[1] #nb of classes\n",
    "    n = np.shape(Y)[0] \n",
    "    hessian = np.zeros((K,J,K,J))\n",
    "    if alpha is None:\n",
    "        alpha = np.copy(mu)\n",
    "        for j in range(J):\n",
    "            alpha[:,j] = phi*mu[:,j]\n",
    "    for i in range(n):\n",
    "        digamma_alpha = digamma(alpha[i])\n",
    "        digamma_alpha[np.isinf(digamma_alpha)] = -1e305\n",
    "\n",
    "        trigamma_alpha = polygamma(1,alpha[i])\n",
    "        trigamma_alpha[np.isinf(trigamma_alpha)] = 1e305\n",
    "        \n",
    "        #mu_2_trigamma = a_times_trigamma_func(mu[i]**2,alpha[i])\n",
    "        #if math.isinf(trigamma_alpha):\n",
    "        #    mu_2_trigamma = a_times_trigamma_func(mu[i]**2,alpha[i])\n",
    "        #else:\n",
    "        mu_2_trigamma = mu[i]**2*trigamma_alpha\n",
    "        mu_2_trigamma[mu[i]**2==0] = 0\n",
    "        phi_sum_mu_2_trigamma = phi[i]*np.sum(mu_2_trigamma)\n",
    "        \n",
    "        logY = np.log(Y[i]+epsilon)\n",
    "        sum_mu_log = 2*np.sum(mu[i]*logY)\n",
    "        \n",
    "        mu_digamma_alpha = mu[i]*digamma_alpha\n",
    "        mu_digamma_alpha[mu[i]==0] = 0\n",
    "        sum_mu_digamma = 2*np.sum(mu_digamma_alpha)\n",
    "        \n",
    "        mu_digamma_log = mu[i]*(digamma_alpha-logY)\n",
    "        #mu_digamma_log[mu[i]==0] = 0\n",
    "        sum_mu_digamma_log = np.sum(mu_digamma_log)\n",
    "        for p in range(K):\n",
    "            phi_Xip = phi[i]*X[i,p]\n",
    "            for d in range(J):\n",
    "                phi_Xip_muid = phi_Xip*mu[i,d]\n",
    "                if alpha[i,d]==0:\n",
    "                    alpha_times_trigamma_alpha = np.zeros(np.shape(trigamma_alpha[d]))\n",
    "                else:\n",
    "                    if math.isinf(trigamma_alpha[d]):\n",
    "                        alpha_times_trigamma_alpha = np.array(a_times_trigamma_func(alpha[i,d],alpha[i,d]))\n",
    "                    else:\n",
    "                        alpha_times_trigamma_alpha = alpha[i,d]*trigamma_alpha[d]\n",
    "                for q in range(K):\n",
    "                    phi_Xip_muid_Xiq = phi_Xip_muid*X[i,q]\n",
    "                    for c in range(J):\n",
    "                        if c!=d:\n",
    "                            if alpha[i,c]==0:\n",
    "                                alpha_c_trigamma_alpha_c = 0\n",
    "                            elif math.isinf(trigamma_alpha[c]):\n",
    "                                alpha_c_trigamma_alpha_c = a_times_trigamma_func(alpha[i,c],alpha[i,c])\n",
    "                            else:\n",
    "                                alpha_c_trigamma_alpha_c = alpha[i,c]*trigamma_alpha[c]\n",
    "                            hessian[p,d,q,c] += phi_Xip_muid_Xiq*mu[i,c] * ( digamma_alpha[c] + digamma_alpha[d]\n",
    "                                                                           - logY[c] - logY[d]\n",
    "                                                                           + alpha_c_trigamma_alpha_c + alpha_times_trigamma_alpha\n",
    "                                                                           - phi_sum_mu_2_trigamma \n",
    "                                                                           + sum_mu_log\n",
    "                                                                           - sum_mu_digamma )\n",
    "                        else:\n",
    "                            \n",
    "                            if math.isinf(trigamma_alpha[c]):\n",
    "                                #phi_trigamma_alpha_c = np.array(a_times_trigamma_func(phi[i],alpha[i,c]))\n",
    "                                phi_trigamma_alpha_c = phi[i]*1e305\n",
    "                            else:\n",
    "                                phi_trigamma_alpha_c = phi[i]*trigamma_alpha[c]\n",
    "                            hessian[p,d,q,c] += phi_Xip_muid_Xiq*mu[i,c] * ( 2*digamma_alpha[c] - 2*logY[c] \n",
    "                                                                           + 2*alpha_times_trigamma_alpha\n",
    "                                                                           - phi_sum_mu_2_trigamma\n",
    "                                                                           + sum_mu_log\n",
    "                                                                           - sum_mu_digamma\n",
    "                                                                           - phi_trigamma_alpha_c)\n",
    "                            hessian[p,d,q,c] += phi_Xip_muid_Xiq * (sum_mu_digamma_log - digamma_alpha[c] + logY[c] )\n",
    "    # fill the symmetric values we didn't compute\n",
    "    #for p in range(K):\n",
    "    #    for d in range(J):\n",
    "    #        for q in range(p):\n",
    "    #            for c in range(J):\n",
    "    #                hessian[p,d,q,c] = hessian[q,c,p,d]\n",
    "    return hessian"
   ]
  },
  {
   "cell_type": "code",
   "execution_count": 486,
   "metadata": {},
   "outputs": [
    {
     "name": "stdout",
     "output_type": "stream",
     "text": [
      "Wall time: 10 ms\n"
     ]
    }
   ],
   "source": [
    "%%time\n",
    "_ = dirichlet_regression.dirichlet_hessian_wrt_beta(mu_test, phi_test, X_arctic_2_bis, Y_arctic)"
   ]
  },
  {
   "cell_type": "code",
   "execution_count": 108,
   "metadata": {},
   "outputs": [
    {
     "data": {
      "text/plain": [
       "array([0., 0., 1.])"
      ]
     },
     "execution_count": 108,
     "metadata": {},
     "output_type": "execute_result"
    }
   ],
   "source": [
    "mu_test_bis = np.array([1.04578539e-246, 2.54998312e-298, 1.00000000e+000])\n",
    "mu_test_bis**2"
   ]
  },
  {
   "cell_type": "code",
   "execution_count": 211,
   "metadata": {},
   "outputs": [],
   "source": [
    "beta_test = np.array([[0.00000000e+00, -1.68702777e+02,  9.11259508e+02], \n",
    "                                                               [0.00000000e+00, 5.37880187e+02, -3.71678045e+03], \n",
    "                                                               [0.00000000e+00, -4.06042729e+02, 2.77243089e+03]])\n",
    "mu_test = dirichlet_regression.compute_mu_2(X_arctic_2_bis,beta_test)\n",
    "phi_test = np.exp(np.matmul(Z_arctic,[-1.54306869e+00]))"
   ]
  },
  {
   "cell_type": "code",
   "execution_count": 237,
   "metadata": {},
   "outputs": [
    {
     "name": "stdout",
     "output_type": "stream",
     "text": [
      "Wall time: 1.37 ms\n"
     ]
    },
    {
     "data": {
      "text/plain": [
       "array([[[[ 5.11823194e+00,  5.47337622e-01, -5.66556957e+00],\n",
       "         [ 2.45255953e-01,  4.16876520e-01, -6.62132473e-01],\n",
       "         [-2.57690694e-01,  3.23948082e-01, -6.62573887e-02]],\n",
       "\n",
       "        [[ 5.47337622e-01,  8.45266218e+00, -8.99999980e+00],\n",
       "         [ 4.16876520e-01,  9.07135012e-01, -1.32401153e+00],\n",
       "         [ 3.23948082e-01, -1.20087834e-01, -2.03860248e-01]],\n",
       "\n",
       "        [[-5.66556957e+00, -8.99999980e+00,  1.46655694e+01],\n",
       "         [-6.62132473e-01, -1.32401153e+00,  1.98614401e+00],\n",
       "         [-6.62573887e-02, -2.03860248e-01,  2.70117637e-01]]],\n",
       "\n",
       "\n",
       "       [[[ 2.45255953e-01,  4.16876520e-01, -6.62132473e-01],\n",
       "         [-2.57690694e-01,  3.23948082e-01, -6.62573887e-02],\n",
       "         [-2.52820277e-01,  2.55093768e-01, -2.27349083e-03]],\n",
       "\n",
       "        [[ 4.16876520e-01,  9.07135012e-01, -1.32401153e+00],\n",
       "         [ 3.23948082e-01, -1.20087834e-01, -2.03860248e-01],\n",
       "         [ 2.55093768e-01, -2.22396854e-01, -3.26969134e-02]],\n",
       "\n",
       "        [[-6.62132473e-01, -1.32401153e+00,  1.98614401e+00],\n",
       "         [-6.62573887e-02, -2.03860248e-01,  2.70117637e-01],\n",
       "         [-2.27349083e-03, -3.26969134e-02,  3.49704043e-02]]],\n",
       "\n",
       "\n",
       "       [[[-2.57690694e-01,  3.23948082e-01, -6.62573887e-02],\n",
       "         [-2.52820277e-01,  2.55093768e-01, -2.27349083e-03],\n",
       "         [-2.04425009e-01,  2.02617203e-01,  1.80780606e-03]],\n",
       "\n",
       "        [[ 3.23948082e-01, -1.20087834e-01, -2.03860248e-01],\n",
       "         [ 2.55093768e-01, -2.22396854e-01, -3.26969134e-02],\n",
       "         [ 2.02617203e-01, -1.97186183e-01, -5.43102040e-03]],\n",
       "\n",
       "        [[-6.62573887e-02, -2.03860248e-01,  2.70117637e-01],\n",
       "         [-2.27349083e-03, -3.26969134e-02,  3.49704043e-02],\n",
       "         [ 1.80780606e-03, -5.43102040e-03,  3.62321434e-03]]]])"
      ]
     },
     "execution_count": 237,
     "metadata": {},
     "output_type": "execute_result"
    }
   ],
   "source": [
    "%%time\n",
    "dirichlet_hessian_wrt_beta_2(mu_test, phi_test, X_arctic_2_bis, Y_arctic)"
   ]
  },
  {
   "cell_type": "code",
   "execution_count": 238,
   "metadata": {
    "scrolled": true
   },
   "outputs": [
    {
     "name": "stdout",
     "output_type": "stream",
     "text": [
      "Wall time: 3.01 ms\n"
     ]
    },
    {
     "data": {
      "text/plain": [
       "array([[[  5.93566426,   9.07093694, -15.0066012 ],\n",
       "        [  0.71990516,   1.37673711,  -2.09664227],\n",
       "        [  0.06164781,   0.24427255,  -0.30592035]]])"
      ]
     },
     "execution_count": 238,
     "metadata": {},
     "output_type": "execute_result"
    }
   ],
   "source": [
    "%%time\n",
    "dirichlet_regression.dirichlet_second_derivative_beta_gamma_2(mu_test, phi_test, beta_test, X_arctic_2_bis, Y_arctic, Z_arctic)"
   ]
  },
  {
   "cell_type": "code",
   "execution_count": 241,
   "metadata": {},
   "outputs": [
    {
     "data": {
      "text/plain": [
       "array([[-0.00000000e+00, -0.00000000e+00, -0.00000000e+00,\n",
       "        -0.00000000e+00, -0.00000000e+00, -0.00000000e+00,\n",
       "        -0.00000000e+00, -0.00000000e+00, -0.00000000e+00,\n",
       "        -0.00000000e+00],\n",
       "       [-0.00000000e+00, -8.45266218e+00,  8.99999980e+00,\n",
       "        -0.00000000e+00, -9.07135012e-01,  1.32401153e+00,\n",
       "        -0.00000000e+00,  1.20087834e-01,  2.03860248e-01,\n",
       "        -9.07093694e+00],\n",
       "       [-0.00000000e+00,  8.99999980e+00, -1.46655694e+01,\n",
       "        -0.00000000e+00,  1.32401153e+00, -1.98614401e+00,\n",
       "        -0.00000000e+00,  2.03860248e-01, -2.70117637e-01,\n",
       "         1.50066012e+01],\n",
       "       [-0.00000000e+00, -0.00000000e+00, -0.00000000e+00,\n",
       "        -0.00000000e+00, -0.00000000e+00, -0.00000000e+00,\n",
       "        -0.00000000e+00, -0.00000000e+00, -0.00000000e+00,\n",
       "        -0.00000000e+00],\n",
       "       [-0.00000000e+00, -9.07135012e-01,  1.32401153e+00,\n",
       "        -0.00000000e+00,  1.20087834e-01,  2.03860248e-01,\n",
       "        -0.00000000e+00,  2.22396854e-01,  3.26969134e-02,\n",
       "        -1.37673711e+00],\n",
       "       [-0.00000000e+00,  1.32401153e+00, -1.98614401e+00,\n",
       "        -0.00000000e+00,  2.03860248e-01, -2.70117637e-01,\n",
       "        -0.00000000e+00,  3.26969134e-02, -3.49704043e-02,\n",
       "         2.09664227e+00],\n",
       "       [-0.00000000e+00, -0.00000000e+00, -0.00000000e+00,\n",
       "        -0.00000000e+00, -0.00000000e+00, -0.00000000e+00,\n",
       "        -0.00000000e+00, -0.00000000e+00, -0.00000000e+00,\n",
       "        -0.00000000e+00],\n",
       "       [-0.00000000e+00,  1.20087834e-01,  2.03860248e-01,\n",
       "        -0.00000000e+00,  2.22396854e-01,  3.26969134e-02,\n",
       "        -0.00000000e+00,  1.97186183e-01,  5.43102040e-03,\n",
       "        -2.44272545e-01],\n",
       "       [-0.00000000e+00,  2.03860248e-01, -2.70117637e-01,\n",
       "        -0.00000000e+00,  3.26969134e-02, -3.49704043e-02,\n",
       "        -0.00000000e+00,  5.43102040e-03, -3.62321434e-03,\n",
       "         3.05920352e-01],\n",
       "       [-0.00000000e+00, -9.07093694e+00,  1.50066012e+01,\n",
       "        -0.00000000e+00, -1.37673711e+00,  2.09664227e+00,\n",
       "        -0.00000000e+00, -2.44272545e-01,  3.05920352e-01,\n",
       "         3.03472007e+00]])"
      ]
     },
     "execution_count": 241,
     "metadata": {},
     "output_type": "execute_result"
    }
   ],
   "source": [
    "test_param = np.array([ 0.00000000e+00, -1.68702777e+02,  9.11259508e+02,  0.00000000e+00,\n",
    "  5.37880187e+02, -3.71678045e+03,  0.00000000e+00, -4.06042729e+02,\n",
    "  2.77243089e+03, -1.54306869e+00])\n",
    "fhessian(test_param, X_arctic_2_bis, Y_arctic, Z_arctic)"
   ]
  },
  {
   "cell_type": "code",
   "execution_count": 310,
   "metadata": {},
   "outputs": [
    {
     "name": "stdout",
     "output_type": "stream",
     "text": [
      "[[1.e-305 1.e-305 1.e+000]\n",
      " [1.e-305 1.e-305 1.e+000]\n",
      " [1.e-305 1.e-305 1.e+000]\n",
      " [1.e-305 1.e-305 1.e+000]\n",
      " [1.e-305 1.e-305 1.e+000]\n",
      " [1.e-305 1.e-305 1.e+000]\n",
      " [1.e-305 1.e-305 1.e+000]\n",
      " [1.e-305 1.e-305 1.e+000]\n",
      " [1.e-305 1.e-305 1.e+000]\n",
      " [1.e-305 1.e-305 1.e+000]\n",
      " [1.e-305 1.e-305 1.e+000]\n",
      " [1.e-305 1.e-305 1.e+000]\n",
      " [1.e-305 1.e-305 1.e+000]\n",
      " [1.e-305 1.e-305 1.e+000]\n",
      " [1.e-305 1.e-305 1.e+000]\n",
      " [1.e-305 1.e-305 1.e+000]\n",
      " [1.e-305 1.e-305 1.e+000]\n",
      " [1.e-305 1.e-305 1.e+000]\n",
      " [1.e-305 1.e-305 1.e+000]\n",
      " [1.e-305 1.e-305 1.e+000]\n",
      " [1.e-305 1.e-305 1.e+000]\n",
      " [1.e-305 1.e-305 1.e+000]\n",
      " [1.e-305 1.e-305 1.e+000]\n",
      " [1.e-305 1.e-305 1.e+000]\n",
      " [1.e-305 1.e-305 1.e+000]\n",
      " [1.e-305 1.e-305 1.e+000]\n",
      " [1.e-305 1.e-305 1.e+000]\n",
      " [1.e-305 1.e-305 1.e+000]\n",
      " [1.e-305 1.e-305 1.e+000]\n",
      " [1.e-305 1.e-305 1.e+000]\n",
      " [1.e-305 1.e-305 1.e+000]\n",
      " [1.e-305 1.e-305 1.e+000]\n",
      " [1.e-305 1.e-305 1.e+000]\n",
      " [1.e-305 1.e-305 1.e+000]\n",
      " [1.e-305 1.e-305 1.e+000]\n",
      " [1.e-305 1.e-305 1.e+000]\n",
      " [1.e-305 1.e-305 1.e+000]\n",
      " [1.e-305 1.e-305 1.e+000]\n",
      " [1.e-305 1.e-305 1.e+000]]\n"
     ]
    },
    {
     "name": "stderr",
     "output_type": "stream",
     "text": [
      "C:\\Users\\46660461\\Documents\\GitHub\\maupiti\\dirichlet_regression.py:38: RuntimeWarning: overflow encountered in exp\n",
      "  I_n = np.identity(n)\n"
     ]
    },
    {
     "data": {
      "text/plain": [
       "array([-0.00000000e+00, -3.90000000e+01,  7.80000000e+01, -0.00000000e+00,\n",
       "       -1.87350000e+03,  3.74700000e+03, -0.00000000e+00, -1.19953910e+05,\n",
       "        2.39907820e+05, -6.47185147e+01])"
      ]
     },
     "execution_count": 310,
     "metadata": {},
     "output_type": "execute_result"
    }
   ],
   "source": [
    "fprime_arctic(test_param_h, X_arctic_2, Y_arctic, Z_arctic)"
   ]
  },
  {
   "cell_type": "code",
   "execution_count": 321,
   "metadata": {},
   "outputs": [
    {
     "data": {
      "text/plain": [
       "array([ -0.        , -12.38383635,   3.38132457,  -0.        ,\n",
       "        -0.38892245, -10.29110409,  -0.        ,   0.75062587,\n",
       "        -9.58037658, -59.93704478])"
      ]
     },
     "execution_count": 321,
     "metadata": {},
     "output_type": "execute_result"
    }
   ],
   "source": [
    "fprime_arctic(test_param, X_arctic_2_bis, Y_arctic, Z_arctic)"
   ]
  },
  {
   "cell_type": "code",
   "execution_count": 312,
   "metadata": {},
   "outputs": [
    {
     "data": {
      "text/plain": [
       "array([ 0.00000000e+00, -1.68702777e+02,  9.11259508e+02,  0.00000000e+00,\n",
       "        5.37880187e+02, -3.71678045e+03,  0.00000000e+00, -4.06042729e+02,\n",
       "        2.77243089e+03, -1.54306869e+00])"
      ]
     },
     "execution_count": 312,
     "metadata": {},
     "output_type": "execute_result"
    }
   ],
   "source": [
    "test_param"
   ]
  },
  {
   "cell_type": "code",
   "execution_count": 329,
   "metadata": {},
   "outputs": [
    {
     "data": {
      "text/plain": [
       "array([ 0.        ,  0.41687633,  0.        ,  0.        ,  0.32394787,\n",
       "        0.        ,  0.        ,  0.25509361,  0.        , -0.05272561])"
      ]
     },
     "execution_count": 329,
     "metadata": {},
     "output_type": "execute_result"
    }
   ],
   "source": [
    "h=0.0000001\n",
    "test_param_h = np.copy(test_param)\n",
    "test_param_h[4] += h \n",
    "(fprime_arctic(test_param_h, X_arctic_2_bis, Y_arctic, Z_arctic)-fprime_arctic(test_param, X_arctic_2_bis, Y_arctic, Z_arctic))/h"
   ]
  },
  {
   "cell_type": "code",
   "execution_count": 324,
   "metadata": {},
   "outputs": [
    {
     "data": {
      "text/plain": [
       "array([[-0.00000000e+00, -0.00000000e+00, -0.00000000e+00,\n",
       "        -0.00000000e+00, -0.00000000e+00, -0.00000000e+00,\n",
       "        -0.00000000e+00, -0.00000000e+00, -0.00000000e+00,\n",
       "        -0.00000000e+00],\n",
       "       [-0.00000000e+00, -8.45266218e+00,  8.99999980e+00,\n",
       "        -0.00000000e+00, -9.07135012e-01,  1.32401153e+00,\n",
       "        -0.00000000e+00,  1.20087834e-01,  2.03860248e-01,\n",
       "        -9.07093694e+00],\n",
       "       [-0.00000000e+00,  8.99999980e+00, -1.46655694e+01,\n",
       "        -0.00000000e+00,  1.32401153e+00, -1.98614401e+00,\n",
       "        -0.00000000e+00,  2.03860248e-01, -2.70117637e-01,\n",
       "         1.50066012e+01],\n",
       "       [-0.00000000e+00, -0.00000000e+00, -0.00000000e+00,\n",
       "        -0.00000000e+00, -0.00000000e+00, -0.00000000e+00,\n",
       "        -0.00000000e+00, -0.00000000e+00, -0.00000000e+00,\n",
       "        -0.00000000e+00],\n",
       "       [-0.00000000e+00, -9.07135012e-01,  1.32401153e+00,\n",
       "        -0.00000000e+00,  1.20087834e-01,  2.03860248e-01,\n",
       "        -0.00000000e+00,  2.22396854e-01,  3.26969134e-02,\n",
       "        -1.37673711e+00],\n",
       "       [-0.00000000e+00,  1.32401153e+00, -1.98614401e+00,\n",
       "        -0.00000000e+00,  2.03860248e-01, -2.70117637e-01,\n",
       "        -0.00000000e+00,  3.26969134e-02, -3.49704043e-02,\n",
       "         2.09664227e+00],\n",
       "       [-0.00000000e+00, -0.00000000e+00, -0.00000000e+00,\n",
       "        -0.00000000e+00, -0.00000000e+00, -0.00000000e+00,\n",
       "        -0.00000000e+00, -0.00000000e+00, -0.00000000e+00,\n",
       "        -0.00000000e+00],\n",
       "       [-0.00000000e+00,  1.20087834e-01,  2.03860248e-01,\n",
       "        -0.00000000e+00,  2.22396854e-01,  3.26969134e-02,\n",
       "        -0.00000000e+00,  1.97186183e-01,  5.43102040e-03,\n",
       "        -2.44272545e-01],\n",
       "       [-0.00000000e+00,  2.03860248e-01, -2.70117637e-01,\n",
       "        -0.00000000e+00,  3.26969134e-02, -3.49704043e-02,\n",
       "        -0.00000000e+00,  5.43102040e-03, -3.62321434e-03,\n",
       "         3.05920352e-01],\n",
       "       [-0.00000000e+00, -9.07093694e+00,  1.50066012e+01,\n",
       "        -0.00000000e+00, -1.37673711e+00,  2.09664227e+00,\n",
       "        -0.00000000e+00, -2.44272545e-01,  3.05920352e-01,\n",
       "         3.03472007e+00]])"
      ]
     },
     "execution_count": 324,
     "metadata": {},
     "output_type": "execute_result"
    }
   ],
   "source": [
    "test_hess = fhessian(test_param, X_arctic_2_bis, Y_arctic, Z_arctic)\n",
    "test_hess"
   ]
  },
  {
   "cell_type": "code",
   "execution_count": null,
   "metadata": {},
   "outputs": [],
   "source": []
  },
  {
   "cell_type": "code",
   "execution_count": 320,
   "metadata": {},
   "outputs": [],
   "source": [
    "test_beta = np.array([[0.00000000e+00, -1.68702777e+02,  9.11259508e+02],  [0.00000000e+00,\n",
    "  5.37880187e+02, -3.71678045e+03],  [0.00000000e+00, -4.06042729e+02, 2.77243089e+03]])\n",
    "mu_test = dirichlet_regression.compute_mu_2(X_arctic_2_bis, test_beta)"
   ]
  },
  {
   "cell_type": "code",
   "execution_count": 285,
   "metadata": {},
   "outputs": [
    {
     "data": {
      "text/plain": [
       "array([[ 0.00000000e+00, -4.81525199e+00, -6.95162005e+00],\n",
       "       [ 0.00000000e+00,  4.94488327e-01,  5.17653466e-01],\n",
       "       [ 0.00000000e+00, -5.34681144e-03, -4.97890760e-03]])"
      ]
     },
     "execution_count": 285,
     "metadata": {},
     "output_type": "execute_result"
    }
   ],
   "source": [
    "solution_arctic = list_params[-1]\n",
    "\n",
    "beta_arctic_2 = solution_arctic[:(n_features+2)*n_classes].reshape((n_features+2,n_classes))\n",
    "beta_arctic_2"
   ]
  },
  {
   "cell_type": "code",
   "execution_count": 286,
   "metadata": {},
   "outputs": [
    {
     "data": {
      "image/png": "[encoded data removed]",
      "text/plain": [
       "<Figure size 432x288 with 1 Axes>"
      ]
     },
     "metadata": {
      "needs_background": "light"
     },
     "output_type": "display_data"
    }
   ],
   "source": [
    "mu_arctic_2 = dirichlet_regression.compute_mu(X_new_2_bis, beta_arctic_2)\n",
    "\n",
    "#gamma_var_arctic_2 = solution_arctic_bis[(n_features+2)*n_classes:]\n",
    "#phi_arctic_2 = np.exp(np.matmul(Z_arctic,gamma_var_arctic_2))\n",
    "\n",
    "plt.scatter(X_arctic,Y_arctic[:,0],label='Sand')\n",
    "plt.scatter(X_arctic,Y_arctic[:,1],label='Silt')\n",
    "plt.scatter(X_arctic,Y_arctic[:,2],label='Clay')\n",
    "plt.plot(X_new, mu_arctic_2)\n",
    "plt.legend()\n",
    "plt.show()"
   ]
  },
  {
   "cell_type": "code",
   "execution_count": null,
   "metadata": {},
   "outputs": [],
   "source": []
  }
 ],
 "metadata": {
  "kernelspec": {
   "display_name": "Python 3 (ipykernel)",
   "language": "python",
   "name": "python3"
  },
  "language_info": {
   "codemirror_mode": {
    "name": "ipython",
    "version": 3
   },
   "file_extension": ".py",
   "mimetype": "text/x-python",
   "name": "python",
   "nbconvert_exporter": "python",
   "pygments_lexer": "ipython3",
   "version": "3.9.13"
  }
 },
 "nbformat": 4,
 "nbformat_minor": 4
}
