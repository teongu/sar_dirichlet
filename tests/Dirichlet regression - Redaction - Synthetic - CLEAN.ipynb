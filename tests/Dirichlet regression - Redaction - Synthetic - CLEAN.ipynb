{
 "cells": [
  {
   "cell_type": "markdown",
   "metadata": {},
   "source": [
    "# Importing the packages and data"
   ]
  },
  {
   "cell_type": "code",
   "execution_count": 1,
   "metadata": {},
   "outputs": [],
   "source": [
    "%load_ext autoreload\n",
    "%autoreload 2"
   ]
  },
  {
   "cell_type": "code",
   "execution_count": 2,
   "metadata": {},
   "outputs": [],
   "source": [
    "import numpy as np\n",
    "import pandas as pd\n",
    "import matplotlib.pyplot as plt\n",
    "from mpl_toolkits import mplot3d\n",
    "import scipy\n",
    "from sklearn.metrics import r2_score\n",
    "from sklearn.metrics import mean_squared_error\n",
    "from scipy.special import gamma, digamma, polygamma\n",
    "import math\n",
    "\n",
    "from sklearn.neighbors import NearestNeighbors\n",
    "from sklearn.model_selection import train_test_split\n",
    "from sklearn.model_selection import KFold\n",
    "import random\n",
    "\n",
    "import scipy.optimize\n",
    "from scipy.optimize import Bounds\n",
    "\n",
    "from scipy.stats import ttest_ind"
   ]
  },
  {
   "cell_type": "code",
   "execution_count": 3,
   "metadata": {},
   "outputs": [],
   "source": [
    "from prettytable import PrettyTable"
   ]
  },
  {
   "cell_type": "code",
   "execution_count": 4,
   "metadata": {},
   "outputs": [],
   "source": [
    "import dirichlet_regression"
   ]
  },
  {
   "cell_type": "code",
   "execution_count": 5,
   "metadata": {},
   "outputs": [],
   "source": [
    "from scipy.optimize import fmin, newton, minimize"
   ]
  },
  {
   "cell_type": "code",
   "execution_count": 6,
   "metadata": {},
   "outputs": [],
   "source": [
    "def create_features_matrices(n_samples,n_features,choice_W='X_dependent',threshold_neighbors=0.3,nneighbors=5,cov_mat=None):\n",
    "    \n",
    "    if cov_mat is None:\n",
    "        cov_mat = np.array([[1., 0.2], [0.2, 1.]])\n",
    "    X = np.random.multivariate_normal([0.]*n_features,cov_mat,size=n_samples)\n",
    "    #X = np.random.uniform(size=(n_samples,n_features))\n",
    "    X = np.array([np.concatenate(([1],x)) for x in X])\n",
    "    Z = np.random.uniform(size=(n_samples,n_features))\n",
    "    \n",
    "    if choice_W == 'X_dependent':\n",
    "        distance_matrix = scipy.spatial.distance_matrix(X,X)\n",
    "        W = np.zeros(np.shape(distance_matrix))\n",
    "        W[distance_matrix < threshold_neighbors] = 1\n",
    "    elif choice_W == 'random_distance':\n",
    "        random_spatial_distance = np.random.rand(n_samples,n_features)\n",
    "        neighbors = NearestNeighbors(n_neighbors=nneighbors).fit(random_spatial_distance)\n",
    "        W = neighbors.kneighbors_graph(random_spatial_distance, mode='distance').toarray()\n",
    "        W[W>0] = 1/W[W>0]\n",
    "    else:\n",
    "        random_spatial_distance = np.random.rand(n_samples,n_features)\n",
    "        neighbors = NearestNeighbors(n_neighbors=nneighbors).fit(random_spatial_distance)\n",
    "        W = neighbors.kneighbors_graph(random_spatial_distance).toarray()\n",
    "    # replace the 1 on the diagonal by 0\n",
    "    np.fill_diagonal(W,0)\n",
    "    # scaling the matrix, so that the sum of each row is 1\n",
    "    W = W/W.sum(axis=1)[:,None]\n",
    "    return(X,Z,W)"
   ]
  },
  {
   "cell_type": "code",
   "execution_count": 7,
   "metadata": {},
   "outputs": [],
   "source": [
    "def cos_similarity(x1,x2):\n",
    "    # cosine similarity for two matrices, computed as the mean of the cosine similarities of each row\n",
    "    return(np.mean([np.dot(x1[i],x2[i])/(np.linalg.norm(x1[i])*np.linalg.norm(x2[i])) for i in range(len(x1))]))"
   ]
  },
  {
   "cell_type": "markdown",
   "metadata": {},
   "source": [
    "# With two features"
   ]
  },
  {
   "cell_type": "code",
   "execution_count": 8,
   "metadata": {},
   "outputs": [],
   "source": [
    "n_features = 2\n",
    "n_classes = 3"
   ]
  },
  {
   "cell_type": "code",
   "execution_count": 10,
   "metadata": {},
   "outputs": [],
   "source": [
    "np.random.seed(21)\n",
    "\n",
    "beta = np.array([[0.  , 0. , .1],\n",
    "                 [0.  , 1., -2.],\n",
    "                 [0.  , -1., -2. ]])\n",
    "\n",
    "gamma_var = np.array([2.,3.])"
   ]
  },
  {
   "cell_type": "code",
   "execution_count": 11,
   "metadata": {},
   "outputs": [],
   "source": [
    "n_repeat = 100\n",
    "list_n_samples = [50,200,1000]"
   ]
  },
  {
   "cell_type": "code",
   "execution_count": 12,
   "metadata": {},
   "outputs": [],
   "source": [
    "cov_matrix = np.array([[1., 0.2], [0.2, 1.]])"
   ]
  },
  {
   "cell_type": "markdown",
   "metadata": {},
   "source": [
    "# Estimation of the parameters"
   ]
  },
  {
   "cell_type": "code",
   "execution_count": 80,
   "metadata": {},
   "outputs": [],
   "source": [
    "n_samples=200\n",
    "rho=0.9\n",
    "\n",
    "X,Z,W = create_features_matrices(n_samples,n_features,choice_W='random_distance',nneighbors=10,cov_mat=cov_matrix)\n",
    "Z[:,0] = 1\n",
    "M = np.identity(n_samples) - rho*W\n",
    "\n",
    "mu = dirichlet_regression.compute_mu_spatial(X, beta, M)\n",
    "#phi = np.exp(np.matmul(Z,gamma_var))\n",
    "phi = 15*np.ones(n_samples)\n",
    "alpha = mu*phi[:,None]\n",
    "\n",
    "Y = np.array([np.random.dirichlet(alpha_i) for alpha_i in alpha])\n",
    "Y = (Y*(n_samples-1)+1/n_classes)/n_samples"
   ]
  },
  {
   "cell_type": "code",
   "execution_count": 77,
   "metadata": {},
   "outputs": [
    {
     "data": {
      "text/plain": [
       "array([38.38067552, 76.35362904, 85.26569544])"
      ]
     },
     "execution_count": 77,
     "metadata": {},
     "output_type": "execute_result"
    }
   ],
   "source": [
    "np.sum(Y,axis=0)"
   ]
  },
  {
   "cell_type": "code",
   "execution_count": 78,
   "metadata": {},
   "outputs": [
    {
     "name": "stdout",
     "output_type": "stream",
     "text": [
      "b'CONVERGENCE: REL_REDUCTION_OF_F_<=_FACTR*EPSMCH'\n",
      "Wall time: 7.22 s\n"
     ]
    }
   ],
   "source": [
    "%%time\n",
    "reg_spatial = dirichlet_regression.dirichletRegressor(spatial=True, maxfun=5000)\n",
    "reg_spatial.fit(X, Y, parametrization='alternative', Z=Z, W=W, fit_intercept=False, verbose=1)\n"
   ]
  },
  {
   "cell_type": "code",
   "execution_count": 79,
   "metadata": {},
   "outputs": [
    {
     "name": "stdout",
     "output_type": "stream",
     "text": [
      "Optimization terminated successfully.\n",
      "Wall time: 606 ms\n"
     ]
    }
   ],
   "source": [
    "%%time\n",
    "reg_spatial_ce = dirichlet_regression.dirichletRegressor(spatial=True)\n",
    "reg_spatial_ce.fit(X, Y, parametrization='alternative', Z=Z, W=W, fit_intercept=False, verbose=1, loss='crossentropy')\n"
   ]
  },
  {
   "cell_type": "markdown",
   "metadata": {},
   "source": [
    "Test on another set of data (rerun the generation of X and W beforehand)"
   ]
  },
  {
   "cell_type": "code",
   "execution_count": 81,
   "metadata": {
    "scrolled": true
   },
   "outputs": [
    {
     "name": "stdout",
     "output_type": "stream",
     "text": [
      "R2: 0.7406959828864667\n",
      "Cos similarity: 0.9779101601507182\n",
      "RMSE: 0.1225223647569414\n"
     ]
    }
   ],
   "source": [
    "mu_pred = reg_spatial.pred(X,W)\n",
    "print('R2:',r2_score(Y,mu_pred))\n",
    "print('Cos similarity:',cos_similarity(Y, mu_pred))\n",
    "print('RMSE:',mean_squared_error(Y,mu_pred,squared=False))"
   ]
  },
  {
   "cell_type": "code",
   "execution_count": 82,
   "metadata": {},
   "outputs": [
    {
     "name": "stdout",
     "output_type": "stream",
     "text": [
      "R2: 0.9594509374281396\n",
      "Cos similarity: 0.9968907893785736\n",
      "RMSE: 0.04279544323423783\n"
     ]
    }
   ],
   "source": [
    "mu_pred = reg_spatial_ce.pred(X,W)\n",
    "print('R2:',r2_score(Y,mu_pred))\n",
    "print('Cos similarity:',cos_similarity(Y, mu_pred))\n",
    "print('RMSE:',mean_squared_error(Y,mu_pred,squared=False))"
   ]
  },
  {
   "cell_type": "markdown",
   "metadata": {},
   "source": [
    "---"
   ]
  },
  {
   "cell_type": "code",
   "execution_count": 232,
   "metadata": {},
   "outputs": [],
   "source": [
    "def estimating_parameters(rho, n_repeat=100, list_n_samples=[50,200,1000], cov_matrix=None):\n",
    "    list_solutions_spatial, list_solutions_no_spatial = [], []\n",
    "    list_solutions_ce_spatial, list_solutions_ce_no_spatial = [], []\n",
    "\n",
    "    seed=0\n",
    "\n",
    "    for i in range(len(list_n_samples)):\n",
    "        n_samples = list_n_samples[i]\n",
    "\n",
    "        true_params = np.concatenate([beta.flatten(),gamma_var, [rho]])\n",
    "\n",
    "        solutions_spatial_temp, solutions_no_spatial_temp = [], []\n",
    "        solutions_ce_spatial_temp, solutions_ce_no_spatial_temp = [], []\n",
    "        for _ in range(n_repeat):\n",
    "            np.random.seed(seed)\n",
    "\n",
    "            X,Z,W = create_features_matrices(n_samples,n_features,choice_W='random_distance',nneighbors=10,cov_mat=cov_matrix)\n",
    "            Z[:,0] = 1\n",
    "            M = np.identity(n_samples) - rho*W\n",
    "            \n",
    "            try:\n",
    "                mu = dirichlet_regression.compute_mu_spatial(X, beta, M)\n",
    "                phi = np.exp(np.matmul(Z,gamma_var))\n",
    "                alpha = mu*phi[:,None]\n",
    "\n",
    "                Y = np.array([np.random.dirichlet(alpha_i) for alpha_i in alpha])\n",
    "                Y = (Y*(n_samples-1)+1/n_classes)/n_samples\n",
    "\n",
    "                reg_spatial = dirichlet_regression.dirichletRegressor(spatial=True, maxfun=5000)\n",
    "                reg_spatial.fit(X, Y, parametrization='alternative', Z=Z, W=W, fit_intercept=False, verbose=0)\n",
    "                solutions_spatial_temp.append(np.concatenate([reg_spatial.beta.flatten(),reg_spatial.gamma,[reg_spatial.rho]]))\n",
    "\n",
    "                reg_no_spatial = dirichlet_regression.dirichletRegressor(spatial=False, maxfun=5000)\n",
    "                reg_no_spatial.fit(X, Y, parametrization='alternative', Z=Z, fit_intercept=False, verbose=0)\n",
    "                solutions_no_spatial_temp.append(np.concatenate([reg_no_spatial.beta.flatten(),reg_no_spatial.gamma]))\n",
    "\n",
    "                reg_spatial_ce = dirichlet_regression.dirichletRegressor(spatial=True, maxfun=5000)\n",
    "                reg_spatial_ce.fit(X, Y, loss='crossentropy', W=W, fit_intercept=False, verbose=0)\n",
    "                solutions_ce_spatial_temp.append(np.concatenate([reg_spatial_ce.beta.flatten(),[reg_spatial_ce.rho]]))\n",
    "\n",
    "                reg_no_spatial_ce = dirichlet_regression.dirichletRegressor(spatial=False, maxfun=5000)\n",
    "                reg_no_spatial_ce.fit(X, Y, loss='crossentropy', fit_intercept=False, verbose=0)\n",
    "                solutions_ce_no_spatial_temp.append(reg_no_spatial_ce.beta.flatten())\n",
    "\n",
    "            except RuntimeError:\n",
    "                print(\"Factor is exactly singular\")\n",
    "            except np.linalg.LinAlgError:\n",
    "                print(\"Singular matrix\")\n",
    "\n",
    "            seed+=1\n",
    "        list_solutions_spatial.append(solutions_spatial_temp)\n",
    "        list_solutions_no_spatial.append(solutions_no_spatial_temp)\n",
    "        list_solutions_ce_spatial.append(solutions_ce_spatial_temp)\n",
    "        list_solutions_ce_no_spatial.append(solutions_ce_no_spatial_temp)\n",
    "    return(list_solutions_spatial, list_solutions_no_spatial, list_solutions_ce_spatial, list_solutions_ce_no_spatial)"
   ]
  },
  {
   "cell_type": "markdown",
   "metadata": {},
   "source": [
    "## rho=0.1"
   ]
  },
  {
   "cell_type": "code",
   "execution_count": 233,
   "metadata": {},
   "outputs": [
    {
     "name": "stdout",
     "output_type": "stream",
     "text": [
      "Wall time: 17min 22s\n"
     ]
    }
   ],
   "source": [
    "%%time\n",
    "list_solutions_spatial, list_solutions_no_spatial, list_solutions_ce_spatial, list_solutions_ce_no_spatial = estimating_parameters(0.1, n_repeat=100, list_n_samples=[50,200,1000], cov_matrix=cov_matrix)"
   ]
  },
  {
   "cell_type": "code",
   "execution_count": 234,
   "metadata": {},
   "outputs": [],
   "source": [
    "true_params_effective = np.concatenate([beta[:,1:].flatten(),gamma_var, [rho]])\n",
    "true_params_effective_no_spatial = np.concatenate([beta[:,1:].flatten(),gamma_var])"
   ]
  },
  {
   "cell_type": "code",
   "execution_count": 235,
   "metadata": {},
   "outputs": [],
   "source": [
    "np.save('Data Dirichlet/dirichlet_solutions_spatial_rho01.npy',list_solutions_spatial)\n",
    "np.save('Data Dirichlet/dirichlet_solutions_no_spatial_rho01.npy',list_solutions_no_spatial)\n",
    "np.save('Data Dirichlet/dirichlet_solutions_ce_spatial_rho01.npy',list_solutions_ce_spatial)\n",
    "np.save('Data Dirichlet/dirichlet_solutions_ce_no_spatial_rho01.npy',list_solutions_ce_no_spatial)"
   ]
  },
  {
   "cell_type": "markdown",
   "metadata": {},
   "source": [
    "## rho=0.5"
   ]
  },
  {
   "cell_type": "code",
   "execution_count": 242,
   "metadata": {},
   "outputs": [
    {
     "name": "stdout",
     "output_type": "stream",
     "text": [
      "Singular matrix\n",
      "Singular matrix\n",
      "Singular matrix\n",
      "Wall time: 29min 54s\n"
     ]
    }
   ],
   "source": [
    "%%time\n",
    "list_solutions_spatial, list_solutions_no_spatial, list_solutions_ce_spatial, list_solutions_ce_no_spatial = estimating_parameters(0.5, n_repeat=100, list_n_samples=[50,200,1000], cov_matrix=cov_matrix)"
   ]
  },
  {
   "cell_type": "code",
   "execution_count": 243,
   "metadata": {},
   "outputs": [
    {
     "name": "stderr",
     "output_type": "stream",
     "text": [
      "C:\\Users\\tnguyen001\\AppData\\Roaming\\Python\\Python38\\site-packages\\numpy\\core\\_asarray.py:136: VisibleDeprecationWarning: Creating an ndarray from ragged nested sequences (which is a list-or-tuple of lists-or-tuples-or ndarrays with different lengths or shapes) is deprecated. If you meant to do this, you must specify 'dtype=object' when creating the ndarray\n",
      "  return array(a, dtype, copy=False, order=order, subok=True)\n"
     ]
    }
   ],
   "source": [
    "np.save('Data Dirichlet/dirichlet_solutions_spatial_rho05.npy',list_solutions_spatial)\n",
    "np.save('Data Dirichlet/dirichlet_solutions_no_spatial_rho05.npy',list_solutions_no_spatial)\n",
    "np.save('Data Dirichlet/dirichlet_solutions_ce_spatial_rho05.npy',list_solutions_ce_spatial)\n",
    "np.save('Data Dirichlet/dirichlet_solutions_ce_no_spatial_rho05.npy',list_solutions_ce_no_spatial)"
   ]
  },
  {
   "cell_type": "markdown",
   "metadata": {},
   "source": [
    "## rho = 0.9"
   ]
  },
  {
   "cell_type": "code",
   "execution_count": 251,
   "metadata": {},
   "outputs": [
    {
     "name": "stdout",
     "output_type": "stream",
     "text": [
      "Singular matrix\n",
      "Singular matrix\n",
      "Singular matrix\n"
     ]
    },
    {
     "name": "stderr",
     "output_type": "stream",
     "text": [
      "C:\\Users\\tnguyen001\\AppData\\Roaming\\Python\\Python38\\site-packages\\scipy\\optimize\\optimize.py:697: RuntimeWarning: invalid value encountered in double_scalars\n",
      "  df = (f(*((xk + d,) + args)) - f0) / d[k]\n",
      "C:\\Users\\tnguyen001\\AppData\\Roaming\\Python\\Python38\\site-packages\\scipy\\optimize\\optimize.py:697: RuntimeWarning: invalid value encountered in double_scalars\n",
      "  df = (f(*((xk + d,) + args)) - f0) / d[k]\n"
     ]
    },
    {
     "name": "stdout",
     "output_type": "stream",
     "text": [
      "Wall time: 1h 13min 6s\n"
     ]
    }
   ],
   "source": [
    "%%time\n",
    "list_solutions_spatial, list_solutions_no_spatial, list_solutions_ce_spatial, list_solutions_ce_no_spatial = estimating_parameters(0.9, n_repeat=100, list_n_samples=[50,200,1000], cov_matrix=cov_matrix)"
   ]
  },
  {
   "cell_type": "code",
   "execution_count": 252,
   "metadata": {},
   "outputs": [
    {
     "name": "stderr",
     "output_type": "stream",
     "text": [
      "C:\\Users\\tnguyen001\\AppData\\Roaming\\Python\\Python38\\site-packages\\numpy\\core\\_asarray.py:136: VisibleDeprecationWarning: Creating an ndarray from ragged nested sequences (which is a list-or-tuple of lists-or-tuples-or ndarrays with different lengths or shapes) is deprecated. If you meant to do this, you must specify 'dtype=object' when creating the ndarray\n",
      "  return array(a, dtype, copy=False, order=order, subok=True)\n"
     ]
    }
   ],
   "source": [
    "np.save('Data Dirichlet/dirichlet_solutions_spatial_rho09.npy',list_solutions_spatial)\n",
    "np.save('Data Dirichlet/dirichlet_solutions_no_spatial_rho09.npy',list_solutions_no_spatial)\n",
    "np.save('Data Dirichlet/dirichlet_solutions_ce_spatial_rho09.npy',list_solutions_ce_spatial)\n",
    "np.save('Data Dirichlet/dirichlet_solutions_ce_no_spatial_rho09.npy',list_solutions_ce_no_spatial)"
   ]
  },
  {
   "cell_type": "markdown",
   "metadata": {},
   "source": [
    "## rho=0"
   ]
  },
  {
   "cell_type": "code",
   "execution_count": 276,
   "metadata": {},
   "outputs": [
    {
     "name": "stdout",
     "output_type": "stream",
     "text": [
      "Wall time: 22min 27s\n"
     ]
    }
   ],
   "source": [
    "%%time\n",
    "list_solutions_spatial, list_solutions_no_spatial, list_solutions_ce_spatial, list_solutions_ce_no_spatial = estimating_parameters(0., n_repeat=100, list_n_samples=[50,200,1000], cov_matrix=cov_matrix)"
   ]
  },
  {
   "cell_type": "code",
   "execution_count": 277,
   "metadata": {},
   "outputs": [],
   "source": [
    "np.save('Data Dirichlet/dirichlet_solutions_spatial_rho00.npy',list_solutions_spatial)\n",
    "np.save('Data Dirichlet/dirichlet_solutions_no_spatial_rho00.npy',list_solutions_no_spatial)\n",
    "np.save('Data Dirichlet/dirichlet_solutions_ce_spatial_rho00.npy',list_solutions_ce_spatial)\n",
    "np.save('Data Dirichlet/dirichlet_solutions_ce_no_spatial_rho00.npy',list_solutions_ce_no_spatial)"
   ]
  },
  {
   "cell_type": "markdown",
   "metadata": {},
   "source": [
    "# Analysis of the results"
   ]
  },
  {
   "cell_type": "code",
   "execution_count": 13,
   "metadata": {},
   "outputs": [],
   "source": [
    "from texttable import Texttable\n",
    "import latextable"
   ]
  },
  {
   "cell_type": "code",
   "execution_count": 14,
   "metadata": {},
   "outputs": [],
   "source": [
    "list_solutions_spatial_01 = np.load('Data Dirichlet/dirichlet_solutions_spatial_rho01.npy')\n",
    "list_solutions_no_spatial_01 = np.load('Data Dirichlet/dirichlet_solutions_no_spatial_rho01.npy')\n",
    "list_solutions_ce_spatial_01 = np.load('Data Dirichlet/dirichlet_solutions_ce_spatial_rho01.npy')\n",
    "list_solutions_ce_no_spatial_01 = np.load('Data Dirichlet/dirichlet_solutions_ce_no_spatial_rho01.npy')"
   ]
  },
  {
   "cell_type": "code",
   "execution_count": 15,
   "metadata": {},
   "outputs": [],
   "source": [
    "list_solutions_spatial_05 = np.load('Data Dirichlet/dirichlet_solutions_spatial_rho05.npy', allow_pickle=True)\n",
    "list_solutions_no_spatial_05 = np.load('Data Dirichlet/dirichlet_solutions_no_spatial_rho05.npy', allow_pickle=True)\n",
    "list_solutions_ce_spatial_05 = np.load('Data Dirichlet/dirichlet_solutions_ce_spatial_rho05.npy', allow_pickle=True)\n",
    "list_solutions_ce_no_spatial_05 = np.load('Data Dirichlet/dirichlet_solutions_ce_no_spatial_rho05.npy', allow_pickle=True)"
   ]
  },
  {
   "cell_type": "code",
   "execution_count": 16,
   "metadata": {},
   "outputs": [],
   "source": [
    "list_solutions_spatial_09 = np.load('Data Dirichlet/dirichlet_solutions_spatial_rho09.npy', allow_pickle=True)\n",
    "list_solutions_no_spatial_09 = np.load('Data Dirichlet/dirichlet_solutions_no_spatial_rho09.npy', allow_pickle=True)\n",
    "list_solutions_ce_spatial_09 = np.load('Data Dirichlet/dirichlet_solutions_ce_spatial_rho09.npy', allow_pickle=True)\n",
    "list_solutions_ce_no_spatial_09 = np.load('Data Dirichlet/dirichlet_solutions_ce_no_spatial_rho09.npy', allow_pickle=True)"
   ]
  },
  {
   "cell_type": "code",
   "execution_count": 17,
   "metadata": {},
   "outputs": [],
   "source": [
    "true_params_effective_01 = np.concatenate([beta[:,1:].flatten(),gamma_var, [0.1]])\n",
    "true_params_effective_05 = np.concatenate([beta[:,1:].flatten(),gamma_var, [0.5]])\n",
    "true_params_effective_09 = np.concatenate([beta[:,1:].flatten(),gamma_var, [0.9]])\n",
    "true_params_effective_no_spatial = np.concatenate([beta[:,1:].flatten(),gamma_var])"
   ]
  },
  {
   "cell_type": "code",
   "execution_count": 18,
   "metadata": {},
   "outputs": [],
   "source": [
    "list_solutions_spatial_00 = np.load('Data Dirichlet/dirichlet_solutions_spatial_rho00.npy')\n",
    "list_solutions_no_spatial_00 = np.load('Data Dirichlet/dirichlet_solutions_no_spatial_rho00.npy')\n",
    "list_solutions_ce_spatial_00 = np.load('Data Dirichlet/dirichlet_solutions_ce_spatial_rho00.npy', allow_pickle=True)\n",
    "list_solutions_ce_no_spatial_00 = np.load('Data Dirichlet/dirichlet_solutions_ce_no_spatial_rho00.npy', allow_pickle=True)\n",
    "true_params_effective_00 = np.concatenate([beta[:,1:].flatten(),gamma_var, [0.]])"
   ]
  },
  {
   "cell_type": "markdown",
   "metadata": {},
   "source": [
    "### Results of maximum likelihood"
   ]
  },
  {
   "cell_type": "code",
   "execution_count": 281,
   "metadata": {
    "scrolled": true
   },
   "outputs": [
    {
     "name": "stdout",
     "output_type": "stream",
     "text": [
      "+-----------+-----------+----------+----------+----------+----------+----------+\n",
      "| Parameter | S n=50    | S n=200  | S n=1000 | NS n=50  | NS n=200 | NS       |\n",
      "|           |           |          |          |          |          | n=1000   |\n",
      "+-----------+-----------+----------+----------+----------+----------+----------+\n",
      "| \\multirow | 0.013     | 0.012    | 0.01     | 0.014    | 0.012    | 0.011    |\n",
      "| {2}{*}{$\\ | (0.059)   | (0.032)  | (0.016)  | (0.067)  | (0.036)  | (0.018)  |\n",
      "| beta_{01} |           |          |          |          |          |          |\n",
      "| $}        |           |          |          |          |          |          |\n",
      "+-----------+-----------+----------+----------+----------+----------+----------+\n",
      "|           | [0.004]   | [0.001]  | [0.0]    |  [0.005] |  [0.001] |  [0.0]   |\n",
      "+-----------+-----------+----------+----------+----------+----------+----------+\n",
      "| \\multirow | 0.038     | 0.035    | 0.031    | 0.051    | 0.055    | 0.047    |\n",
      "| {2}{*}{$\\ | (0.087)   | (0.034)  | (0.016)  | (0.106)  | (0.046)  | (0.021)  |\n",
      "| beta_{02} |           |          |          |          |          |          |\n",
      "| $}        |           |          |          |          |          |          |\n",
      "+-----------+-----------+----------+----------+----------+----------+----------+\n",
      "|           | [0.009]   | [0.002]  | [0.001]  |  [0.014] |  [0.005] |  [0.003] |\n",
      "+-----------+-----------+----------+----------+----------+----------+----------+\n",
      "| \\multirow | -0.062    | -0.037   | -0.019   | -0.067   | -0.04    | -0.021   |\n",
      "| {2}{*}{$\\ | (0.079)   | (0.038)  | (0.017)  | (0.081)  | (0.038)  | (0.017)  |\n",
      "| beta_{11} |           |          |          |          |          |          |\n",
      "| $}        |           |          |          |          |          |          |\n",
      "+-----------+-----------+----------+----------+----------+----------+----------+\n",
      "|           | [0.01]    | [0.003]  | [0.001]  |  [0.011] |  [0.003] |  [0.001] |\n",
      "+-----------+-----------+----------+----------+----------+----------+----------+\n",
      "| \\multirow | 0.277     | 0.185    | 0.141    | 0.288    | 0.198    | 0.158    |\n",
      "| {2}{*}{$\\ | (0.12)    | (0.051)  | (0.023)  | (0.127)  | (0.055)  | (0.024)  |\n",
      "| beta_{12} |           |          |          |          |          |          |\n",
      "| $}        |           |          |          |          |          |          |\n",
      "+-----------+-----------+----------+----------+----------+----------+----------+\n",
      "|           | [0.091]   | [0.037]  | [0.02]   |  [0.099] |  [0.042] |  [0.026] |\n",
      "+-----------+-----------+----------+----------+----------+----------+----------+\n",
      "| \\multirow | 0.042     | 0.015    | 0.004    | 0.045    | 0.017    | 0.007    |\n",
      "| {2}{*}{$\\ | (0.083)   | (0.035)  | (0.014)  | (0.081)  | (0.035)  | (0.015)  |\n",
      "| beta_{21} |           |          |          |          |          |          |\n",
      "| $}        |           |          |          |          |          |          |\n",
      "+-----------+-----------+----------+----------+----------+----------+----------+\n",
      "|           | [0.009]   | [0.001]  | [0.0]    |  [0.009] |  [0.002] |  [0.0]   |\n",
      "+-----------+-----------+----------+----------+----------+----------+----------+\n",
      "| \\multirow | 0.197     | 0.123    | 0.088    | 0.203    | 0.131    | 0.101    |\n",
      "| {2}{*}{$\\ | (0.108)   | (0.05)   | (0.023)  | (0.105)  | (0.053)  | (0.025)  |\n",
      "| beta_{22} |           |          |          |          |          |          |\n",
      "| $}        |           |          |          |          |          |          |\n",
      "+-----------+-----------+----------+----------+----------+----------+----------+\n",
      "|           | [0.051]   | [0.018]  | [0.008]  |  [0.052] |  [0.02]  |  [0.011] |\n",
      "+-----------+-----------+----------+----------+----------+----------+----------+\n",
      "| \\multirow | 0.534     | 0.353    | 0.269    | 0.522    | 0.349    | 0.264    |\n",
      "| {2}{*}{$\\ | (0.312)   | (0.139)  | (0.066)  | (0.32)   | (0.144)  | (0.066)  |\n",
      "| gamma_0$} |           |          |          |          |          |          |\n",
      "+-----------+-----------+----------+----------+----------+----------+----------+\n",
      "|           | [0.382]   | [0.144]  | [0.077]  |  [0.375] |  [0.143] |  [0.074] |\n",
      "+-----------+-----------+----------+----------+----------+----------+----------+\n",
      "| \\multirow | -0.354    | -0.324   | -0.294   | -0.453   | -0.448   | -0.416   |\n",
      "| {2}{*}{$\\ | (0.598)   | (0.246)  | (0.105)  | (0.612)  | (0.266)  | (0.11)   |\n",
      "| gamma_1$} |           |          |          |          |          |          |\n",
      "+-----------+-----------+----------+----------+----------+----------+----------+\n",
      "|           | [0.483]   | [0.165]  | [0.098]  |  [0.58]  |  [0.272] |  [0.185] |\n",
      "+-----------+-----------+----------+----------+----------+----------+----------+\n",
      "| \\multirow | -0.01     | -0.003   | -0.0     | /        | /        | /        |\n",
      "| {2}{*}{$\\ | (0.052)   | (0.023)  | (0.009)  |          |          |          |\n",
      "| rho$}     |           |          |          |          |          |          |\n",
      "+-----------+-----------+----------+----------+----------+----------+----------+\n",
      "|           | [0.003]   | [0.001]  | [0.0]    | /        | /        | /        |\n",
      "+-----------+-----------+----------+----------+----------+----------+----------+\n"
     ]
    }
   ],
   "source": [
    "table_params = Texttable()\n",
    "table_params.add_row([\"Parameter\", \"S n=50\", \"S n=200\", \"S n=1000\",\n",
    "                      \"NS n=50\", \"NS n=200\", \"NS n=1000\"])\n",
    "                      \n",
    "#param_names = [\"$\\\\beta_{01}$\", \"\", \"$\\\\beta_{02}$\", \"\", \"$\\\\beta_{11}$\", \"\", \"$\\\\beta_{12}$\", \"\",\n",
    "#               \"$\\\\beta_{21}$\", \"\", \"$\\\\beta_{22}$\", \"\", \"$\\\\gamma_0$\", \"\", \"$\\\\gamma_1$\", \"\", \"$\\\\rho$\", \"\"]\n",
    "\n",
    "param_names = [\"\\\\multirow{2}{*}{$\\\\beta_{01}$}\", \"\\\\multirow{2}{*}{$\\\\beta_{02}$}\", \"\\\\multirow{2}{*}{$\\\\beta_{11}$}\",\n",
    "               \"\\\\multirow{2}{*}{$\\\\beta_{12}$}\", \"\\\\multirow{2}{*}{$\\\\beta_{21}$}\", \"\\\\multirow{2}{*}{$\\\\beta_{22}$}\",\n",
    "               \"\\\\multirow{2}{*}{$\\\\gamma_0$}\", \"\\\\multirow{2}{*}{$\\\\gamma_1$}\", \"\\\\multirow{2}{*}{$\\\\rho$}\" ]\n",
    "param_names_2 = [\"\"]*len(param_names)\n",
    "\n",
    "columns_1 = []\n",
    "columns_2 = []\n",
    "\n",
    "for ns in range(3):\n",
    "    col_to_add = [str(np.round(np.mean(list_solutions_spatial_01[ns][:,i] - true_params_effective_01[i]),3))\n",
    "                  +' ('+str(np.round(np.std(list_solutions_spatial_01[ns][:,i] - true_params_effective_01[i]),3))+')' for i in range(len(true_params_effective_01))]\n",
    "    columns_1.append(col_to_add)\n",
    "    col_to_add = ['['+  str(np.round(mean_squared_error(list_solutions_spatial_01[ns][:,i], [true_params_effective_01[i]]*100),3)) +']' for i in range(len(true_params_effective_01))]\n",
    "    columns_2.append(col_to_add)\n",
    "    \n",
    "for ns in range(3):\n",
    "    col_to_add = [str(np.round(np.mean(list_solutions_no_spatial_01[ns][:,i] - true_params_effective_no_spatial[i]),3))\n",
    "                  +' ('+str(np.round(np.std(list_solutions_no_spatial_01[ns][:,i] - true_params_effective_no_spatial[i]),3))+')' for i in range(len(true_params_effective_no_spatial))] + [\"/\"]\n",
    "    columns_1.append(col_to_add)\n",
    "    col_to_add = [' ['+  str(np.round(mean_squared_error(list_solutions_no_spatial_01[ns][:,i], [true_params_effective_no_spatial[i]]*100),3)) +']' for i in range(len(true_params_effective_no_spatial))] + [\"/\"]\n",
    "    columns_2.append(col_to_add)\n",
    "        \n",
    "columns_1.insert(0,param_names)\n",
    "columns_2.insert(0,param_names_2)\n",
    "\n",
    "tr_columns_1 = np.transpose(columns_1)\n",
    "tr_columns_2 = np.transpose(columns_2)\n",
    "for i in range(len(tr_columns_1)):\n",
    "    table_params.add_row(tr_columns_1[i])\n",
    "    table_params.add_row(tr_columns_2[i])\n",
    "\n",
    "print(table_params.draw())"
   ]
  },
  {
   "cell_type": "code",
   "execution_count": 262,
   "metadata": {
    "scrolled": true
   },
   "outputs": [
    {
     "name": "stdout",
     "output_type": "stream",
     "text": [
      "\\begin{table}\n",
      "\t\\begin{center}\n",
      "\t\t\\begin{tabular}{|l|l|l|l|l|l|l|}\n",
      "\t\t\t\\hline\n",
      "\t\t\t \\\\\n",
      "\t\t\t\\hline\n",
      "\t\t\tParameter & S n=50 & S n=200 & S n=1000 & NS n=50 & NS n=200 & NS n=1000 \\\\\n",
      "\t\t\t\\hline\n",
      "\t\t\t\\multirow{2}{*}{$\\beta_{01}$} & 0.013 (0.059) & 0.012 (0.032) & 0.01 (0.016) & 0.014 (0.067) & 0.012 (0.036) & 0.011 (0.018) \\\\\n",
      "\t\t\t\\hline\n",
      "\t\t\t & [0.004] & [0.001] & [0.0] &  [0.005] &  [0.001] &  [0.0] \\\\\n",
      "\t\t\t\\hline\n",
      "\t\t\t\\multirow{2}{*}{$\\beta_{02}$} & 0.038 (0.087) & 0.035 (0.034) & 0.031 (0.016) & 0.051 (0.106) & 0.055 (0.046) & 0.047 (0.021) \\\\\n",
      "\t\t\t\\hline\n",
      "\t\t\t & [0.009] & [0.002] & [0.001] &  [0.014] &  [0.005] &  [0.003] \\\\\n",
      "\t\t\t\\hline\n",
      "\t\t\t\\multirow{2}{*}{$\\beta_{11}$} & -0.062 (0.079) & -0.037 (0.038) & -0.019 (0.017) & -0.067 (0.081) & -0.04 (0.038) & -0.021 (0.017) \\\\\n",
      "\t\t\t\\hline\n",
      "\t\t\t & [0.01] & [0.003] & [0.001] &  [0.011] &  [0.003] &  [0.001] \\\\\n",
      "\t\t\t\\hline\n",
      "\t\t\t\\multirow{2}{*}{$\\beta_{12}$} & 0.277 (0.12) & 0.185 (0.051) & 0.141 (0.023) & 0.288 (0.127) & 0.198 (0.055) & 0.158 (0.024) \\\\\n",
      "\t\t\t\\hline\n",
      "\t\t\t & [0.091] & [0.037] & [0.02] &  [0.099] &  [0.042] &  [0.026] \\\\\n",
      "\t\t\t\\hline\n",
      "\t\t\t\\multirow{2}{*}{$\\beta_{21}$} & 0.042 (0.083) & 0.015 (0.035) & 0.004 (0.014) & 0.045 (0.081) & 0.017 (0.035) & 0.007 (0.015) \\\\\n",
      "\t\t\t\\hline\n",
      "\t\t\t & [0.009] & [0.001] & [0.0] &  [0.009] &  [0.002] &  [0.0] \\\\\n",
      "\t\t\t\\hline\n",
      "\t\t\t\\multirow{2}{*}{$\\beta_{22}$} & 0.197 (0.108) & 0.123 (0.05) & 0.088 (0.023) & 0.203 (0.105) & 0.131 (0.053) & 0.101 (0.025) \\\\\n",
      "\t\t\t\\hline\n",
      "\t\t\t & [0.051] & [0.018] & [0.008] &  [0.052] &  [0.02] &  [0.011] \\\\\n",
      "\t\t\t\\hline\n",
      "\t\t\t\\multirow{2}{*}{$\\gamma_0$} & 0.534 (0.312) & 0.353 (0.139) & 0.269 (0.066) & 0.522 (0.32) & 0.349 (0.144) & 0.264 (0.066) \\\\\n",
      "\t\t\t\\hline\n",
      "\t\t\t & [0.382] & [0.144] & [0.077] &  [0.375] &  [0.143] &  [0.074] \\\\\n",
      "\t\t\t\\hline\n",
      "\t\t\t\\multirow{2}{*}{$\\gamma_1$} & -0.354 (0.598) & -0.324 (0.246) & -0.294 (0.105) & -0.453 (0.612) & -0.448 (0.266) & -0.416 (0.11) \\\\\n",
      "\t\t\t\\hline\n",
      "\t\t\t & [0.483] & [0.165] & [0.098] &  [0.58] &  [0.272] &  [0.185] \\\\\n",
      "\t\t\t\\hline\n",
      "\t\t\t\\multirow{2}{*}{$\\rho$} & -0.01 (0.052) & -0.003 (0.023) & -0.0 (0.009) & / & / & / \\\\\n",
      "\t\t\t\\hline\n",
      "\t\t\t & [0.003] & [0.001] & [0.0] & / & / & / \\\\\n",
      "\t\t\t\\hline\n",
      "\t\t\\end{tabular}\n",
      "\t\\end{center}\n",
      "\t\\caption{Difference between the estimated parameters and the true parameters ($rho=0.1$). The results are presented as the mean of the differences on the 100 iterations, the standard deviation within parenthesis, and the standard deviation within square brackets.}\n",
      "\\end{table}\n"
     ]
    }
   ],
   "source": [
    "print(latextable.draw_latex(table_params, caption=\"Difference between the estimated parameters and the true parameters ($rho=0.1$). The results are presented as the mean of the differences on the 100 iterations, the standard deviation within parenthesis, and the standard deviation within square brackets.\"))"
   ]
  },
  {
   "cell_type": "code",
   "execution_count": 272,
   "metadata": {
    "scrolled": true
   },
   "outputs": [
    {
     "name": "stdout",
     "output_type": "stream",
     "text": [
      "+-----------+-----------+----------+----------+----------+----------+----------+\n",
      "| Parameter | S n=50    | S n=200  | S n=1000 | NS n=50  | NS n=200 | NS       |\n",
      "|           |           |          |          |          |          | n=1000   |\n",
      "+-----------+-----------+----------+----------+----------+----------+----------+\n",
      "| \\multirow | 0.009     | 0.011    | 0.007    | 0.029    | 0.03     | 0.028    |\n",
      "| {2}{*}{$\\ | (0.042)   | (0.02)   | (0.009)  | (0.157)  | (0.079)  | (0.037)  |\n",
      "| beta_{01} |           |          |          |          |          |          |\n",
      "| $}        |           |          |          |          |          |          |\n",
      "+-----------+-----------+----------+----------+----------+----------+----------+\n",
      "|           | [0.002]   | [0.001]  | [0.0]    |  [0.026] |  [0.007] |  [0.002] |\n",
      "+-----------+-----------+----------+----------+----------+----------+----------+\n",
      "| \\multirow | 0.012     | 0.023    | 0.017    | 0.116    | 0.184    | 0.144    |\n",
      "| {2}{*}{$\\ | (0.047)   | (0.017)  | (0.009)  | (0.312)  | (0.147)  | (0.066)  |\n",
      "| beta_{02} |           |          |          |          |          |          |\n",
      "| $}        |           |          |          |          |          |          |\n",
      "+-----------+-----------+----------+----------+----------+----------+----------+\n",
      "|           | [0.002]   | [0.001]  | [0.0]    |  [0.111] |  [0.055] |  [0.025] |\n",
      "+-----------+-----------+----------+----------+----------+----------+----------+\n",
      "| \\multirow | -0.06     | -0.037   | -0.024   | -0.163   | -0.17    | -0.155   |\n",
      "| {2}{*}{$\\ | (0.083)   | (0.037)  | (0.016)  | (0.122)  | (0.057)  | (0.027)  |\n",
      "| beta_{11} |           |          |          |          |          |          |\n",
      "| $}        |           |          |          |          |          |          |\n",
      "+-----------+-----------+----------+----------+----------+----------+----------+\n",
      "|           | [0.011]   | [0.003]  | [0.001]  |  [0.042] |  [0.032] |  [0.025] |\n",
      "+-----------+-----------+----------+----------+----------+----------+----------+\n",
      "| \\multirow | 0.356     | 0.221    | 0.176    | 0.682    | 0.622    | 0.598    |\n",
      "| {2}{*}{$\\ | (0.123)   | (0.061)  | (0.029)  | (0.205)  | (0.099)  | (0.049)  |\n",
      "| beta_{12} |           |          |          |          |          |          |\n",
      "| $}        |           |          |          |          |          |          |\n",
      "+-----------+-----------+----------+----------+----------+----------+----------+\n",
      "|           | [0.142]   | [0.052]  | [0.032]  |  [0.507] |  [0.397] |  [0.36]  |\n",
      "+-----------+-----------+----------+----------+----------+----------+----------+\n",
      "| \\multirow | 0.051     | 0.016    | 0.01     | 0.142    | 0.129    | 0.129    |\n",
      "| {2}{*}{$\\ | (0.067)   | (0.041)  | (0.015)  | (0.123)  | (0.055)  | (0.028)  |\n",
      "| beta_{21} |           |          |          |          |          |          |\n",
      "| $}        |           |          |          |          |          |          |\n",
      "+-----------+-----------+----------+----------+----------+----------+----------+\n",
      "|           | [0.007]   | [0.002]  | [0.0]    |  [0.035] |  [0.02]  |  [0.017] |\n",
      "+-----------+-----------+----------+----------+----------+----------+----------+\n",
      "| \\multirow | 0.246     | 0.145    | 0.113    | 0.511    | 0.472    | 0.462    |\n",
      "| {2}{*}{$\\ | (0.108)   | (0.049)  | (0.022)  | (0.202)  | (0.088)  | (0.042)  |\n",
      "| beta_{22} |           |          |          |          |          |          |\n",
      "| $}        |           |          |          |          |          |          |\n",
      "+-----------+-----------+----------+----------+----------+----------+----------+\n",
      "|           | [0.072]   | [0.023]  | [0.013]  |  [0.302] |  [0.23]  |  [0.216] |\n",
      "+-----------+-----------+----------+----------+----------+----------+----------+\n",
      "| \\multirow | 0.523     | 0.418    | 0.285    | 0.015    | -0.178   | -0.337   |\n",
      "| {2}{*}{$\\ | (0.314)   | (0.153)  | (0.062)  | (0.364)  | (0.164)  | (0.087)  |\n",
      "| gamma_0$} |           |          |          |          |          |          |\n",
      "+-----------+-----------+----------+----------+----------+----------+----------+\n",
      "|           | [0.372]   | [0.198]  | [0.085]  |  [0.132] |  [0.059] |  [0.121] |\n",
      "+-----------+-----------+----------+----------+----------+----------+----------+\n",
      "| \\multirow | -0.363    | -0.395   | -0.313   | -1.828   | -2.0     | -1.92    |\n",
      "| {2}{*}{$\\ | (0.637)   | (0.289)  | (0.109)  | (0.749)  | (0.293)  | (0.137)  |\n",
      "| gamma_1$} |           |          |          |          |          |          |\n",
      "+-----------+-----------+----------+----------+----------+----------+----------+\n",
      "|           | [0.538]   | [0.24]   | [0.11]   |  [3.903] |  [4.086] |  [3.704] |\n",
      "+-----------+-----------+----------+----------+----------+----------+----------+\n",
      "| \\multirow | -0.005    | -0.002   | 0.0      | /        | /        | /        |\n",
      "| {2}{*}{$\\ | (0.032)   | (0.011)  | (0.005)  |          |          |          |\n",
      "| rho$}     |           |          |          |          |          |          |\n",
      "+-----------+-----------+----------+----------+----------+----------+----------+\n",
      "|           | [0.001]   | [0.0]    | [0.0]    | /        | /        | /        |\n",
      "+-----------+-----------+----------+----------+----------+----------+----------+\n"
     ]
    }
   ],
   "source": [
    "table_params = Texttable()\n",
    "table_params.add_row([\"Parameter\", \"S n=50\", \"S n=200\", \"S n=1000\",\n",
    "                      \"NS n=50\", \"NS n=200\", \"NS n=1000\"])\n",
    "                      \n",
    "#param_names = [\"$\\\\beta_{01}$\", \"\", \"$\\\\beta_{02}$\", \"\", \"$\\\\beta_{11}$\", \"\", \"$\\\\beta_{12}$\", \"\",\n",
    "#               \"$\\\\beta_{21}$\", \"\", \"$\\\\beta_{22}$\", \"\", \"$\\\\gamma_0$\", \"\", \"$\\\\gamma_1$\", \"\", \"$\\\\rho$\", \"\"]\n",
    "\n",
    "param_names = [\"\\\\multirow{2}{*}{$\\\\beta_{01}$}\", \"\\\\multirow{2}{*}{$\\\\beta_{02}$}\", \"\\\\multirow{2}{*}{$\\\\beta_{11}$}\",\n",
    "               \"\\\\multirow{2}{*}{$\\\\beta_{12}$}\", \"\\\\multirow{2}{*}{$\\\\beta_{21}$}\", \"\\\\multirow{2}{*}{$\\\\beta_{22}$}\",\n",
    "               \"\\\\multirow{2}{*}{$\\\\gamma_0$}\", \"\\\\multirow{2}{*}{$\\\\gamma_1$}\", \"\\\\multirow{2}{*}{$\\\\rho$}\" ]\n",
    "param_names_2 = [\"\"]*len(param_names)\n",
    "\n",
    "columns_1 = []\n",
    "columns_2 = []\n",
    "\n",
    "for ns in range(3):\n",
    "    col_to_add = [str(np.round(np.mean(np.array(list_solutions_spatial_05[ns])[:,i] - true_params_effective_05[i]),3))\n",
    "                  +' ('+str(np.round(np.std(np.array(list_solutions_spatial_05[ns])[:,i] - true_params_effective_05[i]),3))+')' for i in range(len(true_params_effective_05))]\n",
    "    columns_1.append(col_to_add)\n",
    "    col_to_add = ['['+  str(np.round(mean_squared_error(np.array(list_solutions_spatial_05[ns])[:,i], [true_params_effective_05[i]]*len(list_solutions_spatial_05[ns])),3)) +']' for i in range(len(true_params_effective_05))]\n",
    "    columns_2.append(col_to_add)\n",
    "    \n",
    "for ns in range(3):\n",
    "    col_to_add = [str(np.round(np.mean(np.array(list_solutions_no_spatial_05[ns])[:,i] - true_params_effective_no_spatial[i]),3))\n",
    "                  +' ('+str(np.round(np.std(np.array(list_solutions_no_spatial_05[ns])[:,i] - true_params_effective_no_spatial[i]),3))+')' for i in range(len(true_params_effective_no_spatial))] + [\"/\"]\n",
    "    columns_1.append(col_to_add)\n",
    "    col_to_add = [' ['+  str(np.round(mean_squared_error(np.array(list_solutions_no_spatial_05[ns])[:,i], [true_params_effective_no_spatial[i]]*len(list_solutions_no_spatial_05[ns])),3)) +']' for i in range(len(true_params_effective_no_spatial))] + [\"/\"]\n",
    "    columns_2.append(col_to_add)\n",
    "        \n",
    "columns_1.insert(0,param_names)\n",
    "columns_2.insert(0,param_names_2)\n",
    "\n",
    "tr_columns_1 = np.transpose(columns_1)\n",
    "tr_columns_2 = np.transpose(columns_2)\n",
    "for i in range(len(tr_columns_1)):\n",
    "    table_params.add_row(tr_columns_1[i])\n",
    "    table_params.add_row(tr_columns_2[i])\n",
    "\n",
    "print(table_params.draw())"
   ]
  },
  {
   "cell_type": "code",
   "execution_count": 273,
   "metadata": {
    "scrolled": true
   },
   "outputs": [
    {
     "name": "stdout",
     "output_type": "stream",
     "text": [
      "\\begin{table}\n",
      "\t\\begin{center}\n",
      "\t\t\\begin{tabular}{|l|l|l|l|l|l|l|}\n",
      "\t\t\t\\hline\n",
      "\t\t\t \\\\\n",
      "\t\t\t\\hline\n",
      "\t\t\tParameter & S n=50 & S n=200 & S n=1000 & NS n=50 & NS n=200 & NS n=1000 \\\\\n",
      "\t\t\t\\hline\n",
      "\t\t\t\\multirow{2}{*}{$\\beta_{01}$} & 0.009 (0.042) & 0.011 (0.02) & 0.007 (0.009) & 0.029 (0.157) & 0.03 (0.079) & 0.028 (0.037) \\\\\n",
      "\t\t\t\\hline\n",
      "\t\t\t & [0.002] & [0.001] & [0.0] &  [0.026] &  [0.007] &  [0.002] \\\\\n",
      "\t\t\t\\hline\n",
      "\t\t\t\\multirow{2}{*}{$\\beta_{02}$} & 0.012 (0.047) & 0.023 (0.017) & 0.017 (0.009) & 0.116 (0.312) & 0.184 (0.147) & 0.144 (0.066) \\\\\n",
      "\t\t\t\\hline\n",
      "\t\t\t & [0.002] & [0.001] & [0.0] &  [0.111] &  [0.055] &  [0.025] \\\\\n",
      "\t\t\t\\hline\n",
      "\t\t\t\\multirow{2}{*}{$\\beta_{11}$} & -0.06 (0.083) & -0.037 (0.037) & -0.024 (0.016) & -0.163 (0.122) & -0.17 (0.057) & -0.155 (0.027) \\\\\n",
      "\t\t\t\\hline\n",
      "\t\t\t & [0.011] & [0.003] & [0.001] &  [0.042] &  [0.032] &  [0.025] \\\\\n",
      "\t\t\t\\hline\n",
      "\t\t\t\\multirow{2}{*}{$\\beta_{12}$} & 0.356 (0.123) & 0.221 (0.061) & 0.176 (0.029) & 0.682 (0.205) & 0.622 (0.099) & 0.598 (0.049) \\\\\n",
      "\t\t\t\\hline\n",
      "\t\t\t & [0.142] & [0.052] & [0.032] &  [0.507] &  [0.397] &  [0.36] \\\\\n",
      "\t\t\t\\hline\n",
      "\t\t\t\\multirow{2}{*}{$\\beta_{21}$} & 0.051 (0.067) & 0.016 (0.041) & 0.01 (0.015) & 0.142 (0.123) & 0.129 (0.055) & 0.129 (0.028) \\\\\n",
      "\t\t\t\\hline\n",
      "\t\t\t & [0.007] & [0.002] & [0.0] &  [0.035] &  [0.02] &  [0.017] \\\\\n",
      "\t\t\t\\hline\n",
      "\t\t\t\\multirow{2}{*}{$\\beta_{22}$} & 0.246 (0.108) & 0.145 (0.049) & 0.113 (0.022) & 0.511 (0.202) & 0.472 (0.088) & 0.462 (0.042) \\\\\n",
      "\t\t\t\\hline\n",
      "\t\t\t & [0.072] & [0.023] & [0.013] &  [0.302] &  [0.23] &  [0.216] \\\\\n",
      "\t\t\t\\hline\n",
      "\t\t\t\\multirow{2}{*}{$\\gamma_0$} & 0.523 (0.314) & 0.418 (0.153) & 0.285 (0.062) & 0.015 (0.364) & -0.178 (0.164) & -0.337 (0.087) \\\\\n",
      "\t\t\t\\hline\n",
      "\t\t\t & [0.372] & [0.198] & [0.085] &  [0.132] &  [0.059] &  [0.121] \\\\\n",
      "\t\t\t\\hline\n",
      "\t\t\t\\multirow{2}{*}{$\\gamma_1$} & -0.363 (0.637) & -0.395 (0.289) & -0.313 (0.109) & -1.828 (0.749) & -2.0 (0.293) & -1.92 (0.137) \\\\\n",
      "\t\t\t\\hline\n",
      "\t\t\t & [0.538] & [0.24] & [0.11] &  [3.903] &  [4.086] &  [3.704] \\\\\n",
      "\t\t\t\\hline\n",
      "\t\t\t\\multirow{2}{*}{$\\rho$} & -0.005 (0.032) & -0.002 (0.011) & 0.0 (0.005) & / & / & / \\\\\n",
      "\t\t\t\\hline\n",
      "\t\t\t & [0.001] & [0.0] & [0.0] & / & / & / \\\\\n",
      "\t\t\t\\hline\n",
      "\t\t\\end{tabular}\n",
      "\t\\end{center}\n",
      "\t\\caption{Difference between the estimated parameters and the true parameters ($rho=0.5$). The results are presented as the mean of the differences on the 100 iterations, the standard deviation within parenthesis, and the standard deviation within square brackets.}\n",
      "\\end{table}\n"
     ]
    }
   ],
   "source": [
    "print(latextable.draw_latex(table_params, caption=\"Difference between the estimated parameters and the true parameters ($rho=0.5$). The results are presented as the mean of the differences on the 100 iterations, the standard deviation within parenthesis, and the standard deviation within square brackets.\"))"
   ]
  },
  {
   "cell_type": "code",
   "execution_count": 274,
   "metadata": {
    "scrolled": true
   },
   "outputs": [
    {
     "name": "stdout",
     "output_type": "stream",
     "text": [
      "+-----------+-----------+----------+----------+----------+----------+----------+\n",
      "| Parameter | S n=50    | S n=200  | S n=1000 | NS n=50  | NS n=200 | NS       |\n",
      "|           |           |          |          |          |          | n=1000   |\n",
      "+-----------+-----------+----------+----------+----------+----------+----------+\n",
      "| \\multirow | 0.007     | 0.011    | 0.01     | 0.096    | 0.019    | 0.044    |\n",
      "| {2}{*}{$\\ | (0.076)   | (0.021)  | (0.011)  | (0.596)  | (0.24)   | (0.097)  |\n",
      "| beta_{01} |           |          |          |          |          |          |\n",
      "| $}        |           |          |          |          |          |          |\n",
      "+-----------+-----------+----------+----------+----------+----------+----------+\n",
      "|           | [0.006]   | [0.001]  | [0.0]    |  [0.364] |  [0.058] |  [0.011] |\n",
      "+-----------+-----------+----------+----------+----------+----------+----------+\n",
      "| \\multirow | -0.022    | -0.019   | -0.024   | 0.303    | 0.298    | 0.206    |\n",
      "| {2}{*}{$\\ | (0.126)   | (0.03)   | (0.017)  | (1.096)  | (0.381)  | (0.165)  |\n",
      "| beta_{02} |           |          |          |          |          |          |\n",
      "| $}        |           |          |          |          |          |          |\n",
      "+-----------+-----------+----------+----------+----------+----------+----------+\n",
      "|           | [0.016]   | [0.001]  | [0.001]  |  [1.292] |  [0.234] |  [0.069] |\n",
      "+-----------+-----------+----------+----------+----------+----------+----------+\n",
      "| \\multirow | -0.418    | -0.423   | -0.39    | -0.653   | -0.696   | -0.673   |\n",
      "| {2}{*}{$\\ | (0.335)   | (0.194)  | (0.112)  | (0.254)  | (0.113)  | (0.05)   |\n",
      "| beta_{11} |           |          |          |          |          |          |\n",
      "| $}        |           |          |          |          |          |          |\n",
      "+-----------+-----------+----------+----------+----------+----------+----------+\n",
      "|           | [0.287]   | [0.217]  | [0.165]  |  [0.491] |  [0.496] |  [0.455] |\n",
      "+-----------+-----------+----------+----------+----------+----------+----------+\n",
      "| \\multirow | 1.193     | 1.185    | 1.148    | 1.588    | 1.559    | 1.531    |\n",
      "| {2}{*}{$\\ | (0.481)   | (0.345)  | (0.218)  | (0.27)   | (0.088)  | (0.049)  |\n",
      "| beta_{12} |           |          |          |          |          |          |\n",
      "| $}        |           |          |          |          |          |          |\n",
      "+-----------+-----------+----------+----------+----------+----------+----------+\n",
      "|           | [1.653]   | [1.523]  | [1.365]  |  [2.596] |  [2.437] |  [2.345] |\n",
      "+-----------+-----------+----------+----------+----------+----------+----------+\n",
      "| \\multirow | 0.356     | 0.368    | 0.359    | 0.611    | 0.655    | 0.652    |\n",
      "| {2}{*}{$\\ | (0.271)   | (0.196)  | (0.114)  | (0.233)  | (0.108)  | (0.052)  |\n",
      "| beta_{21} |           |          |          |          |          |          |\n",
      "| $}        |           |          |          |          |          |          |\n",
      "+-----------+-----------+----------+----------+----------+----------+----------+\n",
      "|           | [0.2]     | [0.174]  | [0.142]  |  [0.427] |  [0.441] |  [0.428] |\n",
      "+-----------+-----------+----------+----------+----------+----------+----------+\n",
      "| \\multirow | 0.997     | 1.003    | 0.976    | 1.444    | 1.446    | 1.444    |\n",
      "| {2}{*}{$\\ | (0.434)   | (0.347)  | (0.218)  | (0.253)  | (0.114)  | (0.056)  |\n",
      "| beta_{22} |           |          |          |          |          |          |\n",
      "| $}        |           |          |          |          |          |          |\n",
      "+-----------+-----------+----------+----------+----------+----------+----------+\n",
      "|           | [1.182]   | [1.127]  | [1.0]    |  [2.149] |  [2.104] |  [2.089] |\n",
      "+-----------+-----------+----------+----------+----------+----------+----------+\n",
      "| \\multirow | 0.411     | -0.257   | -0.414   | -1.24    | -1.924   | -2.174   |\n",
      "| {2}{*}{$\\ | (0.679)   | (0.564)  | (0.419)  | (0.645)  | (0.149)  | (0.072)  |\n",
      "| gamma_0$} |           |          |          |          |          |          |\n",
      "+-----------+-----------+----------+----------+----------+----------+----------+\n",
      "|           | [0.629]   | [0.384]  | [0.347]  |  [1.952] |  [3.724] |  [4.731] |\n",
      "+-----------+-----------+----------+----------+----------+----------+----------+\n",
      "| \\multirow | -1.909    | -2.151   | -2.167   | -2.717   | -2.787   | -2.779   |\n",
      "| {2}{*}{$\\ | (0.759)   | (0.547)  | (0.323)  | (0.474)  | (0.128)  | (0.065)  |\n",
      "| gamma_1$} |           |          |          |          |          |          |\n",
      "+-----------+-----------+----------+----------+----------+----------+----------+\n",
      "|           | [4.218]   | [4.927]  | [4.8]    |  [7.606] |  [7.784] |  [7.729] |\n",
      "+-----------+-----------+----------+----------+----------+----------+----------+\n",
      "| \\multirow | -0.011    | -0.006   | -0.004   | /        | /        | /        |\n",
      "| {2}{*}{$\\ | (0.051)   | (0.031)  | (0.017)  |          |          |          |\n",
      "| rho$}     |           |          |          |          |          |          |\n",
      "+-----------+-----------+----------+----------+----------+----------+----------+\n",
      "|           | [0.003]   | [0.001]  | [0.0]    | /        | /        | /        |\n",
      "+-----------+-----------+----------+----------+----------+----------+----------+\n"
     ]
    }
   ],
   "source": [
    "table_params = Texttable()\n",
    "table_params.add_row([\"Parameter\", \"S n=50\", \"S n=200\", \"S n=1000\",\n",
    "                      \"NS n=50\", \"NS n=200\", \"NS n=1000\"])\n",
    "                      \n",
    "#param_names = [\"$\\\\beta_{01}$\", \"\", \"$\\\\beta_{02}$\", \"\", \"$\\\\beta_{11}$\", \"\", \"$\\\\beta_{12}$\", \"\",\n",
    "#               \"$\\\\beta_{21}$\", \"\", \"$\\\\beta_{22}$\", \"\", \"$\\\\gamma_0$\", \"\", \"$\\\\gamma_1$\", \"\", \"$\\\\rho$\", \"\"]\n",
    "\n",
    "param_names = [\"\\\\multirow{2}{*}{$\\\\beta_{01}$}\", \"\\\\multirow{2}{*}{$\\\\beta_{02}$}\", \"\\\\multirow{2}{*}{$\\\\beta_{11}$}\",\n",
    "               \"\\\\multirow{2}{*}{$\\\\beta_{12}$}\", \"\\\\multirow{2}{*}{$\\\\beta_{21}$}\", \"\\\\multirow{2}{*}{$\\\\beta_{22}$}\",\n",
    "               \"\\\\multirow{2}{*}{$\\\\gamma_0$}\", \"\\\\multirow{2}{*}{$\\\\gamma_1$}\", \"\\\\multirow{2}{*}{$\\\\rho$}\" ]\n",
    "param_names_2 = [\"\"]*len(param_names)\n",
    "\n",
    "columns_1 = []\n",
    "columns_2 = []\n",
    "\n",
    "for ns in range(3):\n",
    "    col_to_add = [str(np.round(np.mean(np.array(list_solutions_spatial_09[ns])[:,i] - true_params_effective_09[i]),3))\n",
    "                  +' ('+str(np.round(np.std(np.array(list_solutions_spatial_09[ns])[:,i] - true_params_effective_09[i]),3))+')' for i in range(len(true_params_effective_09))]\n",
    "    columns_1.append(col_to_add)\n",
    "    col_to_add = ['['+  str(np.round(mean_squared_error(np.array(list_solutions_spatial_09[ns])[:,i], [true_params_effective_09[i]]*len(list_solutions_spatial_09[ns])),3)) +']' for i in range(len(true_params_effective_09))]\n",
    "    columns_2.append(col_to_add)\n",
    "    \n",
    "for ns in range(3):\n",
    "    col_to_add = [str(np.round(np.mean(np.array(list_solutions_no_spatial_09[ns])[:,i] - true_params_effective_no_spatial[i]),3))\n",
    "                  +' ('+str(np.round(np.std(np.array(list_solutions_no_spatial_09[ns])[:,i] - true_params_effective_no_spatial[i]),3))+')' for i in range(len(true_params_effective_no_spatial))] + [\"/\"]\n",
    "    columns_1.append(col_to_add)\n",
    "    col_to_add = [' ['+  str(np.round(mean_squared_error(np.array(list_solutions_no_spatial_09[ns])[:,i], [true_params_effective_no_spatial[i]]*len(list_solutions_no_spatial_09[ns])),3)) +']' for i in range(len(true_params_effective_no_spatial))] + [\"/\"]\n",
    "    columns_2.append(col_to_add)\n",
    "        \n",
    "columns_1.insert(0,param_names)\n",
    "columns_2.insert(0,param_names_2)\n",
    "\n",
    "tr_columns_1 = np.transpose(columns_1)\n",
    "tr_columns_2 = np.transpose(columns_2)\n",
    "for i in range(len(tr_columns_1)):\n",
    "    table_params.add_row(tr_columns_1[i])\n",
    "    table_params.add_row(tr_columns_2[i])\n",
    "\n",
    "print(table_params.draw())"
   ]
  },
  {
   "cell_type": "code",
   "execution_count": 275,
   "metadata": {
    "scrolled": true
   },
   "outputs": [
    {
     "name": "stdout",
     "output_type": "stream",
     "text": [
      "\\begin{table}\n",
      "\t\\begin{center}\n",
      "\t\t\\begin{tabular}{|l|l|l|l|l|l|l|}\n",
      "\t\t\t\\hline\n",
      "\t\t\t \\\\\n",
      "\t\t\t\\hline\n",
      "\t\t\tParameter & S n=50 & S n=200 & S n=1000 & NS n=50 & NS n=200 & NS n=1000 \\\\\n",
      "\t\t\t\\hline\n",
      "\t\t\t\\multirow{2}{*}{$\\beta_{01}$} & 0.007 (0.076) & 0.011 (0.021) & 0.01 (0.011) & 0.096 (0.596) & 0.019 (0.24) & 0.044 (0.097) \\\\\n",
      "\t\t\t\\hline\n",
      "\t\t\t & [0.006] & [0.001] & [0.0] &  [0.364] &  [0.058] &  [0.011] \\\\\n",
      "\t\t\t\\hline\n",
      "\t\t\t\\multirow{2}{*}{$\\beta_{02}$} & -0.022 (0.126) & -0.019 (0.03) & -0.024 (0.017) & 0.303 (1.096) & 0.298 (0.381) & 0.206 (0.165) \\\\\n",
      "\t\t\t\\hline\n",
      "\t\t\t & [0.016] & [0.001] & [0.001] &  [1.292] &  [0.234] &  [0.069] \\\\\n",
      "\t\t\t\\hline\n",
      "\t\t\t\\multirow{2}{*}{$\\beta_{11}$} & -0.418 (0.335) & -0.423 (0.194) & -0.39 (0.112) & -0.653 (0.254) & -0.696 (0.113) & -0.673 (0.05) \\\\\n",
      "\t\t\t\\hline\n",
      "\t\t\t & [0.287] & [0.217] & [0.165] &  [0.491] &  [0.496] &  [0.455] \\\\\n",
      "\t\t\t\\hline\n",
      "\t\t\t\\multirow{2}{*}{$\\beta_{12}$} & 1.193 (0.481) & 1.185 (0.345) & 1.148 (0.218) & 1.588 (0.27) & 1.559 (0.088) & 1.531 (0.049) \\\\\n",
      "\t\t\t\\hline\n",
      "\t\t\t & [1.653] & [1.523] & [1.365] &  [2.596] &  [2.437] &  [2.345] \\\\\n",
      "\t\t\t\\hline\n",
      "\t\t\t\\multirow{2}{*}{$\\beta_{21}$} & 0.356 (0.271) & 0.368 (0.196) & 0.359 (0.114) & 0.611 (0.233) & 0.655 (0.108) & 0.652 (0.052) \\\\\n",
      "\t\t\t\\hline\n",
      "\t\t\t & [0.2] & [0.174] & [0.142] &  [0.427] &  [0.441] &  [0.428] \\\\\n",
      "\t\t\t\\hline\n",
      "\t\t\t\\multirow{2}{*}{$\\beta_{22}$} & 0.997 (0.434) & 1.003 (0.347) & 0.976 (0.218) & 1.444 (0.253) & 1.446 (0.114) & 1.444 (0.056) \\\\\n",
      "\t\t\t\\hline\n",
      "\t\t\t & [1.182] & [1.127] & [1.0] &  [2.149] &  [2.104] &  [2.089] \\\\\n",
      "\t\t\t\\hline\n",
      "\t\t\t\\multirow{2}{*}{$\\gamma_0$} & 0.411 (0.679) & -0.257 (0.564) & -0.414 (0.419) & -1.24 (0.645) & -1.924 (0.149) & -2.174 (0.072) \\\\\n",
      "\t\t\t\\hline\n",
      "\t\t\t & [0.629] & [0.384] & [0.347] &  [1.952] &  [3.724] &  [4.731] \\\\\n",
      "\t\t\t\\hline\n",
      "\t\t\t\\multirow{2}{*}{$\\gamma_1$} & -1.909 (0.759) & -2.151 (0.547) & -2.167 (0.323) & -2.717 (0.474) & -2.787 (0.128) & -2.779 (0.065) \\\\\n",
      "\t\t\t\\hline\n",
      "\t\t\t & [4.218] & [4.927] & [4.8] &  [7.606] &  [7.784] &  [7.729] \\\\\n",
      "\t\t\t\\hline\n",
      "\t\t\t\\multirow{2}{*}{$\\rho$} & -0.011 (0.051) & -0.006 (0.031) & -0.004 (0.017) & / & / & / \\\\\n",
      "\t\t\t\\hline\n",
      "\t\t\t & [0.003] & [0.001] & [0.0] & / & / & / \\\\\n",
      "\t\t\t\\hline\n",
      "\t\t\\end{tabular}\n",
      "\t\\end{center}\n",
      "\t\\caption{Difference between the estimated parameters and the true parameters ($rho=0.9$). The results are presented as the mean of the differences on the 100 iterations, the standard deviation within parenthesis, and the standard deviation within square brackets.}\n",
      "\\end{table}\n"
     ]
    }
   ],
   "source": [
    "print(latextable.draw_latex(table_params, caption=\"Difference between the estimated parameters and the true parameters ($rho=0.9$). The results are presented as the mean of the differences on the 100 iterations, the standard deviation within parenthesis, and the standard deviation within square brackets.\"))"
   ]
  },
  {
   "cell_type": "code",
   "execution_count": 22,
   "metadata": {
    "scrolled": true
   },
   "outputs": [
    {
     "name": "stdout",
     "output_type": "stream",
     "text": [
      "+-----------+-----------+----------+----------+----------+----------+----------+\n",
      "| Parameter | S n=50    | S n=200  | S n=1000 | NS n=50  | NS n=200 | NS       |\n",
      "|           |           |          |          |          |          | n=1000   |\n",
      "+-----------+-----------+----------+----------+----------+----------+----------+\n",
      "| \\multirow | 0.649     | 0.553    | 0.461    | 0.617    | 0.543    | 0.46     |\n",
      "| {2}{*}{$\\ | (0.418)   | (0.203)  | (0.087)  | (0.393)  | (0.201)  | (0.085)  |\n",
      "| beta_{01} |           |          |          |          |          |          |\n",
      "| $}        |           |          |          |          |          |          |\n",
      "+-----------+-----------+----------+----------+----------+----------+----------+\n",
      "|           | [0.596]   | [0.347]  | [0.221]  |  [0.535] |  [0.335] |  [0.219] |\n",
      "+-----------+-----------+----------+----------+----------+----------+----------+\n",
      "| \\multirow | -0.384    | -0.359   | -0.313   | -0.342   | -0.349   | -0.311   |\n",
      "| {2}{*}{$\\ | (0.433)   | (0.209)  | (0.096)  | (0.419)  | (0.206)  | (0.096)  |\n",
      "| beta_{02} |           |          |          |          |          |          |\n",
      "| $}        |           |          |          |          |          |          |\n",
      "+-----------+-----------+----------+----------+----------+----------+----------+\n",
      "|           | [0.334]   | [0.172]  | [0.107]  |  [0.293] |  [0.164] |  [0.106] |\n",
      "+-----------+-----------+----------+----------+----------+----------+----------+\n",
      "| \\multirow | -0.549    | -0.545   | -0.438   | -0.526   | -0.535   | -0.437   |\n",
      "| {2}{*}{$\\ | (0.54)    | (0.299)  | (0.121)  | (0.544)  | (0.296)  | (0.121)  |\n",
      "| beta_{11} |           |          |          |          |          |          |\n",
      "| $}        |           |          |          |          |          |          |\n",
      "+-----------+-----------+----------+----------+----------+----------+----------+\n",
      "|           | [0.593]   | [0.387]  | [0.206]  |  [0.573] |  [0.374] |  [0.205] |\n",
      "+-----------+-----------+----------+----------+----------+----------+----------+\n",
      "| \\multirow | 0.673     | 0.538    | 0.483    | 0.653    | 0.532    | 0.481    |\n",
      "| {2}{*}{$\\ | (0.518)   | (0.26)   | (0.125)  | (0.516)  | (0.264)  | (0.125)  |\n",
      "| beta_{12} |           |          |          |          |          |          |\n",
      "| $}        |           |          |          |          |          |          |\n",
      "+-----------+-----------+----------+----------+----------+----------+----------+\n",
      "|           | [0.721]   | [0.357]  | [0.248]  |  [0.692] |  [0.353] |  [0.247] |\n",
      "+-----------+-----------+----------+----------+----------+----------+----------+\n",
      "| \\multirow | -0.531    | -0.419   | -0.36    | -0.501   | -0.411   | -0.359   |\n",
      "| {2}{*}{$\\ | (0.553)   | (0.294)  | (0.126)  | (0.549)  | (0.294)  | (0.126)  |\n",
      "| beta_{21} |           |          |          |          |          |          |\n",
      "| $}        |           |          |          |          |          |          |\n",
      "+-----------+-----------+----------+----------+----------+----------+----------+\n",
      "|           | [0.588]   | [0.262]  | [0.145]  |  [0.553] |  [0.256] |  [0.145] |\n",
      "+-----------+-----------+----------+----------+----------+----------+----------+\n",
      "| \\multirow | 0.41      | 0.469    | 0.4      | 0.376    | 0.468    | 0.4      |\n",
      "| {2}{*}{$\\ | (0.522)   | (0.285)  | (0.13)   | (0.509)  | (0.284)  | (0.13)   |\n",
      "| beta_{22} |           |          |          |          |          |          |\n",
      "| $}        |           |          |          |          |          |          |\n",
      "+-----------+-----------+----------+----------+----------+----------+----------+\n",
      "|           | [0.44]    | [0.301]  | [0.177]  |  [0.401] |  [0.299] |  [0.176] |\n",
      "+-----------+-----------+----------+----------+----------+----------+----------+\n",
      "| \\multirow | 0.517     | 0.314    | 0.194    | 0.511    | 0.312    | 0.194    |\n",
      "| {2}{*}{$\\ | (0.173)   | (0.094)  | (0.038)  | (0.169)  | (0.094)  | (0.038)  |\n",
      "| gamma_0$} |           |          |          |          |          |          |\n",
      "+-----------+-----------+----------+----------+----------+----------+----------+\n",
      "|           | [0.298]   | [0.107]  | [0.039]  |  [0.289] |  [0.106] |  [0.039] |\n",
      "+-----------+-----------+----------+----------+----------+----------+----------+\n",
      "| \\multirow | 0.1       | 0.04     | 0.032    | 0.099    | 0.04     | 0.032    |\n",
      "| {2}{*}{$\\ | (0.298)   | (0.143)  | (0.064)  | (0.287)  | (0.143)  | (0.064)  |\n",
      "| gamma_1$} |           |          |          |          |          |          |\n",
      "+-----------+-----------+----------+----------+----------+----------+----------+\n",
      "|           | [0.099]   | [0.022]  | [0.005]  |  [0.093] |  [0.022] |  [0.005] |\n",
      "+-----------+-----------+----------+----------+----------+----------+----------+\n",
      "| \\multirow | -0.115    | -0.038   | -0.004   | /        | /        | /        |\n",
      "| {2}{*}{$\\ | (0.478)   | (0.228)  | (0.087)  |          |          |          |\n",
      "| rho$}     |           |          |          |          |          |          |\n",
      "+-----------+-----------+----------+----------+----------+----------+----------+\n",
      "|           | [0.241]   | [0.053]  | [0.008]  | /        | /        | /        |\n",
      "+-----------+-----------+----------+----------+----------+----------+----------+\n"
     ]
    }
   ],
   "source": [
    "table_params = Texttable()\n",
    "table_params.add_row([\"Parameter\", \"S n=50\", \"S n=200\", \"S n=1000\",\n",
    "                      \"NS n=50\", \"NS n=200\", \"NS n=1000\"])\n",
    "\n",
    "param_names = [\"\\\\multirow{2}{*}{$\\\\beta_{01}$}\", \"\\\\multirow{2}{*}{$\\\\beta_{02}$}\", \"\\\\multirow{2}{*}{$\\\\beta_{11}$}\",\n",
    "               \"\\\\multirow{2}{*}{$\\\\beta_{12}$}\", \"\\\\multirow{2}{*}{$\\\\beta_{21}$}\", \"\\\\multirow{2}{*}{$\\\\beta_{22}$}\",\n",
    "               \"\\\\multirow{2}{*}{$\\\\gamma_0$}\", \"\\\\multirow{2}{*}{$\\\\gamma_1$}\", \"\\\\multirow{2}{*}{$\\\\rho$}\" ]\n",
    "param_names_2 = [\"\"]*len(param_names)\n",
    "\n",
    "columns_1 = []\n",
    "columns_2 = []\n",
    "\n",
    "for ns in range(3):\n",
    "    col_to_add = [str(np.round(np.mean(list_solutions_spatial_00[ns][:,i] - true_params_effective_00[i]),3))\n",
    "                  +' ('+str(np.round(np.std(list_solutions_spatial_00[ns][:,i] - true_params_effective_00[i]),3))+')' for i in range(len(true_params_effective_00))]\n",
    "    columns_1.append(col_to_add)\n",
    "    col_to_add = ['['+  str(np.round(mean_squared_error(list_solutions_spatial_00[ns][:,i], [true_params_effective_00[i]]*100),3)) +']' for i in range(len(true_params_effective_00))]\n",
    "    columns_2.append(col_to_add)\n",
    "    \n",
    "for ns in range(3):\n",
    "    col_to_add = [str(np.round(np.mean(list_solutions_no_spatial_00[ns][:,i] - true_params_effective_no_spatial[i]),3))\n",
    "                  +' ('+str(np.round(np.std(list_solutions_no_spatial_00[ns][:,i] - true_params_effective_no_spatial[i]),3))+')' for i in range(len(true_params_effective_no_spatial))] + [\"/\"]\n",
    "    columns_1.append(col_to_add)\n",
    "    col_to_add = [' ['+  str(np.round(mean_squared_error(list_solutions_no_spatial_00[ns][:,i], [true_params_effective_no_spatial[i]]*100),3)) +']' for i in range(len(true_params_effective_no_spatial))] + [\"/\"]\n",
    "    columns_2.append(col_to_add)\n",
    "        \n",
    "columns_1.insert(0,param_names)\n",
    "columns_2.insert(0,param_names_2)\n",
    "\n",
    "tr_columns_1 = np.transpose(columns_1)\n",
    "tr_columns_2 = np.transpose(columns_2)\n",
    "for i in range(len(tr_columns_1)):\n",
    "    table_params.add_row(tr_columns_1[i])\n",
    "    table_params.add_row(tr_columns_2[i])\n",
    "\n",
    "print(table_params.draw())"
   ]
  },
  {
   "cell_type": "markdown",
   "metadata": {},
   "source": [
    "### Results on cross-entropy"
   ]
  },
  {
   "cell_type": "code",
   "execution_count": 19,
   "metadata": {},
   "outputs": [],
   "source": [
    "true_params_effective_01_ce = np.concatenate([beta[:,1:].flatten(), [0.1]])\n",
    "true_params_effective_05_ce = np.concatenate([beta[:,1:].flatten(), [0.5]])\n",
    "true_params_effective_09_ce = np.concatenate([beta[:,1:].flatten(), [0.9]])\n",
    "true_params_effective_no_spatial_ce = np.concatenate([beta[:,1:].flatten()])"
   ]
  },
  {
   "cell_type": "code",
   "execution_count": 20,
   "metadata": {
    "scrolled": true
   },
   "outputs": [
    {
     "name": "stdout",
     "output_type": "stream",
     "text": [
      "+-----------+-----------+----------+----------+----------+----------+----------+\n",
      "| Parameter | S n=50    | S n=200  | S n=1000 | NS n=50  | NS n=200 | NS       |\n",
      "|           |           |          |          |          |          | n=1000   |\n",
      "+-----------+-----------+----------+----------+----------+----------+----------+\n",
      "| \\multirow | 0.019     | 0.002    | 0.002    | 0.02     | 0.0      | 0.002    |\n",
      "| {2}{*}{$\\ | (0.088)   | (0.051)  | (0.022)  | (0.102)  | (0.058)  | (0.025)  |\n",
      "| beta_{01} |           |          |          |          |          |          |\n",
      "| $}        |           |          |          |          |          |          |\n",
      "+-----------+-----------+----------+----------+----------+----------+----------+\n",
      "|           | [0.008]   | [0.003]  | [0.0]    |  [0.011] |  [0.003] |  [0.001] |\n",
      "+-----------+-----------+----------+----------+----------+----------+----------+\n",
      "| \\multirow | 0.021     | 0.004    | 0.003    | 0.037    | 0.022    | 0.016    |\n",
      "| {2}{*}{$\\ | (0.108)   | (0.048)  | (0.022)  | (0.13)   | (0.056)  | (0.027)  |\n",
      "| beta_{02} |           |          |          |          |          |          |\n",
      "| $}        |           |          |          |          |          |          |\n",
      "+-----------+-----------+----------+----------+----------+----------+----------+\n",
      "|           | [0.012]   | [0.002]  | [0.0]    |  [0.018] |  [0.004] |  [0.001] |\n",
      "+-----------+-----------+----------+----------+----------+----------+----------+\n",
      "| \\multirow | -0.052    | -0.02    | -0.002   | -0.052   | -0.018   | -0.001   |\n",
      "| {2}{*}{$\\ | (0.117)   | (0.051)  | (0.023)  | (0.117)  | (0.051)  | (0.024)  |\n",
      "| beta_{11} |           |          |          |          |          |          |\n",
      "| $}        |           |          |          |          |          |          |\n",
      "+-----------+-----------+----------+----------+----------+----------+----------+\n",
      "|           | [0.016]   | [0.003]  | [0.001]  |  [0.016] |  [0.003] |  [0.001] |\n",
      "+-----------+-----------+----------+----------+----------+----------+----------+\n",
      "| \\multirow | 0.141     | 0.043    | 0.008    | 0.145    | 0.046    | 0.013    |\n",
      "| {2}{*}{$\\ | (0.127)   | (0.076)  | (0.035)  | (0.129)  | (0.077)  | (0.036)  |\n",
      "| beta_{12} |           |          |          |          |          |          |\n",
      "| $}        |           |          |          |          |          |          |\n",
      "+-----------+-----------+----------+----------+----------+----------+----------+\n",
      "|           | [0.036]   | [0.008]  | [0.001]  |  [0.038] |  [0.008] |  [0.001] |\n",
      "+-----------+-----------+----------+----------+----------+----------+----------+\n",
      "| \\multirow | 0.016     | 0.008    | -0.001   | 0.016    | 0.006    | -0.002   |\n",
      "| {2}{*}{$\\ | (0.12)    | (0.051)  | (0.02)   | (0.118)  | (0.05)   | (0.02)   |\n",
      "| beta_{21} |           |          |          |          |          |          |\n",
      "| $}        |           |          |          |          |          |          |\n",
      "+-----------+-----------+----------+----------+----------+----------+----------+\n",
      "|           | [0.015]   | [0.003]  | [0.0]    |  [0.014] |  [0.003] |  [0.0]   |\n",
      "+-----------+-----------+----------+----------+----------+----------+----------+\n",
      "| \\multirow | 0.091     | 0.031    | 0.006    | 0.091    | 0.031    | 0.01     |\n",
      "| {2}{*}{$\\ | (0.126)   | (0.063)  | (0.031)  | (0.128)  | (0.065)  | (0.033)  |\n",
      "| beta_{22} |           |          |          |          |          |          |\n",
      "| $}        |           |          |          |          |          |          |\n",
      "+-----------+-----------+----------+----------+----------+----------+----------+\n",
      "|           | [0.024]   | [0.005]  | [0.001]  |  [0.025] |  [0.005] |  [0.001] |\n",
      "+-----------+-----------+----------+----------+----------+----------+----------+\n",
      "| \\multirow | -0.006    | -0.003   | 0.001    | /        | /        | /        |\n",
      "| {2}{*}{$\\ | (0.068)   | (0.033)  | (0.013)  |          |          |          |\n",
      "| rho$}     |           |          |          |          |          |          |\n",
      "+-----------+-----------+----------+----------+----------+----------+----------+\n",
      "|           | [0.005]   | [0.001]  | [0.0]    | /        | /        | /        |\n",
      "+-----------+-----------+----------+----------+----------+----------+----------+\n"
     ]
    }
   ],
   "source": [
    "table_params = Texttable()\n",
    "table_params.add_row([\"Parameter\", \"S n=50\", \"S n=200\", \"S n=1000\",\n",
    "                      \"NS n=50\", \"NS n=200\", \"NS n=1000\"])\n",
    "                      \n",
    "#param_names = [\"$\\\\beta_{01}$\", \"\", \"$\\\\beta_{02}$\", \"\", \"$\\\\beta_{11}$\", \"\", \"$\\\\beta_{12}$\", \"\",\n",
    "#               \"$\\\\beta_{21}$\", \"\", \"$\\\\beta_{22}$\", \"\", \"$\\\\gamma_0$\", \"\", \"$\\\\gamma_1$\", \"\", \"$\\\\rho$\", \"\"]\n",
    "\n",
    "param_names = [\"\\\\multirow{2}{*}{$\\\\beta_{01}$}\", \"\\\\multirow{2}{*}{$\\\\beta_{02}$}\", \"\\\\multirow{2}{*}{$\\\\beta_{11}$}\",\n",
    "               \"\\\\multirow{2}{*}{$\\\\beta_{12}$}\", \"\\\\multirow{2}{*}{$\\\\beta_{21}$}\", \"\\\\multirow{2}{*}{$\\\\beta_{22}$}\",\n",
    "               \"\\\\multirow{2}{*}{$\\\\rho$}\" ]\n",
    "param_names_2 = [\"\"]*len(param_names)\n",
    "\n",
    "columns_1 = []\n",
    "columns_2 = []\n",
    "\n",
    "for ns in range(3):\n",
    "    col_to_add = [str(np.round(np.mean(list_solutions_ce_spatial_01[ns][:,i] - true_params_effective_01_ce[i]),3))\n",
    "                  +' ('+str(np.round(np.std(list_solutions_ce_spatial_01[ns][:,i] - true_params_effective_01_ce[i]),3))+')' for i in range(len(true_params_effective_01_ce))]\n",
    "    columns_1.append(col_to_add)\n",
    "    col_to_add = ['['+  str(np.round(mean_squared_error(list_solutions_ce_spatial_01[ns][:,i], [true_params_effective_01_ce[i]]*100),3)) +']' for i in range(len(true_params_effective_01_ce))]\n",
    "    columns_2.append(col_to_add)\n",
    "    \n",
    "for ns in range(3):\n",
    "    col_to_add = [str(np.round(np.mean(list_solutions_ce_no_spatial_01[ns][:,i] - true_params_effective_no_spatial_ce[i]),3))\n",
    "                  +' ('+str(np.round(np.std(list_solutions_ce_no_spatial_01[ns][:,i] - true_params_effective_no_spatial_ce[i]),3))+')' for i in range(len(true_params_effective_no_spatial_ce))] + [\"/\"]\n",
    "    columns_1.append(col_to_add)\n",
    "    col_to_add = [' ['+  str(np.round(mean_squared_error(list_solutions_ce_no_spatial_01[ns][:,i], [true_params_effective_no_spatial_ce[i]]*100),3)) +']' for i in range(len(true_params_effective_no_spatial_ce))] + [\"/\"]\n",
    "    columns_2.append(col_to_add)\n",
    "        \n",
    "columns_1.insert(0,param_names)\n",
    "columns_2.insert(0,param_names_2)\n",
    "\n",
    "tr_columns_1 = np.transpose(columns_1)\n",
    "tr_columns_2 = np.transpose(columns_2)\n",
    "for i in range(len(tr_columns_1)):\n",
    "    table_params.add_row(tr_columns_1[i])\n",
    "    table_params.add_row(tr_columns_2[i])\n",
    "\n",
    "print(table_params.draw())"
   ]
  },
  {
   "cell_type": "code",
   "execution_count": 21,
   "metadata": {
    "scrolled": true
   },
   "outputs": [
    {
     "name": "stdout",
     "output_type": "stream",
     "text": [
      "\\begin{table}\n",
      "\t\\begin{center}\n",
      "\t\t\\begin{tabular}{|l|l|l|l|l|l|l|}\n",
      "\t\t\t\\hline\n",
      "\t\t\t \\\\\n",
      "\t\t\t\\hline\n",
      "\t\t\tParameter & S n=50 & S n=200 & S n=1000 & NS n=50 & NS n=200 & NS n=1000 \\\\\n",
      "\t\t\t\\hline\n",
      "\t\t\t\\multirow{2}{*}{$\\beta_{01}$} & 0.019 (0.088) & 0.002 (0.051) & 0.002 (0.022) & 0.02 (0.102) & 0.0 (0.058) & 0.002 (0.025) \\\\\n",
      "\t\t\t\\hline\n",
      "\t\t\t & [0.008] & [0.003] & [0.0] &  [0.011] &  [0.003] &  [0.001] \\\\\n",
      "\t\t\t\\hline\n",
      "\t\t\t\\multirow{2}{*}{$\\beta_{02}$} & 0.021 (0.108) & 0.004 (0.048) & 0.003 (0.022) & 0.037 (0.13) & 0.022 (0.056) & 0.016 (0.027) \\\\\n",
      "\t\t\t\\hline\n",
      "\t\t\t & [0.012] & [0.002] & [0.0] &  [0.018] &  [0.004] &  [0.001] \\\\\n",
      "\t\t\t\\hline\n",
      "\t\t\t\\multirow{2}{*}{$\\beta_{11}$} & -0.052 (0.117) & -0.02 (0.051) & -0.002 (0.023) & -0.052 (0.117) & -0.018 (0.051) & -0.001 (0.024) \\\\\n",
      "\t\t\t\\hline\n",
      "\t\t\t & [0.016] & [0.003] & [0.001] &  [0.016] &  [0.003] &  [0.001] \\\\\n",
      "\t\t\t\\hline\n",
      "\t\t\t\\multirow{2}{*}{$\\beta_{12}$} & 0.141 (0.127) & 0.043 (0.076) & 0.008 (0.035) & 0.145 (0.129) & 0.046 (0.077) & 0.013 (0.036) \\\\\n",
      "\t\t\t\\hline\n",
      "\t\t\t & [0.036] & [0.008] & [0.001] &  [0.038] &  [0.008] &  [0.001] \\\\\n",
      "\t\t\t\\hline\n",
      "\t\t\t\\multirow{2}{*}{$\\beta_{21}$} & 0.016 (0.12) & 0.008 (0.051) & -0.001 (0.02) & 0.016 (0.118) & 0.006 (0.05) & -0.002 (0.02) \\\\\n",
      "\t\t\t\\hline\n",
      "\t\t\t & [0.015] & [0.003] & [0.0] &  [0.014] &  [0.003] &  [0.0] \\\\\n",
      "\t\t\t\\hline\n",
      "\t\t\t\\multirow{2}{*}{$\\beta_{22}$} & 0.091 (0.126) & 0.031 (0.063) & 0.006 (0.031) & 0.091 (0.128) & 0.031 (0.065) & 0.01 (0.033) \\\\\n",
      "\t\t\t\\hline\n",
      "\t\t\t & [0.024] & [0.005] & [0.001] &  [0.025] &  [0.005] &  [0.001] \\\\\n",
      "\t\t\t\\hline\n",
      "\t\t\t\\multirow{2}{*}{$\\rho$} & -0.006 (0.068) & -0.003 (0.033) & 0.001 (0.013) & / & / & / \\\\\n",
      "\t\t\t\\hline\n",
      "\t\t\t & [0.005] & [0.001] & [0.0] & / & / & / \\\\\n",
      "\t\t\t\\hline\n",
      "\t\t\\end{tabular}\n",
      "\t\\end{center}\n",
      "\t\\caption{Difference between the estimated parameters with the cross-entropy minimization and the true parameters ($rho=0.1$). The results are presented as the mean of the differences on the 100 iterations, the standard deviation within parenthesis, and the standard deviation within square brackets.}\n",
      "\\end{table}\n"
     ]
    }
   ],
   "source": [
    "print(latextable.draw_latex(table_params, caption=\"Difference between the estimated parameters with the cross-entropy minimization and the true parameters ($rho=0.1$). The results are presented as the mean of the differences on the 100 iterations, the standard deviation within parenthesis, and the standard deviation within square brackets.\"))"
   ]
  },
  {
   "cell_type": "code",
   "execution_count": 22,
   "metadata": {
    "scrolled": true
   },
   "outputs": [
    {
     "name": "stdout",
     "output_type": "stream",
     "text": [
      "+-----------+-----------+----------+----------+----------+----------+----------+\n",
      "| Parameter | S n=50    | S n=200  | S n=1000 | NS n=50  | NS n=200 | NS       |\n",
      "|           |           |          |          |          |          | n=1000   |\n",
      "+-----------+-----------+----------+----------+----------+----------+----------+\n",
      "| \\multirow | -0.001    | 0.006    | 0.001    | 0.013    | 0.015    | 0.022    |\n",
      "| {2}{*}{$\\ | (0.058)   | (0.031)  | (0.013)  | (0.216)  | (0.115)  | (0.051)  |\n",
      "| beta_{01} |           |          |          |          |          |          |\n",
      "| $}        |           |          |          |          |          |          |\n",
      "+-----------+-----------+----------+----------+----------+----------+----------+\n",
      "|           | [0.003]   | [0.001]  | [0.0]    |  [0.047] |  [0.013] |  [0.003] |\n",
      "+-----------+-----------+----------+----------+----------+----------+----------+\n",
      "| \\multirow | -0.005    | 0.007    | 0.001    | 0.123    | 0.206    | 0.169    |\n",
      "| {2}{*}{$\\ | (0.062)   | (0.027)  | (0.013)  | (0.377)  | (0.195)  | (0.086)  |\n",
      "| beta_{02} |           |          |          |          |          |          |\n",
      "| $}        |           |          |          |          |          |          |\n",
      "+-----------+-----------+----------+----------+----------+----------+----------+\n",
      "|           | [0.004]   | [0.001]  | [0.0]    |  [0.157] |  [0.08]  |  [0.036] |\n",
      "+-----------+-----------+----------+----------+----------+----------+----------+\n",
      "| \\multirow | -0.036    | -0.011   | -0.002   | -0.026   | 0.001    | 0.007    |\n",
      "| {2}{*}{$\\ | (0.104)   | (0.052)  | (0.026)  | (0.139)  | (0.069)  | (0.033)  |\n",
      "| beta_{11} |           |          |          |          |          |          |\n",
      "| $}        |           |          |          |          |          |          |\n",
      "+-----------+-----------+----------+----------+----------+----------+----------+\n",
      "|           | [0.012]   | [0.003]  | [0.001]  |  [0.02]  |  [0.005] |  [0.001] |\n",
      "+-----------+-----------+----------+----------+----------+----------+----------+\n",
      "| \\multirow | 0.194     | 0.055    | 0.015    | 0.314    | 0.211    | 0.204    |\n",
      "| {2}{*}{$\\ | (0.121)   | (0.082)  | (0.036)  | (0.211)  | (0.112)  | (0.054)  |\n",
      "| beta_{12} |           |          |          |          |          |          |\n",
      "| $}        |           |          |          |          |          |          |\n",
      "+-----------+-----------+----------+----------+----------+----------+----------+\n",
      "|           | [0.052]   | [0.01]   | [0.002]  |  [0.143] |  [0.057] |  [0.045] |\n",
      "+-----------+-----------+----------+----------+----------+----------+----------+\n",
      "| \\multirow | 0.033     | 0.009    | 0.004    | 0.017    | -0.021   | -0.023   |\n",
      "| {2}{*}{$\\ | (0.081)   | (0.05)   | (0.023)  | (0.117)  | (0.066)  | (0.031)  |\n",
      "| beta_{21} |           |          |          |          |          |          |\n",
      "| $}        |           |          |          |          |          |          |\n",
      "+-----------+-----------+----------+----------+----------+----------+----------+\n",
      "|           | [0.008]   | [0.003]  | [0.001]  |  [0.014] |  [0.005] |  [0.001] |\n",
      "+-----------+-----------+----------+----------+----------+----------+----------+\n",
      "| \\multirow | 0.121     | 0.036    | 0.01     | 0.174    | 0.103    | 0.11     |\n",
      "| {2}{*}{$\\ | (0.114)   | (0.066)  | (0.03)   | (0.194)  | (0.102)  | (0.048)  |\n",
      "| beta_{22} |           |          |          |          |          |          |\n",
      "| $}        |           |          |          |          |          |          |\n",
      "+-----------+-----------+----------+----------+----------+----------+----------+\n",
      "|           | [0.028]   | [0.006]  | [0.001]  |  [0.068] |  [0.021] |  [0.014] |\n",
      "+-----------+-----------+----------+----------+----------+----------+----------+\n",
      "| \\multirow | -0.008    | 0.0      | 0.001    | /        | /        | /        |\n",
      "| {2}{*}{$\\ | (0.036)   | (0.015)  | (0.007)  |          |          |          |\n",
      "| rho$}     |           |          |          |          |          |          |\n",
      "+-----------+-----------+----------+----------+----------+----------+----------+\n",
      "|           | [0.001]   | [0.0]    | [0.0]    | /        | /        | /        |\n",
      "+-----------+-----------+----------+----------+----------+----------+----------+\n"
     ]
    }
   ],
   "source": [
    "table_params = Texttable()\n",
    "table_params.add_row([\"Parameter\", \"S n=50\", \"S n=200\", \"S n=1000\",\n",
    "                      \"NS n=50\", \"NS n=200\", \"NS n=1000\"])\n",
    "                      \n",
    "#param_names = [\"$\\\\beta_{01}$\", \"\", \"$\\\\beta_{02}$\", \"\", \"$\\\\beta_{11}$\", \"\", \"$\\\\beta_{12}$\", \"\",\n",
    "#               \"$\\\\beta_{21}$\", \"\", \"$\\\\beta_{22}$\", \"\", \"$\\\\gamma_0$\", \"\", \"$\\\\gamma_1$\", \"\", \"$\\\\rho$\", \"\"]\n",
    "\n",
    "param_names = [\"\\\\multirow{2}{*}{$\\\\beta_{01}$}\", \"\\\\multirow{2}{*}{$\\\\beta_{02}$}\", \"\\\\multirow{2}{*}{$\\\\beta_{11}$}\",\n",
    "               \"\\\\multirow{2}{*}{$\\\\beta_{12}$}\", \"\\\\multirow{2}{*}{$\\\\beta_{21}$}\", \"\\\\multirow{2}{*}{$\\\\beta_{22}$}\",\n",
    "               \"\\\\multirow{2}{*}{$\\\\rho$}\" ]\n",
    "param_names_2 = [\"\"]*len(param_names)\n",
    "\n",
    "columns_1 = []\n",
    "columns_2 = []\n",
    "\n",
    "for ns in range(3):\n",
    "    col_to_add = [str(np.round(np.mean(np.array(list_solutions_ce_spatial_05[ns])[:,i] - true_params_effective_05_ce[i]),3))\n",
    "                  +' ('+str(np.round(np.std(np.array(list_solutions_ce_spatial_05[ns])[:,i] - true_params_effective_05_ce[i]),3))+')' for i in range(len(true_params_effective_05_ce))]\n",
    "    columns_1.append(col_to_add)\n",
    "    col_to_add = ['['+  str(np.round(mean_squared_error(np.array(list_solutions_ce_spatial_05[ns])[:,i], [true_params_effective_05_ce[i]]*len(list_solutions_ce_spatial_05[ns])),3)) +']' for i in range(len(true_params_effective_05_ce))]\n",
    "    columns_2.append(col_to_add)\n",
    "    \n",
    "for ns in range(3):\n",
    "    col_to_add = [str(np.round(np.mean(np.array(list_solutions_ce_no_spatial_05[ns])[:,i] - true_params_effective_no_spatial_ce[i]),3))\n",
    "                  +' ('+str(np.round(np.std(np.array(list_solutions_ce_no_spatial_05[ns])[:,i] - true_params_effective_no_spatial_ce[i]),3))+')' for i in range(len(true_params_effective_no_spatial_ce))] + [\"/\"]\n",
    "    columns_1.append(col_to_add)\n",
    "    col_to_add = [' ['+  str(np.round(mean_squared_error(np.array(list_solutions_ce_no_spatial_05[ns])[:,i], [true_params_effective_no_spatial_ce[i]]*len(list_solutions_ce_no_spatial_05[ns])),3)) +']' for i in range(len(true_params_effective_no_spatial_ce))] + [\"/\"]\n",
    "    columns_2.append(col_to_add)\n",
    "        \n",
    "columns_1.insert(0,param_names)\n",
    "columns_2.insert(0,param_names_2)\n",
    "\n",
    "tr_columns_1 = np.transpose(columns_1)\n",
    "tr_columns_2 = np.transpose(columns_2)\n",
    "for i in range(len(tr_columns_1)):\n",
    "    table_params.add_row(tr_columns_1[i])\n",
    "    table_params.add_row(tr_columns_2[i])\n",
    "\n",
    "print(table_params.draw())"
   ]
  },
  {
   "cell_type": "code",
   "execution_count": 23,
   "metadata": {
    "scrolled": true
   },
   "outputs": [
    {
     "name": "stdout",
     "output_type": "stream",
     "text": [
      "\\begin{table}\n",
      "\t\\begin{center}\n",
      "\t\t\\begin{tabular}{|l|l|l|l|l|l|l|}\n",
      "\t\t\t\\hline\n",
      "\t\t\t \\\\\n",
      "\t\t\t\\hline\n",
      "\t\t\tParameter & S n=50 & S n=200 & S n=1000 & NS n=50 & NS n=200 & NS n=1000 \\\\\n",
      "\t\t\t\\hline\n",
      "\t\t\t\\multirow{2}{*}{$\\beta_{01}$} & -0.001 (0.058) & 0.006 (0.031) & 0.001 (0.013) & 0.013 (0.216) & 0.015 (0.115) & 0.022 (0.051) \\\\\n",
      "\t\t\t\\hline\n",
      "\t\t\t & [0.003] & [0.001] & [0.0] &  [0.047] &  [0.013] &  [0.003] \\\\\n",
      "\t\t\t\\hline\n",
      "\t\t\t\\multirow{2}{*}{$\\beta_{02}$} & -0.005 (0.062) & 0.007 (0.027) & 0.001 (0.013) & 0.123 (0.377) & 0.206 (0.195) & 0.169 (0.086) \\\\\n",
      "\t\t\t\\hline\n",
      "\t\t\t & [0.004] & [0.001] & [0.0] &  [0.157] &  [0.08] &  [0.036] \\\\\n",
      "\t\t\t\\hline\n",
      "\t\t\t\\multirow{2}{*}{$\\beta_{11}$} & -0.036 (0.104) & -0.011 (0.052) & -0.002 (0.026) & -0.026 (0.139) & 0.001 (0.069) & 0.007 (0.033) \\\\\n",
      "\t\t\t\\hline\n",
      "\t\t\t & [0.012] & [0.003] & [0.001] &  [0.02] &  [0.005] &  [0.001] \\\\\n",
      "\t\t\t\\hline\n",
      "\t\t\t\\multirow{2}{*}{$\\beta_{12}$} & 0.194 (0.121) & 0.055 (0.082) & 0.015 (0.036) & 0.314 (0.211) & 0.211 (0.112) & 0.204 (0.054) \\\\\n",
      "\t\t\t\\hline\n",
      "\t\t\t & [0.052] & [0.01] & [0.002] &  [0.143] &  [0.057] &  [0.045] \\\\\n",
      "\t\t\t\\hline\n",
      "\t\t\t\\multirow{2}{*}{$\\beta_{21}$} & 0.033 (0.081) & 0.009 (0.05) & 0.004 (0.023) & 0.017 (0.117) & -0.021 (0.066) & -0.023 (0.031) \\\\\n",
      "\t\t\t\\hline\n",
      "\t\t\t & [0.008] & [0.003] & [0.001] &  [0.014] &  [0.005] &  [0.001] \\\\\n",
      "\t\t\t\\hline\n",
      "\t\t\t\\multirow{2}{*}{$\\beta_{22}$} & 0.121 (0.114) & 0.036 (0.066) & 0.01 (0.03) & 0.174 (0.194) & 0.103 (0.102) & 0.11 (0.048) \\\\\n",
      "\t\t\t\\hline\n",
      "\t\t\t & [0.028] & [0.006] & [0.001] &  [0.068] &  [0.021] &  [0.014] \\\\\n",
      "\t\t\t\\hline\n",
      "\t\t\t\\multirow{2}{*}{$\\rho$} & -0.008 (0.036) & 0.0 (0.015) & 0.001 (0.007) & / & / & / \\\\\n",
      "\t\t\t\\hline\n",
      "\t\t\t & [0.001] & [0.0] & [0.0] & / & / & / \\\\\n",
      "\t\t\t\\hline\n",
      "\t\t\\end{tabular}\n",
      "\t\\end{center}\n",
      "\t\\caption{Difference between the estimated parameters with the cross-entropy minimization and the true parameters ($rho=0.5$). The results are presented as the mean of the differences on the 100 iterations, the standard deviation within parenthesis, and the standard deviation within square brackets.}\n",
      "\\end{table}\n"
     ]
    }
   ],
   "source": [
    "print(latextable.draw_latex(table_params, caption=\"Difference between the estimated parameters with the cross-entropy minimization and the true parameters ($rho=0.5$). The results are presented as the mean of the differences on the 100 iterations, the standard deviation within parenthesis, and the standard deviation within square brackets.\"))"
   ]
  },
  {
   "cell_type": "code",
   "execution_count": 24,
   "metadata": {},
   "outputs": [
    {
     "name": "stdout",
     "output_type": "stream",
     "text": [
      "+-----------+-----------+----------+----------+----------+----------+----------+\n",
      "| Parameter | S n=50    | S n=200  | S n=1000 | NS n=50  | NS n=200 | NS       |\n",
      "|           |           |          |          |          |          | n=1000   |\n",
      "+-----------+-----------+----------+----------+----------+----------+----------+\n",
      "| \\multirow | 0.002     | 0.0      | 0.0      | 0.143    | 0.062    | 0.179    |\n",
      "| {2}{*}{$\\ | (0.063)   | (0.009)  | (0.004)  | (1.442)  | (0.73)   | (0.292)  |\n",
      "| beta_{01} |           |          |          |          |          |          |\n",
      "| $}        |           |          |          |          |          |          |\n",
      "+-----------+-----------+----------+----------+----------+----------+----------+\n",
      "|           | [0.004]   | [0.0]    | [0.0]    |  [2.099] |  [0.537] |  [0.117] |\n",
      "+-----------+-----------+----------+----------+----------+----------+----------+\n",
      "| \\multirow | -0.004    | -0.003   | -0.0     | 0.696    | 0.845    | 0.726    |\n",
      "| {2}{*}{$\\ | (0.088)   | (0.01)   | (0.004)  | (1.836)  | (0.743)  | (0.34)   |\n",
      "| beta_{02} |           |          |          |          |          |          |\n",
      "| $}        |           |          |          |          |          |          |\n",
      "+-----------+-----------+----------+----------+----------+----------+----------+\n",
      "|           | [0.008]   | [0.0]    | [0.0]    |  [3.853] |  [1.267] |  [0.643] |\n",
      "+-----------+-----------+----------+----------+----------+----------+----------+\n",
      "| \\multirow | -0.188    | -0.029   | -0.003   | -0.22    | -0.179   | -0.218   |\n",
      "| {2}{*}{$\\ | (0.316)   | (0.054)  | (0.023)  | (0.37)   | (0.155)  | (0.067)  |\n",
      "| beta_{11} |           |          |          |          |          |          |\n",
      "| $}        |           |          |          |          |          |          |\n",
      "+-----------+-----------+----------+----------+----------+----------+----------+\n",
      "|           | [0.135]   | [0.004]  | [0.001]  |  [0.185] |  [0.056] |  [0.052] |\n",
      "+-----------+-----------+----------+----------+----------+----------+----------+\n",
      "| \\multirow | 0.643     | 0.164    | 0.033    | 1.109    | 1.291    | 1.32     |\n",
      "| {2}{*}{$\\ | (0.355)   | (0.112)  | (0.038)  | (0.426)  | (0.199)  | (0.099)  |\n",
      "| beta_{12} |           |          |          |          |          |          |\n",
      "| $}        |           |          |          |          |          |          |\n",
      "+-----------+-----------+----------+----------+----------+----------+----------+\n",
      "|           | [0.54]    | [0.039]  | [0.003]  |  [1.411] |  [1.705] |  [1.752] |\n",
      "+-----------+-----------+----------+----------+----------+----------+----------+\n",
      "| \\multirow | 0.137     | 0.031    | 0.005    | 0.103    | 0.065    | 0.079    |\n",
      "| {2}{*}{$\\ | (0.229)   | (0.052)  | (0.021)  | (0.305)  | (0.144)  | (0.058)  |\n",
      "| beta_{21} |           |          |          |          |          |          |\n",
      "| $}        |           |          |          |          |          |          |\n",
      "+-----------+-----------+----------+----------+----------+----------+----------+\n",
      "|           | [0.071]   | [0.004]  | [0.0]    |  [0.104] |  [0.025] |  [0.01]  |\n",
      "+-----------+-----------+----------+----------+----------+----------+----------+\n",
      "| \\multirow | 0.5       | 0.118    | 0.025    | 0.76     | 0.802    | 0.855    |\n",
      "| {2}{*}{$\\ | (0.328)   | (0.081)  | (0.029)  | (0.409)  | (0.162)  | (0.083)  |\n",
      "| beta_{22} |           |          |          |          |          |          |\n",
      "| $}        |           |          |          |          |          |          |\n",
      "+-----------+-----------+----------+----------+----------+----------+----------+\n",
      "|           | [0.358]   | [0.021]  | [0.001]  |  [0.745] |  [0.669] |  [0.739] |\n",
      "+-----------+-----------+----------+----------+----------+----------+----------+\n",
      "| \\multirow | -0.004    | 0.0      | -0.0     | /        | /        | /        |\n",
      "| {2}{*}{$\\ | (0.02)    | (0.003)  | (0.001)  |          |          |          |\n",
      "| rho$}     |           |          |          |          |          |          |\n",
      "+-----------+-----------+----------+----------+----------+----------+----------+\n",
      "|           | [0.0]     | [0.0]    | [0.0]    | /        | /        | /        |\n",
      "+-----------+-----------+----------+----------+----------+----------+----------+\n"
     ]
    }
   ],
   "source": [
    "table_params = Texttable()\n",
    "table_params.add_row([\"Parameter\", \"S n=50\", \"S n=200\", \"S n=1000\",\n",
    "                      \"NS n=50\", \"NS n=200\", \"NS n=1000\"])\n",
    "                      \n",
    "#param_names = [\"$\\\\beta_{01}$\", \"\", \"$\\\\beta_{02}$\", \"\", \"$\\\\beta_{11}$\", \"\", \"$\\\\beta_{12}$\", \"\",\n",
    "#               \"$\\\\beta_{21}$\", \"\", \"$\\\\beta_{22}$\", \"\", \"$\\\\gamma_0$\", \"\", \"$\\\\gamma_1$\", \"\", \"$\\\\rho$\", \"\"]\n",
    "\n",
    "param_names = [\"\\\\multirow{2}{*}{$\\\\beta_{01}$}\", \"\\\\multirow{2}{*}{$\\\\beta_{02}$}\", \"\\\\multirow{2}{*}{$\\\\beta_{11}$}\",\n",
    "               \"\\\\multirow{2}{*}{$\\\\beta_{12}$}\", \"\\\\multirow{2}{*}{$\\\\beta_{21}$}\", \"\\\\multirow{2}{*}{$\\\\beta_{22}$}\",\n",
    "               \"\\\\multirow{2}{*}{$\\\\rho$}\" ]\n",
    "param_names_2 = [\"\"]*len(param_names)\n",
    "\n",
    "columns_1 = []\n",
    "columns_2 = []\n",
    "\n",
    "for ns in range(3):\n",
    "    col_to_add = [str(np.round(np.mean(np.array(list_solutions_ce_spatial_09[ns])[:,i] - true_params_effective_09_ce[i]),3))\n",
    "                  +' ('+str(np.round(np.std(np.array(list_solutions_ce_spatial_09[ns])[:,i] - true_params_effective_09_ce[i]),3))+')' for i in range(len(true_params_effective_09_ce))]\n",
    "    columns_1.append(col_to_add)\n",
    "    col_to_add = ['['+  str(np.round(mean_squared_error(np.array(list_solutions_ce_spatial_09[ns])[:,i], [true_params_effective_09_ce[i]]*len(list_solutions_ce_spatial_09[ns])),3)) +']' for i in range(len(true_params_effective_09_ce))]\n",
    "    columns_2.append(col_to_add)\n",
    "    \n",
    "for ns in range(3):\n",
    "    col_to_add = [str(np.round(np.mean(np.array(list_solutions_ce_no_spatial_09[ns])[:,i] - true_params_effective_no_spatial_ce[i]),3))\n",
    "                  +' ('+str(np.round(np.std(np.array(list_solutions_ce_no_spatial_09[ns])[:,i] - true_params_effective_no_spatial_ce[i]),3))+')' for i in range(len(true_params_effective_no_spatial_ce))] + [\"/\"]\n",
    "    columns_1.append(col_to_add)\n",
    "    col_to_add = [' ['+  str(np.round(mean_squared_error(np.array(list_solutions_ce_no_spatial_09[ns])[:,i], [true_params_effective_no_spatial_ce[i]]*len(list_solutions_ce_no_spatial_09[ns])),3)) +']' for i in range(len(true_params_effective_no_spatial_ce))] + [\"/\"]\n",
    "    columns_2.append(col_to_add)\n",
    "        \n",
    "columns_1.insert(0,param_names)\n",
    "columns_2.insert(0,param_names_2)\n",
    "\n",
    "tr_columns_1 = np.transpose(columns_1)\n",
    "tr_columns_2 = np.transpose(columns_2)\n",
    "for i in range(len(tr_columns_1)):\n",
    "    table_params.add_row(tr_columns_1[i])\n",
    "    table_params.add_row(tr_columns_2[i])\n",
    "\n",
    "print(table_params.draw())"
   ]
  },
  {
   "cell_type": "code",
   "execution_count": 25,
   "metadata": {
    "scrolled": true
   },
   "outputs": [
    {
     "name": "stdout",
     "output_type": "stream",
     "text": [
      "\\begin{table}\n",
      "\t\\begin{center}\n",
      "\t\t\\begin{tabular}{|l|l|l|l|l|l|l|}\n",
      "\t\t\t\\hline\n",
      "\t\t\t \\\\\n",
      "\t\t\t\\hline\n",
      "\t\t\tParameter & S n=50 & S n=200 & S n=1000 & NS n=50 & NS n=200 & NS n=1000 \\\\\n",
      "\t\t\t\\hline\n",
      "\t\t\t\\multirow{2}{*}{$\\beta_{01}$} & 0.002 (0.063) & 0.0 (0.009) & 0.0 (0.004) & 0.143 (1.442) & 0.062 (0.73) & 0.179 (0.292) \\\\\n",
      "\t\t\t\\hline\n",
      "\t\t\t & [0.004] & [0.0] & [0.0] &  [2.099] &  [0.537] &  [0.117] \\\\\n",
      "\t\t\t\\hline\n",
      "\t\t\t\\multirow{2}{*}{$\\beta_{02}$} & -0.004 (0.088) & -0.003 (0.01) & -0.0 (0.004) & 0.696 (1.836) & 0.845 (0.743) & 0.726 (0.34) \\\\\n",
      "\t\t\t\\hline\n",
      "\t\t\t & [0.008] & [0.0] & [0.0] &  [3.853] &  [1.267] &  [0.643] \\\\\n",
      "\t\t\t\\hline\n",
      "\t\t\t\\multirow{2}{*}{$\\beta_{11}$} & -0.188 (0.316) & -0.029 (0.054) & -0.003 (0.023) & -0.22 (0.37) & -0.179 (0.155) & -0.218 (0.067) \\\\\n",
      "\t\t\t\\hline\n",
      "\t\t\t & [0.135] & [0.004] & [0.001] &  [0.185] &  [0.056] &  [0.052] \\\\\n",
      "\t\t\t\\hline\n",
      "\t\t\t\\multirow{2}{*}{$\\beta_{12}$} & 0.643 (0.355) & 0.164 (0.112) & 0.033 (0.038) & 1.109 (0.426) & 1.291 (0.199) & 1.32 (0.099) \\\\\n",
      "\t\t\t\\hline\n",
      "\t\t\t & [0.54] & [0.039] & [0.003] &  [1.411] &  [1.705] &  [1.752] \\\\\n",
      "\t\t\t\\hline\n",
      "\t\t\t\\multirow{2}{*}{$\\beta_{21}$} & 0.137 (0.229) & 0.031 (0.052) & 0.005 (0.021) & 0.103 (0.305) & 0.065 (0.144) & 0.079 (0.058) \\\\\n",
      "\t\t\t\\hline\n",
      "\t\t\t & [0.071] & [0.004] & [0.0] &  [0.104] &  [0.025] &  [0.01] \\\\\n",
      "\t\t\t\\hline\n",
      "\t\t\t\\multirow{2}{*}{$\\beta_{22}$} & 0.5 (0.328) & 0.118 (0.081) & 0.025 (0.029) & 0.76 (0.409) & 0.802 (0.162) & 0.855 (0.083) \\\\\n",
      "\t\t\t\\hline\n",
      "\t\t\t & [0.358] & [0.021] & [0.001] &  [0.745] &  [0.669] &  [0.739] \\\\\n",
      "\t\t\t\\hline\n",
      "\t\t\t\\multirow{2}{*}{$\\rho$} & -0.004 (0.02) & 0.0 (0.003) & -0.0 (0.001) & / & / & / \\\\\n",
      "\t\t\t\\hline\n",
      "\t\t\t & [0.0] & [0.0] & [0.0] & / & / & / \\\\\n",
      "\t\t\t\\hline\n",
      "\t\t\\end{tabular}\n",
      "\t\\end{center}\n",
      "\t\\caption{Difference between the estimated parameters with the cross-entropy minimization and the true parameters ($rho=0.9$). The results are presented as the mean of the differences on the 100 iterations, the standard deviation within parenthesis, and the standard deviation within square brackets.}\n",
      "\\end{table}\n"
     ]
    }
   ],
   "source": [
    "print(latextable.draw_latex(table_params, caption=\"Difference between the estimated parameters with the cross-entropy minimization and the true parameters ($rho=0.9$). The results are presented as the mean of the differences on the 100 iterations, the standard deviation within parenthesis, and the standard deviation within square brackets.\"))"
   ]
  },
  {
   "cell_type": "markdown",
   "metadata": {},
   "source": [
    "# Analysis of the results on a test set"
   ]
  },
  {
   "cell_type": "code",
   "execution_count": 237,
   "metadata": {},
   "outputs": [],
   "source": [
    "def analysis_results(list_solutions_spatial, list_solutions_no_spatial, rho,\n",
    "                     n_repeat=100, size_test=1000, list_n_samples=[50,200,1000]):\n",
    "    \n",
    "    list_r2_s, list_rmse_s, list_similarity_s, list_crossentropy_s = [], [], [], []\n",
    "    list_r2_ns, list_rmse_ns, list_similarity_ns, list_crossentropy_ns = [], [], [], []\n",
    "\n",
    "    seed=0\n",
    "\n",
    "    for n_samples_index in range(3):\n",
    "        n_samples = list_n_samples[n_samples_index]\n",
    "        \n",
    "        list_r2_s_temp, list_rmse_s_temp, list_similarity_s_temp, list_crossentropy_s_temp = [], [], [], []\n",
    "        list_r2_ns_temp, list_rmse_ns_temp, list_similarity_ns_temp, list_crossentropy_ns_temp = [], [], [], []\n",
    "        \n",
    "        for i in range(len(list_solutions_spatial[n_samples_index])):\n",
    "            np.random.seed(seed+1000)\n",
    "\n",
    "            X,Z,W = create_features_matrices(n_samples,n_features,choice_W='random_distance',nneighbors=10)\n",
    "            Z[:,0] = 1\n",
    "            M = np.identity(n_samples) - rho*W\n",
    "            try:\n",
    "                mu = dirichlet_regression.compute_mu_spatial(X, beta, M)\n",
    "                phi = np.exp(np.matmul(Z,gamma_var))\n",
    "                alpha = mu*phi[:,None]\n",
    "\n",
    "                Y = np.array([np.random.dirichlet(alpha_i) for alpha_i in alpha])\n",
    "                Y = (Y*(size_test-1)+1/n_classes)/size_test\n",
    "\n",
    "                solution_spatial = list_solutions_spatial[n_samples_index][i]\n",
    "                beta_sol_s = np.zeros((n_features+1,n_classes))\n",
    "                beta_sol_s[:,1:] = solution_spatial[:(n_features+1)*(n_classes-1)].reshape((n_features+1),n_classes-1)\n",
    "                rho_sol_s = solution_spatial[-1]\n",
    "                M_sol = np.identity(n_samples) - rho_sol_s*W\n",
    "                mu_sol_s = dirichlet_regression.compute_mu_spatial(X, beta_sol_s, M_sol)\n",
    "\n",
    "                list_r2_s_temp.append(r2_score(Y,mu_sol_s))\n",
    "                list_rmse_s_temp.append(mean_squared_error(Y,mu_sol_s,squared=False))\n",
    "                list_crossentropy_s_temp.append(-(1/size_test)*np.sum(Y*np.log(mu_sol_s)))\n",
    "                list_similarity_s_temp.append(cos_similarity(Y, mu_sol_s))\n",
    "\n",
    "                solution_no_spatial = list_solutions_no_spatial[n_samples_index][i]\n",
    "                beta_sol_ns = np.zeros((n_features+1,n_classes))\n",
    "                beta_sol_ns[:,1:] = solution_no_spatial[:(n_features+1)*(n_classes-1)].reshape((n_features+1),n_classes-1)\n",
    "                mu_sol_ns = dirichlet_regression.compute_mu(X, beta_sol_ns)\n",
    "\n",
    "                list_r2_ns_temp.append(r2_score(Y,mu_sol_ns))\n",
    "                list_rmse_ns_temp.append(mean_squared_error(Y,mu_sol_ns,squared=False))\n",
    "                list_crossentropy_ns_temp.append(-(1/size_test)*np.sum(Y*np.log(mu_sol_ns)))\n",
    "                list_similarity_ns_temp.append(cos_similarity(Y, mu_sol_ns))\n",
    "\n",
    "            except RuntimeError:\n",
    "                print(\"Factor is exactly singular\")\n",
    "            except np.linalg.LinAlgError:\n",
    "                print(\"Singular matrix\")\n",
    "\n",
    "            seed+=1\n",
    "        list_r2_s.append(list_r2_s_temp)\n",
    "        list_rmse_s.append(list_rmse_s_temp)\n",
    "        list_similarity_s.append(list_similarity_s_temp)\n",
    "        list_crossentropy_s.append(list_crossentropy_s_temp)\n",
    "        list_r2_ns.append(list_r2_ns_temp)\n",
    "        list_rmse_ns.append(list_rmse_ns_temp)\n",
    "        list_similarity_ns.append(list_similarity_ns_temp)\n",
    "        list_crossentropy_ns.append(list_crossentropy_ns_temp)\n",
    "    return(list_r2_s, list_rmse_s, list_similarity_s, list_crossentropy_s,\n",
    "           list_r2_ns, list_rmse_ns, list_similarity_ns, list_crossentropy_ns)"
   ]
  },
  {
   "cell_type": "markdown",
   "metadata": {},
   "source": [
    "## rho=0.1"
   ]
  },
  {
   "cell_type": "code",
   "execution_count": 301,
   "metadata": {},
   "outputs": [
    {
     "name": "stdout",
     "output_type": "stream",
     "text": [
      "Wall time: 10.6 s\n"
     ]
    }
   ],
   "source": [
    "%%time\n",
    "list_r2_s, list_rmse_s, list_similarity_s, list_crossentropy_s, list_r2_ns, list_rmse_ns, list_similarity_ns, list_crossentropy_ns = analysis_results(list_solutions_spatial_01, list_solutions_no_spatial_01, rho=0.1) "
   ]
  },
  {
   "cell_type": "code",
   "execution_count": 302,
   "metadata": {},
   "outputs": [
    {
     "name": "stdout",
     "output_type": "stream",
     "text": [
      "DIRICHLET no spatial\n",
      "R2 0.9309 ( 0.0 )\n",
      "RMSE 0.0739 ( 0.0 )\n",
      "Crossentropy 0.666 ( 0.0001 )\n",
      "Cos similarity 0.9855 ( 0.0 )\n",
      "---\n",
      "DIRICHLET spatial\n",
      "R2 0.9335 ( 0.0 )\n",
      "RMSE 0.0723 ( 0.0 )\n",
      "Crossentropy 0.6648 ( 0.0001 )\n",
      "Cos similarity 0.9862 ( 0.0 )\n"
     ]
    }
   ],
   "source": [
    "print(\"DIRICHLET no spatial\")\n",
    "print('R2', np.round(np.mean(list_r2_ns[2]),4), '(', np.round(np.var(list_r2_ns[2]),4), ')')\n",
    "print('RMSE', np.round(np.mean(list_rmse_ns[2]),4), '(', np.round(np.var(list_rmse_ns[2]),4), ')')\n",
    "print('Crossentropy', np.round(np.mean(list_crossentropy_ns[2]),4), '(', np.round(np.var(list_crossentropy_ns[2]),4), ')')\n",
    "print('Cos similarity', np.round(np.mean(list_similarity_ns[2]),4), '(', np.round(np.var(list_similarity_ns[2]),4), ')')\n",
    "print(\"---\\nDIRICHLET spatial\")\n",
    "print('R2', np.round(np.mean(list_r2_s[2]),4), '(', np.round(np.var(list_r2_s[2]),4), ')')\n",
    "print('RMSE', np.round(np.mean(list_rmse_s[2]),4), '(', np.round(np.var(list_rmse_s[2]),4), ')')\n",
    "print('Crossentropy', np.round(np.mean(list_crossentropy_s[2]),4), '(', np.round(np.var(list_crossentropy_s[2]),4), ')')\n",
    "print('Cos similarity', np.round(np.mean(list_similarity_s[2]),4), '(', np.round(np.var(list_similarity_s[2]),4), ')')"
   ]
  },
  {
   "cell_type": "code",
   "execution_count": 303,
   "metadata": {},
   "outputs": [
    {
     "name": "stdout",
     "output_type": "stream",
     "text": [
      "Wall time: 10.6 s\n"
     ]
    }
   ],
   "source": [
    "%%time\n",
    "list_r2_s, list_rmse_s, list_similarity_s, list_crossentropy_s, list_r2_ns, list_rmse_ns, list_similarity_ns, list_crossentropy_ns = analysis_results(list_solutions_ce_spatial_01, list_solutions_ce_no_spatial_01, rho=0.1)"
   ]
  },
  {
   "cell_type": "code",
   "execution_count": 304,
   "metadata": {},
   "outputs": [
    {
     "name": "stdout",
     "output_type": "stream",
     "text": [
      "CROSSENTROPY no spatial\n",
      "R2 0.9314 ( 0.0 )\n",
      "RMSE 0.0736 ( 0.0 )\n",
      "Crossentropy 0.6655 ( 0.0001 )\n",
      "Cos similarity 0.9856 ( 0.0 )\n",
      "---\n",
      "CROSSENTROPY spatial\n",
      "R2 0.9338 ( 0.0 )\n",
      "RMSE 0.072 ( 0.0 )\n",
      "Crossentropy 0.6644 ( 0.0001 )\n",
      "Cos similarity 0.9862 ( 0.0 )\n"
     ]
    }
   ],
   "source": [
    "print(\"CROSSENTROPY no spatial\")\n",
    "print('R2', np.round(np.mean(list_r2_ns[2]),4), '(', np.round(np.var(list_r2_ns[2]),4), ')')\n",
    "print('RMSE', np.round(np.mean(list_rmse_ns[2]),4), '(', np.round(np.var(list_rmse_ns[2]),4), ')')\n",
    "print('Crossentropy', np.round(np.mean(list_crossentropy_ns[2]),4), '(', np.round(np.var(list_crossentropy_ns[2]),4), ')')\n",
    "print('Cos similarity', np.round(np.mean(list_similarity_ns[2]),4), '(', np.round(np.var(list_similarity_ns[2]),4), ')')\n",
    "print(\"---\\nCROSSENTROPY spatial\")\n",
    "print('R2', np.round(np.mean(list_r2_s[2]),4), '(', np.round(np.var(list_r2_s[2]),4), ')')\n",
    "print('RMSE', np.round(np.mean(list_rmse_s[2]),4), '(', np.round(np.var(list_rmse_s[2]),4), ')')\n",
    "print('Crossentropy', np.round(np.mean(list_crossentropy_s[2]),4), '(', np.round(np.var(list_crossentropy_s[2]),4), ')')\n",
    "print('Cos similarity', np.round(np.mean(list_similarity_s[2]),4), '(', np.round(np.var(list_similarity_s[2]),4), ')')"
   ]
  },
  {
   "cell_type": "markdown",
   "metadata": {},
   "source": [
    "## rho=0.5"
   ]
  },
  {
   "cell_type": "code",
   "execution_count": 305,
   "metadata": {},
   "outputs": [
    {
     "name": "stdout",
     "output_type": "stream",
     "text": [
      "Wall time: 10.2 s\n"
     ]
    }
   ],
   "source": [
    "%%time\n",
    "list_r2_s, list_rmse_s, list_similarity_s, list_crossentropy_s, list_r2_ns, list_rmse_ns, list_similarity_ns, list_crossentropy_ns = analysis_results(list_solutions_spatial_05, list_solutions_no_spatial_05, rho=0.5) "
   ]
  },
  {
   "cell_type": "code",
   "execution_count": 306,
   "metadata": {},
   "outputs": [
    {
     "name": "stdout",
     "output_type": "stream",
     "text": [
      "DIRICHLET no spatial\n",
      "R2 0.8311 ( 0.0001 )\n",
      "RMSE 0.1249 ( 0.0 )\n",
      "Crossentropy 0.6845 ( 0.0001 )\n",
      "Cos similarity 0.961 ( 0.0 )\n",
      "---\n",
      "DIRICHLET spatial\n",
      "R2 0.9408 ( 0.0 )\n",
      "RMSE 0.0705 ( 0.0 )\n",
      "Crossentropy 0.6275 ( 0.0002 )\n",
      "Cos similarity 0.9872 ( 0.0 )\n"
     ]
    }
   ],
   "source": [
    "print(\"DIRICHLET no spatial\")\n",
    "print('R2', np.round(np.mean(list_r2_ns[2]),4), '(', np.round(np.var(list_r2_ns[2]),4), ')')\n",
    "print('RMSE', np.round(np.mean(list_rmse_ns[2]),4), '(', np.round(np.var(list_rmse_ns[2]),4), ')')\n",
    "print('Crossentropy', np.round(np.mean(list_crossentropy_ns[2]),4), '(', np.round(np.var(list_crossentropy_ns[2]),4), ')')\n",
    "print('Cos similarity', np.round(np.mean(list_similarity_ns[2]),4), '(', np.round(np.var(list_similarity_ns[2]),4), ')')\n",
    "print(\"---\\nDIRICHLET spatial\")\n",
    "print('R2', np.round(np.mean(list_r2_s[2]),4), '(', np.round(np.var(list_r2_s[2]),4), ')')\n",
    "print('RMSE', np.round(np.mean(list_rmse_s[2]),4), '(', np.round(np.var(list_rmse_s[2]),4), ')')\n",
    "print('Crossentropy', np.round(np.mean(list_crossentropy_s[2]),4), '(', np.round(np.var(list_crossentropy_s[2]),4), ')')\n",
    "print('Cos similarity', np.round(np.mean(list_similarity_s[2]),4), '(', np.round(np.var(list_similarity_s[2]),4), ')')"
   ]
  },
  {
   "cell_type": "code",
   "execution_count": 307,
   "metadata": {},
   "outputs": [],
   "source": [
    "list_r2_s, list_rmse_s, list_similarity_s, list_crossentropy_s, list_r2_ns, list_rmse_ns, list_similarity_ns, list_crossentropy_ns = analysis_results(list_solutions_ce_spatial_05, list_solutions_ce_no_spatial_05, rho=0.5)"
   ]
  },
  {
   "cell_type": "code",
   "execution_count": 308,
   "metadata": {},
   "outputs": [
    {
     "name": "stdout",
     "output_type": "stream",
     "text": [
      "CROSSENTROPY no spatial\n",
      "R2 0.8421 ( 0.0001 )\n",
      "RMSE 0.1207 ( 0.0 )\n",
      "Crossentropy 0.6764 ( 0.0002 )\n",
      "Cos similarity 0.9618 ( 0.0 )\n",
      "---\n",
      "CROSSENTROPY spatial\n",
      "R2 0.9414 ( 0.0 )\n",
      "RMSE 0.07 ( 0.0 )\n",
      "Crossentropy 0.627 ( 0.0002 )\n",
      "Cos similarity 0.9872 ( 0.0 )\n"
     ]
    }
   ],
   "source": [
    "print(\"CROSSENTROPY no spatial\")\n",
    "print('R2', np.round(np.mean(list_r2_ns[2]),4), '(', np.round(np.var(list_r2_ns[2]),4), ')')\n",
    "print('RMSE', np.round(np.mean(list_rmse_ns[2]),4), '(', np.round(np.var(list_rmse_ns[2]),4), ')')\n",
    "print('Crossentropy', np.round(np.mean(list_crossentropy_ns[2]),4), '(', np.round(np.var(list_crossentropy_ns[2]),4), ')')\n",
    "print('Cos similarity', np.round(np.mean(list_similarity_ns[2]),4), '(', np.round(np.var(list_similarity_ns[2]),4), ')')\n",
    "print(\"---\\nCROSSENTROPY spatial\")\n",
    "print('R2', np.round(np.mean(list_r2_s[2]),4), '(', np.round(np.var(list_r2_s[2]),4), ')')\n",
    "print('RMSE', np.round(np.mean(list_rmse_s[2]),4), '(', np.round(np.var(list_rmse_s[2]),4), ')')\n",
    "print('Crossentropy', np.round(np.mean(list_crossentropy_s[2]),4), '(', np.round(np.var(list_crossentropy_s[2]),4), ')')\n",
    "print('Cos similarity', np.round(np.mean(list_similarity_s[2]),4), '(', np.round(np.var(list_similarity_s[2]),4), ')')"
   ]
  },
  {
   "cell_type": "markdown",
   "metadata": {},
   "source": [
    "## rho=0.9"
   ]
  },
  {
   "cell_type": "code",
   "execution_count": 309,
   "metadata": {},
   "outputs": [
    {
     "name": "stdout",
     "output_type": "stream",
     "text": [
      "Wall time: 10.6 s\n"
     ]
    }
   ],
   "source": [
    "%%time\n",
    "list_r2_s, list_rmse_s, list_similarity_s, list_crossentropy_s, list_r2_ns, list_rmse_ns, list_similarity_ns, list_crossentropy_ns = analysis_results(list_solutions_spatial_09, list_solutions_no_spatial_09, rho=0.9) "
   ]
  },
  {
   "cell_type": "code",
   "execution_count": 310,
   "metadata": {},
   "outputs": [
    {
     "name": "stdout",
     "output_type": "stream",
     "text": [
      "DIRICHLET no spatial\n",
      "R2 0.2073 ( 0.0025 )\n",
      "RMSE 0.3257 ( 0.0001 )\n",
      "Crossentropy 0.9033 ( 0.0005 )\n",
      "Cos similarity 0.7764 ( 0.0001 )\n",
      "---\n",
      "DIRICHLET spatial\n",
      "R2 0.9011 ( 0.0026 )\n",
      "RMSE 0.1097 ( 0.0008 )\n",
      "Crossentropy 0.4414 ( 0.0026 )\n",
      "Cos similarity 0.9776 ( 0.0001 )\n"
     ]
    }
   ],
   "source": [
    "print(\"DIRICHLET no spatial\")\n",
    "print('R2', np.round(np.mean(list_r2_ns[2]),4), '(', np.round(np.var(list_r2_ns[2]),4), ')')\n",
    "print('RMSE', np.round(np.mean(list_rmse_ns[2]),4), '(', np.round(np.var(list_rmse_ns[2]),4), ')')\n",
    "print('Crossentropy', np.round(np.mean(list_crossentropy_ns[2]),4), '(', np.round(np.var(list_crossentropy_ns[2]),4), ')')\n",
    "print('Cos similarity', np.round(np.mean(list_similarity_ns[2]),4), '(', np.round(np.var(list_similarity_ns[2]),4), ')')\n",
    "print(\"---\\nDIRICHLET spatial\")\n",
    "print('R2', np.round(np.mean(list_r2_s[2]),4), '(', np.round(np.var(list_r2_s[2]),4), ')')\n",
    "print('RMSE', np.round(np.mean(list_rmse_s[2]),4), '(', np.round(np.var(list_rmse_s[2]),4), ')')\n",
    "print('Crossentropy', np.round(np.mean(list_crossentropy_s[2]),4), '(', np.round(np.var(list_crossentropy_s[2]),4), ')')\n",
    "print('Cos similarity', np.round(np.mean(list_similarity_s[2]),4), '(', np.round(np.var(list_similarity_s[2]),4), ')')"
   ]
  },
  {
   "cell_type": "code",
   "execution_count": 311,
   "metadata": {},
   "outputs": [],
   "source": [
    "list_r2_s, list_rmse_s, list_similarity_s, list_crossentropy_s, list_r2_ns, list_rmse_ns, list_similarity_ns, list_crossentropy_ns = analysis_results(list_solutions_ce_spatial_09, list_solutions_ce_no_spatial_09, rho=0.9) "
   ]
  },
  {
   "cell_type": "code",
   "execution_count": 312,
   "metadata": {},
   "outputs": [
    {
     "name": "stdout",
     "output_type": "stream",
     "text": [
      "CROSSENTROPY no spatial\n",
      "R2 0.274 ( 0.0021 )\n",
      "RMSE 0.3121 ( 0.0002 )\n",
      "Crossentropy 0.8576 ( 0.0019 )\n",
      "Cos similarity 0.7877 ( 0.0003 )\n",
      "---\n",
      "CROSSENTROPY spatial\n",
      "R2 0.9761 ( 0.0 )\n",
      "RMSE 0.0535 ( 0.0 )\n",
      "Crossentropy 0.3716 ( 0.0009 )\n",
      "Cos similarity 0.9933 ( 0.0 )\n"
     ]
    }
   ],
   "source": [
    "print(\"CROSSENTROPY no spatial\")\n",
    "print('R2', np.round(np.mean(list_r2_ns[2]),4), '(', np.round(np.var(list_r2_ns[2]),4), ')')\n",
    "print('RMSE', np.round(np.mean(list_rmse_ns[2]),4), '(', np.round(np.var(list_rmse_ns[2]),4), ')')\n",
    "print('Crossentropy', np.round(np.mean(list_crossentropy_ns[2]),4), '(', np.round(np.var(list_crossentropy_ns[2]),4), ')')\n",
    "print('Cos similarity', np.round(np.mean(list_similarity_ns[2]),4), '(', np.round(np.var(list_similarity_ns[2]),4), ')')\n",
    "print(\"---\\nCROSSENTROPY spatial\")\n",
    "print('R2', np.round(np.mean(list_r2_s[2]),4), '(', np.round(np.var(list_r2_s[2]),4), ')')\n",
    "print('RMSE', np.round(np.mean(list_rmse_s[2]),4), '(', np.round(np.var(list_rmse_s[2]),4), ')')\n",
    "print('Crossentropy', np.round(np.mean(list_crossentropy_s[2]),4), '(', np.round(np.var(list_crossentropy_s[2]),4), ')')\n",
    "print('Cos similarity', np.round(np.mean(list_similarity_s[2]),4), '(', np.round(np.var(list_similarity_s[2]),4), ')')"
   ]
  },
  {
   "cell_type": "code",
   "execution_count": null,
   "metadata": {},
   "outputs": [],
   "source": []
  }
 ],
 "metadata": {
  "kernelspec": {
   "display_name": "Python 3",
   "language": "python",
   "name": "python3"
  },
  "language_info": {
   "codemirror_mode": {
    "name": "ipython",
    "version": 3
   },
   "file_extension": ".py",
   "mimetype": "text/x-python",
   "name": "python",
   "nbconvert_exporter": "python",
   "pygments_lexer": "ipython3",
   "version": "3.8.5"
  }
 },
 "nbformat": 4,
 "nbformat_minor": 4
}
