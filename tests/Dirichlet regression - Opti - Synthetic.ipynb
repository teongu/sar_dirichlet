{
 "cells": [
  {
   "cell_type": "markdown",
   "metadata": {},
   "source": [
    "# Importing the packages and data"
   ]
  },
  {
   "cell_type": "code",
   "execution_count": 1,
   "metadata": {},
   "outputs": [],
   "source": [
    "%load_ext autoreload\n",
    "%autoreload 2"
   ]
  },
  {
   "cell_type": "code",
   "execution_count": 2,
   "metadata": {},
   "outputs": [
    {
     "name": "stderr",
     "output_type": "stream",
     "text": [
      "C:\\Users\\tnguyen001\\AppData\\Roaming\\Python\\Python38\\site-packages\\pandas\\core\\computation\\expressions.py:20: UserWarning: Pandas requires version '2.7.3' or newer of 'numexpr' (version '2.7.1' currently installed).\n",
      "  from pandas.core.computation.check import NUMEXPR_INSTALLED\n"
     ]
    }
   ],
   "source": [
    "import numpy as np\n",
    "import pandas as pd\n",
    "import matplotlib.pyplot as plt\n",
    "import scipy\n",
    "from sklearn.metrics import r2_score, mean_squared_error\n",
    "\n",
    "from sklearn.neighbors import NearestNeighbors\n",
    "from sklearn.model_selection import train_test_split\n",
    "from sklearn.model_selection import KFold"
   ]
  },
  {
   "cell_type": "code",
   "execution_count": 3,
   "metadata": {},
   "outputs": [],
   "source": [
    "import sys\n",
    "sys.path.insert(1, '../sar_dirichlet')\n",
    "import dirichlet_regression\n",
    "import dirichlet_regression_opti"
   ]
  },
  {
   "cell_type": "code",
   "execution_count": 4,
   "metadata": {},
   "outputs": [],
   "source": [
    "from func_test import cos_similarity, create_features_matrices"
   ]
  },
  {
   "cell_type": "markdown",
   "metadata": {},
   "source": [
    "# With two features"
   ]
  },
  {
   "cell_type": "code",
   "execution_count": 5,
   "metadata": {},
   "outputs": [],
   "source": [
    "n_features = 2\n",
    "n_classes = 3"
   ]
  },
  {
   "cell_type": "code",
   "execution_count": 6,
   "metadata": {},
   "outputs": [],
   "source": [
    "np.random.seed(21)\n",
    "\n",
    "beta = np.array([[0.  , 0. , .1],\n",
    "                 [0.  , 1., -2.],\n",
    "                 [0.  , -1., -2. ]])\n",
    "\n",
    "gamma_var = np.array([2.,3.])"
   ]
  },
  {
   "cell_type": "code",
   "execution_count": 7,
   "metadata": {},
   "outputs": [],
   "source": [
    "n_repeat = 100\n",
    "list_n_samples = [50,200,1000]"
   ]
  },
  {
   "cell_type": "code",
   "execution_count": 8,
   "metadata": {},
   "outputs": [],
   "source": [
    "cov_matrix = np.array([[1., 0.2], [0.2, 1.]])"
   ]
  },
  {
   "cell_type": "markdown",
   "metadata": {},
   "source": [
    "# Estimation of the parameters"
   ]
  },
  {
   "cell_type": "code",
   "execution_count": 10,
   "metadata": {},
   "outputs": [],
   "source": [
    "def diagonalize(M):\n",
    "    eigenvalues, P = np.linalg.eig(M)\n",
    "    D = np.diag(eigenvalues)\n",
    "    return(P, D)"
   ]
  },
  {
   "cell_type": "code",
   "execution_count": 11,
   "metadata": {},
   "outputs": [],
   "source": [
    "n_samples=200\n",
    "rho=0.9\n",
    "\n",
    "X,Z,W = create_features_matrices(n_samples,n_features,choice_W='random_distance',nneighbors=10,cov_mat=cov_matrix)\n",
    "Z[:,0] = 1\n",
    "M = np.identity(n_samples) - rho*W\n",
    "\n",
    "mu = dirichlet_regression.compute_mu_spatial(X, beta, M)\n",
    "#phi = np.exp(np.matmul(Z,gamma_var))\n",
    "phi = 15*np.ones(n_samples)\n",
    "alpha = mu*phi[:,None]\n",
    "\n",
    "Y = np.array([np.random.dirichlet(alpha_i) for alpha_i in alpha])\n",
    "Y = (Y*(n_samples-1)+1/n_classes)/n_samples"
   ]
  },
  {
   "cell_type": "code",
   "execution_count": 16,
   "metadata": {},
   "outputs": [],
   "source": [
    "I = np.identity(n_samples)"
   ]
  },
  {
   "cell_type": "markdown",
   "metadata": {},
   "source": [
    "If $W$ is diagonalizable, then $W = PDP^{-1}$ with $D$ a diagonal matrix.\n",
    "\n",
    "\\begin{align*}\n",
    "    (I - \\rho W)^{-1} &= (I - \\rho PDP^{-1})^{-1}\\\\\n",
    "    &= P P^{-1} (I - \\rho PDP^{-1})^{-1} P P^{-1}\\\\\n",
    "    &= P \\left( P^{-1} (I - \\rho PDP^{-1}) P \\right)^{-1} P^{-1}\\\\\n",
    "    &= P (I - \\rho D)^{-1} P^{-1}\n",
    "\\end{align*}\n",
    "\n",
    "We just need to compute the inverse of $(I - \\rho D)$, which is straightforward because it is a diagonal matrix."
   ]
  },
  {
   "cell_type": "code",
   "execution_count": 17,
   "metadata": {},
   "outputs": [
    {
     "name": "stdout",
     "output_type": "stream",
     "text": [
      "Wall time: 25.9 ms\n"
     ]
    }
   ],
   "source": [
    "%%time\n",
    "P, D = diagonalize(W)"
   ]
  },
  {
   "cell_type": "code",
   "execution_count": 18,
   "metadata": {},
   "outputs": [
    {
     "data": {
      "text/plain": [
       "0"
      ]
     },
     "execution_count": 18,
     "metadata": {},
     "output_type": "execute_result"
    }
   ],
   "source": [
    "np.count_nonzero(D - np.diag(np.diagonal(D)))"
   ]
  },
  {
   "cell_type": "code",
   "execution_count": 18,
   "metadata": {},
   "outputs": [
    {
     "name": "stdout",
     "output_type": "stream",
     "text": [
      "Wall time: 15.6 ms\n"
     ]
    }
   ],
   "source": [
    "%%time\n",
    "P_inv = np.linalg.inv(P)"
   ]
  },
  {
   "cell_type": "code",
   "execution_count": null,
   "metadata": {},
   "outputs": [],
   "source": []
  },
  {
   "cell_type": "code",
   "execution_count": 14,
   "metadata": {},
   "outputs": [
    {
     "data": {
      "text/plain": [
       "array([[1.39162964e+00, 6.04045923e-03, 7.92622397e-04, ...,\n",
       "        5.34241201e-04, 1.03964264e-04, 1.99769206e-04],\n",
       "       [2.09871330e-02, 1.37160804e+00, 1.64043479e-03, ...,\n",
       "        1.89967177e-03, 4.16291544e-04, 9.57836831e-03],\n",
       "       [3.59740754e-03, 6.85942667e-03, 1.17286198e+00, ...,\n",
       "        4.16781218e-01, 4.94581831e-02, 3.84177592e-02],\n",
       "       ...,\n",
       "       [1.19203874e-03, 2.31260208e-03, 2.37565403e-01, ...,\n",
       "        1.39768922e+00, 8.20240240e-02, 4.16780340e-02],\n",
       "       [8.61918296e-05, 2.03139896e-04, 1.18234702e-02, ...,\n",
       "        3.57132062e-02, 1.78372458e+00, 2.56267827e-02],\n",
       "       [6.14163617e-05, 1.54822406e-03, 4.92316805e-03, ...,\n",
       "        1.20347727e-02, 9.95711002e-03, 3.99795756e+00]])"
      ]
     },
     "execution_count": 14,
     "metadata": {},
     "output_type": "execute_result"
    }
   ],
   "source": [
    "np.linalg.inv(I - rho*W)"
   ]
  },
  {
   "cell_type": "code",
   "execution_count": 21,
   "metadata": {},
   "outputs": [
    {
     "data": {
      "text/plain": [
       "array([[1.39162964e+00, 6.04045923e-03, 7.92622397e-04, ...,\n",
       "        5.34241201e-04, 1.03964264e-04, 1.99769206e-04],\n",
       "       [2.09871330e-02, 1.37160804e+00, 1.64043479e-03, ...,\n",
       "        1.89967177e-03, 4.16291544e-04, 9.57836831e-03],\n",
       "       [3.59740754e-03, 6.85942667e-03, 1.17286198e+00, ...,\n",
       "        4.16781218e-01, 4.94581831e-02, 3.84177592e-02],\n",
       "       ...,\n",
       "       [1.19203874e-03, 2.31260208e-03, 2.37565403e-01, ...,\n",
       "        1.39768922e+00, 8.20240240e-02, 4.16780340e-02],\n",
       "       [8.61918296e-05, 2.03139896e-04, 1.18234702e-02, ...,\n",
       "        3.57132062e-02, 1.78372458e+00, 2.56267827e-02],\n",
       "       [6.14163617e-05, 1.54822406e-03, 4.92316805e-03, ...,\n",
       "        1.20347727e-02, 9.95711002e-03, 3.99795756e+00]])"
      ]
     },
     "execution_count": 21,
     "metadata": {},
     "output_type": "execute_result"
    }
   ],
   "source": [
    "np.real(np.matmul(P, np.matmul(np.linalg.inv(I-rho*D), P_inv)))"
   ]
  },
  {
   "cell_type": "code",
   "execution_count": 23,
   "metadata": {},
   "outputs": [
    {
     "name": "stdout",
     "output_type": "stream",
     "text": [
      "Wall time: 0 ns\n"
     ]
    }
   ],
   "source": [
    "%%time\n",
    "D_inv = np.zeros(I.shape)\n",
    "np.fill_diagonal(D_inv, 1/np.real(I-rho*D).diagonal())"
   ]
  },
  {
   "cell_type": "code",
   "execution_count": 25,
   "metadata": {},
   "outputs": [
    {
     "data": {
      "text/plain": [
       "array([[ 1.39074331e+00,  4.19670823e-03,  1.21706347e-03, ...,\n",
       "         1.15409611e-03,  1.53409768e-04,  5.99685601e-04],\n",
       "       [ 2.46488888e-02,  1.37202962e+00,  1.30032154e-03, ...,\n",
       "         2.61596271e-03,  1.84238182e-04,  9.40255350e-03],\n",
       "       [-1.18978253e-03,  7.86939625e-03,  1.17415109e+00, ...,\n",
       "         4.19075976e-01,  4.92451210e-02,  3.96931298e-02],\n",
       "       ...,\n",
       "       [-1.32839153e-03,  3.07444496e-03,  2.35786110e-01, ...,\n",
       "         1.39529542e+00,  8.22684646e-02,  4.21870380e-02],\n",
       "       [ 2.80791209e-04,  4.55745818e-05,  1.18203729e-02, ...,\n",
       "         3.59092397e-02,  1.78380281e+00,  2.54673308e-02],\n",
       "       [ 5.25149647e-05,  1.55550874e-03,  4.93138944e-03, ...,\n",
       "         1.20492303e-02,  9.94326421e-03,  3.99793702e+00]])"
      ]
     },
     "execution_count": 25,
     "metadata": {},
     "output_type": "execute_result"
    }
   ],
   "source": [
    "np.real(np.matmul(P, np.matmul(D_inv, P_inv)))"
   ]
  },
  {
   "cell_type": "code",
   "execution_count": 24,
   "metadata": {},
   "outputs": [
    {
     "name": "stdout",
     "output_type": "stream",
     "text": [
      "Wall time: 464 ms\n"
     ]
    }
   ],
   "source": [
    "%%time\n",
    "for _ in range(100):\n",
    "    _ = np.linalg.solve(D,P)"
   ]
  },
  {
   "cell_type": "code",
   "execution_count": 31,
   "metadata": {},
   "outputs": [
    {
     "name": "stdout",
     "output_type": "stream",
     "text": [
      "Wall time: 7.01 ms\n"
     ]
    },
    {
     "name": "stderr",
     "output_type": "stream",
     "text": [
      "C:\\Users\\tnguyen001\\AppData\\Roaming\\Python\\Python38\\site-packages\\numpy\\lib\\index_tricks.py:917: ComplexWarning: Casting complex values to real discards the imaginary part\n",
      "  a.flat[:end:step] = val\n"
     ]
    }
   ],
   "source": [
    "%%time\n",
    "D_inv = np.zeros(D.shape)\n",
    "np.fill_diagonal(D_inv, 1/D.diagonal())"
   ]
  },
  {
   "cell_type": "code",
   "execution_count": 31,
   "metadata": {},
   "outputs": [
    {
     "name": "stdout",
     "output_type": "stream",
     "text": [
      "Wall time: 486 ms\n"
     ]
    }
   ],
   "source": [
    "%%time\n",
    "for _ in range(100):\n",
    "    MX1 = np.linalg.solve(M,X)"
   ]
  },
  {
   "cell_type": "code",
   "execution_count": 45,
   "metadata": {},
   "outputs": [],
   "source": [
    "P_inv_X = np.matmul(P_inv, X)"
   ]
  },
  {
   "cell_type": "code",
   "execution_count": 52,
   "metadata": {},
   "outputs": [
    {
     "name": "stdout",
     "output_type": "stream",
     "text": [
      "Wall time: 126 ms\n"
     ]
    }
   ],
   "source": [
    "%%time\n",
    "for _ in range(100):\n",
    "    D_inv = np.zeros(I.shape)\n",
    "    np.fill_diagonal(D_inv, 1/np.real(I-rho*D).diagonal())\n",
    "    #MX2 = np.matmul( np.real(np.matmul(P, np.matmul(D_inv, P_inv))), X)\n",
    "    MX2 = np.real(np.matmul(np.matmul(P, D_inv), P_inv_X))"
   ]
  },
  {
   "cell_type": "code",
   "execution_count": 77,
   "metadata": {},
   "outputs": [
    {
     "data": {
      "text/plain": [
       "array([38.38067552, 76.35362904, 85.26569544])"
      ]
     },
     "execution_count": 77,
     "metadata": {},
     "output_type": "execute_result"
    }
   ],
   "source": [
    "np.sum(Y,axis=0)"
   ]
  },
  {
   "cell_type": "markdown",
   "metadata": {},
   "source": [
    "# Tests time"
   ]
  },
  {
   "cell_type": "code",
   "execution_count": 19,
   "metadata": {},
   "outputs": [
    {
     "name": "stdout",
     "output_type": "stream",
     "text": [
      "CONVERGENCE: REL_REDUCTION_OF_F_<=_FACTR*EPSMCH\n",
      "Wall time: 990 ms\n"
     ]
    }
   ],
   "source": [
    "%%time\n",
    "reg_spatial_opti = dirichlet_regression_opti.dirichletRegressor(spatial=True, maxfun=5000)\n",
    "reg_spatial_opti.fit(X, Y, parametrization='alternative', Z=Z, W=W, fit_intercept=False, verbose=1)"
   ]
  },
  {
   "cell_type": "code",
   "execution_count": 20,
   "metadata": {
    "scrolled": true
   },
   "outputs": [
    {
     "name": "stdout",
     "output_type": "stream",
     "text": [
      "CONVERGENCE: REL_REDUCTION_OF_F_<=_FACTR*EPSMCH\n",
      "Wall time: 1.57 s\n"
     ]
    }
   ],
   "source": [
    "%%time\n",
    "reg_spatial = dirichlet_regression.dirichletRegressor(spatial=True, maxfun=5000)\n",
    "reg_spatial.fit(X, Y, parametrization='alternative', Z=Z, W=W, fit_intercept=False, verbose=1)\n"
   ]
  }
 ],
 "metadata": {
  "kernelspec": {
   "display_name": "Python 3",
   "language": "python",
   "name": "python3"
  },
  "language_info": {
   "codemirror_mode": {
    "name": "ipython",
    "version": 3
   },
   "file_extension": ".py",
   "mimetype": "text/x-python",
   "name": "python",
   "nbconvert_exporter": "python",
   "pygments_lexer": "ipython3",
   "version": "3.8.5"
  }
 },
 "nbformat": 4,
 "nbformat_minor": 4
}
