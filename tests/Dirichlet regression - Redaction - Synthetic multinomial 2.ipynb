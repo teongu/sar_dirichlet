{
 "cells": [
  {
   "cell_type": "markdown",
   "metadata": {},
   "source": [
    "# Importing the packages and data"
   ]
  },
  {
   "cell_type": "code",
   "execution_count": 1,
   "metadata": {},
   "outputs": [],
   "source": [
    "%load_ext autoreload\n",
    "%autoreload 2"
   ]
  },
  {
   "cell_type": "code",
   "execution_count": 2,
   "metadata": {},
   "outputs": [],
   "source": [
    "import numpy as np\n",
    "import pandas as pd\n",
    "import matplotlib.pyplot as plt\n",
    "import scipy\n",
    "from sklearn.metrics import r2_score, mean_squared_error\n",
    "\n",
    "from sklearn.neighbors import NearestNeighbors\n",
    "from sklearn.model_selection import train_test_split\n",
    "from sklearn.model_selection import KFold"
   ]
  },
  {
   "cell_type": "code",
   "execution_count": 3,
   "metadata": {},
   "outputs": [],
   "source": [
    "import sys\n",
    "sys.path.insert(1, '../sar_dirichlet')\n",
    "import dirichlet_regression"
   ]
  },
  {
   "cell_type": "code",
   "execution_count": 4,
   "metadata": {},
   "outputs": [],
   "source": [
    "from func_test import cos_similarity, create_features_matrices, rmse_aitchison"
   ]
  },
  {
   "cell_type": "code",
   "execution_count": 5,
   "metadata": {},
   "outputs": [],
   "source": [
    "import pickle"
   ]
  },
  {
   "cell_type": "markdown",
   "metadata": {},
   "source": [
    "# With two features"
   ]
  },
  {
   "cell_type": "code",
   "execution_count": 6,
   "metadata": {},
   "outputs": [],
   "source": [
    "n_features = 2\n",
    "n_classes = 3"
   ]
  },
  {
   "cell_type": "code",
   "execution_count": 7,
   "metadata": {},
   "outputs": [],
   "source": [
    "np.random.seed(21)\n",
    "\n",
    "beta = np.array([[0.  , -1.6 , 1.],\n",
    "                 [0.  , 1.8, -1.4],\n",
    "                 [0.  , 1.4, -1.1 ]])\n",
    "\n",
    "gamma_var = np.round(np.random.normal(size=(n_features)),2)"
   ]
  },
  {
   "cell_type": "code",
   "execution_count": 8,
   "metadata": {},
   "outputs": [],
   "source": [
    "n_repeat = 100\n",
    "list_n_samples = [50,200,1000]"
   ]
  },
  {
   "cell_type": "code",
   "execution_count": 9,
   "metadata": {},
   "outputs": [],
   "source": [
    "cov_matrix = np.array([[1., 0.2], [0.2, 1.]])"
   ]
  },
  {
   "cell_type": "code",
   "execution_count": 10,
   "metadata": {},
   "outputs": [],
   "source": [
    "#n_repeat = 2\n",
    "#list_n_samples = [50,200]"
   ]
  },
  {
   "cell_type": "markdown",
   "metadata": {},
   "source": [
    "# Estimation of the parameters"
   ]
  },
  {
   "cell_type": "code",
   "execution_count": 11,
   "metadata": {},
   "outputs": [],
   "source": [
    "beta = np.array([[0.  , -.2 , .1],\n",
    "                 [0.  , 2., -1.5],\n",
    "                 [0.  , .5, -2. ]])"
   ]
  },
  {
   "cell_type": "code",
   "execution_count": 17,
   "metadata": {},
   "outputs": [],
   "source": [
    "n_samples=1000\n",
    "rho=0.9\n",
    "\n",
    "X,Z,W = create_features_matrices(n_samples,n_features,choice_W='random_distance',nneighbors=10,cov_mat=cov_matrix)\n",
    "Z[:,0] = 1\n",
    "\n",
    "list_n_i = np.random.randint(100, high=10000, size=n_samples)\n",
    "M = np.identity(n_samples) - rho*W\n",
    "mu = dirichlet_regression.compute_mu_spatial(X, beta, M)\n",
    "\n",
    "Y = np.array([np.random.multinomial(list_n_i[i],mu[i])/list_n_i[i] for i in range(n_samples)])\n",
    "Y = (Y*(n_samples-1)+1/n_classes)/n_samples"
   ]
  },
  {
   "cell_type": "code",
   "execution_count": 18,
   "metadata": {},
   "outputs": [],
   "source": [
    "reg_test = dirichlet_regression.dirichletRegressor(spatial=False)\n",
    "reg_test.fit(X, Y, parametrization='alternative', Z=Z, fit_intercept=False, verbose=0)"
   ]
  },
  {
   "cell_type": "code",
   "execution_count": 19,
   "metadata": {},
   "outputs": [
    {
     "name": "stdout",
     "output_type": "stream",
     "text": [
      "CONVERGENCE: REL_REDUCTION_OF_F_<=_FACTR*EPSMCH\n",
      "Wall time: 20.5 s\n"
     ]
    }
   ],
   "source": [
    "%%time\n",
    "reg_spatial = dirichlet_regression.dirichletRegressor(spatial=True, maxfun=5000)\n",
    "reg_spatial.fit(X, Y, parametrization='alternative', Z=Z, W=W, fit_intercept=False, verbose=1)\n"
   ]
  },
  {
   "cell_type": "code",
   "execution_count": 170,
   "metadata": {},
   "outputs": [
    {
     "name": "stdout",
     "output_type": "stream",
     "text": [
      "Optimization terminated successfully.\n",
      "Wall time: 171 ms\n"
     ]
    }
   ],
   "source": [
    "%%time\n",
    "reg_spatial_ce = dirichlet_regression.dirichletRegressor(spatial=True)\n",
    "reg_spatial_ce.fit(X, Y, parametrization='alternative', Z=Z, W=W, fit_intercept=False, verbose=1, loss='crossentropy')\n"
   ]
  },
  {
   "cell_type": "markdown",
   "metadata": {},
   "source": [
    "Test on another set of data (rerun the generation of X and W beforehand)"
   ]
  },
  {
   "cell_type": "code",
   "execution_count": 172,
   "metadata": {
    "scrolled": false
   },
   "outputs": [
    {
     "name": "stdout",
     "output_type": "stream",
     "text": [
      "R2: 0.8692609927284156\n",
      "Cos similarity: 0.9733589640819008\n",
      "RMSE: 0.11975131184026193\n"
     ]
    }
   ],
   "source": [
    "mu_pred = reg_spatial.pred(X,W)\n",
    "print('R2:',r2_score(Y,mu_pred))\n",
    "print('Cos similarity:',cos_similarity(Y, mu_pred))\n",
    "print('RMSE:',mean_squared_error(Y,mu_pred,squared=False))"
   ]
  },
  {
   "cell_type": "code",
   "execution_count": 173,
   "metadata": {},
   "outputs": [
    {
     "name": "stdout",
     "output_type": "stream",
     "text": [
      "R2: 0.9988070368737851\n",
      "Cos similarity: 0.9997439485404536\n",
      "RMSE: 0.011072342461355118\n"
     ]
    }
   ],
   "source": [
    "mu_pred = reg_spatial_ce.pred(X,W)\n",
    "print('R2:',r2_score(Y,mu_pred))\n",
    "print('Cos similarity:',cos_similarity(Y, mu_pred))\n",
    "print('RMSE:',mean_squared_error(Y,mu_pred,squared=False))"
   ]
  },
  {
   "cell_type": "markdown",
   "metadata": {},
   "source": [
    "---"
   ]
  },
  {
   "cell_type": "code",
   "execution_count": 42,
   "metadata": {},
   "outputs": [
    {
     "name": "stdout",
     "output_type": "stream",
     "text": [
      "[0.01580756 0.00666667 0.97752577]\n",
      "[0.01869416 0.00666667 0.97463918]\n",
      "[0.36845361 0.19189003 0.43965636]\n",
      "[0.01821306 0.00666667 0.97512027]\n",
      "[0.19862543 0.03601375 0.76536082]\n",
      "[0.14185567 0.01725086 0.84089347]\n",
      "[0.29580756 0.08027491 0.62391753]\n",
      "[0.01869416 0.00666667 0.97463918]\n",
      "[0.21113402 0.03986254 0.74900344]\n",
      "[0.2438488  0.05381443 0.70233677]\n"
     ]
    }
   ],
   "source": [
    "seed=0\n",
    "\n",
    "i=0\n",
    "\n",
    "n_samples = list_n_samples[i]\n",
    "\n",
    "true_params = np.concatenate([beta.flatten(),gamma_var, [rho]])\n",
    "\n",
    "solutions_spatial_temp, solutions_no_spatial_temp = [], []\n",
    "solutions_ce_spatial_temp, solutions_ce_no_spatial_temp = [], []\n",
    "\n",
    "list_n_i = np.random.randint(100, high=10000, size=n_samples)\n",
    "\n",
    "for _ in range(10):\n",
    "    np.random.seed(seed)\n",
    "\n",
    "    X,Z,W = create_features_matrices(n_samples,n_features,choice_W='random_distance',nneighbors=10,cov_mat=cov_matrix)\n",
    "    Z[:,0] = 1\n",
    "    M = np.identity(n_samples) - rho*W\n",
    "\n",
    "    #list_n_i = np.random.randint(100, high=10000, size=n_samples)\n",
    "    M = np.identity(n_samples) - rho*W\n",
    "    mu = dirichlet_regression.compute_mu_spatial(X, beta, M)\n",
    "\n",
    "    try:\n",
    "        #print(np.random.multinomial(list_n_i[i],mu[i])/list_n_i[i])\n",
    "        Y = np.array([np.random.multinomial(list_n_i[i],mu[i])/list_n_i[i] for i in range(n_samples)])\n",
    "        Y = (Y*(n_samples-1)+1/n_classes)/n_samples\n",
    "        print(Y[i])\n",
    "\n",
    "    except RuntimeError:\n",
    "        print(\"Factor is exactly singular\")\n",
    "    except np.linalg.LinAlgError:\n",
    "        print(\"Singular matrix\")\n",
    "\n",
    "    seed+=1"
   ]
  },
  {
   "cell_type": "code",
   "execution_count": 175,
   "metadata": {},
   "outputs": [],
   "source": [
    "def estimating_parameters(rho, n_repeat=100, list_n_samples=[50,200,1000], cov_matrix=None):\n",
    "    list_solutions_spatial, list_solutions_no_spatial = [], []\n",
    "    list_solutions_ce_spatial, list_solutions_ce_no_spatial = [], []\n",
    "\n",
    "    seed=0\n",
    "\n",
    "    for i in range(len(list_n_samples)):\n",
    "        n_samples = list_n_samples[i]\n",
    "\n",
    "        true_params = np.concatenate([beta.flatten(),gamma_var, [rho]])\n",
    "\n",
    "        solutions_spatial_temp, solutions_no_spatial_temp = [], []\n",
    "        solutions_ce_spatial_temp, solutions_ce_no_spatial_temp = [], []\n",
    "        \n",
    "        list_n_i = np.random.randint(100, high=10000, size=n_samples)\n",
    "        \n",
    "        for _ in range(n_repeat):\n",
    "            np.random.seed(seed)\n",
    "\n",
    "            X,Z,W = create_features_matrices(n_samples,n_features,choice_W='random_distance',nneighbors=10,cov_mat=cov_matrix)\n",
    "            Z[:,0] = 1\n",
    "            M = np.identity(n_samples) - rho*W\n",
    "            \n",
    "            #list_n_i = np.random.randint(100, high=10000, size=n_samples)\n",
    "            M = np.identity(n_samples) - rho*W\n",
    "            mu = dirichlet_regression.compute_mu_spatial(X, beta, M)\n",
    "            \n",
    "            try:\n",
    "                Y = np.array([np.random.multinomial(list_n_i[i],mu[i])/list_n_i[i] for i in range(n_samples)])\n",
    "                Y = (Y*(n_samples-1)+1/n_classes)/n_samples\n",
    "\n",
    "                reg_spatial = dirichlet_regression.dirichletRegressor(spatial=True, maxfun=5000)\n",
    "                reg_spatial.fit(X, Y, parametrization='alternative', Z=Z, W=W, fit_intercept=False, verbose=0)\n",
    "                solutions_spatial_temp.append(np.concatenate([reg_spatial.beta.flatten(),reg_spatial.gamma,[reg_spatial.rho]]))\n",
    "\n",
    "                reg_no_spatial = dirichlet_regression.dirichletRegressor(spatial=False, maxfun=5000)\n",
    "                reg_no_spatial.fit(X, Y, parametrization='alternative', Z=Z, fit_intercept=False, verbose=0)\n",
    "                solutions_no_spatial_temp.append(np.concatenate([reg_no_spatial.beta.flatten(),reg_no_spatial.gamma]))\n",
    "\n",
    "                reg_spatial_ce = dirichlet_regression.dirichletRegressor(spatial=True, maxfun=5000)\n",
    "                reg_spatial_ce.fit(X, Y, loss='crossentropy', W=W, fit_intercept=False, verbose=0)\n",
    "                solutions_ce_spatial_temp.append(np.concatenate([reg_spatial_ce.beta.flatten(),[reg_spatial_ce.rho]]))\n",
    "\n",
    "                reg_no_spatial_ce = dirichlet_regression.dirichletRegressor(spatial=False, maxfun=5000)\n",
    "                reg_no_spatial_ce.fit(X, Y, loss='crossentropy', fit_intercept=False, verbose=0)\n",
    "                solutions_ce_no_spatial_temp.append(reg_no_spatial_ce.beta.flatten())\n",
    "\n",
    "            except RuntimeError:\n",
    "                print(\"Factor is exactly singular\")\n",
    "            except np.linalg.LinAlgError:\n",
    "                print(\"Singular matrix\")\n",
    "\n",
    "            seed+=1\n",
    "        list_solutions_spatial.append(solutions_spatial_temp)\n",
    "        list_solutions_no_spatial.append(solutions_no_spatial_temp)\n",
    "        list_solutions_ce_spatial.append(solutions_ce_spatial_temp)\n",
    "        list_solutions_ce_no_spatial.append(solutions_ce_no_spatial_temp)\n",
    "    return(list_solutions_spatial, list_solutions_no_spatial, list_solutions_ce_spatial, list_solutions_ce_no_spatial)"
   ]
  },
  {
   "cell_type": "markdown",
   "metadata": {},
   "source": [
    "## rho=0.1"
   ]
  },
  {
   "cell_type": "code",
   "execution_count": 176,
   "metadata": {},
   "outputs": [
    {
     "name": "stdout",
     "output_type": "stream",
     "text": [
      "Wall time: 37min 13s\n"
     ]
    }
   ],
   "source": [
    "%%time\n",
    "list_solutions_spatial, list_solutions_no_spatial, list_solutions_ce_spatial, list_solutions_ce_no_spatial = estimating_parameters(0.1, n_repeat=100, list_n_samples=[50,200,1000], cov_matrix=cov_matrix)"
   ]
  },
  {
   "cell_type": "code",
   "execution_count": 177,
   "metadata": {},
   "outputs": [],
   "source": [
    "true_params_effective = np.concatenate([beta[:,1:].flatten(),gamma_var, [rho]])\n",
    "true_params_effective_no_spatial = np.concatenate([beta[:,1:].flatten(),gamma_var])"
   ]
  },
  {
   "cell_type": "code",
   "execution_count": 178,
   "metadata": {},
   "outputs": [],
   "source": [
    "np.save('Data Dirichlet/multinomial_solutions_spatial_rho01_2.npy',list_solutions_spatial)\n",
    "np.save('Data Dirichlet/multinomial_solutions_no_spatial_rho01_2.npy',list_solutions_no_spatial)\n",
    "np.save('Data Dirichlet/multinomial_solutions_ce_spatial_rho01_2.npy',list_solutions_ce_spatial)\n",
    "np.save('Data Dirichlet/multinomial_solutions_ce_no_spatial_rho01_2.npy',list_solutions_ce_no_spatial)"
   ]
  },
  {
   "cell_type": "markdown",
   "metadata": {},
   "source": [
    "## rho=0.5"
   ]
  },
  {
   "cell_type": "code",
   "execution_count": 179,
   "metadata": {},
   "outputs": [
    {
     "name": "stdout",
     "output_type": "stream",
     "text": [
      "Singular matrix\n",
      "Singular matrix\n"
     ]
    },
    {
     "name": "stderr",
     "output_type": "stream",
     "text": [
      "C:\\Users\\tnguyen001\\AppData\\Roaming\\Python\\Python38\\site-packages\\scipy\\optimize\\_numdiff.py:576: RuntimeWarning: invalid value encountered in subtract\n",
      "  df = fun(x) - f0\n"
     ]
    },
    {
     "name": "stdout",
     "output_type": "stream",
     "text": [
      "Wall time: 46min 22s\n"
     ]
    }
   ],
   "source": [
    "%%time\n",
    "list_solutions_spatial, list_solutions_no_spatial, list_solutions_ce_spatial, list_solutions_ce_no_spatial = estimating_parameters(0.5, n_repeat=100, list_n_samples=[50,200,1000], cov_matrix=cov_matrix)"
   ]
  },
  {
   "cell_type": "code",
   "execution_count": 181,
   "metadata": {},
   "outputs": [],
   "source": [
    "with open(\"Data Dirichlet/multinomial_solutions_spatial_rho05_2.npy\", \"wb\") as fp:   #Pickling\n",
    "    pickle.dump(list_solutions_spatial, fp)\n",
    "    \n",
    "with open(\"Data Dirichlet/multinomial_solutions_no_spatial_rho05_2.npy\", \"wb\") as fp:   #Pickling\n",
    "    pickle.dump(list_solutions_no_spatial, fp)\n",
    "    \n",
    "with open(\"Data Dirichlet/multinomial_solutions_ce_spatial_rho05_2.npy\", \"wb\") as fp:   #Pickling\n",
    "    pickle.dump(list_solutions_ce_spatial, fp)\n",
    "    \n",
    "with open(\"Data Dirichlet/multinomial_solutions_ce_no_spatial_rho05_2.npy\", \"wb\") as fp:   #Pickling\n",
    "    pickle.dump(list_solutions_ce_no_spatial, fp)"
   ]
  },
  {
   "cell_type": "markdown",
   "metadata": {},
   "source": [
    "## rho = 0.9"
   ]
  },
  {
   "cell_type": "code",
   "execution_count": 182,
   "metadata": {},
   "outputs": [
    {
     "name": "stdout",
     "output_type": "stream",
     "text": [
      "Singular matrix\n",
      "Singular matrix\n"
     ]
    },
    {
     "name": "stderr",
     "output_type": "stream",
     "text": [
      "C:\\Users\\tnguyen001\\AppData\\Roaming\\Python\\Python38\\site-packages\\scipy\\optimize\\_numdiff.py:576: RuntimeWarning: invalid value encountered in subtract\n",
      "  df = fun(x) - f0\n",
      "../sar_dirichlet\\dirichlet_regression.py:467: RuntimeWarning: overflow encountered in exp\n",
      "  phi = np.exp(np.matmul(Z,gamma_var))\n",
      "../sar_dirichlet\\dirichlet_regression.py:86: RuntimeWarning: overflow encountered in multiply\n",
      "  sum_phi_mu_times_logY = np.sum( (phi_mu-1)*np.log(Y+epsilon) , axis=1 )\n",
      "../sar_dirichlet\\dirichlet_regression.py:87: RuntimeWarning: invalid value encountered in subtract\n",
      "  sum_ll = np.sum(loggamma(phi) - sum_loggamma_phi_mu + sum_phi_mu_times_logY)\n"
     ]
    },
    {
     "name": "stdout",
     "output_type": "stream",
     "text": [
      "Wall time: 1h 10min 33s\n"
     ]
    }
   ],
   "source": [
    "%%time\n",
    "list_solutions_spatial, list_solutions_no_spatial, list_solutions_ce_spatial, list_solutions_ce_no_spatial = estimating_parameters(0.9, n_repeat=100, list_n_samples=[50,200,1000], cov_matrix=cov_matrix)"
   ]
  },
  {
   "cell_type": "code",
   "execution_count": 183,
   "metadata": {},
   "outputs": [
    {
     "ename": "ValueError",
     "evalue": "setting an array element with a sequence. The requested array has an inhomogeneous shape after 1 dimensions. The detected shape was (3,) + inhomogeneous part.",
     "output_type": "error",
     "traceback": [
      "\u001b[1;31m---------------------------------------------------------------------------\u001b[0m",
      "\u001b[1;31mValueError\u001b[0m                                Traceback (most recent call last)",
      "\u001b[1;32m<ipython-input-183-e648e5abd17b>\u001b[0m in \u001b[0;36m<module>\u001b[1;34m\u001b[0m\n\u001b[1;32m----> 1\u001b[1;33m \u001b[0mnp\u001b[0m\u001b[1;33m.\u001b[0m\u001b[0msave\u001b[0m\u001b[1;33m(\u001b[0m\u001b[1;34m'Data Dirichlet/multinomial_solutions_spatial_rho09_2.npy'\u001b[0m\u001b[1;33m,\u001b[0m\u001b[0mlist_solutions_spatial\u001b[0m\u001b[1;33m)\u001b[0m\u001b[1;33m\u001b[0m\u001b[1;33m\u001b[0m\u001b[0m\n\u001b[0m\u001b[0;32m      2\u001b[0m \u001b[0mnp\u001b[0m\u001b[1;33m.\u001b[0m\u001b[0msave\u001b[0m\u001b[1;33m(\u001b[0m\u001b[1;34m'Data Dirichlet/multinomial_solutions_no_spatial_rho09_2.npy'\u001b[0m\u001b[1;33m,\u001b[0m\u001b[0mlist_solutions_no_spatial\u001b[0m\u001b[1;33m)\u001b[0m\u001b[1;33m\u001b[0m\u001b[1;33m\u001b[0m\u001b[0m\n\u001b[0;32m      3\u001b[0m \u001b[0mnp\u001b[0m\u001b[1;33m.\u001b[0m\u001b[0msave\u001b[0m\u001b[1;33m(\u001b[0m\u001b[1;34m'Data Dirichlet/multinomial_solutions_ce_spatial_rho09_2.npy'\u001b[0m\u001b[1;33m,\u001b[0m\u001b[0mlist_solutions_ce_spatial\u001b[0m\u001b[1;33m)\u001b[0m\u001b[1;33m\u001b[0m\u001b[1;33m\u001b[0m\u001b[0m\n\u001b[0;32m      4\u001b[0m \u001b[0mnp\u001b[0m\u001b[1;33m.\u001b[0m\u001b[0msave\u001b[0m\u001b[1;33m(\u001b[0m\u001b[1;34m'Data Dirichlet/multinomial_solutions_ce_no_spatial_rho09_2.npy'\u001b[0m\u001b[1;33m,\u001b[0m\u001b[0mlist_solutions_ce_no_spatial\u001b[0m\u001b[1;33m)\u001b[0m\u001b[1;33m\u001b[0m\u001b[1;33m\u001b[0m\u001b[0m\n",
      "\u001b[1;32m~\\AppData\\Roaming\\Python\\Python38\\site-packages\\numpy\\core\\overrides.py\u001b[0m in \u001b[0;36msave\u001b[1;34m(*args, **kwargs)\u001b[0m\n",
      "\u001b[1;32m~\\AppData\\Roaming\\Python\\Python38\\site-packages\\numpy\\lib\\npyio.py\u001b[0m in \u001b[0;36msave\u001b[1;34m(file, arr, allow_pickle, fix_imports)\u001b[0m\n\u001b[0;32m    519\u001b[0m \u001b[1;33m\u001b[0m\u001b[0m\n\u001b[0;32m    520\u001b[0m     \u001b[1;32mwith\u001b[0m \u001b[0mfile_ctx\u001b[0m \u001b[1;32mas\u001b[0m \u001b[0mfid\u001b[0m\u001b[1;33m:\u001b[0m\u001b[1;33m\u001b[0m\u001b[1;33m\u001b[0m\u001b[0m\n\u001b[1;32m--> 521\u001b[1;33m         \u001b[0marr\u001b[0m \u001b[1;33m=\u001b[0m \u001b[0mnp\u001b[0m\u001b[1;33m.\u001b[0m\u001b[0masanyarray\u001b[0m\u001b[1;33m(\u001b[0m\u001b[0marr\u001b[0m\u001b[1;33m)\u001b[0m\u001b[1;33m\u001b[0m\u001b[1;33m\u001b[0m\u001b[0m\n\u001b[0m\u001b[0;32m    522\u001b[0m         format.write_array(fid, arr, allow_pickle=allow_pickle,\n\u001b[0;32m    523\u001b[0m                            pickle_kwargs=dict(fix_imports=fix_imports))\n",
      "\u001b[1;31mValueError\u001b[0m: setting an array element with a sequence. The requested array has an inhomogeneous shape after 1 dimensions. The detected shape was (3,) + inhomogeneous part."
     ]
    }
   ],
   "source": [
    "np.save('Data Dirichlet/multinomial_solutions_spatial_rho09_2.npy',list_solutions_spatial)\n",
    "np.save('Data Dirichlet/multinomial_solutions_no_spatial_rho09_2.npy',list_solutions_no_spatial)\n",
    "np.save('Data Dirichlet/multinomial_solutions_ce_spatial_rho09_2.npy',list_solutions_ce_spatial)\n",
    "np.save('Data Dirichlet/multinomial_solutions_ce_no_spatial_rho09_2.npy',list_solutions_ce_no_spatial)"
   ]
  },
  {
   "cell_type": "code",
   "execution_count": 184,
   "metadata": {},
   "outputs": [],
   "source": [
    "with open(\"Data Dirichlet/multinomial_solutions_spatial_rho09_2.npy\", \"wb\") as fp:   #Pickling\n",
    "    pickle.dump(list_solutions_spatial, fp)\n",
    "    \n",
    "with open(\"Data Dirichlet/multinomial_solutions_no_spatial_rho09_2.npy\", \"wb\") as fp:   #Pickling\n",
    "    pickle.dump(list_solutions_no_spatial, fp)\n",
    "    \n",
    "with open(\"Data Dirichlet/multinomial_solutions_ce_spatial_rho09_2.npy\", \"wb\") as fp:   #Pickling\n",
    "    pickle.dump(list_solutions_ce_spatial, fp)\n",
    "    \n",
    "with open(\"Data Dirichlet/multinomial_solutions_ce_no_spatial_rho09_2.npy\", \"wb\") as fp:   #Pickling\n",
    "    pickle.dump(list_solutions_ce_no_spatial, fp)"
   ]
  },
  {
   "cell_type": "markdown",
   "metadata": {},
   "source": [
    "## rho=0"
   ]
  },
  {
   "cell_type": "code",
   "execution_count": 185,
   "metadata": {},
   "outputs": [
    {
     "name": "stdout",
     "output_type": "stream",
     "text": [
      "Wall time: 44min 34s\n"
     ]
    }
   ],
   "source": [
    "%%time\n",
    "list_solutions_spatial, list_solutions_no_spatial, list_solutions_ce_spatial, list_solutions_ce_no_spatial = estimating_parameters(0., n_repeat=100, list_n_samples=[50,200,1000], cov_matrix=cov_matrix)"
   ]
  },
  {
   "cell_type": "code",
   "execution_count": 186,
   "metadata": {},
   "outputs": [],
   "source": [
    "np.save('Data Dirichlet/multinomial_solutions_spatial_rho00_2.npy',list_solutions_spatial)\n",
    "np.save('Data Dirichlet/multinomial_solutions_no_spatial_rho00_2.npy',list_solutions_no_spatial)\n",
    "np.save('Data Dirichlet/multinomial_solutions_ce_spatial_rho00_2.npy',list_solutions_ce_spatial)\n",
    "np.save('Data Dirichlet/multinomial_solutions_ce_no_spatial_rho00_2.npy',list_solutions_ce_no_spatial)"
   ]
  },
  {
   "cell_type": "markdown",
   "metadata": {},
   "source": [
    "# Analysis of the results"
   ]
  },
  {
   "cell_type": "code",
   "execution_count": 12,
   "metadata": {},
   "outputs": [],
   "source": [
    "from texttable import Texttable\n",
    "import latextable"
   ]
  },
  {
   "cell_type": "code",
   "execution_count": 13,
   "metadata": {},
   "outputs": [],
   "source": [
    "list_solutions_spatial_01 = np.load('Data Dirichlet/multinomial_solutions_spatial_rho01_2.npy')\n",
    "list_solutions_no_spatial_01 = np.load('Data Dirichlet/multinomial_solutions_no_spatial_rho01_2.npy')\n",
    "list_solutions_ce_spatial_01 = np.load('Data Dirichlet/multinomial_solutions_ce_spatial_rho01_2.npy')\n",
    "list_solutions_ce_no_spatial_01 = np.load('Data Dirichlet/multinomial_solutions_ce_no_spatial_rho01_2.npy')"
   ]
  },
  {
   "cell_type": "code",
   "execution_count": 14,
   "metadata": {},
   "outputs": [],
   "source": [
    "list_solutions_spatial_05 = np.load('Data Dirichlet/multinomial_solutions_spatial_rho05.npy', allow_pickle=True)\n",
    "list_solutions_no_spatial_05 = np.load('Data Dirichlet/multinomial_solutions_no_spatial_rho05.npy', allow_pickle=True)\n",
    "list_solutions_ce_spatial_05 = np.load('Data Dirichlet/multinomial_solutions_ce_spatial_rho05.npy', allow_pickle=True)\n",
    "list_solutions_ce_no_spatial_05 = np.load('Data Dirichlet/multinomial_solutions_ce_no_spatial_rho05.npy', allow_pickle=True)"
   ]
  },
  {
   "cell_type": "code",
   "execution_count": 15,
   "metadata": {},
   "outputs": [],
   "source": [
    "with open(\"Data Dirichlet/multinomial_solutions_spatial_rho05_2.npy\", \"rb\") as fp:   # Unpickling\n",
    "    list_solutions_spatial_05 = pickle.load(fp)\n",
    "    \n",
    "with open(\"Data Dirichlet/multinomial_solutions_no_spatial_rho05_2.npy\", \"rb\") as fp:   # Unpickling\n",
    "    list_solutions_no_spatial_05 = pickle.load(fp)\n",
    "    \n",
    "with open(\"Data Dirichlet/multinomial_solutions_ce_spatial_rho05_2.npy\", \"rb\") as fp:   # Unpickling\n",
    "    list_solutions_ce_spatial_05 = pickle.load(fp)\n",
    "    \n",
    "with open(\"Data Dirichlet/multinomial_solutions_ce_no_spatial_rho05_2.npy\", \"rb\") as fp:   # Unpickling\n",
    "    list_solutions_ce_no_spatial_05 = pickle.load(fp)"
   ]
  },
  {
   "cell_type": "code",
   "execution_count": 27,
   "metadata": {},
   "outputs": [],
   "source": [
    "with open(\"Data Dirichlet/multinomial_solutions_spatial_rho09_2.npy\", \"rb\") as fp:   # Unpickling\n",
    "    list_solutions_spatial_09 = pickle.load(fp)\n",
    "    \n",
    "with open(\"Data Dirichlet/multinomial_solutions_no_spatial_rho09_2.npy\", \"rb\") as fp:   # Unpickling\n",
    "    list_solutions_no_spatial_09 = pickle.load(fp)\n",
    "    \n",
    "with open(\"Data Dirichlet/multinomial_solutions_ce_spatial_rho09_2.npy\", \"rb\") as fp:   # Unpickling\n",
    "    list_solutions_ce_spatial_09 = pickle.load(fp)\n",
    "    \n",
    "with open(\"Data Dirichlet/multinomial_solutions_ce_no_spatial_rho09_2.npy\", \"rb\") as fp:   # Unpickling\n",
    "    list_solutions_ce_no_spatial_09 = pickle.load(fp)"
   ]
  },
  {
   "cell_type": "code",
   "execution_count": 17,
   "metadata": {},
   "outputs": [],
   "source": [
    "with open(\"Data Dirichlet/multinomial_solutions_spatial_rho09.npy\", \"rb\") as fp:   # Unpickling\n",
    "    list_solutions_spatial_09 = pickle.load(fp)\n",
    "    \n",
    "with open(\"Data Dirichlet/multinomial_solutions_no_spatial_rho09.npy\", \"rb\") as fp:   # Unpickling\n",
    "    list_solutions_no_spatial_09 = pickle.load(fp)\n",
    "    \n",
    "with open(\"Data Dirichlet/multinomial_solutions_ce_spatial_rho09.npy\", \"rb\") as fp:   # Unpickling\n",
    "    list_solutions_ce_spatial_09 = pickle.load(fp)\n",
    "    \n",
    "with open(\"Data Dirichlet/multinomial_solutions_ce_no_spatial_rho09.npy\", \"rb\") as fp:   # Unpickling\n",
    "    list_solutions_ce_no_spatial_09 = pickle.load(fp)"
   ]
  },
  {
   "cell_type": "code",
   "execution_count": 18,
   "metadata": {},
   "outputs": [],
   "source": [
    "true_params_effective_01 = np.concatenate([beta[:,1:].flatten(),gamma_var, [0.1]])\n",
    "true_params_effective_05 = np.concatenate([beta[:,1:].flatten(),gamma_var, [0.5]])\n",
    "true_params_effective_09 = np.concatenate([beta[:,1:].flatten(),gamma_var, [0.9]])\n",
    "true_params_effective_no_spatial = np.concatenate([beta[:,1:].flatten(),gamma_var])"
   ]
  },
  {
   "cell_type": "code",
   "execution_count": 193,
   "metadata": {},
   "outputs": [],
   "source": [
    "np.save('Data Dirichlet/multinomial_solutions_spatial_rho00_2.npy',list_solutions_spatial)\n",
    "np.save('Data Dirichlet/multinomial_solutions_no_spatial_rho00_2.npy',list_solutions_no_spatial)\n",
    "np.save('Data Dirichlet/multinomial_solutions_ce_spatial_rho00_2.npy',list_solutions_ce_spatial)\n",
    "np.save('Data Dirichlet/multinomial_solutions_ce_no_spatial_rho00_2.npy',list_solutions_ce_no_spatial)"
   ]
  },
  {
   "cell_type": "code",
   "execution_count": 19,
   "metadata": {},
   "outputs": [],
   "source": [
    "list_solutions_spatial_00 = np.load('Data Dirichlet/multinomial_solutions_spatial_rho00_2.npy')\n",
    "list_solutions_no_spatial_00 = np.load('Data Dirichlet/multinomial_solutions_no_spatial_rho00_2.npy')\n",
    "list_solutions_ce_spatial_00 = np.load('Data Dirichlet/multinomial_solutions_ce_spatial_rho00_2.npy', allow_pickle=True)\n",
    "list_solutions_ce_no_spatial_00 = np.load('Data Dirichlet/multinomial_solutions_ce_no_spatial_rho00_2.npy', allow_pickle=True)\n",
    "true_params_effective_00 = np.concatenate([beta[:,1:].flatten(),gamma_var, [0.]])"
   ]
  },
  {
   "cell_type": "markdown",
   "metadata": {},
   "source": [
    "### Results of maximum likelihood"
   ]
  },
  {
   "cell_type": "code",
   "execution_count": 198,
   "metadata": {
    "scrolled": true
   },
   "outputs": [
    {
     "name": "stdout",
     "output_type": "stream",
     "text": [
      "+-----------+-----------+----------+----------+----------+----------+----------+\n",
      "| Parameter | S n=50    | S n=200  | S n=1000 | NS n=50  | NS n=200 | NS       |\n",
      "|           |           |          |          |          |          | n=1000   |\n",
      "+-----------+-----------+----------+----------+----------+----------+----------+\n",
      "| \\multirow | 0.051     | 0.016    | 0.004    | 0.043    | 0.001    | -0.008   |\n",
      "| {2}{*}{$\\ | (0.032)   | (0.01)   | (0.003)  | (0.038)  | (0.019)  | (0.008)  |\n",
      "| beta_{01} |           |          |          |          |          |          |\n",
      "| $}        |           |          |          |          |          |          |\n",
      "+-----------+-----------+----------+----------+----------+----------+----------+\n",
      "|           | [0.004]   | [0.0]    | [0.0]    |  [0.003] |  [0.0]   |  [0.0]   |\n",
      "+-----------+-----------+----------+----------+----------+----------+----------+\n",
      "| \\multirow | 0.029     | 0.01     | 0.003    | 0.047    | 0.031    | 0.021    |\n",
      "| {2}{*}{$\\ | (0.025)   | (0.006)  | (0.002)  | (0.05)   | (0.022)  | (0.01)   |\n",
      "| beta_{02} |           |          |          |          |          |          |\n",
      "| $}        |           |          |          |          |          |          |\n",
      "+-----------+-----------+----------+----------+----------+----------+----------+\n",
      "|           | [0.001]   | [0.0]    | [0.0]    |  [0.005] |  [0.001] |  [0.001] |\n",
      "+-----------+-----------+----------+----------+----------+----------+----------+\n",
      "| \\multirow | -0.136    | -0.039   | -0.009   | -0.15    | -0.053   | -0.027   |\n",
      "| {2}{*}{$\\ | (0.046)   | (0.009)  | (0.004)  | (0.041)  | (0.016)  | (0.008)  |\n",
      "| beta_{11} |           |          |          |          |          |          |\n",
      "| $}        |           |          |          |          |          |          |\n",
      "+-----------+-----------+----------+----------+----------+----------+----------+\n",
      "|           | [0.021]   | [0.002]  | [0.0]    |  [0.024] |  [0.003] |  [0.001] |\n",
      "+-----------+-----------+----------+----------+----------+----------+----------+\n",
      "| \\multirow | 0.143     | 0.04     | 0.011    | 0.162    | 0.057    | 0.033    |\n",
      "| {2}{*}{$\\ | (0.037)   | (0.012)  | (0.004)  | (0.042)  | (0.017)  | (0.008)  |\n",
      "| beta_{12} |           |          |          |          |          |          |\n",
      "| $}        |           |          |          |          |          |          |\n",
      "+-----------+-----------+----------+----------+----------+----------+----------+\n",
      "|           | [0.022]   | [0.002]  | [0.0]    |  [0.028] |  [0.004] |  [0.001] |\n",
      "+-----------+-----------+----------+----------+----------+----------+----------+\n",
      "| \\multirow | -0.052    | -0.016   | -0.004   | -0.064   | -0.023   | -0.014   |\n",
      "| {2}{*}{$\\ | (0.027)   | (0.008)  | (0.003)  | (0.027)  | (0.011)  | (0.005)  |\n",
      "| beta_{21} |           |          |          |          |          |          |\n",
      "| $}        |           |          |          |          |          |          |\n",
      "+-----------+-----------+----------+----------+----------+----------+----------+\n",
      "|           | [0.003]   | [0.0]    | [0.0]    |  [0.005] |  [0.001] |  [0.0]   |\n",
      "+-----------+-----------+----------+----------+----------+----------+----------+\n",
      "| \\multirow | 0.155     | 0.044    | 0.01     | 0.169    | 0.059    | 0.032    |\n",
      "| {2}{*}{$\\ | (0.046)   | (0.021)  | (0.004)  | (0.043)  | (0.018)  | (0.009)  |\n",
      "| beta_{22} |           |          |          |          |          |          |\n",
      "| $}        |           |          |          |          |          |          |\n",
      "+-----------+-----------+----------+----------+----------+----------+----------+\n",
      "|           | [0.026]   | [0.002]  | [0.0]    |  [0.03]  |  [0.004] |  [0.001] |\n",
      "+-----------+-----------+----------+----------+----------+----------+----------+\n",
      "| \\multirow | 6.439     | 7.335    | 7.78     | 5.975    | 6.274    | 6.38     |\n",
      "| {2}{*}{$\\ | (0.624)   | (0.471)  | (0.178)  | (0.373)  | (0.246)  | (0.125)  |\n",
      "| gamma_0$} |           |          |          |          |          |          |\n",
      "+-----------+-----------+----------+----------+----------+----------+----------+\n",
      "|           | [41.849]  | [54.025] | [60.56]  | [35.845] |  [39.42] | [40.714] |\n",
      "+-----------+-----------+----------+----------+----------+----------+----------+\n",
      "| \\multirow | 0.147     | 0.152    | 0.124    | 0.093    | 0.171    | 0.101    |\n",
      "| {2}{*}{$\\ | (0.803)   | (0.534)  | (0.306)  | (0.611)  | (0.427)  | (0.185)  |\n",
      "| gamma_1$} |           |          |          |          |          |          |\n",
      "+-----------+-----------+----------+----------+----------+----------+----------+\n",
      "|           | [0.667]   | [0.308]  | [0.109]  |  [0.382] |  [0.212] |  [0.045] |\n",
      "+-----------+-----------+----------+----------+----------+----------+----------+\n",
      "| \\multirow | -0.003    | -0.001   | -0.0     | /        | /        | /        |\n",
      "| {2}{*}{$\\ | (0.022)   | (0.008)  | (0.001)  |          |          |          |\n",
      "| rho$}     |           |          |          |          |          |          |\n",
      "+-----------+-----------+----------+----------+----------+----------+----------+\n",
      "|           | [0.0]     | [0.0]    | [0.0]    | /        | /        | /        |\n",
      "+-----------+-----------+----------+----------+----------+----------+----------+\n"
     ]
    }
   ],
   "source": [
    "table_params = Texttable()\n",
    "table_params.add_row([\"Parameter\", \"S n=50\", \"S n=200\", \"S n=1000\",\n",
    "                      \"NS n=50\", \"NS n=200\", \"NS n=1000\"])\n",
    "                      \n",
    "#param_names = [\"$\\\\beta_{01}$\", \"\", \"$\\\\beta_{02}$\", \"\", \"$\\\\beta_{11}$\", \"\", \"$\\\\beta_{12}$\", \"\",\n",
    "#               \"$\\\\beta_{21}$\", \"\", \"$\\\\beta_{22}$\", \"\", \"$\\\\gamma_0$\", \"\", \"$\\\\gamma_1$\", \"\", \"$\\\\rho$\", \"\"]\n",
    "\n",
    "param_names = [\"\\\\multirow{2}{*}{$\\\\beta_{01}$}\", \"\\\\multirow{2}{*}{$\\\\beta_{02}$}\", \"\\\\multirow{2}{*}{$\\\\beta_{11}$}\",\n",
    "               \"\\\\multirow{2}{*}{$\\\\beta_{12}$}\", \"\\\\multirow{2}{*}{$\\\\beta_{21}$}\", \"\\\\multirow{2}{*}{$\\\\beta_{22}$}\",\n",
    "               \"\\\\multirow{2}{*}{$\\\\gamma_0$}\", \"\\\\multirow{2}{*}{$\\\\gamma_1$}\", \"\\\\multirow{2}{*}{$\\\\rho$}\" ]\n",
    "param_names_2 = [\"\"]*len(param_names)\n",
    "\n",
    "columns_1 = []\n",
    "columns_2 = []\n",
    "\n",
    "for ns in range(3):\n",
    "    col_to_add = [str(np.round(np.mean(list_solutions_spatial_01[ns][:,i] - true_params_effective_01[i]),3))\n",
    "                  +' ('+str(np.round(np.std(list_solutions_spatial_01[ns][:,i] - true_params_effective_01[i]),3))+')' for i in range(len(true_params_effective_01))]\n",
    "    columns_1.append(col_to_add)\n",
    "    col_to_add = ['['+  str(np.round(mean_squared_error(list_solutions_spatial_01[ns][:,i], [true_params_effective_01[i]]*100),3)) +']' for i in range(len(true_params_effective_01))]\n",
    "    columns_2.append(col_to_add)\n",
    "    \n",
    "for ns in range(3):\n",
    "    col_to_add = [str(np.round(np.mean(list_solutions_no_spatial_01[ns][:,i] - true_params_effective_no_spatial[i]),3))\n",
    "                  +' ('+str(np.round(np.std(list_solutions_no_spatial_01[ns][:,i] - true_params_effective_no_spatial[i]),3))+')' for i in range(len(true_params_effective_no_spatial))] + [\"/\"]\n",
    "    columns_1.append(col_to_add)\n",
    "    col_to_add = [' ['+  str(np.round(mean_squared_error(list_solutions_no_spatial_01[ns][:,i], [true_params_effective_no_spatial[i]]*100),3)) +']' for i in range(len(true_params_effective_no_spatial))] + [\"/\"]\n",
    "    columns_2.append(col_to_add)\n",
    "        \n",
    "columns_1.insert(0,param_names)\n",
    "columns_2.insert(0,param_names_2)\n",
    "\n",
    "tr_columns_1 = np.transpose(columns_1)\n",
    "tr_columns_2 = np.transpose(columns_2)\n",
    "for i in range(len(tr_columns_1)):\n",
    "    table_params.add_row(tr_columns_1[i])\n",
    "    table_params.add_row(tr_columns_2[i])\n",
    "\n",
    "print(table_params.draw())"
   ]
  },
  {
   "cell_type": "code",
   "execution_count": 199,
   "metadata": {
    "scrolled": true
   },
   "outputs": [
    {
     "name": "stdout",
     "output_type": "stream",
     "text": [
      "\\begin{table}\n",
      "\t\\begin{center}\n",
      "\t\t\\begin{tabular}{|l|l|l|l|l|l|l|}\n",
      "\t\t\t\\hline\n",
      "\t\t\t \\\\\n",
      "\t\t\t\\hline\n",
      "\t\t\tParameter & S n=50 & S n=200 & S n=1000 & NS n=50 & NS n=200 & NS n=1000 \\\\\n",
      "\t\t\t\\hline\n",
      "\t\t\t\\multirow{2}{*}{$\\beta_{01}$} & 0.051 (0.032) & 0.016 (0.01) & 0.004 (0.003) & 0.043 (0.038) & 0.001 (0.019) & -0.008 (0.008) \\\\\n",
      "\t\t\t\\hline\n",
      "\t\t\t & [0.004] & [0.0] & [0.0] &  [0.003] &  [0.0] &  [0.0] \\\\\n",
      "\t\t\t\\hline\n",
      "\t\t\t\\multirow{2}{*}{$\\beta_{02}$} & 0.029 (0.025) & 0.01 (0.006) & 0.003 (0.002) & 0.047 (0.05) & 0.031 (0.022) & 0.021 (0.01) \\\\\n",
      "\t\t\t\\hline\n",
      "\t\t\t & [0.001] & [0.0] & [0.0] &  [0.005] &  [0.001] &  [0.001] \\\\\n",
      "\t\t\t\\hline\n",
      "\t\t\t\\multirow{2}{*}{$\\beta_{11}$} & -0.136 (0.046) & -0.039 (0.009) & -0.009 (0.004) & -0.15 (0.041) & -0.053 (0.016) & -0.027 (0.008) \\\\\n",
      "\t\t\t\\hline\n",
      "\t\t\t & [0.021] & [0.002] & [0.0] &  [0.024] &  [0.003] &  [0.001] \\\\\n",
      "\t\t\t\\hline\n",
      "\t\t\t\\multirow{2}{*}{$\\beta_{12}$} & 0.143 (0.037) & 0.04 (0.012) & 0.011 (0.004) & 0.162 (0.042) & 0.057 (0.017) & 0.033 (0.008) \\\\\n",
      "\t\t\t\\hline\n",
      "\t\t\t & [0.022] & [0.002] & [0.0] &  [0.028] &  [0.004] &  [0.001] \\\\\n",
      "\t\t\t\\hline\n",
      "\t\t\t\\multirow{2}{*}{$\\beta_{21}$} & -0.052 (0.027) & -0.016 (0.008) & -0.004 (0.003) & -0.064 (0.027) & -0.023 (0.011) & -0.014 (0.005) \\\\\n",
      "\t\t\t\\hline\n",
      "\t\t\t & [0.003] & [0.0] & [0.0] &  [0.005] &  [0.001] &  [0.0] \\\\\n",
      "\t\t\t\\hline\n",
      "\t\t\t\\multirow{2}{*}{$\\beta_{22}$} & 0.155 (0.046) & 0.044 (0.021) & 0.01 (0.004) & 0.169 (0.043) & 0.059 (0.018) & 0.032 (0.009) \\\\\n",
      "\t\t\t\\hline\n",
      "\t\t\t & [0.026] & [0.002] & [0.0] &  [0.03] &  [0.004] &  [0.001] \\\\\n",
      "\t\t\t\\hline\n",
      "\t\t\t\\multirow{2}{*}{$\\gamma_0$} & 6.439 (0.624) & 7.335 (0.471) & 7.78 (0.178) & 5.975 (0.373) & 6.274 (0.246) & 6.38 (0.125) \\\\\n",
      "\t\t\t\\hline\n",
      "\t\t\t & [41.849] & [54.025] & [60.56] &  [35.845] &  [39.42] &  [40.714] \\\\\n",
      "\t\t\t\\hline\n",
      "\t\t\t\\multirow{2}{*}{$\\gamma_1$} & 0.147 (0.803) & 0.152 (0.534) & 0.124 (0.306) & 0.093 (0.611) & 0.171 (0.427) & 0.101 (0.185) \\\\\n",
      "\t\t\t\\hline\n",
      "\t\t\t & [0.667] & [0.308] & [0.109] &  [0.382] &  [0.212] &  [0.045] \\\\\n",
      "\t\t\t\\hline\n",
      "\t\t\t\\multirow{2}{*}{$\\rho$} & -0.003 (0.022) & -0.001 (0.008) & -0.0 (0.001) & / & / & / \\\\\n",
      "\t\t\t\\hline\n",
      "\t\t\t & [0.0] & [0.0] & [0.0] & / & / & / \\\\\n",
      "\t\t\t\\hline\n",
      "\t\t\\end{tabular}\n",
      "\t\\end{center}\n",
      "\t\\caption{Difference between the estimated parameters and the true parameters ($rho=0.1$) with multinomial generated data. The results are presented as the mean of the differences on the 100 iterations, the standard deviation within parenthesis, and the standard deviation within square brackets.}\n",
      "\\end{table}\n"
     ]
    }
   ],
   "source": [
    "print(latextable.draw_latex(table_params, caption=\"Difference between the estimated parameters and the true parameters ($rho=0.1$) with multinomial generated data. The results are presented as the mean of the differences on the 100 iterations, the standard deviation within parenthesis, and the standard deviation within square brackets.\"))"
   ]
  },
  {
   "cell_type": "code",
   "execution_count": 200,
   "metadata": {
    "scrolled": true
   },
   "outputs": [
    {
     "name": "stdout",
     "output_type": "stream",
     "text": [
      "+-----------+-----------+----------+----------+----------+----------+----------+\n",
      "| Parameter | S n=50    | S n=200  | S n=1000 | NS n=50  | NS n=200 | NS       |\n",
      "|           |           |          |          |          |          | n=1000   |\n",
      "+-----------+-----------+----------+----------+----------+----------+----------+\n",
      "| \\multirow | 0.041     | 0.015    | 0.007    | 0.191    | 0.157    | 0.161    |\n",
      "| {2}{*}{$\\ | (0.033)   | (0.02)   | (0.019)  | (0.22)   | (0.109)  | (0.044)  |\n",
      "| beta_{01} |           |          |          |          |          |          |\n",
      "| $}        |           |          |          |          |          |          |\n",
      "+-----------+-----------+----------+----------+----------+----------+----------+\n",
      "|           | [0.003]   | [0.001]  | [0.0]    |  [0.085] |  [0.036] |  [0.028] |\n",
      "+-----------+-----------+----------+----------+----------+----------+----------+\n",
      "| \\multirow | 0.016     | 0.015    | 0.01     | 0.227    | 0.271    | 0.241    |\n",
      "| {2}{*}{$\\ | (0.025)   | (0.046)  | (0.037)  | (0.264)  | (0.121)  | (0.057)  |\n",
      "| beta_{02} |           |          |          |          |          |          |\n",
      "| $}        |           |          |          |          |          |          |\n",
      "+-----------+-----------+----------+----------+----------+----------+----------+\n",
      "|           | [0.001]   | [0.002]  | [0.001]  |  [0.121] |  [0.088] |  [0.061] |\n",
      "+-----------+-----------+----------+----------+----------+----------+----------+\n",
      "| \\multirow | -0.151    | -0.056   | -0.033   | -0.616   | -0.62    | -0.613   |\n",
      "| {2}{*}{$\\ | (0.033)   | (0.077)  | (0.116)  | (0.194)  | (0.103)  | (0.054)  |\n",
      "| beta_{11} |           |          |          |          |          |          |\n",
      "| $}        |           |          |          |          |          |          |\n",
      "+-----------+-----------+----------+----------+----------+----------+----------+\n",
      "|           | [0.024]   | [0.009]  | [0.015]  |  [0.417] |  [0.395] |  [0.378] |\n",
      "+-----------+-----------+----------+----------+----------+----------+----------+\n",
      "| \\multirow | 0.163     | 0.051    | 0.023    | 0.611    | 0.592    | 0.595    |\n",
      "| {2}{*}{$\\ | (0.043)   | (0.042)  | (0.065)  | (0.177)  | (0.082)  | (0.043)  |\n",
      "| beta_{12} |           |          |          |          |          |          |\n",
      "| $}        |           |          |          |          |          |          |\n",
      "+-----------+-----------+----------+----------+----------+----------+----------+\n",
      "|           | [0.028]   | [0.004]  | [0.005]  |  [0.405] |  [0.357] |  [0.356] |\n",
      "+-----------+-----------+----------+----------+----------+----------+----------+\n",
      "| \\multirow | -0.062    | -0.013   | -0.001   | -0.287   | -0.263   | -0.262   |\n",
      "| {2}{*}{$\\ | (0.026)   | (0.025)  | (0.02)   | (0.104)  | (0.048)  | (0.021)  |\n",
      "| beta_{21} |           |          |          |          |          |          |\n",
      "| $}        |           |          |          |          |          |          |\n",
      "+-----------+-----------+----------+----------+----------+----------+----------+\n",
      "|           | [0.005]   | [0.001]  | [0.0]    |  [0.093] |  [0.072] |  [0.069] |\n",
      "+-----------+-----------+----------+----------+----------+----------+----------+\n",
      "| \\multirow | 0.172     | 0.063    | 0.038    | 0.634    | 0.624    | 0.625    |\n",
      "| {2}{*}{$\\ | (0.045)   | (0.08)   | (0.133)  | (0.19)   | (0.113)  | (0.05)   |\n",
      "| beta_{22} |           |          |          |          |          |          |\n",
      "| $}        |           |          |          |          |          |          |\n",
      "+-----------+-----------+----------+----------+----------+----------+----------+\n",
      "|           | [0.032]   | [0.01]   | [0.019]  |  [0.438] |  [0.402] |  [0.393] |\n",
      "+-----------+-----------+----------+----------+----------+----------+----------+\n",
      "| \\multirow | 6.29      | 7.177    | 7.492    | 2.827    | 2.576    | 2.496    |\n",
      "| {2}{*}{$\\ | (0.482)   | (1.023)  | (1.23)   | (0.57)   | (0.296)  | (0.143)  |\n",
      "| gamma_0$} |           |          |          |          |          |          |\n",
      "+-----------+-----------+----------+----------+----------+----------+----------+\n",
      "|           | [39.8]    | [52.556] | [57.639] |  [8.315] |  [6.725] |  [6.251] |\n",
      "+-----------+-----------+----------+----------+----------+----------+----------+\n",
      "| \\multirow | 0.068     | 0.192    | 0.178    | 0.24     | 0.146    | 0.11     |\n",
      "| {2}{*}{$\\ | (0.619)   | (0.509)  | (0.451)  | (0.783)  | (0.27)   | (0.139)  |\n",
      "| gamma_1$} |           |          |          |          |          |          |\n",
      "+-----------+-----------+----------+----------+----------+----------+----------+\n",
      "|           | [0.388]   | [0.296]  | [0.235]  |  [0.67]  |  [0.094] |  [0.031] |\n",
      "+-----------+-----------+----------+----------+----------+----------+----------+\n",
      "| \\multirow | -0.001    | -0.004   | -0.004   | /        | /        | /        |\n",
      "| {2}{*}{$\\ | (0.01)    | (0.022)  | (0.02)   |          |          |          |\n",
      "| rho$}     |           |          |          |          |          |          |\n",
      "+-----------+-----------+----------+----------+----------+----------+----------+\n",
      "|           | [0.0]     | [0.0]    | [0.0]    | /        | /        | /        |\n",
      "+-----------+-----------+----------+----------+----------+----------+----------+\n"
     ]
    }
   ],
   "source": [
    "table_params = Texttable()\n",
    "table_params.add_row([\"Parameter\", \"S n=50\", \"S n=200\", \"S n=1000\",\n",
    "                      \"NS n=50\", \"NS n=200\", \"NS n=1000\"])\n",
    "                      \n",
    "#param_names = [\"$\\\\beta_{01}$\", \"\", \"$\\\\beta_{02}$\", \"\", \"$\\\\beta_{11}$\", \"\", \"$\\\\beta_{12}$\", \"\",\n",
    "#               \"$\\\\beta_{21}$\", \"\", \"$\\\\beta_{22}$\", \"\", \"$\\\\gamma_0$\", \"\", \"$\\\\gamma_1$\", \"\", \"$\\\\rho$\", \"\"]\n",
    "\n",
    "param_names = [\"\\\\multirow{2}{*}{$\\\\beta_{01}$}\", \"\\\\multirow{2}{*}{$\\\\beta_{02}$}\", \"\\\\multirow{2}{*}{$\\\\beta_{11}$}\",\n",
    "               \"\\\\multirow{2}{*}{$\\\\beta_{12}$}\", \"\\\\multirow{2}{*}{$\\\\beta_{21}$}\", \"\\\\multirow{2}{*}{$\\\\beta_{22}$}\",\n",
    "               \"\\\\multirow{2}{*}{$\\\\gamma_0$}\", \"\\\\multirow{2}{*}{$\\\\gamma_1$}\", \"\\\\multirow{2}{*}{$\\\\rho$}\" ]\n",
    "param_names_2 = [\"\"]*len(param_names)\n",
    "\n",
    "columns_1 = []\n",
    "columns_2 = []\n",
    "\n",
    "for ns in range(3):\n",
    "    col_to_add = [str(np.round(np.mean(np.array(list_solutions_spatial_05[ns])[:,i] - true_params_effective_05[i]),3))\n",
    "                  +' ('+str(np.round(np.std(np.array(list_solutions_spatial_05[ns])[:,i] - true_params_effective_05[i]),3))+')' for i in range(len(true_params_effective_05))]\n",
    "    columns_1.append(col_to_add)\n",
    "    col_to_add = ['['+  str(np.round(mean_squared_error(np.array(list_solutions_spatial_05[ns])[:,i], [true_params_effective_05[i]]*len(list_solutions_spatial_05[ns])),3)) +']' for i in range(len(true_params_effective_05))]\n",
    "    columns_2.append(col_to_add)\n",
    "    \n",
    "for ns in range(3):\n",
    "    col_to_add = [str(np.round(np.mean(np.array(list_solutions_no_spatial_05[ns])[:,i] - true_params_effective_no_spatial[i]),3))\n",
    "                  +' ('+str(np.round(np.std(np.array(list_solutions_no_spatial_05[ns])[:,i] - true_params_effective_no_spatial[i]),3))+')' for i in range(len(true_params_effective_no_spatial))] + [\"/\"]\n",
    "    columns_1.append(col_to_add)\n",
    "    col_to_add = [' ['+  str(np.round(mean_squared_error(np.array(list_solutions_no_spatial_05[ns])[:,i], [true_params_effective_no_spatial[i]]*len(list_solutions_no_spatial_05[ns])),3)) +']' for i in range(len(true_params_effective_no_spatial))] + [\"/\"]\n",
    "    columns_2.append(col_to_add)\n",
    "        \n",
    "columns_1.insert(0,param_names)\n",
    "columns_2.insert(0,param_names_2)\n",
    "\n",
    "tr_columns_1 = np.transpose(columns_1)\n",
    "tr_columns_2 = np.transpose(columns_2)\n",
    "for i in range(len(tr_columns_1)):\n",
    "    table_params.add_row(tr_columns_1[i])\n",
    "    table_params.add_row(tr_columns_2[i])\n",
    "\n",
    "print(table_params.draw())"
   ]
  },
  {
   "cell_type": "code",
   "execution_count": 201,
   "metadata": {
    "scrolled": true
   },
   "outputs": [
    {
     "name": "stdout",
     "output_type": "stream",
     "text": [
      "\\begin{table}\n",
      "\t\\begin{center}\n",
      "\t\t\\begin{tabular}{|l|l|l|l|l|l|l|}\n",
      "\t\t\t\\hline\n",
      "\t\t\t \\\\\n",
      "\t\t\t\\hline\n",
      "\t\t\tParameter & S n=50 & S n=200 & S n=1000 & NS n=50 & NS n=200 & NS n=1000 \\\\\n",
      "\t\t\t\\hline\n",
      "\t\t\t\\multirow{2}{*}{$\\beta_{01}$} & 0.041 (0.033) & 0.015 (0.02) & 0.007 (0.019) & 0.191 (0.22) & 0.157 (0.109) & 0.161 (0.044) \\\\\n",
      "\t\t\t\\hline\n",
      "\t\t\t & [0.003] & [0.001] & [0.0] &  [0.085] &  [0.036] &  [0.028] \\\\\n",
      "\t\t\t\\hline\n",
      "\t\t\t\\multirow{2}{*}{$\\beta_{02}$} & 0.016 (0.025) & 0.015 (0.046) & 0.01 (0.037) & 0.227 (0.264) & 0.271 (0.121) & 0.241 (0.057) \\\\\n",
      "\t\t\t\\hline\n",
      "\t\t\t & [0.001] & [0.002] & [0.001] &  [0.121] &  [0.088] &  [0.061] \\\\\n",
      "\t\t\t\\hline\n",
      "\t\t\t\\multirow{2}{*}{$\\beta_{11}$} & -0.151 (0.033) & -0.056 (0.077) & -0.033 (0.116) & -0.616 (0.194) & -0.62 (0.103) & -0.613 (0.054) \\\\\n",
      "\t\t\t\\hline\n",
      "\t\t\t & [0.024] & [0.009] & [0.015] &  [0.417] &  [0.395] &  [0.378] \\\\\n",
      "\t\t\t\\hline\n",
      "\t\t\t\\multirow{2}{*}{$\\beta_{12}$} & 0.163 (0.043) & 0.051 (0.042) & 0.023 (0.065) & 0.611 (0.177) & 0.592 (0.082) & 0.595 (0.043) \\\\\n",
      "\t\t\t\\hline\n",
      "\t\t\t & [0.028] & [0.004] & [0.005] &  [0.405] &  [0.357] &  [0.356] \\\\\n",
      "\t\t\t\\hline\n",
      "\t\t\t\\multirow{2}{*}{$\\beta_{21}$} & -0.062 (0.026) & -0.013 (0.025) & -0.001 (0.02) & -0.287 (0.104) & -0.263 (0.048) & -0.262 (0.021) \\\\\n",
      "\t\t\t\\hline\n",
      "\t\t\t & [0.005] & [0.001] & [0.0] &  [0.093] &  [0.072] &  [0.069] \\\\\n",
      "\t\t\t\\hline\n",
      "\t\t\t\\multirow{2}{*}{$\\beta_{22}$} & 0.172 (0.045) & 0.063 (0.08) & 0.038 (0.133) & 0.634 (0.19) & 0.624 (0.113) & 0.625 (0.05) \\\\\n",
      "\t\t\t\\hline\n",
      "\t\t\t & [0.032] & [0.01] & [0.019] &  [0.438] &  [0.402] &  [0.393] \\\\\n",
      "\t\t\t\\hline\n",
      "\t\t\t\\multirow{2}{*}{$\\gamma_0$} & 6.29 (0.482) & 7.177 (1.023) & 7.492 (1.23) & 2.827 (0.57) & 2.576 (0.296) & 2.496 (0.143) \\\\\n",
      "\t\t\t\\hline\n",
      "\t\t\t & [39.8] & [52.556] & [57.639] &  [8.315] &  [6.725] &  [6.251] \\\\\n",
      "\t\t\t\\hline\n",
      "\t\t\t\\multirow{2}{*}{$\\gamma_1$} & 0.068 (0.619) & 0.192 (0.509) & 0.178 (0.451) & 0.24 (0.783) & 0.146 (0.27) & 0.11 (0.139) \\\\\n",
      "\t\t\t\\hline\n",
      "\t\t\t & [0.388] & [0.296] & [0.235] &  [0.67] &  [0.094] &  [0.031] \\\\\n",
      "\t\t\t\\hline\n",
      "\t\t\t\\multirow{2}{*}{$\\rho$} & -0.001 (0.01) & -0.004 (0.022) & -0.004 (0.02) & / & / & / \\\\\n",
      "\t\t\t\\hline\n",
      "\t\t\t & [0.0] & [0.0] & [0.0] & / & / & / \\\\\n",
      "\t\t\t\\hline\n",
      "\t\t\\end{tabular}\n",
      "\t\\end{center}\n",
      "\t\\caption{Difference between the estimated parameters and the true parameters ($rho=0.5$) with multinomial generated data. The results are presented as the mean of the differences on the 100 iterations, the standard deviation within parenthesis, and the standard deviation within square brackets.}\n",
      "\\end{table}\n"
     ]
    }
   ],
   "source": [
    "print(latextable.draw_latex(table_params, caption=\"Difference between the estimated parameters and the true parameters ($rho=0.5$) with multinomial generated data. The results are presented as the mean of the differences on the 100 iterations, the standard deviation within parenthesis, and the standard deviation within square brackets.\"))"
   ]
  },
  {
   "cell_type": "code",
   "execution_count": 202,
   "metadata": {
    "scrolled": true
   },
   "outputs": [
    {
     "name": "stdout",
     "output_type": "stream",
     "text": [
      "+-----------+-----------+----------+----------+----------+----------+----------+\n",
      "| Parameter | S n=50    | S n=200  | S n=1000 | NS n=50  | NS n=200 | NS       |\n",
      "|           |           |          |          |          |          | n=1000   |\n",
      "+-----------+-----------+----------+----------+----------+----------+----------+\n",
      "| \\multirow | 0.117     | 0.131    | 0.12     | 0.361    | 0.18     | 0.169    |\n",
      "| {2}{*}{$\\ | (0.095)   | (0.093)  | (0.085)  | (0.651)  | (0.219)  | (0.084)  |\n",
      "| beta_{01} |           |          |          |          |          |          |\n",
      "| $}        |           |          |          |          |          |          |\n",
      "+-----------+-----------+----------+----------+----------+----------+----------+\n",
      "|           | [0.023]   | [0.026]  | [0.022]  |  [0.555] |  [0.08]  |  [0.036] |\n",
      "+-----------+-----------+----------+----------+----------+----------+----------+\n",
      "| \\multirow | 0.023     | 0.001    | -0.009   | 0.548    | 0.42     | 0.311    |\n",
      "| {2}{*}{$\\ | (0.379)   | (0.056)  | (0.021)  | (0.948)  | (0.334)  | (0.146)  |\n",
      "| beta_{02} |           |          |          |          |          |          |\n",
      "| $}        |           |          |          |          |          |          |\n",
      "+-----------+-----------+----------+----------+----------+----------+----------+\n",
      "|           | [0.144]   | [0.003]  | [0.001]  |  [1.199] |  [0.288] |  [0.118] |\n",
      "+-----------+-----------+----------+----------+----------+----------+----------+\n",
      "| \\multirow | -1.097    | -0.938   | -0.839   | -1.61    | -1.639   | -1.606   |\n",
      "| {2}{*}{$\\ | (0.705)   | (0.665)  | (0.591)  | (0.29)   | (0.137)  | (0.063)  |\n",
      "| beta_{11} |           |          |          |          |          |          |\n",
      "| $}        |           |          |          |          |          |          |\n",
      "+-----------+-----------+----------+----------+----------+----------+----------+\n",
      "|           | [1.7]     | [1.323]  | [1.053]  |  [2.677] |  [2.705] |  [2.583] |\n",
      "+-----------+-----------+----------+----------+----------+----------+----------+\n",
      "| \\multirow | 0.847     | 0.763    | 0.714    | 1.235    | 1.215    | 1.196    |\n",
      "| {2}{*}{$\\ | (0.511)   | (0.522)  | (0.496)  | (0.23)   | (0.076)  | (0.042)  |\n",
      "| beta_{12} |           |          |          |          |          |          |\n",
      "| $}        |           |          |          |          |          |          |\n",
      "+-----------+-----------+----------+----------+----------+----------+----------+\n",
      "|           | [0.979]   | [0.855]  | [0.757]  |  [1.577] |  [1.482] |  [1.432] |\n",
      "+-----------+-----------+----------+----------+----------+----------+----------+\n",
      "| \\multirow | -0.441    | -0.321   | -0.295   | -0.549   | -0.526   | -0.511   |\n",
      "| {2}{*}{$\\ | (0.401)   | (0.226)  | (0.206)  | (0.205)  | (0.089)  | (0.035)  |\n",
      "| beta_{21} |           |          |          |          |          |          |\n",
      "| $}        |           |          |          |          |          |          |\n",
      "+-----------+-----------+----------+----------+----------+----------+----------+\n",
      "|           | [0.356]   | [0.154]  | [0.13]   |  [0.344] |  [0.284] |  [0.262] |\n",
      "+-----------+-----------+----------+----------+----------+----------+----------+\n",
      "| \\multirow | 0.95      | 0.902    | 0.83     | 1.501    | 1.496    | 1.498    |\n",
      "| {2}{*}{$\\ | (0.559)   | (0.633)  | (0.582)  | (0.26)   | (0.118)  | (0.049)  |\n",
      "| beta_{22} |           |          |          |          |          |          |\n",
      "| $}        |           |          |          |          |          |          |\n",
      "+-----------+-----------+----------+----------+----------+----------+----------+\n",
      "|           | [1.216]   | [1.214]  | [1.028]  |  [2.322] |  [2.251] |  [2.246] |\n",
      "+-----------+-----------+----------+----------+----------+----------+----------+\n",
      "| \\multirow | 3.687     | 3.561    | 3.848    | 1.025    | 0.259    | 0.041    |\n",
      "| {2}{*}{$\\ | (1.675)   | (2.612)  | (2.86)   | (1.068)  | (0.205)  | (0.089)  |\n",
      "| gamma_0$} |           |          |          |          |          |          |\n",
      "+-----------+-----------+----------+----------+----------+----------+----------+\n",
      "|           | [16.397]  | [19.503] | [22.985] |  [2.19]  |  [0.109] |  [0.01]  |\n",
      "+-----------+-----------+----------+----------+----------+----------+----------+\n",
      "| \\multirow | 0.182     | 0.12     | 0.144    | 0.105    | 0.126    | 0.104    |\n",
      "| {2}{*}{$\\ | (0.766)   | (0.181)  | (0.177)  | (0.555)  | (0.136)  | (0.061)  |\n",
      "| gamma_1$} |           |          |          |          |          |          |\n",
      "+-----------+-----------+----------+----------+----------+----------+----------+\n",
      "|           | [0.62]    | [0.047]  | [0.052]  |  [0.319] |  [0.035] |  [0.015] |\n",
      "+-----------+-----------+----------+----------+----------+----------+----------+\n",
      "| \\multirow | -0.015    | -0.01    | -0.003   | /        | /        | /        |\n",
      "| {2}{*}{$\\ | (0.08)    | (0.054)  | (0.023)  |          |          |          |\n",
      "| rho$}     |           |          |          |          |          |          |\n",
      "+-----------+-----------+----------+----------+----------+----------+----------+\n",
      "|           | [0.007]   | [0.003]  | [0.001]  | /        | /        | /        |\n",
      "+-----------+-----------+----------+----------+----------+----------+----------+\n"
     ]
    }
   ],
   "source": [
    "table_params = Texttable()\n",
    "table_params.add_row([\"Parameter\", \"S n=50\", \"S n=200\", \"S n=1000\",\n",
    "                      \"NS n=50\", \"NS n=200\", \"NS n=1000\"])\n",
    "                      \n",
    "#param_names = [\"$\\\\beta_{01}$\", \"\", \"$\\\\beta_{02}$\", \"\", \"$\\\\beta_{11}$\", \"\", \"$\\\\beta_{12}$\", \"\",\n",
    "#               \"$\\\\beta_{21}$\", \"\", \"$\\\\beta_{22}$\", \"\", \"$\\\\gamma_0$\", \"\", \"$\\\\gamma_1$\", \"\", \"$\\\\rho$\", \"\"]\n",
    "\n",
    "param_names = [\"\\\\multirow{2}{*}{$\\\\beta_{01}$}\", \"\\\\multirow{2}{*}{$\\\\beta_{02}$}\", \"\\\\multirow{2}{*}{$\\\\beta_{11}$}\",\n",
    "               \"\\\\multirow{2}{*}{$\\\\beta_{12}$}\", \"\\\\multirow{2}{*}{$\\\\beta_{21}$}\", \"\\\\multirow{2}{*}{$\\\\beta_{22}$}\",\n",
    "               \"\\\\multirow{2}{*}{$\\\\gamma_0$}\", \"\\\\multirow{2}{*}{$\\\\gamma_1$}\", \"\\\\multirow{2}{*}{$\\\\rho$}\" ]\n",
    "param_names_2 = [\"\"]*len(param_names)\n",
    "\n",
    "columns_1 = []\n",
    "columns_2 = []\n",
    "\n",
    "for ns in range(3):\n",
    "    col_to_add = [str(np.round(np.mean(np.array(list_solutions_spatial_09[ns])[:,i] - true_params_effective_09[i]),3))\n",
    "                  +' ('+str(np.round(np.std(np.array(list_solutions_spatial_09[ns])[:,i] - true_params_effective_09[i]),3))+')' for i in range(len(true_params_effective_09))]\n",
    "    columns_1.append(col_to_add)\n",
    "    col_to_add = ['['+  str(np.round(mean_squared_error(np.array(list_solutions_spatial_09[ns])[:,i], [true_params_effective_09[i]]*len(list_solutions_spatial_09[ns])),3)) +']' for i in range(len(true_params_effective_09))]\n",
    "    columns_2.append(col_to_add)\n",
    "    \n",
    "for ns in range(3):\n",
    "    col_to_add = [str(np.round(np.mean(np.array(list_solutions_no_spatial_09[ns])[:,i] - true_params_effective_no_spatial[i]),3))\n",
    "                  +' ('+str(np.round(np.std(np.array(list_solutions_no_spatial_09[ns])[:,i] - true_params_effective_no_spatial[i]),3))+')' for i in range(len(true_params_effective_no_spatial))] + [\"/\"]\n",
    "    columns_1.append(col_to_add)\n",
    "    col_to_add = [' ['+  str(np.round(mean_squared_error(np.array(list_solutions_no_spatial_09[ns])[:,i], [true_params_effective_no_spatial[i]]*len(list_solutions_no_spatial_09[ns])),3)) +']' for i in range(len(true_params_effective_no_spatial))] + [\"/\"]\n",
    "    columns_2.append(col_to_add)\n",
    "        \n",
    "columns_1.insert(0,param_names)\n",
    "columns_2.insert(0,param_names_2)\n",
    "\n",
    "tr_columns_1 = np.transpose(columns_1)\n",
    "tr_columns_2 = np.transpose(columns_2)\n",
    "for i in range(len(tr_columns_1)):\n",
    "    table_params.add_row(tr_columns_1[i])\n",
    "    table_params.add_row(tr_columns_2[i])\n",
    "\n",
    "print(table_params.draw())"
   ]
  },
  {
   "cell_type": "code",
   "execution_count": 203,
   "metadata": {
    "scrolled": true
   },
   "outputs": [
    {
     "name": "stdout",
     "output_type": "stream",
     "text": [
      "\\begin{table}\n",
      "\t\\begin{center}\n",
      "\t\t\\begin{tabular}{|l|l|l|l|l|l|l|}\n",
      "\t\t\t\\hline\n",
      "\t\t\t \\\\\n",
      "\t\t\t\\hline\n",
      "\t\t\tParameter & S n=50 & S n=200 & S n=1000 & NS n=50 & NS n=200 & NS n=1000 \\\\\n",
      "\t\t\t\\hline\n",
      "\t\t\t\\multirow{2}{*}{$\\beta_{01}$} & 0.117 (0.095) & 0.131 (0.093) & 0.12 (0.085) & 0.361 (0.651) & 0.18 (0.219) & 0.169 (0.084) \\\\\n",
      "\t\t\t\\hline\n",
      "\t\t\t & [0.023] & [0.026] & [0.022] &  [0.555] &  [0.08] &  [0.036] \\\\\n",
      "\t\t\t\\hline\n",
      "\t\t\t\\multirow{2}{*}{$\\beta_{02}$} & 0.023 (0.379) & 0.001 (0.056) & -0.009 (0.021) & 0.548 (0.948) & 0.42 (0.334) & 0.311 (0.146) \\\\\n",
      "\t\t\t\\hline\n",
      "\t\t\t & [0.144] & [0.003] & [0.001] &  [1.199] &  [0.288] &  [0.118] \\\\\n",
      "\t\t\t\\hline\n",
      "\t\t\t\\multirow{2}{*}{$\\beta_{11}$} & -1.097 (0.705) & -0.938 (0.665) & -0.839 (0.591) & -1.61 (0.29) & -1.639 (0.137) & -1.606 (0.063) \\\\\n",
      "\t\t\t\\hline\n",
      "\t\t\t & [1.7] & [1.323] & [1.053] &  [2.677] &  [2.705] &  [2.583] \\\\\n",
      "\t\t\t\\hline\n",
      "\t\t\t\\multirow{2}{*}{$\\beta_{12}$} & 0.847 (0.511) & 0.763 (0.522) & 0.714 (0.496) & 1.235 (0.23) & 1.215 (0.076) & 1.196 (0.042) \\\\\n",
      "\t\t\t\\hline\n",
      "\t\t\t & [0.979] & [0.855] & [0.757] &  [1.577] &  [1.482] &  [1.432] \\\\\n",
      "\t\t\t\\hline\n",
      "\t\t\t\\multirow{2}{*}{$\\beta_{21}$} & -0.441 (0.401) & -0.321 (0.226) & -0.295 (0.206) & -0.549 (0.205) & -0.526 (0.089) & -0.511 (0.035) \\\\\n",
      "\t\t\t\\hline\n",
      "\t\t\t & [0.356] & [0.154] & [0.13] &  [0.344] &  [0.284] &  [0.262] \\\\\n",
      "\t\t\t\\hline\n",
      "\t\t\t\\multirow{2}{*}{$\\beta_{22}$} & 0.95 (0.559) & 0.902 (0.633) & 0.83 (0.582) & 1.501 (0.26) & 1.496 (0.118) & 1.498 (0.049) \\\\\n",
      "\t\t\t\\hline\n",
      "\t\t\t & [1.216] & [1.214] & [1.028] &  [2.322] &  [2.251] &  [2.246] \\\\\n",
      "\t\t\t\\hline\n",
      "\t\t\t\\multirow{2}{*}{$\\gamma_0$} & 3.687 (1.675) & 3.561 (2.612) & 3.848 (2.86) & 1.025 (1.068) & 0.259 (0.205) & 0.041 (0.089) \\\\\n",
      "\t\t\t\\hline\n",
      "\t\t\t & [16.397] & [19.503] & [22.985] &  [2.19] &  [0.109] &  [0.01] \\\\\n",
      "\t\t\t\\hline\n",
      "\t\t\t\\multirow{2}{*}{$\\gamma_1$} & 0.182 (0.766) & 0.12 (0.181) & 0.144 (0.177) & 0.105 (0.555) & 0.126 (0.136) & 0.104 (0.061) \\\\\n",
      "\t\t\t\\hline\n",
      "\t\t\t & [0.62] & [0.047] & [0.052] &  [0.319] &  [0.035] &  [0.015] \\\\\n",
      "\t\t\t\\hline\n",
      "\t\t\t\\multirow{2}{*}{$\\rho$} & -0.015 (0.08) & -0.01 (0.054) & -0.003 (0.023) & / & / & / \\\\\n",
      "\t\t\t\\hline\n",
      "\t\t\t & [0.007] & [0.003] & [0.001] & / & / & / \\\\\n",
      "\t\t\t\\hline\n",
      "\t\t\\end{tabular}\n",
      "\t\\end{center}\n",
      "\t\\caption{Difference between the estimated parameters and the true parameters ($rho=0.9$) with multinomial generated data. The results are presented as the mean of the differences on the 100 iterations, the standard deviation within parenthesis, and the standard deviation within square brackets.}\n",
      "\\end{table}\n"
     ]
    }
   ],
   "source": [
    "print(latextable.draw_latex(table_params, caption=\"Difference between the estimated parameters and the true parameters ($rho=0.9$) with multinomial generated data. The results are presented as the mean of the differences on the 100 iterations, the standard deviation within parenthesis, and the standard deviation within square brackets.\"))"
   ]
  },
  {
   "cell_type": "code",
   "execution_count": 204,
   "metadata": {
    "scrolled": true
   },
   "outputs": [
    {
     "name": "stdout",
     "output_type": "stream",
     "text": [
      "+-----------+-----------+----------+----------+----------+----------+----------+\n",
      "| Parameter | S n=50    | S n=200  | S n=1000 | NS n=50  | NS n=200 | NS       |\n",
      "|           |           |          |          |          |          | n=1000   |\n",
      "+-----------+-----------+----------+----------+----------+----------+----------+\n",
      "| \\multirow | 0.052     | 0.016    | 0.005    | 0.051    | 0.015    | 0.005    |\n",
      "| {2}{*}{$\\ | (0.019)   | (0.012)  | (0.002)  | (0.018)  | (0.007)  | (0.002)  |\n",
      "| beta_{01} |           |          |          |          |          |          |\n",
      "| $}        |           |          |          |          |          |          |\n",
      "+-----------+-----------+----------+----------+----------+----------+----------+\n",
      "|           | [0.003]   | [0.0]    | [0.0]    |  [0.003] |  [0.0]   |  [0.0]   |\n",
      "+-----------+-----------+----------+----------+----------+----------+----------+\n",
      "| \\multirow | 0.031     | 0.011    | 0.003    | 0.032    | 0.011    | 0.003    |\n",
      "| {2}{*}{$\\ | (0.018)   | (0.008)  | (0.003)  | (0.018)  | (0.006)  | (0.003)  |\n",
      "| beta_{02} |           |          |          |          |          |          |\n",
      "| $}        |           |          |          |          |          |          |\n",
      "+-----------+-----------+----------+----------+----------+----------+----------+\n",
      "|           | [0.001]   | [0.0]    | [0.0]    |  [0.001] |  [0.0]   |  [0.0]   |\n",
      "+-----------+-----------+----------+----------+----------+----------+----------+\n",
      "| \\multirow | -0.135    | -0.035   | -0.01    | -0.134   | -0.036   | -0.01    |\n",
      "| {2}{*}{$\\ | (0.026)   | (0.011)  | (0.003)  | (0.026)  | (0.009)  | (0.003)  |\n",
      "| beta_{11} |           |          |          |          |          |          |\n",
      "| $}        |           |          |          |          |          |          |\n",
      "+-----------+-----------+----------+----------+----------+----------+----------+\n",
      "|           | [0.019]   | [0.001]  | [0.0]    |  [0.019] |  [0.001] |  [0.0]   |\n",
      "+-----------+-----------+----------+----------+----------+----------+----------+\n",
      "| \\multirow | 0.141     | 0.042    | 0.01     | 0.14     | 0.042    | 0.01     |\n",
      "| {2}{*}{$\\ | (0.032)   | (0.011)  | (0.004)  | (0.032)  | (0.009)  | (0.004)  |\n",
      "| beta_{12} |           |          |          |          |          |          |\n",
      "| $}        |           |          |          |          |          |          |\n",
      "+-----------+-----------+----------+----------+----------+----------+----------+\n",
      "|           | [0.021]   | [0.002]  | [0.0]    |  [0.021] |  [0.002] |  [0.0]   |\n",
      "+-----------+-----------+----------+----------+----------+----------+----------+\n",
      "| \\multirow | -0.051    | -0.013   | -0.004   | -0.051   | -0.015   | -0.004   |\n",
      "| {2}{*}{$\\ | (0.017)   | (0.019)  | (0.003)  | (0.017)  | (0.006)  | (0.003)  |\n",
      "| beta_{21} |           |          |          |          |          |          |\n",
      "| $}        |           |          |          |          |          |          |\n",
      "+-----------+-----------+----------+----------+----------+----------+----------+\n",
      "|           | [0.003]   | [0.001]  | [0.0]    |  [0.003] |  [0.0]   |  [0.0]   |\n",
      "+-----------+-----------+----------+----------+----------+----------+----------+\n",
      "| \\multirow | 0.152     | 0.045    | 0.01     | 0.151    | 0.045    | 0.01     |\n",
      "| {2}{*}{$\\ | (0.032)   | (0.012)  | (0.003)  | (0.032)  | (0.009)  | (0.003)  |\n",
      "| beta_{22} |           |          |          |          |          |          |\n",
      "| $}        |           |          |          |          |          |          |\n",
      "+-----------+-----------+----------+----------+----------+----------+----------+\n",
      "|           | [0.024]   | [0.002]  | [0.0]    |  [0.024] |  [0.002] |  [0.0]   |\n",
      "+-----------+-----------+----------+----------+----------+----------+----------+\n",
      "| \\multirow | 6.5       | 7.366    | 7.805    | 6.498    | 7.404    | 7.804    |\n",
      "| {2}{*}{$\\ | (0.405)   | (0.465)  | (0.182)  | (0.403)  | (0.274)  | (0.181)  |\n",
      "| gamma_0$} |           |          |          |          |          |          |\n",
      "+-----------+-----------+----------+----------+----------+----------+----------+\n",
      "|           | [42.414]  | [54.471] | [60.95]  | [42.387] |  [54.89] |  [60.94] |\n",
      "+-----------+-----------+----------+----------+----------+----------+----------+\n",
      "| \\multirow | 0.156     | 0.105    | 0.069    | 0.153    | 0.085    | 0.069    |\n",
      "| {2}{*}{$\\ | (0.736)   | (0.566)  | (0.353)  | (0.727)  | (0.539)  | (0.353)  |\n",
      "| gamma_1$} |           |          |          |          |          |          |\n",
      "+-----------+-----------+----------+----------+----------+----------+----------+\n",
      "|           | [0.565]   | [0.331]  | [0.13]   |  [0.552] |  [0.298] |  [0.13]  |\n",
      "+-----------+-----------+----------+----------+----------+----------+----------+\n",
      "| \\multirow | -0.001    | -0.001   | 0.0      | /        | /        | /        |\n",
      "| {2}{*}{$\\ | (0.009)   | (0.011)  | (0.001)  |          |          |          |\n",
      "| rho$}     |           |          |          |          |          |          |\n",
      "+-----------+-----------+----------+----------+----------+----------+----------+\n",
      "|           | [0.0]     | [0.0]    | [0.0]    | /        | /        | /        |\n",
      "+-----------+-----------+----------+----------+----------+----------+----------+\n"
     ]
    }
   ],
   "source": [
    "table_params = Texttable()\n",
    "table_params.add_row([\"Parameter\", \"S n=50\", \"S n=200\", \"S n=1000\",\n",
    "                      \"NS n=50\", \"NS n=200\", \"NS n=1000\"])\n",
    "\n",
    "param_names = [\"\\\\multirow{2}{*}{$\\\\beta_{01}$}\", \"\\\\multirow{2}{*}{$\\\\beta_{02}$}\", \"\\\\multirow{2}{*}{$\\\\beta_{11}$}\",\n",
    "               \"\\\\multirow{2}{*}{$\\\\beta_{12}$}\", \"\\\\multirow{2}{*}{$\\\\beta_{21}$}\", \"\\\\multirow{2}{*}{$\\\\beta_{22}$}\",\n",
    "               \"\\\\multirow{2}{*}{$\\\\gamma_0$}\", \"\\\\multirow{2}{*}{$\\\\gamma_1$}\", \"\\\\multirow{2}{*}{$\\\\rho$}\" ]\n",
    "param_names_2 = [\"\"]*len(param_names)\n",
    "\n",
    "columns_1 = []\n",
    "columns_2 = []\n",
    "\n",
    "for ns in range(3):\n",
    "    col_to_add = [str(np.round(np.mean(list_solutions_spatial_00[ns][:,i] - true_params_effective_00[i]),3))\n",
    "                  +' ('+str(np.round(np.std(list_solutions_spatial_00[ns][:,i] - true_params_effective_00[i]),3))+')' for i in range(len(true_params_effective_00))]\n",
    "    columns_1.append(col_to_add)\n",
    "    col_to_add = ['['+  str(np.round(mean_squared_error(list_solutions_spatial_00[ns][:,i], [true_params_effective_00[i]]*100),3)) +']' for i in range(len(true_params_effective_00))]\n",
    "    columns_2.append(col_to_add)\n",
    "    \n",
    "for ns in range(3):\n",
    "    col_to_add = [str(np.round(np.mean(list_solutions_no_spatial_00[ns][:,i] - true_params_effective_no_spatial[i]),3))\n",
    "                  +' ('+str(np.round(np.std(list_solutions_no_spatial_00[ns][:,i] - true_params_effective_no_spatial[i]),3))+')' for i in range(len(true_params_effective_no_spatial))] + [\"/\"]\n",
    "    columns_1.append(col_to_add)\n",
    "    col_to_add = [' ['+  str(np.round(mean_squared_error(list_solutions_no_spatial_00[ns][:,i], [true_params_effective_no_spatial[i]]*100),3)) +']' for i in range(len(true_params_effective_no_spatial))] + [\"/\"]\n",
    "    columns_2.append(col_to_add)\n",
    "        \n",
    "columns_1.insert(0,param_names)\n",
    "columns_2.insert(0,param_names_2)\n",
    "\n",
    "tr_columns_1 = np.transpose(columns_1)\n",
    "tr_columns_2 = np.transpose(columns_2)\n",
    "for i in range(len(tr_columns_1)):\n",
    "    table_params.add_row(tr_columns_1[i])\n",
    "    table_params.add_row(tr_columns_2[i])\n",
    "\n",
    "print(table_params.draw())"
   ]
  },
  {
   "cell_type": "markdown",
   "metadata": {},
   "source": [
    "### Results on cross-entropy"
   ]
  },
  {
   "cell_type": "code",
   "execution_count": 205,
   "metadata": {},
   "outputs": [],
   "source": [
    "true_params_effective_01_ce = np.concatenate([beta[:,1:].flatten(), [0.1]])\n",
    "true_params_effective_05_ce = np.concatenate([beta[:,1:].flatten(), [0.5]])\n",
    "true_params_effective_09_ce = np.concatenate([beta[:,1:].flatten(), [0.9]])\n",
    "true_params_effective_no_spatial_ce = np.concatenate([beta[:,1:].flatten()])"
   ]
  },
  {
   "cell_type": "code",
   "execution_count": 206,
   "metadata": {
    "scrolled": true
   },
   "outputs": [
    {
     "name": "stdout",
     "output_type": "stream",
     "text": [
      "+-----------+-----------+----------+----------+----------+----------+----------+\n",
      "| Parameter | S n=50    | S n=200  | S n=1000 | NS n=50  | NS n=200 | NS       |\n",
      "|           |           |          |          |          |          | n=1000   |\n",
      "+-----------+-----------+----------+----------+----------+----------+----------+\n",
      "| \\multirow | 0.067     | 0.018    | 0.003    | 0.057    | -0.001   | -0.014   |\n",
      "| {2}{*}{$\\ | (0.019)   | (0.006)  | (0.002)  | (0.038)  | (0.019)  | (0.008)  |\n",
      "| beta_{01} |           |          |          |          |          |          |\n",
      "| $}        |           |          |          |          |          |          |\n",
      "+-----------+-----------+----------+----------+----------+----------+----------+\n",
      "|           | [0.005]   | [0.0]    | [0.0]    |  [0.005] |  [0.0]   |  [0.0]   |\n",
      "+-----------+-----------+----------+----------+----------+----------+----------+\n",
      "| \\multirow | 0.043     | 0.012    | 0.003    | 0.059    | 0.03     | 0.017    |\n",
      "| {2}{*}{$\\ | (0.019)   | (0.006)  | (0.002)  | (0.05)   | (0.022)  | (0.01)   |\n",
      "| beta_{02} |           |          |          |          |          |          |\n",
      "| $}        |           |          |          |          |          |          |\n",
      "+-----------+-----------+----------+----------+----------+----------+----------+\n",
      "|           | [0.002]   | [0.0]    | [0.0]    |  [0.006] |  [0.001] |  [0.0]   |\n",
      "+-----------+-----------+----------+----------+----------+----------+----------+\n",
      "| \\multirow | -0.159    | -0.043   | -0.008   | -0.163   | -0.043   | -0.011   |\n",
      "| {2}{*}{$\\ | (0.03)    | (0.008)  | (0.004)  | (0.041)  | (0.017)  | (0.007)  |\n",
      "| beta_{11} |           |          |          |          |          |          |\n",
      "| $}        |           |          |          |          |          |          |\n",
      "+-----------+-----------+----------+----------+----------+----------+----------+\n",
      "|           | [0.026]   | [0.002]  | [0.0]    |  [0.028] |  [0.002] |  [0.0]   |\n",
      "+-----------+-----------+----------+----------+----------+----------+----------+\n",
      "| \\multirow | 0.176     | 0.046    | 0.01     | 0.181    | 0.048    | 0.017    |\n",
      "| {2}{*}{$\\ | (0.037)   | (0.01)   | (0.004)  | (0.045)  | (0.017)  | (0.008)  |\n",
      "| beta_{12} |           |          |          |          |          |          |\n",
      "| $}        |           |          |          |          |          |          |\n",
      "+-----------+-----------+----------+----------+----------+----------+----------+\n",
      "|           | [0.032]   | [0.002]  | [0.0]    |  [0.035] |  [0.003] |  [0.0]   |\n",
      "+-----------+-----------+----------+----------+----------+----------+----------+\n",
      "| \\multirow | -0.073    | -0.019   | -0.004   | -0.076   | -0.02    | -0.007   |\n",
      "| {2}{*}{$\\ | (0.019)   | (0.006)  | (0.003)  | (0.027)  | (0.011)  | (0.005)  |\n",
      "| beta_{21} |           |          |          |          |          |          |\n",
      "| $}        |           |          |          |          |          |          |\n",
      "+-----------+-----------+----------+----------+----------+----------+----------+\n",
      "|           | [0.006]   | [0.0]    | [0.0]    |  [0.006] |  [0.001] |  [0.0]   |\n",
      "+-----------+-----------+----------+----------+----------+----------+----------+\n",
      "| \\multirow | 0.177     | 0.046    | 0.01     | 0.18     | 0.048    | 0.015    |\n",
      "| {2}{*}{$\\ | (0.034)   | (0.009)  | (0.004)  | (0.043)  | (0.018)  | (0.008)  |\n",
      "| beta_{22} |           |          |          |          |          |          |\n",
      "| $}        |           |          |          |          |          |          |\n",
      "+-----------+-----------+----------+----------+----------+----------+----------+\n",
      "|           | [0.033]   | [0.002]  | [0.0]    |  [0.034] |  [0.003] |  [0.0]   |\n",
      "+-----------+-----------+----------+----------+----------+----------+----------+\n",
      "| \\multirow | -0.001    | -0.0     | -0.0     | /        | /        | /        |\n",
      "| {2}{*}{$\\ | (0.01)    | (0.004)  | (0.001)  |          |          |          |\n",
      "| rho$}     |           |          |          |          |          |          |\n",
      "+-----------+-----------+----------+----------+----------+----------+----------+\n",
      "|           | [0.0]     | [0.0]    | [0.0]    | /        | /        | /        |\n",
      "+-----------+-----------+----------+----------+----------+----------+----------+\n"
     ]
    }
   ],
   "source": [
    "table_params = Texttable()\n",
    "table_params.add_row([\"Parameter\", \"S n=50\", \"S n=200\", \"S n=1000\",\n",
    "                      \"NS n=50\", \"NS n=200\", \"NS n=1000\"])\n",
    "                      \n",
    "#param_names = [\"$\\\\beta_{01}$\", \"\", \"$\\\\beta_{02}$\", \"\", \"$\\\\beta_{11}$\", \"\", \"$\\\\beta_{12}$\", \"\",\n",
    "#               \"$\\\\beta_{21}$\", \"\", \"$\\\\beta_{22}$\", \"\", \"$\\\\gamma_0$\", \"\", \"$\\\\gamma_1$\", \"\", \"$\\\\rho$\", \"\"]\n",
    "\n",
    "param_names = [\"\\\\multirow{2}{*}{$\\\\beta_{01}$}\", \"\\\\multirow{2}{*}{$\\\\beta_{02}$}\", \"\\\\multirow{2}{*}{$\\\\beta_{11}$}\",\n",
    "               \"\\\\multirow{2}{*}{$\\\\beta_{12}$}\", \"\\\\multirow{2}{*}{$\\\\beta_{21}$}\", \"\\\\multirow{2}{*}{$\\\\beta_{22}$}\",\n",
    "               \"\\\\multirow{2}{*}{$\\\\rho$}\" ]\n",
    "param_names_2 = [\"\"]*len(param_names)\n",
    "\n",
    "columns_1 = []\n",
    "columns_2 = []\n",
    "\n",
    "for ns in range(3):\n",
    "    col_to_add = [str(np.round(np.mean(list_solutions_ce_spatial_01[ns][:,i] - true_params_effective_01_ce[i]),3))\n",
    "                  +' ('+str(np.round(np.std(list_solutions_ce_spatial_01[ns][:,i] - true_params_effective_01_ce[i]),3))+')' for i in range(len(true_params_effective_01_ce))]\n",
    "    columns_1.append(col_to_add)\n",
    "    col_to_add = ['['+  str(np.round(mean_squared_error(list_solutions_ce_spatial_01[ns][:,i], [true_params_effective_01_ce[i]]*100),3)) +']' for i in range(len(true_params_effective_01_ce))]\n",
    "    columns_2.append(col_to_add)\n",
    "    \n",
    "for ns in range(3):\n",
    "    col_to_add = [str(np.round(np.mean(list_solutions_ce_no_spatial_01[ns][:,i] - true_params_effective_no_spatial_ce[i]),3))\n",
    "                  +' ('+str(np.round(np.std(list_solutions_ce_no_spatial_01[ns][:,i] - true_params_effective_no_spatial_ce[i]),3))+')' for i in range(len(true_params_effective_no_spatial_ce))] + [\"/\"]\n",
    "    columns_1.append(col_to_add)\n",
    "    col_to_add = [' ['+  str(np.round(mean_squared_error(list_solutions_ce_no_spatial_01[ns][:,i], [true_params_effective_no_spatial_ce[i]]*100),3)) +']' for i in range(len(true_params_effective_no_spatial_ce))] + [\"/\"]\n",
    "    columns_2.append(col_to_add)\n",
    "        \n",
    "columns_1.insert(0,param_names)\n",
    "columns_2.insert(0,param_names_2)\n",
    "\n",
    "tr_columns_1 = np.transpose(columns_1)\n",
    "tr_columns_2 = np.transpose(columns_2)\n",
    "for i in range(len(tr_columns_1)):\n",
    "    table_params.add_row(tr_columns_1[i])\n",
    "    table_params.add_row(tr_columns_2[i])\n",
    "\n",
    "print(table_params.draw())"
   ]
  },
  {
   "cell_type": "code",
   "execution_count": 207,
   "metadata": {
    "scrolled": true
   },
   "outputs": [
    {
     "name": "stdout",
     "output_type": "stream",
     "text": [
      "\\begin{table}\n",
      "\t\\begin{center}\n",
      "\t\t\\begin{tabular}{|l|l|l|l|l|l|l|}\n",
      "\t\t\t\\hline\n",
      "\t\t\t \\\\\n",
      "\t\t\t\\hline\n",
      "\t\t\tParameter & S n=50 & S n=200 & S n=1000 & NS n=50 & NS n=200 & NS n=1000 \\\\\n",
      "\t\t\t\\hline\n",
      "\t\t\t\\multirow{2}{*}{$\\beta_{01}$} & 0.067 (0.019) & 0.018 (0.006) & 0.003 (0.002) & 0.057 (0.038) & -0.001 (0.019) & -0.014 (0.008) \\\\\n",
      "\t\t\t\\hline\n",
      "\t\t\t & [0.005] & [0.0] & [0.0] &  [0.005] &  [0.0] &  [0.0] \\\\\n",
      "\t\t\t\\hline\n",
      "\t\t\t\\multirow{2}{*}{$\\beta_{02}$} & 0.043 (0.019) & 0.012 (0.006) & 0.003 (0.002) & 0.059 (0.05) & 0.03 (0.022) & 0.017 (0.01) \\\\\n",
      "\t\t\t\\hline\n",
      "\t\t\t & [0.002] & [0.0] & [0.0] &  [0.006] &  [0.001] &  [0.0] \\\\\n",
      "\t\t\t\\hline\n",
      "\t\t\t\\multirow{2}{*}{$\\beta_{11}$} & -0.159 (0.03) & -0.043 (0.008) & -0.008 (0.004) & -0.163 (0.041) & -0.043 (0.017) & -0.011 (0.007) \\\\\n",
      "\t\t\t\\hline\n",
      "\t\t\t & [0.026] & [0.002] & [0.0] &  [0.028] &  [0.002] &  [0.0] \\\\\n",
      "\t\t\t\\hline\n",
      "\t\t\t\\multirow{2}{*}{$\\beta_{12}$} & 0.176 (0.037) & 0.046 (0.01) & 0.01 (0.004) & 0.181 (0.045) & 0.048 (0.017) & 0.017 (0.008) \\\\\n",
      "\t\t\t\\hline\n",
      "\t\t\t & [0.032] & [0.002] & [0.0] &  [0.035] &  [0.003] &  [0.0] \\\\\n",
      "\t\t\t\\hline\n",
      "\t\t\t\\multirow{2}{*}{$\\beta_{21}$} & -0.073 (0.019) & -0.019 (0.006) & -0.004 (0.003) & -0.076 (0.027) & -0.02 (0.011) & -0.007 (0.005) \\\\\n",
      "\t\t\t\\hline\n",
      "\t\t\t & [0.006] & [0.0] & [0.0] &  [0.006] &  [0.001] &  [0.0] \\\\\n",
      "\t\t\t\\hline\n",
      "\t\t\t\\multirow{2}{*}{$\\beta_{22}$} & 0.177 (0.034) & 0.046 (0.009) & 0.01 (0.004) & 0.18 (0.043) & 0.048 (0.018) & 0.015 (0.008) \\\\\n",
      "\t\t\t\\hline\n",
      "\t\t\t & [0.033] & [0.002] & [0.0] &  [0.034] &  [0.003] &  [0.0] \\\\\n",
      "\t\t\t\\hline\n",
      "\t\t\t\\multirow{2}{*}{$\\rho$} & -0.001 (0.01) & -0.0 (0.004) & -0.0 (0.001) & / & / & / \\\\\n",
      "\t\t\t\\hline\n",
      "\t\t\t & [0.0] & [0.0] & [0.0] & / & / & / \\\\\n",
      "\t\t\t\\hline\n",
      "\t\t\\end{tabular}\n",
      "\t\\end{center}\n",
      "\t\\caption{Difference between the estimated parameters with the cross-entropy minimization and the true parameters ($rho=0.1$). The results are presented as the mean of the differences on the 100 iterations, the standard deviation within parenthesis, and the standard deviation within square brackets.}\n",
      "\\end{table}\n"
     ]
    }
   ],
   "source": [
    "print(latextable.draw_latex(table_params, caption=\"Difference between the estimated parameters with the cross-entropy minimization and the true parameters ($rho=0.1$). The results are presented as the mean of the differences on the 100 iterations, the standard deviation within parenthesis, and the standard deviation within square brackets.\"))"
   ]
  },
  {
   "cell_type": "code",
   "execution_count": 208,
   "metadata": {
    "scrolled": true
   },
   "outputs": [
    {
     "name": "stdout",
     "output_type": "stream",
     "text": [
      "+-----------+-----------+----------+----------+----------+----------+----------+\n",
      "| Parameter | S n=50    | S n=200  | S n=1000 | NS n=50  | NS n=200 | NS       |\n",
      "|           |           |          |          |          |          | n=1000   |\n",
      "+-----------+-----------+----------+----------+----------+----------+----------+\n",
      "| \\multirow | 0.052     | 0.013    | 0.003    | 0.076    | -0.005   | 0.015    |\n",
      "| {2}{*}{$\\ | (0.014)   | (0.004)  | (0.001)  | (0.265)  | (0.143)  | (0.058)  |\n",
      "| beta_{01} |           |          |          |          |          |          |\n",
      "| $}        |           |          |          |          |          |          |\n",
      "+-----------+-----------+----------+----------+----------+----------+----------+\n",
      "|           | [0.003]   | [0.0]    | [0.0]    |  [0.076] |  [0.02]  |  [0.004] |\n",
      "+-----------+-----------+----------+----------+----------+----------+----------+\n",
      "| \\multirow | 0.022     | 0.007    | 0.001    | 0.219    | 0.257    | 0.232    |\n",
      "| {2}{*}{$\\ | (0.015)   | (0.004)  | (0.001)  | (0.321)  | (0.161)  | (0.074)  |\n",
      "| beta_{02} |           |          |          |          |          |          |\n",
      "| $}        |           |          |          |          |          |          |\n",
      "+-----------+-----------+----------+----------+----------+----------+----------+\n",
      "|           | [0.001]   | [0.0]    | [0.0]    |  [0.151] |  [0.092] |  [0.059] |\n",
      "+-----------+-----------+----------+----------+----------+----------+----------+\n",
      "| \\multirow | -0.182    | -0.047   | -0.009   | -0.278   | -0.171   | -0.157   |\n",
      "| {2}{*}{$\\ | (0.037)   | (0.008)  | (0.004)  | (0.142)  | (0.087)  | (0.038)  |\n",
      "| beta_{11} |           |          |          |          |          |          |\n",
      "| $}        |           |          |          |          |          |          |\n",
      "+-----------+-----------+----------+----------+----------+----------+----------+\n",
      "|           | [0.035]   | [0.002]  | [0.0]    |  [0.098] |  [0.037] |  [0.026] |\n",
      "+-----------+-----------+----------+----------+----------+----------+----------+\n",
      "| \\multirow | 0.2       | 0.052    | 0.01     | 0.34     | 0.242    | 0.238    |\n",
      "| {2}{*}{$\\ | (0.049)   | (0.01)   | (0.003)  | (0.168)  | (0.081)  | (0.044)  |\n",
      "| beta_{12} |           |          |          |          |          |          |\n",
      "| $}        |           |          |          |          |          |          |\n",
      "+-----------+-----------+----------+----------+----------+----------+----------+\n",
      "|           | [0.042]   | [0.003]  | [0.0]    |  [0.144] |  [0.065] |  [0.058] |\n",
      "+-----------+-----------+----------+----------+----------+----------+----------+\n",
      "| \\multirow | -0.084    | -0.022   | -0.004   | -0.174   | -0.117   | -0.124   |\n",
      "| {2}{*}{$\\ | (0.026)   | (0.007)  | (0.003)  | (0.122)  | (0.056)  | (0.026)  |\n",
      "| beta_{21} |           |          |          |          |          |          |\n",
      "| $}        |           |          |          |          |          |          |\n",
      "+-----------+-----------+----------+----------+----------+----------+----------+\n",
      "|           | [0.008]   | [0.001]  | [0.0]    |  [0.045] |  [0.017] |  [0.016] |\n",
      "+-----------+-----------+----------+----------+----------+----------+----------+\n",
      "| \\multirow | 0.2       | 0.054    | 0.01     | 0.285    | 0.192    | 0.185    |\n",
      "| {2}{*}{$\\ | (0.044)   | (0.01)   | (0.003)  | (0.169)  | (0.088)  | (0.042)  |\n",
      "| beta_{22} |           |          |          |          |          |          |\n",
      "| $}        |           |          |          |          |          |          |\n",
      "+-----------+-----------+----------+----------+----------+----------+----------+\n",
      "|           | [0.042]   | [0.003]  | [0.0]    |  [0.11]  |  [0.045] |  [0.036] |\n",
      "+-----------+-----------+----------+----------+----------+----------+----------+\n",
      "| \\multirow | -0.0      | -0.0     | 0.0      | /        | /        | /        |\n",
      "| {2}{*}{$\\ | (0.008)   | (0.002)  | (0.001)  |          |          |          |\n",
      "| rho$}     |           |          |          |          |          |          |\n",
      "+-----------+-----------+----------+----------+----------+----------+----------+\n",
      "|           | [0.0]     | [0.0]    | [0.0]    | /        | /        | /        |\n",
      "+-----------+-----------+----------+----------+----------+----------+----------+\n"
     ]
    }
   ],
   "source": [
    "table_params = Texttable()\n",
    "table_params.add_row([\"Parameter\", \"S n=50\", \"S n=200\", \"S n=1000\",\n",
    "                      \"NS n=50\", \"NS n=200\", \"NS n=1000\"])\n",
    "                      \n",
    "#param_names = [\"$\\\\beta_{01}$\", \"\", \"$\\\\beta_{02}$\", \"\", \"$\\\\beta_{11}$\", \"\", \"$\\\\beta_{12}$\", \"\",\n",
    "#               \"$\\\\beta_{21}$\", \"\", \"$\\\\beta_{22}$\", \"\", \"$\\\\gamma_0$\", \"\", \"$\\\\gamma_1$\", \"\", \"$\\\\rho$\", \"\"]\n",
    "\n",
    "param_names = [\"\\\\multirow{2}{*}{$\\\\beta_{01}$}\", \"\\\\multirow{2}{*}{$\\\\beta_{02}$}\", \"\\\\multirow{2}{*}{$\\\\beta_{11}$}\",\n",
    "               \"\\\\multirow{2}{*}{$\\\\beta_{12}$}\", \"\\\\multirow{2}{*}{$\\\\beta_{21}$}\", \"\\\\multirow{2}{*}{$\\\\beta_{22}$}\",\n",
    "               \"\\\\multirow{2}{*}{$\\\\rho$}\" ]\n",
    "param_names_2 = [\"\"]*len(param_names)\n",
    "\n",
    "columns_1 = []\n",
    "columns_2 = []\n",
    "\n",
    "for ns in range(3):\n",
    "    col_to_add = [str(np.round(np.mean(np.array(list_solutions_ce_spatial_05[ns])[:,i] - true_params_effective_05_ce[i]),3))\n",
    "                  +' ('+str(np.round(np.std(np.array(list_solutions_ce_spatial_05[ns])[:,i] - true_params_effective_05_ce[i]),3))+')' for i in range(len(true_params_effective_05_ce))]\n",
    "    columns_1.append(col_to_add)\n",
    "    col_to_add = ['['+  str(np.round(mean_squared_error(np.array(list_solutions_ce_spatial_05[ns])[:,i], [true_params_effective_05_ce[i]]*len(list_solutions_ce_spatial_05[ns])),3)) +']' for i in range(len(true_params_effective_05_ce))]\n",
    "    columns_2.append(col_to_add)\n",
    "    \n",
    "for ns in range(3):\n",
    "    col_to_add = [str(np.round(np.mean(np.array(list_solutions_ce_no_spatial_05[ns])[:,i] - true_params_effective_no_spatial_ce[i]),3))\n",
    "                  +' ('+str(np.round(np.std(np.array(list_solutions_ce_no_spatial_05[ns])[:,i] - true_params_effective_no_spatial_ce[i]),3))+')' for i in range(len(true_params_effective_no_spatial_ce))] + [\"/\"]\n",
    "    columns_1.append(col_to_add)\n",
    "    col_to_add = [' ['+  str(np.round(mean_squared_error(np.array(list_solutions_ce_no_spatial_05[ns])[:,i], [true_params_effective_no_spatial_ce[i]]*len(list_solutions_ce_no_spatial_05[ns])),3)) +']' for i in range(len(true_params_effective_no_spatial_ce))] + [\"/\"]\n",
    "    columns_2.append(col_to_add)\n",
    "        \n",
    "columns_1.insert(0,param_names)\n",
    "columns_2.insert(0,param_names_2)\n",
    "\n",
    "tr_columns_1 = np.transpose(columns_1)\n",
    "tr_columns_2 = np.transpose(columns_2)\n",
    "for i in range(len(tr_columns_1)):\n",
    "    table_params.add_row(tr_columns_1[i])\n",
    "    table_params.add_row(tr_columns_2[i])\n",
    "\n",
    "print(table_params.draw())"
   ]
  },
  {
   "cell_type": "code",
   "execution_count": 209,
   "metadata": {
    "scrolled": true
   },
   "outputs": [
    {
     "name": "stdout",
     "output_type": "stream",
     "text": [
      "\\begin{table}\n",
      "\t\\begin{center}\n",
      "\t\t\\begin{tabular}{|l|l|l|l|l|l|l|}\n",
      "\t\t\t\\hline\n",
      "\t\t\t \\\\\n",
      "\t\t\t\\hline\n",
      "\t\t\tParameter & S n=50 & S n=200 & S n=1000 & NS n=50 & NS n=200 & NS n=1000 \\\\\n",
      "\t\t\t\\hline\n",
      "\t\t\t\\multirow{2}{*}{$\\beta_{01}$} & 0.052 (0.014) & 0.013 (0.004) & 0.003 (0.001) & 0.076 (0.265) & -0.005 (0.143) & 0.015 (0.058) \\\\\n",
      "\t\t\t\\hline\n",
      "\t\t\t & [0.003] & [0.0] & [0.0] &  [0.076] &  [0.02] &  [0.004] \\\\\n",
      "\t\t\t\\hline\n",
      "\t\t\t\\multirow{2}{*}{$\\beta_{02}$} & 0.022 (0.015) & 0.007 (0.004) & 0.001 (0.001) & 0.219 (0.321) & 0.257 (0.161) & 0.232 (0.074) \\\\\n",
      "\t\t\t\\hline\n",
      "\t\t\t & [0.001] & [0.0] & [0.0] &  [0.151] &  [0.092] &  [0.059] \\\\\n",
      "\t\t\t\\hline\n",
      "\t\t\t\\multirow{2}{*}{$\\beta_{11}$} & -0.182 (0.037) & -0.047 (0.008) & -0.009 (0.004) & -0.278 (0.142) & -0.171 (0.087) & -0.157 (0.038) \\\\\n",
      "\t\t\t\\hline\n",
      "\t\t\t & [0.035] & [0.002] & [0.0] &  [0.098] &  [0.037] &  [0.026] \\\\\n",
      "\t\t\t\\hline\n",
      "\t\t\t\\multirow{2}{*}{$\\beta_{12}$} & 0.2 (0.049) & 0.052 (0.01) & 0.01 (0.003) & 0.34 (0.168) & 0.242 (0.081) & 0.238 (0.044) \\\\\n",
      "\t\t\t\\hline\n",
      "\t\t\t & [0.042] & [0.003] & [0.0] &  [0.144] &  [0.065] &  [0.058] \\\\\n",
      "\t\t\t\\hline\n",
      "\t\t\t\\multirow{2}{*}{$\\beta_{21}$} & -0.084 (0.026) & -0.022 (0.007) & -0.004 (0.003) & -0.174 (0.122) & -0.117 (0.056) & -0.124 (0.026) \\\\\n",
      "\t\t\t\\hline\n",
      "\t\t\t & [0.008] & [0.001] & [0.0] &  [0.045] &  [0.017] &  [0.016] \\\\\n",
      "\t\t\t\\hline\n",
      "\t\t\t\\multirow{2}{*}{$\\beta_{22}$} & 0.2 (0.044) & 0.054 (0.01) & 0.01 (0.003) & 0.285 (0.169) & 0.192 (0.088) & 0.185 (0.042) \\\\\n",
      "\t\t\t\\hline\n",
      "\t\t\t & [0.042] & [0.003] & [0.0] &  [0.11] &  [0.045] &  [0.036] \\\\\n",
      "\t\t\t\\hline\n",
      "\t\t\t\\multirow{2}{*}{$\\rho$} & -0.0 (0.008) & -0.0 (0.002) & 0.0 (0.001) & / & / & / \\\\\n",
      "\t\t\t\\hline\n",
      "\t\t\t & [0.0] & [0.0] & [0.0] & / & / & / \\\\\n",
      "\t\t\t\\hline\n",
      "\t\t\\end{tabular}\n",
      "\t\\end{center}\n",
      "\t\\caption{Difference between the estimated parameters with the cross-entropy minimization and the true parameters ($rho=0.5$). The results are presented as the mean of the differences on the 100 iterations, the standard deviation within parenthesis, and the standard deviation within square brackets.}\n",
      "\\end{table}\n"
     ]
    }
   ],
   "source": [
    "print(latextable.draw_latex(table_params, caption=\"Difference between the estimated parameters with the cross-entropy minimization and the true parameters ($rho=0.5$). The results are presented as the mean of the differences on the 100 iterations, the standard deviation within parenthesis, and the standard deviation within square brackets.\"))"
   ]
  },
  {
   "cell_type": "code",
   "execution_count": 210,
   "metadata": {},
   "outputs": [
    {
     "name": "stdout",
     "output_type": "stream",
     "text": [
      "+-----------+-----------+----------+----------+----------+----------+----------+\n",
      "| Parameter | S n=50    | S n=200  | S n=1000 | NS n=50  | NS n=200 | NS       |\n",
      "|           |           |          |          |          |          | n=1000   |\n",
      "+-----------+-----------+----------+----------+----------+----------+----------+\n",
      "| \\multirow | 0.072     | 0.023    | 0.004    | 0.405    | 0.367    | 0.496    |\n",
      "| {2}{*}{$\\ | (0.053)   | (0.01)   | (0.001)  | (1.403)  | (0.698)  | (0.245)  |\n",
      "| beta_{01} |           |          |          |          |          |          |\n",
      "| $}        |           |          |          |          |          |          |\n",
      "+-----------+-----------+----------+----------+----------+----------+----------+\n",
      "|           | [0.008]   | [0.001]  | [0.0]    |  [2.132] |  [0.622] |  [0.307] |\n",
      "+-----------+-----------+----------+----------+----------+----------+----------+\n",
      "| \\multirow | 0.006     | -0.003   | -0.001   | 0.954    | 1.113    | 1.001    |\n",
      "| {2}{*}{$\\ | (0.114)   | (0.003)  | (0.0)    | (1.45)   | (0.652)  | (0.289)  |\n",
      "| beta_{02} |           |          |          |          |          |          |\n",
      "| $}        |           |          |          |          |          |          |\n",
      "+-----------+-----------+----------+----------+----------+----------+----------+\n",
      "|           | [0.013]   | [0.0]    | [0.0]    |  [3.013] |  [1.663] |  [1.087] |\n",
      "+-----------+-----------+----------+----------+----------+----------+----------+\n",
      "| \\multirow | -0.637    | -0.157   | -0.029   | -0.99    | -0.99    | -1.028   |\n",
      "| {2}{*}{$\\ | (0.511)   | (0.067)  | (0.007)  | (0.448)  | (0.239)  | (0.081)  |\n",
      "| beta_{11} |           |          |          |          |          |          |\n",
      "| $}        |           |          |          |          |          |          |\n",
      "+-----------+-----------+----------+----------+----------+----------+----------+\n",
      "|           | [0.666]   | [0.029]  | [0.001]  |  [1.181] |  [1.036] |  [1.064] |\n",
      "+-----------+-----------+----------+----------+----------+----------+----------+\n",
      "| \\multirow | 0.545     | 0.161    | 0.031    | 0.982    | 1.136    | 1.176    |\n",
      "| {2}{*}{$\\ | (0.318)   | (0.065)  | (0.007)  | (0.363)  | (0.218)  | (0.1)    |\n",
      "| beta_{12} |           |          |          |          |          |          |\n",
      "| $}        |           |          |          |          |          |          |\n",
      "+-----------+-----------+----------+----------+----------+----------+----------+\n",
      "|           | [0.398]   | [0.03]   | [0.001]  |  [1.096] |  [1.339] |  [1.393] |\n",
      "+-----------+-----------+----------+----------+----------+----------+----------+\n",
      "| \\multirow | -0.295    | -0.067   | -0.012   | -0.546   | -0.627   | -0.676   |\n",
      "| {2}{*}{$\\ | (0.314)   | (0.029)  | (0.004)  | (0.324)  | (0.202)  | (0.083)  |\n",
      "| beta_{21} |           |          |          |          |          |          |\n",
      "| $}        |           |          |          |          |          |          |\n",
      "+-----------+-----------+----------+----------+----------+----------+----------+\n",
      "|           | [0.186]   | [0.005]  | [0.0]    |  [0.403] |  [0.433] |  [0.464] |\n",
      "+-----------+-----------+----------+----------+----------+----------+----------+\n",
      "| \\multirow | 0.562     | 0.17     | 0.033    | 0.883    | 0.94     | 0.986    |\n",
      "| {2}{*}{$\\ | (0.324)   | (0.067)  | (0.007)  | (0.425)  | (0.197)  | (0.082)  |\n",
      "| beta_{22} |           |          |          |          |          |          |\n",
      "| $}        |           |          |          |          |          |          |\n",
      "+-----------+-----------+----------+----------+----------+----------+----------+\n",
      "|           | [0.42]    | [0.033]  | [0.001]  |  [0.961] |  [0.922] |  [0.979] |\n",
      "+-----------+-----------+----------+----------+----------+----------+----------+\n",
      "| \\multirow | -0.009    | -0.0     | -0.0     | /        | /        | /        |\n",
      "| {2}{*}{$\\ | (0.022)   | (0.001)  | (0.0)    |          |          |          |\n",
      "| rho$}     |           |          |          |          |          |          |\n",
      "+-----------+-----------+----------+----------+----------+----------+----------+\n",
      "|           | [0.001]   | [0.0]    | [0.0]    | /        | /        | /        |\n",
      "+-----------+-----------+----------+----------+----------+----------+----------+\n"
     ]
    }
   ],
   "source": [
    "table_params = Texttable()\n",
    "table_params.add_row([\"Parameter\", \"S n=50\", \"S n=200\", \"S n=1000\",\n",
    "                      \"NS n=50\", \"NS n=200\", \"NS n=1000\"])\n",
    "                      \n",
    "#param_names = [\"$\\\\beta_{01}$\", \"\", \"$\\\\beta_{02}$\", \"\", \"$\\\\beta_{11}$\", \"\", \"$\\\\beta_{12}$\", \"\",\n",
    "#               \"$\\\\beta_{21}$\", \"\", \"$\\\\beta_{22}$\", \"\", \"$\\\\gamma_0$\", \"\", \"$\\\\gamma_1$\", \"\", \"$\\\\rho$\", \"\"]\n",
    "\n",
    "param_names = [\"\\\\multirow{2}{*}{$\\\\beta_{01}$}\", \"\\\\multirow{2}{*}{$\\\\beta_{02}$}\", \"\\\\multirow{2}{*}{$\\\\beta_{11}$}\",\n",
    "               \"\\\\multirow{2}{*}{$\\\\beta_{12}$}\", \"\\\\multirow{2}{*}{$\\\\beta_{21}$}\", \"\\\\multirow{2}{*}{$\\\\beta_{22}$}\",\n",
    "               \"\\\\multirow{2}{*}{$\\\\rho$}\" ]\n",
    "param_names_2 = [\"\"]*len(param_names)\n",
    "\n",
    "columns_1 = []\n",
    "columns_2 = []\n",
    "\n",
    "for ns in range(3):\n",
    "    col_to_add = [str(np.round(np.mean(np.array(list_solutions_ce_spatial_09[ns])[:,i] - true_params_effective_09_ce[i]),3))\n",
    "                  +' ('+str(np.round(np.std(np.array(list_solutions_ce_spatial_09[ns])[:,i] - true_params_effective_09_ce[i]),3))+')' for i in range(len(true_params_effective_09_ce))]\n",
    "    columns_1.append(col_to_add)\n",
    "    col_to_add = ['['+  str(np.round(mean_squared_error(np.array(list_solutions_ce_spatial_09[ns])[:,i], [true_params_effective_09_ce[i]]*len(list_solutions_ce_spatial_09[ns])),3)) +']' for i in range(len(true_params_effective_09_ce))]\n",
    "    columns_2.append(col_to_add)\n",
    "    \n",
    "for ns in range(3):\n",
    "    col_to_add = [str(np.round(np.mean(np.array(list_solutions_ce_no_spatial_09[ns])[:,i] - true_params_effective_no_spatial_ce[i]),3))\n",
    "                  +' ('+str(np.round(np.std(np.array(list_solutions_ce_no_spatial_09[ns])[:,i] - true_params_effective_no_spatial_ce[i]),3))+')' for i in range(len(true_params_effective_no_spatial_ce))] + [\"/\"]\n",
    "    columns_1.append(col_to_add)\n",
    "    col_to_add = [' ['+  str(np.round(mean_squared_error(np.array(list_solutions_ce_no_spatial_09[ns])[:,i], [true_params_effective_no_spatial_ce[i]]*len(list_solutions_ce_no_spatial_09[ns])),3)) +']' for i in range(len(true_params_effective_no_spatial_ce))] + [\"/\"]\n",
    "    columns_2.append(col_to_add)\n",
    "        \n",
    "columns_1.insert(0,param_names)\n",
    "columns_2.insert(0,param_names_2)\n",
    "\n",
    "tr_columns_1 = np.transpose(columns_1)\n",
    "tr_columns_2 = np.transpose(columns_2)\n",
    "for i in range(len(tr_columns_1)):\n",
    "    table_params.add_row(tr_columns_1[i])\n",
    "    table_params.add_row(tr_columns_2[i])\n",
    "\n",
    "print(table_params.draw())"
   ]
  },
  {
   "cell_type": "code",
   "execution_count": 211,
   "metadata": {
    "scrolled": true
   },
   "outputs": [
    {
     "name": "stdout",
     "output_type": "stream",
     "text": [
      "\\begin{table}\n",
      "\t\\begin{center}\n",
      "\t\t\\begin{tabular}{|l|l|l|l|l|l|l|}\n",
      "\t\t\t\\hline\n",
      "\t\t\t \\\\\n",
      "\t\t\t\\hline\n",
      "\t\t\tParameter & S n=50 & S n=200 & S n=1000 & NS n=50 & NS n=200 & NS n=1000 \\\\\n",
      "\t\t\t\\hline\n",
      "\t\t\t\\multirow{2}{*}{$\\beta_{01}$} & 0.072 (0.053) & 0.023 (0.01) & 0.004 (0.001) & 0.405 (1.403) & 0.367 (0.698) & 0.496 (0.245) \\\\\n",
      "\t\t\t\\hline\n",
      "\t\t\t & [0.008] & [0.001] & [0.0] &  [2.132] &  [0.622] &  [0.307] \\\\\n",
      "\t\t\t\\hline\n",
      "\t\t\t\\multirow{2}{*}{$\\beta_{02}$} & 0.006 (0.114) & -0.003 (0.003) & -0.001 (0.0) & 0.954 (1.45) & 1.113 (0.652) & 1.001 (0.289) \\\\\n",
      "\t\t\t\\hline\n",
      "\t\t\t & [0.013] & [0.0] & [0.0] &  [3.013] &  [1.663] &  [1.087] \\\\\n",
      "\t\t\t\\hline\n",
      "\t\t\t\\multirow{2}{*}{$\\beta_{11}$} & -0.637 (0.511) & -0.157 (0.067) & -0.029 (0.007) & -0.99 (0.448) & -0.99 (0.239) & -1.028 (0.081) \\\\\n",
      "\t\t\t\\hline\n",
      "\t\t\t & [0.666] & [0.029] & [0.001] &  [1.181] &  [1.036] &  [1.064] \\\\\n",
      "\t\t\t\\hline\n",
      "\t\t\t\\multirow{2}{*}{$\\beta_{12}$} & 0.545 (0.318) & 0.161 (0.065) & 0.031 (0.007) & 0.982 (0.363) & 1.136 (0.218) & 1.176 (0.1) \\\\\n",
      "\t\t\t\\hline\n",
      "\t\t\t & [0.398] & [0.03] & [0.001] &  [1.096] &  [1.339] &  [1.393] \\\\\n",
      "\t\t\t\\hline\n",
      "\t\t\t\\multirow{2}{*}{$\\beta_{21}$} & -0.295 (0.314) & -0.067 (0.029) & -0.012 (0.004) & -0.546 (0.324) & -0.627 (0.202) & -0.676 (0.083) \\\\\n",
      "\t\t\t\\hline\n",
      "\t\t\t & [0.186] & [0.005] & [0.0] &  [0.403] &  [0.433] &  [0.464] \\\\\n",
      "\t\t\t\\hline\n",
      "\t\t\t\\multirow{2}{*}{$\\beta_{22}$} & 0.562 (0.324) & 0.17 (0.067) & 0.033 (0.007) & 0.883 (0.425) & 0.94 (0.197) & 0.986 (0.082) \\\\\n",
      "\t\t\t\\hline\n",
      "\t\t\t & [0.42] & [0.033] & [0.001] &  [0.961] &  [0.922] &  [0.979] \\\\\n",
      "\t\t\t\\hline\n",
      "\t\t\t\\multirow{2}{*}{$\\rho$} & -0.009 (0.022) & -0.0 (0.001) & -0.0 (0.0) & / & / & / \\\\\n",
      "\t\t\t\\hline\n",
      "\t\t\t & [0.001] & [0.0] & [0.0] & / & / & / \\\\\n",
      "\t\t\t\\hline\n",
      "\t\t\\end{tabular}\n",
      "\t\\end{center}\n",
      "\t\\caption{Difference between the estimated parameters with the cross-entropy minimization and the true parameters ($rho=0.9$). The results are presented as the mean of the differences on the 100 iterations, the standard deviation within parenthesis, and the standard deviation within square brackets.}\n",
      "\\end{table}\n"
     ]
    }
   ],
   "source": [
    "print(latextable.draw_latex(table_params, caption=\"Difference between the estimated parameters with the cross-entropy minimization and the true parameters ($rho=0.9$). The results are presented as the mean of the differences on the 100 iterations, the standard deviation within parenthesis, and the standard deviation within square brackets.\"))"
   ]
  },
  {
   "cell_type": "markdown",
   "metadata": {},
   "source": [
    "# Analysis of the results on a test set"
   ]
  },
  {
   "cell_type": "code",
   "execution_count": 20,
   "metadata": {},
   "outputs": [],
   "source": [
    "def analysis_results(list_solutions_spatial, list_solutions_no_spatial, rho,\n",
    "                     n_repeat=100, size_test=1000, list_n_samples=[50,200,1000]):\n",
    "    \n",
    "    list_r2_s, list_rmse_s, list_similarity_s, list_crossentropy_s = [], [], [], []\n",
    "    list_r2_ns, list_rmse_ns, list_similarity_ns, list_crossentropy_ns = [], [], [], []\n",
    "\n",
    "    seed=0\n",
    "\n",
    "    for n_samples_index in range(3):\n",
    "        n_samples = list_n_samples[n_samples_index]\n",
    "        \n",
    "        true_params = np.concatenate([beta.flatten(),gamma_var, [rho]])\n",
    "        \n",
    "        list_n_i = np.random.randint(100, high=10000, size=n_samples)\n",
    "        \n",
    "        list_r2_s_temp, list_rmse_s_temp, list_similarity_s_temp, list_crossentropy_s_temp = [], [], [], []\n",
    "        list_r2_ns_temp, list_rmse_ns_temp, list_similarity_ns_temp, list_crossentropy_ns_temp = [], [], [], []\n",
    "        \n",
    "        for i in range(len(list_solutions_spatial[n_samples_index])):\n",
    "            np.random.seed(seed+1000)\n",
    "\n",
    "            X,Z,W = create_features_matrices(n_samples,n_features,choice_W='random_distance',nneighbors=10,cov_mat=cov_matrix)\n",
    "            Z[:,0] = 1\n",
    "            \n",
    "            #list_n_i = np.random.randint(100, high=10000, size=n_samples)\n",
    "            M = np.identity(n_samples) - rho*W\n",
    "            mu = dirichlet_regression.compute_mu_spatial(X, beta, M)\n",
    "            try:\n",
    "                \n",
    "                Y = np.array([np.random.multinomial(list_n_i[i],mu[i])/list_n_i[i] for i in range(n_samples)])\n",
    "                Y = (Y*(n_samples-1)+1/n_classes)/n_samples\n",
    "\n",
    "                solution_spatial = list_solutions_spatial[n_samples_index][i]\n",
    "                beta_sol_s = np.zeros((n_features+1,n_classes))\n",
    "                beta_sol_s[:,1:] = solution_spatial[:(n_features+1)*(n_classes-1)].reshape((n_features+1),n_classes-1)\n",
    "                rho_sol_s = solution_spatial[-1]\n",
    "                M_sol = np.identity(n_samples) - rho_sol_s*W\n",
    "                mu_sol_s = dirichlet_regression.compute_mu_spatial(X, beta_sol_s, M_sol)\n",
    "\n",
    "                list_r2_s_temp.append(r2_score(Y,mu_sol_s))\n",
    "                list_rmse_s_temp.append(mean_squared_error(Y,mu_sol_s,squared=False))\n",
    "                list_crossentropy_s_temp.append(-(1/size_test)*np.sum(Y*np.log(mu_sol_s)))\n",
    "                list_similarity_s_temp.append(cos_similarity(Y, mu_sol_s))\n",
    "\n",
    "                solution_no_spatial = list_solutions_no_spatial[n_samples_index][i]\n",
    "                beta_sol_ns = np.zeros((n_features+1,n_classes))\n",
    "                beta_sol_ns[:,1:] = solution_no_spatial[:(n_features+1)*(n_classes-1)].reshape((n_features+1),n_classes-1)\n",
    "                mu_sol_ns = dirichlet_regression.compute_mu(X, beta_sol_ns)\n",
    "\n",
    "                list_r2_ns_temp.append(r2_score(Y,mu_sol_ns))\n",
    "                list_rmse_ns_temp.append(mean_squared_error(Y,mu_sol_ns,squared=False))\n",
    "                list_crossentropy_ns_temp.append(-(1/size_test)*np.sum(Y*np.log(mu_sol_ns)))\n",
    "                list_similarity_ns_temp.append(cos_similarity(Y, mu_sol_ns))\n",
    "\n",
    "            except RuntimeError:\n",
    "                print(\"Factor is exactly singular\")\n",
    "            except np.linalg.LinAlgError:\n",
    "                print(\"Singular matrix\")\n",
    "\n",
    "            seed+=1\n",
    "        list_r2_s.append(list_r2_s_temp)\n",
    "        list_rmse_s.append(list_rmse_s_temp)\n",
    "        list_similarity_s.append(list_similarity_s_temp)\n",
    "        list_crossentropy_s.append(list_crossentropy_s_temp)\n",
    "        list_r2_ns.append(list_r2_ns_temp)\n",
    "        list_rmse_ns.append(list_rmse_ns_temp)\n",
    "        list_similarity_ns.append(list_similarity_ns_temp)\n",
    "        list_crossentropy_ns.append(list_crossentropy_ns_temp)\n",
    "    return(list_r2_s, list_rmse_s, list_similarity_s, list_crossentropy_s,\n",
    "           list_r2_ns, list_rmse_ns, list_similarity_ns, list_crossentropy_ns)"
   ]
  },
  {
   "cell_type": "code",
   "execution_count": 20,
   "metadata": {},
   "outputs": [],
   "source": [
    "def analysis_results(list_solutions_spatial, list_solutions_no_spatial, rho,\n",
    "                     n_repeat=100, size_test=1000, list_n_samples=[50,200,1000]):\n",
    "    \n",
    "    list_r2_s, list_rmse_s, list_similarity_s, list_crossentropy_s, list_rmse_a_s = [], [], [], [], []\n",
    "    list_r2_ns, list_rmse_ns, list_similarity_ns, list_crossentropy_ns, list_rmse_a_ns = [], [], [], [], []\n",
    "\n",
    "    seed=0\n",
    "\n",
    "    for n_samples_index in range(3):\n",
    "        n_samples = list_n_samples[n_samples_index]\n",
    "        \n",
    "        true_params = np.concatenate([beta.flatten(),gamma_var, [rho]])\n",
    "        \n",
    "        list_n_i = np.random.randint(100, high=10000, size=n_samples)\n",
    "        \n",
    "        list_r2_s_temp, list_rmse_s_temp, list_similarity_s_temp, list_crossentropy_s_temp, list_rmse_a_s_temp = [], [], [], [], []\n",
    "        list_r2_ns_temp, list_rmse_ns_temp, list_similarity_ns_temp, list_crossentropy_ns_temp, list_rmse_a_ns_temp = [], [], [], [], []\n",
    "        \n",
    "        for i in range(len(list_solutions_spatial[n_samples_index])):\n",
    "            np.random.seed(seed+1000)\n",
    "\n",
    "            X,Z,W = create_features_matrices(n_samples,n_features,choice_W='random_distance',nneighbors=10,cov_mat=cov_matrix)\n",
    "            Z[:,0] = 1\n",
    "            \n",
    "            #list_n_i = np.random.randint(100, high=10000, size=n_samples)\n",
    "            M = np.identity(n_samples) - rho*W\n",
    "            mu = dirichlet_regression.compute_mu_spatial(X, beta, M)\n",
    "            try:\n",
    "                \n",
    "                Y = np.array([np.random.multinomial(list_n_i[i],mu[i])/list_n_i[i] for i in range(n_samples)])\n",
    "                Y = (Y*(n_samples-1)+1/n_classes)/n_samples\n",
    "\n",
    "                solution_spatial = list_solutions_spatial[n_samples_index][i]\n",
    "                beta_sol_s = np.zeros((n_features+1,n_classes))\n",
    "                beta_sol_s[:,1:] = solution_spatial[:(n_features+1)*(n_classes-1)].reshape((n_features+1),n_classes-1)\n",
    "                rho_sol_s = solution_spatial[-1]\n",
    "                M_sol = np.identity(n_samples) - rho_sol_s*W\n",
    "                mu_sol_s = dirichlet_regression.compute_mu_spatial(X, beta_sol_s, M_sol)\n",
    "\n",
    "                list_r2_s_temp.append(r2_score(Y,mu_sol_s))\n",
    "                list_rmse_s_temp.append(mean_squared_error(Y,mu_sol_s,squared=False))\n",
    "                list_crossentropy_s_temp.append(-(1/size_test)*np.sum(Y*np.log(mu_sol_s)))\n",
    "                list_similarity_s_temp.append(cos_similarity(Y, mu_sol_s))\n",
    "                list_rmse_a_s_temp.append(rmse_aitchison(Y,mu_sol_s))\n",
    "\n",
    "                solution_no_spatial = list_solutions_no_spatial[n_samples_index][i]\n",
    "                beta_sol_ns = np.zeros((n_features+1,n_classes))\n",
    "                beta_sol_ns[:,1:] = solution_no_spatial[:(n_features+1)*(n_classes-1)].reshape((n_features+1),n_classes-1)\n",
    "                mu_sol_ns = dirichlet_regression.compute_mu(X, beta_sol_ns)\n",
    "\n",
    "                list_r2_ns_temp.append(r2_score(Y,mu_sol_ns))\n",
    "                list_rmse_ns_temp.append(mean_squared_error(Y,mu_sol_ns,squared=False))\n",
    "                list_crossentropy_ns_temp.append(-(1/size_test)*np.sum(Y*np.log(mu_sol_ns)))\n",
    "                list_similarity_ns_temp.append(cos_similarity(Y, mu_sol_ns))\n",
    "                list_rmse_a_ns_temp.append(rmse_aitchison(Y,mu_sol_ns))\n",
    "\n",
    "            except RuntimeError:\n",
    "                print(\"Factor is exactly singular\")\n",
    "            except np.linalg.LinAlgError:\n",
    "                print(\"Singular matrix\")\n",
    "\n",
    "            seed+=1\n",
    "        list_r2_s.append(list_r2_s_temp)\n",
    "        list_rmse_s.append(list_rmse_s_temp)\n",
    "        list_similarity_s.append(list_similarity_s_temp)\n",
    "        list_crossentropy_s.append(list_crossentropy_s_temp)\n",
    "        list_rmse_a_s.append(list_rmse_a_s_temp)\n",
    "        \n",
    "        list_r2_ns.append(list_r2_ns_temp)\n",
    "        list_rmse_ns.append(list_rmse_ns_temp)\n",
    "        list_similarity_ns.append(list_similarity_ns_temp)\n",
    "        list_crossentropy_ns.append(list_crossentropy_ns_temp)\n",
    "        list_rmse_a_ns.append(list_rmse_a_ns_temp)\n",
    "        \n",
    "    return(list_r2_s, list_rmse_s, list_similarity_s, list_crossentropy_s, list_rmse_a_s,\n",
    "           list_r2_ns, list_rmse_ns, list_similarity_ns, list_crossentropy_ns, list_rmse_a_ns)"
   ]
  },
  {
   "cell_type": "code",
   "execution_count": 213,
   "metadata": {},
   "outputs": [],
   "source": [
    "def details_r2_mu(list_solutions_spatial, list_solutions_no_spatial, rho,\n",
    "                     n_repeat=100, size_test=1000, list_n_samples=[50,200,1000]):\n",
    "    \n",
    "    list_r2_s, list_r2_ns = [], []\n",
    "    list_mu_s, list_mu_ns = [], []\n",
    "    list_true_mu = []\n",
    "\n",
    "    seed=0\n",
    "\n",
    "    for n_samples_index in range(3):\n",
    "        n_samples = list_n_samples[n_samples_index]\n",
    "        \n",
    "        true_params = np.concatenate([beta.flatten(),gamma_var, [rho]])\n",
    "        \n",
    "        list_n_i = np.random.randint(100, high=10000, size=n_samples)\n",
    "        \n",
    "        list_r2_s_temp, list_r2_ns_temp = [], []\n",
    "        list_mu_s_temp, list_mu_ns_temp = [], []\n",
    "        list_true_mu_temp = []\n",
    "        \n",
    "        for i in range(len(list_solutions_spatial[n_samples_index])):\n",
    "            np.random.seed(seed+1000)\n",
    "\n",
    "            X,Z,W = create_features_matrices(n_samples,n_features,choice_W='random_distance',nneighbors=10,cov_mat=cov_matrix)\n",
    "            Z[:,0] = 1\n",
    "            \n",
    "            #list_n_i = np.random.randint(100, high=10000, size=n_samples)\n",
    "            M = np.identity(n_samples) - rho*W\n",
    "            mu = dirichlet_regression.compute_mu_spatial(X, beta, M)\n",
    "            try:\n",
    "                \n",
    "                Y = np.array([np.random.multinomial(list_n_i[i],mu[i])/list_n_i[i] for i in range(n_samples)])\n",
    "                Y = (Y*(n_samples-1)+1/n_classes)/n_samples\n",
    "                \n",
    "                list_true_mu_temp.append(Y)\n",
    "\n",
    "                solution_spatial = list_solutions_spatial[n_samples_index][i]\n",
    "                beta_sol_s = np.zeros((n_features+1,n_classes))\n",
    "                beta_sol_s[:,1:] = solution_spatial[:(n_features+1)*(n_classes-1)].reshape((n_features+1),n_classes-1)\n",
    "                rho_sol_s = solution_spatial[-1]\n",
    "                M_sol = np.identity(n_samples) - rho_sol_s*W\n",
    "                mu_sol_s = dirichlet_regression.compute_mu_spatial(X, beta_sol_s, M_sol)\n",
    "\n",
    "                list_mu_s_temp.append(mu_sol_s)\n",
    "                list_r2_s_temp.append(r2_score(Y,mu_sol_s, multioutput='raw_values'))\n",
    "\n",
    "                solution_no_spatial = list_solutions_no_spatial[n_samples_index][i]\n",
    "                beta_sol_ns = np.zeros((n_features+1,n_classes))\n",
    "                beta_sol_ns[:,1:] = solution_no_spatial[:(n_features+1)*(n_classes-1)].reshape((n_features+1),n_classes-1)\n",
    "                mu_sol_ns = dirichlet_regression.compute_mu(X, beta_sol_ns)\n",
    "\n",
    "                list_mu_ns_temp.append(mu_sol_ns)\n",
    "                list_r2_ns_temp.append(r2_score(Y,mu_sol_ns, multioutput='raw_values'))\n",
    "\n",
    "            except RuntimeError:\n",
    "                print(\"Factor is exactly singular\")\n",
    "            except np.linalg.LinAlgError:\n",
    "                print(\"Singular matrix\")\n",
    "\n",
    "            seed+=1\n",
    "        list_true_mu.append(list_true_mu_temp)\n",
    "        list_mu_s.append(list_mu_s_temp)\n",
    "        list_mu_ns.append(list_mu_ns_temp)\n",
    "        list_r2_s.append(list_r2_s_temp)\n",
    "        list_r2_ns.append(list_r2_ns_temp)\n",
    "    return(list_r2_s, list_r2_ns, list_true_mu, list_mu_s, list_mu_ns)"
   ]
  },
  {
   "cell_type": "markdown",
   "metadata": {},
   "source": [
    "## rho=0.1"
   ]
  },
  {
   "cell_type": "code",
   "execution_count": 24,
   "metadata": {},
   "outputs": [
    {
     "name": "stdout",
     "output_type": "stream",
     "text": [
      "Wall time: 9.85 s\n"
     ]
    }
   ],
   "source": [
    "%%time\n",
    "list_r2_s, list_rmse_s, list_similarity_s, list_crossentropy_s, list_rmse_a_s, list_r2_ns, list_rmse_ns, list_similarity_ns, list_crossentropy_ns, list_rmse_a_ns = analysis_results(list_solutions_spatial_01, list_solutions_no_spatial_01, rho=0.1) "
   ]
  },
  {
   "cell_type": "code",
   "execution_count": 26,
   "metadata": {},
   "outputs": [
    {
     "name": "stdout",
     "output_type": "stream",
     "text": [
      "DIRICHLET no spatial\n",
      "R2 0.9955 ( 0.0 )\n",
      "RMSE 0.018 ( 0.0 )\n",
      "Crossentropy 0.588 ( 0.0001 )\n",
      "Cos similarity 0.9991 ( 0.0 )\n",
      "RMSE_A 0.3133 ( 0.0004 )\n",
      "---\n",
      "DIRICHLET spatial\n",
      "R2 0.999 ( 0.0 )\n",
      "RMSE 0.0071 ( 0.0 )\n",
      "Crossentropy 0.5866 ( 0.0001 )\n",
      "Cos similarity 0.9999 ( 0.0 )\n",
      "RMSE_A 0.2643 ( 0.0004 )\n"
     ]
    }
   ],
   "source": [
    "print(\"DIRICHLET no spatial\")\n",
    "print('R2', np.round(np.mean(list_r2_ns[2]),4), '(', np.round(np.var(list_r2_ns[2]),4), ')')\n",
    "print('RMSE', np.round(np.mean(list_rmse_ns[2]),4), '(', np.round(np.var(list_rmse_ns[2]),4), ')')\n",
    "print('Crossentropy', np.round(np.mean(list_crossentropy_ns[2]),4), '(', np.round(np.var(list_crossentropy_ns[2]),4), ')')\n",
    "print('Cos similarity', np.round(np.mean(list_similarity_ns[2]),4), '(', np.round(np.var(list_similarity_ns[2]),4), ')')\n",
    "print('RMSE_A', np.round(np.mean(list_rmse_a_ns[2]),4), '(', np.round(np.var(list_rmse_a_ns[2]),4), ')')\n",
    "print(\"---\\nDIRICHLET spatial\")\n",
    "print('R2', np.round(np.mean(list_r2_s[2]),4), '(', np.round(np.var(list_r2_s[2]),4), ')')\n",
    "print('RMSE', np.round(np.mean(list_rmse_s[2]),4), '(', np.round(np.var(list_rmse_s[2]),4), ')')\n",
    "print('Crossentropy', np.round(np.mean(list_crossentropy_s[2]),4), '(', np.round(np.var(list_crossentropy_s[2]),4), ')')\n",
    "print('Cos similarity', np.round(np.mean(list_similarity_s[2]),4), '(', np.round(np.var(list_similarity_s[2]),4), ')')\n",
    "print('RMSE_A', np.round(np.mean(list_rmse_a_s[2]),4), '(', np.round(np.var(list_rmse_a_s[2]),4), ')')"
   ]
  },
  {
   "cell_type": "code",
   "execution_count": 41,
   "metadata": {},
   "outputs": [
    {
     "name": "stdout",
     "output_type": "stream",
     "text": [
      "Wall time: 22.3 s\n"
     ]
    }
   ],
   "source": [
    "%%time\n",
    "list_r2_s, list_rmse_s, list_similarity_s, list_crossentropy_s, list_rmse_a_s, list_r2_ns, list_rmse_ns, list_similarity_ns, list_crossentropy_ns, list_rmse_a_ns = analysis_results(list_solutions_ce_spatial_01, list_solutions_ce_no_spatial_01, rho=0.1)"
   ]
  },
  {
   "cell_type": "code",
   "execution_count": 42,
   "metadata": {},
   "outputs": [
    {
     "name": "stdout",
     "output_type": "stream",
     "text": [
      "CROSSENTROPY no spatial\n",
      "R2 0.9956 ( 0.0 )\n",
      "RMSE 0.0179 ( 0.0 )\n",
      "Crossentropy 0.5881 ( 0.0001 )\n",
      "Cos similarity 0.9991 ( 0.0 )\n",
      "RMSE_A 0.3184 ( 0.0004 )\n",
      "---\n",
      "CROSSENTROPY spatial\n",
      "R2 0.999 ( 0.0 )\n",
      "RMSE 0.007 ( 0.0 )\n",
      "Crossentropy 0.5866 ( 0.0001 )\n",
      "Cos similarity 0.9999 ( 0.0 )\n",
      "RMSE_A 0.2648 ( 0.0003 )\n"
     ]
    }
   ],
   "source": [
    "print(\"CROSSENTROPY no spatial\")\n",
    "print('R2', np.round(np.mean(list_r2_ns[2]),4), '(', np.round(np.var(list_r2_ns[2]),4), ')')\n",
    "print('RMSE', np.round(np.mean(list_rmse_ns[2]),4), '(', np.round(np.var(list_rmse_ns[2]),4), ')')\n",
    "print('Crossentropy', np.round(np.mean(list_crossentropy_ns[2]),4), '(', np.round(np.var(list_crossentropy_ns[2]),4), ')')\n",
    "print('Cos similarity', np.round(np.mean(list_similarity_ns[2]),4), '(', np.round(np.var(list_similarity_ns[2]),4), ')')\n",
    "print('RMSE_A', np.round(np.mean(list_rmse_a_ns[2]),4), '(', np.round(np.var(list_rmse_a_ns[2]),4), ')')\n",
    "\n",
    "print(\"---\\nCROSSENTROPY spatial\")\n",
    "print('R2', np.round(np.mean(list_r2_s[2]),4), '(', np.round(np.var(list_r2_s[2]),4), ')')\n",
    "print('RMSE', np.round(np.mean(list_rmse_s[2]),4), '(', np.round(np.var(list_rmse_s[2]),4), ')')\n",
    "print('Crossentropy', np.round(np.mean(list_crossentropy_s[2]),4), '(', np.round(np.var(list_crossentropy_s[2]),4), ')')\n",
    "print('Cos similarity', np.round(np.mean(list_similarity_s[2]),4), '(', np.round(np.var(list_similarity_s[2]),4), ')')\n",
    "print('RMSE_A', np.round(np.mean(list_rmse_a_s[2]),4), '(', np.round(np.var(list_rmse_a_s[2]),4), ')')"
   ]
  },
  {
   "cell_type": "code",
   "execution_count": 214,
   "metadata": {},
   "outputs": [
    {
     "name": "stdout",
     "output_type": "stream",
     "text": [
      "Wall time: 17.5 s\n"
     ]
    }
   ],
   "source": [
    "%%time\n",
    "list_r2_s, list_rmse_s, list_similarity_s, list_crossentropy_s, list_r2_ns, list_rmse_ns, list_similarity_ns, list_crossentropy_ns = analysis_results(list_solutions_spatial_01, list_solutions_no_spatial_01, rho=0.1) "
   ]
  },
  {
   "cell_type": "code",
   "execution_count": 215,
   "metadata": {},
   "outputs": [
    {
     "name": "stdout",
     "output_type": "stream",
     "text": [
      "DIRICHLET no spatial\n",
      "R2 0.9955 ( 0.0 )\n",
      "RMSE 0.0181 ( 0.0 )\n",
      "Crossentropy 0.5881 ( 0.0001 )\n",
      "Cos similarity 0.999 ( 0.0 )\n",
      "---\n",
      "DIRICHLET spatial\n",
      "R2 0.999 ( 0.0 )\n",
      "RMSE 0.0072 ( 0.0 )\n",
      "Crossentropy 0.5866 ( 0.0001 )\n",
      "Cos similarity 0.9999 ( 0.0 )\n"
     ]
    }
   ],
   "source": [
    "print(\"DIRICHLET no spatial\")\n",
    "print('R2', np.round(np.mean(list_r2_ns[2]),4), '(', np.round(np.var(list_r2_ns[2]),4), ')')\n",
    "print('RMSE', np.round(np.mean(list_rmse_ns[2]),4), '(', np.round(np.var(list_rmse_ns[2]),4), ')')\n",
    "print('Crossentropy', np.round(np.mean(list_crossentropy_ns[2]),4), '(', np.round(np.var(list_crossentropy_ns[2]),4), ')')\n",
    "print('Cos similarity', np.round(np.mean(list_similarity_ns[2]),4), '(', np.round(np.var(list_similarity_ns[2]),4), ')')\n",
    "print(\"---\\nDIRICHLET spatial\")\n",
    "print('R2', np.round(np.mean(list_r2_s[2]),4), '(', np.round(np.var(list_r2_s[2]),4), ')')\n",
    "print('RMSE', np.round(np.mean(list_rmse_s[2]),4), '(', np.round(np.var(list_rmse_s[2]),4), ')')\n",
    "print('Crossentropy', np.round(np.mean(list_crossentropy_s[2]),4), '(', np.round(np.var(list_crossentropy_s[2]),4), ')')\n",
    "print('Cos similarity', np.round(np.mean(list_similarity_s[2]),4), '(', np.round(np.var(list_similarity_s[2]),4), ')')"
   ]
  },
  {
   "cell_type": "code",
   "execution_count": 216,
   "metadata": {},
   "outputs": [
    {
     "name": "stdout",
     "output_type": "stream",
     "text": [
      "Wall time: 9.17 s\n"
     ]
    }
   ],
   "source": [
    "%%time\n",
    "list_r2_s, list_rmse_s, list_similarity_s, list_crossentropy_s, list_r2_ns, list_rmse_ns, list_similarity_ns, list_crossentropy_ns = analysis_results(list_solutions_ce_spatial_01, list_solutions_ce_no_spatial_01, rho=0.1)"
   ]
  },
  {
   "cell_type": "code",
   "execution_count": 217,
   "metadata": {},
   "outputs": [
    {
     "name": "stdout",
     "output_type": "stream",
     "text": [
      "CROSSENTROPY no spatial\n",
      "R2 0.9955 ( 0.0 )\n",
      "RMSE 0.0179 ( 0.0 )\n",
      "Crossentropy 0.588 ( 0.0001 )\n",
      "Cos similarity 0.9991 ( 0.0 )\n",
      "---\n",
      "CROSSENTROPY spatial\n",
      "R2 0.999 ( 0.0 )\n",
      "RMSE 0.0071 ( 0.0 )\n",
      "Crossentropy 0.5866 ( 0.0001 )\n",
      "Cos similarity 0.9999 ( 0.0 )\n"
     ]
    }
   ],
   "source": [
    "print(\"CROSSENTROPY no spatial\")\n",
    "print('R2', np.round(np.mean(list_r2_ns[2]),4), '(', np.round(np.var(list_r2_ns[2]),4), ')')\n",
    "print('RMSE', np.round(np.mean(list_rmse_ns[2]),4), '(', np.round(np.var(list_rmse_ns[2]),4), ')')\n",
    "print('Crossentropy', np.round(np.mean(list_crossentropy_ns[2]),4), '(', np.round(np.var(list_crossentropy_ns[2]),4), ')')\n",
    "print('Cos similarity', np.round(np.mean(list_similarity_ns[2]),4), '(', np.round(np.var(list_similarity_ns[2]),4), ')')\n",
    "print(\"---\\nCROSSENTROPY spatial\")\n",
    "print('R2', np.round(np.mean(list_r2_s[2]),4), '(', np.round(np.var(list_r2_s[2]),4), ')')\n",
    "print('RMSE', np.round(np.mean(list_rmse_s[2]),4), '(', np.round(np.var(list_rmse_s[2]),4), ')')\n",
    "print('Crossentropy', np.round(np.mean(list_crossentropy_s[2]),4), '(', np.round(np.var(list_crossentropy_s[2]),4), ')')\n",
    "print('Cos similarity', np.round(np.mean(list_similarity_s[2]),4), '(', np.round(np.var(list_similarity_s[2]),4), ')')"
   ]
  },
  {
   "cell_type": "markdown",
   "metadata": {},
   "source": [
    "## rho=0.5"
   ]
  },
  {
   "cell_type": "code",
   "execution_count": 34,
   "metadata": {},
   "outputs": [
    {
     "name": "stdout",
     "output_type": "stream",
     "text": [
      "Wall time: 21.8 s\n"
     ]
    }
   ],
   "source": [
    "%%time\n",
    "list_r2_s, list_rmse_s, list_similarity_s, list_crossentropy_s, list_rmse_a_s, list_r2_ns, list_rmse_ns, list_similarity_ns, list_crossentropy_ns, list_rmse_a_ns = analysis_results(list_solutions_spatial_05, list_solutions_no_spatial_05, rho=0.5) "
   ]
  },
  {
   "cell_type": "code",
   "execution_count": 35,
   "metadata": {},
   "outputs": [
    {
     "name": "stdout",
     "output_type": "stream",
     "text": [
      "DIRICHLET no spatial\n",
      "R2 0.8399 ( 0.0001 )\n",
      "RMSE 0.1138 ( 0.0 )\n",
      "Crossentropy 0.6303 ( 0.0001 )\n",
      "Cos similarity 0.9669 ( 0.0 )\n",
      "RMSE_A 1.2294 ( 0.0035 )\n",
      "---\n",
      "DIRICHLET spatial\n",
      "R2 0.9958 ( 0.0002 )\n",
      "RMSE 0.0098 ( 0.0001 )\n",
      "Crossentropy 0.5564 ( 0.0002 )\n",
      "Cos similarity 0.9994 ( 0.0 )\n",
      "RMSE_A 0.3738 ( 0.0131 )\n"
     ]
    }
   ],
   "source": [
    "print(\"DIRICHLET no spatial\")\n",
    "print('R2', np.round(np.mean(list_r2_ns[2]),4), '(', np.round(np.var(list_r2_ns[2]),4), ')')\n",
    "print('RMSE', np.round(np.mean(list_rmse_ns[2]),4), '(', np.round(np.var(list_rmse_ns[2]),4), ')')\n",
    "print('Crossentropy', np.round(np.mean(list_crossentropy_ns[2]),4), '(', np.round(np.var(list_crossentropy_ns[2]),4), ')')\n",
    "print('Cos similarity', np.round(np.mean(list_similarity_ns[2]),4), '(', np.round(np.var(list_similarity_ns[2]),4), ')')\n",
    "print('RMSE_A', np.round(np.mean(list_rmse_a_ns[2]),4), '(', np.round(np.var(list_rmse_a_ns[2]),4), ')')\n",
    "print(\"---\\nDIRICHLET spatial\")\n",
    "print('R2', np.round(np.mean(list_r2_s[2]),4), '(', np.round(np.var(list_r2_s[2]),4), ')')\n",
    "print('RMSE', np.round(np.mean(list_rmse_s[2]),4), '(', np.round(np.var(list_rmse_s[2]),4), ')')\n",
    "print('Crossentropy', np.round(np.mean(list_crossentropy_s[2]),4), '(', np.round(np.var(list_crossentropy_s[2]),4), ')')\n",
    "print('Cos similarity', np.round(np.mean(list_similarity_s[2]),4), '(', np.round(np.var(list_similarity_s[2]),4), ')')\n",
    "print('RMSE_A', np.round(np.mean(list_rmse_a_s[2]),4), '(', np.round(np.var(list_rmse_a_s[2]),4), ')')"
   ]
  },
  {
   "cell_type": "code",
   "execution_count": 36,
   "metadata": {},
   "outputs": [],
   "source": [
    "list_r2_s, list_rmse_s, list_similarity_s, list_crossentropy_s, list_rmse_a_s, list_r2_ns, list_rmse_ns, list_similarity_ns, list_crossentropy_ns, list_rmse_a_ns = analysis_results(list_solutions_ce_spatial_05, list_solutions_ce_no_spatial_05, rho=0.5)"
   ]
  },
  {
   "cell_type": "code",
   "execution_count": 37,
   "metadata": {},
   "outputs": [
    {
     "name": "stdout",
     "output_type": "stream",
     "text": [
      "CROSSENTROPY no spatial\n",
      "R2 0.865 ( 0.0001 )\n",
      "RMSE 0.1059 ( 0.0 )\n",
      "Crossentropy 0.6166 ( 0.0001 )\n",
      "Cos similarity 0.9686 ( 0.0 )\n",
      "RMSE_A 0.9236 ( 0.002 )\n",
      "---\n",
      "CROSSENTROPY spatial\n",
      "R2 0.9991 ( 0.0 )\n",
      "RMSE 0.0072 ( 0.0 )\n",
      "Crossentropy 0.5553 ( 0.0002 )\n",
      "Cos similarity 0.9999 ( 0.0 )\n",
      "RMSE_A 0.3521 ( 0.0011 )\n"
     ]
    }
   ],
   "source": [
    "print(\"CROSSENTROPY no spatial\")\n",
    "print('R2', np.round(np.mean(list_r2_ns[2]),4), '(', np.round(np.var(list_r2_ns[2]),4), ')')\n",
    "print('RMSE', np.round(np.mean(list_rmse_ns[2]),4), '(', np.round(np.var(list_rmse_ns[2]),4), ')')\n",
    "print('Crossentropy', np.round(np.mean(list_crossentropy_ns[2]),4), '(', np.round(np.var(list_crossentropy_ns[2]),4), ')')\n",
    "print('Cos similarity', np.round(np.mean(list_similarity_ns[2]),4), '(', np.round(np.var(list_similarity_ns[2]),4), ')')\n",
    "print('RMSE_A', np.round(np.mean(list_rmse_a_ns[2]),4), '(', np.round(np.var(list_rmse_a_ns[2]),4), ')')\n",
    "print(\"---\\nCROSSENTROPY spatial\")\n",
    "print('R2', np.round(np.mean(list_r2_s[2]),4), '(', np.round(np.var(list_r2_s[2]),4), ')')\n",
    "print('RMSE', np.round(np.mean(list_rmse_s[2]),4), '(', np.round(np.var(list_rmse_s[2]),4), ')')\n",
    "print('Crossentropy', np.round(np.mean(list_crossentropy_s[2]),4), '(', np.round(np.var(list_crossentropy_s[2]),4), ')')\n",
    "print('Cos similarity', np.round(np.mean(list_similarity_s[2]),4), '(', np.round(np.var(list_similarity_s[2]),4), ')')\n",
    "print('RMSE_A', np.round(np.mean(list_rmse_a_s[2]),4), '(', np.round(np.var(list_rmse_a_s[2]),4), ')')"
   ]
  },
  {
   "cell_type": "code",
   "execution_count": 218,
   "metadata": {},
   "outputs": [
    {
     "name": "stdout",
     "output_type": "stream",
     "text": [
      "Wall time: 9.04 s\n"
     ]
    }
   ],
   "source": [
    "%%time\n",
    "list_r2_s, list_rmse_s, list_similarity_s, list_crossentropy_s, list_r2_ns, list_rmse_ns, list_similarity_ns, list_crossentropy_ns = analysis_results(list_solutions_spatial_05, list_solutions_no_spatial_05, rho=0.5) "
   ]
  },
  {
   "cell_type": "code",
   "execution_count": 219,
   "metadata": {},
   "outputs": [
    {
     "name": "stdout",
     "output_type": "stream",
     "text": [
      "DIRICHLET no spatial\n",
      "R2 0.84 ( 0.0001 )\n",
      "RMSE 0.1138 ( 0.0 )\n",
      "Crossentropy 0.6303 ( 0.0001 )\n",
      "Cos similarity 0.9669 ( 0.0 )\n",
      "---\n",
      "DIRICHLET spatial\n",
      "R2 0.9958 ( 0.0002 )\n",
      "RMSE 0.0098 ( 0.0001 )\n",
      "Crossentropy 0.5565 ( 0.0002 )\n",
      "Cos similarity 0.9994 ( 0.0 )\n"
     ]
    }
   ],
   "source": [
    "print(\"DIRICHLET no spatial\")\n",
    "print('R2', np.round(np.mean(list_r2_ns[2]),4), '(', np.round(np.var(list_r2_ns[2]),4), ')')\n",
    "print('RMSE', np.round(np.mean(list_rmse_ns[2]),4), '(', np.round(np.var(list_rmse_ns[2]),4), ')')\n",
    "print('Crossentropy', np.round(np.mean(list_crossentropy_ns[2]),4), '(', np.round(np.var(list_crossentropy_ns[2]),4), ')')\n",
    "print('Cos similarity', np.round(np.mean(list_similarity_ns[2]),4), '(', np.round(np.var(list_similarity_ns[2]),4), ')')\n",
    "print(\"---\\nDIRICHLET spatial\")\n",
    "print('R2', np.round(np.mean(list_r2_s[2]),4), '(', np.round(np.var(list_r2_s[2]),4), ')')\n",
    "print('RMSE', np.round(np.mean(list_rmse_s[2]),4), '(', np.round(np.var(list_rmse_s[2]),4), ')')\n",
    "print('Crossentropy', np.round(np.mean(list_crossentropy_s[2]),4), '(', np.round(np.var(list_crossentropy_s[2]),4), ')')\n",
    "print('Cos similarity', np.round(np.mean(list_similarity_s[2]),4), '(', np.round(np.var(list_similarity_s[2]),4), ')')"
   ]
  },
  {
   "cell_type": "code",
   "execution_count": 220,
   "metadata": {},
   "outputs": [],
   "source": [
    "list_r2_s, list_rmse_s, list_similarity_s, list_crossentropy_s, list_r2_ns, list_rmse_ns, list_similarity_ns, list_crossentropy_ns = analysis_results(list_solutions_ce_spatial_05, list_solutions_ce_no_spatial_05, rho=0.5)"
   ]
  },
  {
   "cell_type": "code",
   "execution_count": 221,
   "metadata": {},
   "outputs": [
    {
     "name": "stdout",
     "output_type": "stream",
     "text": [
      "CROSSENTROPY no spatial\n",
      "R2 0.865 ( 0.0001 )\n",
      "RMSE 0.1059 ( 0.0 )\n",
      "Crossentropy 0.6166 ( 0.0001 )\n",
      "Cos similarity 0.9686 ( 0.0 )\n",
      "---\n",
      "CROSSENTROPY spatial\n",
      "R2 0.9991 ( 0.0 )\n",
      "RMSE 0.0072 ( 0.0 )\n",
      "Crossentropy 0.5553 ( 0.0002 )\n",
      "Cos similarity 0.9999 ( 0.0 )\n"
     ]
    }
   ],
   "source": [
    "print(\"CROSSENTROPY no spatial\")\n",
    "print('R2', np.round(np.mean(list_r2_ns[2]),4), '(', np.round(np.var(list_r2_ns[2]),4), ')')\n",
    "print('RMSE', np.round(np.mean(list_rmse_ns[2]),4), '(', np.round(np.var(list_rmse_ns[2]),4), ')')\n",
    "print('Crossentropy', np.round(np.mean(list_crossentropy_ns[2]),4), '(', np.round(np.var(list_crossentropy_ns[2]),4), ')')\n",
    "print('Cos similarity', np.round(np.mean(list_similarity_ns[2]),4), '(', np.round(np.var(list_similarity_ns[2]),4), ')')\n",
    "print(\"---\\nCROSSENTROPY spatial\")\n",
    "print('R2', np.round(np.mean(list_r2_s[2]),4), '(', np.round(np.var(list_r2_s[2]),4), ')')\n",
    "print('RMSE', np.round(np.mean(list_rmse_s[2]),4), '(', np.round(np.var(list_rmse_s[2]),4), ')')\n",
    "print('Crossentropy', np.round(np.mean(list_crossentropy_s[2]),4), '(', np.round(np.var(list_crossentropy_s[2]),4), ')')\n",
    "print('Cos similarity', np.round(np.mean(list_similarity_s[2]),4), '(', np.round(np.var(list_similarity_s[2]),4), ')')"
   ]
  },
  {
   "cell_type": "markdown",
   "metadata": {},
   "source": [
    "## rho=0.9"
   ]
  },
  {
   "cell_type": "code",
   "execution_count": 29,
   "metadata": {},
   "outputs": [
    {
     "name": "stdout",
     "output_type": "stream",
     "text": [
      "Wall time: 10.2 s\n"
     ]
    }
   ],
   "source": [
    "%%time\n",
    "list_r2_s, list_rmse_s, list_similarity_s, list_crossentropy_s, list_rmse_a_s, list_r2_ns, list_rmse_ns, list_similarity_ns, list_crossentropy_ns, list_rmse_a_ns = analysis_results(list_solutions_spatial_09, list_solutions_no_spatial_09, rho=0.9) "
   ]
  },
  {
   "cell_type": "code",
   "execution_count": 30,
   "metadata": {},
   "outputs": [
    {
     "name": "stdout",
     "output_type": "stream",
     "text": [
      "DIRICHLET no spatial\n",
      "R2 0.1208 ( 0.0063 )\n",
      "RMSE 0.3245 ( 0.0001 )\n",
      "Crossentropy 0.8872 ( 0.0008 )\n",
      "Cos similarity 0.7777 ( 0.0002 )\n",
      "RMSE_A 4.0079 ( 0.0205 )\n",
      "---\n",
      "DIRICHLET spatial\n",
      "R2 0.8891 ( 0.0093 )\n",
      "RMSE 0.0871 ( 0.0039 )\n",
      "Crossentropy 0.4109 ( 0.0057 )\n",
      "Cos similarity 0.9784 ( 0.0004 )\n",
      "RMSE_A 2.4673 ( 0.1146 )\n"
     ]
    }
   ],
   "source": [
    "print(\"DIRICHLET no spatial\")\n",
    "print('R2', np.round(np.mean(list_r2_ns[2]),4), '(', np.round(np.var(list_r2_ns[2]),4), ')')\n",
    "print('RMSE', np.round(np.mean(list_rmse_ns[2]),4), '(', np.round(np.var(list_rmse_ns[2]),4), ')')\n",
    "print('Crossentropy', np.round(np.mean(list_crossentropy_ns[2]),4), '(', np.round(np.var(list_crossentropy_ns[2]),4), ')')\n",
    "print('Cos similarity', np.round(np.mean(list_similarity_ns[2]),4), '(', np.round(np.var(list_similarity_ns[2]),4), ')')\n",
    "print('RMSE_A', np.round(np.mean(list_rmse_a_ns[2]),4), '(', np.round(np.var(list_rmse_a_ns[2]),4), ')')\n",
    "\n",
    "print(\"---\\nDIRICHLET spatial\")\n",
    "print('R2', np.round(np.mean(list_r2_s[2]),4), '(', np.round(np.var(list_r2_s[2]),4), ')')\n",
    "print('RMSE', np.round(np.mean(list_rmse_s[2]),4), '(', np.round(np.var(list_rmse_s[2]),4), ')')\n",
    "print('Crossentropy', np.round(np.mean(list_crossentropy_s[2]),4), '(', np.round(np.var(list_crossentropy_s[2]),4), ')')\n",
    "print('Cos similarity', np.round(np.mean(list_similarity_s[2]),4), '(', np.round(np.var(list_similarity_s[2]),4), ')')\n",
    "print('RMSE_A', np.round(np.mean(list_rmse_a_s[2]),4), '(', np.round(np.var(list_rmse_a_s[2]),4), ')')\n"
   ]
  },
  {
   "cell_type": "code",
   "execution_count": 40,
   "metadata": {},
   "outputs": [
    {
     "ename": "ValueError",
     "evalue": "too many values to unpack (expected 8)",
     "output_type": "error",
     "traceback": [
      "\u001b[1;31m---------------------------------------------------------------------------\u001b[0m",
      "\u001b[1;31mValueError\u001b[0m                                Traceback (most recent call last)",
      "\u001b[1;32m<ipython-input-40-004586164df1>\u001b[0m in \u001b[0;36m<module>\u001b[1;34m\u001b[0m\n\u001b[1;32m----> 1\u001b[1;33m \u001b[0mlist_r2_s\u001b[0m\u001b[1;33m,\u001b[0m \u001b[0mlist_rmse_s\u001b[0m\u001b[1;33m,\u001b[0m \u001b[0mlist_similarity_s\u001b[0m\u001b[1;33m,\u001b[0m \u001b[0mlist_crossentropy_s\u001b[0m\u001b[1;33m,\u001b[0m \u001b[0mlist_r2_ns\u001b[0m\u001b[1;33m,\u001b[0m \u001b[0mlist_rmse_ns\u001b[0m\u001b[1;33m,\u001b[0m \u001b[0mlist_similarity_ns\u001b[0m\u001b[1;33m,\u001b[0m \u001b[0mlist_crossentropy_ns\u001b[0m \u001b[1;33m=\u001b[0m \u001b[0manalysis_results\u001b[0m\u001b[1;33m(\u001b[0m\u001b[0mlist_solutions_ce_spatial_09\u001b[0m\u001b[1;33m,\u001b[0m \u001b[0mlist_solutions_ce_no_spatial_09\u001b[0m\u001b[1;33m,\u001b[0m \u001b[0mrho\u001b[0m\u001b[1;33m=\u001b[0m\u001b[1;36m0.9\u001b[0m\u001b[1;33m)\u001b[0m\u001b[1;33m\u001b[0m\u001b[1;33m\u001b[0m\u001b[0m\n\u001b[0m",
      "\u001b[1;31mValueError\u001b[0m: too many values to unpack (expected 8)"
     ]
    }
   ],
   "source": [
    "list_r2_s, list_rmse_s, list_similarity_s, list_crossentropy_s, list_r2_ns, list_rmse_ns, list_similarity_ns, list_crossentropy_ns = analysis_results(list_solutions_ce_spatial_09, list_solutions_ce_no_spatial_09, rho=0.9) "
   ]
  },
  {
   "cell_type": "code",
   "execution_count": null,
   "metadata": {},
   "outputs": [],
   "source": [
    "print(\"CROSSENTROPY no spatial\")\n",
    "print('R2', np.round(np.mean(list_r2_ns[2]),4), '(', np.round(np.var(list_r2_ns[2]),4), ')')\n",
    "print('RMSE', np.round(np.mean(list_rmse_ns[2]),4), '(', np.round(np.var(list_rmse_ns[2]),4), ')')\n",
    "print('Crossentropy', np.round(np.mean(list_crossentropy_ns[2]),4), '(', np.round(np.var(list_crossentropy_ns[2]),4), ')')\n",
    "print('Cos similarity', np.round(np.mean(list_similarity_ns[2]),4), '(', np.round(np.var(list_similarity_ns[2]),4), ')')\n",
    "print('RMSE_A', np.round(np.mean(list_rmse_a_ns[2]),4), '(', np.round(np.var(list_rmse_a_ns[2]),4), ')')\n",
    "\n",
    "print(\"---\\nCROSSENTROPY spatial\")\n",
    "print('R2', np.round(np.mean(list_r2_s[2]),4), '(', np.round(np.var(list_r2_s[2]),4), ')')\n",
    "print('RMSE', np.round(np.mean(list_rmse_s[2]),4), '(', np.round(np.var(list_rmse_s[2]),4), ')')\n",
    "print('Crossentropy', np.round(np.mean(list_crossentropy_s[2]),4), '(', np.round(np.var(list_crossentropy_s[2]),4), ')')\n",
    "print('Cos similarity', np.round(np.mean(list_similarity_s[2]),4), '(', np.round(np.var(list_similarity_s[2]),4), ')')\n",
    "print('RMSE_A', np.round(np.mean(list_rmse_a_s[2]),4), '(', np.round(np.var(list_rmse_a_s[2]),4), ')')\n"
   ]
  },
  {
   "cell_type": "code",
   "execution_count": null,
   "metadata": {},
   "outputs": [],
   "source": []
  },
  {
   "cell_type": "code",
   "execution_count": 222,
   "metadata": {},
   "outputs": [
    {
     "name": "stdout",
     "output_type": "stream",
     "text": [
      "Wall time: 7.07 s\n"
     ]
    }
   ],
   "source": [
    "%%time\n",
    "list_r2_s2, list_r2_ns2, list_true_mu, list_mu_s, list_mu_ns = details_r2_mu(list_solutions_spatial_09, list_solutions_no_spatial_09, rho=0.9) "
   ]
  },
  {
   "cell_type": "code",
   "execution_count": 31,
   "metadata": {},
   "outputs": [
    {
     "name": "stdout",
     "output_type": "stream",
     "text": [
      "Wall time: 9.31 s\n"
     ]
    }
   ],
   "source": [
    "%%time\n",
    "list_r2_s, list_rmse_s, list_similarity_s, list_crossentropy_s, list_r2_ns, list_rmse_ns, list_similarity_ns, list_crossentropy_ns = analysis_results(list_solutions_spatial_09, list_solutions_no_spatial_09, rho=0.9) "
   ]
  },
  {
   "cell_type": "code",
   "execution_count": 225,
   "metadata": {},
   "outputs": [
    {
     "name": "stdout",
     "output_type": "stream",
     "text": [
      "DIRICHLET no spatial\n",
      "R2 0.1207 ( 0.0063 )\n",
      "RMSE 0.3245 ( 0.0001 )\n",
      "Crossentropy 0.8872 ( 0.0008 )\n",
      "Cos similarity 0.7777 ( 0.0002 )\n",
      "---\n",
      "DIRICHLET spatial\n",
      "R2 0.8891 ( 0.0093 )\n",
      "RMSE 0.087 ( 0.0039 )\n",
      "Crossentropy 0.4108 ( 0.0057 )\n",
      "Cos similarity 0.9784 ( 0.0004 )\n"
     ]
    }
   ],
   "source": [
    "print(\"DIRICHLET no spatial\")\n",
    "print('R2', np.round(np.mean(list_r2_ns[2]),4), '(', np.round(np.var(list_r2_ns[2]),4), ')')\n",
    "print('RMSE', np.round(np.mean(list_rmse_ns[2]),4), '(', np.round(np.var(list_rmse_ns[2]),4), ')')\n",
    "print('Crossentropy', np.round(np.mean(list_crossentropy_ns[2]),4), '(', np.round(np.var(list_crossentropy_ns[2]),4), ')')\n",
    "print('Cos similarity', np.round(np.mean(list_similarity_ns[2]),4), '(', np.round(np.var(list_similarity_ns[2]),4), ')')\n",
    "print(\"---\\nDIRICHLET spatial\")\n",
    "print('R2', np.round(np.mean(list_r2_s[2]),4), '(', np.round(np.var(list_r2_s[2]),4), ')')\n",
    "print('RMSE', np.round(np.mean(list_rmse_s[2]),4), '(', np.round(np.var(list_rmse_s[2]),4), ')')\n",
    "print('Crossentropy', np.round(np.mean(list_crossentropy_s[2]),4), '(', np.round(np.var(list_crossentropy_s[2]),4), ')')\n",
    "print('Cos similarity', np.round(np.mean(list_similarity_s[2]),4), '(', np.round(np.var(list_similarity_s[2]),4), ')')"
   ]
  },
  {
   "cell_type": "code",
   "execution_count": 32,
   "metadata": {},
   "outputs": [],
   "source": [
    "list_r2_s, list_rmse_s, list_similarity_s, list_crossentropy_s, list_rmse_a_s, list_r2_ns, list_rmse_ns, list_similarity_ns, list_crossentropy_ns, list_rmse_a_ns = analysis_results(list_solutions_ce_spatial_09, list_solutions_ce_no_spatial_09, rho=0.9) "
   ]
  },
  {
   "cell_type": "code",
   "execution_count": 34,
   "metadata": {},
   "outputs": [
    {
     "name": "stdout",
     "output_type": "stream",
     "text": [
      "CROSSENTROPY no spatial\n",
      "R2 0.2382 ( 0.0027 )\n",
      "RMSE 0.3057 ( 0.0002 )\n",
      "Crossentropy 0.8307 ( 0.0023 )\n",
      "Cos similarity 0.792 ( 0.0004 )\n",
      "RMSE_A 3.7639 ( 0.0213 )\n",
      "---\n",
      "CROSSENTROPY spatial\n",
      "R2 0.9996 ( 0.0 )\n",
      "RMSE 0.0059 ( 0.0 )\n",
      "Crossentropy 0.3312 ( 0.0008 )\n",
      "Cos similarity 0.9999 ( 0.0 )\n",
      "RMSE_A 2.3476 ( 0.1366 )\n"
     ]
    }
   ],
   "source": [
    "print(\"CROSSENTROPY no spatial\")\n",
    "print('R2', np.round(np.mean(list_r2_ns[2]),4), '(', np.round(np.var(list_r2_ns[2]),4), ')')\n",
    "print('RMSE', np.round(np.mean(list_rmse_ns[2]),4), '(', np.round(np.var(list_rmse_ns[2]),4), ')')\n",
    "print('Crossentropy', np.round(np.mean(list_crossentropy_ns[2]),4), '(', np.round(np.var(list_crossentropy_ns[2]),4), ')')\n",
    "print('Cos similarity', np.round(np.mean(list_similarity_ns[2]),4), '(', np.round(np.var(list_similarity_ns[2]),4), ')')\n",
    "print('RMSE_A', np.round(np.mean(list_rmse_a_ns[2]),4), '(', np.round(np.var(list_rmse_a_ns[2]),4), ')')\n",
    "\n",
    "print(\"---\\nCROSSENTROPY spatial\")\n",
    "print('R2', np.round(np.mean(list_r2_s[2]),4), '(', np.round(np.var(list_r2_s[2]),4), ')')\n",
    "print('RMSE', np.round(np.mean(list_rmse_s[2]),4), '(', np.round(np.var(list_rmse_s[2]),4), ')')\n",
    "print('Crossentropy', np.round(np.mean(list_crossentropy_s[2]),4), '(', np.round(np.var(list_crossentropy_s[2]),4), ')')\n",
    "print('Cos similarity', np.round(np.mean(list_similarity_s[2]),4), '(', np.round(np.var(list_similarity_s[2]),4), ')')\n",
    "print('RMSE_A', np.round(np.mean(list_rmse_a_s[2]),4), '(', np.round(np.var(list_rmse_a_s[2]),4), ')')\n"
   ]
  },
  {
   "cell_type": "code",
   "execution_count": 226,
   "metadata": {},
   "outputs": [],
   "source": [
    "list_r2_s, list_rmse_s, list_similarity_s, list_crossentropy_s, list_r2_ns, list_rmse_ns, list_similarity_ns, list_crossentropy_ns = analysis_results(list_solutions_ce_spatial_09, list_solutions_ce_no_spatial_09, rho=0.9) "
   ]
  },
  {
   "cell_type": "code",
   "execution_count": 227,
   "metadata": {},
   "outputs": [
    {
     "name": "stdout",
     "output_type": "stream",
     "text": [
      "CROSSENTROPY no spatial\n",
      "R2 0.2382 ( 0.0027 )\n",
      "RMSE 0.3057 ( 0.0002 )\n",
      "Crossentropy 0.8307 ( 0.0023 )\n",
      "Cos similarity 0.792 ( 0.0004 )\n",
      "---\n",
      "CROSSENTROPY spatial\n",
      "R2 0.9996 ( 0.0 )\n",
      "RMSE 0.0059 ( 0.0 )\n",
      "Crossentropy 0.3312 ( 0.0008 )\n",
      "Cos similarity 0.9999 ( 0.0 )\n"
     ]
    }
   ],
   "source": [
    "print(\"CROSSENTROPY no spatial\")\n",
    "print('R2', np.round(np.mean(list_r2_ns[2]),4), '(', np.round(np.var(list_r2_ns[2]),4), ')')\n",
    "print('RMSE', np.round(np.mean(list_rmse_ns[2]),4), '(', np.round(np.var(list_rmse_ns[2]),4), ')')\n",
    "print('Crossentropy', np.round(np.mean(list_crossentropy_ns[2]),4), '(', np.round(np.var(list_crossentropy_ns[2]),4), ')')\n",
    "print('Cos similarity', np.round(np.mean(list_similarity_ns[2]),4), '(', np.round(np.var(list_similarity_ns[2]),4), ')')\n",
    "print(\"---\\nCROSSENTROPY spatial\")\n",
    "print('R2', np.round(np.mean(list_r2_s[2]),4), '(', np.round(np.var(list_r2_s[2]),4), ')')\n",
    "print('RMSE', np.round(np.mean(list_rmse_s[2]),4), '(', np.round(np.var(list_rmse_s[2]),4), ')')\n",
    "print('Crossentropy', np.round(np.mean(list_crossentropy_s[2]),4), '(', np.round(np.var(list_crossentropy_s[2]),4), ')')\n",
    "print('Cos similarity', np.round(np.mean(list_similarity_s[2]),4), '(', np.round(np.var(list_similarity_s[2]),4), ')')"
   ]
  },
  {
   "cell_type": "code",
   "execution_count": null,
   "metadata": {},
   "outputs": [],
   "source": []
  }
 ],
 "metadata": {
  "kernelspec": {
   "display_name": "Python 3",
   "language": "python",
   "name": "python3"
  },
  "language_info": {
   "codemirror_mode": {
    "name": "ipython",
    "version": 3
   },
   "file_extension": ".py",
   "mimetype": "text/x-python",
   "name": "python",
   "nbconvert_exporter": "python",
   "pygments_lexer": "ipython3",
   "version": "3.8.5"
  }
 },
 "nbformat": 4,
 "nbformat_minor": 4
}
