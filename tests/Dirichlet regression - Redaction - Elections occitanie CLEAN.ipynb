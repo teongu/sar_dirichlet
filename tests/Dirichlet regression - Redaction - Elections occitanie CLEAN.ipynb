{
 "cells": [
  {
   "cell_type": "markdown",
   "metadata": {},
   "source": [
    "# Importing the packages and data"
   ]
  },
  {
   "cell_type": "code",
   "execution_count": 1,
   "metadata": {},
   "outputs": [],
   "source": [
    "%load_ext autoreload\n",
    "%autoreload 2"
   ]
  },
  {
   "cell_type": "code",
   "execution_count": 2,
   "metadata": {},
   "outputs": [],
   "source": [
    "import numpy as np\n",
    "import pandas as pd\n",
    "import matplotlib.pyplot as plt\n",
    "from mpl_toolkits import mplot3d\n",
    "import scipy\n",
    "from sklearn.metrics import r2_score\n",
    "from sklearn.metrics import mean_squared_error\n",
    "from scipy.special import gamma, digamma, polygamma\n",
    "import math\n",
    "\n",
    "from sklearn.neighbors import NearestNeighbors\n",
    "from sklearn.model_selection import train_test_split\n",
    "from sklearn.model_selection import KFold\n",
    "import random\n",
    "\n",
    "import scipy.optimize\n",
    "from scipy.stats import ttest_ind\n",
    "from scipy.optimize import Bounds\n",
    "from sklearn.preprocessing import StandardScaler\n",
    "\n",
    "from prettytable import PrettyTable"
   ]
  },
  {
   "cell_type": "code",
   "execution_count": 3,
   "metadata": {},
   "outputs": [],
   "source": [
    "import multiprocessing"
   ]
  },
  {
   "cell_type": "code",
   "execution_count": 4,
   "metadata": {},
   "outputs": [
    {
     "data": {
      "text/plain": [
       "8"
      ]
     },
     "execution_count": 4,
     "metadata": {},
     "output_type": "execute_result"
    }
   ],
   "source": [
    "multiprocessing.cpu_count()"
   ]
  },
  {
   "cell_type": "code",
   "execution_count": 5,
   "metadata": {},
   "outputs": [],
   "source": [
    "import dirichlet_regression"
   ]
  },
  {
   "cell_type": "code",
   "execution_count": 77,
   "metadata": {},
   "outputs": [
    {
     "data": {
      "text/plain": [
       "'1.4.1'"
      ]
     },
     "execution_count": 77,
     "metadata": {},
     "output_type": "execute_result"
    }
   ],
   "source": [
    "# sur mon ordi perso:\n",
    "scipy.__version__"
   ]
  },
  {
   "cell_type": "code",
   "execution_count": 6,
   "metadata": {},
   "outputs": [],
   "source": [
    "def cos_similarity(x1,x2):\n",
    "    return(np.mean([np.dot(x1[i],x2[i])/(np.linalg.norm(x1[i])*np.linalg.norm(x2[i])) for i in range(len(x1))]))"
   ]
  },
  {
   "cell_type": "markdown",
   "metadata": {},
   "source": [
    "# Loading Dataset"
   ]
  },
  {
   "cell_type": "code",
   "execution_count": 7,
   "metadata": {
    "scrolled": true
   },
   "outputs": [],
   "source": [
    "Y_occitanie = pd.read_csv('Data Dirichlet/occitanie/Y_occitanie.csv', sep=';')"
   ]
  },
  {
   "cell_type": "code",
   "execution_count": 8,
   "metadata": {},
   "outputs": [],
   "source": [
    "X_occitanie = pd.read_csv('Data Dirichlet/occitanie/X_occitanie.csv', sep=';')"
   ]
  },
  {
   "cell_type": "code",
   "execution_count": 9,
   "metadata": {},
   "outputs": [],
   "source": [
    "X_occitanie = X_occitanie.iloc[:,1:]\n",
    "X_occitanie = X_occitanie.iloc[:,:-1]"
   ]
  },
  {
   "cell_type": "code",
   "execution_count": 10,
   "metadata": {},
   "outputs": [],
   "source": [
    "coordinates = pd.read_csv('Data Dirichlet/occitanie/coordinates_cendroids.csv', sep=';')\n",
    "distance_matrix = scipy.spatial.distance_matrix(coordinates,coordinates)"
   ]
  },
  {
   "cell_type": "code",
   "execution_count": 76,
   "metadata": {},
   "outputs": [
    {
     "data": {
      "text/html": [
       "<div>\n",
       "<style scoped>\n",
       "    .dataframe tbody tr th:only-of-type {\n",
       "        vertical-align: middle;\n",
       "    }\n",
       "\n",
       "    .dataframe tbody tr th {\n",
       "        vertical-align: top;\n",
       "    }\n",
       "\n",
       "    .dataframe thead th {\n",
       "        text-align: right;\n",
       "    }\n",
       "</style>\n",
       "<table border=\"1\" class=\"dataframe\">\n",
       "  <thead>\n",
       "    <tr style=\"text-align: right;\">\n",
       "      <th></th>\n",
       "      <th>POP</th>\n",
       "      <th>age_mineur</th>\n",
       "      <th>age_1824</th>\n",
       "      <th>age_2540</th>\n",
       "      <th>age_4055</th>\n",
       "      <th>age_5564</th>\n",
       "      <th>age_65</th>\n",
       "      <th>PIMP13</th>\n",
       "      <th>MED13</th>\n",
       "      <th>NBMENFISC13</th>\n",
       "      <th>...</th>\n",
       "      <th>P14_RP</th>\n",
       "      <th>no_diplom</th>\n",
       "      <th>capbep</th>\n",
       "      <th>bac</th>\n",
       "      <th>diplom_sup</th>\n",
       "      <th>french</th>\n",
       "      <th>foreign</th>\n",
       "      <th>unemp_rate</th>\n",
       "      <th>employ_evol</th>\n",
       "      <th>owner_rate</th>\n",
       "    </tr>\n",
       "  </thead>\n",
       "  <tbody>\n",
       "    <tr>\n",
       "      <th>0</th>\n",
       "      <td>10686.00000</td>\n",
       "      <td>1745.432828</td>\n",
       "      <td>633.702526</td>\n",
       "      <td>1519.569182</td>\n",
       "      <td>2022.546303</td>\n",
       "      <td>1637.837488</td>\n",
       "      <td>3126.911673</td>\n",
       "      <td>1534.935651</td>\n",
       "      <td>17225.92056</td>\n",
       "      <td>3281.000000</td>\n",
       "      <td>...</td>\n",
       "      <td>5500.369754</td>\n",
       "      <td>3084.717115</td>\n",
       "      <td>2060.336850</td>\n",
       "      <td>1491.085449</td>\n",
       "      <td>1959.678274</td>\n",
       "      <td>10175.94126</td>\n",
       "      <td>510.058743</td>\n",
       "      <td>0.146153</td>\n",
       "      <td>-1.069783</td>\n",
       "      <td>0.613769</td>\n",
       "    </tr>\n",
       "    <tr>\n",
       "      <th>1</th>\n",
       "      <td>13248.00000</td>\n",
       "      <td>2609.587595</td>\n",
       "      <td>629.992708</td>\n",
       "      <td>1880.992367</td>\n",
       "      <td>2713.380702</td>\n",
       "      <td>2161.124558</td>\n",
       "      <td>3252.922069</td>\n",
       "      <td>1114.436913</td>\n",
       "      <td>16809.71966</td>\n",
       "      <td>2669.000000</td>\n",
       "      <td>...</td>\n",
       "      <td>6097.677242</td>\n",
       "      <td>3744.620133</td>\n",
       "      <td>2624.381082</td>\n",
       "      <td>1815.069962</td>\n",
       "      <td>2178.892325</td>\n",
       "      <td>12472.42430</td>\n",
       "      <td>775.575696</td>\n",
       "      <td>0.149798</td>\n",
       "      <td>-1.986204</td>\n",
       "      <td>0.700856</td>\n",
       "    </tr>\n",
       "    <tr>\n",
       "      <th>2</th>\n",
       "      <td>13304.00000</td>\n",
       "      <td>3212.791456</td>\n",
       "      <td>779.945838</td>\n",
       "      <td>2402.657503</td>\n",
       "      <td>2871.416012</td>\n",
       "      <td>1518.065046</td>\n",
       "      <td>2519.124145</td>\n",
       "      <td>1621.879453</td>\n",
       "      <td>18847.56366</td>\n",
       "      <td>3449.000000</td>\n",
       "      <td>...</td>\n",
       "      <td>5584.441924</td>\n",
       "      <td>3092.683829</td>\n",
       "      <td>2659.588509</td>\n",
       "      <td>1821.080501</td>\n",
       "      <td>2154.021975</td>\n",
       "      <td>12857.59935</td>\n",
       "      <td>446.400655</td>\n",
       "      <td>0.119585</td>\n",
       "      <td>0.215514</td>\n",
       "      <td>0.657686</td>\n",
       "    </tr>\n",
       "    <tr>\n",
       "      <th>3</th>\n",
       "      <td>15448.38045</td>\n",
       "      <td>3236.015033</td>\n",
       "      <td>1332.042735</td>\n",
       "      <td>2472.243775</td>\n",
       "      <td>3062.868917</td>\n",
       "      <td>1930.683069</td>\n",
       "      <td>3414.526923</td>\n",
       "      <td>3381.464244</td>\n",
       "      <td>17087.33333</td>\n",
       "      <td>7263.674412</td>\n",
       "      <td>...</td>\n",
       "      <td>7430.553567</td>\n",
       "      <td>3988.595203</td>\n",
       "      <td>2507.078388</td>\n",
       "      <td>2172.484668</td>\n",
       "      <td>2919.694058</td>\n",
       "      <td>14257.99939</td>\n",
       "      <td>1190.381062</td>\n",
       "      <td>0.184913</td>\n",
       "      <td>-0.684689</td>\n",
       "      <td>0.463652</td>\n",
       "    </tr>\n",
       "    <tr>\n",
       "      <th>4</th>\n",
       "      <td>20618.51872</td>\n",
       "      <td>4469.611276</td>\n",
       "      <td>1502.609556</td>\n",
       "      <td>3212.323704</td>\n",
       "      <td>4271.437340</td>\n",
       "      <td>2738.220953</td>\n",
       "      <td>4424.315890</td>\n",
       "      <td>3596.385003</td>\n",
       "      <td>18267.50694</td>\n",
       "      <td>7329.416378</td>\n",
       "      <td>...</td>\n",
       "      <td>9505.163850</td>\n",
       "      <td>4785.628253</td>\n",
       "      <td>3539.881007</td>\n",
       "      <td>2999.019653</td>\n",
       "      <td>4096.806972</td>\n",
       "      <td>19392.86290</td>\n",
       "      <td>1225.655818</td>\n",
       "      <td>0.161466</td>\n",
       "      <td>-0.649563</td>\n",
       "      <td>0.562317</td>\n",
       "    </tr>\n",
       "    <tr>\n",
       "      <th>...</th>\n",
       "      <td>...</td>\n",
       "      <td>...</td>\n",
       "      <td>...</td>\n",
       "      <td>...</td>\n",
       "      <td>...</td>\n",
       "      <td>...</td>\n",
       "      <td>...</td>\n",
       "      <td>...</td>\n",
       "      <td>...</td>\n",
       "      <td>...</td>\n",
       "      <td>...</td>\n",
       "      <td>...</td>\n",
       "      <td>...</td>\n",
       "      <td>...</td>\n",
       "      <td>...</td>\n",
       "      <td>...</td>\n",
       "      <td>...</td>\n",
       "      <td>...</td>\n",
       "      <td>...</td>\n",
       "      <td>...</td>\n",
       "      <td>...</td>\n",
       "    </tr>\n",
       "    <tr>\n",
       "      <th>202</th>\n",
       "      <td>14631.00000</td>\n",
       "      <td>3195.583294</td>\n",
       "      <td>757.466782</td>\n",
       "      <td>2371.208971</td>\n",
       "      <td>3139.218175</td>\n",
       "      <td>2098.865160</td>\n",
       "      <td>3068.657619</td>\n",
       "      <td>606.473438</td>\n",
       "      <td>18890.51048</td>\n",
       "      <td>1281.000000</td>\n",
       "      <td>...</td>\n",
       "      <td>6181.909232</td>\n",
       "      <td>4025.455333</td>\n",
       "      <td>3042.238466</td>\n",
       "      <td>1944.329025</td>\n",
       "      <td>2108.219105</td>\n",
       "      <td>14187.17388</td>\n",
       "      <td>443.826118</td>\n",
       "      <td>0.105342</td>\n",
       "      <td>-0.239769</td>\n",
       "      <td>0.752094</td>\n",
       "    </tr>\n",
       "    <tr>\n",
       "      <th>203</th>\n",
       "      <td>13558.00000</td>\n",
       "      <td>2588.237464</td>\n",
       "      <td>577.301835</td>\n",
       "      <td>1746.944956</td>\n",
       "      <td>2768.136801</td>\n",
       "      <td>2158.324794</td>\n",
       "      <td>3719.054149</td>\n",
       "      <td>422.444210</td>\n",
       "      <td>17457.72775</td>\n",
       "      <td>951.000000</td>\n",
       "      <td>...</td>\n",
       "      <td>6112.864148</td>\n",
       "      <td>3769.506710</td>\n",
       "      <td>2844.033122</td>\n",
       "      <td>1912.696566</td>\n",
       "      <td>2222.628774</td>\n",
       "      <td>12573.17884</td>\n",
       "      <td>984.821162</td>\n",
       "      <td>0.118216</td>\n",
       "      <td>0.014046</td>\n",
       "      <td>0.755715</td>\n",
       "    </tr>\n",
       "    <tr>\n",
       "      <th>204</th>\n",
       "      <td>18862.00000</td>\n",
       "      <td>4648.579189</td>\n",
       "      <td>977.759331</td>\n",
       "      <td>3311.970574</td>\n",
       "      <td>4315.356878</td>\n",
       "      <td>2403.994498</td>\n",
       "      <td>3204.339530</td>\n",
       "      <td>697.987952</td>\n",
       "      <td>19849.47189</td>\n",
       "      <td>1413.000000</td>\n",
       "      <td>...</td>\n",
       "      <td>7438.455341</td>\n",
       "      <td>4130.059689</td>\n",
       "      <td>3772.243391</td>\n",
       "      <td>2526.645881</td>\n",
       "      <td>3347.924377</td>\n",
       "      <td>18149.95052</td>\n",
       "      <td>712.049477</td>\n",
       "      <td>0.110703</td>\n",
       "      <td>0.979463</td>\n",
       "      <td>0.768029</td>\n",
       "    </tr>\n",
       "    <tr>\n",
       "      <th>205</th>\n",
       "      <td>13364.00000</td>\n",
       "      <td>2627.010920</td>\n",
       "      <td>834.264654</td>\n",
       "      <td>1990.070382</td>\n",
       "      <td>2757.346600</td>\n",
       "      <td>1930.498564</td>\n",
       "      <td>3224.808880</td>\n",
       "      <td>1009.300645</td>\n",
       "      <td>17756.25360</td>\n",
       "      <td>2328.000000</td>\n",
       "      <td>...</td>\n",
       "      <td>5959.795988</td>\n",
       "      <td>4304.060809</td>\n",
       "      <td>2769.575874</td>\n",
       "      <td>1609.658404</td>\n",
       "      <td>1751.410833</td>\n",
       "      <td>12536.14180</td>\n",
       "      <td>827.858196</td>\n",
       "      <td>0.141431</td>\n",
       "      <td>0.630300</td>\n",
       "      <td>0.647832</td>\n",
       "    </tr>\n",
       "    <tr>\n",
       "      <th>206</th>\n",
       "      <td>19572.00000</td>\n",
       "      <td>5117.616873</td>\n",
       "      <td>1036.370049</td>\n",
       "      <td>4160.177978</td>\n",
       "      <td>4111.617306</td>\n",
       "      <td>2123.927862</td>\n",
       "      <td>3022.289932</td>\n",
       "      <td>1830.075282</td>\n",
       "      <td>20314.04929</td>\n",
       "      <td>3608.000000</td>\n",
       "      <td>...</td>\n",
       "      <td>7808.796375</td>\n",
       "      <td>4048.813578</td>\n",
       "      <td>3638.556525</td>\n",
       "      <td>2532.409010</td>\n",
       "      <td>3722.044944</td>\n",
       "      <td>18841.83589</td>\n",
       "      <td>730.164114</td>\n",
       "      <td>0.101583</td>\n",
       "      <td>1.045635</td>\n",
       "      <td>0.703086</td>\n",
       "    </tr>\n",
       "  </tbody>\n",
       "</table>\n",
       "<p>207 rows × 25 columns</p>\n",
       "</div>"
      ],
      "text/plain": [
       "             POP   age_mineur     age_1824     age_2540     age_4055  \\\n",
       "0    10686.00000  1745.432828   633.702526  1519.569182  2022.546303   \n",
       "1    13248.00000  2609.587595   629.992708  1880.992367  2713.380702   \n",
       "2    13304.00000  3212.791456   779.945838  2402.657503  2871.416012   \n",
       "3    15448.38045  3236.015033  1332.042735  2472.243775  3062.868917   \n",
       "4    20618.51872  4469.611276  1502.609556  3212.323704  4271.437340   \n",
       "..           ...          ...          ...          ...          ...   \n",
       "202  14631.00000  3195.583294   757.466782  2371.208971  3139.218175   \n",
       "203  13558.00000  2588.237464   577.301835  1746.944956  2768.136801   \n",
       "204  18862.00000  4648.579189   977.759331  3311.970574  4315.356878   \n",
       "205  13364.00000  2627.010920   834.264654  1990.070382  2757.346600   \n",
       "206  19572.00000  5117.616873  1036.370049  4160.177978  4111.617306   \n",
       "\n",
       "        age_5564       age_65       PIMP13        MED13  NBMENFISC13  ...  \\\n",
       "0    1637.837488  3126.911673  1534.935651  17225.92056  3281.000000  ...   \n",
       "1    2161.124558  3252.922069  1114.436913  16809.71966  2669.000000  ...   \n",
       "2    1518.065046  2519.124145  1621.879453  18847.56366  3449.000000  ...   \n",
       "3    1930.683069  3414.526923  3381.464244  17087.33333  7263.674412  ...   \n",
       "4    2738.220953  4424.315890  3596.385003  18267.50694  7329.416378  ...   \n",
       "..           ...          ...          ...          ...          ...  ...   \n",
       "202  2098.865160  3068.657619   606.473438  18890.51048  1281.000000  ...   \n",
       "203  2158.324794  3719.054149   422.444210  17457.72775   951.000000  ...   \n",
       "204  2403.994498  3204.339530   697.987952  19849.47189  1413.000000  ...   \n",
       "205  1930.498564  3224.808880  1009.300645  17756.25360  2328.000000  ...   \n",
       "206  2123.927862  3022.289932  1830.075282  20314.04929  3608.000000  ...   \n",
       "\n",
       "          P14_RP    no_diplom       capbep          bac   diplom_sup  \\\n",
       "0    5500.369754  3084.717115  2060.336850  1491.085449  1959.678274   \n",
       "1    6097.677242  3744.620133  2624.381082  1815.069962  2178.892325   \n",
       "2    5584.441924  3092.683829  2659.588509  1821.080501  2154.021975   \n",
       "3    7430.553567  3988.595203  2507.078388  2172.484668  2919.694058   \n",
       "4    9505.163850  4785.628253  3539.881007  2999.019653  4096.806972   \n",
       "..           ...          ...          ...          ...          ...   \n",
       "202  6181.909232  4025.455333  3042.238466  1944.329025  2108.219105   \n",
       "203  6112.864148  3769.506710  2844.033122  1912.696566  2222.628774   \n",
       "204  7438.455341  4130.059689  3772.243391  2526.645881  3347.924377   \n",
       "205  5959.795988  4304.060809  2769.575874  1609.658404  1751.410833   \n",
       "206  7808.796375  4048.813578  3638.556525  2532.409010  3722.044944   \n",
       "\n",
       "          french      foreign  unemp_rate  employ_evol  owner_rate  \n",
       "0    10175.94126   510.058743    0.146153    -1.069783    0.613769  \n",
       "1    12472.42430   775.575696    0.149798    -1.986204    0.700856  \n",
       "2    12857.59935   446.400655    0.119585     0.215514    0.657686  \n",
       "3    14257.99939  1190.381062    0.184913    -0.684689    0.463652  \n",
       "4    19392.86290  1225.655818    0.161466    -0.649563    0.562317  \n",
       "..           ...          ...         ...          ...         ...  \n",
       "202  14187.17388   443.826118    0.105342    -0.239769    0.752094  \n",
       "203  12573.17884   984.821162    0.118216     0.014046    0.755715  \n",
       "204  18149.95052   712.049477    0.110703     0.979463    0.768029  \n",
       "205  12536.14180   827.858196    0.141431     0.630300    0.647832  \n",
       "206  18841.83589   730.164114    0.101583     1.045635    0.703086  \n",
       "\n",
       "[207 rows x 25 columns]"
      ]
     },
     "execution_count": 76,
     "metadata": {},
     "output_type": "execute_result"
    }
   ],
   "source": [
    "X_occitanie"
   ]
  },
  {
   "cell_type": "markdown",
   "metadata": {},
   "source": [
    "# Performing the Dirichlet regression"
   ]
  },
  {
   "cell_type": "code",
   "execution_count": 11,
   "metadata": {},
   "outputs": [],
   "source": [
    "X = np.array(X_occitanie)\n",
    "Y = np.array(Y_occitanie)"
   ]
  },
  {
   "cell_type": "code",
   "execution_count": 12,
   "metadata": {},
   "outputs": [],
   "source": [
    "Z = np.ones((207,1))\n",
    "gamma_0 = [0.]"
   ]
  },
  {
   "cell_type": "code",
   "execution_count": 13,
   "metadata": {},
   "outputs": [],
   "source": [
    "X = StandardScaler().fit(X).transform(X)"
   ]
  },
  {
   "cell_type": "code",
   "execution_count": 14,
   "metadata": {},
   "outputs": [],
   "source": [
    "n,K = X.shape\n",
    "J = Y.shape[1]"
   ]
  },
  {
   "cell_type": "markdown",
   "metadata": {},
   "source": [
    "## Without spatial"
   ]
  },
  {
   "cell_type": "markdown",
   "metadata": {},
   "source": [
    "### Common parameterization"
   ]
  },
  {
   "cell_type": "code",
   "execution_count": 15,
   "metadata": {},
   "outputs": [
    {
     "name": "stdout",
     "output_type": "stream",
     "text": [
      "Optimization terminated successfully.\n",
      "Wall time: 296 ms\n"
     ]
    }
   ],
   "source": [
    "%%time\n",
    "dirichRegressor = dirichlet_regression.dirichletRegressor()\n",
    "dirichRegressor.fit(X, Y, parametrization='common')"
   ]
  },
  {
   "cell_type": "code",
   "execution_count": 18,
   "metadata": {},
   "outputs": [
    {
     "data": {
      "text/plain": [
       "0.008678573658029709"
      ]
     },
     "execution_count": 18,
     "metadata": {},
     "output_type": "execute_result"
    }
   ],
   "source": [
    "r2_score(Y,dirichRegressor.mu)"
   ]
  },
  {
   "cell_type": "code",
   "execution_count": 19,
   "metadata": {},
   "outputs": [
    {
     "name": "stdout",
     "output_type": "stream",
     "text": [
      "Optimization terminated successfully.\n",
      "Wall time: 91.6 ms\n"
     ]
    }
   ],
   "source": [
    "%%time\n",
    "dirichRegressor = dirichlet_regression.dirichletRegressor()\n",
    "dirichRegressor.fit(X, Y, parametrization='common', regularization=0.001)"
   ]
  },
  {
   "cell_type": "code",
   "execution_count": 20,
   "metadata": {},
   "outputs": [
    {
     "data": {
      "text/plain": [
       "-0.008403176027556136"
      ]
     },
     "execution_count": 20,
     "metadata": {},
     "output_type": "execute_result"
    }
   ],
   "source": [
    "r2_score(Y,dirichRegressor.mu)"
   ]
  },
  {
   "cell_type": "markdown",
   "metadata": {},
   "source": [
    "### Alternative parameterization"
   ]
  },
  {
   "cell_type": "markdown",
   "metadata": {},
   "source": [
    "#### Cross-entropy"
   ]
  },
  {
   "cell_type": "code",
   "execution_count": 16,
   "metadata": {},
   "outputs": [
    {
     "name": "stdout",
     "output_type": "stream",
     "text": [
      "Optimization terminated successfully.\n",
      "Wall time: 233 ms\n"
     ]
    }
   ],
   "source": [
    "%%time\n",
    "dirichRegressor = dirichlet_regression.dirichletRegressor()\n",
    "dirichRegressor.fit(X, Y, parametrization='alternative', gamma_0=gamma_0, Z=Z, loss='crossentropy')"
   ]
  },
  {
   "cell_type": "code",
   "execution_count": 18,
   "metadata": {},
   "outputs": [
    {
     "name": "stdout",
     "output_type": "stream",
     "text": [
      "R2: 0.49389895394975863\n",
      "RMSE: 0.07906618815447364\n",
      "Cross-entropy: -1.0476625611885417\n",
      "Cos similarity: 0.9750492739219436\n"
     ]
    }
   ],
   "source": [
    "print('R2:',r2_score(Y,dirichRegressor.mu))\n",
    "print('RMSE:',mean_squared_error(Y,dirichRegressor.mu,squared=False))\n",
    "print('Cross-entropy:',1/n*np.sum(Y*np.log(dirichRegressor.mu)))\n",
    "print('Cos similarity:',cos_similarity(Y,dirichRegressor.mu))"
   ]
  },
  {
   "cell_type": "markdown",
   "metadata": {},
   "source": [
    "#### Likelihood Dirichlet"
   ]
  },
  {
   "cell_type": "code",
   "execution_count": 26,
   "metadata": {},
   "outputs": [
    {
     "name": "stdout",
     "output_type": "stream",
     "text": [
      "Optimization terminated successfully.\n",
      "Wall time: 78.9 ms\n"
     ]
    }
   ],
   "source": [
    "%%time\n",
    "dirichRegressor = dirichlet_regression.dirichletRegressor()\n",
    "dirichRegressor.fit(X, Y, parametrization='alternative', gamma_0=gamma_0, Z=Z)"
   ]
  },
  {
   "cell_type": "code",
   "execution_count": 27,
   "metadata": {},
   "outputs": [
    {
     "data": {
      "text/plain": [
       "53"
      ]
     },
     "execution_count": 27,
     "metadata": {},
     "output_type": "execute_result"
    }
   ],
   "source": [
    "len(dirichRegressor.beta.flatten())+len(dirichRegressor.gamma.flatten())"
   ]
  },
  {
   "cell_type": "code",
   "execution_count": 28,
   "metadata": {},
   "outputs": [
    {
     "name": "stdout",
     "output_type": "stream",
     "text": [
      "R2: 0.48723045299200196\n",
      "RMSE: 0.07963911610322184\n",
      "Cross-entropy: -1.0480568140980966\n",
      "AIC: -862.1475558633775\n",
      "Cos similarity: 0.9747792063178605\n"
     ]
    }
   ],
   "source": [
    "print('R2:',r2_score(Y,dirichRegressor.mu))\n",
    "print('RMSE:',mean_squared_error(Y,dirichRegressor.mu,squared=False))\n",
    "print('Cross-entropy:',1/n*np.sum(Y*np.log(dirichRegressor.mu)))\n",
    "print('AIC:',-2*dirichlet_regression.dirichlet_loglikelihood(dirichRegressor.mu,dirichRegressor.phi,Y)+2*53)\n",
    "print('Cos similarity:',cos_similarity(Y,dirichRegressor.mu))"
   ]
  },
  {
   "cell_type": "code",
   "execution_count": 29,
   "metadata": {},
   "outputs": [],
   "source": [
    "loglik_ns = dirichlet_regression.dirichlet_loglikelihood(dirichRegressor.mu,dirichRegressor.phi,Y)"
   ]
  },
  {
   "cell_type": "code",
   "execution_count": 57,
   "metadata": {},
   "outputs": [
    {
     "name": "stdout",
     "output_type": "stream",
     "text": [
      "Optimization terminated successfully.\n",
      "Optimization terminated successfully.\n",
      "Optimization terminated successfully.\n",
      "Optimization terminated successfully.\n",
      "Optimization terminated successfully.\n",
      "Optimization terminated successfully.\n",
      "Optimization terminated successfully.\n",
      "Optimization terminated successfully.\n",
      "Optimization terminated successfully.\n",
      "Optimization terminated successfully.\n",
      "Optimization terminated successfully.\n",
      "Optimization terminated successfully.\n",
      "Desired error not necessarily achieved due to precision loss.\n",
      "Wall time: 13.5 s\n"
     ]
    }
   ],
   "source": [
    "%%time\n",
    "l_lambda = [0, 0.0005, 0.001, 0.005, 0.01, 0.02, 0.05, 0.1, 0.15, 0.2, 0.3, 0.4, 0.5]\n",
    "l_r2 = []\n",
    "l_similarity = []\n",
    "for lambda_reg in l_lambda:\n",
    "    reg = dirichlet_regression.dirichletRegressor()\n",
    "    reg.fit(X, Y, parametrization='alternative', gamma_0=gamma_0, Z=Z, regularization=lambda_reg)\n",
    "    l_r2.append(r2_score(Y,reg.mu))\n",
    "    l_similarity.append(cos_similarity(Y,reg.mu))"
   ]
  },
  {
   "cell_type": "code",
   "execution_count": 69,
   "metadata": {},
   "outputs": [
    {
     "data": {
      "image/png": "[encoded data removed]",
      "text/plain": [
       "<Figure size 1200x400 with 2 Axes>"
      ]
     },
     "metadata": {},
     "output_type": "display_data"
    }
   ],
   "source": [
    "fig, ax = plt.subplots(1,2,figsize=(12,4))\n",
    "\n",
    "ax[0].plot(l_lambda[:6], l_r2[:6])\n",
    "ax[0].set_xlabel(\"lambda\")\n",
    "ax[0].set_ylabel(\"R2\")\n",
    "\n",
    "ax[1].plot(l_lambda[:6], l_similarity[:6])\n",
    "ax[1].set_xlabel(\"lambda\")\n",
    "ax[1].set_ylabel(\"Cosine similarity\")\n",
    "\n",
    "plt.show()"
   ]
  },
  {
   "cell_type": "code",
   "execution_count": 140,
   "metadata": {},
   "outputs": [
    {
     "name": "stdout",
     "output_type": "stream",
     "text": [
      "Wall time: 11.2 s\n"
     ]
    }
   ],
   "source": [
    "%%time\n",
    "l_lambda = [0, 0.00005, 0.0001, 0.0002, 0.0005, 0.001, 0.0012, 0.0015]\n",
    "l_r2 = []\n",
    "l_similarity = []\n",
    "for lambda_reg in l_lambda:\n",
    "    reg = dirichlet_regression.dirichletRegressor()\n",
    "    reg.fit(X, Y, parametrization='alternative', gamma_0=gamma_0, Z=Z, regularization=lambda_reg, verbose=False)\n",
    "    l_r2.append(r2_score(Y,reg.mu))\n",
    "    l_similarity.append(cos_similarity(Y,reg.mu))"
   ]
  },
  {
   "cell_type": "code",
   "execution_count": 141,
   "metadata": {},
   "outputs": [
    {
     "data": {
      "image/png": "[encoded data removed]",
      "text/plain": [
       "<Figure size 1200x400 with 2 Axes>"
      ]
     },
     "metadata": {},
     "output_type": "display_data"
    }
   ],
   "source": [
    "fig, ax = plt.subplots(1,2,figsize=(12,4))\n",
    "\n",
    "ax[0].plot(l_lambda, l_r2)\n",
    "ax[0].set_xlabel(\"lambda\")\n",
    "ax[0].set_ylabel(\"R2\")\n",
    "\n",
    "ax[1].plot(l_lambda, l_similarity)\n",
    "ax[1].set_xlabel(\"lambda\")\n",
    "ax[1].set_ylabel(\"Cosine similarity\")\n",
    "\n",
    "plt.show()"
   ]
  },
  {
   "cell_type": "code",
   "execution_count": 142,
   "metadata": {},
   "outputs": [
    {
     "name": "stdout",
     "output_type": "stream",
     "text": [
      "Optimization terminated successfully.\n",
      "Wall time: 1.7 s\n"
     ]
    }
   ],
   "source": [
    "%%time\n",
    "dirichRegressor = dirichlet_regression.dirichletRegressor()\n",
    "dirichRegressor.fit(X, Y, parametrization='alternative', gamma_0=gamma_0, Z=Z, regularization=0.0001)"
   ]
  },
  {
   "cell_type": "code",
   "execution_count": 143,
   "metadata": {},
   "outputs": [
    {
     "data": {
      "text/plain": [
       "0.4870634944836385"
      ]
     },
     "execution_count": 143,
     "metadata": {},
     "output_type": "execute_result"
    }
   ],
   "source": [
    "r2_score(Y,dirichRegressor.mu)"
   ]
  },
  {
   "cell_type": "markdown",
   "metadata": {},
   "source": [
    "### With Z a copy of X"
   ]
  },
  {
   "cell_type": "code",
   "execution_count": 35,
   "metadata": {},
   "outputs": [],
   "source": [
    "Z_bis = np.ones((n,K+1))\n",
    "Z_bis[:,1:] = np.copy(X)\n",
    "gamma_0_bis = np.zeros(K+1)"
   ]
  },
  {
   "cell_type": "code",
   "execution_count": 33,
   "metadata": {},
   "outputs": [
    {
     "name": "stdout",
     "output_type": "stream",
     "text": [
      "Optimization terminated successfully.\n",
      "Wall time: 728 ms\n"
     ]
    }
   ],
   "source": [
    "%%time\n",
    "dirichRegressor = dirichlet_regression.dirichletRegressor()\n",
    "dirichRegressor.fit(X, Y, parametrization='alternative', gamma_0=gamma_0_bis, Z=Z_bis)"
   ]
  },
  {
   "cell_type": "code",
   "execution_count": 34,
   "metadata": {},
   "outputs": [
    {
     "name": "stdout",
     "output_type": "stream",
     "text": [
      "R2: 0.3193164022128876\n",
      "RMSE: 0.091837727405686\n",
      "Cross-entropy: -1.0577913481992816\n",
      "AIC: -1010.6080870982678\n",
      "Cos similarity: 0.9669906078831969\n"
     ]
    }
   ],
   "source": [
    "print('R2:',r2_score(Y,dirichRegressor.mu))\n",
    "print('RMSE:',mean_squared_error(Y,dirichRegressor.mu,squared=False))\n",
    "print('Cross-entropy:',1/n*np.sum(Y*np.log(dirichRegressor.mu)))\n",
    "print('AIC:',-2*dirichlet_regression.dirichlet_loglikelihood(dirichRegressor.mu,dirichRegressor.phi,Y)+2*53)\n",
    "print('Cos similarity:',cos_similarity(Y,dirichRegressor.mu))"
   ]
  },
  {
   "cell_type": "markdown",
   "metadata": {},
   "source": [
    "## With spatial"
   ]
  },
  {
   "cell_type": "markdown",
   "metadata": {},
   "source": [
    "### Distance"
   ]
  },
  {
   "cell_type": "code",
   "execution_count": 20,
   "metadata": {},
   "outputs": [],
   "source": [
    "W = np.copy(distance_matrix)\n",
    "W[W > 35000] = 0"
   ]
  },
  {
   "cell_type": "code",
   "execution_count": 21,
   "metadata": {},
   "outputs": [],
   "source": [
    "# inverse distance\n",
    "W[W>0] = 1/W[W>0]\n",
    "\n",
    "# row-normalize\n",
    "W = W/W.sum(axis=1)[:,None]"
   ]
  },
  {
   "cell_type": "code",
   "execution_count": 17,
   "metadata": {},
   "outputs": [
    {
     "data": {
      "text/plain": [
       "12.096618357487923"
      ]
     },
     "execution_count": 17,
     "metadata": {},
     "output_type": "execute_result"
    }
   ],
   "source": [
    "np.mean([np.sum(W[i]!=0) for i in range(207)])"
   ]
  },
  {
   "cell_type": "code",
   "execution_count": null,
   "metadata": {},
   "outputs": [],
   "source": []
  },
  {
   "cell_type": "code",
   "execution_count": 21,
   "metadata": {},
   "outputs": [
    {
     "name": "stdout",
     "output_type": "stream",
     "text": [
      "b'CONVERGENCE: REL_REDUCTION_OF_F_<=_FACTR*EPSMCH'\n",
      "Wall time: 6min 54s\n"
     ]
    }
   ],
   "source": [
    "%%time\n",
    "dirichRegressor_s1 = dirichlet_regression.dirichletRegressor(spatial=True, maxiter=5000, maxfun=500000)\n",
    "dirichRegressor_s1.fit(X, Y, W=W, parametrization='alternative', gamma_0=gamma_0, Z=Z)"
   ]
  },
  {
   "cell_type": "code",
   "execution_count": 22,
   "metadata": {},
   "outputs": [
    {
     "name": "stdout",
     "output_type": "stream",
     "text": [
      "R2: 0.6017535644265538\n",
      "RMSE: 0.07028598496004702\n",
      "Cross-entropy: -1.041268326000523\n",
      "AIC: -965.0562215604734\n",
      "Cos similarity: 0.9803216275972075\n"
     ]
    }
   ],
   "source": [
    "print('R2:',r2_score(Y,dirichRegressor_s1.mu))\n",
    "print('RMSE:',mean_squared_error(Y,dirichRegressor_s1.mu,squared=False))\n",
    "print('Cross-entropy:',1/n*np.sum(Y*np.log(dirichRegressor_s1.mu)))\n",
    "print('AIC:',-2*dirichlet_regression.dirichlet_loglikelihood(dirichRegressor_s1.mu,dirichRegressor_s1.phi,Y)+2*54)\n",
    "print('Cos similarity:',cos_similarity(Y,dirichRegressor_s1.mu))"
   ]
  },
  {
   "cell_type": "code",
   "execution_count": 23,
   "metadata": {},
   "outputs": [
    {
     "data": {
      "text/plain": [
       "0.9697309356468138"
      ]
     },
     "execution_count": 23,
     "metadata": {},
     "output_type": "execute_result"
    }
   ],
   "source": [
    "dirichRegressor_s1.rho"
   ]
  },
  {
   "cell_type": "code",
   "execution_count": 24,
   "metadata": {},
   "outputs": [],
   "source": [
    "loglik_s1 = dirichlet_regression.dirichlet_loglikelihood(dirichRegressor_s1.mu,dirichRegressor_s1.phi,Y)"
   ]
  },
  {
   "cell_type": "code",
   "execution_count": 30,
   "metadata": {},
   "outputs": [
    {
     "name": "stdout",
     "output_type": "stream",
     "text": [
      "1.2789737647635491e-24\n"
     ]
    }
   ],
   "source": [
    "# LR ratio test\n",
    "LR_statistic = -2*(loglik_ns-loglik_s1)\n",
    "p_value = scipy.stats.chi2.sf(LR_statistic, 1)\n",
    "print(p_value)"
   ]
  },
  {
   "cell_type": "markdown",
   "metadata": {},
   "source": [
    "#### Cross-entropy"
   ]
  },
  {
   "cell_type": "code",
   "execution_count": 22,
   "metadata": {},
   "outputs": [
    {
     "name": "stdout",
     "output_type": "stream",
     "text": [
      "Optimization terminated successfully.\n",
      "Wall time: 4.05 s\n"
     ]
    }
   ],
   "source": [
    "%%time\n",
    "dirichRegressor_s1_ce = dirichlet_regression.dirichletRegressor(spatial=True, maxiter=5000, maxfun=500000)\n",
    "dirichRegressor_s1_ce.fit(X, Y, W=W, parametrization='alternative', gamma_0=gamma_0, Z=Z, loss='crossentropy')"
   ]
  },
  {
   "cell_type": "code",
   "execution_count": 23,
   "metadata": {},
   "outputs": [
    {
     "name": "stdout",
     "output_type": "stream",
     "text": [
      "R2: 0.6076622614589268\n",
      "RMSE: 0.06974743321157013\n",
      "Cross-entropy: -1.0410128046804528\n",
      "Cos similarity: 0.9806377528462559\n"
     ]
    }
   ],
   "source": [
    "print('R2:',r2_score(Y,dirichRegressor_s1_ce.mu))\n",
    "print('RMSE:',mean_squared_error(Y,dirichRegressor_s1_ce.mu,squared=False))\n",
    "print('Cross-entropy:',1/n*np.sum(Y*np.log(dirichRegressor_s1_ce.mu)))\n",
    "print('Cos similarity:',cos_similarity(Y,dirichRegressor_s1_ce.mu))"
   ]
  },
  {
   "cell_type": "markdown",
   "metadata": {},
   "source": [
    "### Contiguity"
   ]
  },
  {
   "cell_type": "code",
   "execution_count": 24,
   "metadata": {},
   "outputs": [],
   "source": [
    "W_occitanie = pd.read_csv('Data Dirichlet/occitanie/W_elections_5nn.csv', sep=' ', header=None)"
   ]
  },
  {
   "cell_type": "code",
   "execution_count": 23,
   "metadata": {},
   "outputs": [],
   "source": [
    "W_occitanie_10 = pd.read_csv('Data Dirichlet/occitanie/W_elections_10nn.csv', sep=' ', header=None)"
   ]
  },
  {
   "cell_type": "code",
   "execution_count": 25,
   "metadata": {},
   "outputs": [],
   "source": [
    "W = np.array(W_occitanie)"
   ]
  },
  {
   "cell_type": "code",
   "execution_count": 33,
   "metadata": {},
   "outputs": [
    {
     "name": "stdout",
     "output_type": "stream",
     "text": [
      "b'CONVERGENCE: REL_REDUCTION_OF_F_<=_FACTR*EPSMCH'\n",
      "Wall time: 4min 13s\n"
     ]
    }
   ],
   "source": [
    "%%time\n",
    "dirichRegressor_s2 = dirichlet_regression.dirichletRegressor(spatial=True, maxiter=5000, maxfun=500000)\n",
    "dirichRegressor_s2.fit(X, Y, W=W, parametrization='alternative', gamma_0=gamma_0, Z=Z)"
   ]
  },
  {
   "cell_type": "code",
   "execution_count": 34,
   "metadata": {},
   "outputs": [
    {
     "name": "stdout",
     "output_type": "stream",
     "text": [
      "R2: 0.5824337362914216\n",
      "RMSE: 0.07196468238228139\n",
      "Cross-entropy: -1.0422946631295709\n",
      "AIC: -947.3947266731657\n",
      "Cos similarity: 0.9794626693901682\n"
     ]
    }
   ],
   "source": [
    "print('R2:',r2_score(Y,dirichRegressor_s2.mu))\n",
    "print('RMSE:',mean_squared_error(Y,dirichRegressor_s2.mu,squared=False))\n",
    "print('Cross-entropy:',1/n*np.sum(Y*np.log(dirichRegressor_s2.mu)))\n",
    "print('AIC:',-2*dirichlet_regression.dirichlet_loglikelihood(dirichRegressor_s2.mu,dirichRegressor_s2.phi,Y)+2*54)\n",
    "print('Cos similarity:',cos_similarity(Y,dirichRegressor_s2.mu))"
   ]
  },
  {
   "cell_type": "code",
   "execution_count": 37,
   "metadata": {},
   "outputs": [
    {
     "data": {
      "text/plain": [
       "0.9126513079295024"
      ]
     },
     "execution_count": 37,
     "metadata": {},
     "output_type": "execute_result"
    }
   ],
   "source": [
    "dirichRegressor_s2.rho"
   ]
  },
  {
   "cell_type": "code",
   "execution_count": 35,
   "metadata": {},
   "outputs": [],
   "source": [
    "loglik_s2 = dirichlet_regression.dirichlet_loglikelihood(dirichRegressor_s2.mu,dirichRegressor_s2.phi,Y)"
   ]
  },
  {
   "cell_type": "code",
   "execution_count": 36,
   "metadata": {},
   "outputs": [
    {
     "name": "stdout",
     "output_type": "stream",
     "text": [
      "9.577218194072596e-21\n"
     ]
    }
   ],
   "source": [
    "# LR ratio test\n",
    "LR_statistic = -2*(loglik_ns-loglik_s2)\n",
    "p_value = scipy.stats.chi2.sf(LR_statistic, 1)\n",
    "print(p_value)"
   ]
  },
  {
   "cell_type": "markdown",
   "metadata": {},
   "source": [
    "#### Cross-entropy"
   ]
  },
  {
   "cell_type": "code",
   "execution_count": 26,
   "metadata": {},
   "outputs": [
    {
     "name": "stdout",
     "output_type": "stream",
     "text": [
      "Optimization terminated successfully.\n",
      "Wall time: 4.77 s\n"
     ]
    }
   ],
   "source": [
    "%%time\n",
    "dirichRegressor_s2_ce = dirichlet_regression.dirichletRegressor(spatial=True, maxiter=5000, maxfun=500000)\n",
    "dirichRegressor_s2_ce.fit(X, Y, W=W, parametrization='alternative', gamma_0=gamma_0, Z=Z, loss='crossentropy')"
   ]
  },
  {
   "cell_type": "code",
   "execution_count": 27,
   "metadata": {},
   "outputs": [
    {
     "name": "stdout",
     "output_type": "stream",
     "text": [
      "R2: 0.5888271642571125\n",
      "RMSE: 0.07139000585286227\n",
      "Cross-entropy: -1.042003612219453\n",
      "Cos similarity: 0.979788962001011\n"
     ]
    }
   ],
   "source": [
    "print('R2:',r2_score(Y,dirichRegressor_s2_ce.mu))\n",
    "print('RMSE:',mean_squared_error(Y,dirichRegressor_s2_ce.mu,squared=False))\n",
    "print('Cross-entropy:',1/n*np.sum(Y*np.log(dirichRegressor_s2_ce.mu)))\n",
    "print('Cos similarity:',cos_similarity(Y,dirichRegressor_s2_ce.mu))"
   ]
  },
  {
   "cell_type": "code",
   "execution_count": null,
   "metadata": {},
   "outputs": [],
   "source": []
  }
 ],
 "metadata": {
  "kernelspec": {
   "display_name": "Python 3",
   "language": "python",
   "name": "python3"
  },
  "language_info": {
   "codemirror_mode": {
    "name": "ipython",
    "version": 3
   },
   "file_extension": ".py",
   "mimetype": "text/x-python",
   "name": "python",
   "nbconvert_exporter": "python",
   "pygments_lexer": "ipython3",
   "version": "3.8.5"
  }
 },
 "nbformat": 4,
 "nbformat_minor": 4
}
