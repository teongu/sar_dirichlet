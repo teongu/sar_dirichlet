{
 "cells": [
  {
   "cell_type": "markdown",
   "metadata": {},
   "source": [
    "# Importing the packages and data"
   ]
  },
  {
   "cell_type": "code",
   "execution_count": 1,
   "metadata": {},
   "outputs": [],
   "source": [
    "%load_ext autoreload\n",
    "%autoreload 2"
   ]
  },
  {
   "cell_type": "code",
   "execution_count": 2,
   "metadata": {},
   "outputs": [],
   "source": [
    "import numpy as np\n",
    "import pandas as pd\n",
    "import matplotlib.pyplot as plt\n",
    "from mpl_toolkits import mplot3d\n",
    "import scipy\n",
    "from sklearn.metrics import r2_score\n",
    "from sklearn.metrics import mean_squared_error\n",
    "from scipy.special import gamma, digamma, polygamma\n",
    "import math\n",
    "from sklearn.preprocessing import StandardScaler\n",
    "\n",
    "from sklearn.neighbors import NearestNeighbors\n",
    "from sklearn.model_selection import train_test_split\n",
    "from sklearn.model_selection import KFold\n",
    "import random\n",
    "\n",
    "import scipy.optimize\n",
    "from scipy.stats import ttest_ind\n",
    "from scipy.optimize import Bounds\n",
    "\n",
    "from prettytable import PrettyTable"
   ]
  },
  {
   "cell_type": "code",
   "execution_count": 3,
   "metadata": {},
   "outputs": [],
   "source": [
    "from multiprocessing import Pool\n",
    "from functools import partial"
   ]
  },
  {
   "cell_type": "code",
   "execution_count": 4,
   "metadata": {},
   "outputs": [],
   "source": [
    "import sys\n",
    "sys.path.append(\"../smote_cd/\")\n",
    "import smote_cd"
   ]
  },
  {
   "cell_type": "code",
   "execution_count": 5,
   "metadata": {},
   "outputs": [],
   "source": [
    "import sys\n",
    "sys.path.append(\"../../coral_mapping/\")\n",
    "import segments_regressor\n",
    "import coral_map_tests"
   ]
  },
  {
   "cell_type": "code",
   "execution_count": 6,
   "metadata": {},
   "outputs": [],
   "source": [
    "import dirichlet_regression"
   ]
  },
  {
   "cell_type": "code",
   "execution_count": 15,
   "metadata": {},
   "outputs": [
    {
     "data": {
      "text/plain": [
       "'1.9.1'"
      ]
     },
     "execution_count": 15,
     "metadata": {},
     "output_type": "execute_result"
    }
   ],
   "source": [
    "# sur ordi MQ:\n",
    "scipy.__version__"
   ]
  },
  {
   "cell_type": "code",
   "execution_count": 77,
   "metadata": {},
   "outputs": [
    {
     "data": {
      "text/plain": [
       "'1.4.1'"
      ]
     },
     "execution_count": 77,
     "metadata": {},
     "output_type": "execute_result"
    }
   ],
   "source": [
    "# sur mon ordi perso:\n",
    "scipy.__version__"
   ]
  },
  {
   "cell_type": "code",
   "execution_count": 7,
   "metadata": {},
   "outputs": [],
   "source": [
    "def cos_similarity(x1,x2):\n",
    "    return(np.mean([np.dot(x1[i],x2[i])/(np.linalg.norm(x1[i])*np.linalg.norm(x2[i])) for i in range(len(x1))]))"
   ]
  },
  {
   "cell_type": "markdown",
   "metadata": {},
   "source": [
    "# Loading Maupiti data"
   ]
  },
  {
   "cell_type": "code",
   "execution_count": 8,
   "metadata": {},
   "outputs": [],
   "source": [
    "img_B02 = np.load('../../maupiti/Satellite Images/sentinel_B2_new.npy')\n",
    "img_B03 = np.load('../../maupiti/Satellite Images/sentinel_B3_new.npy')\n",
    "img_B04 = np.load('../../maupiti/Satellite Images/sentinel_B4_new.npy')\n",
    "img_B08 = np.load('../../maupiti/Satellite Images/sentinel_B8_new.npy')"
   ]
  },
  {
   "cell_type": "code",
   "execution_count": 9,
   "metadata": {},
   "outputs": [],
   "source": [
    "img_B02 = np.load('../../maupiti/Satellite Images/sentinel_B2_20220828.npy')\n",
    "img_B03 = np.load('../../maupiti/Satellite Images/sentinel_B3_20220828.npy')\n",
    "img_B04 = np.load('../../maupiti/Satellite Images/sentinel_B4_20220828.npy')\n",
    "img_B08 = np.load('../../maupiti/Satellite Images/sentinel_B8_20220828.npy')"
   ]
  },
  {
   "cell_type": "code",
   "execution_count": 10,
   "metadata": {},
   "outputs": [],
   "source": [
    "maupiti_zones = np.load('../../maupiti/Satellite Images/sentinel_rugo_new.npy')\n",
    "#maupiti_zones = np.load('../maupiti/Satellite Images/sentinel_rugo_new_grouped_8.npy')"
   ]
  },
  {
   "cell_type": "code",
   "execution_count": 25,
   "metadata": {},
   "outputs": [],
   "source": [
    "zones = ['NONE', 'CAER', 'CCDR', 'CFCO', 'CMCD', 'CRER', 'CSAG', 'CSHR', 'CTSR', 'DW', 'SDS', 'SLSC', 'SMSC', 'SSS', 'SSSC']"
   ]
  },
  {
   "cell_type": "code",
   "execution_count": 11,
   "metadata": {},
   "outputs": [],
   "source": [
    "map_test=coral_map_tests.coral_map([img_B02,img_B03,img_B04,img_B08], map_img=maupiti_zones)"
   ]
  },
  {
   "cell_type": "code",
   "execution_count": 12,
   "metadata": {},
   "outputs": [
    {
     "data": {
      "text/plain": [
       "2322"
      ]
     },
     "execution_count": 12,
     "metadata": {},
     "output_type": "execute_result"
    }
   ],
   "source": [
    "map_test.segmentation(method='fz',scale=0.9, min_size=40)\n",
    "np.max(map_test.segments)"
   ]
  },
  {
   "cell_type": "code",
   "execution_count": 13,
   "metadata": {},
   "outputs": [],
   "source": [
    "boundaries = coral_map_tests.find_boundaries(map_test.segments)\n",
    "adjacent_segments,_ = segments_regressor.find_adjacent_segments(map_test.segments, boundaries)"
   ]
  },
  {
   "cell_type": "code",
   "execution_count": 14,
   "metadata": {},
   "outputs": [],
   "source": [
    "X_maupiti = segments_regressor.create_features(map_test.segments, map_test.blue_band, map_test.green_band, map_test.red_band, map_test.nir_band)\n",
    "Y_maupiti = coral_map_tests.create_labels_dataset(map_test.segments,map_test.map_img)"
   ]
  },
  {
   "cell_type": "code",
   "execution_count": 15,
   "metadata": {},
   "outputs": [
    {
     "data": {
      "image/png": "[encoded data removed]",
      "text/plain": [
       "<Figure size 288x288 with 1 Axes>"
      ]
     },
     "metadata": {
      "needs_background": "light"
     },
     "output_type": "display_data"
    }
   ],
   "source": [
    "plt.matshow(X_maupiti.corr())\n",
    "plt.show()"
   ]
  },
  {
   "cell_type": "code",
   "execution_count": 16,
   "metadata": {},
   "outputs": [],
   "source": [
    "# Create correlation matrix\n",
    "corr_matrix = X_maupiti.corr().abs()\n",
    "\n",
    "# Select upper triangle of correlation matrix\n",
    "upper = corr_matrix.where(np.triu(np.ones(corr_matrix.shape), k=1).astype(bool))\n",
    "\n",
    "# Find features with correlation greater than 0.95\n",
    "to_drop = [column for column in upper.columns if any(upper[column] > 0.4)]\n",
    "\n",
    "# Drop features \n",
    "X_maupiti_less_features = X_maupiti.drop(to_drop, axis=1)"
   ]
  },
  {
   "cell_type": "code",
   "execution_count": 17,
   "metadata": {},
   "outputs": [
    {
     "data": {
      "text/html": [
       "<div>\n",
       "<style scoped>\n",
       "    .dataframe tbody tr th:only-of-type {\n",
       "        vertical-align: middle;\n",
       "    }\n",
       "\n",
       "    .dataframe tbody tr th {\n",
       "        vertical-align: top;\n",
       "    }\n",
       "\n",
       "    .dataframe thead th {\n",
       "        text-align: right;\n",
       "    }\n",
       "</style>\n",
       "<table border=\"1\" class=\"dataframe\">\n",
       "  <thead>\n",
       "    <tr style=\"text-align: right;\">\n",
       "      <th></th>\n",
       "      <th>mean_blue</th>\n",
       "      <th>var_blue</th>\n",
       "      <th>mean_nir</th>\n",
       "      <th>skew_nir</th>\n",
       "      <th>kurt_nir</th>\n",
       "    </tr>\n",
       "  </thead>\n",
       "  <tbody>\n",
       "    <tr>\n",
       "      <th>mean_blue</th>\n",
       "      <td>1.000000</td>\n",
       "      <td>0.338209</td>\n",
       "      <td>-0.259352</td>\n",
       "      <td>0.052624</td>\n",
       "      <td>0.004406</td>\n",
       "    </tr>\n",
       "    <tr>\n",
       "      <th>var_blue</th>\n",
       "      <td>0.338209</td>\n",
       "      <td>1.000000</td>\n",
       "      <td>0.213142</td>\n",
       "      <td>0.030445</td>\n",
       "      <td>-0.005806</td>\n",
       "    </tr>\n",
       "    <tr>\n",
       "      <th>mean_nir</th>\n",
       "      <td>-0.259352</td>\n",
       "      <td>0.213142</td>\n",
       "      <td>1.000000</td>\n",
       "      <td>-0.222240</td>\n",
       "      <td>-0.080753</td>\n",
       "    </tr>\n",
       "    <tr>\n",
       "      <th>skew_nir</th>\n",
       "      <td>0.052624</td>\n",
       "      <td>0.030445</td>\n",
       "      <td>-0.222240</td>\n",
       "      <td>1.000000</td>\n",
       "      <td>0.009483</td>\n",
       "    </tr>\n",
       "    <tr>\n",
       "      <th>kurt_nir</th>\n",
       "      <td>0.004406</td>\n",
       "      <td>-0.005806</td>\n",
       "      <td>-0.080753</td>\n",
       "      <td>0.009483</td>\n",
       "      <td>1.000000</td>\n",
       "    </tr>\n",
       "  </tbody>\n",
       "</table>\n",
       "</div>"
      ],
      "text/plain": [
       "           mean_blue  var_blue  mean_nir  skew_nir  kurt_nir\n",
       "mean_blue   1.000000  0.338209 -0.259352  0.052624  0.004406\n",
       "var_blue    0.338209  1.000000  0.213142  0.030445 -0.005806\n",
       "mean_nir   -0.259352  0.213142  1.000000 -0.222240 -0.080753\n",
       "skew_nir    0.052624  0.030445 -0.222240  1.000000  0.009483\n",
       "kurt_nir    0.004406 -0.005806 -0.080753  0.009483  1.000000"
      ]
     },
     "execution_count": 17,
     "metadata": {},
     "output_type": "execute_result"
    }
   ],
   "source": [
    "X_maupiti_less_features.corr()"
   ]
  },
  {
   "cell_type": "code",
   "execution_count": 18,
   "metadata": {},
   "outputs": [],
   "source": [
    "n_features = 5\n",
    "n_classes = 15\n",
    "n_samples = X_maupiti.shape[0]"
   ]
  },
  {
   "cell_type": "code",
   "execution_count": 19,
   "metadata": {},
   "outputs": [],
   "source": [
    "Y_star_maupiti = (Y_maupiti*(n_samples-1)+1/n_classes)/n_samples"
   ]
  },
  {
   "cell_type": "code",
   "execution_count": 20,
   "metadata": {},
   "outputs": [],
   "source": [
    "Z_maupiti = np.ones((n_samples,n_features))"
   ]
  },
  {
   "cell_type": "code",
   "execution_count": 21,
   "metadata": {},
   "outputs": [],
   "source": [
    "Z_maupiti = np.ones(n_samples).reshape(-1,1)\n",
    "#Z_maupiti = np.ones((n_samples,2))\n",
    "#Z_maupiti[:,1] = np.array(X_maupiti)[:,0]/np.max(np.array(X_maupiti)[:,0])"
   ]
  },
  {
   "cell_type": "code",
   "execution_count": 22,
   "metadata": {},
   "outputs": [],
   "source": [
    "W_maupiti = np.zeros((n_samples,n_samples))\n",
    "for i in range(n_samples):\n",
    "    W_maupiti[i,adjacent_segments[i]]=1\n",
    "\n",
    "W_maupiti = W_maupiti/W_maupiti.sum(axis=1)[:,None]"
   ]
  },
  {
   "cell_type": "code",
   "execution_count": 23,
   "metadata": {},
   "outputs": [],
   "source": [
    "n_features = 5\n",
    "X = StandardScaler().fit(X_maupiti_less_features).transform(X_maupiti_less_features)"
   ]
  },
  {
   "cell_type": "code",
   "execution_count": 71,
   "metadata": {},
   "outputs": [],
   "source": [
    "n_features = 16\n",
    "X = StandardScaler().fit(X_maupiti).transform(X_maupiti)"
   ]
  },
  {
   "cell_type": "code",
   "execution_count": 24,
   "metadata": {},
   "outputs": [],
   "source": [
    "train_ind, test_ind = train_test_split(np.arange(len(X)),test_size=0.2)\n",
    "\n",
    "X_train, X_test = X[train_ind], X[test_ind]\n",
    "Y_train, Y_test = Y_star_maupiti[train_ind], Y_star_maupiti[test_ind]\n",
    "Z_train, Z_test = Z_maupiti[train_ind], Z_maupiti[test_ind]\n",
    "W_train, W_test = W_maupiti[train_ind][:,train_ind], W_maupiti[test_ind][:,test_ind]"
   ]
  },
  {
   "cell_type": "markdown",
   "metadata": {},
   "source": [
    "# Regressor"
   ]
  },
  {
   "cell_type": "markdown",
   "metadata": {},
   "source": [
    "## With 16 features"
   ]
  },
  {
   "cell_type": "markdown",
   "metadata": {},
   "source": [
    "### With Loglikelihood"
   ]
  },
  {
   "cell_type": "code",
   "execution_count": 173,
   "metadata": {},
   "outputs": [
    {
     "name": "stdout",
     "output_type": "stream",
     "text": [
      "Optimization terminated successfully.\n",
      "Wall time: 194 ms\n"
     ]
    }
   ],
   "source": [
    "%%time\n",
    "reg = dirichlet_regression.dirichletRegressor()\n",
    "reg.fit(X_train, Y_train, parametrization='alternative', gamma_0=[0.], Z=Z_train)"
   ]
  },
  {
   "cell_type": "code",
   "execution_count": 174,
   "metadata": {},
   "outputs": [
    {
     "data": {
      "text/plain": [
       "-0.3669724600383802"
      ]
     },
     "execution_count": 174,
     "metadata": {},
     "output_type": "execute_result"
    }
   ],
   "source": [
    "r2_score(Y_train,reg.mu)"
   ]
  },
  {
   "cell_type": "code",
   "execution_count": 177,
   "metadata": {},
   "outputs": [
    {
     "data": {
      "text/plain": [
       "0.4896360902219614"
      ]
     },
     "execution_count": 177,
     "metadata": {},
     "output_type": "execute_result"
    }
   ],
   "source": [
    "cos_similarity(Y_train, reg.mu)"
   ]
  },
  {
   "cell_type": "code",
   "execution_count": 175,
   "metadata": {},
   "outputs": [],
   "source": [
    "mu_pred = reg.pred(X_test)"
   ]
  },
  {
   "cell_type": "code",
   "execution_count": 176,
   "metadata": {},
   "outputs": [
    {
     "data": {
      "text/plain": [
       "-55.89609052034208"
      ]
     },
     "execution_count": 176,
     "metadata": {},
     "output_type": "execute_result"
    }
   ],
   "source": [
    "r2_score(Y_test,mu_pred)"
   ]
  },
  {
   "cell_type": "markdown",
   "metadata": {},
   "source": [
    "### With crossentropy, no spatial"
   ]
  },
  {
   "cell_type": "code",
   "execution_count": 178,
   "metadata": {},
   "outputs": [
    {
     "name": "stdout",
     "output_type": "stream",
     "text": [
      "Optimization terminated successfully.\n",
      "Wall time: 1.11 s\n"
     ]
    }
   ],
   "source": [
    "%%time\n",
    "reg = dirichlet_regression.dirichletRegressor()\n",
    "reg.fit(X_train, Y_train, loss='crossentropy')"
   ]
  },
  {
   "cell_type": "code",
   "execution_count": 179,
   "metadata": {},
   "outputs": [
    {
     "data": {
      "text/plain": [
       "0.23928635598847078"
      ]
     },
     "execution_count": 179,
     "metadata": {},
     "output_type": "execute_result"
    }
   ],
   "source": [
    "r2_score(Y_train,reg.mu)"
   ]
  },
  {
   "cell_type": "code",
   "execution_count": 182,
   "metadata": {},
   "outputs": [
    {
     "data": {
      "text/plain": [
       "0.7000390704448054"
      ]
     },
     "execution_count": 182,
     "metadata": {},
     "output_type": "execute_result"
    }
   ],
   "source": [
    "cos_similarity(Y_train,reg.mu)"
   ]
  },
  {
   "cell_type": "code",
   "execution_count": 180,
   "metadata": {},
   "outputs": [],
   "source": [
    "mu_pred = reg.pred(X_test)"
   ]
  },
  {
   "cell_type": "code",
   "execution_count": 181,
   "metadata": {},
   "outputs": [
    {
     "data": {
      "text/plain": [
       "0.08641831082988417"
      ]
     },
     "execution_count": 181,
     "metadata": {},
     "output_type": "execute_result"
    }
   ],
   "source": [
    "r2_score(Y_test,mu_pred)"
   ]
  },
  {
   "cell_type": "code",
   "execution_count": 40,
   "metadata": {},
   "outputs": [],
   "source": [
    "betas_true = np.zeros((n_features+1,n_classes))\n",
    "betas_true[:,1:] = reg.beta"
   ]
  },
  {
   "cell_type": "markdown",
   "metadata": {},
   "source": [
    "### With crossentropy, spatial"
   ]
  },
  {
   "cell_type": "code",
   "execution_count": 160,
   "metadata": {},
   "outputs": [
    {
     "name": "stdout",
     "output_type": "stream",
     "text": [
      "CONVERGENCE: REL_REDUCTION_OF_F_<=_FACTR*EPSMCH\n",
      "Wall time: 17min 25s\n"
     ]
    }
   ],
   "source": [
    "%%time\n",
    "reg = dirichlet_regression.dirichletRegressor(spatial=True)\n",
    "reg.fit(X_train, Y_train, W=W_train, loss='crossentropy')"
   ]
  },
  {
   "cell_type": "code",
   "execution_count": 161,
   "metadata": {},
   "outputs": [
    {
     "data": {
      "text/plain": [
       "0.6105318463476359"
      ]
     },
     "execution_count": 161,
     "metadata": {},
     "output_type": "execute_result"
    }
   ],
   "source": [
    "r2_score(Y_train,reg.mu)"
   ]
  },
  {
   "cell_type": "code",
   "execution_count": 162,
   "metadata": {},
   "outputs": [],
   "source": [
    "mu_pred = reg.pred(X_test, W_test)"
   ]
  },
  {
   "cell_type": "code",
   "execution_count": 163,
   "metadata": {},
   "outputs": [
    {
     "data": {
      "text/plain": [
       "-3.1075760837067934"
      ]
     },
     "execution_count": 163,
     "metadata": {},
     "output_type": "execute_result"
    }
   ],
   "source": [
    "r2_score(Y_test,mu_pred)"
   ]
  },
  {
   "cell_type": "code",
   "execution_count": 164,
   "metadata": {},
   "outputs": [
    {
     "data": {
      "text/plain": [
       "0.6327776844930929"
      ]
     },
     "execution_count": 164,
     "metadata": {},
     "output_type": "execute_result"
    }
   ],
   "source": [
    "cos_similarity(Y_test,mu_pred)"
   ]
  },
  {
   "cell_type": "markdown",
   "metadata": {},
   "source": [
    "## Generating new data"
   ]
  },
  {
   "cell_type": "code",
   "execution_count": 80,
   "metadata": {},
   "outputs": [
    {
     "data": {
      "text/plain": [
       "array([ -3.50401695,  -4.70527698,  -2.47142614,  -1.59140165,\n",
       "       -13.06053632,  -1.76582839,  -1.8256111 ,  -4.20918389,\n",
       "       -32.69730236,  -5.50253816,  -3.57923636,  -3.52476712,\n",
       "        -4.11480807,  -3.79375222])"
      ]
     },
     "execution_count": 80,
     "metadata": {},
     "output_type": "execute_result"
    }
   ],
   "source": [
    "reg.beta[0]"
   ]
  },
  {
   "cell_type": "code",
   "execution_count": 137,
   "metadata": {},
   "outputs": [],
   "source": [
    "X_gen = np.random.normal(0, 1, np.shape(X))"
   ]
  },
  {
   "cell_type": "code",
   "execution_count": 147,
   "metadata": {},
   "outputs": [],
   "source": [
    "#betas_gen = np.random.uniform(size=(n_features+1,n_classes))\n",
    "betas_gen = np.random.uniform(size=(n_features+1,8))\n",
    "betas_gen[:,0] = 0.\n",
    "X_1 = np.ones((n_samples,n_features+1))\n",
    "X_1[:,1:] = X_gen"
   ]
  },
  {
   "cell_type": "code",
   "execution_count": 148,
   "metadata": {},
   "outputs": [],
   "source": [
    "#mu_pred = reg.pred(X_gen)\n",
    "mu_pred = dirichlet_regression.compute_mu(X_1, betas_gen)\n",
    "phi = np.ones(n_samples)\n",
    "alpha = np.copy(mu_pred)"
   ]
  },
  {
   "cell_type": "code",
   "execution_count": 149,
   "metadata": {},
   "outputs": [],
   "source": [
    "#Y_gen_1 = np.array([np.random.dirichlet(alpha_i) for alpha_i in alpha])\n",
    "Y_gen = np.array([np.random.dirichlet(alpha_i) for alpha_i in alpha])\n",
    "Y_gen = (Y_gen*(n_samples-1)+1/n_classes)/n_samples"
   ]
  },
  {
   "cell_type": "code",
   "execution_count": 150,
   "metadata": {},
   "outputs": [
    {
     "name": "stdout",
     "output_type": "stream",
     "text": [
      "Optimization terminated successfully.\n",
      "Wall time: 50 ms\n"
     ]
    }
   ],
   "source": [
    "%%time\n",
    "reg_new = dirichlet_regression.dirichletRegressor()\n",
    "reg_new.fit(X_gen, Y_gen, parametrization='common')"
   ]
  },
  {
   "cell_type": "code",
   "execution_count": 151,
   "metadata": {},
   "outputs": [
    {
     "data": {
      "text/plain": [
       "0.057061089011778685"
      ]
     },
     "execution_count": 151,
     "metadata": {},
     "output_type": "execute_result"
    }
   ],
   "source": [
    "r2_score(Y_gen,reg_new.mu)"
   ]
  },
  {
   "cell_type": "code",
   "execution_count": 152,
   "metadata": {},
   "outputs": [
    {
     "data": {
      "text/plain": [
       "0.5402615383500412"
      ]
     },
     "execution_count": 152,
     "metadata": {},
     "output_type": "execute_result"
    }
   ],
   "source": [
    "cos_similarity(Y_gen,reg_new.mu)"
   ]
  },
  {
   "cell_type": "code",
   "execution_count": 153,
   "metadata": {},
   "outputs": [
    {
     "data": {
      "text/plain": [
       "0.4189180378251051"
      ]
     },
     "execution_count": 153,
     "metadata": {},
     "output_type": "execute_result"
    }
   ],
   "source": [
    "mean_squared_error(betas_gen[:,1:],reg_new.beta,squared=False)"
   ]
  },
  {
   "cell_type": "code",
   "execution_count": 154,
   "metadata": {},
   "outputs": [
    {
     "name": "stdout",
     "output_type": "stream",
     "text": [
      "Optimization terminated successfully.\n",
      "Wall time: 58.3 ms\n"
     ]
    }
   ],
   "source": [
    "%%time\n",
    "reg_new = dirichlet_regression.dirichletRegressor()\n",
    "reg_new.fit(X, Y_gen, parametrization='alternative', Z=np.ones((n_samples,1)))"
   ]
  },
  {
   "cell_type": "code",
   "execution_count": 155,
   "metadata": {},
   "outputs": [
    {
     "data": {
      "text/plain": [
       "0.49097839078024097"
      ]
     },
     "execution_count": 155,
     "metadata": {},
     "output_type": "execute_result"
    }
   ],
   "source": [
    "cos_similarity(Y_gen,reg_new.mu)"
   ]
  },
  {
   "cell_type": "code",
   "execution_count": 208,
   "metadata": {},
   "outputs": [
    {
     "name": "stdout",
     "output_type": "stream",
     "text": [
      "-0.00047197799237281326\n",
      "-1.0025759304464372\n"
     ]
    }
   ],
   "source": [
    "cos_sim_temp = []\n",
    "r2_temp = []\n",
    "for _ in range(100):\n",
    "    temp1 = np.random.normal(0, 1, (1000,15))\n",
    "    temp2 = np.random.normal(0, 1, (1000,15))\n",
    "    cos_sim_temp.append(cos_similarity(temp1,temp2))\n",
    "    r2_temp.append(r2_score(temp1,temp2))\n",
    "print(np.mean(cos_sim_temp))\n",
    "print(np.mean(r2_temp))"
   ]
  },
  {
   "cell_type": "code",
   "execution_count": 209,
   "metadata": {},
   "outputs": [
    {
     "name": "stdout",
     "output_type": "stream",
     "text": [
      "-0.0027827969065342974\n",
      "-1.0159591907735699\n"
     ]
    }
   ],
   "source": [
    "cos_sim_temp = []\n",
    "r2_temp = []\n",
    "for _ in range(100):\n",
    "    temp1 = np.random.normal(0, 1, (1000,3))\n",
    "    temp2 = np.random.normal(0, 1, (1000,3))\n",
    "    cos_sim_temp.append(cos_similarity(temp1,temp2))\n",
    "    r2_temp.append(r2_score(temp1,temp2))\n",
    "print(np.mean(cos_sim_temp))\n",
    "print(np.mean(r2_temp))"
   ]
  },
  {
   "cell_type": "markdown",
   "metadata": {},
   "source": [
    "### Scores depending on number of classes"
   ]
  },
  {
   "cell_type": "code",
   "execution_count": 62,
   "metadata": {},
   "outputs": [],
   "source": [
    "list_X_gen = [np.random.normal(0, 1, np.shape(X)) for _ in range(10)]"
   ]
  },
  {
   "cell_type": "code",
   "execution_count": 186,
   "metadata": {},
   "outputs": [
    {
     "name": "stdout",
     "output_type": "stream",
     "text": [
      "Optimization terminated successfully.\n",
      "Optimization terminated successfully.\n",
      "Optimization terminated successfully.\n",
      "Optimization terminated successfully.\n",
      "Optimization terminated successfully.\n",
      "Optimization terminated successfully.\n",
      "Optimization terminated successfully.\n",
      "Optimization terminated successfully.\n",
      "Optimization terminated successfully.\n",
      "Optimization terminated successfully.\n",
      "Optimization terminated successfully.\n",
      "Optimization terminated successfully.\n",
      "Optimization terminated successfully.\n",
      "Optimization terminated successfully.\n",
      "Optimization terminated successfully.\n",
      "Optimization terminated successfully.\n",
      "Optimization terminated successfully.\n",
      "Optimization terminated successfully.\n",
      "Optimization terminated successfully.\n",
      "Optimization terminated successfully.\n",
      "Optimization terminated successfully.\n",
      "Optimization terminated successfully.\n",
      "Optimization terminated successfully.\n",
      "Optimization terminated successfully.\n",
      "Optimization terminated successfully.\n",
      "Optimization terminated successfully.\n",
      "Optimization terminated successfully.\n",
      "Optimization terminated successfully.\n",
      "Optimization terminated successfully.\n",
      "Optimization terminated successfully.\n",
      "Optimization terminated successfully.\n",
      "Optimization terminated successfully.\n",
      "Optimization terminated successfully.\n",
      "Optimization terminated successfully.\n",
      "Optimization terminated successfully.\n",
      "Optimization terminated successfully.\n",
      "Optimization terminated successfully.\n",
      "Optimization terminated successfully.\n",
      "Optimization terminated successfully.\n",
      "Optimization terminated successfully.\n",
      "Optimization terminated successfully.\n",
      "Optimization terminated successfully.\n",
      "Optimization terminated successfully.\n",
      "Optimization terminated successfully.\n",
      "Optimization terminated successfully.\n",
      "Optimization terminated successfully.\n",
      "Optimization terminated successfully.\n",
      "Optimization terminated successfully.\n",
      "Optimization terminated successfully.\n",
      "Optimization terminated successfully.\n",
      "Optimization terminated successfully.\n",
      "Optimization terminated successfully.\n",
      "Optimization terminated successfully.\n",
      "Optimization terminated successfully.\n",
      "Optimization terminated successfully.\n",
      "Optimization terminated successfully.\n",
      "Optimization terminated successfully.\n",
      "Optimization terminated successfully.\n",
      "Optimization terminated successfully.\n",
      "Optimization terminated successfully.\n",
      "Optimization terminated successfully.\n",
      "Optimization terminated successfully.\n",
      "Optimization terminated successfully.\n",
      "Optimization terminated successfully.\n",
      "Optimization terminated successfully.\n",
      "Optimization terminated successfully.\n",
      "Optimization terminated successfully.\n",
      "Optimization terminated successfully.\n",
      "Optimization terminated successfully.\n",
      "Optimization terminated successfully.\n",
      "Optimization terminated successfully.\n",
      "Optimization terminated successfully.\n",
      "Optimization terminated successfully.\n",
      "Optimization terminated successfully.\n",
      "Optimization terminated successfully.\n",
      "Optimization terminated successfully.\n",
      "Optimization terminated successfully.\n",
      "Optimization terminated successfully.\n",
      "Optimization terminated successfully.\n",
      "Optimization terminated successfully.\n",
      "Optimization terminated successfully.\n",
      "Optimization terminated successfully.\n",
      "Optimization terminated successfully.\n",
      "Optimization terminated successfully.\n",
      "Optimization terminated successfully.\n",
      "Optimization terminated successfully.\n",
      "Optimization terminated successfully.\n",
      "Optimization terminated successfully.\n",
      "Optimization terminated successfully.\n",
      "Optimization terminated successfully.\n",
      "Optimization terminated successfully.\n",
      "Optimization terminated successfully.\n",
      "Optimization terminated successfully.\n",
      "Optimization terminated successfully.\n",
      "Optimization terminated successfully.\n",
      "Optimization terminated successfully.\n",
      "Optimization terminated successfully.\n",
      "Optimization terminated successfully.\n",
      "Optimization terminated successfully.\n",
      "Optimization terminated successfully.\n",
      "Optimization terminated successfully.\n",
      "Optimization terminated successfully.\n",
      "Optimization terminated successfully.\n",
      "Optimization terminated successfully.\n",
      "Optimization terminated successfully.\n",
      "Optimization terminated successfully.\n",
      "Optimization terminated successfully.\n",
      "Optimization terminated successfully.\n",
      "Optimization terminated successfully.\n",
      "Optimization terminated successfully.\n",
      "Optimization terminated successfully.\n",
      "Optimization terminated successfully.\n",
      "Optimization terminated successfully.\n",
      "Optimization terminated successfully.\n",
      "Optimization terminated successfully.\n",
      "Optimization terminated successfully.\n",
      "Optimization terminated successfully.\n",
      "Optimization terminated successfully.\n",
      "Optimization terminated successfully.\n",
      "Optimization terminated successfully.\n",
      "Optimization terminated successfully.\n",
      "Optimization terminated successfully.\n",
      "Optimization terminated successfully.\n",
      "Optimization terminated successfully.\n",
      "Optimization terminated successfully.\n",
      "Optimization terminated successfully.\n",
      "Optimization terminated successfully.\n",
      "Optimization terminated successfully.\n",
      "Optimization terminated successfully.\n",
      "Optimization terminated successfully.\n",
      "Optimization terminated successfully.\n",
      "Optimization terminated successfully.\n",
      "Optimization terminated successfully.\n",
      "Optimization terminated successfully.\n",
      "Optimization terminated successfully.\n",
      "Optimization terminated successfully.\n",
      "Optimization terminated successfully.\n",
      "Optimization terminated successfully.\n",
      "Optimization terminated successfully.\n",
      "Optimization terminated successfully.\n",
      "Optimization terminated successfully.\n",
      "Optimization terminated successfully.\n",
      "Optimization terminated successfully.\n",
      "Optimization terminated successfully.\n",
      "Optimization terminated successfully.\n",
      "Optimization terminated successfully.\n",
      "Optimization terminated successfully.\n",
      "Optimization terminated successfully.\n",
      "Optimization terminated successfully.\n",
      "Optimization terminated successfully.\n",
      "Optimization terminated successfully.\n",
      "Optimization terminated successfully.\n",
      "Optimization terminated successfully.\n",
      "Optimization terminated successfully.\n",
      "Optimization terminated successfully.\n",
      "Optimization terminated successfully.\n",
      "Optimization terminated successfully.\n",
      "Optimization terminated successfully.\n",
      "Optimization terminated successfully.\n",
      "Optimization terminated successfully.\n",
      "Optimization terminated successfully.\n",
      "Optimization terminated successfully.\n",
      "Optimization terminated successfully.\n",
      "Optimization terminated successfully.\n",
      "Optimization terminated successfully.\n",
      "Optimization terminated successfully.\n",
      "Optimization terminated successfully.\n",
      "Optimization terminated successfully.\n",
      "Optimization terminated successfully.\n",
      "Optimization terminated successfully.\n"
     ]
    }
   ],
   "source": [
    "phi = np.ones(n_samples)\n",
    "list_r2_scores = []\n",
    "list_cos_similarity = []\n",
    "\n",
    "for j in range(3,20):\n",
    "    l_r2_temp = []\n",
    "    l_cos_similarity_temp = []\n",
    "    for X_gen in list_X_gen:\n",
    "        betas_gen = np.random.uniform(size=(n_features+1,j))\n",
    "        betas_gen[:,0] = 0.\n",
    "        X_1 = np.ones((n_samples,n_features+1))\n",
    "        X_1[:,1:] = X_gen\n",
    "        mu_pred = dirichlet_regression.compute_mu(X_1, betas_gen)\n",
    "        alpha = np.copy(mu_pred)\n",
    "        Y_gen = np.array([np.random.dirichlet(alpha_i) for alpha_i in alpha])\n",
    "        Y_gen = (Y_gen*(n_samples-1)+1/n_classes)/n_samples\n",
    "        reg_new = dirichlet_regression.dirichletRegressor()\n",
    "        reg_new.fit(X_gen, Y_gen, parametrization='common')\n",
    "        l_r2_temp.append(r2_score(Y_gen,reg_new.mu))\n",
    "        l_cos_similarity_temp.append(cos_similarity(Y_gen,reg_new.mu))\n",
    "    list_r2_scores.append(l_r2_temp)\n",
    "    list_cos_similarity.append(l_cos_similarity_temp)"
   ]
  },
  {
   "cell_type": "code",
   "execution_count": 199,
   "metadata": {},
   "outputs": [
    {
     "data": {
      "image/png": "[encoded data removed]",
      "text/plain": [
       "<Figure size 1152x432 with 2 Axes>"
      ]
     },
     "metadata": {
      "needs_background": "light"
     },
     "output_type": "display_data"
    }
   ],
   "source": [
    "fig,ax = plt.subplots(1,2,figsize=(16,6))\n",
    "\n",
    "ax[0].plot(np.arange(3,20), np.mean(list_r2_scores,axis=1))\n",
    "ax[0].set_ylabel('R2')\n",
    "ax[0].set_xlabel('Nb of classes')\n",
    "\n",
    "ax[1].plot(np.arange(3,20), np.mean(list_cos_similarity,axis=1))\n",
    "ax[1].set_ylabel('Cos similarity')\n",
    "ax[1].set_xlabel('Nb of classes')\n",
    "\n",
    "#plt.savefig('scores depending on nb class.png')\n",
    "plt.show()"
   ]
  },
  {
   "cell_type": "code",
   "execution_count": 61,
   "metadata": {},
   "outputs": [],
   "source": [
    "from sklearn.linear_model import LogisticRegression"
   ]
  },
  {
   "cell_type": "code",
   "execution_count": 80,
   "metadata": {},
   "outputs": [],
   "source": [
    "list_accuracy = []\n",
    "\n",
    "for j in range(3,20):\n",
    "    l_acc_temp = []\n",
    "    for X_gen in list_X_gen:\n",
    "        betas_gen = np.random.uniform(size=(n_features+1,j))\n",
    "        betas_gen[:,0] = 0.\n",
    "        X_1 = np.ones((n_samples,n_features+1))\n",
    "        X_1[:,1:] = X_gen\n",
    "        mu_pred = dirichlet_regression.compute_mu(X_1, betas_gen)\n",
    "        alpha = np.copy(mu_pred)\n",
    "        Y_gen = np.array([np.argmax(np.random.multinomial(1,alpha_i)) for alpha_i in alpha])\n",
    "        logistic = LogisticRegression()\n",
    "        logistic.fit(X_gen, Y_gen)\n",
    "        l_acc_temp.append(np.sum(Y_gen==logistic.predict(X_gen))/len(Y_gen))\n",
    "    list_accuracy.append(l_acc_temp)"
   ]
  },
  {
   "cell_type": "code",
   "execution_count": 84,
   "metadata": {},
   "outputs": [
    {
     "data": {
      "image/png": "[encoded data removed]",
      "text/plain": [
       "<Figure size 432x288 with 1 Axes>"
      ]
     },
     "metadata": {
      "needs_background": "light"
     },
     "output_type": "display_data"
    }
   ],
   "source": [
    "plt.plot(np.arange(3,20),np.mean(list_accuracy,axis=1))\n",
    "plt.xlabel('Nb of classes')\n",
    "plt.ylabel('Accuracy of logistic regression')\n",
    "plt.savefig('logistic accuracy depending on nb class.png')\n",
    "plt.show()"
   ]
  },
  {
   "cell_type": "markdown",
   "metadata": {},
   "source": [
    "## Remove outliers ?"
   ]
  },
  {
   "cell_type": "code",
   "execution_count": 56,
   "metadata": {},
   "outputs": [
    {
     "data": {
      "image/png": "[encoded data removed]",
      "text/plain": [
       "<Figure size 1152x432 with 1 Axes>"
      ]
     },
     "metadata": {
      "needs_background": "light"
     },
     "output_type": "display_data"
    }
   ],
   "source": [
    "plt.figure(figsize=(16,6))\n",
    "plt.boxplot(X,vert=False)\n",
    "plt.show()"
   ]
  },
  {
   "cell_type": "code",
   "execution_count": 160,
   "metadata": {},
   "outputs": [],
   "source": [
    "z = np.mean(np.abs(scipy.stats.zscore(X)),axis=1)"
   ]
  },
  {
   "cell_type": "code",
   "execution_count": 162,
   "metadata": {},
   "outputs": [],
   "source": [
    "X_no_outliers = X[z<2]"
   ]
  },
  {
   "cell_type": "code",
   "execution_count": 163,
   "metadata": {},
   "outputs": [
    {
     "data": {
      "image/png": "[encoded data removed]",
      "text/plain": [
       "<Figure size 1152x432 with 1 Axes>"
      ]
     },
     "metadata": {
      "needs_background": "light"
     },
     "output_type": "display_data"
    }
   ],
   "source": [
    "plt.figure(figsize=(16,6))\n",
    "plt.boxplot(X_no_outliers,vert=False)\n",
    "plt.show()"
   ]
  },
  {
   "cell_type": "code",
   "execution_count": 165,
   "metadata": {},
   "outputs": [],
   "source": [
    "train_ind_no, test_ind_no = train_test_split(np.arange(len(X_no_outliers)),test_size=0.2)\n",
    "\n",
    "X_train_no, X_test_no = X_no_outliers[train_ind_no], X_no_outliers[test_ind_no]\n",
    "Y_train_no, Y_test_no = Y_star_maupiti[z<2][train_ind_no], Y_star_maupiti[z<2][test_ind_no]\n",
    "Z_train_no, Z_test_no = Z_maupiti[z<2][train_ind_no], Z_maupiti[z<2][test_ind_no]"
   ]
  },
  {
   "cell_type": "code",
   "execution_count": 167,
   "metadata": {},
   "outputs": [
    {
     "name": "stdout",
     "output_type": "stream",
     "text": [
      "Optimization terminated successfully.\n",
      "Wall time: 240 ms\n"
     ]
    }
   ],
   "source": [
    "%%time\n",
    "reg = dirichlet_regression.dirichletRegressor()\n",
    "reg.fit(X_train_no, Y_train_no, parametrization='alternative', gamma_0=[0.], Z=Z_train_no)"
   ]
  },
  {
   "cell_type": "code",
   "execution_count": 169,
   "metadata": {},
   "outputs": [
    {
     "data": {
      "text/plain": [
       "-0.3502475307954188"
      ]
     },
     "execution_count": 169,
     "metadata": {},
     "output_type": "execute_result"
    }
   ],
   "source": [
    "r2_score(Y_train_no,reg.mu)"
   ]
  },
  {
   "cell_type": "code",
   "execution_count": 171,
   "metadata": {},
   "outputs": [
    {
     "data": {
      "text/plain": [
       "0.4932643461190025"
      ]
     },
     "execution_count": 171,
     "metadata": {},
     "output_type": "execute_result"
    }
   ],
   "source": [
    "cos_similarity(Y_train_no,reg.mu)"
   ]
  },
  {
   "cell_type": "code",
   "execution_count": 170,
   "metadata": {},
   "outputs": [
    {
     "data": {
      "text/plain": [
       "-0.7216232124652745"
      ]
     },
     "execution_count": 170,
     "metadata": {},
     "output_type": "execute_result"
    }
   ],
   "source": [
    "mu_pred = reg.pred(X_test_no)\n",
    "r2_score(Y_test_no,mu_pred)"
   ]
  },
  {
   "cell_type": "code",
   "execution_count": 161,
   "metadata": {},
   "outputs": [
    {
     "data": {
      "text/plain": [
       "(array([ 506,  576,  724,  809,  847,  931,  989, 1108, 1171, 1194, 1268,\n",
       "        1278, 1319, 1351, 1354, 1356, 1403, 1625, 1661, 1677, 1699, 1723,\n",
       "        1743, 1779, 1824, 1856, 2043, 2096, 2113, 2154, 2225, 2268, 2296,\n",
       "        2303, 2306, 2312], dtype=int64),)"
      ]
     },
     "execution_count": 161,
     "metadata": {},
     "output_type": "execute_result"
    }
   ],
   "source": [
    "np.where(z>2)"
   ]
  },
  {
   "cell_type": "markdown",
   "metadata": {},
   "source": [
    "## With 5 features"
   ]
  },
  {
   "cell_type": "code",
   "execution_count": 27,
   "metadata": {},
   "outputs": [],
   "source": [
    "gamma_0 = [0.]"
   ]
  },
  {
   "cell_type": "code",
   "execution_count": 63,
   "metadata": {},
   "outputs": [
    {
     "name": "stdout",
     "output_type": "stream",
     "text": [
      "Optimization terminated successfully.\n",
      "Wall time: 782 ms\n"
     ]
    }
   ],
   "source": [
    "%%time\n",
    "reg = dirichlet_regression.dirichletRegressor()\n",
    "reg.fit(X_train, Y_train, parametrization='alternative', gamma_0=gamma_0, Z=Z_train)"
   ]
  },
  {
   "cell_type": "code",
   "execution_count": 64,
   "metadata": {},
   "outputs": [],
   "source": [
    "mu_pred = reg.pred(X_test)"
   ]
  },
  {
   "cell_type": "code",
   "execution_count": 66,
   "metadata": {},
   "outputs": [
    {
     "data": {
      "text/plain": [
       "-0.3074978247701289"
      ]
     },
     "execution_count": 66,
     "metadata": {},
     "output_type": "execute_result"
    }
   ],
   "source": [
    "r2_score(Y_train,reg.mu)"
   ]
  },
  {
   "cell_type": "code",
   "execution_count": 67,
   "metadata": {
    "scrolled": true
   },
   "outputs": [
    {
     "data": {
      "text/plain": [
       "0.4913747870507699"
      ]
     },
     "execution_count": 67,
     "metadata": {},
     "output_type": "execute_result"
    }
   ],
   "source": [
    "cos_similarity(Y_train,reg.mu)"
   ]
  },
  {
   "cell_type": "code",
   "execution_count": 65,
   "metadata": {
    "scrolled": false
   },
   "outputs": [
    {
     "data": {
      "text/plain": [
       "-0.14830795844616956"
      ]
     },
     "execution_count": 65,
     "metadata": {},
     "output_type": "execute_result"
    }
   ],
   "source": [
    "r2_score(Y_test,mu_pred)"
   ]
  },
  {
   "cell_type": "code",
   "execution_count": 68,
   "metadata": {},
   "outputs": [],
   "source": [
    "l_lambda_reg = np.arange(0, 1.5, 0.1)"
   ]
  },
  {
   "cell_type": "code",
   "execution_count": 69,
   "metadata": {},
   "outputs": [
    {
     "name": "stdout",
     "output_type": "stream",
     "text": [
      "Optimization terminated successfully.\n",
      "Optimization terminated successfully.\n",
      "Optimization terminated successfully.\n",
      "Optimization terminated successfully.\n",
      "Optimization terminated successfully.\n",
      "Optimization terminated successfully.\n",
      "Optimization terminated successfully.\n",
      "Optimization terminated successfully.\n",
      "Optimization terminated successfully.\n",
      "Optimization terminated successfully.\n",
      "Optimization terminated successfully.\n",
      "Optimization terminated successfully.\n",
      "Optimization terminated successfully.\n",
      "Optimization terminated successfully.\n",
      "Optimization terminated successfully.\n",
      "Wall time: 5.33 s\n"
     ]
    }
   ],
   "source": [
    "%%time\n",
    "l_r2_train = []\n",
    "l_similarity_train = []\n",
    "l_r2_test = []\n",
    "l_similarity_test = []\n",
    "for lambda_reg in l_lambda_reg:\n",
    "    reg = dirichlet_regression.dirichletRegressor()\n",
    "    reg.fit(X_train, Y_train, parametrization='alternative', gamma_0=gamma_0, Z=Z_train, regularization=lambda_reg)\n",
    "    l_r2_train.append(r2_score(Y_train,reg.mu))\n",
    "    l_similarity_train.append(cos_similarity(Y_train,reg.mu))\n",
    "    mu_pred = reg.pred(X_test)\n",
    "    l_r2_test.append(r2_score(Y_test,mu_pred))\n",
    "    l_similarity_test.append(cos_similarity(Y_test,mu_pred))"
   ]
  },
  {
   "cell_type": "code",
   "execution_count": 70,
   "metadata": {},
   "outputs": [
    {
     "data": {
      "image/png": "[encoded data removed]",
      "text/plain": [
       "<Figure size 1000x400 with 2 Axes>"
      ]
     },
     "metadata": {},
     "output_type": "display_data"
    }
   ],
   "source": [
    "fig, ax = plt.subplots(1,2,figsize=(10,4))\n",
    "\n",
    "ax[0].plot(l_lambda_reg, l_r2_train, label='train')\n",
    "ax[0].plot(l_lambda_reg, l_r2_test, label='test')\n",
    "ax[0].set_xlabel(\"lambda\")\n",
    "ax[0].set_ylabel(\"R2\")\n",
    "ax[0].legend()\n",
    "\n",
    "ax[1].plot(l_lambda_reg, l_similarity_train, label='train')\n",
    "ax[1].plot(l_lambda_reg, l_similarity_test, label='test')\n",
    "ax[1].set_xlabel(\"lambda\")\n",
    "ax[1].set_ylabel(\"Cosine similarity\")\n",
    "ax[1].legend()\n",
    "\n",
    "plt.show()"
   ]
  },
  {
   "cell_type": "code",
   "execution_count": 34,
   "metadata": {},
   "outputs": [
    {
     "name": "stdout",
     "output_type": "stream",
     "text": [
      "STOP: TOTAL NO. of f AND g EVALUATIONS EXCEEDS LIMIT\n",
      "Wall time: 1min 46s\n"
     ]
    }
   ],
   "source": [
    "%%time\n",
    "reg = dirichlet_regression.dirichletRegressor(spatial=True)\n",
    "reg.fit(X_train, Y_train, W=W_train, parametrization='alternative', gamma_0=gamma_0, Z=Z_train)"
   ]
  },
  {
   "cell_type": "code",
   "execution_count": 35,
   "metadata": {},
   "outputs": [
    {
     "data": {
      "text/plain": [
       "-0.36315396767676866"
      ]
     },
     "execution_count": 35,
     "metadata": {},
     "output_type": "execute_result"
    }
   ],
   "source": [
    "r2_score(Y_train,reg.mu)"
   ]
  },
  {
   "cell_type": "markdown",
   "metadata": {},
   "source": [
    "# Reducing the number of classes"
   ]
  },
  {
   "cell_type": "code",
   "execution_count": 36,
   "metadata": {},
   "outputs": [
    {
     "name": "stdout",
     "output_type": "stream",
     "text": [
      "[('NONE', 0), ('CAER', 1), ('CCDR', 2), ('CFCO', 3), ('CMCD', 4), ('CRER', 5), ('CSAG', 6), ('CSHR', 7), ('CTSR', 8), ('DW', 9), ('SDS', 10), ('SLSC', 11), ('SMSC', 12), ('SSS', 13), ('SSSC', 14)]\n"
     ]
    }
   ],
   "source": [
    "print([(zones[i],np.arange(15)[i]) for i in range(15)])"
   ]
  },
  {
   "cell_type": "code",
   "execution_count": 32,
   "metadata": {},
   "outputs": [],
   "source": [
    "Y_7 = np.zeros((n_samples,7))"
   ]
  },
  {
   "cell_type": "code",
   "execution_count": 37,
   "metadata": {},
   "outputs": [],
   "source": [
    "Y_7[:,0] = Y_maupiti[:,0] + Y_maupiti[:,9] #OTHER + DW\n",
    "Y_7[:,1] = Y_maupiti[:,11] + Y_maupiti[:,14] +Y_maupiti[:,12] #S-LSC + S-SSC + S-MSC\n",
    "Y_7[:,2] = Y_maupiti[:,13] + Y_maupiti[:,10]  #S-SS + S-DS\n",
    "Y_7[:,3] = Y_maupiti[:,3] + Y_maupiti[:,4]  #C-FCO + C-MCD\n",
    "Y_7[:,4] = Y_maupiti[:,8] + Y_maupiti[:,7]  + Y_maupiti[:,1] + Y_maupiti[:,2]  #C-TSR + C-SHR + C-AER + C-CDR\n",
    "Y_7[:,5] = Y_maupiti[:,5] #C-RER\n",
    "Y_7[:,6] = Y_maupiti[:,6] #C-SAG"
   ]
  },
  {
   "cell_type": "code",
   "execution_count": 39,
   "metadata": {},
   "outputs": [],
   "source": [
    "Y_7_star = (Y_7*(n_samples-1)+1/7)/n_samples"
   ]
  },
  {
   "cell_type": "code",
   "execution_count": 55,
   "metadata": {},
   "outputs": [],
   "source": [
    "Y_5 = np.zeros((n_samples,5))\n",
    "Y_5[:,0] = Y_maupiti[:,0] + Y_maupiti[:,9] #OTHER + DW\n",
    "Y_5[:,1] = Y_maupiti[:,13] +  Y_maupiti[:,10] + Y_maupiti[:,11] + Y_maupiti[:,14] #S-SS + S-DS + S-LSC + S-SSC\n",
    "Y_5[:,2] = Y_maupiti[:,12] + Y_maupiti[:,3] + Y_maupiti[:,4] + Y_maupiti[:,8] + Y_maupiti[:,7]  + Y_maupiti[:,1] + Y_maupiti[:,2]  #S-MSC + C-FCO + C-MCD + C-TSR + C-SHR + C-AER + C-CDR\n",
    "Y_5[:,3] = Y_maupiti[:,5] #C-RER\n",
    "Y_5[:,4] = Y_maupiti[:,6] #C-SAG"
   ]
  },
  {
   "cell_type": "code",
   "execution_count": 57,
   "metadata": {},
   "outputs": [],
   "source": [
    "Y_5_star = (Y_5*(n_samples-1)+1/5)/n_samples"
   ]
  },
  {
   "cell_type": "code",
   "execution_count": 50,
   "metadata": {},
   "outputs": [
    {
     "name": "stdout",
     "output_type": "stream",
     "text": [
      "Optimization terminated successfully.\n"
     ]
    }
   ],
   "source": [
    "reg_15 = dirichlet_regression.dirichletRegressor()\n",
    "reg_15.fit(X, Y_star_maupiti, parametrization='alternative', Z=np.ones((n_samples,1)))"
   ]
  },
  {
   "cell_type": "code",
   "execution_count": 51,
   "metadata": {},
   "outputs": [
    {
     "name": "stdout",
     "output_type": "stream",
     "text": [
      "-0.33920109332438525\n",
      "0.49005500362134213\n"
     ]
    }
   ],
   "source": [
    "print(r2_score(Y_star_maupiti,reg_15.mu))\n",
    "print(cos_similarity(Y_star_maupiti,reg_15.mu))"
   ]
  },
  {
   "cell_type": "code",
   "execution_count": 52,
   "metadata": {},
   "outputs": [
    {
     "name": "stdout",
     "output_type": "stream",
     "text": [
      "Optimization terminated successfully.\n"
     ]
    }
   ],
   "source": [
    "reg_7 = dirichlet_regression.dirichletRegressor()\n",
    "reg_7.fit(X, Y_7_star, parametrization='alternative', Z=np.ones((n_samples,1)))"
   ]
  },
  {
   "cell_type": "code",
   "execution_count": 56,
   "metadata": {},
   "outputs": [
    {
     "name": "stdout",
     "output_type": "stream",
     "text": [
      "0.046513379148061675\n",
      "0.6275671654654797\n"
     ]
    }
   ],
   "source": [
    "print(r2_score(Y_7,reg_7.mu))\n",
    "print(cos_similarity(Y_7,reg_7.mu))"
   ]
  },
  {
   "cell_type": "code",
   "execution_count": 58,
   "metadata": {},
   "outputs": [
    {
     "name": "stdout",
     "output_type": "stream",
     "text": [
      "Optimization terminated successfully.\n"
     ]
    }
   ],
   "source": [
    "reg_5 = dirichlet_regression.dirichletRegressor()\n",
    "reg_5.fit(X, Y_5_star, parametrization='alternative', Z=np.ones((n_samples,1)))"
   ]
  },
  {
   "cell_type": "code",
   "execution_count": 59,
   "metadata": {},
   "outputs": [
    {
     "name": "stdout",
     "output_type": "stream",
     "text": [
      "0.1093883598023551\n",
      "0.7327814686388259\n"
     ]
    }
   ],
   "source": [
    "print(r2_score(Y_5,reg_5.mu))\n",
    "print(cos_similarity(Y_5,reg_5.mu))"
   ]
  },
  {
   "cell_type": "code",
   "execution_count": null,
   "metadata": {},
   "outputs": [],
   "source": []
  }
 ],
 "metadata": {
  "kernelspec": {
   "display_name": "Python 3",
   "language": "python",
   "name": "python3"
  },
  "language_info": {
   "codemirror_mode": {
    "name": "ipython",
    "version": 3
   },
   "file_extension": ".py",
   "mimetype": "text/x-python",
   "name": "python",
   "nbconvert_exporter": "python",
   "pygments_lexer": "ipython3",
   "version": "3.8.5"
  }
 },
 "nbformat": 4,
 "nbformat_minor": 4
}
