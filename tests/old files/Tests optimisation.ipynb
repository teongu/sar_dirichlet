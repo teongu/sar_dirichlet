{
 "cells": [
  {
   "cell_type": "markdown",
   "metadata": {},
   "source": [
    "# Importing the packages and data"
   ]
  },
  {
   "cell_type": "code",
   "execution_count": 1,
   "metadata": {},
   "outputs": [],
   "source": [
    "%load_ext autoreload\n",
    "%autoreload 2"
   ]
  },
  {
   "cell_type": "code",
   "execution_count": 2,
   "metadata": {},
   "outputs": [],
   "source": [
    "import numpy as np\n",
    "import pandas as pd\n",
    "import matplotlib.pyplot as plt\n",
    "from mpl_toolkits import mplot3d\n",
    "import scipy\n",
    "from sklearn.metrics import r2_score\n",
    "from sklearn.metrics import mean_squared_error\n",
    "from scipy.special import gamma, digamma, polygamma\n",
    "import math\n",
    "\n",
    "from sklearn.neighbors import NearestNeighbors\n",
    "from sklearn.model_selection import train_test_split\n",
    "from sklearn.model_selection import KFold\n",
    "import random\n",
    "\n",
    "import scipy.optimize\n",
    "from scipy.optimize import Bounds"
   ]
  },
  {
   "cell_type": "code",
   "execution_count": 3,
   "metadata": {},
   "outputs": [],
   "source": [
    "import sys\n",
    "sys.path.append(\"../smote_cd/\")\n",
    "from smote_cd.dataset_generation import softmax"
   ]
  },
  {
   "cell_type": "code",
   "execution_count": 4,
   "metadata": {},
   "outputs": [],
   "source": [
    "import dirichlet_regression"
   ]
  },
  {
   "cell_type": "code",
   "execution_count": 222,
   "metadata": {},
   "outputs": [],
   "source": [
    "import dirichlet_regression_old"
   ]
  },
  {
   "cell_type": "code",
   "execution_count": 5,
   "metadata": {},
   "outputs": [],
   "source": [
    "from scipy.optimize import fmin, newton, minimize"
   ]
  },
  {
   "cell_type": "code",
   "execution_count": 208,
   "metadata": {},
   "outputs": [],
   "source": [
    "def create_features_matrices(n_samples,n_features,choice_W='X_dependent',threshold_neighbors=0.3,nneighbors=5):\n",
    "    X = np.random.uniform(size=(n_samples,n_features))\n",
    "    X = (X-X.min())/(X.max()-X.min())\n",
    "    X = np.array([np.concatenate(([1],x)) for x in X])\n",
    "    Z = np.random.uniform(size=(n_samples,n_features))\n",
    "    \n",
    "    if choice_W == 'random':\n",
    "        neighbors = NearestNeighbors(n_neighbors=nneighbors).fit(np.arange(n_samples).reshape(-1,1))\n",
    "        W = neighbors.kneighbors_graph(np.arange(n_samples).reshape(-1,1)).toarray()\n",
    "    else:\n",
    "        distance_matrix = scipy.spatial.distance_matrix(X,X)\n",
    "        W = np.zeros(np.shape(distance_matrix))\n",
    "        W[distance_matrix < threshold_neighbors] = 1\n",
    "    # replace the 1 on the diagonal by 0\n",
    "    np.fill_diagonal(W,0)\n",
    "    # scaling the matrix, so that the sum of each row is 1\n",
    "    W = W/W.sum(axis=1)[:,None]\n",
    "    return(X,Z,W)"
   ]
  },
  {
   "cell_type": "code",
   "execution_count": 292,
   "metadata": {},
   "outputs": [],
   "source": [
    "n_features = 2\n",
    "n_classes = 3\n",
    "n = 200\n",
    "\n",
    "np.random.seed(21)\n",
    "\n",
    "beta = np.array([[0.  , -1.6 , 1.],\n",
    "                 [0.  , 1.8, -1.4],\n",
    "                 [0.  , 1.4, -1.1 ]])\n",
    "\n",
    "gamma_var = np.round(np.random.normal(size=(n_features)),2)\n",
    "rho=0.1\n",
    "\n",
    "beta0 = np.zeros((n_features+1,n_classes-1))\n",
    "gamma0 = [0.5,0.5]\n",
    "rho0 = [0.]"
   ]
  },
  {
   "cell_type": "code",
   "execution_count": 293,
   "metadata": {},
   "outputs": [],
   "source": [
    "params0_ns = np.concatenate([beta0.flatten(),gamma0]) \n",
    "params0_s = np.concatenate([beta0.flatten(),gamma0,rho0]) "
   ]
  },
  {
   "cell_type": "code",
   "execution_count": 216,
   "metadata": {},
   "outputs": [],
   "source": [
    "X,Z,W = create_features_matrices(n,n_features,choice_W='random')"
   ]
  },
  {
   "cell_type": "code",
   "execution_count": 268,
   "metadata": {},
   "outputs": [],
   "source": [
    "M = np.identity(n) - rho*W\n",
    "phi = np.exp(np.matmul(Z,gamma_var))\n",
    "alpha = mu*phi[:,None]\n",
    "Y = np.array([np.random.dirichlet(alpha_i) for alpha_i in alpha])"
   ]
  },
  {
   "cell_type": "code",
   "execution_count": 286,
   "metadata": {},
   "outputs": [
    {
     "name": "stdout",
     "output_type": "stream",
     "text": [
      "Wall time: 32.9 ms\n"
     ]
    }
   ],
   "source": [
    "%%time\n",
    "solution_no_spatial = minimize(dirichlet_regression.objective_func_loglik_no_spatial, params0_ns, args=(X, Y, Z))"
   ]
  },
  {
   "cell_type": "code",
   "execution_count": 287,
   "metadata": {},
   "outputs": [
    {
     "name": "stdout",
     "output_type": "stream",
     "text": [
      "Optimization terminated successfully.\n"
     ]
    }
   ],
   "source": [
    "print(solution_no_spatial.message)\n",
    "beta_sol_ns = np.zeros((n_features+1, n_classes))\n",
    "beta_sol_ns[:,1:] = solution_no_spatial.x[:(n_features+1)*(n_classes-1)].reshape((n_features+1, n_classes-1))\n",
    "gamma_sol_ns = solution_no_spatial.x[(n_features+1)*(n_classes-1):]"
   ]
  },
  {
   "cell_type": "code",
   "execution_count": 289,
   "metadata": {},
   "outputs": [
    {
     "name": "stdout",
     "output_type": "stream",
     "text": [
      "[[ 0.  -1.6  1. ]\n",
      " [ 0.   1.8 -1.4]\n",
      " [ 0.   1.4 -1.1]]\n",
      "[[ 0.         -1.72359183  0.98397595]\n",
      " [ 0.          1.56487304 -1.46687742]\n",
      " [ 0.          1.62626268 -1.31521836]]\n"
     ]
    }
   ],
   "source": [
    "print(beta)\n",
    "print(beta_sol_ns)"
   ]
  },
  {
   "cell_type": "code",
   "execution_count": 290,
   "metadata": {},
   "outputs": [
    {
     "name": "stdout",
     "output_type": "stream",
     "text": [
      "[-0.05 -0.11]\n",
      "[ 0.08009107 -0.26238328]\n"
     ]
    }
   ],
   "source": [
    "print(gamma_var)\n",
    "print(gamma_sol_ns)"
   ]
  },
  {
   "cell_type": "code",
   "execution_count": 298,
   "metadata": {},
   "outputs": [
    {
     "name": "stdout",
     "output_type": "stream",
     "text": [
      "Wall time: 266 ms\n"
     ]
    }
   ],
   "source": [
    "%%time\n",
    "solution_spatial = minimize(dirichlet_regression.objective_func_loglik_spatial, params0_s, args=(X, Y, W, Z))"
   ]
  },
  {
   "cell_type": "code",
   "execution_count": 299,
   "metadata": {},
   "outputs": [
    {
     "name": "stdout",
     "output_type": "stream",
     "text": [
      "Optimization terminated successfully.\n"
     ]
    }
   ],
   "source": [
    "print(solution_spatial.message)\n",
    "beta_sol_s = np.zeros((n_features+1, n_classes))\n",
    "beta_sol_s[:,1:] = solution_spatial.x[:(n_features+1)*(n_classes-1)].reshape((n_features+1, n_classes-1))\n",
    "gamma_sol_s = solution_spatial.x[(n_features+1)*(n_classes-1):-1]\n",
    "rho_sol_s = solution_spatial.x[-1]"
   ]
  },
  {
   "cell_type": "code",
   "execution_count": 300,
   "metadata": {},
   "outputs": [
    {
     "name": "stdout",
     "output_type": "stream",
     "text": [
      "[[ 0.  -1.6  1. ]\n",
      " [ 0.   1.8 -1.4]\n",
      " [ 0.   1.4 -1.1]]\n",
      "[[ 0.         -1.71252533  1.02280318]\n",
      " [ 0.          1.56127227 -1.46999705]\n",
      " [ 0.          1.62037141 -1.33603333]]\n"
     ]
    }
   ],
   "source": [
    "print(beta)\n",
    "print(beta_sol_s)"
   ]
  },
  {
   "cell_type": "code",
   "execution_count": 301,
   "metadata": {},
   "outputs": [
    {
     "name": "stdout",
     "output_type": "stream",
     "text": [
      "[-0.05 -0.11]\n",
      "[ 0.08895287 -0.27187074]\n"
     ]
    }
   ],
   "source": [
    "print(gamma_var)\n",
    "print(gamma_sol_s)"
   ]
  },
  {
   "cell_type": "code",
   "execution_count": 302,
   "metadata": {},
   "outputs": [
    {
     "name": "stdout",
     "output_type": "stream",
     "text": [
      "0.1\n",
      "0.06042223140470986\n"
     ]
    }
   ],
   "source": [
    "print(rho)\n",
    "print(rho_sol_s)"
   ]
  },
  {
   "cell_type": "markdown",
   "metadata": {},
   "source": [
    "# Test speed with Maupiti data"
   ]
  },
  {
   "cell_type": "code",
   "execution_count": 316,
   "metadata": {},
   "outputs": [],
   "source": [
    "X_maupiti = np.array(pd.read_csv('Data Dirichlet/X_maupiti_for_softmax.csv', header=None))\n",
    "Y_maupiti = np.array(pd.read_csv('Data Dirichlet/Y_maupiti_for_softmax.csv',header=None))"
   ]
  },
  {
   "cell_type": "code",
   "execution_count": 318,
   "metadata": {},
   "outputs": [],
   "source": [
    "n_features = 5\n",
    "n_classes = 15"
   ]
  },
  {
   "cell_type": "code",
   "execution_count": 312,
   "metadata": {},
   "outputs": [],
   "source": [
    "n_maupiti = len(X_maupiti)"
   ]
  },
  {
   "cell_type": "code",
   "execution_count": 314,
   "metadata": {},
   "outputs": [],
   "source": [
    "train_ind, test_ind = train_test_split(np.arange(n_maupiti),test_size=0.25)"
   ]
  },
  {
   "cell_type": "code",
   "execution_count": 327,
   "metadata": {},
   "outputs": [],
   "source": [
    "X_maupiti_1 = np.ones((n_maupiti,n_features+1))\n",
    "X_maupiti_1[:,1:] = X_maupiti"
   ]
  },
  {
   "cell_type": "code",
   "execution_count": 328,
   "metadata": {
    "scrolled": true
   },
   "outputs": [],
   "source": [
    "X_train, X_test = X_maupiti_1[train_ind], X_maupiti_1[test_ind]\n",
    "Y_train, Y_test = Y_maupiti[train_ind], Y_maupiti[test_ind]\n",
    "#Z_train, Z_test = Z_maupiti[train_ind], Z_maupiti[test_ind]\n",
    "#W_train, W_test = W_maupiti[train_ind][:,train_ind], W_maupiti[test_ind][:,test_ind]"
   ]
  },
  {
   "cell_type": "code",
   "execution_count": 338,
   "metadata": {},
   "outputs": [],
   "source": [
    "beta_maupiti = np.zeros((1+n_features)*(n_classes-1))\n",
    "\n",
    "rho_maupiti = [0.1]\n",
    "\n",
    "params0_maupiti = np.concatenate([beta_maupiti.flatten(),rho_maupiti])\n",
    "params0_maupiti_ns = beta_maupiti.flatten()"
   ]
  },
  {
   "cell_type": "code",
   "execution_count": 339,
   "metadata": {},
   "outputs": [],
   "source": [
    "phi = np.ones(len(X_train))"
   ]
  },
  {
   "cell_type": "code",
   "execution_count": 340,
   "metadata": {},
   "outputs": [
    {
     "name": "stdout",
     "output_type": "stream",
     "text": [
      "Wall time: 2.8 s\n"
     ]
    }
   ],
   "source": [
    "%%time\n",
    "solution_no_spatial = minimize(dirichlet_regression.objective_func_loglik_no_spatial, params0_maupiti_ns, \n",
    "                               args=(X_train, Y_train, X_train, phi))"
   ]
  },
  {
   "cell_type": "code",
   "execution_count": 341,
   "metadata": {},
   "outputs": [
    {
     "data": {
      "text/plain": [
       "'Optimization terminated successfully.'"
      ]
     },
     "execution_count": 341,
     "metadata": {},
     "output_type": "execute_result"
    }
   ],
   "source": [
    "solution_no_spatial.message"
   ]
  },
  {
   "cell_type": "code",
   "execution_count": null,
   "metadata": {},
   "outputs": [],
   "source": []
  }
 ],
 "metadata": {
  "kernelspec": {
   "display_name": "Python 3",
   "language": "python",
   "name": "python3"
  },
  "language_info": {
   "codemirror_mode": {
    "name": "ipython",
    "version": 3
   },
   "file_extension": ".py",
   "mimetype": "text/x-python",
   "name": "python",
   "nbconvert_exporter": "python",
   "pygments_lexer": "ipython3",
   "version": "3.8.5"
  }
 },
 "nbformat": 4,
 "nbformat_minor": 4
}
