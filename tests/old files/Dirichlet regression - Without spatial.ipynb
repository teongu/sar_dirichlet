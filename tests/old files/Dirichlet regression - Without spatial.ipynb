{
 "cells": [
  {
   "cell_type": "markdown",
   "metadata": {},
   "source": [
    "# Importing the packages and data"
   ]
  },
  {
   "cell_type": "code",
   "execution_count": 1,
   "metadata": {},
   "outputs": [],
   "source": [
    "%load_ext autoreload\n",
    "%autoreload 2"
   ]
  },
  {
   "cell_type": "code",
   "execution_count": 2,
   "metadata": {},
   "outputs": [],
   "source": [
    "import numpy as np\n",
    "import pandas as pd\n",
    "import matplotlib.pyplot as plt\n",
    "from mpl_toolkits import mplot3d\n",
    "import scipy\n",
    "from sklearn.metrics import r2_score\n",
    "from sklearn.metrics import mean_squared_error\n",
    "from scipy.special import gamma, digamma, polygamma\n",
    "\n",
    "from sklearn.neighbors import NearestNeighbors\n",
    "from sklearn.model_selection import train_test_split\n",
    "from sklearn.model_selection import KFold\n",
    "import random\n",
    "\n",
    "import scipy.optimize"
   ]
  },
  {
   "cell_type": "code",
   "execution_count": 3,
   "metadata": {},
   "outputs": [],
   "source": [
    "import sys\n",
    "sys.path.append(\"../smote_cd/\")\n",
    "from smote_cd.dataset_generation import softmax"
   ]
  },
  {
   "cell_type": "code",
   "execution_count": 4,
   "metadata": {},
   "outputs": [],
   "source": [
    "import dirichlet_regression"
   ]
  },
  {
   "cell_type": "markdown",
   "metadata": {},
   "source": [
    "# Creation of the simulated data"
   ]
  },
  {
   "cell_type": "code",
   "execution_count": 5,
   "metadata": {},
   "outputs": [],
   "source": [
    "n = 1000 #nb of points\n",
    "K = 2 #nb of features\n",
    "J = 2 #nb of classes"
   ]
  },
  {
   "cell_type": "code",
   "execution_count": 6,
   "metadata": {},
   "outputs": [],
   "source": [
    "X = np.random.normal(size=(n,K))"
   ]
  },
  {
   "cell_type": "code",
   "execution_count": 7,
   "metadata": {},
   "outputs": [],
   "source": [
    "beta = np.random.randint(low=-5, high=5, size=(K,J))\n",
    "beta[:,0] = 0\n",
    "beta = np.array(beta,dtype=float)"
   ]
  },
  {
   "cell_type": "code",
   "execution_count": 8,
   "metadata": {},
   "outputs": [
    {
     "data": {
      "text/plain": [
       "array([[0., 2.],\n",
       "       [0., 2.]])"
      ]
     },
     "execution_count": 8,
     "metadata": {},
     "output_type": "execute_result"
    }
   ],
   "source": [
    "beta"
   ]
  },
  {
   "cell_type": "code",
   "execution_count": 9,
   "metadata": {},
   "outputs": [],
   "source": [
    "mu = dirichlet_regression.compute_mu(X, beta)"
   ]
  },
  {
   "cell_type": "code",
   "execution_count": 10,
   "metadata": {},
   "outputs": [],
   "source": [
    "#Z = np.ones(np.shape(X))\n",
    "#Z[:,1] += 1\n",
    "Z = np.copy(X)\n",
    "gamma_var = np.zeros(K)\n",
    "phi = np.exp(np.matmul(Z,gamma_var))\n",
    "\n",
    "#phi = np.ones(X.shape[0])"
   ]
  },
  {
   "cell_type": "code",
   "execution_count": 11,
   "metadata": {},
   "outputs": [],
   "source": [
    "alpha = np.copy(mu)\n",
    "for i in range(mu.shape[-1]):\n",
    "    alpha[:,i] = phi*mu[:,i]"
   ]
  },
  {
   "cell_type": "code",
   "execution_count": 12,
   "metadata": {},
   "outputs": [],
   "source": [
    "Y = np.zeros((n,J))\n",
    "for i in range(n):\n",
    "    Y[i] = np.random.dirichlet(alpha[i])"
   ]
  },
  {
   "cell_type": "code",
   "execution_count": 13,
   "metadata": {},
   "outputs": [],
   "source": [
    "Y_star = (Y*(n-1)+1/J)/n"
   ]
  },
  {
   "cell_type": "code",
   "execution_count": 14,
   "metadata": {},
   "outputs": [],
   "source": [
    "def dirichlet_ll(mu,Y,epsilon=0):\n",
    "    n = np.shape(Y)[0]\n",
    "    sum_ll = 0\n",
    "    for i in range(n):\n",
    "        term_B = np.sum(np.log(gamma(mu[i])))\n",
    "        term_C = np.sum((mu[i]-1)*np.log(Y[i]+epsilon))\n",
    "        sum_ll += - term_B + term_C\n",
    "    return sum_ll"
   ]
  },
  {
   "cell_type": "code",
   "execution_count": 15,
   "metadata": {},
   "outputs": [
    {
     "data": {
      "text/plain": [
       "32688.64987919114"
      ]
     },
     "execution_count": 15,
     "metadata": {},
     "output_type": "execute_result"
    }
   ],
   "source": [
    "dirichlet_ll(mu,Y,epsilon=1e-200)"
   ]
  },
  {
   "cell_type": "markdown",
   "metadata": {},
   "source": [
    "# Defining the functions"
   ]
  },
  {
   "cell_type": "code",
   "execution_count": 5,
   "metadata": {},
   "outputs": [],
   "source": [
    "def f(x, X, Y, Z, epsilon=0):\n",
    "    K = X.shape[-1]\n",
    "    J = Y.shape[-1]\n",
    "    print(x)\n",
    "    beta = x[:K*J].reshape((K,J))\n",
    "    beta[:,0] = 0\n",
    "    gamma_var = x[K*J:]\n",
    "    mu = dirichlet_regression.compute_mu(X, beta)\n",
    "    phi = np.exp(np.matmul(Z,gamma_var))\n",
    "    #alpha = np.copy(mu)\n",
    "    #for i in range(mu.shape[-1]):\n",
    "    #    alpha[:,i] = phi*mu[:,i]\n",
    "    return -dirichlet_regression.dirichlet_loglikelihood(mu,phi,Y,epsilon=epsilon)"
   ]
  },
  {
   "cell_type": "code",
   "execution_count": 6,
   "metadata": {},
   "outputs": [],
   "source": [
    "def fprime(x, X, Y, Z, epsilon=0):\n",
    "    K = X.shape[-1]\n",
    "    J = Y.shape[-1]\n",
    "    beta = x[:K*J].reshape((K,J))\n",
    "    beta[:,0] = 0\n",
    "    gamma_var = x[K*J:]\n",
    "    mu = dirichlet_regression.compute_mu(X, beta)\n",
    "    phi = np.exp(np.matmul(Z,gamma_var))\n",
    "    beta_grad = dirichlet_regression.dirichlet_gradient(mu, X, Y, epsilon=epsilon)\n",
    "    gamma_grad = dirichlet_regression.dirichlet_derivative_wrt_gamma(mu, phi, beta, X, Y, Z, epsilon=epsilon)\n",
    "    return(np.concatenate([beta_grad.flatten(),gamma_grad]))"
   ]
  },
  {
   "cell_type": "code",
   "execution_count": 101,
   "metadata": {},
   "outputs": [
    {
     "data": {
      "text/plain": [
       "array([[-233.63092477,  233.63092477],\n",
       "       [ 390.6714507 , -390.6714507 ]])"
      ]
     },
     "execution_count": 101,
     "metadata": {},
     "output_type": "execute_result"
    }
   ],
   "source": [
    "dirichlet_regression.dirichlet_gradient(mu, X, Y_star)"
   ]
  },
  {
   "cell_type": "code",
   "execution_count": 104,
   "metadata": {},
   "outputs": [
    {
     "name": "stdout",
     "output_type": "stream",
     "text": [
      "Wall time: 41.6 ms\n"
     ]
    },
    {
     "data": {
      "text/plain": [
       "array([-53.81276711,  53.81276711,  21.27329868, -21.27329868,\n",
       "         8.02841731,  14.01289448])"
      ]
     },
     "execution_count": 104,
     "metadata": {},
     "output_type": "execute_result"
    }
   ],
   "source": [
    "%%time\n",
    "fprime(np.concatenate([beta.flatten(),gamma_var]), X, Y, Z, epsilon=1e-200)"
   ]
  },
  {
   "cell_type": "code",
   "execution_count": 106,
   "metadata": {},
   "outputs": [],
   "source": [
    "beta0 = np.array([ [0., -2.], [0., 1.] ])\n",
    "gamma_var0 = np.array([0.,0.])"
   ]
  },
  {
   "cell_type": "code",
   "execution_count": 111,
   "metadata": {},
   "outputs": [
    {
     "name": "stdout",
     "output_type": "stream",
     "text": [
      "Wall time: 2.77 s\n"
     ]
    }
   ],
   "source": [
    "%%time\n",
    "solution=scipy.optimize.root(fprime, np.concatenate([beta0.flatten(),gamma_var0]), args=(X, Y, Z, 1e-200))"
   ]
  },
  {
   "cell_type": "code",
   "execution_count": 108,
   "metadata": {},
   "outputs": [
    {
     "data": {
      "text/plain": [
       "array([[ 0., -1.],\n",
       "       [ 0.,  2.]])"
      ]
     },
     "execution_count": 108,
     "metadata": {},
     "output_type": "execute_result"
    }
   ],
   "source": [
    "beta"
   ]
  },
  {
   "cell_type": "code",
   "execution_count": 112,
   "metadata": {},
   "outputs": [
    {
     "name": "stdout",
     "output_type": "stream",
     "text": [
      "The iteration is not making good progress, as measured by the \n",
      "  improvement from the last ten iterations.\n"
     ]
    },
    {
     "data": {
      "text/plain": [
       "array([ 0.        , -0.93640908,  0.        ,  1.97882121,  0.01069875,\n",
       "        0.01474153])"
      ]
     },
     "execution_count": 112,
     "metadata": {},
     "output_type": "execute_result"
    }
   ],
   "source": [
    "print(solution.message)\n",
    "solution.x"
   ]
  },
  {
   "cell_type": "code",
   "execution_count": 24,
   "metadata": {},
   "outputs": [
    {
     "data": {
      "text/plain": [
       "array([-4.57411886e-14,  6.04516437e-14,  8.77076189e-15, -5.05151476e-15,\n",
       "       -5.32907052e-15,  1.60427227e-14])"
      ]
     },
     "execution_count": 24,
     "metadata": {},
     "output_type": "execute_result"
    }
   ],
   "source": [
    "fprime(solution.x,X,Y_star,Z)"
   ]
  },
  {
   "cell_type": "code",
   "execution_count": 115,
   "metadata": {},
   "outputs": [
    {
     "name": "stdout",
     "output_type": "stream",
     "text": [
      "The solution converged.\n",
      "The solution converged.\n",
      "The solution converged.\n",
      "The solution converged.\n",
      "The solution converged.\n",
      "The iteration is not making good progress, as measured by the \n",
      "  improvement from the last ten iterations.\n",
      "The solution converged.\n"
     ]
    }
   ],
   "source": [
    "nb_points = [500,1000,2000,5000,10000,20000,40000]\n",
    "solutions=[]\n",
    "for nbp in nb_points:\n",
    "    X = np.random.normal(size=(nbp,K))\n",
    "    mu = dirichlet_regression.compute_mu(X, beta)\n",
    "    Z = np.copy(X)\n",
    "    gamma_var = np.zeros(K)\n",
    "    phi = np.exp(np.matmul(Z,gamma_var))\n",
    "    alpha = np.copy(mu)\n",
    "    for i in range(mu.shape[-1]):\n",
    "        alpha[:,i] = phi*mu[:,i]\n",
    "\n",
    "    Y = np.zeros((nbp,J))\n",
    "    for i in range(nbp):\n",
    "        Y[i] = np.random.dirichlet(alpha[i])\n",
    "    Y_star = (Y*(nbp-1)+1/J)/nbp\n",
    "    \n",
    "    solution=scipy.optimize.root(fprime, np.concatenate([beta0.flatten(),gamma_var0]), args=(X, Y, Z, 1e-200))\n",
    "    print(solution.message)\n",
    "    solutions.append(solution.x)"
   ]
  },
  {
   "cell_type": "code",
   "execution_count": 116,
   "metadata": {},
   "outputs": [
    {
     "data": {
      "text/plain": [
       "[array([ 0.        , -0.95489985,  0.        ,  1.94885036, -0.01372306,\n",
       "        -0.00858869]),\n",
       " array([ 0.        , -1.00023541,  0.        ,  1.94507178,  0.00588778,\n",
       "         0.01300829]),\n",
       " array([ 0.        , -0.96035482,  0.        ,  2.00121691, -0.03643766,\n",
       "        -0.00388542]),\n",
       " array([ 0.        , -0.9969869 ,  0.        ,  1.983427  ,  0.00329947,\n",
       "         0.02214222]),\n",
       " array([ 0.        , -0.99600988,  0.        ,  1.99165289, -0.0091117 ,\n",
       "        -0.00462273]),\n",
       " array([ 0.        , -0.99816477,  0.        ,  1.98125495, -0.00709168,\n",
       "         0.01485576]),\n",
       " array([ 0.00000000e+00, -9.86738633e-01,  0.00000000e+00,  1.96155992e+00,\n",
       "        -1.93457483e-03, -3.48742414e-03])]"
      ]
     },
     "execution_count": 116,
     "metadata": {},
     "output_type": "execute_result"
    }
   ],
   "source": [
    "solutions"
   ]
  },
  {
   "cell_type": "code",
   "execution_count": 31,
   "metadata": {},
   "outputs": [],
   "source": [
    "nbp=1000\n",
    "\n",
    "X = np.random.normal(size=(nbp,K))\n",
    "mu = dirichlet_regression.compute_mu(X, beta)\n",
    "Z = np.copy(X)\n",
    "gamma_var = np.zeros(K)\n",
    "phi = np.exp(np.matmul(Z,gamma_var))\n",
    "alpha = np.copy(mu)\n",
    "for i in range(mu.shape[-1]):\n",
    "    alpha[:,i] = phi*mu[:,i]\n",
    "    \n",
    "Y = np.zeros((nbp,J))\n",
    "for i in range(nbp):\n",
    "    Y[i] = np.random.dirichlet(alpha[i])\n",
    "Y_star = (Y+0.1e-200)/(1+0.1e-200)\n",
    "    \n",
    "solution=scipy.optimize.root(fprime, np.concatenate([beta0.flatten(),gamma_var0]), args=(X, Y_star, Z))"
   ]
  },
  {
   "cell_type": "code",
   "execution_count": 32,
   "metadata": {},
   "outputs": [
    {
     "data": {
      "text/plain": [
       "array([ 0.        , -3.64553731,  0.        ,  0.89811362,  0.01685097,\n",
       "       -0.0149323 ])"
      ]
     },
     "execution_count": 32,
     "metadata": {},
     "output_type": "execute_result"
    }
   ],
   "source": [
    "solution.x"
   ]
  },
  {
   "cell_type": "code",
   "execution_count": 65,
   "metadata": {},
   "outputs": [
    {
     "data": {
      "text/plain": [
       "1.0"
      ]
     },
     "execution_count": 65,
     "metadata": {},
     "output_type": "execute_result"
    }
   ],
   "source": [
    "r2_score(Y, Y_star)"
   ]
  },
  {
   "cell_type": "code",
   "execution_count": 53,
   "metadata": {},
   "outputs": [
    {
     "name": "stdout",
     "output_type": "stream",
     "text": [
      "Likelihood with real parameters: 666.1164550354915\n",
      "Likelihood with estimated parameters: 3174.031396261097\n"
     ]
    }
   ],
   "source": [
    "print(\"Likelihood with real parameters:\", -f(np.concatenate([beta.flatten(),gamma_var]), X, Y_star, Z))\n",
    "print(\"Likelihood with estimated parameters:\",-f(solution.x,X,Y_star,Z))"
   ]
  },
  {
   "cell_type": "code",
   "execution_count": 54,
   "metadata": {},
   "outputs": [],
   "source": [
    "mu_sol = dirichlet_regression.compute_mu(X, solution.x[:K*J].reshape(np.shape(beta)))\n",
    "\n",
    "gamma_var_sol = solution.x[K*J:]\n",
    "phi_sol = np.exp(np.matmul(Z,gamma_var_sol))\n",
    "\n",
    "alpha_sol = np.copy(mu_sol)\n",
    "for i in range(mu_sol.shape[-1]):\n",
    "    alpha_sol[:,i] = phi_sol*mu_sol[:,i]"
   ]
  },
  {
   "cell_type": "code",
   "execution_count": 56,
   "metadata": {},
   "outputs": [
    {
     "data": {
      "text/plain": [
       "array([[0.        , 0.8556936 ],\n",
       "       [0.        , 1.31877078]])"
      ]
     },
     "execution_count": 56,
     "metadata": {},
     "output_type": "execute_result"
    }
   ],
   "source": [
    "solution.x[:K*J].reshape(np.shape(beta))"
   ]
  },
  {
   "cell_type": "code",
   "execution_count": 58,
   "metadata": {},
   "outputs": [
    {
     "data": {
      "text/plain": [
       "4079.9039100954174"
      ]
     },
     "execution_count": 58,
     "metadata": {},
     "output_type": "execute_result"
    }
   ],
   "source": [
    "dirichlet_regression.dirichlet_loglikelihood(mu, phi, Y_star)"
   ]
  },
  {
   "cell_type": "code",
   "execution_count": 59,
   "metadata": {},
   "outputs": [
    {
     "data": {
      "text/plain": [
       "5596.784826159632"
      ]
     },
     "execution_count": 59,
     "metadata": {},
     "output_type": "execute_result"
    }
   ],
   "source": [
    "dirichlet_regression.dirichlet_loglikelihood(mu_sol, phi, Y_star)"
   ]
  },
  {
   "cell_type": "code",
   "execution_count": 78,
   "metadata": {},
   "outputs": [],
   "source": [
    "beta1 = np.linspace(-20, 0, 40)\n",
    "beta2 = np.linspace(0, 20, 40)\n",
    "beta1v, beta2v = np.meshgrid(beta1, beta2)"
   ]
  },
  {
   "cell_type": "code",
   "execution_count": 79,
   "metadata": {},
   "outputs": [
    {
     "name": "stdout",
     "output_type": "stream",
     "text": [
      "Wall time: 33.2 s\n"
     ]
    }
   ],
   "source": [
    "%%time\n",
    "list_loglikelihood = []\n",
    "for b1, b2 in zip(beta1v.flatten(), beta2v.flatten()):\n",
    "    beta_temp = np.array([[0.,b1],[0.,b2]])\n",
    "    mu_temp = dirichlet_regression.compute_mu(X,beta_temp)\n",
    "    list_loglikelihood.append(dirichlet_regression.dirichlet_loglikelihood(mu_temp, phi, Y_star))"
   ]
  },
  {
   "cell_type": "code",
   "execution_count": 80,
   "metadata": {},
   "outputs": [
    {
     "data": {
      "application/javascript": [
       "/* Put everything inside the global mpl namespace */\n",
       "/* global mpl */\n",
       "window.mpl = {};\n",
       "\n",
       "mpl.get_websocket_type = function () {\n",
       "    if (typeof WebSocket !== 'undefined') {\n",
       "        return WebSocket;\n",
       "    } else if (typeof MozWebSocket !== 'undefined') {\n",
       "        return MozWebSocket;\n",
       "    } else {\n",
       "        alert(\n",
       "            'Your browser does not have WebSocket support. ' +\n",
       "                'Please try Chrome, Safari or Firefox ≥ 6. ' +\n",
       "                'Firefox 4 and 5 are also supported but you ' +\n",
       "                'have to enable WebSockets in about:config.'\n",
       "        );\n",
       "    }\n",
       "};\n",
       "\n",
       "mpl.figure = function (figure_id, websocket, ondownload, parent_element) {\n",
       "    this.id = figure_id;\n",
       "\n",
       "    this.ws = websocket;\n",
       "\n",
       "    this.supports_binary = this.ws.binaryType !== undefined;\n",
       "\n",
       "    if (!this.supports_binary) {\n",
       "        var warnings = document.getElementById('mpl-warnings');\n",
       "        if (warnings) {\n",
       "            warnings.style.display = 'block';\n",
       "            warnings.textContent =\n",
       "                'This browser does not support binary websocket messages. ' +\n",
       "                'Performance may be slow.';\n",
       "        }\n",
       "    }\n",
       "\n",
       "    this.imageObj = new Image();\n",
       "\n",
       "    this.context = undefined;\n",
       "    this.message = undefined;\n",
       "    this.canvas = undefined;\n",
       "    this.rubberband_canvas = undefined;\n",
       "    this.rubberband_context = undefined;\n",
       "    this.format_dropdown = undefined;\n",
       "\n",
       "    this.image_mode = 'full';\n",
       "\n",
       "    this.root = document.createElement('div');\n",
       "    this.root.setAttribute('style', 'display: inline-block');\n",
       "    this._root_extra_style(this.root);\n",
       "\n",
       "    parent_element.appendChild(this.root);\n",
       "\n",
       "    this._init_header(this);\n",
       "    this._init_canvas(this);\n",
       "    this._init_toolbar(this);\n",
       "\n",
       "    var fig = this;\n",
       "\n",
       "    this.waiting = false;\n",
       "\n",
       "    this.ws.onopen = function () {\n",
       "        fig.send_message('supports_binary', { value: fig.supports_binary });\n",
       "        fig.send_message('send_image_mode', {});\n",
       "        if (fig.ratio !== 1) {\n",
       "            fig.send_message('set_device_pixel_ratio', {\n",
       "                device_pixel_ratio: fig.ratio,\n",
       "            });\n",
       "        }\n",
       "        fig.send_message('refresh', {});\n",
       "    };\n",
       "\n",
       "    this.imageObj.onload = function () {\n",
       "        if (fig.image_mode === 'full') {\n",
       "            // Full images could contain transparency (where diff images\n",
       "            // almost always do), so we need to clear the canvas so that\n",
       "            // there is no ghosting.\n",
       "            fig.context.clearRect(0, 0, fig.canvas.width, fig.canvas.height);\n",
       "        }\n",
       "        fig.context.drawImage(fig.imageObj, 0, 0);\n",
       "    };\n",
       "\n",
       "    this.imageObj.onunload = function () {\n",
       "        fig.ws.close();\n",
       "    };\n",
       "\n",
       "    this.ws.onmessage = this._make_on_message_function(this);\n",
       "\n",
       "    this.ondownload = ondownload;\n",
       "};\n",
       "\n",
       "mpl.figure.prototype._init_header = function () {\n",
       "    var titlebar = document.createElement('div');\n",
       "    titlebar.classList =\n",
       "        'ui-dialog-titlebar ui-widget-header ui-corner-all ui-helper-clearfix';\n",
       "    var titletext = document.createElement('div');\n",
       "    titletext.classList = 'ui-dialog-title';\n",
       "    titletext.setAttribute(\n",
       "        'style',\n",
       "        'width: 100%; text-align: center; padding: 3px;'\n",
       "    );\n",
       "    titlebar.appendChild(titletext);\n",
       "    this.root.appendChild(titlebar);\n",
       "    this.header = titletext;\n",
       "};\n",
       "\n",
       "mpl.figure.prototype._canvas_extra_style = function (_canvas_div) {};\n",
       "\n",
       "mpl.figure.prototype._root_extra_style = function (_canvas_div) {};\n",
       "\n",
       "mpl.figure.prototype._init_canvas = function () {\n",
       "    var fig = this;\n",
       "\n",
       "    var canvas_div = (this.canvas_div = document.createElement('div'));\n",
       "    canvas_div.setAttribute(\n",
       "        'style',\n",
       "        'border: 1px solid #ddd;' +\n",
       "            'box-sizing: content-box;' +\n",
       "            'clear: both;' +\n",
       "            'min-height: 1px;' +\n",
       "            'min-width: 1px;' +\n",
       "            'outline: 0;' +\n",
       "            'overflow: hidden;' +\n",
       "            'position: relative;' +\n",
       "            'resize: both;'\n",
       "    );\n",
       "\n",
       "    function on_keyboard_event_closure(name) {\n",
       "        return function (event) {\n",
       "            return fig.key_event(event, name);\n",
       "        };\n",
       "    }\n",
       "\n",
       "    canvas_div.addEventListener(\n",
       "        'keydown',\n",
       "        on_keyboard_event_closure('key_press')\n",
       "    );\n",
       "    canvas_div.addEventListener(\n",
       "        'keyup',\n",
       "        on_keyboard_event_closure('key_release')\n",
       "    );\n",
       "\n",
       "    this._canvas_extra_style(canvas_div);\n",
       "    this.root.appendChild(canvas_div);\n",
       "\n",
       "    var canvas = (this.canvas = document.createElement('canvas'));\n",
       "    canvas.classList.add('mpl-canvas');\n",
       "    canvas.setAttribute('style', 'box-sizing: content-box;');\n",
       "\n",
       "    this.context = canvas.getContext('2d');\n",
       "\n",
       "    var backingStore =\n",
       "        this.context.backingStorePixelRatio ||\n",
       "        this.context.webkitBackingStorePixelRatio ||\n",
       "        this.context.mozBackingStorePixelRatio ||\n",
       "        this.context.msBackingStorePixelRatio ||\n",
       "        this.context.oBackingStorePixelRatio ||\n",
       "        this.context.backingStorePixelRatio ||\n",
       "        1;\n",
       "\n",
       "    this.ratio = (window.devicePixelRatio || 1) / backingStore;\n",
       "\n",
       "    var rubberband_canvas = (this.rubberband_canvas = document.createElement(\n",
       "        'canvas'\n",
       "    ));\n",
       "    rubberband_canvas.setAttribute(\n",
       "        'style',\n",
       "        'box-sizing: content-box; position: absolute; left: 0; top: 0; z-index: 1;'\n",
       "    );\n",
       "\n",
       "    // Apply a ponyfill if ResizeObserver is not implemented by browser.\n",
       "    if (this.ResizeObserver === undefined) {\n",
       "        if (window.ResizeObserver !== undefined) {\n",
       "            this.ResizeObserver = window.ResizeObserver;\n",
       "        } else {\n",
       "            var obs = _JSXTOOLS_RESIZE_OBSERVER({});\n",
       "            this.ResizeObserver = obs.ResizeObserver;\n",
       "        }\n",
       "    }\n",
       "\n",
       "    this.resizeObserverInstance = new this.ResizeObserver(function (entries) {\n",
       "        var nentries = entries.length;\n",
       "        for (var i = 0; i < nentries; i++) {\n",
       "            var entry = entries[i];\n",
       "            var width, height;\n",
       "            if (entry.contentBoxSize) {\n",
       "                if (entry.contentBoxSize instanceof Array) {\n",
       "                    // Chrome 84 implements new version of spec.\n",
       "                    width = entry.contentBoxSize[0].inlineSize;\n",
       "                    height = entry.contentBoxSize[0].blockSize;\n",
       "                } else {\n",
       "                    // Firefox implements old version of spec.\n",
       "                    width = entry.contentBoxSize.inlineSize;\n",
       "                    height = entry.contentBoxSize.blockSize;\n",
       "                }\n",
       "            } else {\n",
       "                // Chrome <84 implements even older version of spec.\n",
       "                width = entry.contentRect.width;\n",
       "                height = entry.contentRect.height;\n",
       "            }\n",
       "\n",
       "            // Keep the size of the canvas and rubber band canvas in sync with\n",
       "            // the canvas container.\n",
       "            if (entry.devicePixelContentBoxSize) {\n",
       "                // Chrome 84 implements new version of spec.\n",
       "                canvas.setAttribute(\n",
       "                    'width',\n",
       "                    entry.devicePixelContentBoxSize[0].inlineSize\n",
       "                );\n",
       "                canvas.setAttribute(\n",
       "                    'height',\n",
       "                    entry.devicePixelContentBoxSize[0].blockSize\n",
       "                );\n",
       "            } else {\n",
       "                canvas.setAttribute('width', width * fig.ratio);\n",
       "                canvas.setAttribute('height', height * fig.ratio);\n",
       "            }\n",
       "            canvas.setAttribute(\n",
       "                'style',\n",
       "                'width: ' + width + 'px; height: ' + height + 'px;'\n",
       "            );\n",
       "\n",
       "            rubberband_canvas.setAttribute('width', width);\n",
       "            rubberband_canvas.setAttribute('height', height);\n",
       "\n",
       "            // And update the size in Python. We ignore the initial 0/0 size\n",
       "            // that occurs as the element is placed into the DOM, which should\n",
       "            // otherwise not happen due to the minimum size styling.\n",
       "            if (fig.ws.readyState == 1 && width != 0 && height != 0) {\n",
       "                fig.request_resize(width, height);\n",
       "            }\n",
       "        }\n",
       "    });\n",
       "    this.resizeObserverInstance.observe(canvas_div);\n",
       "\n",
       "    function on_mouse_event_closure(name) {\n",
       "        return function (event) {\n",
       "            return fig.mouse_event(event, name);\n",
       "        };\n",
       "    }\n",
       "\n",
       "    rubberband_canvas.addEventListener(\n",
       "        'mousedown',\n",
       "        on_mouse_event_closure('button_press')\n",
       "    );\n",
       "    rubberband_canvas.addEventListener(\n",
       "        'mouseup',\n",
       "        on_mouse_event_closure('button_release')\n",
       "    );\n",
       "    rubberband_canvas.addEventListener(\n",
       "        'dblclick',\n",
       "        on_mouse_event_closure('dblclick')\n",
       "    );\n",
       "    // Throttle sequential mouse events to 1 every 20ms.\n",
       "    rubberband_canvas.addEventListener(\n",
       "        'mousemove',\n",
       "        on_mouse_event_closure('motion_notify')\n",
       "    );\n",
       "\n",
       "    rubberband_canvas.addEventListener(\n",
       "        'mouseenter',\n",
       "        on_mouse_event_closure('figure_enter')\n",
       "    );\n",
       "    rubberband_canvas.addEventListener(\n",
       "        'mouseleave',\n",
       "        on_mouse_event_closure('figure_leave')\n",
       "    );\n",
       "\n",
       "    canvas_div.addEventListener('wheel', function (event) {\n",
       "        if (event.deltaY < 0) {\n",
       "            event.step = 1;\n",
       "        } else {\n",
       "            event.step = -1;\n",
       "        }\n",
       "        on_mouse_event_closure('scroll')(event);\n",
       "    });\n",
       "\n",
       "    canvas_div.appendChild(canvas);\n",
       "    canvas_div.appendChild(rubberband_canvas);\n",
       "\n",
       "    this.rubberband_context = rubberband_canvas.getContext('2d');\n",
       "    this.rubberband_context.strokeStyle = '#000000';\n",
       "\n",
       "    this._resize_canvas = function (width, height, forward) {\n",
       "        if (forward) {\n",
       "            canvas_div.style.width = width + 'px';\n",
       "            canvas_div.style.height = height + 'px';\n",
       "        }\n",
       "    };\n",
       "\n",
       "    // Disable right mouse context menu.\n",
       "    this.rubberband_canvas.addEventListener('contextmenu', function (_e) {\n",
       "        event.preventDefault();\n",
       "        return false;\n",
       "    });\n",
       "\n",
       "    function set_focus() {\n",
       "        canvas.focus();\n",
       "        canvas_div.focus();\n",
       "    }\n",
       "\n",
       "    window.setTimeout(set_focus, 100);\n",
       "};\n",
       "\n",
       "mpl.figure.prototype._init_toolbar = function () {\n",
       "    var fig = this;\n",
       "\n",
       "    var toolbar = document.createElement('div');\n",
       "    toolbar.classList = 'mpl-toolbar';\n",
       "    this.root.appendChild(toolbar);\n",
       "\n",
       "    function on_click_closure(name) {\n",
       "        return function (_event) {\n",
       "            return fig.toolbar_button_onclick(name);\n",
       "        };\n",
       "    }\n",
       "\n",
       "    function on_mouseover_closure(tooltip) {\n",
       "        return function (event) {\n",
       "            if (!event.currentTarget.disabled) {\n",
       "                return fig.toolbar_button_onmouseover(tooltip);\n",
       "            }\n",
       "        };\n",
       "    }\n",
       "\n",
       "    fig.buttons = {};\n",
       "    var buttonGroup = document.createElement('div');\n",
       "    buttonGroup.classList = 'mpl-button-group';\n",
       "    for (var toolbar_ind in mpl.toolbar_items) {\n",
       "        var name = mpl.toolbar_items[toolbar_ind][0];\n",
       "        var tooltip = mpl.toolbar_items[toolbar_ind][1];\n",
       "        var image = mpl.toolbar_items[toolbar_ind][2];\n",
       "        var method_name = mpl.toolbar_items[toolbar_ind][3];\n",
       "\n",
       "        if (!name) {\n",
       "            /* Instead of a spacer, we start a new button group. */\n",
       "            if (buttonGroup.hasChildNodes()) {\n",
       "                toolbar.appendChild(buttonGroup);\n",
       "            }\n",
       "            buttonGroup = document.createElement('div');\n",
       "            buttonGroup.classList = 'mpl-button-group';\n",
       "            continue;\n",
       "        }\n",
       "\n",
       "        var button = (fig.buttons[name] = document.createElement('button'));\n",
       "        button.classList = 'mpl-widget';\n",
       "        button.setAttribute('role', 'button');\n",
       "        button.setAttribute('aria-disabled', 'false');\n",
       "        button.addEventListener('click', on_click_closure(method_name));\n",
       "        button.addEventListener('mouseover', on_mouseover_closure(tooltip));\n",
       "\n",
       "        var icon_img = document.createElement('img');\n",
       "        icon_img.src = '_images/' + image + '.png';\n",
       "        icon_img.srcset = '_images/' + image + '_large.png 2x';\n",
       "        icon_img.alt = tooltip;\n",
       "        button.appendChild(icon_img);\n",
       "\n",
       "        buttonGroup.appendChild(button);\n",
       "    }\n",
       "\n",
       "    if (buttonGroup.hasChildNodes()) {\n",
       "        toolbar.appendChild(buttonGroup);\n",
       "    }\n",
       "\n",
       "    var fmt_picker = document.createElement('select');\n",
       "    fmt_picker.classList = 'mpl-widget';\n",
       "    toolbar.appendChild(fmt_picker);\n",
       "    this.format_dropdown = fmt_picker;\n",
       "\n",
       "    for (var ind in mpl.extensions) {\n",
       "        var fmt = mpl.extensions[ind];\n",
       "        var option = document.createElement('option');\n",
       "        option.selected = fmt === mpl.default_extension;\n",
       "        option.innerHTML = fmt;\n",
       "        fmt_picker.appendChild(option);\n",
       "    }\n",
       "\n",
       "    var status_bar = document.createElement('span');\n",
       "    status_bar.classList = 'mpl-message';\n",
       "    toolbar.appendChild(status_bar);\n",
       "    this.message = status_bar;\n",
       "};\n",
       "\n",
       "mpl.figure.prototype.request_resize = function (x_pixels, y_pixels) {\n",
       "    // Request matplotlib to resize the figure. Matplotlib will then trigger a resize in the client,\n",
       "    // which will in turn request a refresh of the image.\n",
       "    this.send_message('resize', { width: x_pixels, height: y_pixels });\n",
       "};\n",
       "\n",
       "mpl.figure.prototype.send_message = function (type, properties) {\n",
       "    properties['type'] = type;\n",
       "    properties['figure_id'] = this.id;\n",
       "    this.ws.send(JSON.stringify(properties));\n",
       "};\n",
       "\n",
       "mpl.figure.prototype.send_draw_message = function () {\n",
       "    if (!this.waiting) {\n",
       "        this.waiting = true;\n",
       "        this.ws.send(JSON.stringify({ type: 'draw', figure_id: this.id }));\n",
       "    }\n",
       "};\n",
       "\n",
       "mpl.figure.prototype.handle_save = function (fig, _msg) {\n",
       "    var format_dropdown = fig.format_dropdown;\n",
       "    var format = format_dropdown.options[format_dropdown.selectedIndex].value;\n",
       "    fig.ondownload(fig, format);\n",
       "};\n",
       "\n",
       "mpl.figure.prototype.handle_resize = function (fig, msg) {\n",
       "    var size = msg['size'];\n",
       "    if (size[0] !== fig.canvas.width || size[1] !== fig.canvas.height) {\n",
       "        fig._resize_canvas(size[0], size[1], msg['forward']);\n",
       "        fig.send_message('refresh', {});\n",
       "    }\n",
       "};\n",
       "\n",
       "mpl.figure.prototype.handle_rubberband = function (fig, msg) {\n",
       "    var x0 = msg['x0'] / fig.ratio;\n",
       "    var y0 = (fig.canvas.height - msg['y0']) / fig.ratio;\n",
       "    var x1 = msg['x1'] / fig.ratio;\n",
       "    var y1 = (fig.canvas.height - msg['y1']) / fig.ratio;\n",
       "    x0 = Math.floor(x0) + 0.5;\n",
       "    y0 = Math.floor(y0) + 0.5;\n",
       "    x1 = Math.floor(x1) + 0.5;\n",
       "    y1 = Math.floor(y1) + 0.5;\n",
       "    var min_x = Math.min(x0, x1);\n",
       "    var min_y = Math.min(y0, y1);\n",
       "    var width = Math.abs(x1 - x0);\n",
       "    var height = Math.abs(y1 - y0);\n",
       "\n",
       "    fig.rubberband_context.clearRect(\n",
       "        0,\n",
       "        0,\n",
       "        fig.canvas.width / fig.ratio,\n",
       "        fig.canvas.height / fig.ratio\n",
       "    );\n",
       "\n",
       "    fig.rubberband_context.strokeRect(min_x, min_y, width, height);\n",
       "};\n",
       "\n",
       "mpl.figure.prototype.handle_figure_label = function (fig, msg) {\n",
       "    // Updates the figure title.\n",
       "    fig.header.textContent = msg['label'];\n",
       "};\n",
       "\n",
       "mpl.figure.prototype.handle_cursor = function (fig, msg) {\n",
       "    fig.rubberband_canvas.style.cursor = msg['cursor'];\n",
       "};\n",
       "\n",
       "mpl.figure.prototype.handle_message = function (fig, msg) {\n",
       "    fig.message.textContent = msg['message'];\n",
       "};\n",
       "\n",
       "mpl.figure.prototype.handle_draw = function (fig, _msg) {\n",
       "    // Request the server to send over a new figure.\n",
       "    fig.send_draw_message();\n",
       "};\n",
       "\n",
       "mpl.figure.prototype.handle_image_mode = function (fig, msg) {\n",
       "    fig.image_mode = msg['mode'];\n",
       "};\n",
       "\n",
       "mpl.figure.prototype.handle_history_buttons = function (fig, msg) {\n",
       "    for (var key in msg) {\n",
       "        if (!(key in fig.buttons)) {\n",
       "            continue;\n",
       "        }\n",
       "        fig.buttons[key].disabled = !msg[key];\n",
       "        fig.buttons[key].setAttribute('aria-disabled', !msg[key]);\n",
       "    }\n",
       "};\n",
       "\n",
       "mpl.figure.prototype.handle_navigate_mode = function (fig, msg) {\n",
       "    if (msg['mode'] === 'PAN') {\n",
       "        fig.buttons['Pan'].classList.add('active');\n",
       "        fig.buttons['Zoom'].classList.remove('active');\n",
       "    } else if (msg['mode'] === 'ZOOM') {\n",
       "        fig.buttons['Pan'].classList.remove('active');\n",
       "        fig.buttons['Zoom'].classList.add('active');\n",
       "    } else {\n",
       "        fig.buttons['Pan'].classList.remove('active');\n",
       "        fig.buttons['Zoom'].classList.remove('active');\n",
       "    }\n",
       "};\n",
       "\n",
       "mpl.figure.prototype.updated_canvas_event = function () {\n",
       "    // Called whenever the canvas gets updated.\n",
       "    this.send_message('ack', {});\n",
       "};\n",
       "\n",
       "// A function to construct a web socket function for onmessage handling.\n",
       "// Called in the figure constructor.\n",
       "mpl.figure.prototype._make_on_message_function = function (fig) {\n",
       "    return function socket_on_message(evt) {\n",
       "        if (evt.data instanceof Blob) {\n",
       "            var img = evt.data;\n",
       "            if (img.type !== 'image/png') {\n",
       "                /* FIXME: We get \"Resource interpreted as Image but\n",
       "                 * transferred with MIME type text/plain:\" errors on\n",
       "                 * Chrome.  But how to set the MIME type?  It doesn't seem\n",
       "                 * to be part of the websocket stream */\n",
       "                img.type = 'image/png';\n",
       "            }\n",
       "\n",
       "            /* Free the memory for the previous frames */\n",
       "            if (fig.imageObj.src) {\n",
       "                (window.URL || window.webkitURL).revokeObjectURL(\n",
       "                    fig.imageObj.src\n",
       "                );\n",
       "            }\n",
       "\n",
       "            fig.imageObj.src = (window.URL || window.webkitURL).createObjectURL(\n",
       "                img\n",
       "            );\n",
       "            fig.updated_canvas_event();\n",
       "            fig.waiting = false;\n",
       "            return;\n",
       "        } else if (\n",
       "            typeof evt.data === 'string' &&\n",
       "            evt.data.slice(0, 21) === 'data:image/png;base64'\n",
       "        ) {\n",
       "            fig.imageObj.src = evt.data;\n",
       "            fig.updated_canvas_event();\n",
       "            fig.waiting = false;\n",
       "            return;\n",
       "        }\n",
       "\n",
       "        var msg = JSON.parse(evt.data);\n",
       "        var msg_type = msg['type'];\n",
       "\n",
       "        // Call the  \"handle_{type}\" callback, which takes\n",
       "        // the figure and JSON message as its only arguments.\n",
       "        try {\n",
       "            var callback = fig['handle_' + msg_type];\n",
       "        } catch (e) {\n",
       "            console.log(\n",
       "                \"No handler for the '\" + msg_type + \"' message type: \",\n",
       "                msg\n",
       "            );\n",
       "            return;\n",
       "        }\n",
       "\n",
       "        if (callback) {\n",
       "            try {\n",
       "                // console.log(\"Handling '\" + msg_type + \"' message: \", msg);\n",
       "                callback(fig, msg);\n",
       "            } catch (e) {\n",
       "                console.log(\n",
       "                    \"Exception inside the 'handler_\" + msg_type + \"' callback:\",\n",
       "                    e,\n",
       "                    e.stack,\n",
       "                    msg\n",
       "                );\n",
       "            }\n",
       "        }\n",
       "    };\n",
       "};\n",
       "\n",
       "// from https://stackoverflow.com/questions/1114465/getting-mouse-location-in-canvas\n",
       "mpl.findpos = function (e) {\n",
       "    //this section is from http://www.quirksmode.org/js/events_properties.html\n",
       "    var targ;\n",
       "    if (!e) {\n",
       "        e = window.event;\n",
       "    }\n",
       "    if (e.target) {\n",
       "        targ = e.target;\n",
       "    } else if (e.srcElement) {\n",
       "        targ = e.srcElement;\n",
       "    }\n",
       "    if (targ.nodeType === 3) {\n",
       "        // defeat Safari bug\n",
       "        targ = targ.parentNode;\n",
       "    }\n",
       "\n",
       "    // pageX,Y are the mouse positions relative to the document\n",
       "    var boundingRect = targ.getBoundingClientRect();\n",
       "    var x = e.pageX - (boundingRect.left + document.body.scrollLeft);\n",
       "    var y = e.pageY - (boundingRect.top + document.body.scrollTop);\n",
       "\n",
       "    return { x: x, y: y };\n",
       "};\n",
       "\n",
       "/*\n",
       " * return a copy of an object with only non-object keys\n",
       " * we need this to avoid circular references\n",
       " * https://stackoverflow.com/a/24161582/3208463\n",
       " */\n",
       "function simpleKeys(original) {\n",
       "    return Object.keys(original).reduce(function (obj, key) {\n",
       "        if (typeof original[key] !== 'object') {\n",
       "            obj[key] = original[key];\n",
       "        }\n",
       "        return obj;\n",
       "    }, {});\n",
       "}\n",
       "\n",
       "mpl.figure.prototype.mouse_event = function (event, name) {\n",
       "    var canvas_pos = mpl.findpos(event);\n",
       "\n",
       "    if (name === 'button_press') {\n",
       "        this.canvas.focus();\n",
       "        this.canvas_div.focus();\n",
       "    }\n",
       "\n",
       "    var x = canvas_pos.x * this.ratio;\n",
       "    var y = canvas_pos.y * this.ratio;\n",
       "\n",
       "    this.send_message(name, {\n",
       "        x: x,\n",
       "        y: y,\n",
       "        button: event.button,\n",
       "        step: event.step,\n",
       "        guiEvent: simpleKeys(event),\n",
       "    });\n",
       "\n",
       "    /* This prevents the web browser from automatically changing to\n",
       "     * the text insertion cursor when the button is pressed.  We want\n",
       "     * to control all of the cursor setting manually through the\n",
       "     * 'cursor' event from matplotlib */\n",
       "    event.preventDefault();\n",
       "    return false;\n",
       "};\n",
       "\n",
       "mpl.figure.prototype._key_event_extra = function (_event, _name) {\n",
       "    // Handle any extra behaviour associated with a key event\n",
       "};\n",
       "\n",
       "mpl.figure.prototype.key_event = function (event, name) {\n",
       "    // Prevent repeat events\n",
       "    if (name === 'key_press') {\n",
       "        if (event.key === this._key) {\n",
       "            return;\n",
       "        } else {\n",
       "            this._key = event.key;\n",
       "        }\n",
       "    }\n",
       "    if (name === 'key_release') {\n",
       "        this._key = null;\n",
       "    }\n",
       "\n",
       "    var value = '';\n",
       "    if (event.ctrlKey && event.key !== 'Control') {\n",
       "        value += 'ctrl+';\n",
       "    }\n",
       "    else if (event.altKey && event.key !== 'Alt') {\n",
       "        value += 'alt+';\n",
       "    }\n",
       "    else if (event.shiftKey && event.key !== 'Shift') {\n",
       "        value += 'shift+';\n",
       "    }\n",
       "\n",
       "    value += 'k' + event.key;\n",
       "\n",
       "    this._key_event_extra(event, name);\n",
       "\n",
       "    this.send_message(name, { key: value, guiEvent: simpleKeys(event) });\n",
       "    return false;\n",
       "};\n",
       "\n",
       "mpl.figure.prototype.toolbar_button_onclick = function (name) {\n",
       "    if (name === 'download') {\n",
       "        this.handle_save(this, null);\n",
       "    } else {\n",
       "        this.send_message('toolbar_button', { name: name });\n",
       "    }\n",
       "};\n",
       "\n",
       "mpl.figure.prototype.toolbar_button_onmouseover = function (tooltip) {\n",
       "    this.message.textContent = tooltip;\n",
       "};\n",
       "\n",
       "///////////////// REMAINING CONTENT GENERATED BY embed_js.py /////////////////\n",
       "// prettier-ignore\n",
       "var _JSXTOOLS_RESIZE_OBSERVER=function(A){var t,i=new WeakMap,n=new WeakMap,a=new WeakMap,r=new WeakMap,o=new Set;function s(e){if(!(this instanceof s))throw new TypeError(\"Constructor requires 'new' operator\");i.set(this,e)}function h(){throw new TypeError(\"Function is not a constructor\")}function c(e,t,i,n){e=0 in arguments?Number(arguments[0]):0,t=1 in arguments?Number(arguments[1]):0,i=2 in arguments?Number(arguments[2]):0,n=3 in arguments?Number(arguments[3]):0,this.right=(this.x=this.left=e)+(this.width=i),this.bottom=(this.y=this.top=t)+(this.height=n),Object.freeze(this)}function d(){t=requestAnimationFrame(d);var s=new WeakMap,p=new Set;o.forEach((function(t){r.get(t).forEach((function(i){var r=t instanceof window.SVGElement,o=a.get(t),d=r?0:parseFloat(o.paddingTop),f=r?0:parseFloat(o.paddingRight),l=r?0:parseFloat(o.paddingBottom),u=r?0:parseFloat(o.paddingLeft),g=r?0:parseFloat(o.borderTopWidth),m=r?0:parseFloat(o.borderRightWidth),w=r?0:parseFloat(o.borderBottomWidth),b=u+f,F=d+l,v=(r?0:parseFloat(o.borderLeftWidth))+m,W=g+w,y=r?0:t.offsetHeight-W-t.clientHeight,E=r?0:t.offsetWidth-v-t.clientWidth,R=b+v,z=F+W,M=r?t.width:parseFloat(o.width)-R-E,O=r?t.height:parseFloat(o.height)-z-y;if(n.has(t)){var k=n.get(t);if(k[0]===M&&k[1]===O)return}n.set(t,[M,O]);var S=Object.create(h.prototype);S.target=t,S.contentRect=new c(u,d,M,O),s.has(i)||(s.set(i,[]),p.add(i)),s.get(i).push(S)}))})),p.forEach((function(e){i.get(e).call(e,s.get(e),e)}))}return s.prototype.observe=function(i){if(i instanceof window.Element){r.has(i)||(r.set(i,new Set),o.add(i),a.set(i,window.getComputedStyle(i)));var n=r.get(i);n.has(this)||n.add(this),cancelAnimationFrame(t),t=requestAnimationFrame(d)}},s.prototype.unobserve=function(i){if(i instanceof window.Element&&r.has(i)){var n=r.get(i);n.has(this)&&(n.delete(this),n.size||(r.delete(i),o.delete(i))),n.size||r.delete(i),o.size||cancelAnimationFrame(t)}},A.DOMRectReadOnly=c,A.ResizeObserver=s,A.ResizeObserverEntry=h,A}; // eslint-disable-line\n",
       "mpl.toolbar_items = [[\"Home\", \"Reset original view\", \"fa fa-home icon-home\", \"home\"], [\"Back\", \"Back to previous view\", \"fa fa-arrow-left icon-arrow-left\", \"back\"], [\"Forward\", \"Forward to next view\", \"fa fa-arrow-right icon-arrow-right\", \"forward\"], [\"\", \"\", \"\", \"\"], [\"Pan\", \"Left button pans, Right button zooms\\nx/y fixes axis, CTRL fixes aspect\", \"fa fa-arrows icon-move\", \"pan\"], [\"Zoom\", \"Zoom to rectangle\\nx/y fixes axis\", \"fa fa-square-o icon-check-empty\", \"zoom\"], [\"\", \"\", \"\", \"\"], [\"Download\", \"Download plot\", \"fa fa-floppy-o icon-save\", \"download\"]];\n",
       "\n",
       "mpl.extensions = [\"eps\", \"jpeg\", \"pgf\", \"pdf\", \"png\", \"ps\", \"raw\", \"svg\", \"tif\"];\n",
       "\n",
       "mpl.default_extension = \"png\";/* global mpl */\n",
       "\n",
       "var comm_websocket_adapter = function (comm) {\n",
       "    // Create a \"websocket\"-like object which calls the given IPython comm\n",
       "    // object with the appropriate methods. Currently this is a non binary\n",
       "    // socket, so there is still some room for performance tuning.\n",
       "    var ws = {};\n",
       "\n",
       "    ws.binaryType = comm.kernel.ws.binaryType;\n",
       "    ws.readyState = comm.kernel.ws.readyState;\n",
       "    function updateReadyState(_event) {\n",
       "        if (comm.kernel.ws) {\n",
       "            ws.readyState = comm.kernel.ws.readyState;\n",
       "        } else {\n",
       "            ws.readyState = 3; // Closed state.\n",
       "        }\n",
       "    }\n",
       "    comm.kernel.ws.addEventListener('open', updateReadyState);\n",
       "    comm.kernel.ws.addEventListener('close', updateReadyState);\n",
       "    comm.kernel.ws.addEventListener('error', updateReadyState);\n",
       "\n",
       "    ws.close = function () {\n",
       "        comm.close();\n",
       "    };\n",
       "    ws.send = function (m) {\n",
       "        //console.log('sending', m);\n",
       "        comm.send(m);\n",
       "    };\n",
       "    // Register the callback with on_msg.\n",
       "    comm.on_msg(function (msg) {\n",
       "        //console.log('receiving', msg['content']['data'], msg);\n",
       "        var data = msg['content']['data'];\n",
       "        if (data['blob'] !== undefined) {\n",
       "            data = {\n",
       "                data: new Blob(msg['buffers'], { type: data['blob'] }),\n",
       "            };\n",
       "        }\n",
       "        // Pass the mpl event to the overridden (by mpl) onmessage function.\n",
       "        ws.onmessage(data);\n",
       "    });\n",
       "    return ws;\n",
       "};\n",
       "\n",
       "mpl.mpl_figure_comm = function (comm, msg) {\n",
       "    // This is the function which gets called when the mpl process\n",
       "    // starts-up an IPython Comm through the \"matplotlib\" channel.\n",
       "\n",
       "    var id = msg.content.data.id;\n",
       "    // Get hold of the div created by the display call when the Comm\n",
       "    // socket was opened in Python.\n",
       "    var element = document.getElementById(id);\n",
       "    var ws_proxy = comm_websocket_adapter(comm);\n",
       "\n",
       "    function ondownload(figure, _format) {\n",
       "        window.open(figure.canvas.toDataURL());\n",
       "    }\n",
       "\n",
       "    var fig = new mpl.figure(id, ws_proxy, ondownload, element);\n",
       "\n",
       "    // Call onopen now - mpl needs it, as it is assuming we've passed it a real\n",
       "    // web socket which is closed, not our websocket->open comm proxy.\n",
       "    ws_proxy.onopen();\n",
       "\n",
       "    fig.parent_element = element;\n",
       "    fig.cell_info = mpl.find_output_cell(\"<div id='\" + id + \"'></div>\");\n",
       "    if (!fig.cell_info) {\n",
       "        console.error('Failed to find cell for figure', id, fig);\n",
       "        return;\n",
       "    }\n",
       "    fig.cell_info[0].output_area.element.on(\n",
       "        'cleared',\n",
       "        { fig: fig },\n",
       "        fig._remove_fig_handler\n",
       "    );\n",
       "};\n",
       "\n",
       "mpl.figure.prototype.handle_close = function (fig, msg) {\n",
       "    var width = fig.canvas.width / fig.ratio;\n",
       "    fig.cell_info[0].output_area.element.off(\n",
       "        'cleared',\n",
       "        fig._remove_fig_handler\n",
       "    );\n",
       "    fig.resizeObserverInstance.unobserve(fig.canvas_div);\n",
       "\n",
       "    // Update the output cell to use the data from the current canvas.\n",
       "    fig.push_to_output();\n",
       "    var dataURL = fig.canvas.toDataURL();\n",
       "    // Re-enable the keyboard manager in IPython - without this line, in FF,\n",
       "    // the notebook keyboard shortcuts fail.\n",
       "    IPython.keyboard_manager.enable();\n",
       "    fig.parent_element.innerHTML =\n",
       "        '<img src=\"' + dataURL + '\" width=\"' + width + '\">';\n",
       "    fig.close_ws(fig, msg);\n",
       "};\n",
       "\n",
       "mpl.figure.prototype.close_ws = function (fig, msg) {\n",
       "    fig.send_message('closing', msg);\n",
       "    // fig.ws.close()\n",
       "};\n",
       "\n",
       "mpl.figure.prototype.push_to_output = function (_remove_interactive) {\n",
       "    // Turn the data on the canvas into data in the output cell.\n",
       "    var width = this.canvas.width / this.ratio;\n",
       "    var dataURL = this.canvas.toDataURL();\n",
       "    this.cell_info[1]['text/html'] =\n",
       "        '<img src=\"' + dataURL + '\" width=\"' + width + '\">';\n",
       "};\n",
       "\n",
       "mpl.figure.prototype.updated_canvas_event = function () {\n",
       "    // Tell IPython that the notebook contents must change.\n",
       "    IPython.notebook.set_dirty(true);\n",
       "    this.send_message('ack', {});\n",
       "    var fig = this;\n",
       "    // Wait a second, then push the new image to the DOM so\n",
       "    // that it is saved nicely (might be nice to debounce this).\n",
       "    setTimeout(function () {\n",
       "        fig.push_to_output();\n",
       "    }, 1000);\n",
       "};\n",
       "\n",
       "mpl.figure.prototype._init_toolbar = function () {\n",
       "    var fig = this;\n",
       "\n",
       "    var toolbar = document.createElement('div');\n",
       "    toolbar.classList = 'btn-toolbar';\n",
       "    this.root.appendChild(toolbar);\n",
       "\n",
       "    function on_click_closure(name) {\n",
       "        return function (_event) {\n",
       "            return fig.toolbar_button_onclick(name);\n",
       "        };\n",
       "    }\n",
       "\n",
       "    function on_mouseover_closure(tooltip) {\n",
       "        return function (event) {\n",
       "            if (!event.currentTarget.disabled) {\n",
       "                return fig.toolbar_button_onmouseover(tooltip);\n",
       "            }\n",
       "        };\n",
       "    }\n",
       "\n",
       "    fig.buttons = {};\n",
       "    var buttonGroup = document.createElement('div');\n",
       "    buttonGroup.classList = 'btn-group';\n",
       "    var button;\n",
       "    for (var toolbar_ind in mpl.toolbar_items) {\n",
       "        var name = mpl.toolbar_items[toolbar_ind][0];\n",
       "        var tooltip = mpl.toolbar_items[toolbar_ind][1];\n",
       "        var image = mpl.toolbar_items[toolbar_ind][2];\n",
       "        var method_name = mpl.toolbar_items[toolbar_ind][3];\n",
       "\n",
       "        if (!name) {\n",
       "            /* Instead of a spacer, we start a new button group. */\n",
       "            if (buttonGroup.hasChildNodes()) {\n",
       "                toolbar.appendChild(buttonGroup);\n",
       "            }\n",
       "            buttonGroup = document.createElement('div');\n",
       "            buttonGroup.classList = 'btn-group';\n",
       "            continue;\n",
       "        }\n",
       "\n",
       "        button = fig.buttons[name] = document.createElement('button');\n",
       "        button.classList = 'btn btn-default';\n",
       "        button.href = '#';\n",
       "        button.title = name;\n",
       "        button.innerHTML = '<i class=\"fa ' + image + ' fa-lg\"></i>';\n",
       "        button.addEventListener('click', on_click_closure(method_name));\n",
       "        button.addEventListener('mouseover', on_mouseover_closure(tooltip));\n",
       "        buttonGroup.appendChild(button);\n",
       "    }\n",
       "\n",
       "    if (buttonGroup.hasChildNodes()) {\n",
       "        toolbar.appendChild(buttonGroup);\n",
       "    }\n",
       "\n",
       "    // Add the status bar.\n",
       "    var status_bar = document.createElement('span');\n",
       "    status_bar.classList = 'mpl-message pull-right';\n",
       "    toolbar.appendChild(status_bar);\n",
       "    this.message = status_bar;\n",
       "\n",
       "    // Add the close button to the window.\n",
       "    var buttongrp = document.createElement('div');\n",
       "    buttongrp.classList = 'btn-group inline pull-right';\n",
       "    button = document.createElement('button');\n",
       "    button.classList = 'btn btn-mini btn-primary';\n",
       "    button.href = '#';\n",
       "    button.title = 'Stop Interaction';\n",
       "    button.innerHTML = '<i class=\"fa fa-power-off icon-remove icon-large\"></i>';\n",
       "    button.addEventListener('click', function (_evt) {\n",
       "        fig.handle_close(fig, {});\n",
       "    });\n",
       "    button.addEventListener(\n",
       "        'mouseover',\n",
       "        on_mouseover_closure('Stop Interaction')\n",
       "    );\n",
       "    buttongrp.appendChild(button);\n",
       "    var titlebar = this.root.querySelector('.ui-dialog-titlebar');\n",
       "    titlebar.insertBefore(buttongrp, titlebar.firstChild);\n",
       "};\n",
       "\n",
       "mpl.figure.prototype._remove_fig_handler = function (event) {\n",
       "    var fig = event.data.fig;\n",
       "    if (event.target !== this) {\n",
       "        // Ignore bubbled events from children.\n",
       "        return;\n",
       "    }\n",
       "    fig.close_ws(fig, {});\n",
       "};\n",
       "\n",
       "mpl.figure.prototype._root_extra_style = function (el) {\n",
       "    el.style.boxSizing = 'content-box'; // override notebook setting of border-box.\n",
       "};\n",
       "\n",
       "mpl.figure.prototype._canvas_extra_style = function (el) {\n",
       "    // this is important to make the div 'focusable\n",
       "    el.setAttribute('tabindex', 0);\n",
       "    // reach out to IPython and tell the keyboard manager to turn it's self\n",
       "    // off when our div gets focus\n",
       "\n",
       "    // location in version 3\n",
       "    if (IPython.notebook.keyboard_manager) {\n",
       "        IPython.notebook.keyboard_manager.register_events(el);\n",
       "    } else {\n",
       "        // location in version 2\n",
       "        IPython.keyboard_manager.register_events(el);\n",
       "    }\n",
       "};\n",
       "\n",
       "mpl.figure.prototype._key_event_extra = function (event, _name) {\n",
       "    // Check for shift+enter\n",
       "    if (event.shiftKey && event.which === 13) {\n",
       "        this.canvas_div.blur();\n",
       "        // select the cell after this one\n",
       "        var index = IPython.notebook.find_cell_index(this.cell_info[0]);\n",
       "        IPython.notebook.select(index + 1);\n",
       "    }\n",
       "};\n",
       "\n",
       "mpl.figure.prototype.handle_save = function (fig, _msg) {\n",
       "    fig.ondownload(fig, null);\n",
       "};\n",
       "\n",
       "mpl.find_output_cell = function (html_output) {\n",
       "    // Return the cell and output element which can be found *uniquely* in the notebook.\n",
       "    // Note - this is a bit hacky, but it is done because the \"notebook_saving.Notebook\"\n",
       "    // IPython event is triggered only after the cells have been serialised, which for\n",
       "    // our purposes (turning an active figure into a static one), is too late.\n",
       "    var cells = IPython.notebook.get_cells();\n",
       "    var ncells = cells.length;\n",
       "    for (var i = 0; i < ncells; i++) {\n",
       "        var cell = cells[i];\n",
       "        if (cell.cell_type === 'code') {\n",
       "            for (var j = 0; j < cell.output_area.outputs.length; j++) {\n",
       "                var data = cell.output_area.outputs[j];\n",
       "                if (data.data) {\n",
       "                    // IPython >= 3 moved mimebundle to data attribute of output\n",
       "                    data = data.data;\n",
       "                }\n",
       "                if (data['text/html'] === html_output) {\n",
       "                    return [cell, data, j];\n",
       "                }\n",
       "            }\n",
       "        }\n",
       "    }\n",
       "};\n",
       "\n",
       "// Register the function which deals with the matplotlib target/channel.\n",
       "// The kernel may be null if the page has been refreshed.\n",
       "if (IPython.notebook.kernel !== null) {\n",
       "    IPython.notebook.kernel.comm_manager.register_target(\n",
       "        'matplotlib',\n",
       "        mpl.mpl_figure_comm\n",
       "    );\n",
       "}\n"
      ],
      "text/plain": [
       "<IPython.core.display.Javascript object>"
      ]
     },
     "metadata": {},
     "output_type": "display_data"
    },
    {
     "data": {
      "text/html": [
       "<img src=\"data:image/png;base64,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\" width=\"799.9999826604674\">"
      ],
      "text/plain": [
       "<IPython.core.display.HTML object>"
      ]
     },
     "metadata": {},
     "output_type": "display_data"
    }
   ],
   "source": [
    "%matplotlib notebook\n",
    "fig = plt.figure(figsize=(8,8))\n",
    "ax = plt.axes(projection ='3d')\n",
    "ax.scatter3D(beta1v.flatten(), beta2v.flatten(), np.array(list_loglikelihood), c=list_loglikelihood)\n",
    "ax.scatter3D(-5,4,dirichlet_regression.dirichlet_loglikelihood(mu, phi, Y_star), c='red')\n",
    "plt.show()"
   ]
  },
  {
   "cell_type": "code",
   "execution_count": 83,
   "metadata": {},
   "outputs": [
    {
     "name": "stdout",
     "output_type": "stream",
     "text": [
      "Wall time: 32.2 s\n"
     ]
    }
   ],
   "source": [
    "%%time\n",
    "list_ll = []\n",
    "for b1, b2 in zip(beta1v.flatten(), beta2v.flatten()):\n",
    "    beta_temp = np.array([[0.,b1],[0.,b2]])\n",
    "    mu_temp = dirichlet_regression.compute_mu(X,beta_temp)\n",
    "    list_ll.append(dirichlet_ll(mu_temp, Y, epsilon=1e-200))"
   ]
  },
  {
   "cell_type": "code",
   "execution_count": null,
   "metadata": {},
   "outputs": [],
   "source": [
    "%matplotlib inline"
   ]
  },
  {
   "cell_type": "code",
   "execution_count": 196,
   "metadata": {},
   "outputs": [
    {
     "data": {
      "text/plain": [
       "0.8353095849897278"
      ]
     },
     "execution_count": 196,
     "metadata": {},
     "output_type": "execute_result"
    }
   ],
   "source": [
    "r2_score(Y_star,mu)"
   ]
  },
  {
   "cell_type": "code",
   "execution_count": 202,
   "metadata": {},
   "outputs": [
    {
     "data": {
      "text/plain": [
       "0.713461686937251"
      ]
     },
     "execution_count": 202,
     "metadata": {},
     "output_type": "execute_result"
    }
   ],
   "source": [
    "r2_score(Y_star,mu_sol)"
   ]
  },
  {
   "cell_type": "markdown",
   "metadata": {},
   "source": [
    "### With hessian"
   ]
  },
  {
   "cell_type": "code",
   "execution_count": 7,
   "metadata": {},
   "outputs": [],
   "source": [
    "def fhessian(x, X, Y, Z):\n",
    "    K = X.shape[-1]\n",
    "    J = Y.shape[-1]\n",
    "    beta = x[:K*J].reshape((K,J))\n",
    "    beta[:,0] = 0\n",
    "    gamma_var = x[K*J:]\n",
    "    mu = dirichlet_regression.compute_mu(X, beta)\n",
    "    phi = np.exp(np.matmul(Z,gamma_var))\n",
    "    hessian = np.zeros((K*J+K,K*J+K))\n",
    "    beta_hess = dirichlet_regression.dirichlet_hessian_wrt_beta(mu, phi, X, Y).reshape((K*J,K*J))\n",
    "    gamma_hess = dirichlet_regression.dirichlet_hessian_wrt_gamma(mu, phi, beta, X, Y, Z)\n",
    "    beta_gamma_derivative = dirichlet_regression.dirichlet_second_derivative_beta_gamma(mu, phi, beta, X, Y, Z).reshape((K,K*J)) \n",
    "    hessian[:K*J,:K*J] = beta_hess\n",
    "    hessian[-K:,-K:] = gamma_hess\n",
    "    hessian[:K*J,-K:] = beta_gamma_derivative.transpose()\n",
    "    hessian[-K:,:K*J] = beta_gamma_derivative\n",
    "    return(hessian)"
   ]
  },
  {
   "cell_type": "code",
   "execution_count": 33,
   "metadata": {},
   "outputs": [
    {
     "name": "stdout",
     "output_type": "stream",
     "text": [
      "Wall time: 302 ms\n"
     ]
    }
   ],
   "source": [
    "%%time\n",
    "hess_test = fhessian(np.concatenate([beta.flatten(),gamma_var]), X, Y_star, Z)"
   ]
  },
  {
   "cell_type": "code",
   "execution_count": 34,
   "metadata": {},
   "outputs": [
    {
     "name": "stdout",
     "output_type": "stream",
     "text": [
      "Wall time: 7.6 s\n"
     ]
    }
   ],
   "source": [
    "%%time\n",
    "solution=scipy.optimize.root(fprime, np.concatenate([beta0.flatten(),gamma_var0]), jac=fhessian, args=(X, Y_star, Z))"
   ]
  },
  {
   "cell_type": "code",
   "execution_count": 35,
   "metadata": {},
   "outputs": [
    {
     "name": "stdout",
     "output_type": "stream",
     "text": [
      "The solution converged.\n"
     ]
    },
    {
     "data": {
      "text/plain": [
       "array([ 0.        , -3.64553731,  0.        ,  0.89811362,  0.01685097,\n",
       "       -0.0149323 ])"
      ]
     },
     "execution_count": 35,
     "metadata": {},
     "output_type": "execute_result"
    }
   ],
   "source": [
    "print(solution.message)\n",
    "solution.x"
   ]
  },
  {
   "cell_type": "code",
   "execution_count": null,
   "metadata": {},
   "outputs": [],
   "source": []
  },
  {
   "cell_type": "markdown",
   "metadata": {},
   "source": [
    "# With Maupiti data ?"
   ]
  },
  {
   "cell_type": "code",
   "execution_count": 182,
   "metadata": {},
   "outputs": [],
   "source": [
    "X_maupiti = pd.read_csv('../../Maupiti/maupiti_X_13244.csv', index_col=0)\n",
    "Y_maupiti = pd.read_csv('../../Maupiti/maupiti_Y_13244.csv',index_col=0)"
   ]
  },
  {
   "cell_type": "code",
   "execution_count": 183,
   "metadata": {},
   "outputs": [],
   "source": [
    "n_features = X_maupiti.shape[1]\n",
    "n_classes = Y_maupiti.shape[1]\n",
    "n_samples = X_maupiti.shape[0]"
   ]
  },
  {
   "cell_type": "code",
   "execution_count": 184,
   "metadata": {},
   "outputs": [],
   "source": [
    "X_maupiti = np.array(X_maupiti)\n",
    "Y_maupiti = np.array(Y_maupiti)"
   ]
  },
  {
   "cell_type": "code",
   "execution_count": 185,
   "metadata": {},
   "outputs": [],
   "source": [
    "X_maupiti = X_maupiti/10000"
   ]
  },
  {
   "cell_type": "code",
   "execution_count": 193,
   "metadata": {},
   "outputs": [
    {
     "data": {
      "text/plain": [
       "(13244, 16)"
      ]
     },
     "execution_count": 193,
     "metadata": {},
     "output_type": "execute_result"
    }
   ],
   "source": [
    "np.shape(X_maupiti)"
   ]
  },
  {
   "cell_type": "code",
   "execution_count": 248,
   "metadata": {},
   "outputs": [],
   "source": [
    "#X_maupiti_2 = np.ones((n_samples,1+n_features*2))\n",
    "#X_maupiti_2[:,1:1+n_features] = X_maupiti\n",
    "#X_maupiti_2[:,1+n_features:] = X_maupiti**2\n",
    "\n",
    "X_maupiti_1 = np.ones((n_samples,1+n_features))\n",
    "X_maupiti_1[:,1:] = X_maupiti"
   ]
  },
  {
   "cell_type": "code",
   "execution_count": 197,
   "metadata": {},
   "outputs": [],
   "source": [
    "Y_star_maupiti = (Y_maupiti*(n_samples-1)+1/n_classes)/n_samples"
   ]
  },
  {
   "cell_type": "code",
   "execution_count": 249,
   "metadata": {},
   "outputs": [],
   "source": [
    "#Z_maupiti = np.ones(np.shape(X_maupiti))\n",
    "Z_maupiti = np.copy(X_maupiti)\n",
    "Z_maupiti_1 = np.copy(X_maupiti_1)\n",
    "Z_maupiti_2 = np.copy(X_maupiti_2)"
   ]
  },
  {
   "cell_type": "code",
   "execution_count": 250,
   "metadata": {},
   "outputs": [],
   "source": [
    "beta_maupiti = np.ones((1+n_features)*n_classes+(1+n_features))[:(1+n_features)*n_classes].reshape(((1+n_features),n_classes))\n",
    "beta_maupiti[:,0] = 0"
   ]
  },
  {
   "cell_type": "code",
   "execution_count": 264,
   "metadata": {},
   "outputs": [],
   "source": [
    "X_maupiti_train = X_maupiti_1[2000:10000,:]\n",
    "Y_star_maupiti_train = Y_star_maupiti[2000:10000,:]\n",
    "Z_maupiti_train = Z_maupiti_1[2000:10000,:]"
   ]
  },
  {
   "cell_type": "code",
   "execution_count": 265,
   "metadata": {},
   "outputs": [
    {
     "data": {
      "text/plain": [
       "(8000, 17)"
      ]
     },
     "execution_count": 265,
     "metadata": {},
     "output_type": "execute_result"
    }
   ],
   "source": [
    "np.shape(X_maupiti_train)"
   ]
  },
  {
   "cell_type": "code",
   "execution_count": 266,
   "metadata": {},
   "outputs": [
    {
     "name": "stderr",
     "output_type": "stream",
     "text": [
      "C:\\Users\\tnguyen001\\Documents\\GitHub\\maupiti\\dirichlet_regression.py:64: RuntimeWarning: invalid value encountered in multiply\n",
      "  sum_mu_digamma_mu = np.sum(mu[i] * digamma_mu)\n",
      "C:\\Users\\tnguyen001\\Documents\\GitHub\\maupiti\\dirichlet_regression.py:80: RuntimeWarning: invalid value encountered in multiply\n",
      "  derivative_gamma += Z[i,:]*phi[i]*( digamma(phi[i])+np.sum( mu[i]*(np.log(Y[i]+epsilon)-digamma(phi[i]*mu[i])) ) )\n"
     ]
    },
    {
     "name": "stdout",
     "output_type": "stream",
     "text": [
      "Wall time: 13min 22s\n"
     ]
    }
   ],
   "source": [
    "%%time\n",
    "solution_maupiti=scipy.optimize.root(fprime, np.zeros((1+n_features)*n_classes+(1+n_features)), \n",
    "                                     args=(X_maupiti_train, Y_star_maupiti_train, Z_maupiti_train))"
   ]
  },
  {
   "cell_type": "code",
   "execution_count": 267,
   "metadata": {},
   "outputs": [
    {
     "name": "stdout",
     "output_type": "stream",
     "text": [
      "The iteration is not making good progress, as measured by the \n",
      "  improvement from the last ten iterations.\n"
     ]
    },
    {
     "data": {
      "text/plain": [
       "array([ 0.00000000e+00,  4.99299173e-04, -9.92816950e-03, -4.90916518e-03,\n",
       "       -3.14375881e-03,  1.35856612e-04,  1.61801106e-02, -5.85262338e-03,\n",
       "       -3.98790709e-03,  9.84511811e-03,  0.00000000e+00, -1.52674183e-01,\n",
       "       -3.51204391e-03, -2.79715141e-02, -2.53530410e-02, -1.06069316e-02,\n",
       "        4.38541883e-02, -1.81879339e-02, -2.20893628e-02,  5.93632023e-03,\n",
       "        0.00000000e+00, -1.16346092e-03,  8.85194672e-04, -2.47973126e-04,\n",
       "       -2.73424886e-04, -1.23027363e-04, -2.25141896e-04, -1.77564207e-04,\n",
       "       -2.47764618e-04, -5.61045503e-04,  0.00000000e+00, -3.18958825e+03,\n",
       "        3.54575871e+02,  7.69334716e+01,  8.84176126e+01,  1.29788878e+02,\n",
       "        4.12553852e+02,  3.86396801e+01,  9.04032704e+01, -2.32198146e+02,\n",
       "        0.00000000e+00,  1.26449216e+02, -3.13434834e+01,  2.68660343e+01,\n",
       "        4.04829567e+01,  3.48466679e+01,  1.40990452e+02, -1.33240171e+00,\n",
       "        2.51639866e+01,  1.20861325e+02,  0.00000000e+00,  2.05190524e-01,\n",
       "        1.28031854e-02,  1.89301282e-02,  2.07735995e-02,  3.03930091e-02,\n",
       "        2.89773026e-02,  1.53607904e-02,  1.76399924e-02,  2.59975144e-02,\n",
       "        0.00000000e+00, -1.72348489e-03,  5.64999088e-04, -2.00556018e-04,\n",
       "       -2.27776417e-04, -7.00478046e-05,  8.46730173e-06, -1.19001458e-04,\n",
       "       -1.68010494e-04, -5.39690486e-04,  0.00000000e+00, -5.26146814e+03,\n",
       "        7.20270842e+02, -1.06001351e+02, -1.18575900e+02,  7.98040798e+01,\n",
       "        4.88090307e+02,  3.60309334e+01, -3.44321246e+00, -1.73243094e+03,\n",
       "        0.00000000e+00,  3.21153395e+02, -7.83654373e+01,  8.89608565e+00,\n",
       "        2.10629797e+01,  1.16715248e+01,  1.19474594e+02, -1.90483500e+01,\n",
       "        9.67284347e+00,  4.45120116e+01,  0.00000000e+00, -5.50995342e-03,\n",
       "       -2.52254803e-02, -2.89411331e-02, -2.72428462e-02, -1.78216790e-02,\n",
       "       -1.91034426e-02, -3.50093845e-02, -2.87648959e-02, -9.67819529e-03,\n",
       "        0.00000000e+00,  7.20931065e-04, -1.68078832e-05, -2.23130278e-04,\n",
       "       -2.42402510e-04, -1.50239365e-04, -3.49978739e-04, -2.18061152e-04,\n",
       "       -2.33457236e-04, -2.04944120e-04,  0.00000000e+00,  6.15497950e+02,\n",
       "       -1.38908894e+02, -2.06750373e+01,  1.45510997e+00, -9.07933278e+00,\n",
       "        2.22957585e+02, -5.45544969e+01, -1.29849483e+01,  2.58368448e+02,\n",
       "        0.00000000e+00,  2.23463677e+02, -2.49554006e+01,  1.93877459e+01,\n",
       "        3.58064231e+01,  3.15099003e+01,  1.86260323e+02, -3.38277360e+00,\n",
       "        2.62996031e+01,  9.07777203e+01,  0.00000000e+00,  4.29924451e-02,\n",
       "       -7.08730465e-03,  3.57472760e-03,  5.91492424e-03,  1.00066539e-02,\n",
       "        3.73152499e-02, -4.45721013e-04,  3.66264953e-03,  3.95772630e-02,\n",
       "        0.00000000e+00,  5.63196167e-04, -6.53762590e-05,  1.19588451e-05,\n",
       "        1.74307154e-05,  9.28534557e-06,  5.97348081e-05, -1.82133647e-05,\n",
       "        3.10817738e-06,  1.51603812e-04,  0.00000000e+00,  3.30728220e+03,\n",
       "       -2.50097655e+02, -1.32716757e+02, -9.54220029e+01, -8.33132643e+01,\n",
       "       -1.37201272e+02, -1.76154400e+02, -1.29243362e+02,  2.99861306e+02,\n",
       "        0.00000000e+00,  8.01985790e+02,  2.20104416e+02, -3.30905277e+02,\n",
       "       -3.40117178e+02, -1.92381528e+02, -4.35097761e+01, -2.14900516e+02,\n",
       "       -2.35384770e+02, -2.96771659e+02,  1.21985249e-03, -2.56221371e-03,\n",
       "       -8.72065077e-05, -1.33363293e+01,  1.08574015e+01,  3.09662796e-03,\n",
       "       -4.42014412e-05, -9.67374784e+01,  1.31441121e+01, -7.93041670e-03,\n",
       "       -4.69542096e-05,  2.01661322e+01,  1.41947692e+01,  6.07214289e-03,\n",
       "        1.92076353e-05,  2.22394770e+01, -7.98479467e+01])"
      ]
     },
     "execution_count": 267,
     "metadata": {},
     "output_type": "execute_result"
    }
   ],
   "source": [
    "print(solution_maupiti.message)\n",
    "solution_maupiti.x"
   ]
  },
  {
   "cell_type": "code",
   "execution_count": 268,
   "metadata": {},
   "outputs": [],
   "source": [
    "beta_maupiti = solution_maupiti.x[:(1+n_features)*n_classes].reshape(((1+n_features),n_classes))"
   ]
  },
  {
   "cell_type": "code",
   "execution_count": 269,
   "metadata": {},
   "outputs": [
    {
     "data": {
      "text/plain": [
       "array([[ 0.00000000e+00,  4.99299173e-04, -9.92816950e-03,\n",
       "        -4.90916518e-03, -3.14375881e-03,  1.35856612e-04,\n",
       "         1.61801106e-02, -5.85262338e-03, -3.98790709e-03,\n",
       "         9.84511811e-03],\n",
       "       [ 0.00000000e+00, -1.52674183e-01, -3.51204391e-03,\n",
       "        -2.79715141e-02, -2.53530410e-02, -1.06069316e-02,\n",
       "         4.38541883e-02, -1.81879339e-02, -2.20893628e-02,\n",
       "         5.93632023e-03],\n",
       "       [ 0.00000000e+00, -1.16346092e-03,  8.85194672e-04,\n",
       "        -2.47973126e-04, -2.73424886e-04, -1.23027363e-04,\n",
       "        -2.25141896e-04, -1.77564207e-04, -2.47764618e-04,\n",
       "        -5.61045503e-04],\n",
       "       [ 0.00000000e+00, -3.18958825e+03,  3.54575871e+02,\n",
       "         7.69334716e+01,  8.84176126e+01,  1.29788878e+02,\n",
       "         4.12553852e+02,  3.86396801e+01,  9.04032704e+01,\n",
       "        -2.32198146e+02],\n",
       "       [ 0.00000000e+00,  1.26449216e+02, -3.13434834e+01,\n",
       "         2.68660343e+01,  4.04829567e+01,  3.48466679e+01,\n",
       "         1.40990452e+02, -1.33240171e+00,  2.51639866e+01,\n",
       "         1.20861325e+02],\n",
       "       [ 0.00000000e+00,  2.05190524e-01,  1.28031854e-02,\n",
       "         1.89301282e-02,  2.07735995e-02,  3.03930091e-02,\n",
       "         2.89773026e-02,  1.53607904e-02,  1.76399924e-02,\n",
       "         2.59975144e-02],\n",
       "       [ 0.00000000e+00, -1.72348489e-03,  5.64999088e-04,\n",
       "        -2.00556018e-04, -2.27776417e-04, -7.00478046e-05,\n",
       "         8.46730173e-06, -1.19001458e-04, -1.68010494e-04,\n",
       "        -5.39690486e-04],\n",
       "       [ 0.00000000e+00, -5.26146814e+03,  7.20270842e+02,\n",
       "        -1.06001351e+02, -1.18575900e+02,  7.98040798e+01,\n",
       "         4.88090307e+02,  3.60309334e+01, -3.44321246e+00,\n",
       "        -1.73243094e+03],\n",
       "       [ 0.00000000e+00,  3.21153395e+02, -7.83654373e+01,\n",
       "         8.89608565e+00,  2.10629797e+01,  1.16715248e+01,\n",
       "         1.19474594e+02, -1.90483500e+01,  9.67284347e+00,\n",
       "         4.45120116e+01],\n",
       "       [ 0.00000000e+00, -5.50995342e-03, -2.52254803e-02,\n",
       "        -2.89411331e-02, -2.72428462e-02, -1.78216790e-02,\n",
       "        -1.91034426e-02, -3.50093845e-02, -2.87648959e-02,\n",
       "        -9.67819529e-03],\n",
       "       [ 0.00000000e+00,  7.20931065e-04, -1.68078832e-05,\n",
       "        -2.23130278e-04, -2.42402510e-04, -1.50239365e-04,\n",
       "        -3.49978739e-04, -2.18061152e-04, -2.33457236e-04,\n",
       "        -2.04944120e-04],\n",
       "       [ 0.00000000e+00,  6.15497950e+02, -1.38908894e+02,\n",
       "        -2.06750373e+01,  1.45510997e+00, -9.07933278e+00,\n",
       "         2.22957585e+02, -5.45544969e+01, -1.29849483e+01,\n",
       "         2.58368448e+02],\n",
       "       [ 0.00000000e+00,  2.23463677e+02, -2.49554006e+01,\n",
       "         1.93877459e+01,  3.58064231e+01,  3.15099003e+01,\n",
       "         1.86260323e+02, -3.38277360e+00,  2.62996031e+01,\n",
       "         9.07777203e+01],\n",
       "       [ 0.00000000e+00,  4.29924451e-02, -7.08730465e-03,\n",
       "         3.57472760e-03,  5.91492424e-03,  1.00066539e-02,\n",
       "         3.73152499e-02, -4.45721013e-04,  3.66264953e-03,\n",
       "         3.95772630e-02],\n",
       "       [ 0.00000000e+00,  5.63196167e-04, -6.53762590e-05,\n",
       "         1.19588451e-05,  1.74307154e-05,  9.28534557e-06,\n",
       "         5.97348081e-05, -1.82133647e-05,  3.10817738e-06,\n",
       "         1.51603812e-04],\n",
       "       [ 0.00000000e+00,  3.30728220e+03, -2.50097655e+02,\n",
       "        -1.32716757e+02, -9.54220029e+01, -8.33132643e+01,\n",
       "        -1.37201272e+02, -1.76154400e+02, -1.29243362e+02,\n",
       "         2.99861306e+02],\n",
       "       [ 0.00000000e+00,  8.01985790e+02,  2.20104416e+02,\n",
       "        -3.30905277e+02, -3.40117178e+02, -1.92381528e+02,\n",
       "        -4.35097761e+01, -2.14900516e+02, -2.35384770e+02,\n",
       "        -2.96771659e+02]])"
      ]
     },
     "execution_count": 269,
     "metadata": {},
     "output_type": "execute_result"
    }
   ],
   "source": [
    "beta_maupiti"
   ]
  },
  {
   "cell_type": "code",
   "execution_count": 270,
   "metadata": {},
   "outputs": [],
   "source": [
    "mu_maupiti = dirichlet_regression.compute_mu(X_maupiti_train, beta_maupiti)\n",
    "\n",
    "gamma_var_maupiti = solution_maupiti.x[(1+n_features)*n_classes:]\n",
    "phi_maupiti = np.exp(np.matmul(Z_maupiti_train,gamma_var_maupiti))\n",
    "\n",
    "alpha_maupiti = np.copy(mu_maupiti)\n",
    "for i in range(mu_maupiti.shape[-1]):\n",
    "    alpha_maupiti[:,i] = phi_maupiti*mu_maupiti[:,i]"
   ]
  },
  {
   "cell_type": "code",
   "execution_count": 271,
   "metadata": {},
   "outputs": [
    {
     "data": {
      "text/plain": [
       "568016.0466597767"
      ]
     },
     "execution_count": 271,
     "metadata": {},
     "output_type": "execute_result"
    }
   ],
   "source": [
    "dirichlet_regression.dirichlet_loglikelihood(mu_maupiti,phi_maupiti,Y_star_maupiti_train)"
   ]
  },
  {
   "cell_type": "code",
   "execution_count": 272,
   "metadata": {},
   "outputs": [
    {
     "data": {
      "text/plain": [
       "array([[0.09644161, 0.12903978, 0.09011342, ..., 0.09555541, 0.09553641,\n",
       "        0.10940674],\n",
       "       [0.10071373, 0.09361845, 0.10009911, ..., 0.09940176, 0.0997901 ,\n",
       "        0.09929323],\n",
       "       [0.10168829, 0.09285406, 0.10425783, ..., 0.09797322, 0.09864558,\n",
       "        0.0981441 ],\n",
       "       ...,\n",
       "       [0.10127855, 0.09226994, 0.10093602, ..., 0.09921769, 0.09964512,\n",
       "        0.0983244 ],\n",
       "       [0.10051239, 0.08505605, 0.09909841, ..., 0.10024391, 0.10075606,\n",
       "        0.10270675],\n",
       "       [0.09406436, 0.14661619, 0.08691615, ..., 0.0921553 , 0.09285731,\n",
       "        0.10862155]])"
      ]
     },
     "execution_count": 272,
     "metadata": {},
     "output_type": "execute_result"
    }
   ],
   "source": [
    "mu_maupiti"
   ]
  },
  {
   "cell_type": "code",
   "execution_count": 273,
   "metadata": {
    "scrolled": true
   },
   "outputs": [
    {
     "data": {
      "text/plain": [
       "-0.255171521040826"
      ]
     },
     "execution_count": 273,
     "metadata": {},
     "output_type": "execute_result"
    }
   ],
   "source": [
    "r2_score(Y_star_maupiti_train, mu_maupiti)"
   ]
  },
  {
   "cell_type": "markdown",
   "metadata": {},
   "source": [
    "# With Arctic Lake"
   ]
  },
  {
   "cell_type": "code",
   "execution_count": 8,
   "metadata": {},
   "outputs": [],
   "source": [
    "arctic = pd.read_csv('ArcticLake.csv')"
   ]
  },
  {
   "cell_type": "code",
   "execution_count": 9,
   "metadata": {},
   "outputs": [],
   "source": [
    "Y_arctic = arctic.iloc[:,:3]\n",
    "X_arctic = arctic.iloc[:,3]"
   ]
  },
  {
   "cell_type": "code",
   "execution_count": 10,
   "metadata": {},
   "outputs": [],
   "source": [
    "Y_arctic = np.array(Y_arctic)"
   ]
  },
  {
   "cell_type": "code",
   "execution_count": 11,
   "metadata": {},
   "outputs": [],
   "source": [
    "X_arctic = np.array([[j] for j in X_arctic])"
   ]
  },
  {
   "cell_type": "code",
   "execution_count": 12,
   "metadata": {},
   "outputs": [],
   "source": [
    "Z_arctic = np.copy(X_arctic)"
   ]
  },
  {
   "cell_type": "code",
   "execution_count": 13,
   "metadata": {},
   "outputs": [],
   "source": [
    "n_features = 1\n",
    "n_classes = 3"
   ]
  },
  {
   "cell_type": "code",
   "execution_count": 14,
   "metadata": {},
   "outputs": [],
   "source": [
    "beta0 = np.array([[0.02, 0.05, 0.06]])\n",
    "gamma0 = [0]"
   ]
  },
  {
   "cell_type": "code",
   "execution_count": 15,
   "metadata": {},
   "outputs": [
    {
     "name": "stdout",
     "output_type": "stream",
     "text": [
      "Wall time: 55.8 ms\n"
     ]
    }
   ],
   "source": [
    "%%time\n",
    "solution_arctic=scipy.optimize.root(fprime, np.zeros(n_features*n_classes+n_features), \n",
    "                                     args=(X_arctic, Y_arctic, Z_arctic))"
   ]
  },
  {
   "cell_type": "code",
   "execution_count": 16,
   "metadata": {},
   "outputs": [
    {
     "name": "stdout",
     "output_type": "stream",
     "text": [
      "The solution converged.\n"
     ]
    },
    {
     "data": {
      "text/plain": [
       "array([0.        , 0.00736881, 0.00548126, 0.02476173])"
      ]
     },
     "execution_count": 16,
     "metadata": {},
     "output_type": "execute_result"
    }
   ],
   "source": [
    "print(solution_arctic.message)\n",
    "solution_arctic.x"
   ]
  },
  {
   "cell_type": "code",
   "execution_count": 17,
   "metadata": {},
   "outputs": [],
   "source": [
    "beta_arctic = solution_arctic.x[:n_features*n_classes].reshape((n_features,n_classes))"
   ]
  },
  {
   "cell_type": "code",
   "execution_count": 18,
   "metadata": {},
   "outputs": [],
   "source": [
    "mu_arctic = dirichlet_regression.compute_mu(X_arctic, beta_arctic)\n",
    "\n",
    "gamma_var_arctic = solution_arctic.x[n_features*n_classes:]\n",
    "phi_arctic = np.exp(np.matmul(Z_arctic,gamma_var_arctic))\n",
    "\n",
    "alpha_arctic = np.copy(mu_arctic)\n",
    "for i in range(mu_arctic.shape[-1]):\n",
    "    alpha_arctic[:,i] = phi_arctic*mu_arctic[:,i]"
   ]
  },
  {
   "cell_type": "code",
   "execution_count": 19,
   "metadata": {},
   "outputs": [
    {
     "data": {
      "text/plain": [
       "-0.06867489816677978"
      ]
     },
     "execution_count": 19,
     "metadata": {},
     "output_type": "execute_result"
    }
   ],
   "source": [
    "r2_score(Y_arctic, mu_arctic)"
   ]
  },
  {
   "cell_type": "code",
   "execution_count": 20,
   "metadata": {},
   "outputs": [
    {
     "data": {
      "image/png": "[encoded data removed]",
      "text/plain": [
       "<Figure size 432x288 with 1 Axes>"
      ]
     },
     "metadata": {
      "needs_background": "light"
     },
     "output_type": "display_data"
    }
   ],
   "source": [
    "plt.scatter(X_arctic,Y_arctic[:,0],label='Sand')\n",
    "plt.scatter(X_arctic,Y_arctic[:,1],label='Silt')\n",
    "plt.scatter(X_arctic,Y_arctic[:,2],label='Clay')\n",
    "plt.legend()\n",
    "plt.show()"
   ]
  },
  {
   "cell_type": "code",
   "execution_count": 40,
   "metadata": {},
   "outputs": [],
   "source": [
    "X_new = np.arange(10.4,103.7,0.5)\n",
    "X_new = np.array([[j] for j in X_new])"
   ]
  },
  {
   "cell_type": "code",
   "execution_count": 22,
   "metadata": {},
   "outputs": [
    {
     "data": {
      "image/png": "[encoded data removed]",
      "text/plain": [
       "<Figure size 432x288 with 1 Axes>"
      ]
     },
     "metadata": {
      "needs_background": "light"
     },
     "output_type": "display_data"
    }
   ],
   "source": [
    "plt.scatter(X_arctic,Y_arctic[:,0],label='Sand')\n",
    "plt.scatter(X_arctic,Y_arctic[:,1],label='Silt')\n",
    "plt.scatter(X_arctic,Y_arctic[:,2],label='Clay')\n",
    "plt.plot(X_new, dirichlet_regression.compute_mu(X_new, beta_arctic))\n",
    "plt.legend()\n",
    "plt.show()"
   ]
  },
  {
   "cell_type": "markdown",
   "metadata": {},
   "source": [
    "## With scipy.optimize"
   ]
  },
  {
   "cell_type": "code",
   "execution_count": 28,
   "metadata": {},
   "outputs": [],
   "source": [
    "from scipy.optimize import fmin, newton, minimize"
   ]
  },
  {
   "cell_type": "code",
   "execution_count": 29,
   "metadata": {},
   "outputs": [],
   "source": [
    "def compute_mu_2(X, beta):\n",
    "    n = np.shape(X)[0]\n",
    "    J = np.shape(beta)[1]\n",
    "    Xbeta = np.matmul(X,beta)\n",
    "    mu = np.zeros((n,J))\n",
    "    # compute the softmax\n",
    "    for i in range(n):\n",
    "        for j in range(J):\n",
    "            mu[i,j] = 1/np.sum(np.exp(Xbeta[i]-Xbeta[i,j]))\n",
    "        #mu[i,:] = exp_Xbeta[i,:]/sum_exp_Xbeta[i]\n",
    "    return mu"
   ]
  },
  {
   "cell_type": "markdown",
   "metadata": {},
   "source": [
    "### With an intercept"
   ]
  },
  {
   "cell_type": "code",
   "execution_count": 114,
   "metadata": {},
   "outputs": [],
   "source": [
    "X_arctic_1 = np.ones((39,2))\n",
    "X_arctic_1[:,1] = X_arctic[:,0]"
   ]
  },
  {
   "cell_type": "code",
   "execution_count": 115,
   "metadata": {},
   "outputs": [],
   "source": [
    "Z_arctic_1 = np.ones(39)"
   ]
  },
  {
   "cell_type": "code",
   "execution_count": 174,
   "metadata": {},
   "outputs": [],
   "source": [
    "beta0 = np.array([[0.1, -0.3, -1.1],[ 0.02, 0.05, 0.06]])\n",
    "gamma0 = [0]\n",
    "params0 = np.concatenate([beta0.flatten(),gamma0])"
   ]
  },
  {
   "cell_type": "code",
   "execution_count": 171,
   "metadata": {},
   "outputs": [],
   "source": [
    "def f_arctic(x, X, Y, Z, epsilon=0):\n",
    "    K = X.shape[-1]\n",
    "    J = Y.shape[-1]\n",
    "    beta = x[:K*J].reshape((K,J))\n",
    "    beta[:,0] = 0\n",
    "    gamma_var = x[K*J:]\n",
    "    mu = dirichlet_regression.compute_mu(X, beta)\n",
    "    #mu = compute_mu_2(X, beta)\n",
    "    phi = np.exp(np.matmul(Z,gamma_var))\n",
    "    #phi = np.ones(39)\n",
    "    #alpha = np.copy(mu)\n",
    "    #for i in range(mu.shape[-1]):\n",
    "    #    alpha[:,i] = phi*mu[:,i]\n",
    "    return -dirichlet_regression.dirichlet_loglikelihood(mu,phi,Y,epsilon=epsilon)"
   ]
  },
  {
   "cell_type": "code",
   "execution_count": 172,
   "metadata": {},
   "outputs": [],
   "source": [
    "def fprime_arctic(x, X, Y, Z, epsilon=0):\n",
    "    K = X.shape[-1]\n",
    "    J = Y.shape[-1]\n",
    "    beta = x[:K*J].reshape((K,J))\n",
    "    beta[:,0] = 0\n",
    "    gamma_var = x[K*J:]\n",
    "    mu = dirichlet_regression.compute_mu(X, beta)\n",
    "    #mu = compute_mu_2(X, beta)\n",
    "    phi = np.exp(np.matmul(Z,gamma_var))\n",
    "    #phi=np.ones(39)\n",
    "    beta_grad = dirichlet_regression.dirichlet_gradient(mu, X, Y, epsilon=epsilon)\n",
    "    gamma_grad = dirichlet_regression.dirichlet_derivative_wrt_gamma(mu, phi, beta, X, Y, Z, epsilon=epsilon)\n",
    "    return(np.concatenate([beta_grad.flatten(),gamma_grad]))"
   ]
  },
  {
   "cell_type": "code",
   "execution_count": 118,
   "metadata": {},
   "outputs": [
    {
     "data": {
      "text/plain": [
       "array([ 0.1 , -0.3 , -1.1 ,  0.02,  0.05,  0.06,  0.  ])"
      ]
     },
     "execution_count": 118,
     "metadata": {},
     "output_type": "execute_result"
    }
   ],
   "source": [
    "params0"
   ]
  },
  {
   "cell_type": "code",
   "execution_count": 175,
   "metadata": {
    "scrolled": true
   },
   "outputs": [
    {
     "name": "stdout",
     "output_type": "stream",
     "text": [
      "Optimization terminated successfully.\n",
      "         Current function value: -77.728099\n",
      "         Iterations: 605\n",
      "         Function evaluations: 917\n",
      "Wall time: 662 ms\n"
     ]
    }
   ],
   "source": [
    "%%time\n",
    "solution_arctic_bis=fmin(f_arctic, params0, args=(X_arctic_1, Y_arctic, np.ones(39).reshape((39,1))), maxiter=2000)"
   ]
  },
  {
   "cell_type": "code",
   "execution_count": 177,
   "metadata": {},
   "outputs": [
    {
     "data": {
      "text/plain": [
       "array([ 0.        , -0.84168686, -2.27551817,  0.        ,  0.0392686 ,\n",
       "        0.05623217,  2.62656005])"
      ]
     },
     "execution_count": 177,
     "metadata": {},
     "output_type": "execute_result"
    }
   ],
   "source": [
    "solution_arctic_bis"
   ]
  },
  {
   "cell_type": "code",
   "execution_count": 178,
   "metadata": {},
   "outputs": [],
   "source": [
    "beta_arctic_1 = solution_arctic_bis[:(n_features+1)*n_classes].reshape((n_features+1,n_classes))"
   ]
  },
  {
   "cell_type": "code",
   "execution_count": 179,
   "metadata": {},
   "outputs": [],
   "source": [
    "X_new_1 = np.arange(10.4,103.7,0.5)\n",
    "X_new_1 = np.array([[1., j] for j in X_new_1])"
   ]
  },
  {
   "cell_type": "code",
   "execution_count": 180,
   "metadata": {},
   "outputs": [],
   "source": [
    "mu_arctic_1 = dirichlet_regression.compute_mu(X_new_1, beta_arctic_1)\n",
    "\n",
    "gamma_var_arctic_1 = solution_arctic_bis[(n_features+1)*n_classes:]\n",
    "#phi_arctic_1 = np.exp(np.matmul(X_new_1,gamma_var_arctic_1))\n",
    "\n",
    "#alpha_arctic_1 = np.copy(mu_arctic_1)\n",
    "#for i in range(mu_arctic_1.shape[-1]):\n",
    "#    alpha_arctic_1[:,i] = phi_arctic_1*mu_arctic_1[:,i]"
   ]
  },
  {
   "cell_type": "code",
   "execution_count": 181,
   "metadata": {},
   "outputs": [
    {
     "data": {
      "image/png": "[encoded data removed]",
      "text/plain": [
       "<Figure size 432x288 with 1 Axes>"
      ]
     },
     "metadata": {
      "needs_background": "light"
     },
     "output_type": "display_data"
    }
   ],
   "source": [
    "plt.scatter(X_arctic,Y_arctic[:,0],label='Sand')\n",
    "plt.scatter(X_arctic,Y_arctic[:,1],label='Silt')\n",
    "plt.scatter(X_arctic,Y_arctic[:,2],label='Clay')\n",
    "plt.plot(X_new, mu_arctic_1)\n",
    "plt.legend()\n",
    "plt.show()"
   ]
  },
  {
   "cell_type": "markdown",
   "metadata": {},
   "source": [
    "## With X^2"
   ]
  },
  {
   "cell_type": "code",
   "execution_count": 147,
   "metadata": {},
   "outputs": [],
   "source": [
    "X_arctic_2 = np.ones((39,3))\n",
    "X_arctic_2[:,1] = X_arctic[:,0]\n",
    "X_arctic_2[:,2] = X_arctic[:,0]**2"
   ]
  },
  {
   "cell_type": "code",
   "execution_count": 148,
   "metadata": {},
   "outputs": [],
   "source": [
    "Z_arctic_2 = X_arctic_2 / np.max(X_arctic_2)"
   ]
  },
  {
   "cell_type": "code",
   "execution_count": null,
   "metadata": {},
   "outputs": [],
   "source": [
    "true_params = np.array([[0, -1.7471939375, -4.1558203475],\n",
    "                       [0, 0.0949597540, 0.1551641068],\n",
    "                       [0,  -0.0005857499, -0.0009607057]])\n",
    "true_gamma = 2.9464265445\n",
    "Z = np.ones(39)\n",
    "true_phi = np.exp(Z*true_gamma)"
   ]
  },
  {
   "cell_type": "code",
   "execution_count": 191,
   "metadata": {},
   "outputs": [],
   "source": [
    "beta0 = np.array([[ 0., -1.5, -4.], [0, 0.05, 0.1], [0., 0., 0.]])\n",
    "gamma0 = [2.]\n",
    "params0 = np.concatenate([beta0.flatten(),gamma0])"
   ]
  },
  {
   "cell_type": "code",
   "execution_count": 192,
   "metadata": {},
   "outputs": [
    {
     "name": "stdout",
     "output_type": "stream",
     "text": [
      "Optimization terminated successfully.\n",
      "         Current function value: -91.280393\n",
      "         Iterations: 827\n",
      "         Function evaluations: 1207\n",
      "Wall time: 828 ms\n"
     ]
    }
   ],
   "source": [
    "%%time\n",
    "solution_arctic_bis=fmin(f_arctic, params0, args=(X_arctic_2, Y_arctic, np.ones(39).reshape(39,1)), maxiter=2000)"
   ]
  },
  {
   "cell_type": "code",
   "execution_count": 193,
   "metadata": {},
   "outputs": [],
   "source": [
    "beta_arctic_2 = solution_arctic_bis[:(n_features+2)*n_classes].reshape((n_features+2,n_classes))"
   ]
  },
  {
   "cell_type": "code",
   "execution_count": 194,
   "metadata": {},
   "outputs": [
    {
     "data": {
      "text/plain": [
       "array([[ 0.00000000e+00, -1.74712826e+00, -4.15553100e+00],\n",
       "       [ 0.00000000e+00,  9.49556281e-02,  1.55153815e-01],\n",
       "       [ 0.00000000e+00, -5.85733299e-04, -9.60647322e-04]])"
      ]
     },
     "execution_count": 194,
     "metadata": {},
     "output_type": "execute_result"
    }
   ],
   "source": [
    "beta_arctic_2"
   ]
  },
  {
   "cell_type": "code",
   "execution_count": 195,
   "metadata": {},
   "outputs": [],
   "source": [
    "X_new_2 = np.arange(10.4,103.7,0.5)\n",
    "X_new_2 = np.array([[1., j, j**2] for j in X_new_2])"
   ]
  },
  {
   "cell_type": "code",
   "execution_count": 196,
   "metadata": {},
   "outputs": [],
   "source": [
    "mu_arctic_2 = dirichlet_regression.compute_mu(X_new_2, beta_arctic_2)\n",
    "\n",
    "gamma_var_arctic_2 = solution_arctic_bis[(n_features+2)*n_classes:]\n",
    "phi_arctic_2 = np.exp(np.matmul(np.ones(39).reshape(39,1),gamma_var_arctic_2))\n",
    "\n",
    "#alpha_arctic_2 = np.copy(mu_arctic_2)\n",
    "#for i in range(mu_arctic_2.shape[-1]):\n",
    "#    alpha_arctic_2[:,i] = phi_arctic_2*mu_arctic_2[:,i]"
   ]
  },
  {
   "cell_type": "code",
   "execution_count": 197,
   "metadata": {},
   "outputs": [
    {
     "data": {
      "text/plain": [
       "array([2.94592283])"
      ]
     },
     "execution_count": 197,
     "metadata": {},
     "output_type": "execute_result"
    }
   ],
   "source": [
    "gamma_var_arctic_2"
   ]
  },
  {
   "cell_type": "code",
   "execution_count": 198,
   "metadata": {},
   "outputs": [
    {
     "data": {
      "image/png": "[encoded data removed]",
      "text/plain": [
       "<Figure size 432x288 with 1 Axes>"
      ]
     },
     "metadata": {
      "needs_background": "light"
     },
     "output_type": "display_data"
    }
   ],
   "source": [
    "plt.scatter(X_arctic,Y_arctic[:,0],label='Sand')\n",
    "plt.scatter(X_arctic,Y_arctic[:,1],label='Silt')\n",
    "plt.scatter(X_arctic,Y_arctic[:,2],label='Clay')\n",
    "plt.plot(X_new, mu_arctic_2)\n",
    "plt.legend()\n",
    "plt.show()"
   ]
  },
  {
   "cell_type": "code",
   "execution_count": null,
   "metadata": {},
   "outputs": [],
   "source": []
  },
  {
   "cell_type": "code",
   "execution_count": 130,
   "metadata": {},
   "outputs": [
    {
     "data": {
      "text/plain": [
       "2.490675957099221"
      ]
     },
     "execution_count": 130,
     "metadata": {},
     "output_type": "execute_result"
    }
   ],
   "source": [
    "dirichlet_regression.dirichlet_loglikelihood(compute_mu_2(X_arctic_2, beta_arctic_2), np.ones(39), Y_arctic)"
   ]
  },
  {
   "cell_type": "code",
   "execution_count": 135,
   "metadata": {},
   "outputs": [
    {
     "data": {
      "image/png": "[encoded data removed]",
      "text/plain": [
       "<Figure size 432x288 with 1 Axes>"
      ]
     },
     "metadata": {
      "needs_background": "light"
     },
     "output_type": "display_data"
    }
   ],
   "source": [
    "plt.scatter(X_arctic,Y_arctic[:,0],label='Sand')\n",
    "plt.scatter(X_arctic,Y_arctic[:,1],label='Silt')\n",
    "plt.scatter(X_arctic,Y_arctic[:,2],label='Clay')\n",
    "plt.plot(X_arctic, compute_mu_ter(X_arctic, beta_true, intercept_true, beta2_true))\n",
    "plt.legend()\n",
    "plt.show()"
   ]
  },
  {
   "cell_type": "code",
   "execution_count": 131,
   "metadata": {},
   "outputs": [
    {
     "data": {
      "text/plain": [
       "-12.519344575908272"
      ]
     },
     "execution_count": 131,
     "metadata": {},
     "output_type": "execute_result"
    }
   ],
   "source": [
    "dirichlet_regression.dirichlet_loglikelihood(compute_mu_ter(X_arctic, beta_true, intercept_true, beta2_true), \n",
    "                                             np.ones(39), Y_arctic)"
   ]
  },
  {
   "cell_type": "code",
   "execution_count": 132,
   "metadata": {},
   "outputs": [
    {
     "data": {
      "text/plain": [
       "0.6756225377194269"
      ]
     },
     "execution_count": 132,
     "metadata": {},
     "output_type": "execute_result"
    }
   ],
   "source": [
    "r2_score(Y_arctic, compute_mu_ter(X_arctic, beta_true, intercept_true, beta2_true))"
   ]
  },
  {
   "cell_type": "code",
   "execution_count": 133,
   "metadata": {},
   "outputs": [
    {
     "data": {
      "text/plain": [
       "0.2227556850971041"
      ]
     },
     "execution_count": 133,
     "metadata": {},
     "output_type": "execute_result"
    }
   ],
   "source": [
    "r2_score(Y_arctic, compute_mu_2(X_arctic_2, beta_arctic_2))"
   ]
  },
  {
   "cell_type": "code",
   "execution_count": null,
   "metadata": {},
   "outputs": [],
   "source": []
  },
  {
   "cell_type": "markdown",
   "metadata": {},
   "source": [
    "## With own gradient descent"
   ]
  },
  {
   "cell_type": "code",
   "execution_count": 183,
   "metadata": {},
   "outputs": [],
   "source": [
    "def gradientDescent(X, Y, Z, params_0, learning_rate=0.001, nitermax=1000, tolmax=1e-3,epsilon=0):\n",
    "    K = X.shape[-1]\n",
    "    J = Y.shape[-1]\n",
    "    current_param = params_0\n",
    "    list_likelihoods = []\n",
    "    list_gradients = []\n",
    "    list_params = [current_param]\n",
    "    \n",
    "    niter=0\n",
    "    tol=1\n",
    "    \n",
    "    current_phi = np.ones(39)\n",
    "\n",
    "    while (tol > tolmax) & (niter<nitermax):\n",
    "        #current_phi = np.exp(np.matmul(Z,gamma_var))\n",
    "        #current_mu = dirichlet_regression.compute_mu(X, current_beta)\n",
    "        #list_likelihoods.append(dirichlet_regression.dirichlet_loglikelihood(current_mu,current_phi,Y))\n",
    "        \n",
    "        grad = fprime_arctic(current_param,X,Y,Z,epsilon=epsilon)\n",
    "        \n",
    "        list_gradients.append(grad)\n",
    "        # we want to maximize the function, so we add the gradient\n",
    "        old_param = np.copy(current_param)\n",
    "        current_param = current_param + learning_rate * grad\n",
    "        #current_beta[:,0] = 0\n",
    "        list_params.append(current_param)\n",
    "        \n",
    "        niter+=1\n",
    "        tol = np.sum((current_param - old_param)**2)**0.5\n",
    "        \n",
    "    return(list_params, list_likelihoods, list_gradients)"
   ]
  },
  {
   "cell_type": "code",
   "execution_count": 148,
   "metadata": {},
   "outputs": [],
   "source": [
    "beta0 = np.array([[0.1, -0.3, -1.1],[ 0.02, 0.05, 0.06]])\n",
    "gamma0 = [0,0]\n",
    "params0 = np.concatenate([beta0.flatten(),gamma0])"
   ]
  },
  {
   "cell_type": "code",
   "execution_count": 149,
   "metadata": {},
   "outputs": [],
   "source": [
    "list_params, list_likelihoods, list_gradients=gradientDescent(X_arctic_1, Y_arctic, Z_arctic_1, \n",
    "                                                              params0, \n",
    "                                                              nitermax = 500, learning_rate=1e-6,tolmax=1e-5)"
   ]
  },
  {
   "cell_type": "code",
   "execution_count": 150,
   "metadata": {
    "scrolled": true
   },
   "outputs": [
    {
     "data": {
      "text/plain": [
       "array([ 9.49601823e-02, -3.00400801e-01, -1.09455938e+00,  3.06832661e-02,\n",
       "        4.44712105e-02,  5.48455234e-02,  9.73970407e-04,  4.76804048e-02])"
      ]
     },
     "execution_count": 150,
     "metadata": {},
     "output_type": "execute_result"
    }
   ],
   "source": [
    "list_params[-2]"
   ]
  },
  {
   "cell_type": "code",
   "execution_count": 151,
   "metadata": {},
   "outputs": [
    {
     "data": {
      "text/plain": [
       "array([ 9.49576000e-02, -3.00400954e-01, -1.09455665e+00,  3.06833077e-02,\n",
       "        4.44712108e-02,  5.48454815e-02,  9.74457290e-04,  4.77042362e-02])"
      ]
     },
     "execution_count": 151,
     "metadata": {},
     "output_type": "execute_result"
    }
   ],
   "source": [
    "list_params[-1]"
   ]
  },
  {
   "cell_type": "code",
   "execution_count": 152,
   "metadata": {},
   "outputs": [],
   "source": [
    "beta_arctic_1 = list_params[-1][:(n_features+1)*n_classes].reshape((n_features+1,n_classes))"
   ]
  },
  {
   "cell_type": "code",
   "execution_count": 153,
   "metadata": {},
   "outputs": [],
   "source": [
    "mu_arctic_1 = dirichlet_regression.compute_mu(X_new_1, beta_arctic_1)"
   ]
  },
  {
   "cell_type": "code",
   "execution_count": 154,
   "metadata": {},
   "outputs": [
    {
     "data": {
      "image/png": "[encoded data removed]",
      "text/plain": [
       "<Figure size 432x288 with 1 Axes>"
      ]
     },
     "metadata": {
      "needs_background": "light"
     },
     "output_type": "display_data"
    }
   ],
   "source": [
    "plt.scatter(X_arctic,Y_arctic[:,0],label='Sand')\n",
    "plt.scatter(X_arctic,Y_arctic[:,1],label='Silt')\n",
    "plt.scatter(X_arctic,Y_arctic[:,2],label='Clay')\n",
    "plt.plot(X_new, mu_arctic_1)\n",
    "plt.legend()\n",
    "plt.show()"
   ]
  },
  {
   "cell_type": "code",
   "execution_count": 22,
   "metadata": {},
   "outputs": [],
   "source": [
    "beta0 = np.array([[ 1, 0., -1.], [0, 0., 0.1], [0., 0., 0.]])\n",
    "gamma0 = [0,0,0]\n",
    "params0 = np.concatenate([beta0.flatten(),gamma0])"
   ]
  },
  {
   "cell_type": "code",
   "execution_count": 23,
   "metadata": {},
   "outputs": [
    {
     "ename": "NameError",
     "evalue": "name 'gradientDescent' is not defined",
     "output_type": "error",
     "traceback": [
      "\u001b[1;31m---------------------------------------------------------------------------\u001b[0m",
      "\u001b[1;31mNameError\u001b[0m                                 Traceback (most recent call last)",
      "\u001b[1;32m<ipython-input-23-64d4a3824d31>\u001b[0m in \u001b[0;36m<module>\u001b[1;34m\u001b[0m\n\u001b[1;32m----> 1\u001b[1;33m list_params, list_likelihoods, list_gradients=gradientDescent(X_arctic_2, Y_arctic, Z_arctic_2, \n\u001b[0m\u001b[0;32m      2\u001b[0m                                                               \u001b[0mparams0\u001b[0m\u001b[1;33m,\u001b[0m\u001b[1;33m\u001b[0m\u001b[1;33m\u001b[0m\u001b[0m\n\u001b[0;32m      3\u001b[0m                                                               nitermax = 2000, learning_rate=1e-7,tolmax=1e-5)\n",
      "\u001b[1;31mNameError\u001b[0m: name 'gradientDescent' is not defined"
     ]
    }
   ],
   "source": [
    "list_params, list_likelihoods, list_gradients=gradientDescent(X_arctic_2, Y_arctic, Z_arctic_2, \n",
    "                                                              params0, \n",
    "                                                              nitermax = 2000, learning_rate=1e-7,tolmax=1e-5)"
   ]
  },
  {
   "cell_type": "code",
   "execution_count": 200,
   "metadata": {},
   "outputs": [
    {
     "data": {
      "text/plain": [
       "2001"
      ]
     },
     "execution_count": 200,
     "metadata": {},
     "output_type": "execute_result"
    }
   ],
   "source": [
    "len(list_params)"
   ]
  },
  {
   "cell_type": "code",
   "execution_count": 201,
   "metadata": {},
   "outputs": [
    {
     "data": {
      "text/plain": [
       "array([ 9.99939708e-01,  5.49380302e-05, -9.99994646e-01, -4.49426746e-04,\n",
       "        6.63521665e-04,  9.97859051e-02,  1.18080398e-02,  2.91032993e-03,\n",
       "       -1.47183697e-02,  4.45058391e-07,  1.97110264e-05,  1.18272026e-03])"
      ]
     },
     "execution_count": 201,
     "metadata": {},
     "output_type": "execute_result"
    }
   ],
   "source": [
    "list_params[-1]"
   ]
  },
  {
   "cell_type": "code",
   "execution_count": 202,
   "metadata": {},
   "outputs": [],
   "source": [
    "beta_arctic_2 = list_params[-1][:(n_features+2)*n_classes].reshape((n_features+2,n_classes))"
   ]
  },
  {
   "cell_type": "code",
   "execution_count": 203,
   "metadata": {},
   "outputs": [],
   "source": [
    "mu_arctic_2 = dirichlet_regression.compute_mu(X_new_2, beta_arctic_2)"
   ]
  },
  {
   "cell_type": "markdown",
   "metadata": {},
   "source": [
    "### Without phi"
   ]
  },
  {
   "cell_type": "code",
   "execution_count": 84,
   "metadata": {},
   "outputs": [],
   "source": [
    "def fprime_no_phi(x, X, Y, epsilon=0):\n",
    "    K = X.shape[-1]\n",
    "    J = Y.shape[-1]\n",
    "    beta = x.reshape((K,J))\n",
    "    #beta[:,0] = 0\n",
    "    mu = dirichlet_regression.compute_mu(X, beta)\n",
    "    beta_grad = dirichlet_regression.dirichlet_gradient(mu, X, Y, epsilon=epsilon)\n",
    "    return(beta_grad.flatten())"
   ]
  },
  {
   "cell_type": "code",
   "execution_count": 94,
   "metadata": {},
   "outputs": [],
   "source": [
    "beta0 = np.array([[ 1.4, 0., -1.8], [0, 0., 0.], [0., 0., 0.]])"
   ]
  },
  {
   "cell_type": "code",
   "execution_count": 95,
   "metadata": {},
   "outputs": [
    {
     "name": "stdout",
     "output_type": "stream",
     "text": [
      "Wall time: 760 ms\n"
     ]
    }
   ],
   "source": [
    "%%time\n",
    "solution_arctic_no_phi=scipy.optimize.root(fprime_no_phi, beta0,\n",
    "                                     args=(X_arctic_2, Y_arctic), tol=1e-6, method='hybr')"
   ]
  },
  {
   "cell_type": "code",
   "execution_count": 96,
   "metadata": {},
   "outputs": [
    {
     "name": "stdout",
     "output_type": "stream",
     "text": [
      "The solution converged.\n"
     ]
    },
    {
     "data": {
      "text/plain": [
       "array([ 3.76163873e-01, -1.60265202e-01, -8.99054128e-01, -2.57937456e-02,\n",
       "        3.01802061e-03,  2.08324531e-02,  5.61810061e-04,  3.86174394e-04,\n",
       "        2.78372595e-04])"
      ]
     },
     "execution_count": 96,
     "metadata": {},
     "output_type": "execute_result"
    }
   ],
   "source": [
    "print(solution_arctic_no_phi.message)\n",
    "solution_arctic_no_phi.x"
   ]
  },
  {
   "cell_type": "code",
   "execution_count": 97,
   "metadata": {},
   "outputs": [],
   "source": [
    "beta_arctic_2_no_phi = solution_arctic_no_phi.x.reshape((n_features+2,n_classes))"
   ]
  },
  {
   "cell_type": "code",
   "execution_count": 98,
   "metadata": {},
   "outputs": [],
   "source": [
    "mu_arctic_2_no_phi = dirichlet_regression.compute_mu(X_new_2, beta_arctic_2_no_phi)"
   ]
  },
  {
   "cell_type": "code",
   "execution_count": 99,
   "metadata": {},
   "outputs": [
    {
     "data": {
      "image/png": "[encoded data removed]",
      "text/plain": [
       "<Figure size 432x288 with 1 Axes>"
      ]
     },
     "metadata": {
      "needs_background": "light"
     },
     "output_type": "display_data"
    }
   ],
   "source": [
    "plt.scatter(X_arctic,Y_arctic[:,0],label='Sand')\n",
    "plt.scatter(X_arctic,Y_arctic[:,1],label='Silt')\n",
    "plt.scatter(X_arctic,Y_arctic[:,2],label='Clay')\n",
    "plt.plot(X_new, mu_arctic_2_no_phi)\n",
    "plt.legend()\n",
    "plt.show()"
   ]
  },
  {
   "cell_type": "code",
   "execution_count": 181,
   "metadata": {},
   "outputs": [
    {
     "data": {
      "text/plain": [
       "0.21809447480077349"
      ]
     },
     "execution_count": 181,
     "metadata": {},
     "output_type": "execute_result"
    }
   ],
   "source": [
    "r2_score(Y_arctic,dirichlet_regression.compute_mu(X_arctic_2, beta_arctic_2_no_phi))"
   ]
  },
  {
   "cell_type": "markdown",
   "metadata": {},
   "source": [
    "## What is obtained with DirichletReg on R"
   ]
  },
  {
   "cell_type": "code",
   "execution_count": 82,
   "metadata": {},
   "outputs": [],
   "source": [
    "beta_true = [[0.02335, 0.05557, 0.0643]]\n",
    "intercept_true = [[ 0.11662, -0.31060, -1.152]] "
   ]
  },
  {
   "cell_type": "code",
   "execution_count": 83,
   "metadata": {},
   "outputs": [],
   "source": [
    "def compute_mu_bis(X, beta, intercept):\n",
    "    n = np.shape(X)[0]\n",
    "    J = np.shape(beta)[1]\n",
    "    Xbeta = np.matmul(X,beta)\n",
    "    for i in range(n):\n",
    "        Xbeta[i,:] = Xbeta[i,:]+intercept \n",
    "    mu = np.zeros((n,J))\n",
    "    # compute the softmax\n",
    "    exp_Xbeta = np.exp(Xbeta)\n",
    "    sum_exp_Xbeta = np.sum(exp_Xbeta,axis=1)\n",
    "    for i in range(n):\n",
    "        mu[i,:] = exp_Xbeta[i,:]/sum_exp_Xbeta[i]\n",
    "    return mu"
   ]
  },
  {
   "cell_type": "code",
   "execution_count": 84,
   "metadata": {},
   "outputs": [
    {
     "data": {
      "text/plain": [
       "(array([10.4]), array([103.7]))"
      ]
     },
     "execution_count": 84,
     "metadata": {},
     "output_type": "execute_result"
    }
   ],
   "source": [
    "min(X_arctic),max(X_arctic)"
   ]
  },
  {
   "cell_type": "code",
   "execution_count": 21,
   "metadata": {},
   "outputs": [],
   "source": [
    "X_new = np.arange(10.4,103.7,0.5)\n",
    "X_new = np.array([[j] for j in X_new])"
   ]
  },
  {
   "cell_type": "code",
   "execution_count": 86,
   "metadata": {},
   "outputs": [],
   "source": [
    "mu_new = compute_mu_bis(X_new, beta_true, intercept_true)"
   ]
  },
  {
   "cell_type": "code",
   "execution_count": 87,
   "metadata": {},
   "outputs": [
    {
     "data": {
      "image/png": "[encoded data removed]",
      "text/plain": [
       "<Figure size 432x288 with 1 Axes>"
      ]
     },
     "metadata": {
      "needs_background": "light"
     },
     "output_type": "display_data"
    }
   ],
   "source": [
    "plt.scatter(X_arctic,Y_arctic[:,0],label='Sand')\n",
    "plt.scatter(X_arctic,Y_arctic[:,1],label='Silt')\n",
    "plt.scatter(X_arctic,Y_arctic[:,2],label='Clay')\n",
    "plt.plot(X_new, mu_new)\n",
    "plt.legend()\n",
    "plt.show()"
   ]
  },
  {
   "cell_type": "code",
   "execution_count": 17,
   "metadata": {},
   "outputs": [],
   "source": [
    "intercept_true = [[ 1.4361967, -0.0259705, -1.7931487]] \n",
    "beta_true = [[-0.0072382, 0.0717450, 0.1107906]]\n",
    "beta2_true = [[ 0.0001324, -0.0002679, -0.0004872]] "
   ]
  },
  {
   "cell_type": "code",
   "execution_count": 18,
   "metadata": {},
   "outputs": [],
   "source": [
    "def compute_mu_ter(X, beta, intercept, beta2):\n",
    "    n = np.shape(X)[0]\n",
    "    J = np.shape(beta)[1]\n",
    "    Xbeta = np.matmul(X,beta)\n",
    "    X2beta2 = np.matmul(X**2,beta2)\n",
    "    for i in range(n):\n",
    "        Xbeta[i,:] = X2beta2[i,:]+Xbeta[i,:]+intercept \n",
    "    mu = np.zeros((n,J))\n",
    "    # compute the softmax\n",
    "    exp_Xbeta = np.exp(Xbeta)\n",
    "    sum_exp_Xbeta = np.sum(exp_Xbeta,axis=1)\n",
    "    for i in range(n):\n",
    "        mu[i,:] = exp_Xbeta[i,:]/sum_exp_Xbeta[i]\n",
    "    return mu"
   ]
  },
  {
   "cell_type": "code",
   "execution_count": 94,
   "metadata": {},
   "outputs": [],
   "source": [
    "mu_new = compute_mu_ter(X_new, beta_true, intercept_true, beta2_true)"
   ]
  },
  {
   "cell_type": "code",
   "execution_count": 95,
   "metadata": {},
   "outputs": [
    {
     "data": {
      "image/png": "[encoded data removed]",
      "text/plain": [
       "<Figure size 432x288 with 1 Axes>"
      ]
     },
     "metadata": {
      "needs_background": "light"
     },
     "output_type": "display_data"
    }
   ],
   "source": [
    "plt.scatter(X_arctic,Y_arctic[:,0],label='Sand')\n",
    "plt.scatter(X_arctic,Y_arctic[:,1],label='Silt')\n",
    "plt.scatter(X_arctic,Y_arctic[:,2],label='Clay')\n",
    "plt.plot(X_new, mu_new)\n",
    "plt.legend()\n",
    "plt.show()"
   ]
  },
  {
   "cell_type": "code",
   "execution_count": 92,
   "metadata": {},
   "outputs": [
    {
     "data": {
      "text/plain": [
       "0.6756225377194269"
      ]
     },
     "execution_count": 92,
     "metadata": {},
     "output_type": "execute_result"
    }
   ],
   "source": [
    "r2_score(Y_arctic, compute_mu_ter(X_arctic, beta_true, intercept_true, beta2_true))"
   ]
  },
  {
   "cell_type": "code",
   "execution_count": 93,
   "metadata": {},
   "outputs": [
    {
     "data": {
      "text/plain": [
       "array([ 9.438, 17.818, 11.743])"
      ]
     },
     "execution_count": 93,
     "metadata": {},
     "output_type": "execute_result"
    }
   ],
   "source": [
    "np.sum(Y_arctic,axis=0)"
   ]
  },
  {
   "cell_type": "code",
   "execution_count": 94,
   "metadata": {},
   "outputs": [
    {
     "data": {
      "text/plain": [
       "39"
      ]
     },
     "execution_count": 94,
     "metadata": {},
     "output_type": "execute_result"
    }
   ],
   "source": [
    "len(Y_arctic)"
   ]
  },
  {
   "cell_type": "code",
   "execution_count": 95,
   "metadata": {},
   "outputs": [],
   "source": [
    "import smote_cd"
   ]
  },
  {
   "cell_type": "code",
   "execution_count": 90,
   "metadata": {},
   "outputs": [],
   "source": [
    "X_arctic_os, Y_arctic_os = smote_cd.oversampling_multioutput(X_arctic, Y_arctic)"
   ]
  },
  {
   "cell_type": "code",
   "execution_count": 93,
   "metadata": {},
   "outputs": [
    {
     "data": {
      "image/png": "[encoded data removed]",
      "text/plain": [
       "<Figure size 640x480 with 1 Axes>"
      ]
     },
     "metadata": {},
     "output_type": "display_data"
    }
   ],
   "source": [
    "plt.scatter(X_arctic,Y_arctic[:,0],label='Sand')\n",
    "plt.scatter(X_arctic,Y_arctic[:,1],label='Silt')\n",
    "plt.scatter(X_arctic,Y_arctic[:,2],label='Clay')\n",
    "#plt.plot(X_new, mu_new)\n",
    "plt.legend()\n",
    "plt.show()"
   ]
  },
  {
   "cell_type": "code",
   "execution_count": 92,
   "metadata": {},
   "outputs": [
    {
     "data": {
      "image/png": "[encoded data removed]",
      "text/plain": [
       "<Figure size 640x480 with 1 Axes>"
      ]
     },
     "metadata": {},
     "output_type": "display_data"
    }
   ],
   "source": [
    "plt.scatter(X_arctic_os,Y_arctic_os[:,0],label='Sand')\n",
    "plt.scatter(X_arctic_os,Y_arctic_os[:,1],label='Silt')\n",
    "plt.scatter(X_arctic_os,Y_arctic_os[:,2],label='Clay')\n",
    "#plt.plot(X_new, mu_new)\n",
    "plt.legend()\n",
    "plt.show()"
   ]
  },
  {
   "cell_type": "code",
   "execution_count": 101,
   "metadata": {},
   "outputs": [
    {
     "data": {
      "image/png": "[encoded data removed]",
      "text/plain": [
       "<Figure size 640x480 with 1 Axes>"
      ]
     },
     "metadata": {},
     "output_type": "display_data"
    }
   ],
   "source": [
    "plt.hist(Y_arctic[:,0], bins=20)\n",
    "plt.show()"
   ]
  },
  {
   "cell_type": "code",
   "execution_count": 100,
   "metadata": {},
   "outputs": [
    {
     "data": {
      "image/png": "[encoded data removed]",
      "text/plain": [
       "<Figure size 640x480 with 1 Axes>"
      ]
     },
     "metadata": {},
     "output_type": "display_data"
    }
   ],
   "source": [
    "plt.hist(Y_arctic[:,2], bins=20)\n",
    "plt.show()"
   ]
  },
  {
   "cell_type": "code",
   "execution_count": 102,
   "metadata": {},
   "outputs": [
    {
     "data": {
      "text/plain": [
       "array([0.24200621, 0.45688351, 0.30111028])"
      ]
     },
     "execution_count": 102,
     "metadata": {},
     "output_type": "execute_result"
    }
   ],
   "source": [
    "np.sum(Y_arctic,axis=0)/np.sum(Y_arctic)"
   ]
  },
  {
   "cell_type": "code",
   "execution_count": 95,
   "metadata": {},
   "outputs": [
    {
     "data": {
      "text/plain": [
       "array([0.28385791, 0.42979667, 0.28634543])"
      ]
     },
     "execution_count": 95,
     "metadata": {},
     "output_type": "execute_result"
    }
   ],
   "source": [
    "np.sum(Y_arctic_os,axis=0)/np.sum(Y_arctic_os)"
   ]
  },
  {
   "cell_type": "markdown",
   "metadata": {},
   "source": [
    "# Comparaison des likelihood"
   ]
  },
  {
   "cell_type": "code",
   "execution_count": 46,
   "metadata": {},
   "outputs": [
    {
     "data": {
      "text/plain": [
       "array([[ 5.31504084e-01, -4.90414264e-03, -7.43694690e-01],\n",
       "       [-7.08068799e-03,  2.17292632e-02,  3.95446102e-02],\n",
       "       [ 5.27078769e-04,  3.51462021e-04,  2.43649407e-04]])"
      ]
     },
     "execution_count": 46,
     "metadata": {},
     "output_type": "execute_result"
    }
   ],
   "source": [
    "beta_arctic_2"
   ]
  },
  {
   "cell_type": "code",
   "execution_count": 47,
   "metadata": {},
   "outputs": [
    {
     "data": {
      "text/plain": [
       "[[1.4361967, -0.0259705, -1.7931487]]"
      ]
     },
     "execution_count": 47,
     "metadata": {},
     "output_type": "execute_result"
    }
   ],
   "source": [
    "intercept_true"
   ]
  },
  {
   "cell_type": "code",
   "execution_count": 161,
   "metadata": {},
   "outputs": [],
   "source": [
    "mu_arctic_2 = dirichlet_regression.compute_mu(X_arctic_2,beta_arctic_2)"
   ]
  },
  {
   "cell_type": "code",
   "execution_count": 102,
   "metadata": {},
   "outputs": [
    {
     "data": {
      "text/plain": [
       "49.05283798414962"
      ]
     },
     "execution_count": 102,
     "metadata": {},
     "output_type": "execute_result"
    }
   ],
   "source": [
    "dirichlet_regression.dirichlet_loglikelihood(mu_arctic_2, phi_arctic_2, Y_arctic)"
   ]
  },
  {
   "cell_type": "code",
   "execution_count": 116,
   "metadata": {},
   "outputs": [
    {
     "data": {
      "text/plain": [
       "54.90714973914159"
      ]
     },
     "execution_count": 116,
     "metadata": {},
     "output_type": "execute_result"
    }
   ],
   "source": [
    "dirichlet_regression.dirichlet_loglikelihood(compute_mu_ter(X_arctic, beta_true, intercept_true, beta2_true), \n",
    "                                             phi_arctic_2, Y_arctic)"
   ]
  },
  {
   "cell_type": "markdown",
   "metadata": {},
   "source": [
    "---"
   ]
  },
  {
   "cell_type": "code",
   "execution_count": 79,
   "metadata": {},
   "outputs": [],
   "source": [
    "from scipy.special import loggamma"
   ]
  },
  {
   "cell_type": "code",
   "execution_count": 88,
   "metadata": {},
   "outputs": [],
   "source": [
    "def dirichlet_loglikelihood_no_phi(mu,Y,epsilon=0):\n",
    "    n = np.shape(Y)[0]\n",
    "    sum_ll = 0\n",
    "    for i in range(n):\n",
    "        term_A = loggamma(np.sum(mu[i]))\n",
    "        term_B = np.sum(loggamma(mu[i]))\n",
    "        term_C = np.sum((mu[i]-1)*np.log(Y[i]+epsilon))\n",
    "        sum_ll += term_A + term_C - term_B\n",
    "    return sum_ll"
   ]
  },
  {
   "cell_type": "code",
   "execution_count": 44,
   "metadata": {},
   "outputs": [
    {
     "data": {
      "text/plain": [
       "0.6756225377194269"
      ]
     },
     "execution_count": 44,
     "metadata": {},
     "output_type": "execute_result"
    }
   ],
   "source": [
    "r2_score(Y_arctic, compute_mu_ter(X_arctic, beta_true, intercept_true, beta2_true))"
   ]
  },
  {
   "cell_type": "code",
   "execution_count": 162,
   "metadata": {},
   "outputs": [
    {
     "data": {
      "text/plain": [
       "0.5012346539814307"
      ]
     },
     "execution_count": 162,
     "metadata": {},
     "output_type": "execute_result"
    }
   ],
   "source": [
    "r2_score(Y_arctic, dirichlet_regression.compute_mu(X_arctic_2,beta_arctic_2))"
   ]
  },
  {
   "cell_type": "code",
   "execution_count": 54,
   "metadata": {},
   "outputs": [
    {
     "data": {
      "text/plain": [
       "0.0"
      ]
     },
     "execution_count": 54,
     "metadata": {},
     "output_type": "execute_result"
    }
   ],
   "source": [
    "np.log(gamma(1))"
   ]
  },
  {
   "cell_type": "code",
   "execution_count": 163,
   "metadata": {
    "scrolled": true
   },
   "outputs": [
    {
     "data": {
      "text/plain": [
       "-12.519344575908269"
      ]
     },
     "execution_count": 163,
     "metadata": {},
     "output_type": "execute_result"
    }
   ],
   "source": [
    "dirichlet_loglikelihood_no_phi(compute_mu_ter(X_arctic, beta_true, intercept_true, beta2_true), Y_arctic)"
   ]
  },
  {
   "cell_type": "code",
   "execution_count": 164,
   "metadata": {},
   "outputs": [
    {
     "data": {
      "text/plain": [
       "-10.582358302459484"
      ]
     },
     "execution_count": 164,
     "metadata": {},
     "output_type": "execute_result"
    }
   ],
   "source": [
    "dirichlet_loglikelihood_no_phi(dirichlet_regression.compute_mu(X_arctic_2,beta_arctic_2), Y_arctic)"
   ]
  },
  {
   "cell_type": "code",
   "execution_count": 83,
   "metadata": {},
   "outputs": [],
   "source": [
    "alpha_1 = np.exp(np.matmul(X_arctic_2,beta_arctic_2))"
   ]
  },
  {
   "cell_type": "code",
   "execution_count": 84,
   "metadata": {},
   "outputs": [],
   "source": [
    "alpha_2 = np.exp(np.matmul(X_arctic_2,np.array([intercept_true[0], beta_true[0], beta2_true[0]])))"
   ]
  },
  {
   "cell_type": "code",
   "execution_count": 89,
   "metadata": {},
   "outputs": [
    {
     "data": {
      "text/plain": [
       "-673.3460649616601"
      ]
     },
     "execution_count": 89,
     "metadata": {},
     "output_type": "execute_result"
    }
   ],
   "source": [
    "dirichlet_loglikelihood_no_phi(alpha_1, Y_arctic)"
   ]
  },
  {
   "cell_type": "code",
   "execution_count": 90,
   "metadata": {},
   "outputs": [
    {
     "data": {
      "text/plain": [
       "108.77833131416085"
      ]
     },
     "execution_count": 90,
     "metadata": {},
     "output_type": "execute_result"
    }
   ],
   "source": [
    "dirichlet_loglikelihood_no_phi(alpha_2, Y_arctic)"
   ]
  },
  {
   "cell_type": "code",
   "execution_count": 108,
   "metadata": {},
   "outputs": [],
   "source": [
    "true_params = np.array([[0, -1.7471939375, -4.1558203475],\n",
    "                       [0, 0.0949597540, 0.1551641068],\n",
    "                       [0,  -0.0005857499, -0.0009607057]])\n",
    "true_gamma = 2.9464265445\n",
    "Z = np.ones(39)\n",
    "true_phi = np.exp(Z*true_gamma)"
   ]
  },
  {
   "cell_type": "code",
   "execution_count": 102,
   "metadata": {},
   "outputs": [],
   "source": [
    "true_mu_alt = dirichlet_regression.compute_mu(X_arctic_2,true_params)"
   ]
  },
  {
   "cell_type": "code",
   "execution_count": 110,
   "metadata": {},
   "outputs": [
    {
     "data": {
      "text/plain": [
       "91.28038830278896"
      ]
     },
     "execution_count": 110,
     "metadata": {},
     "output_type": "execute_result"
    }
   ],
   "source": [
    "dirichlet_regression.dirichlet_loglikelihood(true_mu_alt, true_phi, Y_arctic)"
   ]
  },
  {
   "cell_type": "code",
   "execution_count": 199,
   "metadata": {},
   "outputs": [
    {
     "data": {
      "text/plain": [
       "array([2.94592283])"
      ]
     },
     "execution_count": 199,
     "metadata": {},
     "output_type": "execute_result"
    }
   ],
   "source": [
    "gamma_var_arctic_2"
   ]
  },
  {
   "cell_type": "code",
   "execution_count": 200,
   "metadata": {},
   "outputs": [
    {
     "data": {
      "text/plain": [
       "91.28038768684509"
      ]
     },
     "execution_count": 200,
     "metadata": {},
     "output_type": "execute_result"
    }
   ],
   "source": [
    "phi_arctic_2 = np.exp(Z*gamma_var_arctic_2)\n",
    "mu_arctic_2 = dirichlet_regression.compute_mu(X_arctic_2,beta_arctic_2)\n",
    "dirichlet_regression.dirichlet_loglikelihood(mu_arctic_2, true_phi, Y_arctic)"
   ]
  },
  {
   "cell_type": "markdown",
   "metadata": {},
   "source": [
    "Pourquoi ça ne marchait pas ?\n",
    "\n",
    "- Dimension de gamma et Z était incorrecte (il faut juste Z de dimension 39,1 et gamma un réel) \n",
    "- Arguments de départs : il faut qu'ils soient assez proches de ceux optims, d'où l'échauffement avec BFGS\n",
    "\n",
    "TODO:\n",
    "\n",
    "- Clean le code\n",
    "- Les fonctions de calcul de LL et gradient (normalement c'est bon)"
   ]
  },
  {
   "cell_type": "code",
   "execution_count": null,
   "metadata": {},
   "outputs": [],
   "source": []
  }
 ],
 "metadata": {
  "kernelspec": {
   "display_name": "Python 3",
   "language": "python",
   "name": "python3"
  },
  "language_info": {
   "codemirror_mode": {
    "name": "ipython",
    "version": 3
   },
   "file_extension": ".py",
   "mimetype": "text/x-python",
   "name": "python",
   "nbconvert_exporter": "python",
   "pygments_lexer": "ipython3",
   "version": "3.8.5"
  }
 },
 "nbformat": 4,
 "nbformat_minor": 4
}
