{
 "cells": [
  {
   "cell_type": "markdown",
   "metadata": {},
   "source": [
    "# Importing the packages and data"
   ]
  },
  {
   "cell_type": "code",
   "execution_count": 1,
   "metadata": {},
   "outputs": [],
   "source": [
    "%load_ext autoreload\n",
    "%autoreload 2"
   ]
  },
  {
   "cell_type": "code",
   "execution_count": 2,
   "metadata": {},
   "outputs": [],
   "source": [
    "import numpy as np\n",
    "import pandas as pd\n",
    "import matplotlib.pyplot as plt\n",
    "from mpl_toolkits import mplot3d\n",
    "import scipy\n",
    "from sklearn.metrics import r2_score\n",
    "from sklearn.metrics import mean_squared_error\n",
    "from scipy.special import gamma, digamma, polygamma\n",
    "import math\n",
    "\n",
    "from sklearn.neighbors import NearestNeighbors\n",
    "from sklearn.model_selection import train_test_split\n",
    "from sklearn.model_selection import KFold\n",
    "import random\n",
    "\n",
    "import scipy.optimize\n",
    "from scipy.stats import ttest_ind\n",
    "from scipy.optimize import Bounds\n",
    "from sklearn.preprocessing import StandardScaler\n",
    "\n",
    "from prettytable import PrettyTable"
   ]
  },
  {
   "cell_type": "code",
   "execution_count": 3,
   "metadata": {},
   "outputs": [],
   "source": [
    "import multiprocessing"
   ]
  },
  {
   "cell_type": "code",
   "execution_count": 4,
   "metadata": {},
   "outputs": [
    {
     "data": {
      "text/plain": [
       "8"
      ]
     },
     "execution_count": 4,
     "metadata": {},
     "output_type": "execute_result"
    }
   ],
   "source": [
    "multiprocessing.cpu_count()"
   ]
  },
  {
   "cell_type": "code",
   "execution_count": 5,
   "metadata": {},
   "outputs": [],
   "source": [
    "import sys\n",
    "sys.path.append(\"../smote_cd/\")\n",
    "from smote_cd.dataset_generation import softmax"
   ]
  },
  {
   "cell_type": "code",
   "execution_count": 6,
   "metadata": {},
   "outputs": [],
   "source": [
    "import dirichlet_regression"
   ]
  },
  {
   "cell_type": "code",
   "execution_count": 7,
   "metadata": {},
   "outputs": [],
   "source": [
    "from scipy.optimize import fmin, newton, minimize"
   ]
  },
  {
   "cell_type": "code",
   "execution_count": 30,
   "metadata": {},
   "outputs": [],
   "source": [
    "def f_spatial(x, X, Y, Z, W, epsilon=0):\n",
    "    K = X.shape[-1]\n",
    "    J = Y.shape[-1]\n",
    "    n = X.shape[0]\n",
    "    beta = x[:K*J].reshape((K,J))\n",
    "    beta[:,0] = 0\n",
    "    gamma_var = x[K*J:-1]\n",
    "    rho = x[-1]\n",
    "    M = np.identity(n) - rho*W\n",
    "    mu = dirichlet_regression.compute_mu_spatial_opti(X, beta, M)\n",
    "    phi = np.exp(np.matmul(Z,gamma_var))\n",
    "    return -dirichlet_regression.dirichlet_loglikelihood(mu,phi,Y,epsilon=epsilon)"
   ]
  },
  {
   "cell_type": "code",
   "execution_count": 39,
   "metadata": {},
   "outputs": [],
   "source": [
    "def fprime_spatial(x, X, Y, Z, W, epsilon=0):\n",
    "    K = X.shape[-1]\n",
    "    J = Y.shape[-1]\n",
    "    n = X.shape[0]\n",
    "    beta = x[:K*J].reshape((K,J))\n",
    "    beta[:,0] = 0\n",
    "    gamma_var = x[K*J:-1]\n",
    "    rho = x[-1]\n",
    "    M = np.identity(n) - rho*W\n",
    "    MinvX = np.linalg.solve(M,X)\n",
    "    MinvXbeta = np.matmul(MinvX,beta)\n",
    "    \n",
    "    mu = dirichlet_regression.compute_mu_spatial_opti(X, beta, M, MXbeta=MinvXbeta)\n",
    "    phi = np.exp(np.matmul(Z,gamma_var))\n",
    "\n",
    "    beta_grad = dirichlet_regression.dirichlet_gradient_wrt_beta(mu, phi, MinvX, Y, epsilon=epsilon)\n",
    "    beta_grad[:,0] = 0\n",
    "    gamma_grad = dirichlet_regression.dirichlet_derivative_wrt_gamma(mu, phi, Y, Z, epsilon=epsilon)\n",
    "    rho_derivative = dirichlet_regression.dirichlet_derivative_wrt_rho(mu, phi, beta, M, W, X, Y, Z, MinvXbeta=MinvXbeta, epsilon=epsilon)\n",
    "    return(-np.concatenate([beta_grad.flatten(),gamma_grad,[rho_derivative]]))"
   ]
  },
  {
   "cell_type": "code",
   "execution_count": 9,
   "metadata": {},
   "outputs": [],
   "source": [
    "def f_no_spatial(x, X, Y, Z, epsilon=0):\n",
    "    K = X.shape[-1]\n",
    "    J = Y.shape[-1]\n",
    "    beta = x[:K*J].reshape((K,J))\n",
    "    beta[:,0] = 0\n",
    "    gamma_var = x[K*J:]\n",
    "    mu = dirichlet_regression.compute_mu_3(X, beta)\n",
    "    phi = np.exp(np.matmul(Z,gamma_var))\n",
    "    return -dirichlet_regression.dirichlet_loglikelihood(mu,phi,Y,epsilon=epsilon)"
   ]
  },
  {
   "cell_type": "code",
   "execution_count": 10,
   "metadata": {},
   "outputs": [],
   "source": [
    "def fprime_no_spatial(x, X, Y, Z, epsilon=0):\n",
    "    K = X.shape[-1]\n",
    "    J = Y.shape[-1]\n",
    "    beta = x[:K*J].reshape((K,J))\n",
    "    beta[:,0] = 0\n",
    "    gamma_var = x[K*J:]\n",
    "    mu = dirichlet_regression.compute_mu_3(X, beta)\n",
    "    phi = np.exp(np.matmul(Z,gamma_var))\n",
    "    beta_grad = dirichlet_regression.dirichlet_gradient_wrt_beta(mu, phi, X, Y, epsilon=epsilon)\n",
    "    beta_grad[:,0] = 0\n",
    "    gamma_grad = dirichlet_regression.dirichlet_derivative_wrt_gamma(mu, phi, beta, X, Y, Z, epsilon=epsilon)\n",
    "    return(-np.concatenate([beta_grad.flatten(),gamma_grad]))"
   ]
  },
  {
   "cell_type": "code",
   "execution_count": 77,
   "metadata": {},
   "outputs": [
    {
     "data": {
      "text/plain": [
       "'1.4.1'"
      ]
     },
     "execution_count": 77,
     "metadata": {},
     "output_type": "execute_result"
    }
   ],
   "source": [
    "# sur mon ordi perso:\n",
    "scipy.__version__"
   ]
  },
  {
   "cell_type": "markdown",
   "metadata": {},
   "source": [
    "# Loading Dataset"
   ]
  },
  {
   "cell_type": "code",
   "execution_count": 11,
   "metadata": {},
   "outputs": [],
   "source": [
    "Y_occitanie = pd.read_csv('Data Dirichlet/occitanie/Y_occitanie.csv', sep=';')"
   ]
  },
  {
   "cell_type": "code",
   "execution_count": 12,
   "metadata": {},
   "outputs": [],
   "source": [
    "X_occitanie = pd.read_csv('Data Dirichlet/occitanie/X_occitanie.csv', sep=';')"
   ]
  },
  {
   "cell_type": "code",
   "execution_count": 13,
   "metadata": {},
   "outputs": [],
   "source": [
    "X_occitanie = X_occitanie.iloc[:,1:]"
   ]
  },
  {
   "cell_type": "code",
   "execution_count": 14,
   "metadata": {},
   "outputs": [],
   "source": [
    "X_occitanie = X_occitanie.iloc[:,:-1]"
   ]
  },
  {
   "cell_type": "code",
   "execution_count": 15,
   "metadata": {},
   "outputs": [],
   "source": [
    "W_occitanie = pd.read_csv('Data Dirichlet/occitanie/W_elections_5nn.csv', sep=' ', header=None)"
   ]
  },
  {
   "cell_type": "code",
   "execution_count": 16,
   "metadata": {},
   "outputs": [],
   "source": [
    "W_occitanie_10 = pd.read_csv('Data Dirichlet/occitanie/W_elections_10nn.csv', sep=' ', header=None)"
   ]
  },
  {
   "cell_type": "markdown",
   "metadata": {},
   "source": [
    "### With an intercept"
   ]
  },
  {
   "cell_type": "code",
   "execution_count": 17,
   "metadata": {},
   "outputs": [],
   "source": [
    "X = np.array(X_occitanie,dtype='float')\n",
    "Y = np.array(Y_occitanie)\n",
    "Z = np.ones(np.shape(X))\n",
    "W = np.array(W_occitanie)"
   ]
  },
  {
   "cell_type": "code",
   "execution_count": 18,
   "metadata": {},
   "outputs": [],
   "source": [
    "W_10 = np.array(W_occitanie_10)"
   ]
  },
  {
   "cell_type": "code",
   "execution_count": 19,
   "metadata": {},
   "outputs": [],
   "source": [
    "n_classes = 3\n",
    "n_samples = X.shape[0]\n",
    "n_features = X.shape[1]"
   ]
  },
  {
   "cell_type": "code",
   "execution_count": 20,
   "metadata": {},
   "outputs": [
    {
     "name": "stdout",
     "output_type": "stream",
     "text": [
      "25 207\n"
     ]
    }
   ],
   "source": [
    "print(n_features, n_samples)"
   ]
  },
  {
   "cell_type": "code",
   "execution_count": 21,
   "metadata": {},
   "outputs": [],
   "source": [
    "#X = StandardScaler().fit(X).transform(X)\n",
    "\n",
    "for j in range(n_features):\n",
    "    X[:,j] = X[:,j]/np.max(X[:,j])"
   ]
  },
  {
   "cell_type": "code",
   "execution_count": 22,
   "metadata": {},
   "outputs": [],
   "source": [
    "X_1 = np.ones((n_samples,n_features+1))\n",
    "X_1[:,1:] = X"
   ]
  },
  {
   "cell_type": "code",
   "execution_count": 23,
   "metadata": {},
   "outputs": [],
   "source": [
    "beta0 = np.zeros((n_features+1,n_classes))\n",
    "gamma0 = np.zeros(n_features)\n",
    "rho0 = 0.\n",
    "params0_no_spatial = np.concatenate([beta0.flatten(),gamma0])\n",
    "params0 = np.concatenate([beta0.flatten(),gamma0,[rho0]])"
   ]
  },
  {
   "cell_type": "code",
   "execution_count": 24,
   "metadata": {},
   "outputs": [
    {
     "name": "stdout",
     "output_type": "stream",
     "text": [
      "Wall time: 1.45 s\n"
     ]
    }
   ],
   "source": [
    "%%time\n",
    "solution_ns = minimize(f_no_spatial, params0_no_spatial, args=(X_1, Y, Z), jac=fprime_no_spatial)"
   ]
  },
  {
   "cell_type": "code",
   "execution_count": 25,
   "metadata": {},
   "outputs": [],
   "source": [
    "beta_1_ns = solution_ns.x[:(n_features+1)*n_classes].reshape((n_features+1,n_classes))\n",
    "\n",
    "mu_1_ns = dirichlet_regression.compute_mu_3(X_1, beta_1_ns)\n",
    "\n",
    "gamma_var_1_ns = solution_ns.x[(n_features+1)*n_classes:]\n",
    "phi_1_ns = np.exp(np.matmul(Z,gamma_var_1_ns))"
   ]
  },
  {
   "cell_type": "code",
   "execution_count": 26,
   "metadata": {},
   "outputs": [],
   "source": [
    "ll_1_ns = dirichlet_regression.dirichlet_loglikelihood(mu_1_ns,phi_1_ns,Y)"
   ]
  },
  {
   "cell_type": "code",
   "execution_count": 27,
   "metadata": {},
   "outputs": [
    {
     "name": "stdout",
     "output_type": "stream",
     "text": [
      "RESULTS WITHOUT SPATIAL\n",
      "RMSE: 0.07963955132743465\n",
      "R2: 0.48722499041497613\n",
      "Cross-entropy: 1.9323671339920016e-10\n",
      "Cosine similarity: 0.9747790819450894\n",
      "AIC: -762.1476284390359\n"
     ]
    }
   ],
   "source": [
    "print('RESULTS WITHOUT SPATIAL')\n",
    "print('RMSE:', mean_squared_error(Y,mu_1_ns,squared=False))\n",
    "print('R2:', r2_score(Y,mu_1_ns))\n",
    "print('Cross-entropy:', 1/n_samples * np.sum(Y-mu_1_ns))\n",
    "print('Cosine similarity:',np.mean([np.dot(Y[i],mu_1_ns[i])/(np.linalg.norm(Y[i])*np.linalg.norm(mu_1_ns[i])) for i in range(len(Y))]))\n",
    "print('AIC:', 2*len(solution_ns.x) - 2*ll_1_ns)"
   ]
  },
  {
   "cell_type": "code",
   "execution_count": 28,
   "metadata": {},
   "outputs": [],
   "source": [
    "min_bounds_1 = -np.inf*np.ones(len(params0)) \n",
    "max_bounds_1 = np.inf*np.ones(len(params0))\n",
    "min_bounds_1[-1] = -1\n",
    "max_bounds_1[-1] = 1\n",
    "bounds_1 = Bounds(min_bounds_1, max_bounds_1)"
   ]
  },
  {
   "cell_type": "code",
   "execution_count": 35,
   "metadata": {},
   "outputs": [
    {
     "name": "stdout",
     "output_type": "stream",
     "text": [
      "Wall time: 3min\n"
     ]
    }
   ],
   "source": [
    "%%time\n",
    "solution_s = minimize(f_spatial, params0, args=(X_1, Y, Z, W), jac=fprime_spatial, bounds=bounds_1)"
   ]
  },
  {
   "cell_type": "code",
   "execution_count": 48,
   "metadata": {},
   "outputs": [
    {
     "name": "stdout",
     "output_type": "stream",
     "text": [
      "Wall time: 1min\n"
     ]
    }
   ],
   "source": [
    "%%time\n",
    "solution_s = minimize(f_spatial, params0, args=(X_1, Y, Z, W), bounds=bounds_1)"
   ]
  },
  {
   "cell_type": "code",
   "execution_count": 47,
   "metadata": {},
   "outputs": [
    {
     "name": "stdout",
     "output_type": "stream",
     "text": [
      "Wall time: 2min 54s\n"
     ]
    }
   ],
   "source": [
    "%%time\n",
    "solution_s = minimize(f_spatial, params0, args=(X_1, Y, Z, W), jac=fprime_spatial, bounds=bounds_1)"
   ]
  },
  {
   "cell_type": "code",
   "execution_count": null,
   "metadata": {},
   "outputs": [],
   "source": []
  },
  {
   "cell_type": "code",
   "execution_count": 40,
   "metadata": {},
   "outputs": [],
   "source": [
    "beta_1_s = solution_s.x[:(n_features+1)*n_classes].reshape((n_features+1,n_classes))\n",
    "rho_1_s = solution_s.x[-1]\n",
    "\n",
    "mu_1_s = dirichlet_regression.compute_mu_spatial_3(X_1, beta_1_s, rho_1_s, W)\n",
    "\n",
    "gamma_var_1_s = solution_s.x[(n_features+1)*n_classes:-1]\n",
    "phi_1_s = np.exp(np.matmul(Z,gamma_var_1_s))"
   ]
  },
  {
   "cell_type": "code",
   "execution_count": 41,
   "metadata": {},
   "outputs": [],
   "source": [
    "ll_1_s = dirichlet_regression.dirichlet_loglikelihood(mu_1_s,phi_1_s,Y)"
   ]
  },
  {
   "cell_type": "code",
   "execution_count": 42,
   "metadata": {},
   "outputs": [
    {
     "name": "stdout",
     "output_type": "stream",
     "text": [
      "RESULTS WITH SPATIAL (5 neighbors)\n",
      "RMSE: 0.07610701708508315\n",
      "R2: 0.533095793501082\n",
      "Cross-entropy: 1.9323671339920016e-10\n",
      "Cosine similarity: 0.9772008823390392\n",
      "AIC: -797.5077244063186\n"
     ]
    }
   ],
   "source": [
    "print('RESULTS WITH SPATIAL (5 neighbors)')\n",
    "print('RMSE:', mean_squared_error(Y,mu_1_s,squared=False))\n",
    "print('R2:', r2_score(Y,mu_1_s))\n",
    "print('Cross-entropy:', 1/n_samples * np.sum(Y-mu_1_s))\n",
    "print('Cosine similarity:',np.mean([np.dot(Y[i],mu_1_s[i])/(np.linalg.norm(Y[i])*np.linalg.norm(mu_1_s[i])) for i in range(len(Y))]))\n",
    "print('AIC:', 2*len(solution_s.x) - 2*ll_1_s)"
   ]
  },
  {
   "cell_type": "code",
   "execution_count": 34,
   "metadata": {},
   "outputs": [
    {
     "name": "stdout",
     "output_type": "stream",
     "text": [
      "RESULTS WITH SPATIAL (5 neighbors)\n",
      "RMSE: 0.07198101955891562\n",
      "R2: 0.5822336711415361\n",
      "Cross-entropy: 1.9323671460596431e-10\n",
      "Cosine similarity: 0.9794439715584995\n",
      "AIC: -847.2044390150529\n"
     ]
    }
   ],
   "source": [
    "print('RESULTS WITH SPATIAL (5 neighbors)')\n",
    "print('RMSE:', mean_squared_error(Y,mu_1_s,squared=False))\n",
    "print('R2:', r2_score(Y,mu_1_s))\n",
    "print('Cross-entropy:', 1/n_samples * np.sum(Y-mu_1_s))\n",
    "print('Cosine similarity:',np.mean([np.dot(Y[i],mu_1_s[i])/(np.linalg.norm(Y[i])*np.linalg.norm(mu_1_s[i])) for i in range(len(Y))]))\n",
    "print('AIC:', 2*len(solution_s.x) - 2*ll_1_s)"
   ]
  },
  {
   "cell_type": "code",
   "execution_count": 37,
   "metadata": {},
   "outputs": [
    {
     "name": "stdout",
     "output_type": "stream",
     "text": [
      "Wall time: 6min 10s\n"
     ]
    }
   ],
   "source": [
    "%%time\n",
    "solution_s = minimize(f_spatial, params0, args=(X_1, Y, Z, W_10), jac=fprime_spatial, bounds=bounds_1)"
   ]
  },
  {
   "cell_type": "code",
   "execution_count": 38,
   "metadata": {},
   "outputs": [],
   "source": [
    "beta_1_s = solution_s.x[:(n_features+1)*n_classes].reshape((n_features+1,n_classes))\n",
    "rho_1_s = solution_s.x[-1]\n",
    "\n",
    "mu_1_s = dirichlet_regression.compute_mu_spatial_3(X_1, beta_1_s, rho_1_s, W)\n",
    "\n",
    "gamma_var_1_s = solution_s.x[(n_features+1)*n_classes:-1]\n",
    "phi_1_s = np.exp(np.matmul(Z,gamma_var_1_s))"
   ]
  },
  {
   "cell_type": "code",
   "execution_count": 39,
   "metadata": {},
   "outputs": [],
   "source": [
    "ll_1_s = dirichlet_regression.dirichlet_loglikelihood(mu_1_s,phi_1_s,Y)"
   ]
  },
  {
   "cell_type": "code",
   "execution_count": 40,
   "metadata": {},
   "outputs": [
    {
     "name": "stdout",
     "output_type": "stream",
     "text": [
      "RESULTS WITH SPATIAL (10 neighbors)\n",
      "RMSE: 0.38039410240104976\n",
      "R2: -11.323732095950902\n",
      "Cosine similarity: 0.709724168953594\n",
      "AIC: 17436.196067301942\n"
     ]
    }
   ],
   "source": [
    "print('RESULTS WITH SPATIAL (10 neighbors)')\n",
    "print('RMSE:', mean_squared_error(Y,mu_1_s,squared=False))\n",
    "print('R2:', r2_score(Y,mu_1_s))\n",
    "print('Cosine similarity:',np.mean([np.dot(Y[i],mu_1_s[i])/(np.linalg.norm(Y[i])*np.linalg.norm(mu_1_s[i])) for i in range(len(Y))]))\n",
    "print('AIC:', 2*len(solution_s.x) - 2*ll_1_s)"
   ]
  },
  {
   "cell_type": "code",
   "execution_count": null,
   "metadata": {},
   "outputs": [],
   "source": []
  },
  {
   "cell_type": "code",
   "execution_count": null,
   "metadata": {},
   "outputs": [],
   "source": []
  },
  {
   "cell_type": "code",
   "execution_count": 114,
   "metadata": {},
   "outputs": [
    {
     "name": "stdout",
     "output_type": "stream",
     "text": [
      "Wall time: 2min 2s\n"
     ]
    }
   ],
   "source": [
    "%%time\n",
    "solution_s_10 = minimize(f_spatial, params0, args=(X_1, Y, Z, W_10), jac=fprime_spatial, bounds=bounds_1)"
   ]
  },
  {
   "cell_type": "code",
   "execution_count": 117,
   "metadata": {},
   "outputs": [],
   "source": [
    "beta_1_s_10 = solution_s_10.x[:(n_features+1)*n_classes].reshape((n_features+1,n_classes))\n",
    "rho_1_s_10 = solution_s_10.x[-1]\n",
    "\n",
    "mu_1_s_10 = dirichlet_regression.compute_mu_spatial_3(X_1, beta_1_s_10, rho_1_s_10, W)\n",
    "\n",
    "gamma_var_1_s_10 = solution_s_10.x[(n_features+1)*n_classes:-1]\n",
    "phi_1_s_10 = np.exp(np.matmul(Z,gamma_var_1_s_10))"
   ]
  },
  {
   "cell_type": "code",
   "execution_count": 118,
   "metadata": {},
   "outputs": [],
   "source": [
    "ll_1_s_10 = dirichlet_regression.dirichlet_loglikelihood(mu_1_s_10,phi_1_s_10,Y)"
   ]
  },
  {
   "cell_type": "code",
   "execution_count": 121,
   "metadata": {},
   "outputs": [
    {
     "name": "stdout",
     "output_type": "stream",
     "text": [
      "RESULTS WITH SPATIAL (10 neighbors)\n",
      "RMSE: 0.18665124330929364\n",
      "R2: -2.0323614700845245\n",
      "Cosine similarity: 0.9054171827061012\n",
      "AIC: 1763.0818001165512\n"
     ]
    }
   ],
   "source": [
    "print('RESULTS WITH SPATIAL (10 neighbors)')\n",
    "print('RMSE:', mean_squared_error(Y,mu_1_s_10,squared=False))\n",
    "print('R2:', r2_score(Y,mu_1_s_10))\n",
    "print('Cosine similarity:',np.mean([np.dot(Y[i],mu_1_s_10[i])/(np.linalg.norm(Y[i])*np.linalg.norm(mu_1_s_10[i])) for i in range(len(Y))]))\n",
    "print('AIC:', 2*len(solution_s_10.x) - 2*ll_1_s_10)"
   ]
  },
  {
   "cell_type": "code",
   "execution_count": null,
   "metadata": {},
   "outputs": [],
   "source": []
  },
  {
   "cell_type": "code",
   "execution_count": null,
   "metadata": {},
   "outputs": [],
   "source": []
  },
  {
   "cell_type": "markdown",
   "metadata": {},
   "source": [
    "# Tests with CV"
   ]
  },
  {
   "cell_type": "code",
   "execution_count": 54,
   "metadata": {},
   "outputs": [],
   "source": [
    "import dirichlet_perf_eval"
   ]
  },
  {
   "cell_type": "code",
   "execution_count": 160,
   "metadata": {},
   "outputs": [
    {
     "name": "stderr",
     "output_type": "stream",
     "text": [
      "C:\\Users\\tnguyen001\\Documents\\GitHub\\maupiti\\dirichlet_regression.py:76: RuntimeWarning: overflow encountered in exp\n",
      "  exp_MXbeta = np.exp(MXbeta)\n"
     ]
    },
    {
     "name": "stdout",
     "output_type": "stream",
     "text": [
      "Wall time: 8min 15s\n"
     ]
    }
   ],
   "source": [
    "%%time\n",
    "results_temp = dirichlet_perf_eval.eval_perf_maupiti(0, X_1, Y, Z, W, k_folds=4)"
   ]
  },
  {
   "cell_type": "code",
   "execution_count": 162,
   "metadata": {},
   "outputs": [
    {
     "name": "stdout",
     "output_type": "stream",
     "text": [
      "0\n"
     ]
    },
    {
     "name": "stderr",
     "output_type": "stream",
     "text": [
      "C:\\Users\\tnguyen001\\Documents\\GitHub\\maupiti\\dirichlet_regression.py:76: RuntimeWarning: overflow encountered in exp\n",
      "  exp_MXbeta = np.exp(MXbeta)\n"
     ]
    },
    {
     "name": "stdout",
     "output_type": "stream",
     "text": [
      "Wall time: 7min 45s\n"
     ]
    }
   ],
   "source": [
    "%%time\n",
    "results_temp = dirichlet_perf_eval.eval_perf_maupiti(0, X_1, Y, Z, W, k_folds=4)"
   ]
  },
  {
   "cell_type": "code",
   "execution_count": 163,
   "metadata": {},
   "outputs": [],
   "source": [
    "r2_ns, r2_s, rmse_ns, rmse_s, aic_ns, aic_s, crossentropy_ns, crossentropy_s, r2_test_ns, r2_test_s, rmse_test_ns, rmse_test_s, aic_test_ns, aic_test_s, crossentropy_test_ns, crossentropy_test_s = results_temp"
   ]
  },
  {
   "cell_type": "code",
   "execution_count": 164,
   "metadata": {},
   "outputs": [
    {
     "name": "stdout",
     "output_type": "stream",
     "text": [
      "+---------------------------------------------------------------------------------------+\n",
      "|                             ELECTIONS RESULTS ON TEST SET                             |\n",
      "+------------+---------------+--------------+---------------------+---------------------+\n",
      "|   MODEL    |     $R^2$     |     RMSE     |    Cross-entropy    |         AIC         |\n",
      "+------------+---------------+--------------+---------------------+---------------------+\n",
      "| NO SPATIAL | 0.209 (0.156) | 0.095 (0.01) |    54.948 (0.801)   |   13.953 (35.728)   |\n",
      "|  SPATIAL   | -2.19 (2.751) | 0.18 (0.093) | 4248.022 (7257.795) | 19620.4 (33640.383) |\n",
      "+------------+---------------+--------------+---------------------+---------------------+\n"
     ]
    }
   ],
   "source": [
    "columns_names = ['MODEL','$R^2$','RMSE','Cross-entropy','AIC']\n",
    "pt = PrettyTable(columns_names)\n",
    "pt.title = 'ELECTIONS RESULTS ON TEST SET'\n",
    "\n",
    "pt.add_row(['NO SPATIAL', \n",
    "            str(np.round(np.mean(r2_test_ns),3))+' ('+ str(np.round(np.std(r2_test_ns),3)) +')',\n",
    "            str(np.round(np.mean(rmse_test_ns),3))+' ('+ str(np.round(np.std(rmse_test_ns),3)) +')',\n",
    "            str(np.round(-np.mean(crossentropy_test_ns),3))+' ('+ str(np.round(np.std(crossentropy_test_ns),3)) +')',\n",
    "            str(np.round(np.mean(aic_test_ns),3))+' ('+ str(np.round(np.std(aic_test_ns),3)) +')'])\n",
    "pt.add_row(['SPATIAL', \n",
    "            str(np.round(np.mean(r2_test_s),3))+' ('+ str(np.round(np.std(r2_test_s),3)) +')',\n",
    "            str(np.round(np.mean(rmse_test_s),3))+' ('+ str(np.round(np.std(rmse_test_s),3)) +')',\n",
    "            str(np.round(-np.mean(crossentropy_test_s),3))+' ('+ str(np.round(np.std(crossentropy_test_s),3)) +')',\n",
    "            str(np.round(np.mean(aic_test_s),3))+' ('+ str(np.round(np.std(aic_test_s),3)) +')'])\n",
    "\n",
    "print(pt)"
   ]
  },
  {
   "cell_type": "code",
   "execution_count": null,
   "metadata": {},
   "outputs": [],
   "source": []
  },
  {
   "cell_type": "code",
   "execution_count": 53,
   "metadata": {},
   "outputs": [],
   "source": [
    "from multiprocessing import Pool\n",
    "from functools import partial"
   ]
  },
  {
   "cell_type": "code",
   "execution_count": 55,
   "metadata": {},
   "outputs": [
    {
     "name": "stdout",
     "output_type": "stream",
     "text": [
      "Wall time: 27min 24s\n"
     ]
    }
   ],
   "source": [
    "%%time\n",
    "list_iter = np.arange(0,10)\n",
    "with Pool(6) as pool:\n",
    "    all_res_parallel = pool.map(partial(dirichlet_perf_eval.eval_perf, X=X_1, Y=Y, Z=Z, W=W, k_folds=4), list_iter)"
   ]
  },
  {
   "cell_type": "code",
   "execution_count": 56,
   "metadata": {},
   "outputs": [],
   "source": [
    "np.save('Data Dirichlet/res_elections.npy',all_res_parallel)"
   ]
  },
  {
   "cell_type": "code",
   "execution_count": 57,
   "metadata": {},
   "outputs": [],
   "source": [
    "list_r2_ns, list_r2_s, list_rmse_ns, list_rmse_s, list_aic_ns, list_aic_s, list_crossentropy_ns, list_crossentropy_s, list_similarity_ns, list_similarity_s = [],[],[],[],[],[],[],[],[],[]\n",
    "list_r2_test_ns, list_r2_test_s, list_rmse_test_ns, list_rmse_test_s, list_aic_test_ns, list_aic_test_s, list_crossentropy_test_ns, list_crossentropy_test_s, list_similarity_test_ns, list_similarity_test_s = [],[],[],[],[],[],[],[],[],[]"
   ]
  },
  {
   "cell_type": "code",
   "execution_count": 58,
   "metadata": {},
   "outputs": [],
   "source": [
    "for res in all_res_parallel:\n",
    "    r2_ns, r2_s, rmse_ns, rmse_s, aic_ns, aic_s, crossentropy_ns, crossentropy_s, similarity_ns, similarity_s, r2_test_ns, r2_test_s, rmse_test_ns, rmse_test_s, aic_test_ns, aic_test_s, crossentropy_test_ns, crossentropy_test_s, similarity_test_ns, similarity_test_s, = res\n",
    "    list_r2_ns.append(r2_ns)\n",
    "    list_r2_s.append(r2_s)\n",
    "    list_rmse_ns.append(rmse_ns)\n",
    "    list_rmse_s.append(rmse_s)\n",
    "    list_aic_ns.append(aic_ns) \n",
    "    list_aic_s.append(aic_s) \n",
    "    list_crossentropy_ns.append(crossentropy_ns) \n",
    "    list_crossentropy_s.append(crossentropy_s)\n",
    "    list_similarity_ns.append(similarity_ns) \n",
    "    list_similarity_s.append(similarity_s)\n",
    "    list_r2_test_ns.append(r2_test_ns)\n",
    "    list_r2_test_s.append(r2_test_s)\n",
    "    list_rmse_test_ns.append(rmse_test_ns)\n",
    "    list_rmse_test_s.append(rmse_test_s)\n",
    "    list_aic_test_ns.append(aic_test_ns) \n",
    "    list_aic_test_s.append(aic_test_s) \n",
    "    list_crossentropy_test_ns.append(crossentropy_test_ns) \n",
    "    list_crossentropy_test_s.append(crossentropy_test_s)\n",
    "    list_similarity_test_ns.append(similarity_test_ns) \n",
    "    list_similarity_test_s.append(similarity_test_s)"
   ]
  },
  {
   "cell_type": "code",
   "execution_count": 66,
   "metadata": {},
   "outputs": [
    {
     "name": "stdout",
     "output_type": "stream",
     "text": [
      "+------------------------------------------------------------------------------------------------------------+\n",
      "|                       ELECTIONS RESULTS ON WHOLE DATASET (4-fold CV, 10 iterations)                        |\n",
      "+------------+----------------+---------------+----------------------+---------------+-----------------------+\n",
      "|   MODEL    |     $R^2$      |      RMSE     |    Cross-entropy     |   Similarity  |          AIC          |\n",
      "+------------+----------------+---------------+----------------------+---------------+-----------------------+\n",
      "| NO SPATIAL |  0.457 (0.01)  | 0.082 (0.001) |    217.34 (0.117)    | 0.973 (0.001) |   -734.928 (11.936)   |\n",
      "|  SPATIAL   | -1.489 (3.103) | 0.151 (0.082) | 5369.113 (17475.466) | 0.915 (0.097) | 25128.774 (82567.658) |\n",
      "+------------+----------------+---------------+----------------------+---------------+-----------------------+\n"
     ]
    }
   ],
   "source": [
    "columns_names = ['MODEL','$R^2$','RMSE','Cross-entropy','Similarity','AIC']\n",
    "pt = PrettyTable(columns_names)\n",
    "pt.title = 'ELECTIONS RESULTS ON WHOLE DATASET (4-fold CV, 10 iterations)'\n",
    "\n",
    "pt.add_row(['NO SPATIAL', \n",
    "            str(np.round(np.mean(list_r2_ns),3))+' ('+ str(np.round(np.std(list_r2_ns),3)) +')',\n",
    "            str(np.round(np.mean(list_rmse_ns),3))+' ('+ str(np.round(np.std(list_rmse_ns),3)) +')',\n",
    "            str(np.round(-np.mean(list_crossentropy_ns),3))+' ('+ str(np.round(np.std(list_crossentropy_ns),3)) +')',\n",
    "            str(np.round(np.mean(list_similarity_ns),3))+' ('+ str(np.round(np.std(list_similarity_ns),3)) +')',\n",
    "            str(np.round(np.mean(list_aic_ns),3))+' ('+ str(np.round(np.std(list_aic_ns),3)) +')'])\n",
    "pt.add_row(['SPATIAL', \n",
    "            str(np.round(np.mean(list_r2_s),3))+' ('+ str(np.round(np.std(list_r2_s),3)) +')',\n",
    "            str(np.round(np.mean(list_rmse_s),3))+' ('+ str(np.round(np.std(list_rmse_s),3)) +')',\n",
    "            str(np.round(-np.mean(list_crossentropy_s),3))+' ('+ str(np.round(np.std(list_crossentropy_s),3)) +')',\n",
    "            str(np.round(np.mean(list_similarity_s),3))+' ('+ str(np.round(np.std(list_similarity_s),3)) +')',\n",
    "            str(np.round(np.mean(list_aic_s),3))+' ('+ str(np.round(np.std(list_aic_s),3)) +')'])\n",
    "\n",
    "print(pt)"
   ]
  },
  {
   "cell_type": "code",
   "execution_count": 65,
   "metadata": {},
   "outputs": [
    {
     "name": "stdout",
     "output_type": "stream",
     "text": [
      "+---------------------------------------------------------------------------------------------------------+\n",
      "|                         ELECTIONS RESULTS ON TEST SET (4-fold CV, 10 iterations)                        |\n",
      "+------------+---------------+---------------+---------------------+---------------+----------------------+\n",
      "|   MODEL    |     $R^2$     |      RMSE     |    Cross-entropy    |   Similarity  |         AIC          |\n",
      "+------------+---------------+---------------+---------------------+---------------+----------------------+\n",
      "| NO SPATIAL | 0.269 (0.104) | 0.093 (0.007) |    54.833 (0.625)   | 0.965 (0.005) |    5.987 (29.994)    |\n",
      "|  SPATIAL   | -1.88 (3.125) | 0.162 (0.078) | 1361.049 (4418.112) | 0.905 (0.096) | 6466.386 (20362.257) |\n",
      "+------------+---------------+---------------+---------------------+---------------+----------------------+\n"
     ]
    }
   ],
   "source": [
    "columns_names = ['MODEL','$R^2$','RMSE','Cross-entropy','Similarity','AIC']\n",
    "pt = PrettyTable(columns_names)\n",
    "pt.title = 'ELECTIONS RESULTS ON TEST SET (4-fold CV, 10 iterations)'\n",
    "\n",
    "pt.add_row(['NO SPATIAL', \n",
    "            str(np.round(np.mean(list_r2_test_ns),3))+' ('+ str(np.round(np.std(list_r2_test_ns),3)) +')',\n",
    "            str(np.round(np.mean(list_rmse_test_ns),3))+' ('+ str(np.round(np.std(list_rmse_test_ns),3)) +')',\n",
    "            str(np.round(-np.mean(list_crossentropy_test_ns),3))+' ('+ str(np.round(np.std(list_crossentropy_test_ns),3)) +')',\n",
    "            str(np.round(np.mean(list_similarity_test_ns),3))+' ('+ str(np.round(np.std(list_similarity_test_ns),3)) +')',\n",
    "            str(np.round(np.mean(list_aic_test_ns),3))+' ('+ str(np.round(np.std(list_aic_test_ns),3)) +')'])\n",
    "pt.add_row(['SPATIAL', \n",
    "            str(np.round(np.mean(list_r2_test_s),3))+' ('+ str(np.round(np.std(list_r2_test_s),3)) +')',\n",
    "            str(np.round(np.mean(list_rmse_test_s),3))+' ('+ str(np.round(np.std(list_rmse_test_s),3)) +')',\n",
    "            str(np.round(-np.mean(list_crossentropy_test_s),3))+' ('+ str(np.round(np.std(list_crossentropy_test_s),3)) +')',\n",
    "            str(np.round(np.mean(list_similarity_test_s),3))+' ('+ str(np.round(np.std(list_similarity_test_s),3)) +')',\n",
    "            str(np.round(np.mean(list_aic_test_s),3))+' ('+ str(np.round(np.std(list_aic_test_s),3)) +')'])\n",
    "\n",
    "print(pt)"
   ]
  },
  {
   "cell_type": "code",
   "execution_count": null,
   "metadata": {},
   "outputs": [],
   "source": []
  },
  {
   "cell_type": "markdown",
   "metadata": {},
   "source": [
    "# 5-folds"
   ]
  },
  {
   "cell_type": "code",
   "execution_count": 67,
   "metadata": {},
   "outputs": [
    {
     "name": "stdout",
     "output_type": "stream",
     "text": [
      "Wall time: 1h 29min 6s\n"
     ]
    }
   ],
   "source": [
    "%%time\n",
    "list_iter = np.arange(0,10)\n",
    "with Pool(5) as pool:\n",
    "    all_res_parallel_10cv = pool.map(partial(dirichlet_perf_eval.eval_perf, X=X_1, Y=Y, Z=Z, W=W, k_folds=10), list_iter)"
   ]
  },
  {
   "cell_type": "code",
   "execution_count": 68,
   "metadata": {},
   "outputs": [],
   "source": [
    "np.save('Data Dirichlet/res_elections_10cv.npy',all_res_parallel_10cv)"
   ]
  },
  {
   "cell_type": "code",
   "execution_count": 69,
   "metadata": {},
   "outputs": [],
   "source": [
    "list_r2_ns, list_r2_s, list_rmse_ns, list_rmse_s, list_aic_ns, list_aic_s, list_crossentropy_ns, list_crossentropy_s, list_similarity_ns, list_similarity_s = [],[],[],[],[],[],[],[],[],[]\n",
    "list_r2_test_ns, list_r2_test_s, list_rmse_test_ns, list_rmse_test_s, list_aic_test_ns, list_aic_test_s, list_crossentropy_test_ns, list_crossentropy_test_s, list_similarity_test_ns, list_similarity_test_s = [],[],[],[],[],[],[],[],[],[]"
   ]
  },
  {
   "cell_type": "code",
   "execution_count": 70,
   "metadata": {},
   "outputs": [],
   "source": [
    "for res in all_res_parallel_10cv:\n",
    "    r2_ns, r2_s, rmse_ns, rmse_s, aic_ns, aic_s, crossentropy_ns, crossentropy_s, similarity_ns, similarity_s, r2_test_ns, r2_test_s, rmse_test_ns, rmse_test_s, aic_test_ns, aic_test_s, crossentropy_test_ns, crossentropy_test_s, similarity_test_ns, similarity_test_s, = res\n",
    "    list_r2_ns.append(r2_ns)\n",
    "    list_r2_s.append(r2_s)\n",
    "    list_rmse_ns.append(rmse_ns)\n",
    "    list_rmse_s.append(rmse_s)\n",
    "    list_aic_ns.append(aic_ns) \n",
    "    list_aic_s.append(aic_s) \n",
    "    list_crossentropy_ns.append(crossentropy_ns) \n",
    "    list_crossentropy_s.append(crossentropy_s)\n",
    "    list_similarity_ns.append(similarity_ns) \n",
    "    list_similarity_s.append(similarity_s)\n",
    "    list_r2_test_ns.append(r2_test_ns)\n",
    "    list_r2_test_s.append(r2_test_s)\n",
    "    list_rmse_test_ns.append(rmse_test_ns)\n",
    "    list_rmse_test_s.append(rmse_test_s)\n",
    "    list_aic_test_ns.append(aic_test_ns) \n",
    "    list_aic_test_s.append(aic_test_s) \n",
    "    list_crossentropy_test_ns.append(crossentropy_test_ns) \n",
    "    list_crossentropy_test_s.append(crossentropy_test_s)\n",
    "    list_similarity_test_ns.append(similarity_test_ns) \n",
    "    list_similarity_test_s.append(similarity_test_s)"
   ]
  },
  {
   "cell_type": "code",
   "execution_count": 71,
   "metadata": {},
   "outputs": [
    {
     "name": "stdout",
     "output_type": "stream",
     "text": [
      "+-----------------------------------------------------------------------------------------------------+\n",
      "|                    ELECTIONS RESULTS ON WHOLE DATASET (10-fold CV, 10 iterations)                   |\n",
      "+------------+----------------+--------------+---------------------+---------------+------------------+\n",
      "|   MODEL    |     $R^2$      |     RMSE     |    Cross-entropy    |   Similarity  |       AIC        |\n",
      "+------------+----------------+--------------+---------------------+---------------+------------------+\n",
      "| NO SPATIAL | 0.478 (0.004)  |  0.08 (0.0)  |   217.064 (0.051)   |  0.974 (0.0)  | -754.235 (4.424) |\n",
      "|  SPATIAL   | -0.248 (2.014) | 0.11 (0.054) | 1137.771 (6833.386) | 0.955 (0.053) |    inf (nan)     |\n",
      "+------------+----------------+--------------+---------------------+---------------+------------------+\n"
     ]
    },
    {
     "name": "stderr",
     "output_type": "stream",
     "text": [
      "C:\\Users\\46660461\\Anaconda3\\lib\\site-packages\\numpy\\core\\_methods.py:230: RuntimeWarning: invalid value encountered in subtract\n",
      "  x = asanyarray(arr - arrmean)\n"
     ]
    }
   ],
   "source": [
    "columns_names = ['MODEL','$R^2$','RMSE','Cross-entropy','Similarity','AIC']\n",
    "pt = PrettyTable(columns_names)\n",
    "pt.title = 'ELECTIONS RESULTS ON WHOLE DATASET (10-fold CV, 10 iterations)'\n",
    "\n",
    "pt.add_row(['NO SPATIAL', \n",
    "            str(np.round(np.mean(list_r2_ns),3))+' ('+ str(np.round(np.std(list_r2_ns),3)) +')',\n",
    "            str(np.round(np.mean(list_rmse_ns),3))+' ('+ str(np.round(np.std(list_rmse_ns),3)) +')',\n",
    "            str(np.round(-np.mean(list_crossentropy_ns),3))+' ('+ str(np.round(np.std(list_crossentropy_ns),3)) +')',\n",
    "            str(np.round(np.mean(list_similarity_ns),3))+' ('+ str(np.round(np.std(list_similarity_ns),3)) +')',\n",
    "            str(np.round(np.mean(list_aic_ns),3))+' ('+ str(np.round(np.std(list_aic_ns),3)) +')'])\n",
    "pt.add_row(['SPATIAL', \n",
    "            str(np.round(np.mean(list_r2_s),3))+' ('+ str(np.round(np.std(list_r2_s),3)) +')',\n",
    "            str(np.round(np.mean(list_rmse_s),3))+' ('+ str(np.round(np.std(list_rmse_s),3)) +')',\n",
    "            str(np.round(-np.mean(list_crossentropy_s),3))+' ('+ str(np.round(np.std(list_crossentropy_s),3)) +')',\n",
    "            str(np.round(np.mean(list_similarity_s),3))+' ('+ str(np.round(np.std(list_similarity_s),3)) +')',\n",
    "            str(np.round(np.mean(list_aic_s),3))+' ('+ str(np.round(np.std(list_aic_s),3)) +')'])\n",
    "\n",
    "print(pt)"
   ]
  },
  {
   "cell_type": "code",
   "execution_count": 72,
   "metadata": {},
   "outputs": [
    {
     "name": "stdout",
     "output_type": "stream",
     "text": [
      "+----------------------------------------------------------------------------------------------------+\n",
      "|                     ELECTIONS RESULTS ON TEST SET (10-fold CV, 10 iterations)                      |\n",
      "+------------+----------------+---------------+-------------------+---------------+------------------+\n",
      "|   MODEL    |     $R^2$      |      RMSE     |   Cross-entropy   |   Similarity  |       AIC        |\n",
      "+------------+----------------+---------------+-------------------+---------------+------------------+\n",
      "| NO SPATIAL | 0.245 (0.202)  |  0.09 (0.013) |   21.89 (0.553)   |  0.967 (0.01) | 122.807 (18.952) |\n",
      "|  SPATIAL   | -0.937 (2.149) | 0.129 (0.056) | 114.318 (675.173) | 0.941 (0.052) |    inf (nan)     |\n",
      "+------------+----------------+---------------+-------------------+---------------+------------------+\n"
     ]
    }
   ],
   "source": [
    "columns_names = ['MODEL','$R^2$','RMSE','Cross-entropy','Similarity','AIC']\n",
    "pt = PrettyTable(columns_names)\n",
    "pt.title = 'ELECTIONS RESULTS ON TEST SET (10-fold CV, 10 iterations)'\n",
    "\n",
    "pt.add_row(['NO SPATIAL', \n",
    "            str(np.round(np.mean(list_r2_test_ns),3))+' ('+ str(np.round(np.std(list_r2_test_ns),3)) +')',\n",
    "            str(np.round(np.mean(list_rmse_test_ns),3))+' ('+ str(np.round(np.std(list_rmse_test_ns),3)) +')',\n",
    "            str(np.round(-np.mean(list_crossentropy_test_ns),3))+' ('+ str(np.round(np.std(list_crossentropy_test_ns),3)) +')',\n",
    "            str(np.round(np.mean(list_similarity_test_ns),3))+' ('+ str(np.round(np.std(list_similarity_test_ns),3)) +')',\n",
    "            str(np.round(np.mean(list_aic_test_ns),3))+' ('+ str(np.round(np.std(list_aic_test_ns),3)) +')'])\n",
    "pt.add_row(['SPATIAL', \n",
    "            str(np.round(np.mean(list_r2_test_s),3))+' ('+ str(np.round(np.std(list_r2_test_s),3)) +')',\n",
    "            str(np.round(np.mean(list_rmse_test_s),3))+' ('+ str(np.round(np.std(list_rmse_test_s),3)) +')',\n",
    "            str(np.round(-np.mean(list_crossentropy_test_s),3))+' ('+ str(np.round(np.std(list_crossentropy_test_s),3)) +')',\n",
    "            str(np.round(np.mean(list_similarity_test_s),3))+' ('+ str(np.round(np.std(list_similarity_test_s),3)) +')',\n",
    "            str(np.round(np.mean(list_aic_test_s),3))+' ('+ str(np.round(np.std(list_aic_test_s),3)) +')'])\n",
    "\n",
    "print(pt)"
   ]
  },
  {
   "cell_type": "code",
   "execution_count": null,
   "metadata": {},
   "outputs": [],
   "source": []
  }
 ],
 "metadata": {
  "kernelspec": {
   "display_name": "Python 3",
   "language": "python",
   "name": "python3"
  },
  "language_info": {
   "codemirror_mode": {
    "name": "ipython",
    "version": 3
   },
   "file_extension": ".py",
   "mimetype": "text/x-python",
   "name": "python",
   "nbconvert_exporter": "python",
   "pygments_lexer": "ipython3",
   "version": "3.8.5"
  }
 },
 "nbformat": 4,
 "nbformat_minor": 4
}
