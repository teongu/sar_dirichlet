{
 "cells": [
  {
   "cell_type": "markdown",
   "metadata": {},
   "source": [
    "# Importing the packages and data"
   ]
  },
  {
   "cell_type": "code",
   "execution_count": 1,
   "metadata": {},
   "outputs": [],
   "source": [
    "%load_ext autoreload\n",
    "%autoreload 2"
   ]
  },
  {
   "cell_type": "code",
   "execution_count": 2,
   "metadata": {},
   "outputs": [],
   "source": [
    "import numpy as np\n",
    "import pandas as pd\n",
    "import matplotlib.pyplot as plt\n",
    "from mpl_toolkits import mplot3d\n",
    "import scipy\n",
    "from sklearn.metrics import r2_score\n",
    "from sklearn.metrics import mean_squared_error\n",
    "from scipy.special import gamma, digamma, polygamma\n",
    "from scipy import sparse\n",
    "import math\n",
    "\n",
    "from sklearn.neighbors import NearestNeighbors\n",
    "from sklearn.model_selection import train_test_split\n",
    "from sklearn.model_selection import KFold\n",
    "import random\n",
    "\n",
    "import scipy.optimize\n",
    "from scipy.optimize import Bounds"
   ]
  },
  {
   "cell_type": "code",
   "execution_count": 3,
   "metadata": {},
   "outputs": [],
   "source": [
    "from prettytable import PrettyTable"
   ]
  },
  {
   "cell_type": "code",
   "execution_count": 4,
   "metadata": {},
   "outputs": [],
   "source": [
    "import dirichlet_regression"
   ]
  },
  {
   "cell_type": "code",
   "execution_count": 5,
   "metadata": {},
   "outputs": [],
   "source": [
    "from scipy.optimize import fmin, newton, minimize"
   ]
  },
  {
   "cell_type": "code",
   "execution_count": 177,
   "metadata": {},
   "outputs": [],
   "source": [
    "def f_spatial(x, X, Y, Z, W, epsilon=0):\n",
    "    K = X.shape[-1]\n",
    "    J = Y.shape[-1]\n",
    "    n = X.shape[0]\n",
    "    beta = x[:K*J].reshape((K,J))\n",
    "    beta[:,0] = 0\n",
    "    gamma_var = x[K*J:-1]\n",
    "    rho = x[-1]\n",
    "    M = np.identity(n) - rho*W\n",
    "    mu = dirichlet_regression.compute_mu_spatial_opti(X, beta, M)\n",
    "    phi = np.exp(np.matmul(Z,gamma_var))\n",
    "    return -dirichlet_regression.dirichlet_loglikelihood(mu,phi,Y,epsilon=epsilon)"
   ]
  },
  {
   "cell_type": "code",
   "execution_count": 184,
   "metadata": {},
   "outputs": [],
   "source": [
    "def fprime_spatial(x, X, Y, Z, W, epsilon=0):\n",
    "    K = X.shape[-1]\n",
    "    J = Y.shape[-1]\n",
    "    n = X.shape[0]\n",
    "    beta = x[:K*J].reshape((K,J))\n",
    "    beta[:,0] = 0\n",
    "    gamma_var = x[K*J:-1]\n",
    "    rho = x[-1]\n",
    "    M = np.identity(n) - rho*W\n",
    "    MinvX = np.linalg.solve(M,X)\n",
    "    mu = dirichlet_regression.compute_mu_spatial_opti(X, beta, M, MinvX=MinvX)\n",
    "    phi = np.exp(np.matmul(Z,gamma_var))\n",
    "\n",
    "    beta_grad = dirichlet_regression.dirichlet_gradient_wrt_beta(mu, phi, MinvX, Y, epsilon=epsilon)\n",
    "    beta_grad[:,0] = 0\n",
    "    gamma_grad = dirichlet_regression.dirichlet_derivative_wrt_gamma(mu, phi, Y, Z, epsilon=epsilon)\n",
    "    \n",
    "    MinvW = np.linalg.solve(M,W)\n",
    "    rho_derivative = dirichlet_regression.dirichlet_derivative_wrt_rho(mu, phi, beta, W, X, Y, Z, MinvX=MinvX, MinvW=MinvW, epsilon=epsilon)\n",
    "    return(-np.concatenate([beta_grad.flatten(),gamma_grad,[rho_derivative]]))"
   ]
  },
  {
   "cell_type": "code",
   "execution_count": 8,
   "metadata": {},
   "outputs": [],
   "source": [
    "def f_no_spatial(x, X, Y, Z, epsilon=0):\n",
    "    K = X.shape[-1]\n",
    "    J = Y.shape[-1]\n",
    "    beta = x[:K*J].reshape((K,J))\n",
    "    beta[:,0] = 0\n",
    "    gamma_var = x[K*J:]\n",
    "    mu = dirichlet_regression.compute_mu_3(X, beta)\n",
    "    phi = np.exp(np.matmul(Z,gamma_var))\n",
    "    return -dirichlet_regression.dirichlet_loglikelihood(mu,phi,Y,epsilon=epsilon)"
   ]
  },
  {
   "cell_type": "code",
   "execution_count": 9,
   "metadata": {},
   "outputs": [],
   "source": [
    "def fprime_no_spatial(x, X, Y, Z, epsilon=0):\n",
    "    K = X.shape[-1]\n",
    "    J = Y.shape[-1]\n",
    "    beta = x[:K*J].reshape((K,J))\n",
    "    beta[:,0] = 0\n",
    "    gamma_var = x[K*J:]\n",
    "    mu = dirichlet_regression.compute_mu_3(X, beta)\n",
    "    phi = np.exp(np.matmul(Z,gamma_var))\n",
    "    beta_grad = dirichlet_regression.dirichlet_gradient_wrt_beta(mu, phi, X, Y, epsilon=epsilon)\n",
    "    beta_grad[:,0] = 0\n",
    "    gamma_grad = dirichlet_regression.dirichlet_derivative_wrt_gamma(mu, phi, beta, X, Y, Z, epsilon=epsilon)\n",
    "    return(-np.concatenate([beta_grad.flatten(),gamma_grad]))"
   ]
  },
  {
   "cell_type": "code",
   "execution_count": 132,
   "metadata": {},
   "outputs": [],
   "source": [
    "def create_features_matrices(n_samples,n_features,choice_W='X_dependent',threshold_neighbors=0.3,nneighbors=10):\n",
    "    X = np.random.uniform(size=(n_samples,n_features))\n",
    "    X = (X-X.min())/(X.max()-X.min())\n",
    "    X = np.array([np.concatenate(([1],x)) for x in X])\n",
    "    Z = np.random.uniform(size=(n_samples,n_features))\n",
    "    \n",
    "    if choice_W == 'random':\n",
    "        neighbors = NearestNeighbors(n_neighbors=nneighbors).fit(np.arange(n_samples).reshape(-1,1))\n",
    "        W = neighbors.kneighbors_graph(np.arange(n_samples).reshape(-1,1)).toarray()\n",
    "    else:\n",
    "        distance_matrix = scipy.spatial.distance_matrix(X,X)\n",
    "        W = np.zeros(np.shape(distance_matrix))\n",
    "        W[distance_matrix < threshold_neighbors] = 1\n",
    "    # replace the 1 on the diagonal by 0\n",
    "    np.fill_diagonal(W,0)\n",
    "    # scaling the matrix, so that the sum of each row is 1\n",
    "    W = W/W.sum(axis=1)[:,None]\n",
    "    return(X,Z,W)"
   ]
  },
  {
   "cell_type": "markdown",
   "metadata": {},
   "source": [
    "# With two features"
   ]
  },
  {
   "cell_type": "code",
   "execution_count": 188,
   "metadata": {},
   "outputs": [],
   "source": [
    "n_features = 2\n",
    "n_classes = 3"
   ]
  },
  {
   "cell_type": "code",
   "execution_count": 189,
   "metadata": {},
   "outputs": [],
   "source": [
    "np.random.seed(21)\n",
    "\n",
    "beta = np.array([[0.  , -1.6 , 1.],\n",
    "                 [0.  , 1.8, -1.4],\n",
    "                 [0.  , 1.4, -1.1 ]])\n",
    "\n",
    "gamma_var = np.round(np.random.normal(size=(n_features)),2)"
   ]
  },
  {
   "cell_type": "code",
   "execution_count": 190,
   "metadata": {},
   "outputs": [],
   "source": [
    "beta0 = np.zeros((n_features+1,n_classes))\n",
    "gamma0 = [0.,0.]\n",
    "rho0 = [0.]\n",
    "params0_spatial = np.concatenate([beta0.flatten(),gamma0, rho0])\n",
    "params0_no_spatial = np.concatenate([beta0.flatten(),gamma0])\n",
    "\n",
    "min_bounds_1 = -np.inf*np.ones(len(params0_spatial)) \n",
    "max_bounds_1 = np.inf*np.ones(len(params0_spatial))\n",
    "min_bounds_1[-1] = -1\n",
    "max_bounds_1[-1] = 1\n",
    "bounds_1 = Bounds(min_bounds_1, max_bounds_1)"
   ]
  },
  {
   "cell_type": "code",
   "execution_count": 191,
   "metadata": {},
   "outputs": [],
   "source": [
    "rho = 0.5\n",
    "n = 200"
   ]
  },
  {
   "cell_type": "code",
   "execution_count": 192,
   "metadata": {},
   "outputs": [],
   "source": [
    "X,Z,W = create_features_matrices(n,n_features)"
   ]
  },
  {
   "cell_type": "code",
   "execution_count": 193,
   "metadata": {},
   "outputs": [],
   "source": [
    "Xbeta = np.matmul(X,beta)"
   ]
  },
  {
   "cell_type": "code",
   "execution_count": 194,
   "metadata": {},
   "outputs": [],
   "source": [
    "M = np.identity(n) - rho*W"
   ]
  },
  {
   "cell_type": "code",
   "execution_count": 195,
   "metadata": {},
   "outputs": [
    {
     "name": "stdout",
     "output_type": "stream",
     "text": [
      "Wall time: 21 ms\n"
     ]
    }
   ],
   "source": [
    "%%time\n",
    "for _ in range(10):\n",
    "    Minv = np.linalg.inv(M)\n",
    "    np.matmul(Minv,Xbeta)"
   ]
  },
  {
   "cell_type": "code",
   "execution_count": 196,
   "metadata": {},
   "outputs": [
    {
     "name": "stdout",
     "output_type": "stream",
     "text": [
      "Wall time: 312 ms\n"
     ]
    }
   ],
   "source": [
    "%%time\n",
    "for _ in range(10):\n",
    "    np.linalg.solve(M,Xbeta)"
   ]
  },
  {
   "cell_type": "code",
   "execution_count": 197,
   "metadata": {},
   "outputs": [
    {
     "name": "stdout",
     "output_type": "stream",
     "text": [
      "Wall time: 25 ms\n"
     ]
    }
   ],
   "source": [
    "%%time\n",
    "for _ in range(10):\n",
    "    sparse.linalg.spsolve(sparse.csc_matrix(M),Xbeta)"
   ]
  },
  {
   "cell_type": "code",
   "execution_count": 203,
   "metadata": {},
   "outputs": [
    {
     "name": "stdout",
     "output_type": "stream",
     "text": [
      "Wall time: 21.6 ms\n"
     ]
    }
   ],
   "source": [
    "%%time\n",
    "for _ in range(10):\n",
    "    Minv = np.linalg.inv(M)"
   ]
  },
  {
   "cell_type": "code",
   "execution_count": 204,
   "metadata": {},
   "outputs": [
    {
     "name": "stdout",
     "output_type": "stream",
     "text": [
      "Wall time: 18.2 ms\n"
     ]
    }
   ],
   "source": [
    "%%time\n",
    "for _ in range(10):\n",
    "    np.linalg.solve(M,np.identity(n))"
   ]
  },
  {
   "cell_type": "code",
   "execution_count": 206,
   "metadata": {},
   "outputs": [
    {
     "name": "stdout",
     "output_type": "stream",
     "text": [
      "Wall time: 58.2 ms\n"
     ]
    }
   ],
   "source": [
    "%%time\n",
    "for _ in range(10):\n",
    "    sparse.linalg.spsolve(sparse.csc_matrix(M),np.identity(n))"
   ]
  },
  {
   "cell_type": "markdown",
   "metadata": {},
   "source": [
    "## With more features and classes"
   ]
  },
  {
   "cell_type": "code",
   "execution_count": 207,
   "metadata": {},
   "outputs": [],
   "source": [
    "n_features = 16\n",
    "n_classes = 15"
   ]
  },
  {
   "cell_type": "code",
   "execution_count": 208,
   "metadata": {},
   "outputs": [],
   "source": [
    "np.random.seed(3)\n",
    "\n",
    "beta = np.round(np.random.normal(size=(n_features+1,n_classes)),2)\n",
    "\n",
    "gamma_var = np.round(np.random.normal(size=(n_features)),2)"
   ]
  },
  {
   "cell_type": "code",
   "execution_count": 209,
   "metadata": {},
   "outputs": [],
   "source": [
    "rho = 0.5\n",
    "n = 2000"
   ]
  },
  {
   "cell_type": "code",
   "execution_count": 210,
   "metadata": {
    "scrolled": true
   },
   "outputs": [],
   "source": [
    "X,Z,W = create_features_matrices(n,n_features,choice_W='random')"
   ]
  },
  {
   "cell_type": "code",
   "execution_count": 211,
   "metadata": {},
   "outputs": [
    {
     "name": "stdout",
     "output_type": "stream",
     "text": [
      "Wall time: 51.6 ms\n"
     ]
    }
   ],
   "source": [
    "%%time\n",
    "Xbeta = np.matmul(X,beta)"
   ]
  },
  {
   "cell_type": "code",
   "execution_count": 174,
   "metadata": {},
   "outputs": [],
   "source": [
    "M = np.identity(n) - rho*W"
   ]
  },
  {
   "cell_type": "code",
   "execution_count": 161,
   "metadata": {},
   "outputs": [
    {
     "name": "stdout",
     "output_type": "stream",
     "text": [
      "Wall time: 32 ms\n"
     ]
    }
   ],
   "source": [
    "%%time\n",
    "for _ in range(10):\n",
    "    Minv = np.linalg.inv(M)\n",
    "    np.matmul(Minv,Xbeta)"
   ]
  },
  {
   "cell_type": "code",
   "execution_count": 162,
   "metadata": {},
   "outputs": [
    {
     "name": "stdout",
     "output_type": "stream",
     "text": [
      "Wall time: 25.5 ms\n"
     ]
    }
   ],
   "source": [
    "%%time\n",
    "for _ in range(10):\n",
    "    np.linalg.solve(M,Xbeta)"
   ]
  },
  {
   "cell_type": "code",
   "execution_count": 163,
   "metadata": {},
   "outputs": [
    {
     "name": "stdout",
     "output_type": "stream",
     "text": [
      "Wall time: 7.96 ms\n"
     ]
    }
   ],
   "source": [
    "%%time\n",
    "for _ in range(10):\n",
    "    sparse.linalg.spsolve(sparse.csc_matrix(M),Xbeta)"
   ]
  },
  {
   "cell_type": "markdown",
   "metadata": {},
   "source": [
    "### Time to compute mu"
   ]
  },
  {
   "cell_type": "code",
   "execution_count": 175,
   "metadata": {},
   "outputs": [
    {
     "name": "stdout",
     "output_type": "stream",
     "text": [
      "Wall time: 2.82 s\n"
     ]
    }
   ],
   "source": [
    "%%time\n",
    "for _ in range(10):\n",
    "    Minv = np.linalg.inv(M)\n",
    "    _ = dirichlet_regression.compute_mu_spatial_2(X, beta, rho=rho, W=W, Minv=Minv)"
   ]
  },
  {
   "cell_type": "code",
   "execution_count": 178,
   "metadata": {},
   "outputs": [
    {
     "name": "stdout",
     "output_type": "stream",
     "text": [
      "Wall time: 293 ms\n"
     ]
    }
   ],
   "source": [
    "%%time\n",
    "for _ in range(10):\n",
    "    _ = dirichlet_regression.compute_mu_spatial_opti(X, beta, M)"
   ]
  },
  {
   "cell_type": "code",
   "execution_count": 179,
   "metadata": {},
   "outputs": [],
   "source": [
    "MinvX = np.matmul(Minv,X)"
   ]
  },
  {
   "cell_type": "code",
   "execution_count": 180,
   "metadata": {},
   "outputs": [
    {
     "name": "stdout",
     "output_type": "stream",
     "text": [
      "Wall time: 7.97 ms\n"
     ]
    }
   ],
   "source": [
    "%%time\n",
    "for _ in range(10):\n",
    "    _ = dirichlet_regression.compute_mu_spatial_opti(X, beta, M, MinvX = MinvX)"
   ]
  },
  {
   "cell_type": "markdown",
   "metadata": {},
   "source": [
    "# Neumann series"
   ]
  },
  {
   "cell_type": "code",
   "execution_count": 19,
   "metadata": {},
   "outputs": [],
   "source": [
    "T = rho*W"
   ]
  },
  {
   "cell_type": "code",
   "execution_count": 20,
   "metadata": {},
   "outputs": [
    {
     "name": "stdout",
     "output_type": "stream",
     "text": [
      "Wall time: 497 ms\n"
     ]
    }
   ],
   "source": [
    "%%time\n",
    "power = T\n",
    "serie = np.identity(n) + power\n",
    "for _ in range(2,6):\n",
    "    power = np.matmul(power,T)\n",
    "    serie += power"
   ]
  },
  {
   "cell_type": "code",
   "execution_count": 21,
   "metadata": {},
   "outputs": [
    {
     "data": {
      "text/plain": [
       "array([[1.00107357e+00, 1.16987222e-04, 1.10301872e-05, ...,\n",
       "        6.75779688e-05, 3.72933442e-06, 7.96013811e-05],\n",
       "       [1.10987877e-04, 1.00102097e+00, 6.06472962e-05, ...,\n",
       "        2.66455599e-06, 1.01696052e-07, 7.87002504e-04],\n",
       "       [6.00171949e-06, 3.47830081e-05, 1.00082369e+00, ...,\n",
       "        2.99422075e-05, 1.59294583e-05, 3.35404561e-04],\n",
       "       ...,\n",
       "       [5.20913510e-05, 2.16495174e-06, 4.24181272e-05, ...,\n",
       "        1.00090339e+00, 1.79117250e-03, 1.52101877e-05],\n",
       "       [4.65773413e-06, 1.33878348e-07, 3.65638198e-05, ...,\n",
       "        2.90215291e-03, 1.00107408e+00, 3.47194755e-06],\n",
       "       [4.19252826e-05, 4.36912422e-04, 3.24662066e-04, ...,\n",
       "        1.03927261e-05, 1.46414870e-06, 1.00086996e+00]])"
      ]
     },
     "execution_count": 21,
     "metadata": {},
     "output_type": "execute_result"
    }
   ],
   "source": [
    "serie"
   ]
  },
  {
   "cell_type": "code",
   "execution_count": 22,
   "metadata": {},
   "outputs": [
    {
     "data": {
      "text/plain": [
       "0.03652929979247122"
      ]
     },
     "execution_count": 22,
     "metadata": {},
     "output_type": "execute_result"
    }
   ],
   "source": [
    "np.linalg.norm(Minv-serie)"
   ]
  },
  {
   "cell_type": "code",
   "execution_count": 23,
   "metadata": {},
   "outputs": [
    {
     "name": "stdout",
     "output_type": "stream",
     "text": [
      "Wall time: 994 ms\n"
     ]
    }
   ],
   "source": [
    "%%time\n",
    "power = T\n",
    "serie = np.identity(n) + power\n",
    "for k in range(2,6):\n",
    "    serie += np.linalg.matrix_power(T,k)"
   ]
  },
  {
   "cell_type": "code",
   "execution_count": 24,
   "metadata": {},
   "outputs": [
    {
     "name": "stdout",
     "output_type": "stream",
     "text": [
      "Wall time: 230 ms\n"
     ]
    }
   ],
   "source": [
    "%%time\n",
    "serie = np.identity(n) + T\n",
    "power = sparse.csr_matrix(T)\n",
    "sparseT = sparse.csr_matrix(T)\n",
    "for _ in range(2,6):\n",
    "    power = power.multiply(sparseT)\n",
    "    serie += power.todense()"
   ]
  },
  {
   "cell_type": "markdown",
   "metadata": {},
   "source": [
    "# Other"
   ]
  },
  {
   "cell_type": "code",
   "execution_count": null,
   "metadata": {},
   "outputs": [],
   "source": [
    "solution = "
   ]
  },
  {
   "cell_type": "code",
   "execution_count": null,
   "metadata": {},
   "outputs": [],
   "source": []
  }
 ],
 "metadata": {
  "kernelspec": {
   "display_name": "Python 3",
   "language": "python",
   "name": "python3"
  },
  "language_info": {
   "codemirror_mode": {
    "name": "ipython",
    "version": 3
   },
   "file_extension": ".py",
   "mimetype": "text/x-python",
   "name": "python",
   "nbconvert_exporter": "python",
   "pygments_lexer": "ipython3",
   "version": "3.8.5"
  }
 },
 "nbformat": 4,
 "nbformat_minor": 4
}
