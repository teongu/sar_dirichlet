{
 "cells": [
  {
   "cell_type": "markdown",
   "metadata": {},
   "source": [
    "# Importing the packages and data"
   ]
  },
  {
   "cell_type": "code",
   "execution_count": 1,
   "metadata": {},
   "outputs": [],
   "source": [
    "%load_ext autoreload\n",
    "%autoreload 2"
   ]
  },
  {
   "cell_type": "code",
   "execution_count": 55,
   "metadata": {},
   "outputs": [],
   "source": [
    "import numpy as np\n",
    "import pandas as pd\n",
    "import matplotlib.pyplot as plt\n",
    "from mpl_toolkits import mplot3d\n",
    "import scipy\n",
    "from sklearn.metrics import r2_score\n",
    "from sklearn.metrics import mean_squared_error\n",
    "from scipy.special import gamma, digamma, polygamma\n",
    "import math\n",
    "\n",
    "from sklearn.neighbors import NearestNeighbors\n",
    "from sklearn.model_selection import train_test_split\n",
    "from sklearn.model_selection import KFold\n",
    "import random\n",
    "\n",
    "import scipy.optimize\n",
    "from scipy.optimize import Bounds\n",
    "\n",
    "from scipy.stats import ttest_ind"
   ]
  },
  {
   "cell_type": "code",
   "execution_count": 3,
   "metadata": {},
   "outputs": [],
   "source": [
    "from prettytable import PrettyTable"
   ]
  },
  {
   "cell_type": "code",
   "execution_count": 4,
   "metadata": {},
   "outputs": [],
   "source": [
    "plt.rcParams.update({\n",
    "    \"text.usetex\": True\n",
    "})"
   ]
  },
  {
   "cell_type": "code",
   "execution_count": 5,
   "metadata": {},
   "outputs": [],
   "source": [
    "import dirichlet_regression"
   ]
  },
  {
   "cell_type": "code",
   "execution_count": 6,
   "metadata": {},
   "outputs": [],
   "source": [
    "from scipy.optimize import fmin, newton, minimize"
   ]
  },
  {
   "cell_type": "code",
   "execution_count": 7,
   "metadata": {},
   "outputs": [],
   "source": [
    "def f_spatial(x, X, Y, Z, W, epsilon=0):\n",
    "    K = X.shape[-1]\n",
    "    J = Y.shape[-1]\n",
    "    n = X.shape[0]\n",
    "    beta = x[:K*J].reshape((K,J))\n",
    "    beta[:,0] = 0\n",
    "    gamma_var = x[K*J:-1]\n",
    "    rho = x[-1]\n",
    "    Minv = np.linalg.inv(np.identity(n) - rho*W)\n",
    "    mu = dirichlet_regression.compute_mu_spatial_2(X, beta, rho=rho, W=W, Minv=Minv)\n",
    "    phi = np.exp(np.matmul(Z,gamma_var))\n",
    "    return -dirichlet_regression.dirichlet_loglikelihood(mu,phi,Y,epsilon=epsilon)"
   ]
  },
  {
   "cell_type": "code",
   "execution_count": 8,
   "metadata": {},
   "outputs": [],
   "source": [
    "def fprime_spatial(x, X, Y, Z, W, epsilon=0):\n",
    "    K = X.shape[-1]\n",
    "    J = Y.shape[-1]\n",
    "    n = X.shape[0]\n",
    "    beta = x[:K*J].reshape((K,J))\n",
    "    beta[:,0] = 0\n",
    "    gamma_var = x[K*J:-1]\n",
    "    rho = x[-1]\n",
    "    Minv = np.linalg.inv(np.identity(n) - rho*W)\n",
    "    MinvX = np.matmul(Minv,X)\n",
    "    mu = dirichlet_regression.compute_mu_spatial_2(X, beta, rho=rho, W=W, MinvX=MinvX)\n",
    "    phi = np.exp(np.matmul(Z,gamma_var))\n",
    "\n",
    "    beta_grad = dirichlet_regression.dirichlet_gradient_wrt_beta(mu, phi, MinvX, Y, epsilon=epsilon)\n",
    "    beta_grad[:,0] = 0\n",
    "    gamma_grad = dirichlet_regression.dirichlet_derivative_wrt_gamma(mu, phi, beta, MinvX, Y, Z, epsilon=epsilon)\n",
    "    rho_derivative = dirichlet_regression.dirichlet_derivative_wrt_rho(mu, phi, Minv, beta, W, X, Y, Z, MinvX, epsilon=epsilon)\n",
    "    return(-np.concatenate([beta_grad.flatten(),gamma_grad,[rho_derivative]]))"
   ]
  },
  {
   "cell_type": "code",
   "execution_count": 9,
   "metadata": {},
   "outputs": [],
   "source": [
    "def f_no_spatial(x, X, Y, Z, epsilon=0):\n",
    "    K = X.shape[-1]\n",
    "    J = Y.shape[-1]\n",
    "    beta = x[:K*J].reshape((K,J))\n",
    "    beta[:,0] = 0\n",
    "    gamma_var = x[K*J:]\n",
    "    mu = dirichlet_regression.compute_mu_3(X, beta)\n",
    "    phi = np.exp(np.matmul(Z,gamma_var))\n",
    "    return -dirichlet_regression.dirichlet_loglikelihood(mu,phi,Y,epsilon=epsilon)"
   ]
  },
  {
   "cell_type": "code",
   "execution_count": 10,
   "metadata": {},
   "outputs": [],
   "source": [
    "def fprime_no_spatial(x, X, Y, Z, epsilon=0):\n",
    "    K = X.shape[-1]\n",
    "    J = Y.shape[-1]\n",
    "    beta = x[:K*J].reshape((K,J))\n",
    "    beta[:,0] = 0\n",
    "    gamma_var = x[K*J:]\n",
    "    mu = dirichlet_regression.compute_mu_3(X, beta)\n",
    "    phi = np.exp(np.matmul(Z,gamma_var))\n",
    "    beta_grad = dirichlet_regression.dirichlet_gradient_wrt_beta(mu, phi, X, Y, epsilon=epsilon)\n",
    "    beta_grad[:,0] = 0\n",
    "    gamma_grad = dirichlet_regression.dirichlet_derivative_wrt_gamma(mu, phi, beta, X, Y, Z, epsilon=epsilon)\n",
    "    return(-np.concatenate([beta_grad.flatten(),gamma_grad]))"
   ]
  },
  {
   "cell_type": "code",
   "execution_count": 11,
   "metadata": {},
   "outputs": [],
   "source": [
    "def create_features_matrices(n_samples,n_features,choice_W='X_dependent',threshold_neighbors=0.3):\n",
    "    X = np.random.uniform(size=(n_samples,n_features))\n",
    "    X = (X-X.min())/(X.max()-X.min())\n",
    "    X = np.array([np.concatenate(([1],x)) for x in X])\n",
    "    Z = np.random.uniform(size=(n_samples,n_features))\n",
    "    \n",
    "    if choice_W == 'random':\n",
    "        neighbors = NearestNeighbors(n_neighbors=nneighbors).fit(np.arange(n_samples).reshape(-1,1))\n",
    "        W = neighbors.kneighbors_graph(np.arange(n_samples).reshape(-1,1)).toarray()\n",
    "    else:\n",
    "        distance_matrix = scipy.spatial.distance_matrix(X,X)\n",
    "        W = np.zeros(np.shape(distance_matrix))\n",
    "        W[distance_matrix < threshold_neighbors] = 1\n",
    "    # replace the 1 on the diagonal by 0\n",
    "    np.fill_diagonal(W,0)\n",
    "    # scaling the matrix, so that the sum of each row is 1\n",
    "    W = W/W.sum(axis=1)[:,None]\n",
    "    return(X,Z,W)"
   ]
  },
  {
   "cell_type": "markdown",
   "metadata": {},
   "source": [
    "# With two features"
   ]
  },
  {
   "cell_type": "code",
   "execution_count": 12,
   "metadata": {},
   "outputs": [],
   "source": [
    "n_features = 2\n",
    "n_classes = 3"
   ]
  },
  {
   "cell_type": "code",
   "execution_count": 13,
   "metadata": {},
   "outputs": [],
   "source": [
    "np.random.seed(21)\n",
    "\n",
    "beta = np.array([[0.  , -1.6 , 1.],\n",
    "                 [0.  , 1.8, -1.4],\n",
    "                 [0.  , 1.4, -1.1 ]])\n",
    "\n",
    "gamma_var = np.round(np.random.normal(size=(n_features)),2)"
   ]
  },
  {
   "cell_type": "code",
   "execution_count": 14,
   "metadata": {},
   "outputs": [],
   "source": [
    "beta0 = np.zeros((n_features+1,n_classes))\n",
    "gamma0 = [0.,0.]\n",
    "rho0 = [0.]\n",
    "params0_spatial = np.concatenate([beta0.flatten(),gamma0, rho0])\n",
    "params0_no_spatial = np.concatenate([beta0.flatten(),gamma0])\n",
    "\n",
    "min_bounds_1 = -np.inf*np.ones(len(params0_spatial)) \n",
    "max_bounds_1 = np.inf*np.ones(len(params0_spatial))\n",
    "min_bounds_1[-1] = -1\n",
    "max_bounds_1[-1] = 1\n",
    "bounds_1 = Bounds(min_bounds_1, max_bounds_1)"
   ]
  },
  {
   "cell_type": "code",
   "execution_count": null,
   "metadata": {},
   "outputs": [],
   "source": []
  },
  {
   "cell_type": "code",
   "execution_count": 63,
   "metadata": {},
   "outputs": [
    {
     "data": {
      "text/plain": [
       "9.8"
      ]
     },
     "execution_count": 63,
     "metadata": {},
     "output_type": "execute_result"
    }
   ],
   "source": [
    "X,Z,W = create_features_matrices(50,n_features,threshold_neighbors=0.3)\n",
    "non_zeros_W = np.array([len(W[i][W[i]>0]) for i in range(len(W))])\n",
    "np.mean(non_zeros_W)"
   ]
  },
  {
   "cell_type": "code",
   "execution_count": 82,
   "metadata": {},
   "outputs": [
    {
     "data": {
      "text/plain": [
       "10.14"
      ]
     },
     "execution_count": 82,
     "metadata": {},
     "output_type": "execute_result"
    }
   ],
   "source": [
    "X,Z,W = create_features_matrices(200,n_features,threshold_neighbors=0.14)\n",
    "non_zeros_W = np.array([len(W[i][W[i]>0]) for i in range(len(W))])\n",
    "np.mean(non_zeros_W)"
   ]
  },
  {
   "cell_type": "code",
   "execution_count": 98,
   "metadata": {},
   "outputs": [
    {
     "data": {
      "text/plain": [
       "10.952"
      ]
     },
     "execution_count": 98,
     "metadata": {},
     "output_type": "execute_result"
    }
   ],
   "source": [
    "X,Z,W = create_features_matrices(1000,n_features,threshold_neighbors=0.06)\n",
    "non_zeros_W = np.array([len(W[i][W[i]>0]) for i in range(len(W))])\n",
    "np.mean(non_zeros_W)"
   ]
  },
  {
   "cell_type": "markdown",
   "metadata": {},
   "source": [
    "## rho=0.5"
   ]
  },
  {
   "cell_type": "code",
   "execution_count": 99,
   "metadata": {},
   "outputs": [],
   "source": [
    "rho = 0.5"
   ]
  },
  {
   "cell_type": "code",
   "execution_count": 100,
   "metadata": {},
   "outputs": [
    {
     "name": "stderr",
     "output_type": "stream",
     "text": [
      "C:\\Users\\tnguyen001\\Documents\\GitHub\\maupiti\\dirichlet_regression.py:76: RuntimeWarning: overflow encountered in exp\n",
      "  exp_MXbeta = np.exp(MXbeta)\n",
      "C:\\Users\\tnguyen001\\Documents\\GitHub\\maupiti\\dirichlet_regression.py:78: RuntimeWarning: invalid value encountered in true_divide\n",
      "  mu = exp_MXbeta/sum_exp_MXbeta[:,None]\n",
      "C:\\Users\\tnguyen001\\Documents\\GitHub\\maupiti\\dirichlet_regression.py:122: RuntimeWarning: invalid value encountered in multiply\n",
      "  sum_mu_digamma_phi_mu = np.sum(mu[i] * digamma_phi_mu)\n",
      "C:\\Users\\tnguyen001\\Documents\\GitHub\\maupiti\\dirichlet_regression.py:136: RuntimeWarning: invalid value encountered in multiply\n",
      "  derivative_gamma += Z[i,:]*phi[i]*( digamma(phi[i])+np.sum( mu[i]*(np.log(Y[i]+epsilon)-digamma(phi[i]*mu[i])) ) )\n",
      "C:\\Users\\tnguyen001\\Documents\\GitHub\\maupiti\\dirichlet_regression.py:285: RuntimeWarning: invalid value encountered in multiply\n",
      "  sum_i += phi[i]*np.sum( mu[i]*( np.log(Y[i]+epsilon)*(U[i]-sum_omega) - U[i]*(digamma_alpha-np.sum(mu[i]*digamma_alpha)) ) )\n",
      "<ipython-input-20-f0c0c0a7e579>:17: RuntimeWarning: invalid value encountered in true_divide\n",
      "  W = W/W.sum(axis=1)[:,None]\n"
     ]
    },
    {
     "name": "stdout",
     "output_type": "stream",
     "text": [
      "Factor is exactly singular\n",
      "Factor is exactly singular\n",
      "Factor is exactly singular\n",
      "Factor is exactly singular\n",
      "Factor is exactly singular\n",
      "Factor is exactly singular\n"
     ]
    },
    {
     "name": "stderr",
     "output_type": "stream",
     "text": [
      "C:\\Users\\tnguyen001\\Documents\\GitHub\\maupiti\\dirichlet_regression.py:76: RuntimeWarning: overflow encountered in exp\n",
      "  exp_MXbeta = np.exp(MXbeta)\n",
      "C:\\Users\\tnguyen001\\Documents\\GitHub\\maupiti\\dirichlet_regression.py:78: RuntimeWarning: invalid value encountered in true_divide\n",
      "  mu = exp_MXbeta/sum_exp_MXbeta[:,None]\n",
      "C:\\Users\\tnguyen001\\Documents\\GitHub\\maupiti\\dirichlet_regression.py:122: RuntimeWarning: invalid value encountered in multiply\n",
      "  sum_mu_digamma_phi_mu = np.sum(mu[i] * digamma_phi_mu)\n",
      "C:\\Users\\tnguyen001\\Documents\\GitHub\\maupiti\\dirichlet_regression.py:136: RuntimeWarning: invalid value encountered in multiply\n",
      "  derivative_gamma += Z[i,:]*phi[i]*( digamma(phi[i])+np.sum( mu[i]*(np.log(Y[i]+epsilon)-digamma(phi[i]*mu[i])) ) )\n",
      "C:\\Users\\tnguyen001\\Documents\\GitHub\\maupiti\\dirichlet_regression.py:285: RuntimeWarning: invalid value encountered in multiply\n",
      "  sum_i += phi[i]*np.sum( mu[i]*( np.log(Y[i]+epsilon)*(U[i]-sum_omega) - U[i]*(digamma_alpha-np.sum(mu[i]*digamma_alpha)) ) )\n",
      "<ipython-input-20-f0c0c0a7e579>:17: RuntimeWarning: invalid value encountered in true_divide\n",
      "  W = W/W.sum(axis=1)[:,None]\n"
     ]
    },
    {
     "name": "stdout",
     "output_type": "stream",
     "text": [
      "Factor is exactly singular\n",
      "Factor is exactly singular\n",
      "Factor is exactly singular\n"
     ]
    },
    {
     "name": "stderr",
     "output_type": "stream",
     "text": [
      "<ipython-input-20-f0c0c0a7e579>:17: RuntimeWarning: invalid value encountered in true_divide\n",
      "  W = W/W.sum(axis=1)[:,None]\n"
     ]
    },
    {
     "name": "stdout",
     "output_type": "stream",
     "text": [
      "Factor is exactly singular\n"
     ]
    },
    {
     "name": "stderr",
     "output_type": "stream",
     "text": [
      "C:\\Users\\tnguyen001\\Documents\\GitHub\\maupiti\\dirichlet_regression.py:122: RuntimeWarning: invalid value encountered in multiply\n",
      "  sum_mu_digamma_phi_mu = np.sum(mu[i] * digamma_phi_mu)\n",
      "C:\\Users\\tnguyen001\\Documents\\GitHub\\maupiti\\dirichlet_regression.py:136: RuntimeWarning: invalid value encountered in multiply\n",
      "  derivative_gamma += Z[i,:]*phi[i]*( digamma(phi[i])+np.sum( mu[i]*(np.log(Y[i]+epsilon)-digamma(phi[i]*mu[i])) ) )\n",
      "C:\\Users\\tnguyen001\\Documents\\GitHub\\maupiti\\dirichlet_regression.py:285: RuntimeWarning: invalid value encountered in multiply\n",
      "  sum_i += phi[i]*np.sum( mu[i]*( np.log(Y[i]+epsilon)*(U[i]-sum_omega) - U[i]*(digamma_alpha-np.sum(mu[i]*digamma_alpha)) ) )\n",
      "C:\\Users\\tnguyen001\\Documents\\GitHub\\maupiti\\dirichlet_regression.py:76: RuntimeWarning: overflow encountered in exp\n",
      "  exp_MXbeta = np.exp(MXbeta)\n",
      "C:\\Users\\tnguyen001\\Documents\\GitHub\\maupiti\\dirichlet_regression.py:78: RuntimeWarning: invalid value encountered in true_divide\n",
      "  mu = exp_MXbeta/sum_exp_MXbeta[:,None]\n",
      "<ipython-input-20-f0c0c0a7e579>:17: RuntimeWarning: invalid value encountered in true_divide\n",
      "  W = W/W.sum(axis=1)[:,None]\n"
     ]
    },
    {
     "name": "stdout",
     "output_type": "stream",
     "text": [
      "Factor is exactly singular\n"
     ]
    },
    {
     "name": "stderr",
     "output_type": "stream",
     "text": [
      "C:\\Users\\tnguyen001\\Documents\\GitHub\\maupiti\\dirichlet_regression.py:122: RuntimeWarning: invalid value encountered in multiply\n",
      "  sum_mu_digamma_phi_mu = np.sum(mu[i] * digamma_phi_mu)\n",
      "C:\\Users\\tnguyen001\\Documents\\GitHub\\maupiti\\dirichlet_regression.py:136: RuntimeWarning: invalid value encountered in multiply\n",
      "  derivative_gamma += Z[i,:]*phi[i]*( digamma(phi[i])+np.sum( mu[i]*(np.log(Y[i]+epsilon)-digamma(phi[i]*mu[i])) ) )\n",
      "C:\\Users\\tnguyen001\\Documents\\GitHub\\maupiti\\dirichlet_regression.py:285: RuntimeWarning: invalid value encountered in multiply\n",
      "  sum_i += phi[i]*np.sum( mu[i]*( np.log(Y[i]+epsilon)*(U[i]-sum_omega) - U[i]*(digamma_alpha-np.sum(mu[i]*digamma_alpha)) ) )\n",
      "C:\\Users\\tnguyen001\\Documents\\GitHub\\maupiti\\dirichlet_regression.py:76: RuntimeWarning: overflow encountered in exp\n",
      "  exp_MXbeta = np.exp(MXbeta)\n",
      "C:\\Users\\tnguyen001\\Documents\\GitHub\\maupiti\\dirichlet_regression.py:78: RuntimeWarning: invalid value encountered in true_divide\n",
      "  mu = exp_MXbeta/sum_exp_MXbeta[:,None]\n",
      "C:\\Users\\tnguyen001\\Documents\\GitHub\\maupiti\\dirichlet_regression.py:76: RuntimeWarning: overflow encountered in exp\n",
      "  exp_MXbeta = np.exp(MXbeta)\n",
      "C:\\Users\\tnguyen001\\Documents\\GitHub\\maupiti\\dirichlet_regression.py:78: RuntimeWarning: invalid value encountered in true_divide\n",
      "  mu = exp_MXbeta/sum_exp_MXbeta[:,None]\n",
      "C:\\Users\\tnguyen001\\Documents\\GitHub\\maupiti\\dirichlet_regression.py:122: RuntimeWarning: invalid value encountered in multiply\n",
      "  sum_mu_digamma_phi_mu = np.sum(mu[i] * digamma_phi_mu)\n",
      "C:\\Users\\tnguyen001\\Documents\\GitHub\\maupiti\\dirichlet_regression.py:136: RuntimeWarning: invalid value encountered in multiply\n",
      "  derivative_gamma += Z[i,:]*phi[i]*( digamma(phi[i])+np.sum( mu[i]*(np.log(Y[i]+epsilon)-digamma(phi[i]*mu[i])) ) )\n",
      "C:\\Users\\tnguyen001\\Documents\\GitHub\\maupiti\\dirichlet_regression.py:285: RuntimeWarning: invalid value encountered in multiply\n",
      "  sum_i += phi[i]*np.sum( mu[i]*( np.log(Y[i]+epsilon)*(U[i]-sum_omega) - U[i]*(digamma_alpha-np.sum(mu[i]*digamma_alpha)) ) )\n",
      "C:\\Users\\tnguyen001\\Documents\\GitHub\\maupiti\\dirichlet_regression.py:76: RuntimeWarning: overflow encountered in exp\n",
      "  exp_MXbeta = np.exp(MXbeta)\n",
      "C:\\Users\\tnguyen001\\Documents\\GitHub\\maupiti\\dirichlet_regression.py:78: RuntimeWarning: invalid value encountered in true_divide\n",
      "  mu = exp_MXbeta/sum_exp_MXbeta[:,None]\n",
      "C:\\Users\\tnguyen001\\Documents\\GitHub\\maupiti\\dirichlet_regression.py:122: RuntimeWarning: invalid value encountered in multiply\n",
      "  sum_mu_digamma_phi_mu = np.sum(mu[i] * digamma_phi_mu)\n",
      "C:\\Users\\tnguyen001\\Documents\\GitHub\\maupiti\\dirichlet_regression.py:136: RuntimeWarning: invalid value encountered in multiply\n",
      "  derivative_gamma += Z[i,:]*phi[i]*( digamma(phi[i])+np.sum( mu[i]*(np.log(Y[i]+epsilon)-digamma(phi[i]*mu[i])) ) )\n",
      "C:\\Users\\tnguyen001\\Documents\\GitHub\\maupiti\\dirichlet_regression.py:285: RuntimeWarning: invalid value encountered in multiply\n",
      "  sum_i += phi[i]*np.sum( mu[i]*( np.log(Y[i]+epsilon)*(U[i]-sum_omega) - U[i]*(digamma_alpha-np.sum(mu[i]*digamma_alpha)) ) )\n",
      "<ipython-input-20-f0c0c0a7e579>:17: RuntimeWarning: invalid value encountered in true_divide\n",
      "  W = W/W.sum(axis=1)[:,None]\n"
     ]
    },
    {
     "name": "stdout",
     "output_type": "stream",
     "text": [
      "Factor is exactly singular\n",
      "Singular matrix\n"
     ]
    },
    {
     "name": "stderr",
     "output_type": "stream",
     "text": [
      "C:\\Users\\tnguyen001\\Documents\\GitHub\\maupiti\\dirichlet_regression.py:76: RuntimeWarning: overflow encountered in exp\n",
      "  exp_MXbeta = np.exp(MXbeta)\n",
      "C:\\Users\\tnguyen001\\Documents\\GitHub\\maupiti\\dirichlet_regression.py:78: RuntimeWarning: invalid value encountered in true_divide\n",
      "  mu = exp_MXbeta/sum_exp_MXbeta[:,None]\n",
      "C:\\Users\\tnguyen001\\Documents\\GitHub\\maupiti\\dirichlet_regression.py:122: RuntimeWarning: invalid value encountered in multiply\n",
      "  sum_mu_digamma_phi_mu = np.sum(mu[i] * digamma_phi_mu)\n",
      "C:\\Users\\tnguyen001\\Documents\\GitHub\\maupiti\\dirichlet_regression.py:136: RuntimeWarning: invalid value encountered in multiply\n",
      "  derivative_gamma += Z[i,:]*phi[i]*( digamma(phi[i])+np.sum( mu[i]*(np.log(Y[i]+epsilon)-digamma(phi[i]*mu[i])) ) )\n",
      "C:\\Users\\tnguyen001\\Documents\\GitHub\\maupiti\\dirichlet_regression.py:285: RuntimeWarning: invalid value encountered in multiply\n",
      "  sum_i += phi[i]*np.sum( mu[i]*( np.log(Y[i]+epsilon)*(U[i]-sum_omega) - U[i]*(digamma_alpha-np.sum(mu[i]*digamma_alpha)) ) )\n",
      "C:\\Users\\tnguyen001\\Documents\\GitHub\\maupiti\\dirichlet_regression.py:76: RuntimeWarning: overflow encountered in exp\n",
      "  exp_MXbeta = np.exp(MXbeta)\n",
      "C:\\Users\\tnguyen001\\Documents\\GitHub\\maupiti\\dirichlet_regression.py:78: RuntimeWarning: invalid value encountered in true_divide\n",
      "  mu = exp_MXbeta/sum_exp_MXbeta[:,None]\n",
      "C:\\Users\\tnguyen001\\Documents\\GitHub\\maupiti\\dirichlet_regression.py:122: RuntimeWarning: invalid value encountered in multiply\n",
      "  sum_mu_digamma_phi_mu = np.sum(mu[i] * digamma_phi_mu)\n",
      "C:\\Users\\tnguyen001\\Documents\\GitHub\\maupiti\\dirichlet_regression.py:136: RuntimeWarning: invalid value encountered in multiply\n",
      "  derivative_gamma += Z[i,:]*phi[i]*( digamma(phi[i])+np.sum( mu[i]*(np.log(Y[i]+epsilon)-digamma(phi[i]*mu[i])) ) )\n",
      "C:\\Users\\tnguyen001\\Documents\\GitHub\\maupiti\\dirichlet_regression.py:285: RuntimeWarning: invalid value encountered in multiply\n",
      "  sum_i += phi[i]*np.sum( mu[i]*( np.log(Y[i]+epsilon)*(U[i]-sum_omega) - U[i]*(digamma_alpha-np.sum(mu[i]*digamma_alpha)) ) )\n"
     ]
    },
    {
     "name": "stdout",
     "output_type": "stream",
     "text": [
      "Singular matrix\n"
     ]
    },
    {
     "name": "stderr",
     "output_type": "stream",
     "text": [
      "C:\\Users\\tnguyen001\\Documents\\GitHub\\maupiti\\dirichlet_regression.py:76: RuntimeWarning: overflow encountered in exp\n",
      "  exp_MXbeta = np.exp(MXbeta)\n",
      "C:\\Users\\tnguyen001\\Documents\\GitHub\\maupiti\\dirichlet_regression.py:78: RuntimeWarning: invalid value encountered in true_divide\n",
      "  mu = exp_MXbeta/sum_exp_MXbeta[:,None]\n",
      "C:\\Users\\tnguyen001\\Documents\\GitHub\\maupiti\\dirichlet_regression.py:122: RuntimeWarning: invalid value encountered in multiply\n",
      "  sum_mu_digamma_phi_mu = np.sum(mu[i] * digamma_phi_mu)\n",
      "C:\\Users\\tnguyen001\\Documents\\GitHub\\maupiti\\dirichlet_regression.py:136: RuntimeWarning: invalid value encountered in multiply\n",
      "  derivative_gamma += Z[i,:]*phi[i]*( digamma(phi[i])+np.sum( mu[i]*(np.log(Y[i]+epsilon)-digamma(phi[i]*mu[i])) ) )\n",
      "C:\\Users\\tnguyen001\\Documents\\GitHub\\maupiti\\dirichlet_regression.py:285: RuntimeWarning: invalid value encountered in multiply\n",
      "  sum_i += phi[i]*np.sum( mu[i]*( np.log(Y[i]+epsilon)*(U[i]-sum_omega) - U[i]*(digamma_alpha-np.sum(mu[i]*digamma_alpha)) ) )\n"
     ]
    },
    {
     "name": "stdout",
     "output_type": "stream",
     "text": [
      "Singular matrix\n"
     ]
    },
    {
     "name": "stderr",
     "output_type": "stream",
     "text": [
      "C:\\Users\\tnguyen001\\Documents\\GitHub\\maupiti\\dirichlet_regression.py:76: RuntimeWarning: overflow encountered in exp\n",
      "  exp_MXbeta = np.exp(MXbeta)\n",
      "C:\\Users\\tnguyen001\\Documents\\GitHub\\maupiti\\dirichlet_regression.py:78: RuntimeWarning: invalid value encountered in true_divide\n",
      "  mu = exp_MXbeta/sum_exp_MXbeta[:,None]\n",
      "C:\\Users\\tnguyen001\\Documents\\GitHub\\maupiti\\dirichlet_regression.py:122: RuntimeWarning: invalid value encountered in multiply\n",
      "  sum_mu_digamma_phi_mu = np.sum(mu[i] * digamma_phi_mu)\n",
      "C:\\Users\\tnguyen001\\Documents\\GitHub\\maupiti\\dirichlet_regression.py:136: RuntimeWarning: invalid value encountered in multiply\n",
      "  derivative_gamma += Z[i,:]*phi[i]*( digamma(phi[i])+np.sum( mu[i]*(np.log(Y[i]+epsilon)-digamma(phi[i]*mu[i])) ) )\n",
      "C:\\Users\\tnguyen001\\Documents\\GitHub\\maupiti\\dirichlet_regression.py:285: RuntimeWarning: invalid value encountered in multiply\n",
      "  sum_i += phi[i]*np.sum( mu[i]*( np.log(Y[i]+epsilon)*(U[i]-sum_omega) - U[i]*(digamma_alpha-np.sum(mu[i]*digamma_alpha)) ) )\n"
     ]
    },
    {
     "name": "stdout",
     "output_type": "stream",
     "text": [
      "Singular matrix\n",
      "Factor is exactly singular\n"
     ]
    },
    {
     "name": "stderr",
     "output_type": "stream",
     "text": [
      "<ipython-input-20-f0c0c0a7e579>:17: RuntimeWarning: invalid value encountered in true_divide\n",
      "  W = W/W.sum(axis=1)[:,None]\n",
      "C:\\Users\\tnguyen001\\Documents\\GitHub\\maupiti\\dirichlet_regression.py:76: RuntimeWarning: overflow encountered in exp\n",
      "  exp_MXbeta = np.exp(MXbeta)\n",
      "C:\\Users\\tnguyen001\\Documents\\GitHub\\maupiti\\dirichlet_regression.py:78: RuntimeWarning: invalid value encountered in true_divide\n",
      "  mu = exp_MXbeta/sum_exp_MXbeta[:,None]\n",
      "C:\\Users\\tnguyen001\\Documents\\GitHub\\maupiti\\dirichlet_regression.py:122: RuntimeWarning: invalid value encountered in multiply\n",
      "  sum_mu_digamma_phi_mu = np.sum(mu[i] * digamma_phi_mu)\n",
      "C:\\Users\\tnguyen001\\Documents\\GitHub\\maupiti\\dirichlet_regression.py:136: RuntimeWarning: invalid value encountered in multiply\n",
      "  derivative_gamma += Z[i,:]*phi[i]*( digamma(phi[i])+np.sum( mu[i]*(np.log(Y[i]+epsilon)-digamma(phi[i]*mu[i])) ) )\n",
      "C:\\Users\\tnguyen001\\Documents\\GitHub\\maupiti\\dirichlet_regression.py:285: RuntimeWarning: invalid value encountered in multiply\n",
      "  sum_i += phi[i]*np.sum( mu[i]*( np.log(Y[i]+epsilon)*(U[i]-sum_omega) - U[i]*(digamma_alpha-np.sum(mu[i]*digamma_alpha)) ) )\n",
      "C:\\Users\\tnguyen001\\Documents\\GitHub\\maupiti\\dirichlet_regression.py:76: RuntimeWarning: overflow encountered in exp\n",
      "  exp_MXbeta = np.exp(MXbeta)\n",
      "C:\\Users\\tnguyen001\\Documents\\GitHub\\maupiti\\dirichlet_regression.py:78: RuntimeWarning: invalid value encountered in true_divide\n",
      "  mu = exp_MXbeta/sum_exp_MXbeta[:,None]\n",
      "C:\\Users\\tnguyen001\\Documents\\GitHub\\maupiti\\dirichlet_regression.py:122: RuntimeWarning: invalid value encountered in multiply\n",
      "  sum_mu_digamma_phi_mu = np.sum(mu[i] * digamma_phi_mu)\n",
      "C:\\Users\\tnguyen001\\Documents\\GitHub\\maupiti\\dirichlet_regression.py:136: RuntimeWarning: invalid value encountered in multiply\n",
      "  derivative_gamma += Z[i,:]*phi[i]*( digamma(phi[i])+np.sum( mu[i]*(np.log(Y[i]+epsilon)-digamma(phi[i]*mu[i])) ) )\n",
      "C:\\Users\\tnguyen001\\Documents\\GitHub\\maupiti\\dirichlet_regression.py:285: RuntimeWarning: invalid value encountered in multiply\n",
      "  sum_i += phi[i]*np.sum( mu[i]*( np.log(Y[i]+epsilon)*(U[i]-sum_omega) - U[i]*(digamma_alpha-np.sum(mu[i]*digamma_alpha)) ) )\n",
      "<ipython-input-20-f0c0c0a7e579>:17: RuntimeWarning: invalid value encountered in true_divide\n",
      "  W = W/W.sum(axis=1)[:,None]\n"
     ]
    },
    {
     "name": "stdout",
     "output_type": "stream",
     "text": [
      "Factor is exactly singular\n",
      "Factor is exactly singular\n"
     ]
    },
    {
     "name": "stderr",
     "output_type": "stream",
     "text": [
      "C:\\Users\\tnguyen001\\Documents\\GitHub\\maupiti\\dirichlet_regression.py:76: RuntimeWarning: overflow encountered in exp\n",
      "  exp_MXbeta = np.exp(MXbeta)\n",
      "C:\\Users\\tnguyen001\\Documents\\GitHub\\maupiti\\dirichlet_regression.py:78: RuntimeWarning: invalid value encountered in true_divide\n",
      "  mu = exp_MXbeta/sum_exp_MXbeta[:,None]\n",
      "C:\\Users\\tnguyen001\\Documents\\GitHub\\maupiti\\dirichlet_regression.py:122: RuntimeWarning: invalid value encountered in multiply\n",
      "  sum_mu_digamma_phi_mu = np.sum(mu[i] * digamma_phi_mu)\n",
      "C:\\Users\\tnguyen001\\Documents\\GitHub\\maupiti\\dirichlet_regression.py:136: RuntimeWarning: invalid value encountered in multiply\n",
      "  derivative_gamma += Z[i,:]*phi[i]*( digamma(phi[i])+np.sum( mu[i]*(np.log(Y[i]+epsilon)-digamma(phi[i]*mu[i])) ) )\n",
      "C:\\Users\\tnguyen001\\Documents\\GitHub\\maupiti\\dirichlet_regression.py:285: RuntimeWarning: invalid value encountered in multiply\n",
      "  sum_i += phi[i]*np.sum( mu[i]*( np.log(Y[i]+epsilon)*(U[i]-sum_omega) - U[i]*(digamma_alpha-np.sum(mu[i]*digamma_alpha)) ) )\n"
     ]
    },
    {
     "name": "stdout",
     "output_type": "stream",
     "text": [
      "Wall time: 37min 18s\n"
     ]
    }
   ],
   "source": [
    "%%time\n",
    "n_repeat = 100\n",
    "\n",
    "list_solutions_spatial = []\n",
    "list_solutions_no_spatial = []\n",
    "\n",
    "list_n_samples = [200,1000]\n",
    "list_threshold_neighb = [0.14,0.06]\n",
    "\n",
    "seed=0\n",
    "\n",
    "for i in range(2):\n",
    "    n_samples = list_n_samples[i]\n",
    "    threshold_neighb = list_threshold_neighb[i]\n",
    "    true_params = np.concatenate([beta.flatten(),gamma_var, [rho]])\n",
    "    \n",
    "    solutions_spatial_temp = []\n",
    "    solutions_no_spatial_temp = []\n",
    "    for _ in range(n_repeat):\n",
    "        np.random.seed(seed)\n",
    "        \n",
    "        X,Z,W = create_features_matrices(n_samples,n_features,threshold_neighbors=threshold_neighb)\n",
    "        try:\n",
    "            mu = dirichlet_regression.compute_mu_spatial(X, beta, rho, W)\n",
    "            phi = np.exp(np.matmul(Z,gamma_var))\n",
    "            alpha = mu*phi[:,None]\n",
    "\n",
    "            Y = np.array([np.random.dirichlet(alpha_i) for alpha_i in alpha])\n",
    "            Y = (Y*(n_samples-1)+1/n_classes)/n_samples\n",
    "\n",
    "            solution_spatial = minimize(f_spatial, params0_spatial, args=(X, Y, Z, W), bounds=bounds_1, jac=fprime_spatial)\n",
    "            solutions_spatial_temp.append(solution_spatial.x)\n",
    "\n",
    "            solution_no_spatial = minimize(f_no_spatial, params0_no_spatial, args=(X, Y, Z), jac=fprime_no_spatial)\n",
    "            solutions_no_spatial_temp.append(solution_no_spatial.x)\n",
    "        except RuntimeError:\n",
    "            print(\"Factor is exactly singular\")\n",
    "        except np.linalg.LinAlgError:\n",
    "            print(\"Singular matrix\")\n",
    "        \n",
    "        seed+=1\n",
    "    list_solutions_spatial.append(solutions_spatial_temp)\n",
    "    list_solutions_no_spatial.append(solutions_no_spatial_temp)\n",
    "    "
   ]
  },
  {
   "cell_type": "code",
   "execution_count": 101,
   "metadata": {},
   "outputs": [],
   "source": [
    "temp_spatial_200 = np.array(list_solutions_spatial[0])\n",
    "temp_spatial_1000 = np.array(list_solutions_spatial[1])\n",
    "\n",
    "temp_no_spatial_200 = np.array(list_solutions_no_spatial[0])\n",
    "temp_no_spatial_1000 = np.array(list_solutions_no_spatial[1])"
   ]
  },
  {
   "cell_type": "code",
   "execution_count": 105,
   "metadata": {},
   "outputs": [],
   "source": [
    "list_solutions_spatial[1] = temp_spatial_200\n",
    "list_solutions_spatial[2] = temp_spatial_1000\n",
    "\n",
    "list_solutions_no_spatial[1] = temp_no_spatial_200\n",
    "list_solutions_no_spatial[2] = temp_no_spatial_1000"
   ]
  },
  {
   "cell_type": "code",
   "execution_count": 102,
   "metadata": {},
   "outputs": [
    {
     "data": {
      "text/plain": [
       "0.5410796428674394"
      ]
     },
     "execution_count": 102,
     "metadata": {},
     "output_type": "execute_result"
    }
   ],
   "source": [
    "np.mean(np.array(list_solutions_spatial[0])[:,-1])"
   ]
  },
  {
   "cell_type": "code",
   "execution_count": 103,
   "metadata": {},
   "outputs": [
    {
     "data": {
      "text/plain": [
       "0.6146562712605864"
      ]
     },
     "execution_count": 103,
     "metadata": {},
     "output_type": "execute_result"
    }
   ],
   "source": [
    "np.mean(np.array(list_solutions_spatial[1])[:,-1])"
   ]
  },
  {
   "cell_type": "code",
   "execution_count": 106,
   "metadata": {},
   "outputs": [],
   "source": [
    "np.save('Data Dirichlet/spatial_rho05.npy',list_solutions_spatial)"
   ]
  },
  {
   "cell_type": "code",
   "execution_count": 107,
   "metadata": {},
   "outputs": [],
   "source": [
    "np.save('Data Dirichlet/no_spatial_rho05.npy',list_solutions_no_spatial)"
   ]
  },
  {
   "cell_type": "code",
   "execution_count": 104,
   "metadata": {},
   "outputs": [],
   "source": [
    "list_solutions_spatial = np.load('Data Dirichlet/spatial_rho05.npy',allow_pickle=True)\n",
    "list_solutions_no_spatial = np.load('Data Dirichlet/no_spatial_rho05.npy',allow_pickle=True)"
   ]
  },
  {
   "cell_type": "code",
   "execution_count": 108,
   "metadata": {},
   "outputs": [
    {
     "name": "stdout",
     "output_type": "stream",
     "text": [
      "Wall time: 4min 57s\n"
     ]
    }
   ],
   "source": [
    "%%time\n",
    "n_repeat = 100\n",
    "\n",
    "size_test = 1000\n",
    "\n",
    "list_n_samples = [50,200,1000]\n",
    "\n",
    "list_r2_s = []\n",
    "list_rmse_s = []\n",
    "list_ll_s = []\n",
    "list_crossentropy_s = []\n",
    "list_r2_ns = []\n",
    "list_rmse_ns = []\n",
    "list_ll_ns = []\n",
    "list_crossentropy_ns = []\n",
    "\n",
    "seed=0\n",
    "\n",
    "true_params = np.concatenate([beta.flatten(),gamma_var, [rho]])\n",
    "\n",
    "for n_samples_index in range(3):\n",
    "    list_r2_s_temp = []\n",
    "    list_rmse_s_temp = []\n",
    "    list_ll_s_temp = []\n",
    "    list_crossentropy_s_temp = []\n",
    "    list_r2_ns_temp = []\n",
    "    list_rmse_ns_temp = []\n",
    "    list_ll_ns_temp = []\n",
    "    list_crossentropy_ns_temp = []\n",
    "    for i in range(len(list_solutions_spatial[n_samples_index])):\n",
    "        np.random.seed(seed+1000)\n",
    "        \n",
    "        X,Z,W = create_features_matrices(size_test,n_features)\n",
    "        try:\n",
    "            mu = dirichlet_regression.compute_mu_spatial(X, beta, rho, W)\n",
    "            phi = np.exp(np.matmul(Z,gamma_var))\n",
    "            alpha = mu*phi[:,None]\n",
    "\n",
    "            Y = np.array([np.random.dirichlet(alpha_i) for alpha_i in alpha])\n",
    "            Y = (Y*(size_test-1)+1/n_classes)/size_test\n",
    "\n",
    "            solution_spatial = list_solutions_spatial[n_samples_index][i]\n",
    "            beta_sol_s = solution_spatial[:(n_features+1)*n_classes].reshape((n_features+1),n_classes)\n",
    "            gamma_sol_s = solution_spatial[(n_features+1)*n_classes:-1]\n",
    "            rho_sol_s = solution_spatial[-1]\n",
    "            mu_sol_s = dirichlet_regression.compute_mu_spatial_2(X, beta_sol_s, rho_sol_s, W)\n",
    "            phi_s = np.exp(np.matmul(Z,gamma_sol_s))\n",
    "            \n",
    "            list_r2_s_temp.append(r2_score(Y,mu_sol_s))\n",
    "            list_rmse_s_temp.append(mean_squared_error(Y,mu_sol_s,squared=False))\n",
    "            list_ll_s_temp.append(dirichlet_regression.dirichlet_loglikelihood(mu_sol_s,phi_s,Y))\n",
    "            list_crossentropy_s_temp.append(-(1/size_test)*np.sum(Y*np.log(mu_sol_s)))\n",
    "            \n",
    "            solution_no_spatial = list_solutions_no_spatial[n_samples_index][i]\n",
    "            beta_sol_ns = solution_no_spatial[:(n_features+1)*n_classes].reshape((n_features+1),n_classes)\n",
    "            gamma_sol_ns = solution_no_spatial[(n_features+1)*n_classes:]\n",
    "            mu_sol_ns = dirichlet_regression.compute_mu_3(X, beta_sol_ns)\n",
    "            phi_ns = np.exp(np.matmul(Z,gamma_sol_ns))\n",
    "            \n",
    "            list_r2_ns_temp.append(r2_score(Y,mu_sol_ns))\n",
    "            list_rmse_ns_temp.append(mean_squared_error(Y,mu_sol_ns,squared=False))\n",
    "            list_ll_ns_temp.append(dirichlet_regression.dirichlet_loglikelihood(mu_sol_ns,phi_ns,Y))\n",
    "            list_crossentropy_ns_temp.append(-(1/size_test)*np.sum(Y*np.log(mu_sol_ns)))\n",
    "            \n",
    "            \n",
    "        except RuntimeError:\n",
    "            print(\"Factor is exactly singular\")\n",
    "        except np.linalg.LinAlgError:\n",
    "            print(\"Singular matrix\")\n",
    "        \n",
    "        seed+=1\n",
    "    list_r2_s.append(list_r2_s_temp)\n",
    "    list_rmse_s.append(list_rmse_s_temp)\n",
    "    list_ll_s.append(list_ll_s_temp)\n",
    "    list_crossentropy_s.append(list_crossentropy_s_temp)\n",
    "    list_r2_ns.append(list_r2_ns_temp)\n",
    "    list_rmse_ns.append(list_rmse_ns_temp)\n",
    "    list_ll_ns.append(list_ll_ns_temp)\n",
    "    list_crossentropy_ns.append(list_crossentropy_ns_temp)"
   ]
  },
  {
   "cell_type": "code",
   "execution_count": 116,
   "metadata": {},
   "outputs": [
    {
     "name": "stderr",
     "output_type": "stream",
     "text": [
      "C:\\Users\\tnguyen001\\AppData\\Roaming\\Python\\Python38\\site-packages\\numpy\\core\\_asarray.py:136: VisibleDeprecationWarning: Creating an ndarray from ragged nested sequences (which is a list-or-tuple of lists-or-tuples-or ndarrays with different lengths or shapes) is deprecated. If you meant to do this, you must specify 'dtype=object' when creating the ndarray\n",
      "  return array(a, dtype, copy=False, order=order, subok=True)\n"
     ]
    }
   ],
   "source": [
    "np.save('Data Dirichlet/list_r2_s_rho05.npy', list_r2_s)\n",
    "np.save('Data Dirichlet/list_rmse_s_rho05.npy', list_rmse_s)\n",
    "np.save('Data Dirichlet/list_ll_s_rho05.npy', list_ll_s)\n",
    "np.save('Data Dirichlet/list_crossentropy_s_rho05.npy', list_crossentropy_s)\n",
    "np.save('Data Dirichlet/list_r2_ns_rho05.npy', list_r2_ns)\n",
    "np.save('Data Dirichlet/list_rmse_ns_rho05.npy', list_rmse_ns)\n",
    "np.save('Data Dirichlet/list_ll_ns_rho05.npy', list_ll_ns)\n",
    "np.save('Data Dirichlet/list_crossentropy_ns_rho05.npy', list_crossentropy_ns)"
   ]
  },
  {
   "cell_type": "code",
   "execution_count": 110,
   "metadata": {},
   "outputs": [],
   "source": [
    "list_r2_s_rho05 = list_r2_s\n",
    "list_rmse_s_rho05 = list_rmse_s\n",
    "list_ll_s_rho05 = list_ll_s\n",
    "list_crossentropy_s_rho05 = list_crossentropy_s\n",
    "list_r2_ns_rho05 = list_r2_ns\n",
    "list_rmse_ns_rho05 = list_rmse_ns\n",
    "list_ll_ns_rho05 = list_ll_ns\n",
    "list_crossentropy_ns_rho05 = list_crossentropy_ns"
   ]
  },
  {
   "cell_type": "markdown",
   "metadata": {},
   "source": [
    "## rho = 0.9"
   ]
  },
  {
   "cell_type": "markdown",
   "metadata": {},
   "source": [
    "Pour n_samples > 50, changer le threshold pour la matrice W."
   ]
  },
  {
   "cell_type": "code",
   "execution_count": 117,
   "metadata": {},
   "outputs": [],
   "source": [
    "rho = 0.9"
   ]
  },
  {
   "cell_type": "code",
   "execution_count": 118,
   "metadata": {},
   "outputs": [
    {
     "name": "stderr",
     "output_type": "stream",
     "text": [
      "C:\\Users\\tnguyen001\\Documents\\GitHub\\maupiti\\dirichlet_regression.py:76: RuntimeWarning: overflow encountered in exp\n",
      "  exp_MXbeta = np.exp(MXbeta)\n",
      "C:\\Users\\tnguyen001\\Documents\\GitHub\\maupiti\\dirichlet_regression.py:78: RuntimeWarning: invalid value encountered in true_divide\n",
      "  mu = exp_MXbeta/sum_exp_MXbeta[:,None]\n",
      "C:\\Users\\tnguyen001\\Documents\\GitHub\\maupiti\\dirichlet_regression.py:122: RuntimeWarning: invalid value encountered in multiply\n",
      "  sum_mu_digamma_phi_mu = np.sum(mu[i] * digamma_phi_mu)\n",
      "C:\\Users\\tnguyen001\\Documents\\GitHub\\maupiti\\dirichlet_regression.py:136: RuntimeWarning: invalid value encountered in multiply\n",
      "  derivative_gamma += Z[i,:]*phi[i]*( digamma(phi[i])+np.sum( mu[i]*(np.log(Y[i]+epsilon)-digamma(phi[i]*mu[i])) ) )\n",
      "C:\\Users\\tnguyen001\\Documents\\GitHub\\maupiti\\dirichlet_regression.py:285: RuntimeWarning: invalid value encountered in multiply\n",
      "  sum_i += phi[i]*np.sum( mu[i]*( np.log(Y[i]+epsilon)*(U[i]-sum_omega) - U[i]*(digamma_alpha-np.sum(mu[i]*digamma_alpha)) ) )\n",
      "<ipython-input-20-f0c0c0a7e579>:17: RuntimeWarning: invalid value encountered in true_divide\n",
      "  W = W/W.sum(axis=1)[:,None]\n"
     ]
    },
    {
     "name": "stdout",
     "output_type": "stream",
     "text": [
      "Factor is exactly singular\n",
      "Factor is exactly singular\n",
      "Singular matrix\n",
      "Singular matrix\n",
      "Factor is exactly singular\n",
      "Factor is exactly singular\n",
      "Factor is exactly singular\n",
      "Factor is exactly singular\n",
      "Singular matrix\n",
      "Factor is exactly singular\n"
     ]
    },
    {
     "name": "stderr",
     "output_type": "stream",
     "text": [
      "C:\\Users\\tnguyen001\\Documents\\GitHub\\maupiti\\dirichlet_regression.py:122: RuntimeWarning: invalid value encountered in multiply\n",
      "  sum_mu_digamma_phi_mu = np.sum(mu[i] * digamma_phi_mu)\n",
      "C:\\Users\\tnguyen001\\Documents\\GitHub\\maupiti\\dirichlet_regression.py:136: RuntimeWarning: invalid value encountered in multiply\n",
      "  derivative_gamma += Z[i,:]*phi[i]*( digamma(phi[i])+np.sum( mu[i]*(np.log(Y[i]+epsilon)-digamma(phi[i]*mu[i])) ) )\n",
      "C:\\Users\\tnguyen001\\Documents\\GitHub\\maupiti\\dirichlet_regression.py:285: RuntimeWarning: invalid value encountered in multiply\n",
      "  sum_i += phi[i]*np.sum( mu[i]*( np.log(Y[i]+epsilon)*(U[i]-sum_omega) - U[i]*(digamma_alpha-np.sum(mu[i]*digamma_alpha)) ) )\n",
      "C:\\Users\\tnguyen001\\Documents\\GitHub\\maupiti\\dirichlet_regression.py:76: RuntimeWarning: overflow encountered in exp\n",
      "  exp_MXbeta = np.exp(MXbeta)\n",
      "C:\\Users\\tnguyen001\\Documents\\GitHub\\maupiti\\dirichlet_regression.py:78: RuntimeWarning: invalid value encountered in true_divide\n",
      "  mu = exp_MXbeta/sum_exp_MXbeta[:,None]\n",
      "C:\\Users\\tnguyen001\\Documents\\GitHub\\maupiti\\dirichlet_regression.py:122: RuntimeWarning: invalid value encountered in multiply\n",
      "  sum_mu_digamma_phi_mu = np.sum(mu[i] * digamma_phi_mu)\n",
      "C:\\Users\\tnguyen001\\Documents\\GitHub\\maupiti\\dirichlet_regression.py:136: RuntimeWarning: invalid value encountered in multiply\n",
      "  derivative_gamma += Z[i,:]*phi[i]*( digamma(phi[i])+np.sum( mu[i]*(np.log(Y[i]+epsilon)-digamma(phi[i]*mu[i])) ) )\n",
      "C:\\Users\\tnguyen001\\Documents\\GitHub\\maupiti\\dirichlet_regression.py:285: RuntimeWarning: invalid value encountered in multiply\n",
      "  sum_i += phi[i]*np.sum( mu[i]*( np.log(Y[i]+epsilon)*(U[i]-sum_omega) - U[i]*(digamma_alpha-np.sum(mu[i]*digamma_alpha)) ) )\n",
      "C:\\Users\\tnguyen001\\Documents\\GitHub\\maupiti\\dirichlet_regression.py:122: RuntimeWarning: invalid value encountered in multiply\n",
      "  sum_mu_digamma_phi_mu = np.sum(mu[i] * digamma_phi_mu)\n",
      "C:\\Users\\tnguyen001\\Documents\\GitHub\\maupiti\\dirichlet_regression.py:136: RuntimeWarning: invalid value encountered in multiply\n",
      "  derivative_gamma += Z[i,:]*phi[i]*( digamma(phi[i])+np.sum( mu[i]*(np.log(Y[i]+epsilon)-digamma(phi[i]*mu[i])) ) )\n",
      "C:\\Users\\tnguyen001\\Documents\\GitHub\\maupiti\\dirichlet_regression.py:285: RuntimeWarning: invalid value encountered in multiply\n",
      "  sum_i += phi[i]*np.sum( mu[i]*( np.log(Y[i]+epsilon)*(U[i]-sum_omega) - U[i]*(digamma_alpha-np.sum(mu[i]*digamma_alpha)) ) )\n",
      "C:\\Users\\tnguyen001\\Documents\\GitHub\\maupiti\\dirichlet_regression.py:76: RuntimeWarning: overflow encountered in exp\n",
      "  exp_MXbeta = np.exp(MXbeta)\n",
      "C:\\Users\\tnguyen001\\Documents\\GitHub\\maupiti\\dirichlet_regression.py:78: RuntimeWarning: invalid value encountered in true_divide\n",
      "  mu = exp_MXbeta/sum_exp_MXbeta[:,None]\n",
      "C:\\Users\\tnguyen001\\Documents\\GitHub\\maupiti\\dirichlet_regression.py:122: RuntimeWarning: invalid value encountered in multiply\n",
      "  sum_mu_digamma_phi_mu = np.sum(mu[i] * digamma_phi_mu)\n",
      "C:\\Users\\tnguyen001\\Documents\\GitHub\\maupiti\\dirichlet_regression.py:136: RuntimeWarning: invalid value encountered in multiply\n",
      "  derivative_gamma += Z[i,:]*phi[i]*( digamma(phi[i])+np.sum( mu[i]*(np.log(Y[i]+epsilon)-digamma(phi[i]*mu[i])) ) )\n",
      "C:\\Users\\tnguyen001\\Documents\\GitHub\\maupiti\\dirichlet_regression.py:285: RuntimeWarning: invalid value encountered in multiply\n",
      "  sum_i += phi[i]*np.sum( mu[i]*( np.log(Y[i]+epsilon)*(U[i]-sum_omega) - U[i]*(digamma_alpha-np.sum(mu[i]*digamma_alpha)) ) )\n",
      "C:\\Users\\tnguyen001\\Documents\\GitHub\\maupiti\\dirichlet_regression.py:122: RuntimeWarning: invalid value encountered in multiply\n",
      "  sum_mu_digamma_phi_mu = np.sum(mu[i] * digamma_phi_mu)\n",
      "C:\\Users\\tnguyen001\\Documents\\GitHub\\maupiti\\dirichlet_regression.py:136: RuntimeWarning: invalid value encountered in multiply\n",
      "  derivative_gamma += Z[i,:]*phi[i]*( digamma(phi[i])+np.sum( mu[i]*(np.log(Y[i]+epsilon)-digamma(phi[i]*mu[i])) ) )\n",
      "C:\\Users\\tnguyen001\\Documents\\GitHub\\maupiti\\dirichlet_regression.py:285: RuntimeWarning: invalid value encountered in multiply\n",
      "  sum_i += phi[i]*np.sum( mu[i]*( np.log(Y[i]+epsilon)*(U[i]-sum_omega) - U[i]*(digamma_alpha-np.sum(mu[i]*digamma_alpha)) ) )\n",
      "<ipython-input-20-f0c0c0a7e579>:17: RuntimeWarning: invalid value encountered in true_divide\n",
      "  W = W/W.sum(axis=1)[:,None]\n"
     ]
    },
    {
     "name": "stdout",
     "output_type": "stream",
     "text": [
      "Factor is exactly singular\n",
      "Singular matrix\n"
     ]
    },
    {
     "name": "stderr",
     "output_type": "stream",
     "text": [
      "<ipython-input-20-f0c0c0a7e579>:17: RuntimeWarning: invalid value encountered in true_divide\n",
      "  W = W/W.sum(axis=1)[:,None]\n"
     ]
    },
    {
     "name": "stdout",
     "output_type": "stream",
     "text": [
      "Factor is exactly singular\n"
     ]
    },
    {
     "name": "stderr",
     "output_type": "stream",
     "text": [
      "C:\\Users\\tnguyen001\\Documents\\GitHub\\maupiti\\dirichlet_regression.py:122: RuntimeWarning: invalid value encountered in multiply\n",
      "  sum_mu_digamma_phi_mu = np.sum(mu[i] * digamma_phi_mu)\n",
      "C:\\Users\\tnguyen001\\Documents\\GitHub\\maupiti\\dirichlet_regression.py:136: RuntimeWarning: invalid value encountered in multiply\n",
      "  derivative_gamma += Z[i,:]*phi[i]*( digamma(phi[i])+np.sum( mu[i]*(np.log(Y[i]+epsilon)-digamma(phi[i]*mu[i])) ) )\n",
      "C:\\Users\\tnguyen001\\Documents\\GitHub\\maupiti\\dirichlet_regression.py:285: RuntimeWarning: invalid value encountered in multiply\n",
      "  sum_i += phi[i]*np.sum( mu[i]*( np.log(Y[i]+epsilon)*(U[i]-sum_omega) - U[i]*(digamma_alpha-np.sum(mu[i]*digamma_alpha)) ) )\n",
      "C:\\Users\\tnguyen001\\Documents\\GitHub\\maupiti\\dirichlet_regression.py:122: RuntimeWarning: invalid value encountered in multiply\n",
      "  sum_mu_digamma_phi_mu = np.sum(mu[i] * digamma_phi_mu)\n",
      "C:\\Users\\tnguyen001\\Documents\\GitHub\\maupiti\\dirichlet_regression.py:136: RuntimeWarning: invalid value encountered in multiply\n",
      "  derivative_gamma += Z[i,:]*phi[i]*( digamma(phi[i])+np.sum( mu[i]*(np.log(Y[i]+epsilon)-digamma(phi[i]*mu[i])) ) )\n",
      "C:\\Users\\tnguyen001\\Documents\\GitHub\\maupiti\\dirichlet_regression.py:285: RuntimeWarning: invalid value encountered in multiply\n",
      "  sum_i += phi[i]*np.sum( mu[i]*( np.log(Y[i]+epsilon)*(U[i]-sum_omega) - U[i]*(digamma_alpha-np.sum(mu[i]*digamma_alpha)) ) )\n",
      "<ipython-input-20-f0c0c0a7e579>:17: RuntimeWarning: invalid value encountered in true_divide\n",
      "  W = W/W.sum(axis=1)[:,None]\n"
     ]
    },
    {
     "name": "stdout",
     "output_type": "stream",
     "text": [
      "Factor is exactly singular\n"
     ]
    },
    {
     "name": "stderr",
     "output_type": "stream",
     "text": [
      "C:\\Users\\tnguyen001\\Documents\\GitHub\\maupiti\\dirichlet_regression.py:76: RuntimeWarning: overflow encountered in exp\n",
      "  exp_MXbeta = np.exp(MXbeta)\n",
      "C:\\Users\\tnguyen001\\Documents\\GitHub\\maupiti\\dirichlet_regression.py:78: RuntimeWarning: invalid value encountered in true_divide\n",
      "  mu = exp_MXbeta/sum_exp_MXbeta[:,None]\n",
      "C:\\Users\\tnguyen001\\Documents\\GitHub\\maupiti\\dirichlet_regression.py:122: RuntimeWarning: invalid value encountered in multiply\n",
      "  sum_mu_digamma_phi_mu = np.sum(mu[i] * digamma_phi_mu)\n",
      "C:\\Users\\tnguyen001\\Documents\\GitHub\\maupiti\\dirichlet_regression.py:136: RuntimeWarning: invalid value encountered in multiply\n",
      "  derivative_gamma += Z[i,:]*phi[i]*( digamma(phi[i])+np.sum( mu[i]*(np.log(Y[i]+epsilon)-digamma(phi[i]*mu[i])) ) )\n",
      "C:\\Users\\tnguyen001\\Documents\\GitHub\\maupiti\\dirichlet_regression.py:285: RuntimeWarning: invalid value encountered in multiply\n",
      "  sum_i += phi[i]*np.sum( mu[i]*( np.log(Y[i]+epsilon)*(U[i]-sum_omega) - U[i]*(digamma_alpha-np.sum(mu[i]*digamma_alpha)) ) )\n",
      "<ipython-input-20-f0c0c0a7e579>:17: RuntimeWarning: invalid value encountered in true_divide\n",
      "  W = W/W.sum(axis=1)[:,None]\n"
     ]
    },
    {
     "name": "stdout",
     "output_type": "stream",
     "text": [
      "Factor is exactly singular\n",
      "Factor is exactly singular\n",
      "Singular matrix\n",
      "Factor is exactly singular\n"
     ]
    },
    {
     "name": "stderr",
     "output_type": "stream",
     "text": [
      "<ipython-input-20-f0c0c0a7e579>:17: RuntimeWarning: invalid value encountered in true_divide\n",
      "  W = W/W.sum(axis=1)[:,None]\n",
      "C:\\Users\\tnguyen001\\Documents\\GitHub\\maupiti\\dirichlet_regression.py:76: RuntimeWarning: overflow encountered in exp\n",
      "  exp_MXbeta = np.exp(MXbeta)\n",
      "C:\\Users\\tnguyen001\\Documents\\GitHub\\maupiti\\dirichlet_regression.py:78: RuntimeWarning: invalid value encountered in true_divide\n",
      "  mu = exp_MXbeta/sum_exp_MXbeta[:,None]\n",
      "C:\\Users\\tnguyen001\\Documents\\GitHub\\maupiti\\dirichlet_regression.py:122: RuntimeWarning: invalid value encountered in multiply\n",
      "  sum_mu_digamma_phi_mu = np.sum(mu[i] * digamma_phi_mu)\n",
      "C:\\Users\\tnguyen001\\Documents\\GitHub\\maupiti\\dirichlet_regression.py:136: RuntimeWarning: invalid value encountered in multiply\n",
      "  derivative_gamma += Z[i,:]*phi[i]*( digamma(phi[i])+np.sum( mu[i]*(np.log(Y[i]+epsilon)-digamma(phi[i]*mu[i])) ) )\n",
      "C:\\Users\\tnguyen001\\Documents\\GitHub\\maupiti\\dirichlet_regression.py:285: RuntimeWarning: invalid value encountered in multiply\n",
      "  sum_i += phi[i]*np.sum( mu[i]*( np.log(Y[i]+epsilon)*(U[i]-sum_omega) - U[i]*(digamma_alpha-np.sum(mu[i]*digamma_alpha)) ) )\n",
      "<ipython-input-20-f0c0c0a7e579>:17: RuntimeWarning: invalid value encountered in true_divide\n",
      "  W = W/W.sum(axis=1)[:,None]\n"
     ]
    },
    {
     "name": "stdout",
     "output_type": "stream",
     "text": [
      "Factor is exactly singular\n"
     ]
    },
    {
     "name": "stderr",
     "output_type": "stream",
     "text": [
      "C:\\Users\\tnguyen001\\Documents\\GitHub\\maupiti\\dirichlet_regression.py:76: RuntimeWarning: overflow encountered in exp\n",
      "  exp_MXbeta = np.exp(MXbeta)\n",
      "C:\\Users\\tnguyen001\\Documents\\GitHub\\maupiti\\dirichlet_regression.py:78: RuntimeWarning: invalid value encountered in true_divide\n",
      "  mu = exp_MXbeta/sum_exp_MXbeta[:,None]\n",
      "C:\\Users\\tnguyen001\\Documents\\GitHub\\maupiti\\dirichlet_regression.py:122: RuntimeWarning: invalid value encountered in multiply\n",
      "  sum_mu_digamma_phi_mu = np.sum(mu[i] * digamma_phi_mu)\n",
      "C:\\Users\\tnguyen001\\Documents\\GitHub\\maupiti\\dirichlet_regression.py:136: RuntimeWarning: invalid value encountered in multiply\n",
      "  derivative_gamma += Z[i,:]*phi[i]*( digamma(phi[i])+np.sum( mu[i]*(np.log(Y[i]+epsilon)-digamma(phi[i]*mu[i])) ) )\n",
      "C:\\Users\\tnguyen001\\Documents\\GitHub\\maupiti\\dirichlet_regression.py:285: RuntimeWarning: invalid value encountered in multiply\n",
      "  sum_i += phi[i]*np.sum( mu[i]*( np.log(Y[i]+epsilon)*(U[i]-sum_omega) - U[i]*(digamma_alpha-np.sum(mu[i]*digamma_alpha)) ) )\n",
      "C:\\Users\\tnguyen001\\Documents\\GitHub\\maupiti\\dirichlet_regression.py:76: RuntimeWarning: overflow encountered in exp\n",
      "  exp_MXbeta = np.exp(MXbeta)\n",
      "C:\\Users\\tnguyen001\\Documents\\GitHub\\maupiti\\dirichlet_regression.py:78: RuntimeWarning: invalid value encountered in true_divide\n",
      "  mu = exp_MXbeta/sum_exp_MXbeta[:,None]\n",
      "C:\\Users\\tnguyen001\\Documents\\GitHub\\maupiti\\dirichlet_regression.py:122: RuntimeWarning: invalid value encountered in multiply\n",
      "  sum_mu_digamma_phi_mu = np.sum(mu[i] * digamma_phi_mu)\n",
      "C:\\Users\\tnguyen001\\Documents\\GitHub\\maupiti\\dirichlet_regression.py:136: RuntimeWarning: invalid value encountered in multiply\n",
      "  derivative_gamma += Z[i,:]*phi[i]*( digamma(phi[i])+np.sum( mu[i]*(np.log(Y[i]+epsilon)-digamma(phi[i]*mu[i])) ) )\n",
      "C:\\Users\\tnguyen001\\Documents\\GitHub\\maupiti\\dirichlet_regression.py:285: RuntimeWarning: invalid value encountered in multiply\n",
      "  sum_i += phi[i]*np.sum( mu[i]*( np.log(Y[i]+epsilon)*(U[i]-sum_omega) - U[i]*(digamma_alpha-np.sum(mu[i]*digamma_alpha)) ) )\n",
      "C:\\Users\\tnguyen001\\Documents\\GitHub\\maupiti\\dirichlet_regression.py:122: RuntimeWarning: invalid value encountered in multiply\n",
      "  sum_mu_digamma_phi_mu = np.sum(mu[i] * digamma_phi_mu)\n",
      "C:\\Users\\tnguyen001\\Documents\\GitHub\\maupiti\\dirichlet_regression.py:136: RuntimeWarning: invalid value encountered in multiply\n",
      "  derivative_gamma += Z[i,:]*phi[i]*( digamma(phi[i])+np.sum( mu[i]*(np.log(Y[i]+epsilon)-digamma(phi[i]*mu[i])) ) )\n",
      "C:\\Users\\tnguyen001\\Documents\\GitHub\\maupiti\\dirichlet_regression.py:285: RuntimeWarning: invalid value encountered in multiply\n",
      "  sum_i += phi[i]*np.sum( mu[i]*( np.log(Y[i]+epsilon)*(U[i]-sum_omega) - U[i]*(digamma_alpha-np.sum(mu[i]*digamma_alpha)) ) )\n",
      "C:\\Users\\tnguyen001\\Documents\\GitHub\\maupiti\\dirichlet_regression.py:76: RuntimeWarning: overflow encountered in exp\n",
      "  exp_MXbeta = np.exp(MXbeta)\n",
      "C:\\Users\\tnguyen001\\Documents\\GitHub\\maupiti\\dirichlet_regression.py:78: RuntimeWarning: invalid value encountered in true_divide\n",
      "  mu = exp_MXbeta/sum_exp_MXbeta[:,None]\n",
      "C:\\Users\\tnguyen001\\Documents\\GitHub\\maupiti\\dirichlet_regression.py:122: RuntimeWarning: invalid value encountered in multiply\n",
      "  sum_mu_digamma_phi_mu = np.sum(mu[i] * digamma_phi_mu)\n",
      "C:\\Users\\tnguyen001\\Documents\\GitHub\\maupiti\\dirichlet_regression.py:136: RuntimeWarning: invalid value encountered in multiply\n",
      "  derivative_gamma += Z[i,:]*phi[i]*( digamma(phi[i])+np.sum( mu[i]*(np.log(Y[i]+epsilon)-digamma(phi[i]*mu[i])) ) )\n",
      "C:\\Users\\tnguyen001\\Documents\\GitHub\\maupiti\\dirichlet_regression.py:285: RuntimeWarning: invalid value encountered in multiply\n",
      "  sum_i += phi[i]*np.sum( mu[i]*( np.log(Y[i]+epsilon)*(U[i]-sum_omega) - U[i]*(digamma_alpha-np.sum(mu[i]*digamma_alpha)) ) )\n",
      "C:\\Users\\tnguyen001\\Documents\\GitHub\\maupiti\\dirichlet_regression.py:76: RuntimeWarning: overflow encountered in exp\n",
      "  exp_MXbeta = np.exp(MXbeta)\n",
      "C:\\Users\\tnguyen001\\Documents\\GitHub\\maupiti\\dirichlet_regression.py:78: RuntimeWarning: invalid value encountered in true_divide\n",
      "  mu = exp_MXbeta/sum_exp_MXbeta[:,None]\n",
      "C:\\Users\\tnguyen001\\Documents\\GitHub\\maupiti\\dirichlet_regression.py:122: RuntimeWarning: invalid value encountered in multiply\n",
      "  sum_mu_digamma_phi_mu = np.sum(mu[i] * digamma_phi_mu)\n",
      "C:\\Users\\tnguyen001\\Documents\\GitHub\\maupiti\\dirichlet_regression.py:136: RuntimeWarning: invalid value encountered in multiply\n",
      "  derivative_gamma += Z[i,:]*phi[i]*( digamma(phi[i])+np.sum( mu[i]*(np.log(Y[i]+epsilon)-digamma(phi[i]*mu[i])) ) )\n",
      "C:\\Users\\tnguyen001\\Documents\\GitHub\\maupiti\\dirichlet_regression.py:285: RuntimeWarning: invalid value encountered in multiply\n",
      "  sum_i += phi[i]*np.sum( mu[i]*( np.log(Y[i]+epsilon)*(U[i]-sum_omega) - U[i]*(digamma_alpha-np.sum(mu[i]*digamma_alpha)) ) )\n",
      "<ipython-input-20-f0c0c0a7e579>:17: RuntimeWarning: invalid value encountered in true_divide\n",
      "  W = W/W.sum(axis=1)[:,None]\n"
     ]
    },
    {
     "name": "stdout",
     "output_type": "stream",
     "text": [
      "Factor is exactly singular\n"
     ]
    },
    {
     "name": "stderr",
     "output_type": "stream",
     "text": [
      "C:\\Users\\tnguyen001\\Documents\\GitHub\\maupiti\\dirichlet_regression.py:76: RuntimeWarning: overflow encountered in exp\n",
      "  exp_MXbeta = np.exp(MXbeta)\n",
      "C:\\Users\\tnguyen001\\Documents\\GitHub\\maupiti\\dirichlet_regression.py:78: RuntimeWarning: invalid value encountered in true_divide\n",
      "  mu = exp_MXbeta/sum_exp_MXbeta[:,None]\n",
      "C:\\Users\\tnguyen001\\Documents\\GitHub\\maupiti\\dirichlet_regression.py:122: RuntimeWarning: invalid value encountered in multiply\n",
      "  sum_mu_digamma_phi_mu = np.sum(mu[i] * digamma_phi_mu)\n",
      "C:\\Users\\tnguyen001\\Documents\\GitHub\\maupiti\\dirichlet_regression.py:136: RuntimeWarning: invalid value encountered in multiply\n",
      "  derivative_gamma += Z[i,:]*phi[i]*( digamma(phi[i])+np.sum( mu[i]*(np.log(Y[i]+epsilon)-digamma(phi[i]*mu[i])) ) )\n",
      "C:\\Users\\tnguyen001\\Documents\\GitHub\\maupiti\\dirichlet_regression.py:285: RuntimeWarning: invalid value encountered in multiply\n",
      "  sum_i += phi[i]*np.sum( mu[i]*( np.log(Y[i]+epsilon)*(U[i]-sum_omega) - U[i]*(digamma_alpha-np.sum(mu[i]*digamma_alpha)) ) )\n"
     ]
    },
    {
     "name": "stdout",
     "output_type": "stream",
     "text": [
      "Factor is exactly singular\n"
     ]
    },
    {
     "name": "stderr",
     "output_type": "stream",
     "text": [
      "C:\\Users\\tnguyen001\\Documents\\GitHub\\maupiti\\dirichlet_regression.py:76: RuntimeWarning: overflow encountered in exp\n",
      "  exp_MXbeta = np.exp(MXbeta)\n",
      "C:\\Users\\tnguyen001\\Documents\\GitHub\\maupiti\\dirichlet_regression.py:78: RuntimeWarning: invalid value encountered in true_divide\n",
      "  mu = exp_MXbeta/sum_exp_MXbeta[:,None]\n",
      "C:\\Users\\tnguyen001\\Documents\\GitHub\\maupiti\\dirichlet_regression.py:122: RuntimeWarning: invalid value encountered in multiply\n",
      "  sum_mu_digamma_phi_mu = np.sum(mu[i] * digamma_phi_mu)\n",
      "C:\\Users\\tnguyen001\\Documents\\GitHub\\maupiti\\dirichlet_regression.py:136: RuntimeWarning: invalid value encountered in multiply\n",
      "  derivative_gamma += Z[i,:]*phi[i]*( digamma(phi[i])+np.sum( mu[i]*(np.log(Y[i]+epsilon)-digamma(phi[i]*mu[i])) ) )\n",
      "C:\\Users\\tnguyen001\\Documents\\GitHub\\maupiti\\dirichlet_regression.py:285: RuntimeWarning: invalid value encountered in multiply\n",
      "  sum_i += phi[i]*np.sum( mu[i]*( np.log(Y[i]+epsilon)*(U[i]-sum_omega) - U[i]*(digamma_alpha-np.sum(mu[i]*digamma_alpha)) ) )\n",
      "C:\\Users\\tnguyen001\\Documents\\GitHub\\maupiti\\dirichlet_regression.py:76: RuntimeWarning: overflow encountered in exp\n",
      "  exp_MXbeta = np.exp(MXbeta)\n",
      "C:\\Users\\tnguyen001\\Documents\\GitHub\\maupiti\\dirichlet_regression.py:78: RuntimeWarning: invalid value encountered in true_divide\n",
      "  mu = exp_MXbeta/sum_exp_MXbeta[:,None]\n",
      "C:\\Users\\tnguyen001\\Documents\\GitHub\\maupiti\\dirichlet_regression.py:122: RuntimeWarning: invalid value encountered in multiply\n",
      "  sum_mu_digamma_phi_mu = np.sum(mu[i] * digamma_phi_mu)\n",
      "C:\\Users\\tnguyen001\\Documents\\GitHub\\maupiti\\dirichlet_regression.py:136: RuntimeWarning: invalid value encountered in multiply\n",
      "  derivative_gamma += Z[i,:]*phi[i]*( digamma(phi[i])+np.sum( mu[i]*(np.log(Y[i]+epsilon)-digamma(phi[i]*mu[i])) ) )\n",
      "C:\\Users\\tnguyen001\\Documents\\GitHub\\maupiti\\dirichlet_regression.py:285: RuntimeWarning: invalid value encountered in multiply\n",
      "  sum_i += phi[i]*np.sum( mu[i]*( np.log(Y[i]+epsilon)*(U[i]-sum_omega) - U[i]*(digamma_alpha-np.sum(mu[i]*digamma_alpha)) ) )\n"
     ]
    },
    {
     "name": "stdout",
     "output_type": "stream",
     "text": [
      "Singular matrix\n"
     ]
    },
    {
     "name": "stderr",
     "output_type": "stream",
     "text": [
      "<ipython-input-20-f0c0c0a7e579>:17: RuntimeWarning: invalid value encountered in true_divide\n",
      "  W = W/W.sum(axis=1)[:,None]\n"
     ]
    },
    {
     "name": "stdout",
     "output_type": "stream",
     "text": [
      "Factor is exactly singular\n"
     ]
    },
    {
     "name": "stderr",
     "output_type": "stream",
     "text": [
      "<ipython-input-20-f0c0c0a7e579>:17: RuntimeWarning: invalid value encountered in true_divide\n",
      "  W = W/W.sum(axis=1)[:,None]\n"
     ]
    },
    {
     "name": "stdout",
     "output_type": "stream",
     "text": [
      "Factor is exactly singular\n"
     ]
    },
    {
     "name": "stderr",
     "output_type": "stream",
     "text": [
      "C:\\Users\\tnguyen001\\Documents\\GitHub\\maupiti\\dirichlet_regression.py:122: RuntimeWarning: invalid value encountered in multiply\n",
      "  sum_mu_digamma_phi_mu = np.sum(mu[i] * digamma_phi_mu)\n",
      "C:\\Users\\tnguyen001\\Documents\\GitHub\\maupiti\\dirichlet_regression.py:136: RuntimeWarning: invalid value encountered in multiply\n",
      "  derivative_gamma += Z[i,:]*phi[i]*( digamma(phi[i])+np.sum( mu[i]*(np.log(Y[i]+epsilon)-digamma(phi[i]*mu[i])) ) )\n",
      "C:\\Users\\tnguyen001\\Documents\\GitHub\\maupiti\\dirichlet_regression.py:285: RuntimeWarning: invalid value encountered in multiply\n",
      "  sum_i += phi[i]*np.sum( mu[i]*( np.log(Y[i]+epsilon)*(U[i]-sum_omega) - U[i]*(digamma_alpha-np.sum(mu[i]*digamma_alpha)) ) )\n",
      "C:\\Users\\tnguyen001\\Documents\\GitHub\\maupiti\\dirichlet_regression.py:76: RuntimeWarning: overflow encountered in exp\n",
      "  exp_MXbeta = np.exp(MXbeta)\n",
      "C:\\Users\\tnguyen001\\Documents\\GitHub\\maupiti\\dirichlet_regression.py:78: RuntimeWarning: invalid value encountered in true_divide\n",
      "  mu = exp_MXbeta/sum_exp_MXbeta[:,None]\n"
     ]
    },
    {
     "name": "stdout",
     "output_type": "stream",
     "text": [
      "Factor is exactly singular\n",
      "Wall time: 25min 33s\n"
     ]
    }
   ],
   "source": [
    "%%time\n",
    "n_repeat = 100\n",
    "\n",
    "list_solutions_spatial = []\n",
    "list_solutions_no_spatial = []\n",
    "\n",
    "list_n_samples = [50,200,1000]\n",
    "list_threshold_neighb = [0.3,0.14,0.06]\n",
    "\n",
    "seed=0\n",
    "\n",
    "for i in range(3):\n",
    "    n_samples = list_n_samples[i]\n",
    "    threshold_neighb = list_threshold_neighb[i]\n",
    "    \n",
    "    true_params = np.concatenate([beta.flatten(),gamma_var, [rho]])\n",
    "    \n",
    "    solutions_spatial_temp = []\n",
    "    solutions_no_spatial_temp = []\n",
    "    for _ in range(n_repeat):\n",
    "        np.random.seed(seed)\n",
    "        \n",
    "        X,Z,W = create_features_matrices(n_samples,n_features,threshold_neighbors=threshold_neighb)\n",
    "        try:\n",
    "            mu = dirichlet_regression.compute_mu_spatial(X, beta, rho, W)\n",
    "            phi = np.exp(np.matmul(Z,gamma_var))\n",
    "            alpha = mu*phi[:,None]\n",
    "\n",
    "            Y = np.array([np.random.dirichlet(alpha_i) for alpha_i in alpha])\n",
    "            Y = (Y*(n_samples-1)+1/n_classes)/n_samples\n",
    "\n",
    "            solution_spatial = minimize(f_spatial, params0_spatial, args=(X, Y, Z, W), bounds=bounds_1, jac=fprime_spatial)\n",
    "            solutions_spatial_temp.append(solution_spatial.x)\n",
    "\n",
    "            solution_no_spatial = minimize(f_no_spatial, params0_no_spatial, args=(X, Y, Z), jac=fprime_no_spatial)\n",
    "            solutions_no_spatial_temp.append(solution_no_spatial.x)\n",
    "        except RuntimeError:\n",
    "            print(\"Factor is exactly singular\")\n",
    "        except np.linalg.LinAlgError:\n",
    "            print(\"Singular matrix\")\n",
    "        \n",
    "        seed+=1\n",
    "    list_solutions_spatial.append(solutions_spatial_temp)\n",
    "    list_solutions_no_spatial.append(solutions_no_spatial_temp)\n",
    "    "
   ]
  },
  {
   "cell_type": "code",
   "execution_count": 120,
   "metadata": {},
   "outputs": [
    {
     "name": "stderr",
     "output_type": "stream",
     "text": [
      "C:\\Users\\tnguyen001\\AppData\\Roaming\\Python\\Python38\\site-packages\\numpy\\core\\_asarray.py:136: VisibleDeprecationWarning: Creating an ndarray from ragged nested sequences (which is a list-or-tuple of lists-or-tuples-or ndarrays with different lengths or shapes) is deprecated. If you meant to do this, you must specify 'dtype=object' when creating the ndarray\n",
      "  return array(a, dtype, copy=False, order=order, subok=True)\n"
     ]
    }
   ],
   "source": [
    "np.save('Data Dirichlet/spatial_rho09.npy',list_solutions_spatial)\n",
    "np.save('Data Dirichlet/no_spatial_rho09.npy',list_solutions_no_spatial)"
   ]
  },
  {
   "cell_type": "code",
   "execution_count": 16,
   "metadata": {},
   "outputs": [],
   "source": [
    "list_solutions_spatial = np.load('Data Dirichlet/spatial_rho09.npy',allow_pickle=True)\n",
    "list_solutions_no_spatial = np.load('Data Dirichlet/no_spatial_rho09.npy',allow_pickle=True)"
   ]
  },
  {
   "cell_type": "code",
   "execution_count": 121,
   "metadata": {},
   "outputs": [
    {
     "name": "stdout",
     "output_type": "stream",
     "text": [
      "Wall time: 5min\n"
     ]
    }
   ],
   "source": [
    "%%time\n",
    "n_repeat = 100\n",
    "\n",
    "size_test = 1000\n",
    "\n",
    "list_n_samples = [50,200,1000]\n",
    "\n",
    "list_r2_s = []\n",
    "list_rmse_s = []\n",
    "list_ll_s = []\n",
    "list_crossentropy_s = []\n",
    "list_r2_ns = []\n",
    "list_rmse_ns = []\n",
    "list_ll_ns = []\n",
    "list_crossentropy_ns = []\n",
    "\n",
    "seed=0\n",
    "\n",
    "true_params = np.concatenate([beta.flatten(),gamma_var, [rho]])\n",
    "\n",
    "for n_samples_index in range(3):\n",
    "    list_r2_s_temp = []\n",
    "    list_rmse_s_temp = []\n",
    "    list_ll_s_temp = []\n",
    "    list_crossentropy_s_temp = []\n",
    "    list_r2_ns_temp = []\n",
    "    list_rmse_ns_temp = []\n",
    "    list_ll_ns_temp = []\n",
    "    list_crossentropy_ns_temp = []\n",
    "    for i in range(len(list_solutions_spatial[n_samples_index])):\n",
    "        np.random.seed(seed+1000)\n",
    "        \n",
    "        X,Z,W = create_features_matrices(size_test,n_features)\n",
    "        try:\n",
    "            mu = dirichlet_regression.compute_mu_spatial(X, beta, rho, W)\n",
    "            phi = np.exp(np.matmul(Z,gamma_var))\n",
    "            alpha = mu*phi[:,None]\n",
    "\n",
    "            Y = np.array([np.random.dirichlet(alpha_i) for alpha_i in alpha])\n",
    "            Y = (Y*(size_test-1)+1/n_classes)/size_test\n",
    "\n",
    "            solution_spatial = list_solutions_spatial[n_samples_index][i]\n",
    "            beta_sol_s = solution_spatial[:(n_features+1)*n_classes].reshape((n_features+1),n_classes)\n",
    "            gamma_sol_s = solution_spatial[(n_features+1)*n_classes:-1]\n",
    "            rho_sol_s = solution_spatial[-1]\n",
    "            mu_sol_s = dirichlet_regression.compute_mu_spatial_2(X, beta_sol_s, rho_sol_s, W)\n",
    "            phi_s = np.exp(np.matmul(Z,gamma_sol_s))\n",
    "            \n",
    "            list_r2_s_temp.append(r2_score(Y,mu_sol_s))\n",
    "            list_rmse_s_temp.append(mean_squared_error(Y,mu_sol_s,squared=False))\n",
    "            list_ll_s_temp.append(dirichlet_regression.dirichlet_loglikelihood(mu_sol_s,phi_s,Y))\n",
    "            list_crossentropy_s_temp.append(-(1/size_test)*np.sum(Y*np.log(mu_sol_s)))\n",
    "            \n",
    "            solution_no_spatial = list_solutions_no_spatial[n_samples_index][i]\n",
    "            beta_sol_ns = solution_no_spatial[:(n_features+1)*n_classes].reshape((n_features+1),n_classes)\n",
    "            gamma_sol_ns = solution_no_spatial[(n_features+1)*n_classes:]\n",
    "            mu_sol_ns = dirichlet_regression.compute_mu_3(X, beta_sol_ns)\n",
    "            phi_ns = np.exp(np.matmul(Z,gamma_sol_ns))\n",
    "            \n",
    "            list_r2_ns_temp.append(r2_score(Y,mu_sol_ns))\n",
    "            list_rmse_ns_temp.append(mean_squared_error(Y,mu_sol_ns,squared=False))\n",
    "            list_ll_ns_temp.append(dirichlet_regression.dirichlet_loglikelihood(mu_sol_ns,phi_ns,Y))\n",
    "            list_crossentropy_ns_temp.append(-(1/size_test)*np.sum(Y*np.log(mu_sol_ns)))\n",
    "            \n",
    "            \n",
    "        except RuntimeError:\n",
    "            print(\"Factor is exactly singular\")\n",
    "        except np.linalg.LinAlgError:\n",
    "            print(\"Singular matrix\")\n",
    "        \n",
    "        seed+=1\n",
    "    list_r2_s.append(list_r2_s_temp)\n",
    "    list_rmse_s.append(list_rmse_s_temp)\n",
    "    list_ll_s.append(list_ll_s_temp)\n",
    "    list_crossentropy_s.append(list_crossentropy_s_temp)\n",
    "    list_r2_ns.append(list_r2_ns_temp)\n",
    "    list_rmse_ns.append(list_rmse_ns_temp)\n",
    "    list_ll_ns.append(list_ll_ns_temp)\n",
    "    list_crossentropy_ns.append(list_crossentropy_ns_temp)"
   ]
  },
  {
   "cell_type": "code",
   "execution_count": 122,
   "metadata": {},
   "outputs": [
    {
     "name": "stderr",
     "output_type": "stream",
     "text": [
      "C:\\Users\\tnguyen001\\AppData\\Roaming\\Python\\Python38\\site-packages\\numpy\\core\\_asarray.py:136: VisibleDeprecationWarning: Creating an ndarray from ragged nested sequences (which is a list-or-tuple of lists-or-tuples-or ndarrays with different lengths or shapes) is deprecated. If you meant to do this, you must specify 'dtype=object' when creating the ndarray\n",
      "  return array(a, dtype, copy=False, order=order, subok=True)\n"
     ]
    }
   ],
   "source": [
    "np.save('Data Dirichlet/list_r2_s_rho09.npy', list_r2_s)\n",
    "np.save('Data Dirichlet/list_rmse_s_rho09.npy', list_rmse_s)\n",
    "np.save('Data Dirichlet/list_ll_s_rho09.npy', list_ll_s)\n",
    "np.save('Data Dirichlet/list_crossentropy_s_rho09.npy', list_crossentropy_s)\n",
    "np.save('Data Dirichlet/list_r2_ns_rho09.npy', list_r2_ns)\n",
    "np.save('Data Dirichlet/list_rmse_ns_rho09.npy', list_rmse_ns)\n",
    "np.save('Data Dirichlet/list_ll_ns_rho09.npy', list_ll_ns)\n",
    "np.save('Data Dirichlet/list_crossentropy_ns_rho09.npy', list_crossentropy_ns)"
   ]
  },
  {
   "cell_type": "code",
   "execution_count": 133,
   "metadata": {},
   "outputs": [
    {
     "data": {
      "text/plain": [
       "0.195225564307434"
      ]
     },
     "execution_count": 133,
     "metadata": {},
     "output_type": "execute_result"
    }
   ],
   "source": [
    "np.mean(list_r2_s[1])"
   ]
  },
  {
   "cell_type": "code",
   "execution_count": 134,
   "metadata": {},
   "outputs": [
    {
     "data": {
      "text/plain": [
       "0.3226829871790529"
      ]
     },
     "execution_count": 134,
     "metadata": {},
     "output_type": "execute_result"
    }
   ],
   "source": [
    "np.mean(list_r2_ns[1])"
   ]
  },
  {
   "cell_type": "markdown",
   "metadata": {},
   "source": [
    "## rho = 0.1"
   ]
  },
  {
   "cell_type": "code",
   "execution_count": 136,
   "metadata": {},
   "outputs": [],
   "source": [
    "rho = 0.1"
   ]
  },
  {
   "cell_type": "code",
   "execution_count": 137,
   "metadata": {},
   "outputs": [
    {
     "name": "stderr",
     "output_type": "stream",
     "text": [
      "<ipython-input-20-f0c0c0a7e579>:17: RuntimeWarning: invalid value encountered in true_divide\n",
      "  W = W/W.sum(axis=1)[:,None]\n"
     ]
    },
    {
     "name": "stdout",
     "output_type": "stream",
     "text": [
      "Factor is exactly singular\n",
      "Singular matrix\n"
     ]
    },
    {
     "name": "stderr",
     "output_type": "stream",
     "text": [
      "C:\\Users\\tnguyen001\\Documents\\GitHub\\maupiti\\dirichlet_regression.py:76: RuntimeWarning: overflow encountered in exp\n",
      "  exp_MXbeta = np.exp(MXbeta)\n",
      "C:\\Users\\tnguyen001\\Documents\\GitHub\\maupiti\\dirichlet_regression.py:78: RuntimeWarning: invalid value encountered in true_divide\n",
      "  mu = exp_MXbeta/sum_exp_MXbeta[:,None]\n",
      "C:\\Users\\tnguyen001\\Documents\\GitHub\\maupiti\\dirichlet_regression.py:122: RuntimeWarning: invalid value encountered in multiply\n",
      "  sum_mu_digamma_phi_mu = np.sum(mu[i] * digamma_phi_mu)\n",
      "C:\\Users\\tnguyen001\\Documents\\GitHub\\maupiti\\dirichlet_regression.py:136: RuntimeWarning: invalid value encountered in multiply\n",
      "  derivative_gamma += Z[i,:]*phi[i]*( digamma(phi[i])+np.sum( mu[i]*(np.log(Y[i]+epsilon)-digamma(phi[i]*mu[i])) ) )\n",
      "C:\\Users\\tnguyen001\\Documents\\GitHub\\maupiti\\dirichlet_regression.py:285: RuntimeWarning: invalid value encountered in multiply\n",
      "  sum_i += phi[i]*np.sum( mu[i]*( np.log(Y[i]+epsilon)*(U[i]-sum_omega) - U[i]*(digamma_alpha-np.sum(mu[i]*digamma_alpha)) ) )\n"
     ]
    },
    {
     "name": "stdout",
     "output_type": "stream",
     "text": [
      "Factor is exactly singular\n",
      "Singular matrix\n",
      "Singular matrix\n",
      "Factor is exactly singular\n",
      "Factor is exactly singular\n",
      "Factor is exactly singular\n",
      "Factor is exactly singular\n",
      "Factor is exactly singular\n"
     ]
    },
    {
     "name": "stderr",
     "output_type": "stream",
     "text": [
      "C:\\Users\\tnguyen001\\Documents\\GitHub\\maupiti\\dirichlet_regression.py:76: RuntimeWarning: overflow encountered in exp\n",
      "  exp_MXbeta = np.exp(MXbeta)\n",
      "C:\\Users\\tnguyen001\\Documents\\GitHub\\maupiti\\dirichlet_regression.py:78: RuntimeWarning: invalid value encountered in true_divide\n",
      "  mu = exp_MXbeta/sum_exp_MXbeta[:,None]\n",
      "C:\\Users\\tnguyen001\\Documents\\GitHub\\maupiti\\dirichlet_regression.py:122: RuntimeWarning: invalid value encountered in multiply\n",
      "  sum_mu_digamma_phi_mu = np.sum(mu[i] * digamma_phi_mu)\n",
      "C:\\Users\\tnguyen001\\Documents\\GitHub\\maupiti\\dirichlet_regression.py:136: RuntimeWarning: invalid value encountered in multiply\n",
      "  derivative_gamma += Z[i,:]*phi[i]*( digamma(phi[i])+np.sum( mu[i]*(np.log(Y[i]+epsilon)-digamma(phi[i]*mu[i])) ) )\n",
      "C:\\Users\\tnguyen001\\Documents\\GitHub\\maupiti\\dirichlet_regression.py:285: RuntimeWarning: invalid value encountered in multiply\n",
      "  sum_i += phi[i]*np.sum( mu[i]*( np.log(Y[i]+epsilon)*(U[i]-sum_omega) - U[i]*(digamma_alpha-np.sum(mu[i]*digamma_alpha)) ) )\n",
      "C:\\Users\\tnguyen001\\Documents\\GitHub\\maupiti\\dirichlet_regression.py:76: RuntimeWarning: overflow encountered in exp\n",
      "  exp_MXbeta = np.exp(MXbeta)\n",
      "C:\\Users\\tnguyen001\\Documents\\GitHub\\maupiti\\dirichlet_regression.py:78: RuntimeWarning: invalid value encountered in true_divide\n",
      "  mu = exp_MXbeta/sum_exp_MXbeta[:,None]\n",
      "C:\\Users\\tnguyen001\\Documents\\GitHub\\maupiti\\dirichlet_regression.py:122: RuntimeWarning: invalid value encountered in multiply\n",
      "  sum_mu_digamma_phi_mu = np.sum(mu[i] * digamma_phi_mu)\n",
      "C:\\Users\\tnguyen001\\Documents\\GitHub\\maupiti\\dirichlet_regression.py:136: RuntimeWarning: invalid value encountered in multiply\n",
      "  derivative_gamma += Z[i,:]*phi[i]*( digamma(phi[i])+np.sum( mu[i]*(np.log(Y[i]+epsilon)-digamma(phi[i]*mu[i])) ) )\n",
      "C:\\Users\\tnguyen001\\Documents\\GitHub\\maupiti\\dirichlet_regression.py:285: RuntimeWarning: invalid value encountered in multiply\n",
      "  sum_i += phi[i]*np.sum( mu[i]*( np.log(Y[i]+epsilon)*(U[i]-sum_omega) - U[i]*(digamma_alpha-np.sum(mu[i]*digamma_alpha)) ) )\n",
      "<ipython-input-20-f0c0c0a7e579>:17: RuntimeWarning: invalid value encountered in true_divide\n",
      "  W = W/W.sum(axis=1)[:,None]\n"
     ]
    },
    {
     "name": "stdout",
     "output_type": "stream",
     "text": [
      "Factor is exactly singular\n",
      "Factor is exactly singular\n",
      "Factor is exactly singular\n",
      "Factor is exactly singular\n"
     ]
    },
    {
     "name": "stderr",
     "output_type": "stream",
     "text": [
      "C:\\Users\\tnguyen001\\Documents\\GitHub\\maupiti\\dirichlet_regression.py:76: RuntimeWarning: overflow encountered in exp\n",
      "  exp_MXbeta = np.exp(MXbeta)\n",
      "C:\\Users\\tnguyen001\\Documents\\GitHub\\maupiti\\dirichlet_regression.py:78: RuntimeWarning: invalid value encountered in true_divide\n",
      "  mu = exp_MXbeta/sum_exp_MXbeta[:,None]\n",
      "C:\\Users\\tnguyen001\\Documents\\GitHub\\maupiti\\dirichlet_regression.py:122: RuntimeWarning: invalid value encountered in multiply\n",
      "  sum_mu_digamma_phi_mu = np.sum(mu[i] * digamma_phi_mu)\n",
      "C:\\Users\\tnguyen001\\Documents\\GitHub\\maupiti\\dirichlet_regression.py:136: RuntimeWarning: invalid value encountered in multiply\n",
      "  derivative_gamma += Z[i,:]*phi[i]*( digamma(phi[i])+np.sum( mu[i]*(np.log(Y[i]+epsilon)-digamma(phi[i]*mu[i])) ) )\n",
      "C:\\Users\\tnguyen001\\Documents\\GitHub\\maupiti\\dirichlet_regression.py:285: RuntimeWarning: invalid value encountered in multiply\n",
      "  sum_i += phi[i]*np.sum( mu[i]*( np.log(Y[i]+epsilon)*(U[i]-sum_omega) - U[i]*(digamma_alpha-np.sum(mu[i]*digamma_alpha)) ) )\n",
      "<ipython-input-20-f0c0c0a7e579>:17: RuntimeWarning: invalid value encountered in true_divide\n",
      "  W = W/W.sum(axis=1)[:,None]\n"
     ]
    },
    {
     "name": "stdout",
     "output_type": "stream",
     "text": [
      "Factor is exactly singular\n",
      "Factor is exactly singular\n"
     ]
    },
    {
     "name": "stderr",
     "output_type": "stream",
     "text": [
      "C:\\Users\\tnguyen001\\Documents\\GitHub\\maupiti\\dirichlet_regression.py:76: RuntimeWarning: overflow encountered in exp\n",
      "  exp_MXbeta = np.exp(MXbeta)\n",
      "C:\\Users\\tnguyen001\\Documents\\GitHub\\maupiti\\dirichlet_regression.py:78: RuntimeWarning: invalid value encountered in true_divide\n",
      "  mu = exp_MXbeta/sum_exp_MXbeta[:,None]\n",
      "C:\\Users\\tnguyen001\\Documents\\GitHub\\maupiti\\dirichlet_regression.py:122: RuntimeWarning: invalid value encountered in multiply\n",
      "  sum_mu_digamma_phi_mu = np.sum(mu[i] * digamma_phi_mu)\n",
      "C:\\Users\\tnguyen001\\Documents\\GitHub\\maupiti\\dirichlet_regression.py:136: RuntimeWarning: invalid value encountered in multiply\n",
      "  derivative_gamma += Z[i,:]*phi[i]*( digamma(phi[i])+np.sum( mu[i]*(np.log(Y[i]+epsilon)-digamma(phi[i]*mu[i])) ) )\n",
      "C:\\Users\\tnguyen001\\Documents\\GitHub\\maupiti\\dirichlet_regression.py:285: RuntimeWarning: invalid value encountered in multiply\n",
      "  sum_i += phi[i]*np.sum( mu[i]*( np.log(Y[i]+epsilon)*(U[i]-sum_omega) - U[i]*(digamma_alpha-np.sum(mu[i]*digamma_alpha)) ) )\n",
      "<ipython-input-20-f0c0c0a7e579>:17: RuntimeWarning: invalid value encountered in true_divide\n",
      "  W = W/W.sum(axis=1)[:,None]\n"
     ]
    },
    {
     "name": "stdout",
     "output_type": "stream",
     "text": [
      "Factor is exactly singular\n"
     ]
    },
    {
     "name": "stderr",
     "output_type": "stream",
     "text": [
      "C:\\Users\\tnguyen001\\Documents\\GitHub\\maupiti\\dirichlet_regression.py:76: RuntimeWarning: overflow encountered in exp\n",
      "  exp_MXbeta = np.exp(MXbeta)\n",
      "C:\\Users\\tnguyen001\\Documents\\GitHub\\maupiti\\dirichlet_regression.py:78: RuntimeWarning: invalid value encountered in true_divide\n",
      "  mu = exp_MXbeta/sum_exp_MXbeta[:,None]\n",
      "C:\\Users\\tnguyen001\\Documents\\GitHub\\maupiti\\dirichlet_regression.py:122: RuntimeWarning: invalid value encountered in multiply\n",
      "  sum_mu_digamma_phi_mu = np.sum(mu[i] * digamma_phi_mu)\n",
      "C:\\Users\\tnguyen001\\Documents\\GitHub\\maupiti\\dirichlet_regression.py:136: RuntimeWarning: invalid value encountered in multiply\n",
      "  derivative_gamma += Z[i,:]*phi[i]*( digamma(phi[i])+np.sum( mu[i]*(np.log(Y[i]+epsilon)-digamma(phi[i]*mu[i])) ) )\n",
      "C:\\Users\\tnguyen001\\Documents\\GitHub\\maupiti\\dirichlet_regression.py:285: RuntimeWarning: invalid value encountered in multiply\n",
      "  sum_i += phi[i]*np.sum( mu[i]*( np.log(Y[i]+epsilon)*(U[i]-sum_omega) - U[i]*(digamma_alpha-np.sum(mu[i]*digamma_alpha)) ) )\n",
      "C:\\Users\\tnguyen001\\Documents\\GitHub\\maupiti\\dirichlet_regression.py:76: RuntimeWarning: overflow encountered in exp\n",
      "  exp_MXbeta = np.exp(MXbeta)\n",
      "C:\\Users\\tnguyen001\\Documents\\GitHub\\maupiti\\dirichlet_regression.py:78: RuntimeWarning: invalid value encountered in true_divide\n",
      "  mu = exp_MXbeta/sum_exp_MXbeta[:,None]\n",
      "C:\\Users\\tnguyen001\\Documents\\GitHub\\maupiti\\dirichlet_regression.py:122: RuntimeWarning: invalid value encountered in multiply\n",
      "  sum_mu_digamma_phi_mu = np.sum(mu[i] * digamma_phi_mu)\n",
      "C:\\Users\\tnguyen001\\Documents\\GitHub\\maupiti\\dirichlet_regression.py:136: RuntimeWarning: invalid value encountered in multiply\n",
      "  derivative_gamma += Z[i,:]*phi[i]*( digamma(phi[i])+np.sum( mu[i]*(np.log(Y[i]+epsilon)-digamma(phi[i]*mu[i])) ) )\n",
      "C:\\Users\\tnguyen001\\Documents\\GitHub\\maupiti\\dirichlet_regression.py:285: RuntimeWarning: invalid value encountered in multiply\n",
      "  sum_i += phi[i]*np.sum( mu[i]*( np.log(Y[i]+epsilon)*(U[i]-sum_omega) - U[i]*(digamma_alpha-np.sum(mu[i]*digamma_alpha)) ) )\n",
      "<ipython-input-20-f0c0c0a7e579>:17: RuntimeWarning: invalid value encountered in true_divide\n",
      "  W = W/W.sum(axis=1)[:,None]\n"
     ]
    },
    {
     "name": "stdout",
     "output_type": "stream",
     "text": [
      "Factor is exactly singular\n",
      "Factor is exactly singular\n"
     ]
    },
    {
     "name": "stderr",
     "output_type": "stream",
     "text": [
      "C:\\Users\\tnguyen001\\Documents\\GitHub\\maupiti\\dirichlet_regression.py:76: RuntimeWarning: overflow encountered in exp\n",
      "  exp_MXbeta = np.exp(MXbeta)\n",
      "C:\\Users\\tnguyen001\\Documents\\GitHub\\maupiti\\dirichlet_regression.py:78: RuntimeWarning: invalid value encountered in true_divide\n",
      "  mu = exp_MXbeta/sum_exp_MXbeta[:,None]\n",
      "C:\\Users\\tnguyen001\\Documents\\GitHub\\maupiti\\dirichlet_regression.py:122: RuntimeWarning: invalid value encountered in multiply\n",
      "  sum_mu_digamma_phi_mu = np.sum(mu[i] * digamma_phi_mu)\n",
      "C:\\Users\\tnguyen001\\Documents\\GitHub\\maupiti\\dirichlet_regression.py:136: RuntimeWarning: invalid value encountered in multiply\n",
      "  derivative_gamma += Z[i,:]*phi[i]*( digamma(phi[i])+np.sum( mu[i]*(np.log(Y[i]+epsilon)-digamma(phi[i]*mu[i])) ) )\n",
      "C:\\Users\\tnguyen001\\Documents\\GitHub\\maupiti\\dirichlet_regression.py:285: RuntimeWarning: invalid value encountered in multiply\n",
      "  sum_i += phi[i]*np.sum( mu[i]*( np.log(Y[i]+epsilon)*(U[i]-sum_omega) - U[i]*(digamma_alpha-np.sum(mu[i]*digamma_alpha)) ) )\n",
      "C:\\Users\\tnguyen001\\Documents\\GitHub\\maupiti\\dirichlet_regression.py:76: RuntimeWarning: overflow encountered in exp\n",
      "  exp_MXbeta = np.exp(MXbeta)\n",
      "C:\\Users\\tnguyen001\\Documents\\GitHub\\maupiti\\dirichlet_regression.py:78: RuntimeWarning: invalid value encountered in true_divide\n",
      "  mu = exp_MXbeta/sum_exp_MXbeta[:,None]\n",
      "C:\\Users\\tnguyen001\\Documents\\GitHub\\maupiti\\dirichlet_regression.py:122: RuntimeWarning: invalid value encountered in multiply\n",
      "  sum_mu_digamma_phi_mu = np.sum(mu[i] * digamma_phi_mu)\n",
      "C:\\Users\\tnguyen001\\Documents\\GitHub\\maupiti\\dirichlet_regression.py:136: RuntimeWarning: invalid value encountered in multiply\n",
      "  derivative_gamma += Z[i,:]*phi[i]*( digamma(phi[i])+np.sum( mu[i]*(np.log(Y[i]+epsilon)-digamma(phi[i]*mu[i])) ) )\n",
      "C:\\Users\\tnguyen001\\Documents\\GitHub\\maupiti\\dirichlet_regression.py:285: RuntimeWarning: invalid value encountered in multiply\n",
      "  sum_i += phi[i]*np.sum( mu[i]*( np.log(Y[i]+epsilon)*(U[i]-sum_omega) - U[i]*(digamma_alpha-np.sum(mu[i]*digamma_alpha)) ) )\n",
      "<ipython-input-20-f0c0c0a7e579>:17: RuntimeWarning: invalid value encountered in true_divide\n",
      "  W = W/W.sum(axis=1)[:,None]\n"
     ]
    },
    {
     "name": "stdout",
     "output_type": "stream",
     "text": [
      "Factor is exactly singular\n"
     ]
    },
    {
     "name": "stderr",
     "output_type": "stream",
     "text": [
      "C:\\Users\\tnguyen001\\Documents\\GitHub\\maupiti\\dirichlet_regression.py:76: RuntimeWarning: overflow encountered in exp\n",
      "  exp_MXbeta = np.exp(MXbeta)\n",
      "C:\\Users\\tnguyen001\\Documents\\GitHub\\maupiti\\dirichlet_regression.py:78: RuntimeWarning: invalid value encountered in true_divide\n",
      "  mu = exp_MXbeta/sum_exp_MXbeta[:,None]\n",
      "C:\\Users\\tnguyen001\\Documents\\GitHub\\maupiti\\dirichlet_regression.py:122: RuntimeWarning: invalid value encountered in multiply\n",
      "  sum_mu_digamma_phi_mu = np.sum(mu[i] * digamma_phi_mu)\n",
      "C:\\Users\\tnguyen001\\Documents\\GitHub\\maupiti\\dirichlet_regression.py:136: RuntimeWarning: invalid value encountered in multiply\n",
      "  derivative_gamma += Z[i,:]*phi[i]*( digamma(phi[i])+np.sum( mu[i]*(np.log(Y[i]+epsilon)-digamma(phi[i]*mu[i])) ) )\n",
      "C:\\Users\\tnguyen001\\Documents\\GitHub\\maupiti\\dirichlet_regression.py:285: RuntimeWarning: invalid value encountered in multiply\n",
      "  sum_i += phi[i]*np.sum( mu[i]*( np.log(Y[i]+epsilon)*(U[i]-sum_omega) - U[i]*(digamma_alpha-np.sum(mu[i]*digamma_alpha)) ) )\n",
      "<ipython-input-20-f0c0c0a7e579>:17: RuntimeWarning: invalid value encountered in true_divide\n",
      "  W = W/W.sum(axis=1)[:,None]\n"
     ]
    },
    {
     "name": "stdout",
     "output_type": "stream",
     "text": [
      "Factor is exactly singular\n"
     ]
    },
    {
     "name": "stderr",
     "output_type": "stream",
     "text": [
      "C:\\Users\\tnguyen001\\Documents\\GitHub\\maupiti\\dirichlet_regression.py:76: RuntimeWarning: overflow encountered in exp\n",
      "  exp_MXbeta = np.exp(MXbeta)\n",
      "C:\\Users\\tnguyen001\\Documents\\GitHub\\maupiti\\dirichlet_regression.py:78: RuntimeWarning: invalid value encountered in true_divide\n",
      "  mu = exp_MXbeta/sum_exp_MXbeta[:,None]\n",
      "C:\\Users\\tnguyen001\\Documents\\GitHub\\maupiti\\dirichlet_regression.py:122: RuntimeWarning: invalid value encountered in multiply\n",
      "  sum_mu_digamma_phi_mu = np.sum(mu[i] * digamma_phi_mu)\n",
      "C:\\Users\\tnguyen001\\Documents\\GitHub\\maupiti\\dirichlet_regression.py:136: RuntimeWarning: invalid value encountered in multiply\n",
      "  derivative_gamma += Z[i,:]*phi[i]*( digamma(phi[i])+np.sum( mu[i]*(np.log(Y[i]+epsilon)-digamma(phi[i]*mu[i])) ) )\n",
      "C:\\Users\\tnguyen001\\Documents\\GitHub\\maupiti\\dirichlet_regression.py:285: RuntimeWarning: invalid value encountered in multiply\n",
      "  sum_i += phi[i]*np.sum( mu[i]*( np.log(Y[i]+epsilon)*(U[i]-sum_omega) - U[i]*(digamma_alpha-np.sum(mu[i]*digamma_alpha)) ) )\n"
     ]
    },
    {
     "name": "stdout",
     "output_type": "stream",
     "text": [
      "Factor is exactly singular\n"
     ]
    },
    {
     "name": "stderr",
     "output_type": "stream",
     "text": [
      "C:\\Users\\tnguyen001\\Documents\\GitHub\\maupiti\\dirichlet_regression.py:76: RuntimeWarning: overflow encountered in exp\n",
      "  exp_MXbeta = np.exp(MXbeta)\n",
      "C:\\Users\\tnguyen001\\Documents\\GitHub\\maupiti\\dirichlet_regression.py:78: RuntimeWarning: invalid value encountered in true_divide\n",
      "  mu = exp_MXbeta/sum_exp_MXbeta[:,None]\n",
      "C:\\Users\\tnguyen001\\Documents\\GitHub\\maupiti\\dirichlet_regression.py:122: RuntimeWarning: invalid value encountered in multiply\n",
      "  sum_mu_digamma_phi_mu = np.sum(mu[i] * digamma_phi_mu)\n",
      "C:\\Users\\tnguyen001\\Documents\\GitHub\\maupiti\\dirichlet_regression.py:136: RuntimeWarning: invalid value encountered in multiply\n",
      "  derivative_gamma += Z[i,:]*phi[i]*( digamma(phi[i])+np.sum( mu[i]*(np.log(Y[i]+epsilon)-digamma(phi[i]*mu[i])) ) )\n",
      "C:\\Users\\tnguyen001\\Documents\\GitHub\\maupiti\\dirichlet_regression.py:285: RuntimeWarning: invalid value encountered in multiply\n",
      "  sum_i += phi[i]*np.sum( mu[i]*( np.log(Y[i]+epsilon)*(U[i]-sum_omega) - U[i]*(digamma_alpha-np.sum(mu[i]*digamma_alpha)) ) )\n"
     ]
    },
    {
     "name": "stdout",
     "output_type": "stream",
     "text": [
      "Wall time: 28min 22s\n"
     ]
    }
   ],
   "source": [
    "%%time\n",
    "n_repeat = 100\n",
    "\n",
    "list_solutions_spatial = []\n",
    "list_solutions_no_spatial = []\n",
    "\n",
    "list_n_samples = [50,200,1000]\n",
    "list_threshold_neighb = [0.3,0.14,0.06]\n",
    "\n",
    "seed=0\n",
    "\n",
    "for i in range(3):\n",
    "    n_samples = list_n_samples[i]\n",
    "    threshold_neighb = list_threshold_neighb[i]\n",
    "    \n",
    "    true_params = np.concatenate([beta.flatten(),gamma_var, [rho]])\n",
    "    \n",
    "    solutions_spatial_temp = []\n",
    "    solutions_no_spatial_temp = []\n",
    "    for _ in range(n_repeat):\n",
    "        np.random.seed(seed)\n",
    "        \n",
    "        X,Z,W = create_features_matrices(n_samples,n_features,threshold_neighbors=threshold_neighb)\n",
    "        try:\n",
    "            mu = dirichlet_regression.compute_mu_spatial(X, beta, rho, W)\n",
    "            phi = np.exp(np.matmul(Z,gamma_var))\n",
    "            alpha = mu*phi[:,None]\n",
    "\n",
    "            Y = np.array([np.random.dirichlet(alpha_i) for alpha_i in alpha])\n",
    "            Y = (Y*(n_samples-1)+1/n_classes)/n_samples\n",
    "\n",
    "            solution_spatial = minimize(f_spatial, params0_spatial, args=(X, Y, Z, W), bounds=bounds_1, jac=fprime_spatial)\n",
    "            solutions_spatial_temp.append(solution_spatial.x)\n",
    "\n",
    "            solution_no_spatial = minimize(f_no_spatial, params0_no_spatial, args=(X, Y, Z), jac=fprime_no_spatial)\n",
    "            solutions_no_spatial_temp.append(solution_no_spatial.x)\n",
    "        except RuntimeError:\n",
    "            print(\"Factor is exactly singular\")\n",
    "        except np.linalg.LinAlgError:\n",
    "            print(\"Singular matrix\")\n",
    "        \n",
    "        seed+=1\n",
    "    list_solutions_spatial.append(solutions_spatial_temp)\n",
    "    list_solutions_no_spatial.append(solutions_no_spatial_temp)\n",
    "    "
   ]
  },
  {
   "cell_type": "code",
   "execution_count": 147,
   "metadata": {},
   "outputs": [
    {
     "data": {
      "text/plain": [
       "0.12334254778812988"
      ]
     },
     "execution_count": 147,
     "metadata": {},
     "output_type": "execute_result"
    }
   ],
   "source": [
    "np.mean(np.array(list_solutions_spatial[2])[:,-1])"
   ]
  },
  {
   "cell_type": "code",
   "execution_count": 138,
   "metadata": {},
   "outputs": [
    {
     "name": "stderr",
     "output_type": "stream",
     "text": [
      "C:\\Users\\tnguyen001\\AppData\\Roaming\\Python\\Python38\\site-packages\\numpy\\core\\_asarray.py:136: VisibleDeprecationWarning: Creating an ndarray from ragged nested sequences (which is a list-or-tuple of lists-or-tuples-or ndarrays with different lengths or shapes) is deprecated. If you meant to do this, you must specify 'dtype=object' when creating the ndarray\n",
      "  return array(a, dtype, copy=False, order=order, subok=True)\n"
     ]
    }
   ],
   "source": [
    "np.save('Data Dirichlet/spatial_rho01.npy',list_solutions_spatial)\n",
    "np.save('Data Dirichlet/no_spatial_rho01.npy',list_solutions_no_spatial)"
   ]
  },
  {
   "cell_type": "code",
   "execution_count": 16,
   "metadata": {},
   "outputs": [],
   "source": [
    "list_solutions_spatial = np.load('Data Dirichlet/spatial_rho01.npy',allow_pickle=True)\n",
    "list_solutions_no_spatial = np.load('Data Dirichlet/no_spatial_rho01.npy',allow_pickle=True)"
   ]
  },
  {
   "cell_type": "code",
   "execution_count": 148,
   "metadata": {},
   "outputs": [
    {
     "name": "stdout",
     "output_type": "stream",
     "text": [
      "Wall time: 5min 19s\n"
     ]
    }
   ],
   "source": [
    "%%time\n",
    "n_repeat = 100\n",
    "\n",
    "size_test = 1000\n",
    "\n",
    "list_n_samples = [50,200,1000]\n",
    "\n",
    "list_r2_s = []\n",
    "list_rmse_s = []\n",
    "list_ll_s = []\n",
    "list_crossentropy_s = []\n",
    "list_r2_ns = []\n",
    "list_rmse_ns = []\n",
    "list_ll_ns = []\n",
    "list_crossentropy_ns = []\n",
    "\n",
    "seed=0\n",
    "\n",
    "true_params = np.concatenate([beta.flatten(),gamma_var, [rho]])\n",
    "\n",
    "for n_samples_index in range(3):\n",
    "    list_r2_s_temp = []\n",
    "    list_rmse_s_temp = []\n",
    "    list_ll_s_temp = []\n",
    "    list_crossentropy_s_temp = []\n",
    "    list_r2_ns_temp = []\n",
    "    list_rmse_ns_temp = []\n",
    "    list_ll_ns_temp = []\n",
    "    list_crossentropy_ns_temp = []\n",
    "    for i in range(len(list_solutions_spatial[n_samples_index])):\n",
    "        np.random.seed(seed+1000)\n",
    "        \n",
    "        X,Z,W = create_features_matrices(size_test,n_features)\n",
    "        try:\n",
    "            mu = dirichlet_regression.compute_mu_spatial(X, beta, rho, W)\n",
    "            phi = np.exp(np.matmul(Z,gamma_var))\n",
    "            alpha = mu*phi[:,None]\n",
    "\n",
    "            Y = np.array([np.random.dirichlet(alpha_i) for alpha_i in alpha])\n",
    "            Y = (Y*(size_test-1)+1/n_classes)/size_test\n",
    "\n",
    "            solution_spatial = list_solutions_spatial[n_samples_index][i]\n",
    "            beta_sol_s = solution_spatial[:(n_features+1)*n_classes].reshape((n_features+1),n_classes)\n",
    "            gamma_sol_s = solution_spatial[(n_features+1)*n_classes:-1]\n",
    "            rho_sol_s = solution_spatial[-1]\n",
    "            mu_sol_s = dirichlet_regression.compute_mu_spatial_2(X, beta_sol_s, rho_sol_s, W)\n",
    "            phi_s = np.exp(np.matmul(Z,gamma_sol_s))\n",
    "            \n",
    "            list_r2_s_temp.append(r2_score(Y,mu_sol_s))\n",
    "            list_rmse_s_temp.append(mean_squared_error(Y,mu_sol_s,squared=False))\n",
    "            list_ll_s_temp.append(dirichlet_regression.dirichlet_loglikelihood(mu_sol_s,phi_s,Y))\n",
    "            list_crossentropy_s_temp.append(-(1/size_test)*np.sum(Y*np.log(mu_sol_s)))\n",
    "            \n",
    "            solution_no_spatial = list_solutions_no_spatial[n_samples_index][i]\n",
    "            beta_sol_ns = solution_no_spatial[:(n_features+1)*n_classes].reshape((n_features+1),n_classes)\n",
    "            gamma_sol_ns = solution_no_spatial[(n_features+1)*n_classes:]\n",
    "            mu_sol_ns = dirichlet_regression.compute_mu_3(X, beta_sol_ns)\n",
    "            phi_ns = np.exp(np.matmul(Z,gamma_sol_ns))\n",
    "            \n",
    "            list_r2_ns_temp.append(r2_score(Y,mu_sol_ns))\n",
    "            list_rmse_ns_temp.append(mean_squared_error(Y,mu_sol_ns,squared=False))\n",
    "            list_ll_ns_temp.append(dirichlet_regression.dirichlet_loglikelihood(mu_sol_ns,phi_ns,Y))\n",
    "            list_crossentropy_ns_temp.append(-(1/size_test)*np.sum(Y*np.log(mu_sol_ns)))\n",
    "            \n",
    "            \n",
    "        except RuntimeError:\n",
    "            print(\"Factor is exactly singular\")\n",
    "        except np.linalg.LinAlgError:\n",
    "            print(\"Singular matrix\")\n",
    "        \n",
    "        seed+=1\n",
    "    list_r2_s.append(list_r2_s_temp)\n",
    "    list_rmse_s.append(list_rmse_s_temp)\n",
    "    list_ll_s.append(list_ll_s_temp)\n",
    "    list_crossentropy_s.append(list_crossentropy_s_temp)\n",
    "    list_r2_ns.append(list_r2_ns_temp)\n",
    "    list_rmse_ns.append(list_rmse_ns_temp)\n",
    "    list_ll_ns.append(list_ll_ns_temp)\n",
    "    list_crossentropy_ns.append(list_crossentropy_ns_temp)"
   ]
  },
  {
   "cell_type": "code",
   "execution_count": 149,
   "metadata": {},
   "outputs": [
    {
     "name": "stderr",
     "output_type": "stream",
     "text": [
      "C:\\Users\\tnguyen001\\AppData\\Roaming\\Python\\Python38\\site-packages\\numpy\\core\\_asarray.py:136: VisibleDeprecationWarning: Creating an ndarray from ragged nested sequences (which is a list-or-tuple of lists-or-tuples-or ndarrays with different lengths or shapes) is deprecated. If you meant to do this, you must specify 'dtype=object' when creating the ndarray\n",
      "  return array(a, dtype, copy=False, order=order, subok=True)\n"
     ]
    }
   ],
   "source": [
    "np.save('Data Dirichlet/list_r2_s_rho01.npy', list_r2_s)\n",
    "np.save('Data Dirichlet/list_rmse_s_rho01.npy', list_rmse_s)\n",
    "np.save('Data Dirichlet/list_ll_s_rho01.npy', list_ll_s)\n",
    "np.save('Data Dirichlet/list_crossentropy_s_rho01.npy', list_crossentropy_s)\n",
    "np.save('Data Dirichlet/list_r2_ns_rho01.npy', list_r2_ns)\n",
    "np.save('Data Dirichlet/list_rmse_ns_rho01.npy', list_rmse_ns)\n",
    "np.save('Data Dirichlet/list_ll_ns_rho01.npy', list_ll_ns)\n",
    "np.save('Data Dirichlet/list_crossentropy_ns_rho01.npy', list_crossentropy_ns)"
   ]
  },
  {
   "cell_type": "code",
   "execution_count": 152,
   "metadata": {},
   "outputs": [
    {
     "data": {
      "text/plain": [
       "0.1452828021079087"
      ]
     },
     "execution_count": 152,
     "metadata": {},
     "output_type": "execute_result"
    }
   ],
   "source": [
    "np.mean(list_r2_s[2])"
   ]
  },
  {
   "cell_type": "code",
   "execution_count": 153,
   "metadata": {},
   "outputs": [
    {
     "data": {
      "text/plain": [
       "0.15845481844720488"
      ]
     },
     "execution_count": 153,
     "metadata": {},
     "output_type": "execute_result"
    }
   ],
   "source": [
    "np.mean(list_r2_ns[2])"
   ]
  },
  {
   "cell_type": "code",
   "execution_count": null,
   "metadata": {},
   "outputs": [],
   "source": []
  },
  {
   "cell_type": "markdown",
   "metadata": {},
   "source": [
    "# RESULTS"
   ]
  },
  {
   "cell_type": "code",
   "execution_count": 15,
   "metadata": {},
   "outputs": [],
   "source": [
    "list_solutions_spatial_rho01 = np.load('Data Dirichlet/spatial_rho01.npy',allow_pickle=True)\n",
    "list_solutions_no_spatial_rho01 = np.load('Data Dirichlet/no_spatial_rho01.npy',allow_pickle=True)\n",
    "\n",
    "list_solutions_spatial_rho05 = np.load('Data Dirichlet/spatial_rho05.npy',allow_pickle=True)\n",
    "list_solutions_no_spatial_rho05 = np.load('Data Dirichlet/no_spatial_rho05.npy',allow_pickle=True)\n",
    "\n",
    "list_solutions_spatial_rho09 = np.load('Data Dirichlet/spatial_rho09.npy',allow_pickle=True)\n",
    "list_solutions_no_spatial_rho09 = np.load('Data Dirichlet/no_spatial_rho09.npy',allow_pickle=True)"
   ]
  },
  {
   "cell_type": "code",
   "execution_count": 16,
   "metadata": {},
   "outputs": [],
   "source": [
    "list_r2_s_rho01 = np.load('Data Dirichlet/list_r2_s_rho01.npy', allow_pickle=True)\n",
    "list_rmse_s_rho01 = np.load('Data Dirichlet/list_rmse_s_rho01.npy', allow_pickle=True)\n",
    "list_ll_s_rho01 = np.load('Data Dirichlet/list_ll_s_rho01.npy', allow_pickle=True)\n",
    "list_crossentropy_s_rho01 = np.load('Data Dirichlet/list_crossentropy_s_rho01.npy', allow_pickle=True)\n",
    "list_r2_ns_rho01 = np.load('Data Dirichlet/list_r2_ns_rho01.npy', allow_pickle=True)\n",
    "list_rmse_ns_rho01 = np.load('Data Dirichlet/list_rmse_ns_rho01.npy', allow_pickle=True)\n",
    "list_ll_ns_rho01 = np.load('Data Dirichlet/list_ll_ns_rho01.npy', allow_pickle=True)\n",
    "list_crossentropy_ns_rho01 = np.load('Data Dirichlet/list_crossentropy_ns_rho01.npy', allow_pickle=True)"
   ]
  },
  {
   "cell_type": "code",
   "execution_count": 17,
   "metadata": {},
   "outputs": [],
   "source": [
    "list_r2_s_rho05 = np.load('Data Dirichlet/list_r2_s_rho05.npy', allow_pickle=True)\n",
    "list_rmse_s_rho05 = np.load('Data Dirichlet/list_rmse_s_rho05.npy', allow_pickle=True)\n",
    "list_ll_s_rho05 = np.load('Data Dirichlet/list_ll_s_rho05.npy', allow_pickle=True)\n",
    "list_crossentropy_s_rho05 = np.load('Data Dirichlet/list_crossentropy_s_rho05.npy', allow_pickle=True)\n",
    "list_r2_ns_rho05 = np.load('Data Dirichlet/list_r2_ns_rho05.npy', allow_pickle=True)\n",
    "list_rmse_ns_rho05 = np.load('Data Dirichlet/list_rmse_ns_rho05.npy', allow_pickle=True)\n",
    "list_ll_ns_rho05 = np.load('Data Dirichlet/list_ll_ns_rho05.npy', allow_pickle=True)\n",
    "list_crossentropy_ns_rho05 = np.load('Data Dirichlet/list_crossentropy_ns_rho05.npy', allow_pickle=True)"
   ]
  },
  {
   "cell_type": "code",
   "execution_count": 18,
   "metadata": {},
   "outputs": [],
   "source": [
    "list_r2_s_rho09 = np.load('Data Dirichlet/list_r2_s_rho09.npy', allow_pickle=True)\n",
    "list_rmse_s_rho09 = np.load('Data Dirichlet/list_rmse_s_rho09.npy', allow_pickle=True)\n",
    "list_ll_s_rho09 = np.load('Data Dirichlet/list_ll_s_rho09.npy', allow_pickle=True)\n",
    "list_crossentropy_s_rho09 = np.load('Data Dirichlet/list_crossentropy_s_rho09.npy', allow_pickle=True)\n",
    "list_r2_ns_rho09 = np.load('Data Dirichlet/list_r2_ns_rho09.npy', allow_pickle=True)\n",
    "list_rmse_ns_rho09 = np.load('Data Dirichlet/list_rmse_ns_rho09.npy', allow_pickle=True)\n",
    "list_ll_ns_rho09 = np.load('Data Dirichlet/list_ll_ns_rho09.npy', allow_pickle=True)\n",
    "list_crossentropy_ns_rho09 = np.load('Data Dirichlet/list_crossentropy_ns_rho09.npy', allow_pickle=True)"
   ]
  },
  {
   "cell_type": "code",
   "execution_count": 19,
   "metadata": {},
   "outputs": [],
   "source": [
    "true_params = np.concatenate([beta.flatten(),gamma_var, [0.1]])\n",
    "list_results_bias_s, list_results_var_s, list_results_rmse_s = [], [], []\n",
    "list_results_bias_ns, list_results_var_ns, list_results_rmse_ns = [], [], []\n",
    "\n",
    "for i in range(3):\n",
    "    list_results_bias_s.append(np.mean(list_solutions_spatial_rho01[i],axis=0) - true_params)\n",
    "    list_results_var_s.append(np.var(list_solutions_spatial_rho01[i],axis=0))\n",
    "    \n",
    "    list_results_bias_ns.append(np.mean(list_solutions_no_spatial_rho01[i],axis=0) - true_params[:-1])\n",
    "    list_results_var_ns.append(np.var(list_solutions_no_spatial_rho01[i],axis=0))"
   ]
  },
  {
   "cell_type": "code",
   "execution_count": 20,
   "metadata": {},
   "outputs": [
    {
     "name": "stdout",
     "output_type": "stream",
     "text": [
      "+---------------------------------------------------------------------------------------------------------------------------------------------+\n",
      "|                                              PARAMETERS WITH SPATIAL (rho=0.1, 100 repetitions)                                             |\n",
      "+------------+-------------+--------------+---------------+------------+-------------+--------------+------------+-------------+--------------+\n",
      "| Parameters | Bias (n=50) | Bias (n=200) | Bias (n=1000) | Var (n=50) | Var (n=200) | Var (n=1000) | MSE (n=50) | MSE (n=200) | MSE (n=1000) |\n",
      "+------------+-------------+--------------+---------------+------------+-------------+--------------+------------+-------------+--------------+\n",
      "|   beta01   |     0.57    |    0.627     |     0.542     |   0.484    |    0.531    |    0.563     |   0.809    |    0.925    |    0.857     |\n",
      "|   beta02   |    -0.322   |    -0.394    |     -0.358    |    0.43    |    0.246    |    0.213     |   0.533    |    0.401    |    0.341     |\n",
      "|   beta11   |    -0.557   |    -0.619    |     -0.524    |   0.762    |    0.822    |    0.816     |   1.073    |    1.206    |    1.091     |\n",
      "|   beta12   |    0.503    |    0.618     |     0.551     |   0.696    |    0.369    |    0.385     |   0.949    |     0.75    |    0.688     |\n",
      "|   beta21   |    -0.382   |    -0.498    |     -0.423    |   0.702    |    0.497    |    0.489     |   0.848    |    0.746    |    0.668     |\n",
      "|   beta22   |    0.474    |    0.501     |     0.456     |   0.454    |    0.287    |    0.218     |   0.679    |    0.539    |    0.426     |\n",
      "|   gamma0   |    0.469    |    0.274     |     0.177     |   0.063    |    0.009    |    0.002     |   0.283    |    0.084    |    0.033     |\n",
      "|   gamma1   |    0.508    |    0.295     |     0.178     |   0.049    |    0.011    |    0.002     |   0.306    |    0.098    |    0.034     |\n",
      "|    rho     |    -0.136   |     0.02     |     0.023     |   0.502    |    0.451    |    0.392     |    0.52    |    0.452    |    0.393     |\n",
      "+------------+-------------+--------------+---------------+------------+-------------+--------------+------------+-------------+--------------+\n"
     ]
    }
   ],
   "source": [
    "pt = PrettyTable()\n",
    "pt.title = 'PARAMETERS WITH SPATIAL (rho=0.1, 100 repetitions)'\n",
    "columns_names = ['Parameters','Bias (n=50)', 'Bias (n=200)', 'Bias (n=1000)',\n",
    "                 'Var (n=50)', 'Var (n=200)', 'Var (n=1000)',  \n",
    "                 'MSE (n=50)', 'MSE (n=200)', 'MSE (n=1000)']\n",
    "rows_names = ['beta00','beta01','beta02','beta10','beta11','beta12','beta20','beta21','beta22','gamma0','gamma1','rho']\n",
    "pt.add_column(columns_names[0],rows_names)\n",
    "for i in range(len(list_results_bias_s)):\n",
    "    pt.add_column(columns_names[i+1],np.round(list_results_bias_s[i],3))\n",
    "for i in range(len(list_results_var_s)):\n",
    "    pt.add_column(columns_names[i+4],np.round(list_results_var_s[i],3))\n",
    "for i in range(len(list_results_bias_s)):\n",
    "    pt.add_column(columns_names[i+7],np.round(list_results_var_s[i]+list_results_bias_s[i]**2,3))\n",
    "    \n",
    "pt.del_row(0)\n",
    "pt.del_row(2)\n",
    "pt.del_row(4)\n",
    "print(pt)"
   ]
  },
  {
   "cell_type": "code",
   "execution_count": 21,
   "metadata": {},
   "outputs": [
    {
     "name": "stdout",
     "output_type": "stream",
     "text": [
      "+---------------------------------------------------------------------------------------------------------------------------------------------+\n",
      "|                                            PARAMETERS WITHOUT SPATIAL (rho=0.1, 100 repetitions)                                            |\n",
      "+------------+-------------+--------------+---------------+------------+-------------+--------------+------------+-------------+--------------+\n",
      "| Parameters | Bias (n=50) | Bias (n=200) | Bias (n=1000) | Var (n=50) | Var (n=200) | Var (n=1000) | MSE (n=50) | MSE (n=200) | MSE (n=1000) |\n",
      "+------------+-------------+--------------+---------------+------------+-------------+--------------+------------+-------------+--------------+\n",
      "|   beta01   |    0.538    |    0.489     |     0.393     |   0.166    |    0.033    |    0.008     |   0.456    |    0.272    |    0.163     |\n",
      "|   beta02   |    -0.355   |    -0.305    |     -0.265    |   0.151    |    0.057    |    0.009     |   0.277    |     0.15    |    0.079     |\n",
      "|   beta11   |    -0.519   |    -0.467    |     -0.345    |   0.285    |    0.063    |    0.017     |   0.554    |    0.281    |    0.136     |\n",
      "|   beta12   |    0.541    |    0.497     |     0.436     |   0.265    |    0.061    |    0.014     |   0.558    |    0.308    |    0.204     |\n",
      "|   beta21   |    -0.376   |    -0.357    |     -0.287    |   0.256    |    0.054    |    0.017     |   0.397    |    0.181    |    0.099     |\n",
      "|   beta22   |    0.499    |    0.421     |     0.359     |   0.166    |    0.083    |    0.016     |   0.415    |     0.26    |    0.144     |\n",
      "|   gamma0   |    0.461    |    0.272     |     0.177     |   0.061    |    0.009    |    0.002     |   0.274    |    0.083    |    0.033     |\n",
      "|   gamma1   |    0.505    |    0.295     |     0.178     |   0.048    |    0.011    |    0.002     |   0.303    |    0.097    |    0.034     |\n",
      "+------------+-------------+--------------+---------------+------------+-------------+--------------+------------+-------------+--------------+\n"
     ]
    }
   ],
   "source": [
    "pt = PrettyTable()\n",
    "pt.title = 'PARAMETERS WITHOUT SPATIAL (rho=0.1, 100 repetitions)'\n",
    "columns_names = ['Parameters','Bias (n=50)', 'Bias (n=200)', 'Bias (n=1000)',\n",
    "                 'Var (n=50)', 'Var (n=200)', 'Var (n=1000)',  \n",
    "                 'MSE (n=50)', 'MSE (n=200)', 'MSE (n=1000)']\n",
    "rows_names = ['beta00','beta01','beta02','beta10','beta11','beta12','beta20','beta21','beta22','gamma0','gamma1']\n",
    "pt.add_column(columns_names[0],rows_names)\n",
    "for i in range(len(list_results_bias_ns)):\n",
    "    pt.add_column(columns_names[i+1],np.round(list_results_bias_ns[i],3))\n",
    "for i in range(len(list_results_var_ns)):\n",
    "    pt.add_column(columns_names[i+4],np.round(list_results_var_ns[i],3))\n",
    "for i in range(len(list_results_bias_ns)):\n",
    "    pt.add_column(columns_names[i+7],np.round(list_results_var_ns[i]+list_results_bias_ns[i]**2,3))\n",
    "    \n",
    "pt.del_row(0)\n",
    "pt.del_row(2)\n",
    "pt.del_row(4)\n",
    "print(pt)"
   ]
  },
  {
   "cell_type": "code",
   "execution_count": 22,
   "metadata": {},
   "outputs": [],
   "source": [
    "true_params = np.concatenate([beta.flatten(),gamma_var, [0.5]])\n",
    "list_results_bias_s, list_results_var_s, list_results_rmse_s = [], [], []\n",
    "list_results_bias_ns, list_results_var_ns, list_results_rmse_ns = [], [], []\n",
    "\n",
    "for i in range(3):\n",
    "    list_results_bias_s.append(np.mean(list_solutions_spatial_rho05[i],axis=0) - true_params)\n",
    "    list_results_var_s.append(np.var(list_solutions_spatial_rho05[i],axis=0))\n",
    "    \n",
    "    list_results_bias_ns.append(np.mean(list_solutions_no_spatial_rho05[i],axis=0) - true_params[:-1])\n",
    "    list_results_var_ns.append(np.var(list_solutions_no_spatial_rho05[i],axis=0))"
   ]
  },
  {
   "cell_type": "code",
   "execution_count": 23,
   "metadata": {},
   "outputs": [
    {
     "name": "stdout",
     "output_type": "stream",
     "text": [
      "+---------------------------------------------------------------------------------------------------------------------------------------------+\n",
      "|                                              PARAMETERS WITH SPATIAL (rho=0.5, 100 repetitions)                                             |\n",
      "+------------+-------------+--------------+---------------+------------+-------------+--------------+------------+-------------+--------------+\n",
      "| Parameters | Bias (n=50) | Bias (n=200) | Bias (n=1000) | Var (n=50) | Var (n=200) | Var (n=1000) | MSE (n=50) | MSE (n=200) | MSE (n=1000) |\n",
      "+------------+-------------+--------------+---------------+------------+-------------+--------------+------------+-------------+--------------+\n",
      "|   beta01   |     0.72    |     0.89     |     0.961     |   0.451    |    0.284    |    0.337     |   0.969    |    1.076    |     1.26     |\n",
      "|   beta02   |    -0.409   |    -0.552    |     -0.578    |   0.294    |     0.11    |    0.155     |   0.461    |    0.414    |    0.489     |\n",
      "|   beta11   |    -0.694   |    -0.903    |     -0.985    |   0.755    |    0.451    |    0.559     |   1.236    |    1.266    |     1.53     |\n",
      "|   beta12   |     0.64    |    0.832     |     0.888     |   0.438    |    0.178    |    0.225     |   0.848    |    0.871    |    1.014     |\n",
      "|   beta21   |    -0.574   |    -0.742    |     -0.805    |   0.509    |    0.251    |    0.289     |   0.839    |    0.801    |    0.937     |\n",
      "|   beta22   |    0.564    |     0.68     |     0.698     |   0.495    |    0.101    |    0.147     |   0.813    |    0.563    |    0.634     |\n",
      "|   gamma0   |    0.512    |    0.283     |     0.178     |   0.065    |    0.009    |    0.002     |   0.326    |    0.089    |    0.034     |\n",
      "|   gamma1   |    0.528    |    0.337     |     0.197     |   0.055    |     0.01    |    0.002     |   0.334    |    0.124    |    0.041     |\n",
      "|    rho     |    -0.11    |    0.041     |     0.115     |   0.274    |    0.132    |    0.128     |   0.286    |    0.134    |    0.141     |\n",
      "+------------+-------------+--------------+---------------+------------+-------------+--------------+------------+-------------+--------------+\n"
     ]
    }
   ],
   "source": [
    "pt = PrettyTable()\n",
    "pt.title = 'PARAMETERS WITH SPATIAL (rho=0.5, 100 repetitions)'\n",
    "columns_names = ['Parameters','Bias (n=50)', 'Bias (n=200)', 'Bias (n=1000)',\n",
    "                 'Var (n=50)', 'Var (n=200)', 'Var (n=1000)',  \n",
    "                 'MSE (n=50)', 'MSE (n=200)', 'MSE (n=1000)']\n",
    "rows_names = ['beta00','beta01','beta02','beta10','beta11','beta12','beta20','beta21','beta22','gamma0','gamma1','rho']\n",
    "pt.add_column(columns_names[0],rows_names)\n",
    "for i in range(len(list_results_bias_s)):\n",
    "    pt.add_column(columns_names[i+1],np.round(list_results_bias_s[i],3))\n",
    "for i in range(len(list_results_var_s)):\n",
    "    pt.add_column(columns_names[i+4],np.round(list_results_var_s[i],3))\n",
    "for i in range(len(list_results_bias_s)):\n",
    "    pt.add_column(columns_names[i+7],np.round(list_results_var_s[i]+list_results_bias_s[i]**2,3))\n",
    "    \n",
    "pt.del_row(0)\n",
    "pt.del_row(2)\n",
    "pt.del_row(4)\n",
    "print(pt)"
   ]
  },
  {
   "cell_type": "code",
   "execution_count": 24,
   "metadata": {},
   "outputs": [
    {
     "name": "stdout",
     "output_type": "stream",
     "text": [
      "+---------------------------------------------------------------------------------------------------------------------------------------------+\n",
      "|                                            PARAMETERS WITHOUT SPATIAL (rho=0.5, 100 repetitions)                                            |\n",
      "+------------+-------------+--------------+---------------+------------+-------------+--------------+------------+-------------+--------------+\n",
      "| Parameters | Bias (n=50) | Bias (n=200) | Bias (n=1000) | Var (n=50) | Var (n=200) | Var (n=1000) | MSE (n=50) | MSE (n=200) | MSE (n=1000) |\n",
      "+------------+-------------+--------------+---------------+------------+-------------+--------------+------------+-------------+--------------+\n",
      "|   beta01   |    0.238    |    0.089     |     -0.049    |    0.15    |    0.035    |    0.007     |   0.206    |    0.043    |     0.01     |\n",
      "|   beta02   |    -0.098   |    -0.013    |     0.083     |   0.199    |    0.047    |    0.008     |   0.209    |    0.047    |    0.014     |\n",
      "|   beta11   |    -0.095   |    0.126     |     0.303     |   0.213    |    0.055    |    0.012     |   0.222    |    0.071    |    0.103     |\n",
      "|   beta12   |    0.212    |    0.171     |     0.087     |   0.275    |    0.066    |    0.014     |    0.32    |    0.096    |    0.021     |\n",
      "|   beta21   |    -0.046   |    0.017     |     0.133     |   0.279    |    0.056    |    0.013     |   0.281    |    0.056    |     0.03     |\n",
      "|   beta22   |    0.342    |    0.184     |     0.061     |   0.332    |    0.055    |    0.014     |   0.448    |    0.089    |    0.018     |\n",
      "|   gamma0   |    0.507    |    0.281     |     0.178     |    0.06    |    0.008    |    0.002     |   0.317    |    0.087    |    0.034     |\n",
      "|   gamma1   |    0.522    |    0.338     |     0.195     |    0.05    |    0.011    |    0.002     |   0.322    |    0.125    |     0.04     |\n",
      "+------------+-------------+--------------+---------------+------------+-------------+--------------+------------+-------------+--------------+\n"
     ]
    }
   ],
   "source": [
    "pt = PrettyTable()\n",
    "pt.title = 'PARAMETERS WITHOUT SPATIAL (rho=0.5, 100 repetitions)'\n",
    "columns_names = ['Parameters','Bias (n=50)', 'Bias (n=200)', 'Bias (n=1000)',\n",
    "                 'Var (n=50)', 'Var (n=200)', 'Var (n=1000)',  \n",
    "                 'MSE (n=50)', 'MSE (n=200)', 'MSE (n=1000)']\n",
    "rows_names = ['beta00','beta01','beta02','beta10','beta11','beta12','beta20','beta21','beta22','gamma0','gamma1']\n",
    "pt.add_column(columns_names[0],rows_names)\n",
    "for i in range(len(list_results_bias_ns)):\n",
    "    pt.add_column(columns_names[i+1],np.round(list_results_bias_ns[i],3))\n",
    "for i in range(len(list_results_var_ns)):\n",
    "    pt.add_column(columns_names[i+4],np.round(list_results_var_ns[i],3))\n",
    "for i in range(len(list_results_bias_ns)):\n",
    "    pt.add_column(columns_names[i+7],np.round(list_results_var_ns[i]+list_results_bias_ns[i]**2,3))\n",
    "    \n",
    "pt.del_row(0)\n",
    "pt.del_row(2)\n",
    "pt.del_row(4)\n",
    "print(pt)"
   ]
  },
  {
   "cell_type": "code",
   "execution_count": 25,
   "metadata": {},
   "outputs": [],
   "source": [
    "true_params = np.concatenate([beta.flatten(),gamma_var, [0.9]])\n",
    "list_results_bias_s, list_results_var_s, list_results_rmse_s = [], [], []\n",
    "list_results_bias_ns, list_results_var_ns, list_results_rmse_ns = [], [], []\n",
    "\n",
    "for i in range(3):\n",
    "    list_results_bias_s.append(np.mean(list_solutions_spatial_rho09[i],axis=0) - true_params)\n",
    "    list_results_var_s.append(np.var(list_solutions_spatial_rho09[i],axis=0))\n",
    "    \n",
    "    list_results_bias_ns.append(np.mean(list_solutions_no_spatial_rho09[i],axis=0) - true_params[:-1])\n",
    "    list_results_var_ns.append(np.var(list_solutions_no_spatial_rho09[i],axis=0))"
   ]
  },
  {
   "cell_type": "code",
   "execution_count": 26,
   "metadata": {},
   "outputs": [
    {
     "name": "stdout",
     "output_type": "stream",
     "text": [
      "+---------------------------------------------------------------------------------------------------------------------------------------------+\n",
      "|                                              PARAMETERS WITH SPATIAL (rho=0.9, 100 repetitions)                                             |\n",
      "+------------+-------------+--------------+---------------+------------+-------------+--------------+------------+-------------+--------------+\n",
      "| Parameters | Bias (n=50) | Bias (n=200) | Bias (n=1000) | Var (n=50) | Var (n=200) | Var (n=1000) | MSE (n=50) | MSE (n=200) | MSE (n=1000) |\n",
      "+------------+-------------+--------------+---------------+------------+-------------+--------------+------------+-------------+--------------+\n",
      "|   beta01   |    0.883    |    1.216     |     1.211     |   0.353    |    0.058    |    0.023     |   1.134    |    1.536    |    1.489     |\n",
      "|   beta02   |    -0.749   |    -0.507    |     -0.482    |   0.163    |    0.059    |    0.054     |   0.724    |    0.316    |    0.286     |\n",
      "|   beta11   |    -0.796   |    -1.055    |     -1.111    |   0.761    |    0.171    |    0.089     |   1.395    |    1.285    |    1.324     |\n",
      "|   beta12   |    1.085    |    0.968     |      0.93     |   0.185    |    0.052    |    0.034     |   1.362    |    0.988    |    0.899     |\n",
      "|   beta21   |    -0.791   |    -0.998    |     -0.996    |   0.344    |    0.058    |     0.03     |    0.97    |    1.054    |    1.022     |\n",
      "|   beta22   |    0.771    |    0.766     |     0.725     |   0.149    |    0.053    |    0.023     |   0.743    |    0.639    |    0.549     |\n",
      "|   gamma0   |     0.53    |    0.085     |     -0.097    |   0.079    |    0.014    |    0.013     |   0.361    |    0.022    |    0.023     |\n",
      "|   gamma1   |    0.549    |    0.147     |     -0.04     |   0.062    |    0.019    |    0.013     |   0.363    |    0.041    |    0.014     |\n",
      "|    rho     |    -0.194   |    -0.358    |     -0.208    |   0.094    |    0.099    |    0.038     |   0.131    |    0.227    |    0.082     |\n",
      "+------------+-------------+--------------+---------------+------------+-------------+--------------+------------+-------------+--------------+\n"
     ]
    }
   ],
   "source": [
    "pt = PrettyTable()\n",
    "pt.title = 'PARAMETERS WITH SPATIAL (rho=0.9, 100 repetitions)'\n",
    "columns_names = ['Parameters','Bias (n=50)', 'Bias (n=200)', 'Bias (n=1000)',\n",
    "                 'Var (n=50)', 'Var (n=200)', 'Var (n=1000)',  \n",
    "                 'MSE (n=50)', 'MSE (n=200)', 'MSE (n=1000)']\n",
    "rows_names = ['beta00','beta01','beta02','beta10','beta11','beta12','beta20','beta21','beta22','gamma0','gamma1','rho']\n",
    "pt.add_column(columns_names[0],rows_names)\n",
    "for i in range(len(list_results_bias_s)):\n",
    "    pt.add_column(columns_names[i+1],np.round(list_results_bias_s[i],3))\n",
    "for i in range(len(list_results_var_s)):\n",
    "    pt.add_column(columns_names[i+4],np.round(list_results_var_s[i],3))\n",
    "for i in range(len(list_results_bias_s)):\n",
    "    pt.add_column(columns_names[i+7],np.round(list_results_var_s[i]+list_results_bias_s[i]**2,3))\n",
    "    \n",
    "pt.del_row(0)\n",
    "pt.del_row(2)\n",
    "pt.del_row(4)\n",
    "print(pt)"
   ]
  },
  {
   "cell_type": "code",
   "execution_count": 27,
   "metadata": {},
   "outputs": [
    {
     "name": "stdout",
     "output_type": "stream",
     "text": [
      "+---------------------------------------------------------------------------------------------------------------------------------------------+\n",
      "|                                            PARAMETERS WITHOUT SPATIAL (rho=0.9, 100 repetitions)                                            |\n",
      "+------------+-------------+--------------+---------------+------------+-------------+--------------+------------+-------------+--------------+\n",
      "| Parameters | Bias (n=50) | Bias (n=200) | Bias (n=1000) | Var (n=50) | Var (n=200) | Var (n=1000) | MSE (n=50) | MSE (n=200) | MSE (n=1000) |\n",
      "+------------+-------------+--------------+---------------+------------+-------------+--------------+------------+-------------+--------------+\n",
      "|   beta01   |    -0.12    |    0.119     |     0.078     |   0.322    |    0.037    |    0.005     |   0.336    |    0.051    |    0.012     |\n",
      "|   beta02   |     -0.2    |    0.587     |      0.85     |   0.676    |    0.039    |    0.005     |   0.716    |    0.383    |    0.727     |\n",
      "|   beta11   |    0.773    |    0.671     |     0.744     |   0.538    |    0.094    |    0.011     |   1.135    |    0.544    |    0.564     |\n",
      "|   beta12   |    0.397    |    -0.167    |     -0.397    |   0.678    |    0.101    |    0.014     |   0.836    |    0.129    |    0.171     |\n",
      "|   beta21   |    0.097    |    -0.018    |     0.104     |   0.789    |    0.149    |    0.013     |   0.799    |     0.15    |    0.024     |\n",
      "|   beta22   |    0.136    |    -0.319    |     -0.463    |    0.78    |    0.099    |    0.015     |   0.798    |    0.201    |    0.229     |\n",
      "|   gamma0   |    0.477    |    0.136     |     -0.056    |   0.057    |    0.007    |    0.001     |   0.284    |    0.026    |    0.004     |\n",
      "|   gamma1   |    0.499    |    0.183     |     -0.013    |   0.047    |    0.006    |    0.001     |   0.296    |     0.04    |    0.001     |\n",
      "+------------+-------------+--------------+---------------+------------+-------------+--------------+------------+-------------+--------------+\n"
     ]
    }
   ],
   "source": [
    "pt = PrettyTable()\n",
    "pt.title = 'PARAMETERS WITHOUT SPATIAL (rho=0.9, 100 repetitions)'\n",
    "columns_names = ['Parameters','Bias (n=50)', 'Bias (n=200)', 'Bias (n=1000)',\n",
    "                 'Var (n=50)', 'Var (n=200)', 'Var (n=1000)',  \n",
    "                 'MSE (n=50)', 'MSE (n=200)', 'MSE (n=1000)']\n",
    "rows_names = ['beta00','beta01','beta02','beta10','beta11','beta12','beta20','beta21','beta22','gamma0','gamma1']\n",
    "pt.add_column(columns_names[0],rows_names)\n",
    "for i in range(len(list_results_bias_ns)):\n",
    "    pt.add_column(columns_names[i+1],np.round(list_results_bias_ns[i],3))\n",
    "for i in range(len(list_results_var_ns)):\n",
    "    pt.add_column(columns_names[i+4],np.round(list_results_var_ns[i],3))\n",
    "for i in range(len(list_results_bias_ns)):\n",
    "    pt.add_column(columns_names[i+7],np.round(list_results_var_ns[i]+list_results_bias_ns[i]**2,3))\n",
    "    \n",
    "pt.del_row(0)\n",
    "pt.del_row(2)\n",
    "pt.del_row(4)\n",
    "print(pt)"
   ]
  },
  {
   "cell_type": "markdown",
   "metadata": {},
   "source": [
    "# Table of the metrics"
   ]
  },
  {
   "cell_type": "code",
   "execution_count": 73,
   "metadata": {},
   "outputs": [],
   "source": [
    "list_rhos = [0.1, 0.5, 0.9]\n",
    "list_n = [50, 200, 1000]"
   ]
  },
  {
   "cell_type": "markdown",
   "metadata": {},
   "source": [
    "## rho=0.1"
   ]
  },
  {
   "cell_type": "code",
   "execution_count": 60,
   "metadata": {},
   "outputs": [
    {
     "name": "stdout",
     "output_type": "stream",
     "text": [
      "+-----------------------------------------------------------------------------------------+\n",
      "|                                         (rho=0.1)                                       |\n",
      "+---------------------+---------------+-------------------+---------------+---------------+\n",
      "|        Model        | Cross-entropy |        AIC        |      RMSE     |       R2      |\n",
      "+---------------------+---------------+-------------------+---------------+---------------+\n",
      "|    Spatial (n=50)   |  1.03 (0.106) | -5107.2 (406.996) | 0.332 (0.018) | 0.113 (0.106) |\n",
      "|   Spatial (n=200)   | 1.011 (0.015) |  -5523.0 (78.438) | 0.327 (0.005) | 0.137 (0.024) |\n",
      "|   Spatial (n=1000)  | 1.006 (0.017) |  -5621.0 (79.811) | 0.326 (0.006) | 0.145 (0.027) |\n",
      "|  No spatial (n=50)  | 1.013 (0.012) | -5257.4 (103.222) | 0.328 (0.005) | 0.133 (0.021) |\n",
      "|  No spatial (n=200) | 1.005 (0.009) |  -5561.4 (70.057) | 0.325 (0.003) | 0.148 (0.013) |\n",
      "| No spatial (n=1000) | 0.998 (0.008) |  -5655.2 (73.364) | 0.323 (0.003) | 0.158 (0.011) |\n",
      "+---------------------+---------------+-------------------+---------------+---------------+\n"
     ]
    }
   ],
   "source": [
    "columns_names = ['Model','Cross-entropy','AIC','RMSE','R2']\n",
    "pt = PrettyTable(columns_names)\n",
    "pt.title = ' (rho=0.1)'\n",
    "\n",
    "names_models_spatial = ['Spatial (n=50)','Spatial (n=200)','Spatial (n=1000)']\n",
    "for i in range(3):\n",
    "    pt.add_row([names_models_spatial[i], \n",
    "                str(np.round(np.mean(list_crossentropy_s_rho01[i]),3))+' ('+ str(np.round(np.std(list_crossentropy_s_rho01[i]),3)) +')',\n",
    "               str(2*8-2*np.round(np.mean(list_ll_s_rho01[i]),1))+' ('+ str(np.round(np.std(list_ll_s_rho01[i]),3)) +')',\n",
    "               str(np.round(np.mean(list_rmse_s_rho01[i]),3))+' ('+ str(np.round(np.std(list_rmse_s_rho01[i]),3)) +')',\n",
    "               str(np.round(np.mean(list_r2_s_rho01[i]),3))+' ('+ str(np.round(np.std(list_r2_s_rho01[i]),3)) +')'])\n",
    "\n",
    "names_models_no_spatial = ['No spatial (n=50)','No spatial (n=200)','No spatial (n=1000)']\n",
    "for i in range(3):\n",
    "    pt.add_row([names_models_no_spatial[i], \n",
    "                str(np.round(np.mean(list_crossentropy_ns_rho01[i]),3))+' ('+ str(np.round(np.std(list_crossentropy_ns_rho01[i]),3)) +')',\n",
    "               str(2*7-2*np.round(np.mean(list_ll_ns_rho01[i]),1))+' ('+ str(np.round(np.std(list_ll_ns_rho01[i]),3)) +')',\n",
    "               str(np.round(np.mean(list_rmse_ns_rho01[i]),3))+' ('+ str(np.round(np.std(list_rmse_ns_rho01[i]),3)) +')',\n",
    "               str(np.round(np.mean(list_r2_ns_rho01[i]),3))+' ('+ str(np.round(np.std(list_r2_ns_rho01[i]),3)) +')'])\n",
    "\n",
    "print(pt)"
   ]
  },
  {
   "cell_type": "markdown",
   "metadata": {},
   "source": [
    "### Are the differences significant ?"
   ]
  },
  {
   "cell_type": "code",
   "execution_count": 74,
   "metadata": {},
   "outputs": [
    {
     "name": "stdout",
     "output_type": "stream",
     "text": [
      "Crossentropy:\n",
      "n = 50 : Ttest_indResult(statistic=1.5966832058600458, pvalue=0.11201585735826985)\n",
      "n = 200 : Ttest_indResult(statistic=3.8474789874190107, pvalue=0.00016284825191729128)\n",
      "n = 1000 : Ttest_indResult(statistic=4.023444396470198, pvalue=8.578120214893112e-05)\n",
      "AIC:\n",
      "n = 50 : Ttest_indResult(statistic=1.7356697101654592, pvalue=0.08426074860553005)\n",
      "n = 200 : Ttest_indResult(statistic=1.7740172513408625, pvalue=0.07766190631752876)\n",
      "n = 1000 : Ttest_indResult(statistic=1.4597508653575728, pvalue=0.14618257343056096)\n",
      "RMSE:\n",
      "n = 50 : Ttest_indResult(statistic=1.7972249980654909, pvalue=0.07390488955160163)\n",
      "n = 200 : Ttest_indResult(statistic=3.433480392753679, pvalue=0.0007314380165384939)\n",
      "n = 1000 : Ttest_indResult(statistic=3.654826854726912, pvalue=0.0003415908304340376)\n",
      "R2:\n",
      "n = 50 : Ttest_indResult(statistic=-1.8144198208159859, pvalue=0.07120719232183449)\n",
      "n = 200 : Ttest_indResult(statistic=-3.9604543771023493, pvalue=0.00010570475107898151)\n",
      "n = 1000 : Ttest_indResult(statistic=-4.126283041085054, pvalue=5.7340155579434755e-05)\n"
     ]
    }
   ],
   "source": [
    "print(\"Crossentropy:\")\n",
    "for i in range(3):\n",
    "    print('n =',list_n[i],':',ttest_ind(list_crossentropy_s_rho01[i],list_crossentropy_ns_rho01[i]))\n",
    "print(\"AIC:\")\n",
    "for i in range(3):\n",
    "    print('n =',list_n[i],':',ttest_ind(2*8-2*np.array(list_ll_s_rho01[i]),2*7-2*np.array(list_ll_ns_rho01[i])))\n",
    "print(\"RMSE:\")\n",
    "for i in range(3):\n",
    "    print('n =',list_n[i],':',ttest_ind(list_rmse_s_rho01[i],list_rmse_ns_rho01[i]))\n",
    "print(\"R2:\")\n",
    "for i in range(3):\n",
    "    print('n =',list_n[i],':',ttest_ind(list_r2_s_rho01[i],list_r2_ns_rho01[i]))"
   ]
  },
  {
   "cell_type": "markdown",
   "metadata": {},
   "source": [
    "## rho=0.5"
   ]
  },
  {
   "cell_type": "code",
   "execution_count": 81,
   "metadata": {},
   "outputs": [
    {
     "name": "stdout",
     "output_type": "stream",
     "text": [
      "+------------------------------------------------------------------------------------------+\n",
      "|                                         (rho=0.5)                                        |\n",
      "+---------------------+---------------+--------------------+---------------+---------------+\n",
      "|        Model        | Cross-entropy |        AIC         |      RMSE     |       R2      |\n",
      "+---------------------+---------------+--------------------+---------------+---------------+\n",
      "|    Spatial (n=50)   | 0.938 (0.021) | -6801.6 (131.497)  | 0.319 (0.007) | 0.222 (0.034) |\n",
      "|   Spatial (n=200)   | 0.981 (0.383) | -6890.2 (1129.235) | 0.322 (0.029) | 0.202 (0.203) |\n",
      "|   Spatial (n=1000)  | 0.942 (0.033) | -7231.4 (119.867)  |  0.32 (0.011) |  0.22 (0.048) |\n",
      "|  No spatial (n=50)  | 0.933 (0.014) | -6859.8 (123.052)  | 0.317 (0.005) |  0.23 (0.023) |\n",
      "|  No spatial (n=200) | 0.916 (0.012) |  -7259.2 (98.223)  | 0.311 (0.004) | 0.259 (0.014) |\n",
      "| No spatial (n=1000) | 0.906 (0.011) |  -7342.6 (89.265)  | 0.309 (0.004) | 0.271 (0.013) |\n",
      "+---------------------+---------------+--------------------+---------------+---------------+\n"
     ]
    }
   ],
   "source": [
    "columns_names = ['Model','Cross-entropy','AIC','RMSE','R2']\n",
    "pt = PrettyTable(columns_names)\n",
    "pt.title = ' (rho=0.5)'\n",
    "\n",
    "names_models_spatial = ['Spatial (n=50)','Spatial (n=200)','Spatial (n=1000)']\n",
    "for i in range(3):\n",
    "    pt.add_row([names_models_spatial[i], \n",
    "                str(np.round(np.mean(list_crossentropy_s_rho05[i]),3))+' ('+ str(np.round(np.std(list_crossentropy_s_rho05[i]),3)) +')',\n",
    "               str(2*8-2*np.round(np.mean(list_ll_s_rho05[i]),1))+' ('+ str(np.round(np.std(list_ll_s_rho05[i]),3)) +')',\n",
    "               str(np.round(np.mean(list_rmse_s_rho05[i]),3))+' ('+ str(np.round(np.std(list_rmse_s_rho05[i]),3)) +')',\n",
    "               str(np.round(np.mean(list_r2_s_rho05[i]),3))+' ('+ str(np.round(np.std(list_r2_s_rho05[i]),3)) +')'])\n",
    "\n",
    "names_models_no_spatial = ['No spatial (n=50)','No spatial (n=200)','No spatial (n=1000)']\n",
    "for i in range(3):\n",
    "    pt.add_row([names_models_no_spatial[i], \n",
    "                str(np.round(np.mean(list_crossentropy_ns_rho05[i]),3))+' ('+ str(np.round(np.std(list_crossentropy_ns_rho05[i]),3)) +')',\n",
    "               str(2*7-2*np.round(np.mean(list_ll_ns_rho05[i]),1))+' ('+ str(np.round(np.std(list_ll_ns_rho05[i]),3)) +')',\n",
    "               str(np.round(np.mean(list_rmse_ns_rho05[i]),3))+' ('+ str(np.round(np.std(list_rmse_ns_rho05[i]),3)) +')',\n",
    "               str(np.round(np.mean(list_r2_ns_rho05[i]),3))+' ('+ str(np.round(np.std(list_r2_ns_rho05[i]),3)) +')'])\n",
    "\n",
    "print(pt)"
   ]
  },
  {
   "cell_type": "markdown",
   "metadata": {},
   "source": [
    "### Are the differences significant ?"
   ]
  },
  {
   "cell_type": "code",
   "execution_count": 76,
   "metadata": {},
   "outputs": [
    {
     "name": "stdout",
     "output_type": "stream",
     "text": [
      "Crossentropy:\n",
      "n = 50 : Ttest_indResult(statistic=1.9949628946678348, pvalue=0.047461219847241116)\n",
      "n = 200 : Ttest_indResult(statistic=1.6339229587649136, pvalue=0.10396649403731979)\n",
      "n = 1000 : Ttest_indResult(statistic=9.525447524690174, pvalue=1.5375600559820565e-17)\n",
      "AIC:\n",
      "n = 50 : Ttest_indResult(statistic=1.585151029564151, pvalue=0.11457766164534434)\n",
      "n = 200 : Ttest_indResult(statistic=1.5702064973384642, pvalue=0.11806666252647041)\n",
      "n = 1000 : Ttest_indResult(statistic=3.445539012449353, pvalue=0.0007161627353361512)\n",
      "RMSE:\n",
      "n = 50 : Ttest_indResult(statistic=1.8399377043139304, pvalue=0.0673212222720747)\n",
      "n = 200 : Ttest_indResult(statistic=3.542915816553939, pvalue=0.0005003351133082463)\n",
      "n = 1000 : Ttest_indResult(statistic=9.493524187097227, pvalue=1.8800410049971998e-17)\n",
      "R2:\n",
      "n = 50 : Ttest_indResult(statistic=-1.7537043835575714, pvalue=0.08107681832266006)\n",
      "n = 200 : Ttest_indResult(statistic=-2.675354180637494, pvalue=0.008130762590297267)\n",
      "n = 1000 : Ttest_indResult(statistic=-9.508242280817178, pvalue=1.7136117050872874e-17)\n"
     ]
    }
   ],
   "source": [
    "print(\"Crossentropy:\")\n",
    "for i in range(3):\n",
    "    print('n =',list_n[i],':',ttest_ind(list_crossentropy_s_rho05[i],list_crossentropy_ns_rho05[i]))\n",
    "print(\"AIC:\")\n",
    "for i in range(3):\n",
    "    print('n =',list_n[i],':',ttest_ind(2*8-2*np.array(list_ll_s_rho05[i]),2*7-2*np.array(list_ll_ns_rho05[i])))\n",
    "print(\"RMSE:\")\n",
    "for i in range(3):\n",
    "    print('n =',list_n[i],':',ttest_ind(list_rmse_s_rho05[i],list_rmse_ns_rho05[i]))\n",
    "print(\"R2:\")\n",
    "for i in range(3):\n",
    "    print('n =',list_n[i],':',ttest_ind(list_r2_s_rho05[i],list_r2_ns_rho05[i]))"
   ]
  },
  {
   "cell_type": "markdown",
   "metadata": {},
   "source": [
    "## rho=0.9"
   ]
  },
  {
   "cell_type": "code",
   "execution_count": 80,
   "metadata": {},
   "outputs": [
    {
     "name": "stdout",
     "output_type": "stream",
     "text": [
      "+------------------------------------------------------------------------------------------+\n",
      "|                                         (rho=0.9)                                        |\n",
      "+---------------------+---------------+--------------------+---------------+---------------+\n",
      "|        Model        | Cross-entropy |        AIC         |      RMSE     |       R2      |\n",
      "+---------------------+---------------+--------------------+---------------+---------------+\n",
      "|    Spatial (n=50)   |  1.33 (2.883) | -6891.4 (9153.223) | 0.337 (0.064) | 0.187 (0.387) |\n",
      "|   Spatial (n=200)   | 0.897 (0.069) | -10973.4 (232.507) | 0.342 (0.023) | 0.195 (0.097) |\n",
      "|   Spatial (n=1000)  | 0.859 (0.047) | -11337.8 (149.607) | 0.331 (0.016) | 0.247 (0.076) |\n",
      "|  No spatial (n=50)  |  0.798 (0.03) | -10785.8 (236.556) |  0.314 (0.01) |  0.317 (0.04) |\n",
      "|  No spatial (n=200) | 0.798 (0.024) | -11349.2 (166.437) | 0.311 (0.006) | 0.323 (0.033) |\n",
      "| No spatial (n=1000) |  0.789 (0.02) | -11397.2 (130.428) | 0.309 (0.005) | 0.328 (0.032) |\n",
      "+---------------------+---------------+--------------------+---------------+---------------+\n"
     ]
    }
   ],
   "source": [
    "columns_names = ['Model','Cross-entropy','AIC','RMSE','R2']\n",
    "pt = PrettyTable(columns_names)\n",
    "pt.title = ' (rho=0.9)'\n",
    "\n",
    "names_models_spatial = ['Spatial (n=50)','Spatial (n=200)','Spatial (n=1000)']\n",
    "for i in range(3):\n",
    "    pt.add_row([names_models_spatial[i], \n",
    "                str(np.round(np.mean(list_crossentropy_s_rho09[i]),3))+' ('+ str(np.round(np.std(list_crossentropy_s_rho09[i]),3)) +')',\n",
    "               str(2*8-2*np.round(np.mean(list_ll_s_rho09[i]),1))+' ('+ str(np.round(np.std(list_ll_s_rho09[i]),3)) +')',\n",
    "               str(np.round(np.mean(list_rmse_s_rho09[i]),3))+' ('+ str(np.round(np.std(list_rmse_s_rho09[i]),3)) +')',\n",
    "               str(np.round(np.mean(list_r2_s_rho09[i]),3))+' ('+ str(np.round(np.std(list_r2_s_rho09[i]),3)) +')'])\n",
    "\n",
    "names_models_no_spatial = ['No spatial (n=50)','No spatial (n=200)','No spatial (n=1000)']\n",
    "for i in range(3):\n",
    "    pt.add_row([names_models_no_spatial[i], \n",
    "                str(np.round(np.mean(list_crossentropy_ns_rho09[i]),3))+' ('+ str(np.round(np.std(list_crossentropy_ns_rho09[i]),3)) +')',\n",
    "               str(2*7-2*np.round(np.mean(list_ll_ns_rho09[i]),1))+' ('+ str(np.round(np.std(list_ll_ns_rho09[i]),3)) +')',\n",
    "               str(np.round(np.mean(list_rmse_ns_rho09[i]),3))+' ('+ str(np.round(np.std(list_rmse_ns_rho09[i]),3)) +')',\n",
    "               str(np.round(np.mean(list_r2_ns_rho09[i]),3))+' ('+ str(np.round(np.std(list_r2_ns_rho09[i]),3)) +')'])\n",
    "\n",
    "print(pt)"
   ]
  },
  {
   "cell_type": "markdown",
   "metadata": {},
   "source": [
    "### Are the differences significant ?"
   ]
  },
  {
   "cell_type": "code",
   "execution_count": 78,
   "metadata": {},
   "outputs": [
    {
     "name": "stdout",
     "output_type": "stream",
     "text": [
      "Crossentropy:\n",
      "n = 50 : Ttest_indResult(statistic=1.7973578946907518, pvalue=0.07386682012749358)\n",
      "n = 200 : Ttest_indResult(statistic=13.16444310803694, pvalue=1.7878496156216504e-28)\n",
      "n = 1000 : Ttest_indResult(statistic=12.396499534017103, pvalue=2.117828425945094e-25)\n",
      "AIC:\n",
      "n = 50 : Ttest_indResult(statistic=2.072815235497252, pvalue=0.039539003561855364)\n",
      "n = 200 : Ttest_indResult(statistic=6.371753965817999, pvalue=1.4039665141682583e-09)\n",
      "n = 1000 : Ttest_indResult(statistic=1.3655048611820433, pvalue=0.17394190589713002)\n",
      "RMSE:\n",
      "n = 50 : Ttest_indResult(statistic=3.5238580918484654, pvalue=0.0005328033685755596)\n",
      "n = 200 : Ttest_indResult(statistic=12.940514191846919, pvalue=8.357176244355951e-28)\n",
      "n = 1000 : Ttest_indResult(statistic=11.669426346015918, pvalue=2.3370477195495366e-23)\n",
      "R2:\n",
      "n = 50 : Ttest_indResult(statistic=-3.2573493297347342, pvalue=0.001332004362761349)\n",
      "n = 200 : Ttest_indResult(statistic=-11.991386466442355, pvalue=5.65177643399942e-25)\n",
      "n = 1000 : Ttest_indResult(statistic=-8.92507795511661, pvalue=7.983677140864765e-16)\n"
     ]
    }
   ],
   "source": [
    "print(\"Crossentropy:\")\n",
    "for i in range(3):\n",
    "    print('n =',list_n[i],':',ttest_ind(list_crossentropy_s_rho09[i],list_crossentropy_ns_rho09[i]))\n",
    "print(\"AIC:\")\n",
    "for i in range(3):\n",
    "    print('n =',list_n[i],':',ttest_ind(2*8-2*np.array(list_ll_s_rho09[i]),2*7-2*np.array(list_ll_ns_rho09[i])))\n",
    "print(\"RMSE:\")\n",
    "for i in range(3):\n",
    "    print('n =',list_n[i],':',ttest_ind(list_rmse_s_rho09[i],list_rmse_ns_rho09[i]))\n",
    "print(\"R2:\")\n",
    "for i in range(3):\n",
    "    print('n =',list_n[i],':',ttest_ind(list_r2_s_rho09[i],list_r2_ns_rho09[i]))"
   ]
  },
  {
   "cell_type": "code",
   "execution_count": null,
   "metadata": {},
   "outputs": [],
   "source": []
  },
  {
   "cell_type": "markdown",
   "metadata": {},
   "source": [
    "-----\n",
    "# OLD"
   ]
  },
  {
   "cell_type": "code",
   "execution_count": 33,
   "metadata": {},
   "outputs": [],
   "source": [
    "list_results_bias_s = []\n",
    "list_results_var_s = []\n",
    "list_results_rmse_s = []\n",
    "list_results_bias_ns = []\n",
    "list_results_var_ns = []\n",
    "list_results_rmse_ns = []\n",
    "\n",
    "for i in range(3):\n",
    "    list_results_bias_s.append(np.mean(list_solutions_spatial[i],axis=0) - true_params)\n",
    "list_results_var_s.append(np.var(list_solutions_spatial[i],axis=0))\n",
    "    \n",
    "    list_results_bias_ns.append(np.mean(list_solutions_no_spatial[i],axis=0) - true_params[:-1])\n",
    "    list_results_var_ns.append(np.var(list_solutions_no_spatial[i],axis=0))"
   ]
  },
  {
   "cell_type": "code",
   "execution_count": 46,
   "metadata": {},
   "outputs": [
    {
     "name": "stdout",
     "output_type": "stream",
     "text": [
      "+---------------------------------------------------------------------------------------------------------------------------------------+\n",
      "|                                          PARAMETERS WITH SPATIAL (n=50, with 100 repetitions)                                         |\n",
      "+------------+----------------+----------------+----------------+-----------+-----------+-----------+-----------+-----------+-----------+\n",
      "| Parameters | Bias (rho=0.1) | Bias (rho=0.5) | Bias (rho=0.9) | Var (0.1) | Var (0.5) | Var (0.9) | MSE (0.1) | MSE (0.5) | MSE (0.9) |\n",
      "+------------+----------------+----------------+----------------+-----------+-----------+-----------+-----------+-----------+-----------+\n",
      "|   beta01   |     0.568      |     0.754      |      0.86      |    0.48   |   0.324   |   0.207   |   0.803   |   0.893   |   0.947   |\n",
      "|   beta02   |     -0.32      |     -0.424     |     -0.71      |   0.428   |   0.241   |   0.152   |   0.531   |   0.421   |   0.656   |\n",
      "|   beta11   |     -0.553     |     -0.707     |     -0.784     |   0.755   |   0.604   |   0.411   |   1.061   |   1.103   |   1.026   |\n",
      "|   beta12   |     0.502      |      0.72      |     1.048      |   0.693   |   0.398   |   0.213   |   0.945   |   0.917   |   1.311   |\n",
      "|   beta21   |     -0.381     |     -0.581     |     -0.781     |    0.7    |    0.41   |   0.248   |   0.845   |   0.747   |   0.858   |\n",
      "|   beta22   |     0.472      |     0.534      |     0.728      |   0.453   |   0.357   |   0.202   |   0.675   |   0.642   |   0.732   |\n",
      "|   gamma0   |     0.468      |     0.509      |     0.524      |   0.063   |   0.047   |   0.055   |   0.282   |   0.306   |   0.329   |\n",
      "|   gamma1   |     0.507      |     0.517      |     0.576      |   0.049   |   0.063   |   0.058   |   0.306   |   0.331   |    0.39   |\n",
      "|    rho     |     -0.939     |     -0.522     |     -0.196     |   0.497   |   0.262   |   0.069   |   1.378   |   0.535   |   0.107   |\n",
      "+------------+----------------+----------------+----------------+-----------+-----------+-----------+-----------+-----------+-----------+\n"
     ]
    }
   ],
   "source": [
    "pt = PrettyTable()\n",
    "pt.title = 'PARAMETERS WITH SPATIAL (n=50, with 100 repetitions)'\n",
    "columns_names = ['Parameters','Bias (rho=0.1)', 'Var (0.1)', 'MSE (0.1)',\n",
    "                 'Bias (rho=0.5)', 'Var (0.5)', 'MSE (0.5)',\n",
    "                 'Bias (rho=0.9)','Var (0.9)', 'MSE (0.9)']\n",
    "rows_names = ['beta00','beta01','beta02','beta10','beta11','beta12','beta20','beta21','beta22','gamma0','gamma1','rho']\n",
    "pt.add_column(columns_names[0],rows_names)\n",
    "for i in range(len(list_results_bias_s)):\n",
    "    pt.add_column(columns_names[3*i+1],np.round(list_results_bias_s[i],3))\n",
    "for i in range(len(list_results_var_s)):\n",
    "    pt.add_column(columns_names[3*i+2],np.round(list_results_var_s[i],3))\n",
    "for i in range(len(list_results_bias_s)):\n",
    "    pt.add_column(columns_names[3*i+3],np.round(list_results_var_s[i]+list_results_bias_s[i]**2,3))\n",
    "\n",
    "pt.del_row(0)\n",
    "pt.del_row(2)\n",
    "pt.del_row(4)\n",
    "print(pt)"
   ]
  },
  {
   "cell_type": "code",
   "execution_count": 47,
   "metadata": {},
   "outputs": [
    {
     "name": "stdout",
     "output_type": "stream",
     "text": [
      "+---------------------------------------------------------------------------------------------------------------------------------------+\n",
      "|                                        PARAMETERS WITHOUT SPATIAL (n=50, with 100 repetitions)                                        |\n",
      "+------------+----------------+----------------+----------------+-----------+-----------+-----------+-----------+-----------+-----------+\n",
      "| Parameters | Bias (rho=0.1) | Bias (rho=0.5) | Bias (rho=0.9) | Var (0.1) | Var (0.5) | Var (0.9) | MSE (0.1) | MSE (0.5) | MSE (0.9) |\n",
      "+------------+----------------+----------------+----------------+-----------+-----------+-----------+-----------+-----------+-----------+\n",
      "|   beta01   |     0.538      |      0.25      |     -0.152     |   0.166   |   0.137   |   0.452   |   0.456   |   0.199   |   0.475   |\n",
      "|   beta02   |     -0.355     |     -0.128     |     -0.329     |   0.151   |   0.149   |    0.91   |   0.277   |   0.166   |   1.018   |\n",
      "|   beta11   |     -0.519     |     -0.08      |     0.748      |   0.285   |   0.306   |   0.746   |   0.554   |   0.313   |   1.305   |\n",
      "|   beta12   |     0.541      |     0.339      |     0.527      |   0.265   |   0.279   |   0.949   |   0.558   |   0.394   |   1.227   |\n",
      "|   beta21   |     -0.376     |     -0.083     |     0.154      |   0.256   |   0.297   |    0.7    |   0.397   |   0.304   |   0.724   |\n",
      "|   beta22   |     0.499      |     0.269      |     0.212      |   0.166   |   0.253   |   0.859   |   0.415   |   0.326   |   0.904   |\n",
      "|   gamma0   |     0.461      |     0.498      |     0.476      |   0.061   |   0.047   |   0.043   |   0.274   |   0.296   |   0.269   |\n",
      "|   gamma1   |     0.505      |     0.514      |     0.524      |   0.048   |   0.065   |   0.051   |   0.303   |   0.329   |   0.325   |\n",
      "+------------+----------------+----------------+----------------+-----------+-----------+-----------+-----------+-----------+-----------+\n"
     ]
    }
   ],
   "source": [
    "pt = PrettyTable()\n",
    "pt.title = 'PARAMETERS WITHOUT SPATIAL (n=50, with 100 repetitions)'\n",
    "columns_names = ['Parameters','Bias (rho=0.1)', 'Var (0.1)', 'MSE (0.1)',\n",
    "                 'Bias (rho=0.5)', 'Var (0.5)', 'MSE (0.5)',\n",
    "                 'Bias (rho=0.9)','Var (0.9)', 'MSE (0.9)']\n",
    "rows_names = ['beta00','beta01','beta02','beta10','beta11','beta12','beta20','beta21','beta22','gamma0','gamma1']\n",
    "pt.add_column(columns_names[0],rows_names)\n",
    "for i in range(len(list_results_bias_ns)):\n",
    "    pt.add_column(columns_names[3*i+1],np.round(list_results_bias_ns[i],3))\n",
    "for i in range(len(list_results_var_ns)):\n",
    "    pt.add_column(columns_names[3*i+2],np.round(list_results_var_ns[i],3))\n",
    "for i in range(len(list_results_bias_ns)):\n",
    "    pt.add_column(columns_names[3*i+3],np.round(list_results_var_ns[i]+list_results_bias_ns[i]**2,3))\n",
    "\n",
    "pt.del_row(0)\n",
    "pt.del_row(2)\n",
    "pt.del_row(4)\n",
    "print(pt)"
   ]
  },
  {
   "cell_type": "markdown",
   "metadata": {},
   "source": [
    "### n=200"
   ]
  },
  {
   "cell_type": "code",
   "execution_count": 21,
   "metadata": {},
   "outputs": [
    {
     "name": "stderr",
     "output_type": "stream",
     "text": [
      "C:\\Users\\tnguyen001\\Documents\\GitHub\\maupiti\\dirichlet_regression.py:79: RuntimeWarning: overflow encountered in exp\n",
      "  mu[i,j] = 1/np.sum(np.exp(MXbeta[i]-MXbeta[i,j]))\n",
      "C:\\Users\\tnguyen001\\Documents\\GitHub\\maupiti\\dirichlet_regression.py:105: RuntimeWarning: invalid value encountered in multiply\n",
      "  sum_mu_digamma_phi_mu = np.sum(mu[i] * digamma_phi_mu)\n",
      "C:\\Users\\tnguyen001\\Documents\\GitHub\\maupiti\\dirichlet_regression.py:119: RuntimeWarning: invalid value encountered in multiply\n",
      "  derivative_gamma += Z[i,:]*phi[i]*( digamma(phi[i])+np.sum( mu[i]*(np.log(Y[i]+epsilon)-digamma(phi[i]*mu[i])) ) )\n",
      "C:\\Users\\tnguyen001\\Documents\\GitHub\\maupiti\\dirichlet_regression.py:268: RuntimeWarning: invalid value encountered in multiply\n",
      "  sum_i += phi[i]*np.sum( mu[i]*( np.log(Y[i]+epsilon)*(U[i]-sum_omega) - U[i]*(digamma_alpha-np.sum(mu[i]*digamma_alpha)) ) )\n"
     ]
    },
    {
     "name": "stdout",
     "output_type": "stream",
     "text": [
      "Wall time: 7min 43s\n"
     ]
    }
   ],
   "source": [
    "%%time\n",
    "n_samples = 200\n",
    "n_repeat = 100\n",
    "list_rhos = [0.1, 0.5, 0.9]\n",
    "\n",
    "list_solutions_spatial_200 = []\n",
    "list_solutions_no_spatial_200 = []\n",
    "\n",
    "seed=0\n",
    "\n",
    "for rho in list_rhos:\n",
    "    true_params = np.concatenate([beta.flatten(),gamma_var, [rho]])\n",
    "    \n",
    "    solutions_spatial_temp = []\n",
    "    solutions_no_spatial_temp = []\n",
    "    for _ in range(n_repeat):\n",
    "        np.random.seed(seed)\n",
    "        \n",
    "        X,Z,W = create_features_matrices(n_samples,n_features)\n",
    "        try:\n",
    "            mu = dirichlet_regression.compute_mu_spatial(X, beta, rho, W)\n",
    "            phi = np.exp(np.matmul(Z,gamma_var))\n",
    "            alpha = mu*phi[:,None]\n",
    "\n",
    "            Y = np.array([np.random.dirichlet(alpha_i) for alpha_i in alpha])\n",
    "            Y = (Y*(n_samples-1)+1/n_classes)/n_samples\n",
    "\n",
    "            solution_spatial = minimize(f_spatial, params0_spatial, args=(X, Y, Z, W), bounds=bounds_1, jac=fprime_spatial)\n",
    "            solutions_spatial_temp.append(solution_spatial.x)\n",
    "\n",
    "            solution_no_spatial = minimize(f_no_spatial, params0_no_spatial, args=(X, Y, Z), jac=fprime_no_spatial)\n",
    "            solutions_no_spatial_temp.append(solution_no_spatial.x)\n",
    "        except RuntimeError:\n",
    "            print(\"Factor is exactly singular\")\n",
    "        except np.linalg.LinAlgError:\n",
    "            print(\"Singular matrix\")\n",
    "        \n",
    "        seed+=1\n",
    "    list_solutions_spatial_200.append(solutions_spatial_temp)\n",
    "    list_solutions_no_spatial_200.append(solutions_no_spatial_temp)\n",
    "    "
   ]
  },
  {
   "cell_type": "code",
   "execution_count": 24,
   "metadata": {},
   "outputs": [
    {
     "data": {
      "text/plain": [
       "0.1582240833067333"
      ]
     },
     "execution_count": 24,
     "metadata": {},
     "output_type": "execute_result"
    }
   ],
   "source": [
    "np.mean(np.array(list_solutions_spatial_200[0])[:,-1])"
   ]
  },
  {
   "cell_type": "code",
   "execution_count": 26,
   "metadata": {},
   "outputs": [
    {
     "data": {
      "text/plain": [
       "0.6803015149848401"
      ]
     },
     "execution_count": 26,
     "metadata": {},
     "output_type": "execute_result"
    }
   ],
   "source": [
    "np.mean(np.array(list_solutions_spatial_200[1])[:,-1])"
   ]
  },
  {
   "cell_type": "code",
   "execution_count": 25,
   "metadata": {},
   "outputs": [
    {
     "data": {
      "text/plain": [
       "0.7232303397569315"
      ]
     },
     "execution_count": 25,
     "metadata": {},
     "output_type": "execute_result"
    }
   ],
   "source": [
    "np.mean(np.array(list_solutions_spatial_200[2])[:,-1])"
   ]
  },
  {
   "cell_type": "code",
   "execution_count": 48,
   "metadata": {},
   "outputs": [],
   "source": [
    "list_results_bias_s = []\n",
    "list_results_var_s = []\n",
    "list_results_rmse_s = []\n",
    "list_results_bias_ns = []\n",
    "list_results_var_ns = []\n",
    "list_results_rmse_ns = []\n",
    "\n",
    "for i in range(3):\n",
    "    list_results_bias_s.append(np.mean(list_solutions_spatial_200[i],axis=0) - true_params)\n",
    "    list_results_var_s.append(np.var(list_solutions_spatial_200[i],axis=0))\n",
    "    \n",
    "    list_results_bias_ns.append(np.mean(list_solutions_no_spatial_200[i],axis=0) - true_params[:-1])\n",
    "    list_results_var_ns.append(np.var(list_solutions_no_spatial_200[i],axis=0))"
   ]
  },
  {
   "cell_type": "code",
   "execution_count": 51,
   "metadata": {},
   "outputs": [
    {
     "name": "stdout",
     "output_type": "stream",
     "text": [
      "+---------------------------------------------------------------------------------------------------------------------------------------+\n",
      "|                                         PARAMETERS WITH SPATIAL (n=200, with 100 repetitions)                                         |\n",
      "+------------+----------------+----------------+----------------+-----------+-----------+-----------+-----------+-----------+-----------+\n",
      "| Parameters | Bias (rho=0.1) | Bias (rho=0.5) | Bias (rho=0.9) | Var (0.1) | Var (0.5) | Var (0.9) | MSE (0.1) | MSE (0.5) | MSE (0.9) |\n",
      "+------------+----------------+----------------+----------------+-----------+-----------+-----------+-----------+-----------+-----------+\n",
      "|   beta01   |     0.646      |     0.954      |     0.785      |   0.303   |   0.121   |   0.193   |    0.72   |    1.03   |   0.809   |\n",
      "|   beta02   |     -0.425     |     -0.631     |     -0.853     |   0.145   |   0.038   |   0.034   |   0.326   |   0.436   |   0.761   |\n",
      "|   beta11   |     -0.658     |     -1.012     |     -0.723     |   0.467   |   0.185   |   0.332   |    0.9    |   1.209   |   0.855   |\n",
      "|   beta12   |     0.643      |     0.935      |     1.174      |    0.21   |   0.065   |   0.044   |   0.624   |    0.94   |   1.421   |\n",
      "|   beta21   |     -0.516     |     -0.807     |     -0.756     |   0.306   |   0.114   |   0.131   |   0.572   |   0.765   |   0.703   |\n",
      "|   beta22   |     0.521      |     0.757      |     0.824      |   0.174   |   0.047   |   0.047   |   0.446   |   0.619   |   0.727   |\n",
      "|   gamma0   |     0.269      |     0.302      |     0.199      |   0.011   |   0.011   |   0.014   |   0.084   |   0.102   |   0.053   |\n",
      "|   gamma1   |     0.311      |      0.32      |     0.265      |    0.01   |   0.008   |   0.011   |   0.107   |   0.111   |   0.081   |\n",
      "|    rho     |     -0.742     |     -0.22      |     -0.177     |    0.32   |   0.064   |   0.055   |    0.87   |   0.112   |   0.086   |\n",
      "+------------+----------------+----------------+----------------+-----------+-----------+-----------+-----------+-----------+-----------+\n"
     ]
    }
   ],
   "source": [
    "pt = PrettyTable()\n",
    "pt.title = 'PARAMETERS WITH SPATIAL (n=200, with 100 repetitions)'\n",
    "columns_names = ['Parameters','Bias (rho=0.1)', 'Var (0.1)', 'MSE (0.1)',\n",
    "                 'Bias (rho=0.5)', 'Var (0.5)', 'MSE (0.5)',\n",
    "                 'Bias (rho=0.9)','Var (0.9)', 'MSE (0.9)']\n",
    "rows_names = ['beta00','beta01','beta02','beta10','beta11','beta12','beta20','beta21','beta22','gamma0','gamma1','rho']\n",
    "pt.add_column(columns_names[0],rows_names)\n",
    "for i in range(len(list_results_bias_s)):\n",
    "    pt.add_column(columns_names[3*i+1],np.round(list_results_bias_s[i],3))\n",
    "for i in range(len(list_results_var_s)):\n",
    "    pt.add_column(columns_names[3*i+2],np.round(list_results_var_s[i],3))\n",
    "for i in range(len(list_results_bias_s)):\n",
    "    pt.add_column(columns_names[3*i+3],np.round(list_results_var_s[i]+list_results_bias_s[i]**2,3))\n",
    "\n",
    "pt.del_row(0)\n",
    "pt.del_row(2)\n",
    "pt.del_row(4)\n",
    "print(pt)"
   ]
  },
  {
   "cell_type": "code",
   "execution_count": 50,
   "metadata": {},
   "outputs": [
    {
     "name": "stdout",
     "output_type": "stream",
     "text": [
      "+---------------------------------------------------------------------------------------------------------------------------------------+\n",
      "|                                        PARAMETERS WITHOUT SPATIAL (n=200, with 100 repetitions)                                       |\n",
      "+------------+----------------+----------------+----------------+-----------+-----------+-----------+-----------+-----------+-----------+\n",
      "| Parameters | Bias (rho=0.1) | Bias (rho=0.5) | Bias (rho=0.9) | Var (0.1) | Var (0.5) | Var (0.9) | MSE (0.1) | MSE (0.5) | MSE (0.9) |\n",
      "+------------+----------------+----------------+----------------+-----------+-----------+-----------+-----------+-----------+-----------+\n",
      "|   beta01   |     0.484      |     0.127      |     -0.439     |   0.041   |   0.031   |   0.075   |   0.275   |   0.047   |   0.268   |\n",
      "|   beta02   |     -0.313     |     -0.12      |     -0.612     |   0.055   |   0.037   |   0.199   |   0.152   |   0.052   |   0.573   |\n",
      "|   beta11   |     -0.47      |     0.054      |     1.008      |   0.073   |   0.059   |   0.132   |   0.294   |   0.062   |   1.149   |\n",
      "|   beta12   |     0.489      |     0.258      |     0.722      |    0.07   |   0.062   |   0.182   |   0.309   |   0.129   |   0.704   |\n",
      "|   beta21   |     -0.362     |     -0.003     |     0.309      |   0.082   |   0.055   |   0.105   |   0.213   |   0.055   |   0.201   |\n",
      "|   beta22   |     0.417      |     0.265      |     0.302      |   0.067   |    0.06   |   0.194   |   0.241   |   0.131   |   0.285   |\n",
      "|   gamma0   |     0.271      |     0.294      |     0.186      |    0.01   |    0.01   |   0.009   |   0.084   |   0.096   |   0.043   |\n",
      "|   gamma1   |     0.308      |     0.317      |     0.255      |    0.01   |   0.007   |   0.008   |   0.105   |   0.108   |   0.073   |\n",
      "+------------+----------------+----------------+----------------+-----------+-----------+-----------+-----------+-----------+-----------+\n"
     ]
    }
   ],
   "source": [
    "pt = PrettyTable()\n",
    "pt.title = 'PARAMETERS WITHOUT SPATIAL (n=200, with 100 repetitions)'\n",
    "columns_names = ['Parameters','Bias (rho=0.1)', 'Var (0.1)', 'MSE (0.1)',\n",
    "                 'Bias (rho=0.5)', 'Var (0.5)', 'MSE (0.5)',\n",
    "                 'Bias (rho=0.9)','Var (0.9)', 'MSE (0.9)']\n",
    "rows_names = ['beta00','beta01','beta02','beta10','beta11','beta12','beta20','beta21','beta22','gamma0','gamma1']\n",
    "pt.add_column(columns_names[0],rows_names)\n",
    "for i in range(len(list_results_bias_ns)):\n",
    "    pt.add_column(columns_names[3*i+1],np.round(list_results_bias_ns[i],3))\n",
    "for i in range(len(list_results_var_ns)):\n",
    "    pt.add_column(columns_names[3*i+2],np.round(list_results_var_ns[i],3))\n",
    "for i in range(len(list_results_bias_ns)):\n",
    "    pt.add_column(columns_names[3*i+3],np.round(list_results_var_ns[i]+list_results_bias_ns[i]**2,3))\n",
    "\n",
    "pt.del_row(0)\n",
    "pt.del_row(2)\n",
    "pt.del_row(4)\n",
    "print(pt)"
   ]
  },
  {
   "cell_type": "markdown",
   "metadata": {},
   "source": [
    "# OLD TESTS"
   ]
  },
  {
   "cell_type": "code",
   "execution_count": 75,
   "metadata": {},
   "outputs": [],
   "source": [
    "list_n_samples = [50, 100, 500]"
   ]
  },
  {
   "cell_type": "code",
   "execution_count": 76,
   "metadata": {},
   "outputs": [
    {
     "name": "stderr",
     "output_type": "stream",
     "text": [
      "C:\\Users\\tnguyen001\\Documents\\GitHub\\maupiti\\dirichlet_regression.py:78: RuntimeWarning: overflow encountered in exp\n",
      "  mu[i,j] = 1/np.sum(np.exp(MXbeta[i]-MXbeta[i,j]))\n",
      "C:\\Users\\tnguyen001\\Documents\\GitHub\\maupiti\\dirichlet_regression.py:104: RuntimeWarning: invalid value encountered in multiply\n",
      "  sum_mu_digamma_phi_mu = np.sum(mu[i] * digamma_phi_mu)\n",
      "C:\\Users\\tnguyen001\\Documents\\GitHub\\maupiti\\dirichlet_regression.py:118: RuntimeWarning: invalid value encountered in multiply\n",
      "  derivative_gamma += Z[i,:]*phi[i]*( digamma(phi[i])+np.sum( mu[i]*(np.log(Y[i]+epsilon)-digamma(phi[i]*mu[i])) ) )\n",
      "C:\\Users\\tnguyen001\\Documents\\GitHub\\maupiti\\dirichlet_regression.py:267: RuntimeWarning: invalid value encountered in multiply\n",
      "  sum_i += phi[i]*np.sum( mu[i]*( np.log(Y[i]+epsilon)*(U[i]-sum_omega) - U[i]*(digamma_alpha-np.sum(mu[i]*digamma_alpha)) ) )\n",
      "C:\\Users\\tnguyen001\\Documents\\GitHub\\maupiti\\dirichlet_regression.py:78: RuntimeWarning: overflow encountered in exp\n",
      "  mu[i,j] = 1/np.sum(np.exp(MXbeta[i]-MXbeta[i,j]))\n",
      "C:\\Users\\tnguyen001\\Documents\\GitHub\\maupiti\\dirichlet_regression.py:104: RuntimeWarning: invalid value encountered in multiply\n",
      "  sum_mu_digamma_phi_mu = np.sum(mu[i] * digamma_phi_mu)\n",
      "C:\\Users\\tnguyen001\\Documents\\GitHub\\maupiti\\dirichlet_regression.py:118: RuntimeWarning: invalid value encountered in multiply\n",
      "  derivative_gamma += Z[i,:]*phi[i]*( digamma(phi[i])+np.sum( mu[i]*(np.log(Y[i]+epsilon)-digamma(phi[i]*mu[i])) ) )\n",
      "C:\\Users\\tnguyen001\\Documents\\GitHub\\maupiti\\dirichlet_regression.py:267: RuntimeWarning: invalid value encountered in multiply\n",
      "  sum_i += phi[i]*np.sum( mu[i]*( np.log(Y[i]+epsilon)*(U[i]-sum_omega) - U[i]*(digamma_alpha-np.sum(mu[i]*digamma_alpha)) ) )\n",
      "C:\\Users\\tnguyen001\\Documents\\GitHub\\maupiti\\dirichlet_regression.py:78: RuntimeWarning: overflow encountered in exp\n",
      "  mu[i,j] = 1/np.sum(np.exp(MXbeta[i]-MXbeta[i,j]))\n",
      "C:\\Users\\tnguyen001\\Documents\\GitHub\\maupiti\\dirichlet_regression.py:104: RuntimeWarning: invalid value encountered in multiply\n",
      "  sum_mu_digamma_phi_mu = np.sum(mu[i] * digamma_phi_mu)\n",
      "C:\\Users\\tnguyen001\\Documents\\GitHub\\maupiti\\dirichlet_regression.py:118: RuntimeWarning: invalid value encountered in multiply\n",
      "  derivative_gamma += Z[i,:]*phi[i]*( digamma(phi[i])+np.sum( mu[i]*(np.log(Y[i]+epsilon)-digamma(phi[i]*mu[i])) ) )\n",
      "C:\\Users\\tnguyen001\\Documents\\GitHub\\maupiti\\dirichlet_regression.py:267: RuntimeWarning: invalid value encountered in multiply\n",
      "  sum_i += phi[i]*np.sum( mu[i]*( np.log(Y[i]+epsilon)*(U[i]-sum_omega) - U[i]*(digamma_alpha-np.sum(mu[i]*digamma_alpha)) ) )\n",
      "C:\\Users\\tnguyen001\\Documents\\GitHub\\maupiti\\dirichlet_regression.py:78: RuntimeWarning: overflow encountered in exp\n",
      "  mu[i,j] = 1/np.sum(np.exp(MXbeta[i]-MXbeta[i,j]))\n",
      "C:\\Users\\tnguyen001\\Documents\\GitHub\\maupiti\\dirichlet_regression.py:104: RuntimeWarning: invalid value encountered in multiply\n",
      "  sum_mu_digamma_phi_mu = np.sum(mu[i] * digamma_phi_mu)\n",
      "C:\\Users\\tnguyen001\\Documents\\GitHub\\maupiti\\dirichlet_regression.py:118: RuntimeWarning: invalid value encountered in multiply\n",
      "  derivative_gamma += Z[i,:]*phi[i]*( digamma(phi[i])+np.sum( mu[i]*(np.log(Y[i]+epsilon)-digamma(phi[i]*mu[i])) ) )\n",
      "C:\\Users\\tnguyen001\\Documents\\GitHub\\maupiti\\dirichlet_regression.py:267: RuntimeWarning: invalid value encountered in multiply\n",
      "  sum_i += phi[i]*np.sum( mu[i]*( np.log(Y[i]+epsilon)*(U[i]-sum_omega) - U[i]*(digamma_alpha-np.sum(mu[i]*digamma_alpha)) ) )\n"
     ]
    },
    {
     "name": "stdout",
     "output_type": "stream",
     "text": [
      "Wall time: 5min 29s\n"
     ]
    }
   ],
   "source": [
    "%%time\n",
    "seed=0\n",
    "n_repeat = 10\n",
    "list_solutions_spatial = []\n",
    "list_solutions_no_spatial = []\n",
    "for n_samples in list_n_samples:\n",
    "    X,Z,W = create_features_matrices(n_samples,n_features)\n",
    "    mu = dirichlet_regression.compute_mu_spatial(X, beta, rho, W)\n",
    "    phi = np.exp(np.matmul(Z,gamma_var))\n",
    "    alpha = mu*phi[:,None]\n",
    "    \n",
    "    solutions_spatial_temp = []\n",
    "    solutions_no_spatial_temp = []\n",
    "    for _ in range(n_repeat):\n",
    "        np.random.seed(seed)\n",
    "        \n",
    "        Y = np.array([np.random.dirichlet(alpha_i) for alpha_i in alpha])\n",
    "    \n",
    "        solution_spatial = minimize(f_spatial, params0_spatial, args=(X, Y, Z, W), bounds=bounds_1, jac=fprime_spatial)\n",
    "        solutions_spatial_temp.append(solution_spatial.x)\n",
    "        \n",
    "        solution_no_spatial = minimize(f_no_spatial, params0_no_spatial, args=(X, Y, Z), jac=fprime_no_spatial)\n",
    "        solutions_no_spatial_temp.append(solution_no_spatial.x)\n",
    "        \n",
    "        seed+=1\n",
    "    list_solutions_spatial.append(solutions_spatial_temp)\n",
    "    list_solutions_no_spatial.append(solutions_no_spatial_temp)"
   ]
  },
  {
   "cell_type": "code",
   "execution_count": 77,
   "metadata": {},
   "outputs": [],
   "source": [
    "list_results_bias_s = []\n",
    "list_results_var_s = []\n",
    "list_results_rmse_s = []\n",
    "list_results_bias_ns = []\n",
    "list_results_var_ns = []\n",
    "list_results_rmse_ns = []\n",
    "\n",
    "for i in range(len(list_n_samples)):\n",
    "    list_results_bias_s.append(np.mean(list_solutions_spatial[i],axis=0) - true_params)\n",
    "    list_results_var_s.append(np.var(list_solutions_spatial[i],axis=0))\n",
    "    \n",
    "    list_results_bias_ns.append(np.mean(list_solutions_no_spatial[i],axis=0) - true_params[:-1])\n",
    "    list_results_var_ns.append(np.var(list_solutions_no_spatial[i],axis=0))"
   ]
  },
  {
   "cell_type": "code",
   "execution_count": 78,
   "metadata": {},
   "outputs": [
    {
     "name": "stdout",
     "output_type": "stream",
     "text": [
      "+-------------------------------------------------------------------------+\n",
      "|                 PARAMETERS WITH SPATIAL (10 repetitions)                |\n",
      "+------------+---------+----------+----------+--------+---------+---------+\n",
      "| Parameters | Bias 50 | Bias 100 | Bias 500 | Var 50 | Var 100 | Var 500 |\n",
      "+------------+---------+----------+----------+--------+---------+---------+\n",
      "|   beta01   |  0.378  |  0.089   |  0.055   | 0.173  |  0.305  |  0.026  |\n",
      "|   beta02   |  -0.14  |  -0.33   |  -0.155  | 0.405  |  0.101  |  0.052  |\n",
      "|   beta11   |  -0.112 |  0.072   |  0.029   | 0.314  |  0.258  |  0.027  |\n",
      "|   beta12   |  -0.042 |  0.173   |  0.021   | 0.375  |  0.334  |  0.064  |\n",
      "|   beta21   |  -0.19  |  0.246   |  0.133   | 0.342  |   0.09  |  0.019  |\n",
      "|   beta22   |  0.024  |  0.147   |   0.05   | 0.873  |  0.177  |  0.033  |\n",
      "|   gamma0   |  0.003  |  0.063   |  0.013   | 0.049  |  0.048  |  0.013  |\n",
      "|   gamma1   |  0.047  |  0.031   |  -0.023  | 0.089  |  0.028  |   0.01  |\n",
      "|    rho     |  -0.166 |  -0.19   |  -0.132  | 0.062  |  0.081  |  0.044  |\n",
      "+------------+---------+----------+----------+--------+---------+---------+\n"
     ]
    }
   ],
   "source": [
    "pt = PrettyTable()\n",
    "pt.title = 'PARAMETERS WITH SPATIAL (10 repetitions)'\n",
    "columns_names = ['Parameters','Bias 50', 'Bias 100', 'Bias 500', 'Var 50', 'Var 100', 'Var 500']\n",
    "rows_names = ['beta00','beta01','beta02','beta10','beta11','beta12','beta20','beta21','beta22','gamma0','gamma1','rho']\n",
    "pt.add_column(columns_names[0],rows_names)\n",
    "for i in range(len(list_results_bias_s)):\n",
    "    pt.add_column(columns_names[i+1],np.round(list_results_bias_s[i],3))\n",
    "for i in range(len(list_results_var_s)):\n",
    "    pt.add_column(columns_names[i+4],np.round(list_results_var_s[i],3))\n",
    "\n",
    "pt.del_row(0)\n",
    "pt.del_row(2)\n",
    "pt.del_row(4)\n",
    "print(pt)"
   ]
  },
  {
   "cell_type": "code",
   "execution_count": 79,
   "metadata": {},
   "outputs": [
    {
     "name": "stdout",
     "output_type": "stream",
     "text": [
      "+-------------------------------------------------------------------------+\n",
      "|               PARAMETERS WITHOUT SPATIAL (10 repetitions)               |\n",
      "+------------+---------+----------+----------+--------+---------+---------+\n",
      "| Parameters | Bias 50 | Bias 100 | Bias 500 | Var 50 | Var 100 | Var 500 |\n",
      "+------------+---------+----------+----------+--------+---------+---------+\n",
      "|   beta01   |  0.675  |  0.327   |   0.26   | 0.328  |  0.195  |  0.009  |\n",
      "|   beta02   |  -0.469 |  -0.534  |  -0.307  | 0.232  |  0.214  |  0.026  |\n",
      "|   beta11   |  -0.013 |  0.104   |  0.115   | 0.375  |  0.325  |  0.028  |\n",
      "|   beta12   |  0.047  |  0.212   |  -0.072  | 0.307  |  0.338  |  0.088  |\n",
      "|   beta21   |  -0.137 |  0.199   |  0.183   | 0.338  |  0.087  |  0.025  |\n",
      "|   beta22   |  0.051  |  0.126   |  -0.007  | 0.966  |  0.151  |  0.036  |\n",
      "|   gamma0   |   0.01  |  0.006   |  0.007   | 0.048  |  0.033  |  0.009  |\n",
      "|   gamma1   |  0.029  |  0.056   |  -0.045  | 0.086  |  0.028  |   0.01  |\n",
      "+------------+---------+----------+----------+--------+---------+---------+\n"
     ]
    }
   ],
   "source": [
    "pt = PrettyTable()\n",
    "pt.title = 'PARAMETERS WITHOUT SPATIAL (10 repetitions)'\n",
    "columns_names = ['Parameters','Bias 50', 'Bias 100', 'Bias 500', 'Var 50', 'Var 100', 'Var 500']\n",
    "rows_names = ['beta00','beta01','beta02','beta10','beta11','beta12','beta20','beta21','beta22','gamma0','gamma1']\n",
    "pt.add_column(columns_names[0],rows_names)\n",
    "for i in range(len(list_results_bias_ns)):\n",
    "    pt.add_column(columns_names[i+1],np.round(list_results_bias_ns[i],3))\n",
    "for i in range(len(list_results_var_ns)):\n",
    "    pt.add_column(columns_names[i+4],np.round(list_results_var_ns[i],3))\n",
    "\n",
    "pt.del_row(0)\n",
    "pt.del_row(2)\n",
    "pt.del_row(4)\n",
    "print(pt)"
   ]
  },
  {
   "cell_type": "code",
   "execution_count": null,
   "metadata": {},
   "outputs": [],
   "source": []
  }
 ],
 "metadata": {
  "kernelspec": {
   "display_name": "Python 3",
   "language": "python",
   "name": "python3"
  },
  "language_info": {
   "codemirror_mode": {
    "name": "ipython",
    "version": 3
   },
   "file_extension": ".py",
   "mimetype": "text/x-python",
   "name": "python",
   "nbconvert_exporter": "python",
   "pygments_lexer": "ipython3",
   "version": "3.8.5"
  }
 },
 "nbformat": 4,
 "nbformat_minor": 4
}
